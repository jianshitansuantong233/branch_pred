{
  "cells": [
    {
      "cell_type": "code",
      "execution_count": 155,
      "metadata": {
        "id": "jTkq1-jf_djo"
      },
      "outputs": [],
      "source": [
        "from __future__ import print_function, division\n",
        "import os\n",
        "import torch\n",
        "import torch.nn as nn\n",
        "import torch.optim as optim\n",
        "from torch.autograd import Variable\n",
        "import pandas as pd\n",
        "from skimage import io, transform\n",
        "import numpy as np\n",
        "import matplotlib.pyplot as plt\n",
        "from torch.utils.data import Dataset, DataLoader\n",
        "from torchvision import transforms, utils\n",
        "\n",
        "# Ignore warnings\n",
        "import warnings\n",
        "warnings.filterwarnings(\"ignore\")\n",
        "from tqdm import tqdm"
      ]
    },
    {
      "cell_type": "code",
      "execution_count": 156,
      "metadata": {
        "colab": {
          "base_uri": "https://localhost:8080/",
          "height": 346
        },
        "id": "Ou1e-5kqHjJv",
        "outputId": "fcb1a474-7e5f-46cc-fa6c-cbef97bc3f57"
      },
      "outputs": [
        {
          "output_type": "error",
          "ename": "ValueError",
          "evalue": "ignored",
          "traceback": [
            "\u001b[0;31m---------------------------------------------------------------------------\u001b[0m",
            "\u001b[0;31mValueError\u001b[0m                                Traceback (most recent call last)",
            "\u001b[0;32m<ipython-input-156-b1d62f30ac62>\u001b[0m in \u001b[0;36m<module>\u001b[0;34m()\u001b[0m\n\u001b[1;32m      1\u001b[0m \u001b[0;32mfrom\u001b[0m \u001b[0mgoogle\u001b[0m\u001b[0;34m.\u001b[0m\u001b[0mcolab\u001b[0m \u001b[0;32mimport\u001b[0m \u001b[0mdrive\u001b[0m\u001b[0;34m\u001b[0m\u001b[0;34m\u001b[0m\u001b[0m\n\u001b[0;32m----> 2\u001b[0;31m \u001b[0mdrive\u001b[0m\u001b[0;34m.\u001b[0m\u001b[0mmount\u001b[0m\u001b[0;34m(\u001b[0m\u001b[0;34m'drive'\u001b[0m\u001b[0;34m,\u001b[0m\u001b[0mforce_remount\u001b[0m\u001b[0;34m=\u001b[0m\u001b[0;32mFalse\u001b[0m\u001b[0;34m)\u001b[0m\u001b[0;34m\u001b[0m\u001b[0;34m\u001b[0m\u001b[0m\n\u001b[0m",
            "\u001b[0;32m/usr/local/lib/python3.7/dist-packages/google/colab/drive.py\u001b[0m in \u001b[0;36mmount\u001b[0;34m(mountpoint, force_remount, timeout_ms)\u001b[0m\n\u001b[1;32m    107\u001b[0m       \u001b[0mforce_remount\u001b[0m\u001b[0;34m=\u001b[0m\u001b[0mforce_remount\u001b[0m\u001b[0;34m,\u001b[0m\u001b[0;34m\u001b[0m\u001b[0;34m\u001b[0m\u001b[0m\n\u001b[1;32m    108\u001b[0m       \u001b[0mtimeout_ms\u001b[0m\u001b[0;34m=\u001b[0m\u001b[0mtimeout_ms\u001b[0m\u001b[0;34m,\u001b[0m\u001b[0;34m\u001b[0m\u001b[0;34m\u001b[0m\u001b[0m\n\u001b[0;32m--> 109\u001b[0;31m       ephemeral=True)\n\u001b[0m\u001b[1;32m    110\u001b[0m \u001b[0;34m\u001b[0m\u001b[0m\n\u001b[1;32m    111\u001b[0m \u001b[0;34m\u001b[0m\u001b[0m\n",
            "\u001b[0;32m/usr/local/lib/python3.7/dist-packages/google/colab/drive.py\u001b[0m in \u001b[0;36m_mount\u001b[0;34m(mountpoint, force_remount, timeout_ms, ephemeral)\u001b[0m\n\u001b[1;32m    122\u001b[0m   \u001b[0;32mif\u001b[0m \u001b[0mephemeral\u001b[0m\u001b[0;34m:\u001b[0m\u001b[0;34m\u001b[0m\u001b[0;34m\u001b[0m\u001b[0m\n\u001b[1;32m    123\u001b[0m     _message.blocking_request(\n\u001b[0;32m--> 124\u001b[0;31m         'request_auth', request={'authType': 'dfs_ephemeral'}, timeout_sec=None)\n\u001b[0m\u001b[1;32m    125\u001b[0m \u001b[0;34m\u001b[0m\u001b[0m\n\u001b[1;32m    126\u001b[0m   \u001b[0mmountpoint\u001b[0m \u001b[0;34m=\u001b[0m \u001b[0m_os\u001b[0m\u001b[0;34m.\u001b[0m\u001b[0mpath\u001b[0m\u001b[0;34m.\u001b[0m\u001b[0mexpanduser\u001b[0m\u001b[0;34m(\u001b[0m\u001b[0mmountpoint\u001b[0m\u001b[0;34m)\u001b[0m\u001b[0;34m\u001b[0m\u001b[0;34m\u001b[0m\u001b[0m\n",
            "\u001b[0;31mValueError\u001b[0m: mount failed"
          ]
        }
      ],
      "source": [
        "from google.colab import drive\n",
        "drive.mount('drive',force_remount=False)"
      ]
    },
    {
      "cell_type": "code",
      "execution_count": null,
      "metadata": {
        "id": "0t2XE0oiFKJN"
      },
      "outputs": [],
      "source": [
        "class BrDataset(Dataset):\n",
        "    def __init__(self, csv_file, root_dir, transform=None):\n",
        "        \"\"\"\n",
        "        Args:\n",
        "            csv_file (string): Path to the csv file with annotations.\n",
        "            root_dir (string): Directory with all the images.\n",
        "            transform (callable, optional): Optional transform to be applied\n",
        "                on a sample.\n",
        "        \"\"\"\n",
        "        self.instr = pd.read_csv(csv_file, header=0)\n",
        "        self.root_dir = root_dir\n",
        "        self.transform = transform\n",
        "\n",
        "    def __len__(self):\n",
        "        return len(self.instr)\n",
        "\n",
        "    def __getitem__(self, idx):\n",
        "        pc = self.instr.loc[idx][\"PC\"]\n",
        "        label_if_taken = self.instr.loc[idx][\"branchTaken\"]\n",
        "        br_target = self.instr.loc[idx][\"branchTarget\"]\n",
        "        h1 = self.instr.loc[idx][\"history1\"]\n",
        "        h2 = self.instr.loc[idx][\"history2\"]\n",
        "        h3 = self.instr.loc[idx][\"history3\"]\n",
        "        # nbr_instr_count = self.instr.loc[idx][\"nonBranchInstrCount\"]\n",
        "        # trav_count = self.instr.loc[idx][\"observedTraversCount\"]\n",
        "        if self.transform:\n",
        "            return torch.tensor((pc, br_target)).unsqueeze(0), nn.functional.one_hot(torch.tensor([h1,h2,h3]).long(), 3), label_if_taken\n",
        "        else: \n",
        "        #return torch.tensor((pc, br_target, h1,h2,h3,nbr_instr_count,trav_count)), label_if_taken\n",
        "            return torch.tensor((pc, br_target, h1,h2,h3)).unsqueeze(0), label_if_taken"
      ]
    },
    {
      "cell_type": "code",
      "source": [
        "nn.functional.one_hot(torch.tensor([2,1,1]))"
      ],
      "metadata": {
        "colab": {
          "base_uri": "https://localhost:8080/"
        },
        "id": "FWUi2UPyt3H5",
        "outputId": "a4e51977-a5de-4822-d8bc-2162f79e946a"
      },
      "execution_count": 160,
      "outputs": [
        {
          "output_type": "execute_result",
          "data": {
            "text/plain": [
              "tensor([[0, 0, 1],\n",
              "        [0, 1, 0],\n",
              "        [0, 1, 0]])"
            ]
          },
          "metadata": {},
          "execution_count": 160
        }
      ]
    },
    {
      "cell_type": "code",
      "execution_count": 10,
      "metadata": {
        "colab": {
          "base_uri": "https://localhost:8080/"
        },
        "id": "1GMJ5VP_RUIY",
        "outputId": "3ab84fe8-f24b-4d77-fb49-b1e5a1a9d554"
      },
      "outputs": [
        {
          "output_type": "stream",
          "name": "stdout",
          "text": [
            "/content/drive/MyDrive/Colab Notebooks/CS259/parsed_traces\n"
          ]
        }
      ],
      "source": [
        "%cd /content/drive/MyDrive/'Colab Notebooks'/CS259/parsed_traces"
      ]
    },
    {
      "cell_type": "code",
      "execution_count": 113,
      "metadata": {
        "colab": {
          "base_uri": "https://localhost:8080/",
          "height": 87
        },
        "id": "JXqjKWZNFc9A",
        "outputId": "c1e6d60f-1f5a-4b29-8ddd-b6a54fa7e696"
      },
      "outputs": [
        {
          "output_type": "execute_result",
          "data": {
            "text/plain": [
              "'\\nfor epoch in range(1):  # loop over the dataset multiple times\\n    running_loss = 0.0\\n    for i, data in enumerate(train_loader, 0):\\n        # get the inputs; data is a list of [inputs, labels]\\n        # input is a tuple of features\\n        # todo: should not use float64\\n        inputs, label = data\\n        #print(inputs)\\n        #print(label)\\n'"
            ],
            "application/vnd.google.colaboratory.intrinsic+json": {
              "type": "string"
            }
          },
          "metadata": {},
          "execution_count": 113
        }
      ],
      "source": [
        "csv_file = \"SHORT_MOBILE-1.bt9.trace.gz0.csv\"\n",
        "dir = \"/content/drive/MyDrive/'Colab Notebooks'/CS259/parsed_traces\"\n",
        "branch_dataset_train = BrDataset(csv_file, dir, True)\n",
        "train_loader = DataLoader(branch_dataset_train, batch_size=1, shuffle=False)\n",
        "device = torch.device(\"cuda:0\" if torch.cuda.is_available() else \"cpu\")\n",
        "# in another file:\n",
        "# branch_dataset_test = BrDataset(csv_file, dir)\n",
        "# test_loader = torch.utils.data.DataLoader(trainset, batch_size=batch_size,\n",
        "#                                          shuffle=True, num_workers=2)\n",
        "'''\n",
        "for epoch in range(1):  # loop over the dataset multiple times\n",
        "    running_loss = 0.0\n",
        "    for i, data in enumerate(train_loader, 0):\n",
        "        # get the inputs; data is a list of [inputs, labels]\n",
        "        # input is a tuple of features\n",
        "        # todo: should not use float64\n",
        "        inputs, label = data\n",
        "        #print(inputs)\n",
        "        #print(label)\n",
        "'''"
      ]
    },
    {
      "cell_type": "code",
      "source": [
        "for i, data in enumerate(train_loader, 0):\n",
        "    inputs, h, label = data\n",
        "    print(h)"
      ],
      "metadata": {
        "id": "wxVgs-px8Vlm"
      },
      "execution_count": null,
      "outputs": []
    },
    {
      "cell_type": "code",
      "execution_count": 98,
      "metadata": {
        "id": "h24jsd4Wk4NZ"
      },
      "outputs": [],
      "source": [
        "class Test(nn.Module):\n",
        "  def __init__(self, input_size, hidden_size=128, num_layers=1):\n",
        "    super(Test, self).__init__()\n",
        "    self.num_layers = num_layers #number of layers\n",
        "    self.input_size = input_size #input size\n",
        "    self.hidden_size = hidden_size #hidden state\n",
        "\n",
        "    self.lstm = nn.LSTM(input_size=input_size, hidden_size=hidden_size, num_layers=num_layers, batch_first=True) #lstm\n",
        "    self.batch1 = nn.BatchNorm1d(hidden_size)\n",
        "    #self.fc_alt = nn.Linear(input_size,hidden_size)\n",
        "    self.fc_1 =  nn.Linear(hidden_size, 128) #fully connected 1\n",
        "    self.batch2 = nn.BatchNorm1d(128)\n",
        "    self.fc_2 = nn.Linear(128,256)\n",
        "    self.batch3 = nn.BatchNorm1d(256)\n",
        "    self.fc_3 = nn.Linear(256,128)\n",
        "    self.batch4 = nn.BatchNorm1d(128)\n",
        "    self.fc = nn.Linear(128, 1) #fully connected last layer\n",
        "\n",
        "    self.relu = nn.ReLU()\n",
        "    self.sigmoid = nn.Sigmoid()\n",
        "    \n",
        "  def forward(self,x):\n",
        "    h_0 = torch.zeros(self.num_layers, x.size(0), self.hidden_size).to(device) #hidden state\n",
        "    c_0 = torch.ones(self.num_layers, x.size(0), self.hidden_size).to(device) #internal state\n",
        "    # Propagate input through LSTM\n",
        "    output, (hn, cn) = self.lstm(x, (h_0, c_0)) #lstm with input, hidden, and internal state\n",
        "    hn = hn.view(-1, self.hidden_size) #reshaping the data for Dense layer next\n",
        "    #temp = self.fc_alt(x)\n",
        "    out = self.relu(hn)\n",
        "    out = self.fc_1(out) #first Dense\n",
        "    out = self.relu(out) #relu\n",
        "    out = self.fc_2(out) #first Dense\n",
        "    out = self.relu(out) #relu\n",
        "    out = self.fc_3(out) #first Dense\n",
        "    out = self.relu(out) #relu\n",
        "    out = self.fc(out) #Final Output\n",
        "    out = self.sigmoid(out)\n",
        "    out = out.float()\n",
        "    return out"
      ]
    },
    {
      "cell_type": "code",
      "source": [
        "embedding_sizes = [(3, 2)]"
      ],
      "metadata": {
        "id": "OydRJyZnzXDr"
      },
      "execution_count": 163,
      "outputs": []
    },
    {
      "cell_type": "code",
      "source": [
        "h = nn.functional.one_hot(torch.tensor([2,1,1]))\n",
        "embeddings = nn.ModuleList([nn.Embedding(categories, size) for categories,size in embedding_sizes])\n",
        "embeddings"
      ],
      "metadata": {
        "colab": {
          "base_uri": "https://localhost:8080/"
        },
        "id": "yRAckMO320Fr",
        "outputId": "e63158c0-dc47-4d82-b7e5-3bc7318b500a"
      },
      "execution_count": 164,
      "outputs": [
        {
          "output_type": "execute_result",
          "data": {
            "text/plain": [
              "ModuleList(\n",
              "  (0): Embedding(3, 2)\n",
              ")"
            ]
          },
          "metadata": {},
          "execution_count": 164
        }
      ]
    },
    {
      "cell_type": "code",
      "source": [
        "class Separated(nn.Module):\n",
        "  def __init__(self, input_size, hidden_size=128, num_layers=1, embedding_sizes=embedding_sizes):\n",
        "    super(Separated, self).__init__()\n",
        "    self.num_layers = num_layers #number of layers\n",
        "    self.input_size = input_size #input size\n",
        "    self.hidden_size = hidden_size #hidden state\n",
        "    \n",
        "    self.embeddings = nn.ModuleList([nn.Embedding(categories, size) for categories,size in embedding_sizes])\n",
        "    self.emb_drop = nn.Dropout(0.6)\n",
        "    self.lstm = nn.LSTM(input_size=8, hidden_size=hidden_size, num_layers=num_layers, batch_first=True) #lstm\n",
        "    # self.batch0 = nn.BatchNorm1d(input_size)\n",
        "    self.batch1 = nn.BatchNorm1d(hidden_size)\n",
        "    #self.fc_alt = nn.Linear(input_size,hidden_size)\n",
        "    self.fc_1 =  nn.Linear(8, 128) #fully connected 1\n",
        "    self.batch2 = nn.BatchNorm1d(128)\n",
        "    self.fc_2 = nn.Linear(128,256)\n",
        "    self.batch3 = nn.BatchNorm1d(256)\n",
        "    self.fc_3 = nn.Linear(256,128)\n",
        "    self.batch4 = nn.BatchNorm1d(128)\n",
        "    self.fc = nn.Linear(128, 1) #fully connected last layer\n",
        "    self.drops = nn.Dropout(0.3)\n",
        "    self.relu = nn.ReLU()\n",
        "    self.sigmoid = nn.Sigmoid()\n",
        "    \n",
        "  def forward(self, x_addr, h):\n",
        "    x = [e(h[0][i]) for i,e in enumerate(self.embeddings)]\n",
        "\n",
        "    x = torch.cat(x, 1).reshape(1, -1)\n",
        "\n",
        "    x = self.emb_drop(x)\n",
        "\n",
        "    # addr = self.batch0(x_addr)\n",
        "    # print(x_addr, x)\n",
        "    x = torch.cat([x_addr.squeeze(1), x], 1).unsqueeze(0)\n",
        "    # print(x)\n",
        "\n",
        "    h_0 = torch.zeros(self.num_layers, x.size(0), self.hidden_size).to(device) #hidden state\n",
        "    c_0 = torch.ones(self.num_layers, x.size(0), self.hidden_size).to(device) #internal state\n",
        "    # Propagate input through LSTM\n",
        "    output, (hn, cn) = self.lstm(x, (h_0, c_0)) #lstm with input, hidden, and internal state\n",
        "    hn = hn.view(-1, self.hidden_size) #reshaping the data for Dense layer next\n",
        "    x = self.relu(self.fc_1(x))\n",
        "    x = self.drops(x)\n",
        "    # x = self.batch2(x)\n",
        "    x = self.relu(self.fc_2(x))\n",
        "    x = self.drops(x)\n",
        "    # x = self.batch3(x)\n",
        "    x = self.fc_3(x)\n",
        "    x = self.fc(self.relu(x))\n",
        "    x = self.sigmoid(x)\n",
        "    return x.squeeze(0)"
      ],
      "metadata": {
        "id": "hMbsCLJevB2f"
      },
      "execution_count": 204,
      "outputs": []
    },
    {
      "cell_type": "code",
      "execution_count": 195,
      "metadata": {
        "id": "01n1XubGNGXj"
      },
      "outputs": [],
      "source": [
        "def binary_acc(y_pred, y_test):\n",
        "    y_pred_tag = torch.round(y_pred)\n",
        "    # y_pred_tag = torch.round(torch.sigmoid(y_pred))\n",
        "    # print(torch.sigmoid(y_pred).item(), y_pred_tag)\n",
        "    correct_results_sum = (y_pred_tag == y_test).sum().float()\n",
        "    acc = correct_results_sum/y_test.shape[0]\n",
        "    acc = torch.round(acc * 100)\n",
        "    \n",
        "    return acc"
      ]
    },
    {
      "cell_type": "code",
      "execution_count": 207,
      "metadata": {
        "id": "fl8jIjHdM6_n"
      },
      "outputs": [],
      "source": [
        "learning_rate = 1e-2\n",
        "epochs = 100 # 100\n",
        "input_size=2"
      ]
    },
    {
      "cell_type": "code",
      "execution_count": 205,
      "metadata": {
        "colab": {
          "base_uri": "https://localhost:8080/"
        },
        "id": "i5hF3cvlDKtY",
        "outputId": "2724ba2c-3735-49c7-960e-7933afc113de"
      },
      "outputs": [
        {
          "output_type": "stream",
          "name": "stdout",
          "text": [
            "embeddings.0.weight: torch.Size([3, 2])\n",
            "lstm.weight_ih_l0: torch.Size([512, 8])\n",
            "lstm.weight_hh_l0: torch.Size([512, 128])\n",
            "lstm.bias_ih_l0: torch.Size([512])\n",
            "lstm.bias_hh_l0: torch.Size([512])\n",
            "batch1.weight: torch.Size([128])\n",
            "batch1.bias: torch.Size([128])\n",
            "fc_1.weight: torch.Size([128, 8])\n",
            "fc_1.bias: torch.Size([128])\n",
            "batch2.weight: torch.Size([128])\n",
            "batch2.bias: torch.Size([128])\n",
            "fc_2.weight: torch.Size([256, 128])\n",
            "fc_2.bias: torch.Size([256])\n",
            "batch3.weight: torch.Size([256])\n",
            "batch3.bias: torch.Size([256])\n",
            "fc_3.weight: torch.Size([128, 256])\n",
            "fc_3.bias: torch.Size([128])\n",
            "batch4.weight: torch.Size([128])\n",
            "batch4.bias: torch.Size([128])\n",
            "fc.weight: torch.Size([1, 128])\n",
            "fc.bias: torch.Size([1])\n"
          ]
        }
      ],
      "source": [
        "model = Separated(input_size=input_size)\n",
        "model = model.to(device)\n",
        "for name, para in model.named_parameters():\n",
        "    print('{}: {}'.format(name, para.shape))\n",
        "criterion = nn.BCEWithLogitsLoss()\n",
        "optimizer = optim.SGD(model.parameters(), lr=learning_rate)\n",
        "sum = 0\n"
      ]
    },
    {
      "cell_type": "code",
      "execution_count": null,
      "metadata": {
        "colab": {
          "base_uri": "https://localhost:8080/"
        },
        "id": "wqux2hu4NU3t",
        "outputId": "c5158307-4f1f-495a-9c02-c8f84804a0e3"
      },
      "outputs": [
        {
          "output_type": "stream",
          "name": "stderr",
          "text": [
            "53it [00:00, 260.71it/s]"
          ]
        },
        {
          "output_type": "stream",
          "name": "stdout",
          "text": [
            "0.0: 1.0, 1.0: 0.0, 1.0: 0.0, 1.0: 0.0, 1.0: 0.0, 1.0: 0.0, 1.0: 0.0, 1.0: 0.0, 1.0: 0.0, 1.0: 0.0, 1.0: 0.0, 1.0: 0.0, 1.0: 0.0, 1.0: 0.0, 1.0: 0.0, 1.0: 0.0, 1.0: 0.0, 0.0: 1.0, 0.0: 1.0, 1.0: 0.0, "
          ]
        },
        {
          "output_type": "stream",
          "name": "stderr",
          "text": [
            "107it [00:00, 263.35it/s]"
          ]
        },
        {
          "output_type": "stream",
          "name": "stdout",
          "text": [
            "1.0: 0.0, 1.0: 0.0, 1.0: 0.0, 1.0: 0.0, 1.0: 0.0, 1.0: 0.0, 0.0: 1.0, 1.0: 0.0, 0.0: 1.0, 0.0: 1.0, 0.0: 1.0, 1.0: 0.0, 1.0: 0.0, 1.0: 0.0, 1.0: 0.0, 0.0: 1.0, 1.0: 0.0, "
          ]
        },
        {
          "output_type": "stream",
          "name": "stderr",
          "text": [
            "\r134it [00:00, 256.69it/s]"
          ]
        },
        {
          "output_type": "stream",
          "name": "stdout",
          "text": [
            "0.0: 1.0, 1.0: 0.0, 1.0: 0.0, 1.0: 0.0, 1.0: 0.0, 1.0: 0.0, 1.0: 0.0, 1.0: 0.0, 1.0: 0.0, 0.0: 1.0, 1.0: 0.0, 1.0: 0.0, 1.0: 0.0, 1.0: 0.0, 1.0: 0.0, 1.0: 0.0, 1.0: 0.0, 1.0: 0.0, 1.0: 0.0, 1.0: 0.0, 1.0: 0.0, 1.0: 0.0, 1.0: 0.0, 1.0: 0.0, 0.0: 1.0, 1.0: 0.0, 1.0: 0.0, 1.0: 0.0, 1.0: 0.0, "
          ]
        },
        {
          "output_type": "stream",
          "name": "stderr",
          "text": [
            "212it [00:00, 244.21it/s]"
          ]
        },
        {
          "output_type": "stream",
          "name": "stdout",
          "text": [
            "1.0: 0.0, 1.0: 0.0, 1.0: 0.0, 1.0: 0.0, 1.0: 0.0, 1.0: 0.0, 1.0: 0.0, 1.0: 0.0, 1.0: 0.0, 1.0: 0.0, 1.0: 0.0, 1.0: 0.0, 1.0: 0.0, 1.0: 0.0, 1.0: 0.0, 1.0: 0.0, 1.0: 0.0, 1.0: 0.0, 1.0: 0.0, 1.0: 0.0, 1.0: 0.0, 1.0: 0.0, 1.0: 0.0, 1.0: 0.0, 1.0: 0.0, 1.0: 0.0, 1.0: 0.0, 1.0: 0.0, "
          ]
        },
        {
          "output_type": "stream",
          "name": "stderr",
          "text": [
            "262it [00:01, 168.29it/s]"
          ]
        },
        {
          "output_type": "stream",
          "name": "stdout",
          "text": [
            "1.0: 0.0, 1.0: 0.0, 1.0: 0.0, 1.0: 0.0, 1.0: 0.0, 1.0: 0.0, 1.0: 0.0, 1.0: 0.0, 1.0: 0.0, 0.0: 1.0, 1.0: 0.0, 1.0: 0.0, 1.0: 0.0, 1.0: 0.0, 1.0: 0.0, 0.0: 1.0, 1.0: 0.0, 1.0: 0.0, 1.0: 0.0, 1.0: 0.0, 1.0: 0.0, 1.0: 0.0, 1.0: 0.0, "
          ]
        },
        {
          "output_type": "stream",
          "name": "stderr",
          "text": [
            "312it [00:01, 200.99it/s]"
          ]
        },
        {
          "output_type": "stream",
          "name": "stdout",
          "text": [
            "1.0: 0.0, 1.0: 0.0, 1.0: 0.0, 1.0: 0.0, 1.0: 0.0, 1.0: 0.0, 1.0: 0.0, 1.0: 0.0, 1.0: 0.0, 1.0: 0.0, 1.0: 0.0, 1.0: 0.0, 1.0: 0.0, 1.0: 0.0, 1.0: 0.0, 0.0: 1.0, 1.0: 0.0, 1.0: 0.0, 1.0: 0.0, 1.0: 0.0, 1.0: 0.0, 1.0: 0.0, 1.0: 0.0, 1.0: 0.0, 1.0: 0.0, 1.0: 0.0, 1.0: 0.0, 1.0: 0.0, 1.0: 0.0, 1.0: 0.0, "
          ]
        },
        {
          "output_type": "stream",
          "name": "stderr",
          "text": [
            "361it [00:01, 218.66it/s]"
          ]
        },
        {
          "output_type": "stream",
          "name": "stdout",
          "text": [
            "1.0: 0.0, 1.0: 0.0, 1.0: 0.0, 1.0: 0.0, 1.0: 0.0, 1.0: 0.0, 1.0: 0.0, 1.0: 0.0, 1.0: 0.0, 1.0: 0.0, 1.0: 0.0, 1.0: 0.0, 1.0: 0.0, 1.0: 0.0, 1.0: 0.0, 1.0: 0.0, 0.0: 1.0, 1.0: 0.0, 0.0: 1.0, 1.0: 0.0, 1.0: 0.0, 1.0: 0.0, 1.0: 0.0, 1.0: 0.0, 1.0: 0.0, 1.0: 0.0, 1.0: 0.0, 1.0: 0.0, 1.0: 0.0, 1.0: 0.0, "
          ]
        },
        {
          "output_type": "stream",
          "name": "stderr",
          "text": [
            "\r386it [00:01, 226.61it/s]"
          ]
        },
        {
          "output_type": "stream",
          "name": "stdout",
          "text": [
            "0.0: 1.0, 1.0: 0.0, 1.0: 0.0, 1.0: 0.0, 1.0: 0.0, 1.0: 0.0, 1.0: 0.0, 1.0: 0.0, 1.0: 0.0, 1.0: 0.0, "
          ]
        },
        {
          "output_type": "stream",
          "name": "stderr",
          "text": [
            "\r410it [00:02, 56.89it/s] "
          ]
        },
        {
          "output_type": "stream",
          "name": "stdout",
          "text": [
            "1.0: 0.0, 1.0: 0.0, 1.0: 0.0, 1.0: 0.0, 1.0: 0.0, 1.0: 0.0, 1.0: 0.0, 1.0: 0.0, "
          ]
        },
        {
          "output_type": "stream",
          "name": "stderr",
          "text": [
            "\r428it [00:03, 41.22it/s]"
          ]
        },
        {
          "output_type": "stream",
          "name": "stdout",
          "text": [
            "1.0: 0.0, 1.0: 0.0, 1.0: 0.0, 1.0: 0.0, 1.0: 0.0, 1.0: 0.0, 0.0: 1.0, 1.0: 0.0, 1.0: 0.0, 1.0: 0.0, 1.0: 0.0, "
          ]
        },
        {
          "output_type": "stream",
          "name": "stderr",
          "text": [
            "469it [00:04, 62.46it/s]"
          ]
        },
        {
          "output_type": "stream",
          "name": "stdout",
          "text": [
            "1.0: 0.0, 1.0: 0.0, 1.0: 0.0, 1.0: 0.0, 0.0: 1.0, 1.0: 0.0, 1.0: 0.0, 1.0: 0.0, 1.0: 0.0, 1.0: 0.0, 0.0: 1.0, 0.0: 1.0, 1.0: 0.0, 1.0: 0.0, 1.0: 0.0, "
          ]
        },
        {
          "output_type": "stream",
          "name": "stderr",
          "text": [
            "510it [00:04, 65.86it/s]"
          ]
        },
        {
          "output_type": "stream",
          "name": "stdout",
          "text": [
            "1.0: 0.0, 1.0: 0.0, 1.0: 0.0, 1.0: 0.0, 1.0: 0.0, 1.0: 0.0, 1.0: 0.0, 1.0: 0.0, 1.0: 0.0, 1.0: 0.0, 1.0: 0.0, 1.0: 0.0, 1.0: 0.0, 1.0: 0.0, 1.0: 0.0, 1.0: 0.0, 1.0: 0.0, 1.0: 0.0, 1.0: 0.0, 0.0: 1.0, 0.0: 1.0, "
          ]
        },
        {
          "output_type": "stream",
          "name": "stderr",
          "text": [
            "559it [00:05, 107.77it/s]"
          ]
        },
        {
          "output_type": "stream",
          "name": "stdout",
          "text": [
            "1.0: 0.0, 0.0: 1.0, 1.0: 0.0, 1.0: 0.0, 1.0: 0.0, 1.0: 0.0, 1.0: 0.0, 1.0: 0.0, 1.0: 0.0, 0.0: 1.0, 1.0: 0.0, 1.0: 0.0, 1.0: 0.0, 1.0: 0.0, 0.0: 1.0, 1.0: 0.0, 1.0: 0.0, 1.0: 0.0, 1.0: 0.0, 1.0: 0.0, 1.0: 0.0, 1.0: 0.0, 1.0: 0.0, "
          ]
        },
        {
          "output_type": "stream",
          "name": "stderr",
          "text": [
            "611it [00:05, 157.16it/s]"
          ]
        },
        {
          "output_type": "stream",
          "name": "stdout",
          "text": [
            "1.0: 0.0, 1.0: 0.0, 1.0: 0.0, 1.0: 0.0, 1.0: 0.0, 0.0: 1.0, 1.0: 0.0, 1.0: 0.0, 1.0: 0.0, 1.0: 0.0, 1.0: 0.0, 1.0: 0.0, 0.0: 1.0, 1.0: 0.0, 1.0: 0.0, 1.0: 0.0, 1.0: 0.0, 1.0: 0.0, 1.0: 0.0, 1.0: 0.0, 1.0: 0.0, 1.0: 0.0, 0.0: 1.0, 1.0: 0.0, 1.0: 0.0, "
          ]
        },
        {
          "output_type": "stream",
          "name": "stderr",
          "text": [
            "664it [00:05, 199.12it/s]"
          ]
        },
        {
          "output_type": "stream",
          "name": "stdout",
          "text": [
            "1.0: 0.0, 1.0: 0.0, 1.0: 0.0, 1.0: 0.0, 1.0: 0.0, 1.0: 0.0, 1.0: 0.0, 1.0: 0.0, 1.0: 0.0, 0.0: 1.0, 1.0: 0.0, 1.0: 0.0, 0.0: 1.0, 1.0: 0.0, 1.0: 0.0, 1.0: 0.0, 1.0: 0.0, 1.0: 0.0, 1.0: 0.0, 1.0: 0.0, 1.0: 0.0, "
          ]
        },
        {
          "output_type": "stream",
          "name": "stderr",
          "text": [
            "717it [00:05, 228.50it/s]"
          ]
        },
        {
          "output_type": "stream",
          "name": "stdout",
          "text": [
            "1.0: 0.0, 1.0: 0.0, 1.0: 0.0, 1.0: 0.0, 0.0: 1.0, 1.0: 0.0, 0.0: 1.0, 1.0: 0.0, 0.0: 1.0, 1.0: 0.0, 1.0: 0.0, 1.0: 0.0, 1.0: 0.0, 0.0: 1.0, 1.0: "
          ]
        },
        {
          "output_type": "stream",
          "name": "stderr",
          "text": [
            "769it [00:05, 206.66it/s]"
          ]
        },
        {
          "output_type": "stream",
          "name": "stdout",
          "text": [
            "0.0, 1.0: 0.0, 1.0: 0.0, 1.0: 0.0, 1.0: 0.0, 1.0: 0.0, 0.0: 1.0, 1.0: 0.0, 1.0: 0.0, 1.0: 0.0, 1.0: 0.0, 1.0: 0.0, 1.0: 0.0, 1.0: 0.0, 1.0: 0.0, 1.0: 0.0, 1.0: 0.0, 1.0: 0.0, "
          ]
        },
        {
          "output_type": "stream",
          "name": "stderr",
          "text": [
            "817it [00:06, 219.09it/s]"
          ]
        },
        {
          "output_type": "stream",
          "name": "stdout",
          "text": [
            "1.0: 0.0, 1.0: 0.0, 1.0: 0.0, 1.0: 0.0, 1.0: 0.0, 1.0: 0.0, 0.0: 1.0, 1.0: 0.0, 1.0: 0.0, 1.0: 0.0, 1.0: 0.0, 0.0: 1.0, 1.0: 0.0, 1.0: 0.0, 1.0: 0.0, 0.0: 1.0, 0.0: 1.0, 1.0: 0.0, 1.0: 0.0, 1.0: 0.0, 0.0: 1.0, 1.0: 0.0, "
          ]
        },
        {
          "output_type": "stream",
          "name": "stderr",
          "text": [
            "869it [00:06, 236.58it/s]"
          ]
        },
        {
          "output_type": "stream",
          "name": "stdout",
          "text": [
            "1.0: 0.0, 1.0: 0.0, 1.0: 0.0, 1.0: 0.0, 1.0: 0.0, 1.0: 0.0, 1.0: 0.0, 1.0: 0.0, 1.0: 0.0, 1.0: 0.0, 1.0: 0.0, 1.0: 0.0, 0.0: 1.0, 1.0: 0.0, 1.0: 0.0, 1.0: 0.0, 1.0: 0.0, 1.0: 0.0, 0.0: 1.0, "
          ]
        },
        {
          "output_type": "stream",
          "name": "stderr",
          "text": [
            "920it [00:06, 243.46it/s]"
          ]
        },
        {
          "output_type": "stream",
          "name": "stdout",
          "text": [
            "0.0: 1.0, 1.0: 0.0, 1.0: 0.0, 0.0: 1.0, 1.0: 0.0, 1.0: 0.0, 0.0: 1.0, 1.0: 0.0, 1.0: 0.0, 1.0: 0.0, 1.0: 0.0, 1.0: 0.0, 1.0: 0.0, 1.0: 0.0, 0.0: 1.0, 1.0: 0.0, 1.0: 0.0, 1.0: 0.0, 1.0: 0.0, 1.0: 0.0, 1.0: 0.0, 1.0: 0.0, 1.0: 0.0, 1.0: "
          ]
        },
        {
          "output_type": "stream",
          "name": "stderr",
          "text": [
            "972it [00:06, 248.55it/s]"
          ]
        },
        {
          "output_type": "stream",
          "name": "stdout",
          "text": [
            "0.0, 1.0: 0.0, 1.0: 0.0, 1.0: 0.0, 0.0: 1.0, 1.0: 0.0, 1.0: 0.0, 1.0: 0.0, 1.0: 0.0, 1.0: 0.0, 1.0: 0.0, 1.0: 0.0, 1.0: 0.0, 1.0: 0.0, 0.0: 1.0, 1.0: 0.0, 1.0: 0.0, 0.0: 1.0, 0.0: 1.0, 1.0: 0.0, 1.0: 0.0, 1.0: 0.0, 1.0: 0.0, "
          ]
        },
        {
          "output_type": "stream",
          "name": "stderr",
          "text": [
            "\r998it [00:06, 250.14it/s]"
          ]
        },
        {
          "output_type": "stream",
          "name": "stdout",
          "text": [
            "0.0: 1.0, 1.0: 0.0, 1.0: 0.0, 1.0: 0.0, 1.0: 0.0, 1.0: 0.0, 0.0: 1.0, 0.0: 1.0, 1.0: 0.0, 1.0: 0.0, 0.0: 1.0, 1.0: 0.0, "
          ]
        },
        {
          "output_type": "stream",
          "name": "stderr",
          "text": [
            "\r1024it [00:07, 174.15it/s]"
          ]
        },
        {
          "output_type": "stream",
          "name": "stdout",
          "text": [
            "1.0: 0.0, 1.0: 0.0, 1.0: 0.0, 1.0: 0.0, 1.0: 0.0, 1.0: 0.0, 1.0: 0.0, 1.0: 0.0, 1.0: 0.0, "
          ]
        },
        {
          "output_type": "stream",
          "name": "stderr",
          "text": [
            "\r1024it [00:07, 132.47it/s]\n"
          ]
        },
        {
          "output_type": "stream",
          "name": "stdout",
          "text": [
            "\n",
            "Epoch 001: | Loss: 0.73374 | Acc: 55.957\n",
            "\n"
          ]
        },
        {
          "output_type": "stream",
          "name": "stderr",
          "text": [
            "24it [00:00, 233.62it/s]"
          ]
        },
        {
          "output_type": "stream",
          "name": "stdout",
          "text": [
            "0.0: 1.0, 0.0: 1.0, 1.0: 0.0, 1.0: 0.0, 1.0: 0.0, 1.0: 0.0, 1.0: 0.0, 0.0: 1.0, 1.0: 0.0, 1.0: 0.0, 1.0: 0.0, 1.0: 0.0, 1.0: 0.0, 1.0: 0.0, 1.0: 0.0, 1.0: 0.0, 1.0: 0.0, 1.0: 0.0, 1.0: 0.0, "
          ]
        },
        {
          "output_type": "stream",
          "name": "stderr",
          "text": [
            "\r49it [00:00, 239.09it/s]"
          ]
        },
        {
          "output_type": "stream",
          "name": "stdout",
          "text": [
            "1.0: 0.0, 0.0: 1.0, "
          ]
        },
        {
          "output_type": "stream",
          "name": "stderr",
          "text": [
            "99it [00:00, 242.60it/s]"
          ]
        },
        {
          "output_type": "stream",
          "name": "stdout",
          "text": [
            "1.0: 0.0, 0.0: 1.0, 1.0: 0.0, 1.0: 0.0, 1.0: 0.0, 1.0: 0.0, 1.0: 0.0, 1.0: 0.0, 1.0: 0.0, 0.0: 1.0, 1.0: 0.0, "
          ]
        },
        {
          "output_type": "stream",
          "name": "stderr",
          "text": [
            "147it [00:01, 100.79it/s]"
          ]
        },
        {
          "output_type": "stream",
          "name": "stdout",
          "text": [
            "1.0: 0.0, 0.0: 1.0, 1.0: 0.0, 1.0: 0.0, 1.0: 0.0, 1.0: 0.0, 1.0: 0.0, 1.0: 0.0, 1.0: 0.0, 1.0: 0.0, 1.0: 0.0, 1.0: 0.0, 1.0: 0.0, 1.0: 0.0, 1.0: 0.0, 1.0: 0.0, 1.0: 0.0, 1.0: 0.0, 1.0: 0.0, 1.0: 0.0, 1.0: 0.0, 1.0: 0.0, 1.0: 0.0, 1.0: 0.0, "
          ]
        },
        {
          "output_type": "stream",
          "name": "stderr",
          "text": [
            "194it [00:01, 143.31it/s]"
          ]
        },
        {
          "output_type": "stream",
          "name": "stdout",
          "text": [
            "1.0: 0.0, 1.0: 0.0, 1.0: 0.0, 1.0: 0.0, 1.0: 0.0, 1.0: 0.0, 1.0: 0.0, 1.0: 0.0, 1.0: 0.0, 1.0: 0.0, 1.0: 0.0, 1.0: 0.0, 1.0: 0.0, 1.0: 0.0, 1.0: 0.0, 0.0: 1.0, 1.0: 0.0, 1.0: 0.0, 1.0: 0.0, 0.0: 1.0, 1.0: 0.0, 1.0: 0.0, 1.0: 0.0, 1.0: 0.0, 1.0: 0.0, 1.0: 0.0, 0.0: 1.0, 1.0: 0.0, "
          ]
        },
        {
          "output_type": "stream",
          "name": "stderr",
          "text": [
            "244it [00:01, 183.83it/s]"
          ]
        },
        {
          "output_type": "stream",
          "name": "stdout",
          "text": [
            "1.0: 0.0, 1.0: 0.0, 1.0: 0.0, 1.0: 0.0, 1.0: 0.0, 0.0: 1.0, 1.0: 0.0, 1.0: 0.0, 1.0: 0.0, 1.0: 0.0, 1.0: 0.0, 1.0: 0.0, 0.0: 1.0, 1.0: 0.0, 1.0: 0.0, 1.0: 0.0, 0.0: 1.0, 1.0: 0.0, 1.0: 0.0, 1.0: 0.0, 1.0: 0.0, 1.0: 0.0, 1.0: 0.0, 1.0: 0.0, 1.0: 0.0, 1.0: 0.0, 1.0: 0.0, 0.0: 1.0, 1.0: 0.0, 1.0: 0.0, "
          ]
        },
        {
          "output_type": "stream",
          "name": "stderr",
          "text": [
            "294it [00:01, 211.14it/s]"
          ]
        },
        {
          "output_type": "stream",
          "name": "stdout",
          "text": [
            "1.0: 0.0, 1.0: 0.0, 0.0: 1.0, 1.0: 0.0, 1.0: 0.0, 1.0: 0.0, 1.0: 0.0, 1.0: 0.0, 0.0: 1.0, 1.0: 0.0, 1.0: 0.0, 1.0: 0.0, 1.0: 0.0, 1.0: 0.0, 1.0: 0.0, 1.0: 0.0, 1.0: 0.0, 1.0: 0.0, 1.0: 0.0, 1.0: 0.0, 1.0: 0.0, 1.0: 0.0, 0.0: 1.0, 1.0: 0.0, 1.0: 0.0, 1.0: 0.0, 1.0: 0.0, "
          ]
        },
        {
          "output_type": "stream",
          "name": "stderr",
          "text": [
            "345it [00:02, 227.66it/s]"
          ]
        },
        {
          "output_type": "stream",
          "name": "stdout",
          "text": [
            "1.0: 0.0, 1.0: 0.0, 1.0: 0.0, 1.0: 0.0, 1.0: 0.0, 1.0: 0.0, 1.0: 0.0, 1.0: 0.0, 1.0: 0.0, 1.0: 0.0, 1.0: 0.0, 1.0: 0.0, 1.0: 0.0, 1.0: 0.0, 1.0: 0.0, 1.0: 0.0, 1.0: 0.0, 1.0: 0.0, 1.0: 0.0, 1.0: 0.0, 1.0: 0.0, 1.0: 0.0, 1.0: 0.0, 1.0: 0.0, 1.0: 0.0, 1.0: 0.0, 0.0: 1.0, 1.0: 0.0, 1.0: 0.0, 1.0: 0.0, "
          ]
        },
        {
          "output_type": "stream",
          "name": "stderr",
          "text": [
            "\r370it [00:02, 228.17it/s]"
          ]
        },
        {
          "output_type": "stream",
          "name": "stdout",
          "text": [
            "1.0: 0.0, 1.0: 0.0, 1.0: 0.0, 1.0: 0.0, 0.0: 1.0, 1.0: 0.0, 1.0: 0.0, 1.0: 0.0, 1.0: 0.0, 1.0: 0.0, 1.0: 0.0, 1.0: 0.0, 1.0: 0.0, "
          ]
        },
        {
          "output_type": "stream",
          "name": "stderr",
          "text": [
            "\r394it [00:02, 150.73it/s]"
          ]
        },
        {
          "output_type": "stream",
          "name": "stdout",
          "text": [
            "1.0: 0.0, 1.0: 0.0, 1.0: 0.0, 1.0: 0.0, 1.0: 0.0, 1.0: 0.0, 1.0: 0.0, 1.0: 0.0, 1.0: 0.0, 1.0: 0.0, 1.0: 0.0, "
          ]
        },
        {
          "output_type": "stream",
          "name": "stderr",
          "text": [
            "438it [00:03, 98.51it/s]"
          ]
        },
        {
          "output_type": "stream",
          "name": "stdout",
          "text": [
            "1.0: 0.0, 1.0: 0.0, 1.0: 0.0, 1.0: 0.0, 1.0: 0.0, 1.0: 0.0, 1.0: 0.0, 1.0: 0.0, 1.0: 0.0, 1.0: 0.0, 1.0: 0.0, 1.0: 0.0, 1.0: 0.0, 1.0: 0.0, 1.0: 0.0, 1.0: 0.0, 1.0: 0.0, 0.0: 1.0, 0.0: 1.0, "
          ]
        },
        {
          "output_type": "stream",
          "name": "stderr",
          "text": [
            "490it [00:03, 146.76it/s]"
          ]
        },
        {
          "output_type": "stream",
          "name": "stdout",
          "text": [
            "1.0: 0.0, 1.0: 0.0, 1.0: 0.0, 1.0: 0.0, 0.0: 1.0, 0.0: 1.0, 1.0: 0.0, 1.0: 0.0, 1.0: 0.0, 1.0: 0.0, 1.0: 0.0, 0.0: 1.0, 1.0: 0.0, 1.0: 0.0, 1.0: 0.0, 1.0: 0.0, 1.0: 0.0, 1.0: 0.0, 1.0: 0.0, 0.0: 1.0, 1.0: 0.0, 1.0: 0.0, "
          ]
        },
        {
          "output_type": "stream",
          "name": "stderr",
          "text": [
            "539it [00:03, 184.24it/s]"
          ]
        },
        {
          "output_type": "stream",
          "name": "stdout",
          "text": [
            "1.0: 0.0, 1.0: 0.0, 1.0: 0.0, 1.0: 0.0, 1.0: 0.0, 1.0: 0.0, 1.0: 0.0, 0.0: 1.0, 0.0: 1.0, 1.0: 0.0, 0.0: 1.0, 1.0: 0.0, 1.0: 0.0, 1.0: 0.0, 1.0: 0.0, 0.0: 1.0, 1.0: 0.0, 1.0: 0.0, 1.0: 0.0, 1.0: 0.0, 1.0: 0.0, 1.0: 0.0, 1.0: 0.0, "
          ]
        },
        {
          "output_type": "stream",
          "name": "stderr",
          "text": [
            "591it [00:03, 216.99it/s]"
          ]
        },
        {
          "output_type": "stream",
          "name": "stdout",
          "text": [
            "1.0: 0.0, 1.0: 0.0, 1.0: 0.0, 1.0: 0.0, 1.0: 0.0, 1.0: 0.0, 1.0: 0.0, 1.0: 0.0, 1.0: 0.0, 1.0: 0.0, 1.0: 0.0, 1.0: 0.0, 1.0: 0.0, 1.0: 0.0, 1.0: 0.0, 0.0: 1.0, 1.0: 0.0, 0.0: 1.0, 1.0: 0.0, 0.0: 1.0, 1.0: 0.0, 1.0: 0.0, "
          ]
        },
        {
          "output_type": "stream",
          "name": "stderr",
          "text": [
            "644it [00:03, 236.67it/s]"
          ]
        },
        {
          "output_type": "stream",
          "name": "stdout",
          "text": [
            "1.0: 0.0, 1.0: 0.0, 0.0: 1.0, 1.0: 0.0, 1.0: 0.0, 1.0: 0.0, 1.0: 0.0, 1.0: 0.0, 1.0: 0.0, 1.0: 0.0, 1.0: 0.0, 1.0: 0.0, 1.0: 0.0, 1.0: 0.0, 1.0: 0.0, 1.0: 0.0, 1.0: 0.0, "
          ]
        },
        {
          "output_type": "stream",
          "name": "stderr",
          "text": [
            "695it [00:04, 200.76it/s]"
          ]
        },
        {
          "output_type": "stream",
          "name": "stdout",
          "text": [
            "1.0: 0.0, 0.0: 1.0, 1.0: 0.0, 1.0: 0.0, 1.0: 0.0, 1.0: 0.0, 1.0: 0.0, 0.0: 1.0, 1.0: 0.0, 1.0: 0.0, 1.0: 0.0, 1.0: 0.0, 1.0: 0.0, 1.0: 0.0, 1.0: 0.0, 1.0: 0.0, 1.0: 0.0, 1.0: 0.0, 1.0: 0.0, 1.0: 0.0, 1.0: 0.0, "
          ]
        },
        {
          "output_type": "stream",
          "name": "stderr",
          "text": [
            "\r718it [00:04, 203.65it/s]"
          ]
        },
        {
          "output_type": "stream",
          "name": "stdout",
          "text": [
            "1.0: 0.0, 0.0: 1.0, 1.0: 0.0, 1.0: 0.0, 0.0: 1.0, 1.0: 0.0, 1.0: 0.0, 1.0: 0.0, "
          ]
        },
        {
          "output_type": "stream",
          "name": "stderr",
          "text": [
            "766it [00:05, 107.29it/s]"
          ]
        },
        {
          "output_type": "stream",
          "name": "stdout",
          "text": [
            "1.0: 0.0, 1.0: 0.0, 1.0: 0.0, 1.0: 0.0, 1.0: 0.0, 1.0: 0.0, 1.0: 0.0, 1.0: 0.0, 1.0: 0.0, 1.0: 0.0, 1.0: 0.0, 1.0: 0.0, 1.0: 0.0, 1.0: 0.0, 1.0: 0.0, "
          ]
        },
        {
          "output_type": "stream",
          "name": "stderr",
          "text": [
            "841it [00:05, 170.54it/s]"
          ]
        },
        {
          "output_type": "stream",
          "name": "stdout",
          "text": [
            "1.0: 0.0, 1.0: 0.0, 1.0: 0.0, 0.0: 1.0, 1.0: 0.0, 1.0: 0.0, 0.0: 1.0, 1.0: 0.0, 1.0: 0.0, 0.0: 1.0, 0.0: 1.0, 1.0: 0.0, 1.0: 0.0, 1.0: 0.0, 1.0: 0.0, 1.0: 0.0, 1.0: 0.0, 1.0: 0.0, 1.0: 0.0, 1.0: 0.0, 1.0: 0.0, 1.0: 0.0, 1.0: 0.0, 1.0: 0.0, "
          ]
        },
        {
          "output_type": "stream",
          "name": "stderr",
          "text": [
            "892it [00:06, 105.14it/s]"
          ]
        },
        {
          "output_type": "stream",
          "name": "stdout",
          "text": [
            "1.0: 0.0, 1.0: 0.0, 1.0: 0.0, 1.0: 0.0, 1.0: 0.0, 0.0: 1.0, 1.0: 0.0, 1.0: 0.0, 1.0: 0.0, 1.0: 0.0, 1.0: 0.0, 1.0: 0.0, 1.0: 0.0, 1.0: 0.0, 1.0: 0.0, 1.0: 0.0, 0.0: 1.0, 1.0: 0.0, 1.0: 0.0, 1.0: 0.0, 1.0: 0.0, "
          ]
        },
        {
          "output_type": "stream",
          "name": "stderr",
          "text": [
            "945it [00:06, 152.00it/s]"
          ]
        },
        {
          "output_type": "stream",
          "name": "stdout",
          "text": [
            "1.0: 0.0, 1.0: 0.0, 1.0: 0.0, 1.0: 0.0, 1.0: 0.0, 0.0: 1.0, 1.0: 0.0, 1.0: 0.0, 1.0: 0.0, 1.0: 0.0, 1.0: 0.0, 1.0: 0.0, 1.0: 0.0, 1.0: 0.0, 1.0: 0.0, 1.0: 0.0, "
          ]
        },
        {
          "output_type": "stream",
          "name": "stderr",
          "text": [
            "994it [00:07, 101.55it/s]"
          ]
        },
        {
          "output_type": "stream",
          "name": "stdout",
          "text": [
            "1.0: 0.0, 1.0: 0.0, 0.0: 1.0, 1.0: 0.0, 1.0: 0.0, 1.0: 0.0, 1.0: 0.0, 1.0: 0.0, 0.0: 1.0, 1.0: 0.0, 1.0: 0.0, 1.0: 0.0, 1.0: 0.0, 1.0: 0.0, 1.0: 0.0, 1.0: 0.0, 1.0: 0.0, 1.0: 0.0, 1.0: 0.0, 1.0: 0.0, 0.0: 1.0, 1.0: 0.0, 1.0: 0.0, "
          ]
        },
        {
          "output_type": "stream",
          "name": "stderr",
          "text": [
            "1024it [00:07, 140.76it/s]\n"
          ]
        },
        {
          "output_type": "stream",
          "name": "stdout",
          "text": [
            "1.0: 0.0, 1.0: 0.0, 1.0: 0.0, 1.0: 0.0, 0.0: 1.0, 1.0: 0.0, 1.0: 0.0, 1.0: 0.0, 1.0: 0.0, 1.0: 0.0, 1.0: 0.0, 0.0: 1.0, 1.0: 0.0, \n",
            "Epoch 002: | Loss: 0.72788 | Acc: 57.129\n",
            "\n"
          ]
        },
        {
          "output_type": "stream",
          "name": "stderr",
          "text": [
            "\r0it [00:00, ?it/s]"
          ]
        },
        {
          "output_type": "stream",
          "name": "stdout",
          "text": [
            "1.0: 0.0, 0.0: 1.0, 1.0: 0.0, 1.0: 0.0, 1.0: 0.0, 1.0: 0.0, "
          ]
        },
        {
          "output_type": "stream",
          "name": "stderr",
          "text": [
            "50it [00:00, 244.26it/s]"
          ]
        },
        {
          "output_type": "stream",
          "name": "stdout",
          "text": [
            "1.0: 0.0, 1.0: 0.0, 1.0: 0.0, 0.0: 1.0, 1.0: 0.0, 1.0: 0.0, 1.0: 0.0, 1.0: 0.0, 1.0: 0.0, 1.0: 0.0, 1.0: 0.0, 1.0: 0.0, 1.0: 0.0, 1.0: 0.0, 1.0: 0.0, 1.0: 0.0, 1.0: 0.0, 1.0: 0.0, "
          ]
        },
        {
          "output_type": "stream",
          "name": "stderr",
          "text": [
            "104it [00:00, 259.50it/s]"
          ]
        },
        {
          "output_type": "stream",
          "name": "stdout",
          "text": [
            "0.0: 1.0, 1.0: 0.0, 0.0: 1.0, 1.0: 0.0, 1.0: 0.0, 1.0: 0.0, 1.0: 0.0, 1.0: 0.0, 0.0: 1.0, 0.0: 1.0, 1.0: 0.0, 1.0: 0.0, 1.0: 0.0, 1.0: 0.0, 1.0: 0.0, 1.0: 0.0, "
          ]
        },
        {
          "output_type": "stream",
          "name": "stderr",
          "text": [
            "156it [00:00, 251.43it/s]"
          ]
        },
        {
          "output_type": "stream",
          "name": "stdout",
          "text": [
            "1.0: 0.0, 1.0: 0.0, 1.0: 0.0, 1.0: 0.0, 1.0: 0.0, 1.0: 0.0, 1.0: 0.0, 1.0: 0.0, 1.0: 0.0, 1.0: 0.0, 1.0: 0.0, 1.0: 0.0, 1.0: 0.0, 1.0: 0.0, 1.0: 0.0, 1.0: 0.0, 1.0: 0.0, 1.0: 0.0, 1.0: 0.0, 1.0: 0.0, 1.0: 0.0, 1.0: 0.0, 1.0: 0.0, 1.0: 0.0, 1.0: 0.0, 1.0: 0.0, 1.0: 0.0, "
          ]
        },
        {
          "output_type": "stream",
          "name": "stderr",
          "text": [
            "207it [00:00, 245.49it/s]"
          ]
        },
        {
          "output_type": "stream",
          "name": "stdout",
          "text": [
            "1.0: 0.0, 1.0: 0.0, 1.0: 0.0, 1.0: 0.0, 1.0: 0.0, 1.0: 0.0, 0.0: 1.0, 1.0: 0.0, 1.0: 0.0, 1.0: 0.0, 1.0: 0.0, 1.0: 0.0, 1.0: 0.0, 1.0: 0.0, 1.0: 0.0, 1.0: 0.0, 1.0: 0.0, 1.0: 0.0, 0.0: 1.0, "
          ]
        },
        {
          "output_type": "stream",
          "name": "stderr",
          "text": [
            "\r232it [00:01, 173.02it/s]"
          ]
        },
        {
          "output_type": "stream",
          "name": "stdout",
          "text": [
            "1.0: 0.0, 1.0: 0.0, 1.0: 0.0, 1.0: 0.0, 1.0: 0.0, 1.0: 0.0, 1.0: 0.0, 1.0: 0.0, 1.0: 0.0, 1.0: 0.0, 1.0: 0.0, 1.0: 0.0, 1.0: 0.0, "
          ]
        },
        {
          "output_type": "stream",
          "name": "stderr",
          "text": [
            "278it [00:01, 94.80it/s]"
          ]
        },
        {
          "output_type": "stream",
          "name": "stdout",
          "text": [
            "1.0: 0.0, 1.0: 0.0, 1.0: 0.0, 1.0: 0.0, 1.0: 0.0, 1.0: 0.0, 1.0: 0.0, 1.0: 0.0, 1.0: 0.0, 1.0: 0.0, 1.0: 0.0, 1.0: 0.0, 1.0: 0.0, 1.0: 0.0, 1.0: 0.0, 1.0: 0.0, 1.0: 0.0, 1.0: 0.0, 1.0: 0.0, 1.0: 0.0, 1.0: 0.0, 1.0: 0.0, 1.0: 0.0, 1.0: 0.0, 1.0: 0.0, 1.0: 0.0, "
          ]
        },
        {
          "output_type": "stream",
          "name": "stderr",
          "text": [
            "324it [00:02, 133.51it/s]"
          ]
        },
        {
          "output_type": "stream",
          "name": "stdout",
          "text": [
            "1.0: 0.0, 1.0: 0.0, 1.0: 0.0, 1.0: 0.0, 1.0: 0.0, 1.0: 0.0, 0.0: 1.0, 1.0: 0.0, 1.0: 0.0, 1.0: 0.0, 1.0: 0.0, 0.0: 1.0, 1.0: 0.0, 1.0: 0.0, 1.0: 0.0, 1.0: 0.0, 1.0: 0.0, 1.0: 0.0, 1.0: 0.0, 1.0: 0.0, 0.0: 1.0, 1.0: 0.0, 1.0: 0.0, 1.0: 0.0, 1.0: 0.0, 1.0: "
          ]
        },
        {
          "output_type": "stream",
          "name": "stderr",
          "text": [
            "371it [00:02, 170.23it/s]"
          ]
        },
        {
          "output_type": "stream",
          "name": "stdout",
          "text": [
            "0.0, 1.0: 0.0, 1.0: 0.0, 1.0: 0.0, 1.0: 0.0, 1.0: 0.0, 1.0: 0.0, 1.0: 0.0, 1.0: 0.0, 1.0: 0.0, 1.0: 0.0, 1.0: 0.0, 1.0: 0.0, 1.0: 0.0, 1.0: 0.0, 1.0: 0.0, 1.0: 0.0, 1.0: 0.0, 1.0: 0.0, 1.0: 0.0, 1.0: 0.0, 1.0: 0.0, 1.0: 0.0, 1.0: 0.0, 1.0: 0.0, 1.0: 0.0, "
          ]
        },
        {
          "output_type": "stream",
          "name": "stderr",
          "text": [
            "422it [00:02, 206.03it/s]"
          ]
        },
        {
          "output_type": "stream",
          "name": "stdout",
          "text": [
            "1.0: 0.0, 0.0: 1.0, 1.0: 0.0, 1.0: 0.0, 1.0: 0.0, 1.0: 0.0, 0.0: 1.0, 1.0: 0.0, 1.0: 0.0, 1.0: 0.0, 1.0: 0.0, 1.0: 0.0, 1.0: 0.0, 1.0: 0.0, 1.0: 0.0, 1.0: 0.0, 1.0: 0.0, 1.0: 0.0, 1.0: 0.0, 1.0: 0.0, 1.0: 0.0, 1.0: 0.0, 1.0: 0.0, 1.0: 0.0, "
          ]
        },
        {
          "output_type": "stream",
          "name": "stderr",
          "text": [
            "\r446it [00:02, 213.79it/s]"
          ]
        },
        {
          "output_type": "stream",
          "name": "stdout",
          "text": [
            "1.0: 0.0, 1.0: 0.0, 1.0: 0.0, 1.0: 0.0, 1.0: 0.0, 0.0: 1.0, "
          ]
        },
        {
          "output_type": "stream",
          "name": "stderr",
          "text": [
            "496it [00:03, 167.82it/s]"
          ]
        },
        {
          "output_type": "stream",
          "name": "stdout",
          "text": [
            "1.0: 0.0, 1.0: 0.0, 1.0: 0.0, 1.0: 0.0, 1.0: 0.0, 1.0: 0.0, 1.0: 0.0, 1.0: 0.0, 1.0: 0.0, 1.0: 0.0, 1.0: 0.0, 1.0: 0.0, 1.0: 0.0, 1.0: 0.0, 1.0: 0.0, 1.0: 0.0, 1.0: 0.0, 1.0: 0.0, 1.0: 0.0, "
          ]
        },
        {
          "output_type": "stream",
          "name": "stderr",
          "text": [
            "545it [00:03, 197.72it/s]"
          ]
        },
        {
          "output_type": "stream",
          "name": "stdout",
          "text": [
            "1.0: 0.0, 1.0: 0.0, 1.0: 0.0, 1.0: 0.0, 1.0: 0.0, 1.0: 0.0, 1.0: 0.0, 1.0: 0.0, 0.0: 1.0, 0.0: 1.0, 0.0: 1.0, 1.0: 0.0, 1.0: 0.0, 1.0: 0.0, 1.0: 0.0, 1.0: 0.0, 1.0: 0.0, 1.0: 0.0, 1.0: 0.0, 1.0: 0.0, 1.0: 0.0, "
          ]
        },
        {
          "output_type": "stream",
          "name": "stderr",
          "text": [
            "595it [00:03, 221.39it/s]"
          ]
        },
        {
          "output_type": "stream",
          "name": "stdout",
          "text": [
            "1.0: 0.0, 1.0: 0.0, 1.0: 0.0, 1.0: 0.0, 1.0: 0.0, 1.0: 0.0, 1.0: 0.0, 1.0: 0.0, 1.0: 0.0, 1.0: 0.0, 1.0: 0.0, 0.0: 1.0, 1.0: 0.0, 1.0: 0.0, 1.0: 0.0, 0.0: 1.0, 1.0: 0.0, 1.0: 0.0, 0.0: 1.0, 1.0: 0.0, 1.0: 0.0, "
          ]
        },
        {
          "output_type": "stream",
          "name": "stderr",
          "text": [
            "647it [00:03, 240.06it/s]"
          ]
        },
        {
          "output_type": "stream",
          "name": "stdout",
          "text": [
            "0.0: 1.0, 1.0: 0.0, 1.0: 0.0, 1.0: 0.0, 1.0: 0.0, 1.0: 0.0, 1.0: 0.0, 1.0: 0.0, 1.0: 0.0, 1.0: 0.0, 1.0: 0.0, 1.0: 0.0, 1.0: 0.0, 1.0: 0.0, 1.0: 0.0, 1.0: 0.0, 1.0: 0.0, 0.0: 1.0, 1.0: 0.0, 1.0: 0.0, 1.0: 0.0, "
          ]
        },
        {
          "output_type": "stream",
          "name": "stderr",
          "text": [
            "\r674it [00:03, 246.69it/s]"
          ]
        },
        {
          "output_type": "stream",
          "name": "stdout",
          "text": [
            "1.0: 0.0, 1.0: 0.0, 1.0: 0.0, 1.0: 0.0, 1.0: 0.0, 1.0: 0.0, 1.0: 0.0, 1.0: 0.0, 1.0: 0.0, 1.0: 0.0, 0.0: 1.0, 1.0: 0.0, 1.0: 0.0, 1.0: 0.0, 1.0: 0.0, 1.0: 0.0, 1.0: 0.0, 1.0: 0.0, "
          ]
        },
        {
          "output_type": "stream",
          "name": "stderr",
          "text": [
            "752it [00:04, 209.00it/s]"
          ]
        },
        {
          "output_type": "stream",
          "name": "stdout",
          "text": [
            "1.0: 0.0, 1.0: 0.0, 1.0: 0.0, 0.0: 1.0, 0.0: 1.0, 1.0: 0.0, 1.0: 0.0, 1.0: 0.0, 1.0: 0.0, 1.0: 0.0, 1.0: 0.0, 1.0: 0.0, 1.0: 0.0, 1.0: 0.0, 1.0: 0.0, 1.0: 0.0, 1.0: 0.0, "
          ]
        },
        {
          "output_type": "stream",
          "name": "stderr",
          "text": [
            "802it [00:04, 111.23it/s]"
          ]
        },
        {
          "output_type": "stream",
          "name": "stdout",
          "text": [
            "1.0: 0.0, 1.0: 0.0, 1.0: 0.0, 1.0: 0.0, 1.0: 0.0, 1.0: 0.0, 1.0: 0.0, 1.0: 0.0, 1.0: 0.0, 1.0: 0.0, 1.0: 0.0, 1.0: 0.0, 1.0: 0.0, 1.0: 0.0, 1.0: 0.0, 1.0: 0.0, 0.0: 1.0, 1.0: 0.0, 1.0: 0.0, "
          ]
        },
        {
          "output_type": "stream",
          "name": "stderr",
          "text": [
            "853it [00:05, 154.99it/s]"
          ]
        },
        {
          "output_type": "stream",
          "name": "stdout",
          "text": [
            "1.0: 0.0, 1.0: 0.0, 1.0: 0.0, 1.0: 0.0, 1.0: 0.0, 1.0: 0.0, 1.0: 0.0, 1.0: 0.0, 1.0: 0.0, 0.0: 1.0, 0.0: 1.0, 1.0: 0.0, 1.0: 0.0, 1.0: 0.0, 1.0: 0.0, 1.0: 0.0, 1.0: 0.0, 1.0: 0.0, "
          ]
        },
        {
          "output_type": "stream",
          "name": "stderr",
          "text": [
            "902it [00:05, 97.97it/s]"
          ]
        },
        {
          "output_type": "stream",
          "name": "stdout",
          "text": [
            "1.0: 0.0, 1.0: 0.0, 1.0: 0.0, 1.0: 0.0, 1.0: 0.0, 1.0: 0.0, 1.0: 0.0, 1.0: 0.0, 1.0: 0.0, 1.0: 0.0, 0.0: 1.0, 1.0: 0.0, 1.0: 0.0, 1.0: 0.0, 1.0: 0.0, 1.0: 0.0, 1.0: 0.0, 0.0: 1.0, 1.0: 0.0, 1.0: 0.0, 1.0: 0.0, 0.0: 1.0, "
          ]
        },
        {
          "output_type": "stream",
          "name": "stderr",
          "text": [
            "953it [00:06, 142.73it/s]"
          ]
        },
        {
          "output_type": "stream",
          "name": "stdout",
          "text": [
            "1.0: 0.0, 1.0: 0.0, 0.0: 1.0, 1.0: 0.0, 1.0: 0.0, 1.0: 0.0, 0.0: 1.0, 1.0: 0.0, 1.0: 0.0, 1.0: 0.0, 1.0: 0.0, 1.0: 0.0, 1.0: 0.0, 1.0: 0.0, 1.0: 0.0, 0.0: 1.0, 1.0: 0.0, 1.0: 0.0, 1.0: 0.0, "
          ]
        },
        {
          "output_type": "stream",
          "name": "stderr",
          "text": [
            "1004it [00:06, 183.10it/s]"
          ]
        },
        {
          "output_type": "stream",
          "name": "stdout",
          "text": [
            "1.0: 0.0, 1.0: 0.0, 1.0: 0.0, 1.0: 0.0, 0.0: 1.0, 1.0: 0.0, 1.0: 0.0, 1.0: 0.0, 0.0: 1.0, 1.0: 0.0, 1.0: 0.0, 1.0: 0.0, 1.0: 0.0, 1.0: 0.0, 1.0: 0.0, 1.0: 0.0, 1.0: 0.0, 1.0: 0.0, 1.0: 0.0, 1.0: "
          ]
        },
        {
          "output_type": "stream",
          "name": "stderr",
          "text": [
            "\r1024it [00:06, 160.23it/s]\n"
          ]
        },
        {
          "output_type": "stream",
          "name": "stdout",
          "text": [
            "0.0, 1.0: 0.0, 1.0: 0.0, 1.0: 0.0, \n",
            "Epoch 003: | Loss: 0.72185 | Acc: 58.594\n",
            "\n"
          ]
        },
        {
          "output_type": "stream",
          "name": "stderr",
          "text": [
            "28it [00:00, 276.36it/s]"
          ]
        },
        {
          "output_type": "stream",
          "name": "stdout",
          "text": [
            "1.0: 0.0, 1.0: 0.0, 1.0: 0.0, 1.0: 0.0, 1.0: 0.0, 1.0: 0.0, 1.0: 0.0, 1.0: 0.0, 1.0: 0.0, 1.0: 0.0, 1.0: 0.0, "
          ]
        },
        {
          "output_type": "stream",
          "name": "stderr",
          "text": [
            "\r56it [00:00, 261.07it/s]"
          ]
        },
        {
          "output_type": "stream",
          "name": "stdout",
          "text": [
            "1.0: 0.0, 1.0: 0.0, 0.0: 1.0, 1.0: 0.0, 1.0: 0.0, 1.0: 0.0, "
          ]
        },
        {
          "output_type": "stream",
          "name": "stderr",
          "text": [
            "\r84it [00:00, 267.51it/s]"
          ]
        },
        {
          "output_type": "stream",
          "name": "stdout",
          "text": [
            "1.0: 0.0, 1.0: 0.0, 1.0: 0.0, 0.0: 1.0, 1.0: 0.0, 1.0: 0.0, 0.0: 1.0, 1.0: 0.0, 1.0: 0.0, 0.0: 1.0, 1.0: 0.0, "
          ]
        },
        {
          "output_type": "stream",
          "name": "stderr",
          "text": [
            "\r111it [00:00, 259.28it/s]"
          ]
        },
        {
          "output_type": "stream",
          "name": "stdout",
          "text": [
            "1.0: 0.0, 1.0: 0.0, 1.0: 0.0, 1.0: 0.0, "
          ]
        },
        {
          "output_type": "stream",
          "name": "stderr",
          "text": [
            "159it [00:00, 166.57it/s]"
          ]
        },
        {
          "output_type": "stream",
          "name": "stdout",
          "text": [
            "1.0: 0.0, 1.0: 0.0, 1.0: 0.0, 1.0: 0.0, 1.0: 0.0, 0.0: 1.0, 1.0: 0.0, 0.0: 1.0, 1.0: 0.0, 1.0: 0.0, 1.0: 0.0, 1.0: 0.0, 1.0: 0.0, 1.0: 0.0, 1.0: 0.0, 1.0: 0.0, 1.0: 0.0, 1.0: 0.0, 1.0: 0.0, 1.0: 0.0, 1.0: 0.0, 1.0: 0.0, 1.0: 0.0, 1.0: 0.0, 1.0: 0.0, 1.0: 0.0, 1.0: 0.0, "
          ]
        },
        {
          "output_type": "stream",
          "name": "stderr",
          "text": [
            "207it [00:01, 198.36it/s]"
          ]
        },
        {
          "output_type": "stream",
          "name": "stdout",
          "text": [
            "1.0: 0.0, 1.0: 0.0, 1.0: 0.0, 1.0: 0.0, 1.0: 0.0, 1.0: 0.0, 1.0: 0.0, 1.0: 0.0, 1.0: 0.0, 1.0: 0.0, 1.0: 0.0, 1.0: 0.0, 1.0: 0.0, 1.0: 0.0, 1.0: 0.0, 1.0: 0.0, 1.0: 0.0, 1.0: 0.0, 1.0: 0.0, 1.0: 0.0, 1.0: 0.0, 1.0: 0.0, 1.0: 0.0, 1.0: 0.0, "
          ]
        },
        {
          "output_type": "stream",
          "name": "stderr",
          "text": [
            "257it [00:01, 221.62it/s]"
          ]
        },
        {
          "output_type": "stream",
          "name": "stdout",
          "text": [
            "1.0: 0.0, 1.0: 0.0, 1.0: 0.0, 1.0: 0.0, 0.0: 1.0, 1.0: 0.0, 1.0: 0.0, 1.0: 0.0, 1.0: 0.0, 1.0: 0.0, 1.0: 0.0, 1.0: 0.0, 1.0: 0.0, 1.0: 0.0, 1.0: 0.0, 1.0: 0.0, 1.0: 0.0, 1.0: 0.0, 1.0: 0.0, 1.0: 0.0, 1.0: 0.0, 1.0: 0.0, 1.0: 0.0, 1.0: 0.0, 1.0: 0.0, "
          ]
        },
        {
          "output_type": "stream",
          "name": "stderr",
          "text": [
            "\r281it [00:01, 226.32it/s]"
          ]
        },
        {
          "output_type": "stream",
          "name": "stdout",
          "text": [
            "1.0: 0.0, 1.0: 0.0, 1.0: 0.0, 1.0: 0.0, 1.0: 0.0, 1.0: 0.0, 1.0: 0.0, 1.0: 0.0, 0.0: 1.0, "
          ]
        },
        {
          "output_type": "stream",
          "name": "stderr",
          "text": [
            "328it [00:01, 165.53it/s]"
          ]
        },
        {
          "output_type": "stream",
          "name": "stdout",
          "text": [
            "1.0: 0.0, 1.0: 0.0, 1.0: 0.0, 1.0: 0.0, 1.0: 0.0, 1.0: 0.0, 1.0: 0.0, 1.0: 0.0, 1.0: 0.0, 1.0: 0.0, 1.0: 0.0, 1.0: 0.0, 1.0: 0.0, 1.0: 0.0, 1.0: 0.0, 1.0: 0.0, 1.0: 0.0, 1.0: 0.0, 0.0: 1.0, 1.0: 0.0, 0.0: 1.0, 1.0: 0.0, 1.0: 0.0, 1.0: 0.0, 1.0: 0.0, 1.0: 0.0, 1.0: 0.0, 1.0: 0.0, 1.0: 0.0, 1.0: "
          ]
        },
        {
          "output_type": "stream",
          "name": "stderr",
          "text": [
            "372it [00:01, 187.91it/s]"
          ]
        },
        {
          "output_type": "stream",
          "name": "stdout",
          "text": [
            "0.0, 1.0: 0.0, 1.0: 0.0, 1.0: 0.0, 1.0: 0.0, 1.0: 0.0, 1.0: 0.0, 1.0: 0.0, 1.0: 0.0, 0.0: 1.0, 1.0: 0.0, 0.0: 1.0, 1.0: 0.0, 1.0: 0.0, 1.0: 0.0, 1.0: 0.0, 1.0: 0.0, 1.0: 0.0, 1.0: 0.0, 1.0: 0.0, 1.0: 0.0, 1.0: 0.0, 1.0: 0.0, 1.0: 0.0, 1.0: 0.0, 1.0: 0.0, 1.0: 0.0, 1.0: 0.0, 1.0: 0.0, 1.0: 0.0, 1.0: 0.0, 1.0: 0.0, "
          ]
        },
        {
          "output_type": "stream",
          "name": "stderr",
          "text": [
            "422it [00:02, 215.88it/s]"
          ]
        },
        {
          "output_type": "stream",
          "name": "stdout",
          "text": [
            "1.0: 0.0, 1.0: 0.0, 1.0: 0.0, 1.0: 0.0, 1.0: 0.0, 1.0: 0.0, 1.0: 0.0, 1.0: 0.0, 0.0: 1.0, 0.0: 1.0, 1.0: 0.0, 1.0: 0.0, 1.0: 0.0, 1.0: 0.0, 1.0: 0.0, 0.0: 1.0, 1.0: 0.0, 1.0: 0.0, 1.0: 0.0, 1.0: 0.0, 1.0: 0.0, 1.0: 0.0, 1.0: 0.0, 1.0: 0.0, 0.0: 1.0, 1.0: 0.0, 1.0: 0.0, 1.0: 0.0, 1.0: 0.0, 0.0: 1.0, "
          ]
        },
        {
          "output_type": "stream",
          "name": "stderr",
          "text": [
            "496it [00:02, 180.99it/s]"
          ]
        },
        {
          "output_type": "stream",
          "name": "stdout",
          "text": [
            "1.0: 0.0, 1.0: 0.0, 1.0: 0.0, 1.0: 0.0, 1.0: 0.0, 1.0: 0.0, 1.0: 0.0, 1.0: 0.0, 1.0: 0.0, 1.0: 0.0, 1.0: 0.0, 1.0: 0.0, 0.0: 1.0, 1.0: 0.0, 1.0: 0.0, 1.0: 0.0, 1.0: 0.0, 1.0: 0.0, 1.0: 0.0, 1.0: 0.0, 0.0: 1.0, "
          ]
        },
        {
          "output_type": "stream",
          "name": "stderr",
          "text": [
            "\r519it [00:02, 192.56it/s]"
          ]
        },
        {
          "output_type": "stream",
          "name": "stdout",
          "text": [
            "1.0: 0.0, 1.0: 0.0, 1.0: 0.0, 1.0: 0.0, 1.0: 0.0, 1.0: 0.0, 1.0: 0.0, 0.0: 1.0, 0.0: 1.0, 1.0: 0.0, 0.0: 1.0, 1.0: 0.0, "
          ]
        },
        {
          "output_type": "stream",
          "name": "stderr",
          "text": [
            "565it [00:03, 106.36it/s]"
          ]
        },
        {
          "output_type": "stream",
          "name": "stdout",
          "text": [
            "1.0: 0.0, 1.0: 0.0, 1.0: 0.0, 1.0: 0.0, 1.0: 0.0, 1.0: 0.0, 1.0: 0.0, 1.0: 0.0, 1.0: 0.0, 1.0: 0.0, 1.0: 0.0, 1.0: 0.0, 1.0: 0.0, 1.0: 0.0, 1.0: 0.0, 0.0: 1.0, 1.0: 0.0, 1.0: 0.0, 1.0: 0.0, 1.0: 0.0, 1.0: 0.0, 0.0: 1.0, 1.0: 0.0, 1.0: 0.0, "
          ]
        },
        {
          "output_type": "stream",
          "name": "stderr",
          "text": [
            "616it [00:03, 151.48it/s]"
          ]
        },
        {
          "output_type": "stream",
          "name": "stdout",
          "text": [
            "1.0: 0.0, 0.0: 1.0, 1.0: 0.0, 1.0: 0.0, 1.0: 0.0, 1.0: 0.0, 0.0: 1.0, 1.0: 0.0, 1.0: 0.0, 0.0: 1.0, 1.0: 0.0, 1.0: 0.0, 1.0: 0.0, 1.0: 0.0, 1.0: 0.0, 1.0: 0.0, 1.0: 0.0, 1.0: 0.0, 1.0: 0.0, 1.0: 0.0, 1.0: 0.0, 1.0: 0.0, 0.0: 1.0, 1.0: 0.0, "
          ]
        },
        {
          "output_type": "stream",
          "name": "stderr",
          "text": [
            "668it [00:03, 193.22it/s]"
          ]
        },
        {
          "output_type": "stream",
          "name": "stdout",
          "text": [
            "0.0: 1.0, 1.0: 0.0, 1.0: 0.0, 1.0: 0.0, 0.0: 1.0, 1.0: 0.0, 1.0: 0.0, 1.0: 0.0, 1.0: 0.0, 1.0: 0.0, 1.0: 0.0, 1.0: 0.0, 1.0: 0.0, 1.0: 0.0, 1.0: 0.0, 1.0: 0.0, 1.0: 0.0, 1.0: 0.0, 1.0: 0.0, 0.0: 1.0, "
          ]
        },
        {
          "output_type": "stream",
          "name": "stderr",
          "text": [
            "718it [00:04, 216.42it/s]"
          ]
        },
        {
          "output_type": "stream",
          "name": "stdout",
          "text": [
            "1.0: 0.0, 1.0: 0.0, 1.0: 0.0, 0.0: 1.0, 1.0: 0.0, 0.0: 1.0, 1.0: 0.0, 1.0: 0.0, 1.0: 0.0, 1.0: 0.0, 1.0: 0.0, 1.0: 0.0, 1.0: 0.0, 1.0: 0.0, 1.0: 0.0, 0.0: 1.0, 1.0: 0.0, 1.0: 0.0, 1.0: 0.0, 1.0: 0.0, "
          ]
        },
        {
          "output_type": "stream",
          "name": "stderr",
          "text": [
            "771it [00:04, 235.09it/s]"
          ]
        },
        {
          "output_type": "stream",
          "name": "stdout",
          "text": [
            "1.0: 0.0, 1.0: 0.0, 1.0: 0.0, 1.0: 0.0, 1.0: 0.0, 0.0: 1.0, 1.0: 0.0, 1.0: 0.0, 1.0: 0.0, 1.0: 0.0, 1.0: 0.0, 1.0: 0.0, 1.0: 0.0, 1.0: 0.0, 0.0: 1.0, 1.0: 0.0, 1.0: 0.0, 0.0: 1.0, 0.0: 1.0, 1.0: 0.0, 1.0: 0.0, 1.0: "
          ]
        },
        {
          "output_type": "stream",
          "name": "stderr",
          "text": [
            "\r796it [00:04, 234.50it/s]"
          ]
        },
        {
          "output_type": "stream",
          "name": "stdout",
          "text": [
            "0.0, 1.0: 0.0, 1.0: 0.0, 1.0: 0.0, 1.0: 0.0, 1.0: 0.0, "
          ]
        },
        {
          "output_type": "stream",
          "name": "stderr",
          "text": [
            "848it [00:04, 178.40it/s]"
          ]
        },
        {
          "output_type": "stream",
          "name": "stdout",
          "text": [
            "1.0: 0.0, 1.0: 0.0, 1.0: 0.0, 1.0: 0.0, 1.0: 0.0, 1.0: 0.0, 1.0: 0.0, 1.0: 0.0, 1.0: 0.0, 1.0: 0.0, 1.0: 0.0, 1.0: 0.0, 1.0: 0.0, 1.0: 0.0, 1.0: 0.0, 1.0: 0.0, 1.0: 0.0, 0.0: 1.0, 1.0: 0.0, "
          ]
        },
        {
          "output_type": "stream",
          "name": "stderr",
          "text": [
            "898it [00:04, 208.26it/s]"
          ]
        },
        {
          "output_type": "stream",
          "name": "stdout",
          "text": [
            "1.0: 0.0, 0.0: 1.0, 1.0: 0.0, 1.0: 0.0, 0.0: 1.0, 1.0: 0.0, 1.0: 0.0, 1.0: 0.0, 1.0: 0.0, 0.0: 1.0, 1.0: 0.0, 1.0: 0.0, 1.0: 0.0, 1.0: 0.0, 1.0: 0.0, 1.0: 0.0, 1.0: 0.0, 1.0: 0.0, 0.0: 1.0, 0.0: 1.0, 1.0: 0.0, "
          ]
        },
        {
          "output_type": "stream",
          "name": "stderr",
          "text": [
            "949it [00:05, 227.16it/s]"
          ]
        },
        {
          "output_type": "stream",
          "name": "stdout",
          "text": [
            "1.0: 0.0, 1.0: 0.0, 0.0: 1.0, 1.0: 0.0, 1.0: 0.0, 1.0: 0.0, 1.0: 0.0, 0.0: 1.0, 1.0: 0.0, 1.0: 0.0, 1.0: 0.0, 1.0: 0.0, 1.0: 0.0, 1.0: 0.0, 1.0: 0.0, 1.0: 0.0, 1.0: 0.0, 1.0: 0.0, 1.0: 0.0, 1.0: 0.0, "
          ]
        },
        {
          "output_type": "stream",
          "name": "stderr",
          "text": [
            "\r974it [00:05, 230.67it/s]"
          ]
        },
        {
          "output_type": "stream",
          "name": "stdout",
          "text": [
            "0.0: 1.0, 1.0: 0.0, 0.0: 1.0, 1.0: 0.0, 1.0: 0.0, 1.0: 0.0, 0.0: 1.0, 1.0: 0.0, "
          ]
        },
        {
          "output_type": "stream",
          "name": "stderr",
          "text": [
            "1024it [00:05, 181.92it/s]\n"
          ]
        },
        {
          "output_type": "stream",
          "name": "stdout",
          "text": [
            "1.0: 0.0, 1.0: 0.0, 1.0: 0.0, 1.0: 0.0, 1.0: 0.0, 1.0: 0.0, 0.0: 1.0, 1.0: 0.0, 1.0: 0.0, 1.0: 0.0, 1.0: 0.0, 1.0: 0.0, 1.0: 0.0, 1.0: 0.0, 1.0: 0.0, 1.0: 0.0, 1.0: 0.0, 1.0: 0.0, \n",
            "Epoch 004: | Loss: 0.72946 | Acc: 56.836\n",
            "\n"
          ]
        },
        {
          "output_type": "stream",
          "name": "stderr",
          "text": [
            "54it [00:00, 264.54it/s]"
          ]
        },
        {
          "output_type": "stream",
          "name": "stdout",
          "text": [
            "1.0: 0.0, 0.0: 1.0, 1.0: 0.0, 1.0: 0.0, 0.0: 1.0, 1.0: 0.0, 1.0: 0.0, 1.0: 0.0, 1.0: 0.0, 1.0: 0.0, 1.0: 0.0, 1.0: 0.0, 1.0: 0.0, 1.0: 0.0, 1.0: 0.0, 1.0: 0.0, 1.0: 0.0, 1.0: 0.0, 1.0: 0.0, 1.0: 0.0, "
          ]
        },
        {
          "output_type": "stream",
          "name": "stderr",
          "text": [
            "109it [00:00, 259.33it/s]"
          ]
        },
        {
          "output_type": "stream",
          "name": "stdout",
          "text": [
            "0.0: 1.0, 1.0: 0.0, 1.0: 0.0, 1.0: 0.0, 1.0: 0.0, 0.0: 1.0, 1.0: 0.0, 1.0: 0.0, 0.0: 1.0, 1.0: 0.0, 1.0: 0.0, 1.0: 0.0, 1.0: 0.0, 0.0: 1.0, 1.0: 0.0, 1.0: 0.0, "
          ]
        },
        {
          "output_type": "stream",
          "name": "stderr",
          "text": [
            "162it [00:00, 251.97it/s]"
          ]
        },
        {
          "output_type": "stream",
          "name": "stdout",
          "text": [
            "1.0: 0.0, 1.0: 0.0, 0.0: 1.0, 1.0: 0.0, 1.0: 0.0, 1.0: 0.0, 1.0: 0.0, 1.0: 0.0, 1.0: 0.0, 1.0: 0.0, 1.0: 0.0, 1.0: 0.0, 1.0: 0.0, 1.0: 0.0, 1.0: 0.0, 1.0: 0.0, 1.0: 0.0, 1.0: 0.0, 1.0: 0.0, 1.0: 0.0, 1.0: 0.0, 1.0: 0.0, 1.0: 0.0, 1.0: 0.0, 1.0: 0.0, 1.0: 0.0, 1.0: 0.0, 1.0: 0.0, "
          ]
        },
        {
          "output_type": "stream",
          "name": "stderr",
          "text": [
            "214it [00:00, 249.28it/s]"
          ]
        },
        {
          "output_type": "stream",
          "name": "stdout",
          "text": [
            "1.0: 0.0, 1.0: 0.0, 1.0: 0.0, 1.0: 0.0, 1.0: 0.0, 1.0: 0.0, 1.0: 0.0, 0.0: 1.0, 1.0: 0.0, 1.0: 0.0, 1.0: 0.0, 1.0: 0.0, 1.0: 0.0, 1.0: 0.0, 1.0: 0.0, 1.0: 0.0, 1.0: 0.0, 1.0: 0.0, 1.0: 0.0, 1.0: 0.0, 1.0: 0.0, 1.0: 0.0, 1.0: 0.0, 1.0: 0.0, 1.0: 0.0, 1.0: 0.0, 1.0: 0.0, 1.0: 0.0, 1.0: 0.0, 1.0: 0.0, 1.0: 0.0, "
          ]
        },
        {
          "output_type": "stream",
          "name": "stderr",
          "text": [
            "\r239it [00:01, 75.91it/s] "
          ]
        },
        {
          "output_type": "stream",
          "name": "stdout",
          "text": [
            "0.0: 1.0, 1.0: 0.0, 0.0: 1.0, 1.0: 0.0, 1.0: 0.0, 1.0: 0.0, 1.0: 0.0, 1.0: 0.0, 1.0: 0.0, 1.0: 0.0, 1.0: 0.0, 1.0: 0.0, 0.0: 1.0, 1.0: 0.0, 1.0: 0.0, 1.0: 0.0, "
          ]
        },
        {
          "output_type": "stream",
          "name": "stderr",
          "text": [
            "281it [00:02, 92.42it/s]"
          ]
        },
        {
          "output_type": "stream",
          "name": "stdout",
          "text": [
            "1.0: 0.0, 1.0: 0.0, 1.0: 0.0, 1.0: 0.0, 1.0: 0.0, 1.0: 0.0, 1.0: 0.0, 1.0: 0.0, 1.0: 0.0, 1.0: 0.0, 1.0: 0.0, 0.0: 1.0, 0.0: 1.0, 1.0: 0.0, 1.0: 0.0, 1.0: 0.0, 1.0: 0.0, 1.0: 0.0, 1.0: 0.0, 1.0: 0.0, 1.0: 0.0, 1.0: 0.0, 1.0: 0.0, 0.0: 1.0, 1.0: 0.0, 1.0: 0.0, 1.0: 0.0, 1.0: 0.0, 1.0: 0.0, "
          ]
        },
        {
          "output_type": "stream",
          "name": "stderr",
          "text": [
            "330it [00:02, 137.05it/s]"
          ]
        },
        {
          "output_type": "stream",
          "name": "stdout",
          "text": [
            "1.0: 0.0, 1.0: 0.0, 1.0: 0.0, 1.0: 0.0, 1.0: 0.0, 0.0: 1.0, 0.0: 1.0, 1.0: 0.0, 1.0: 0.0, 1.0: 0.0, 1.0: 0.0, 1.0: 0.0, 1.0: 0.0, 1.0: 0.0, 1.0: 0.0, 1.0: 0.0, 1.0: 0.0, 1.0: 0.0, 1.0: 0.0, 1.0: 0.0, 1.0: 0.0, 1.0: 0.0, 1.0: 0.0, 1.0: 0.0, 1.0: 0.0, 1.0: 0.0, 1.0: 0.0, 1.0: 0.0, 0.0: 1.0, 1.0: 0.0, 1.0: 0.0, "
          ]
        },
        {
          "output_type": "stream",
          "name": "stderr",
          "text": [
            "376it [00:02, 171.69it/s]"
          ]
        },
        {
          "output_type": "stream",
          "name": "stdout",
          "text": [
            "1.0: 0.0, 1.0: 0.0, 1.0: 0.0, 1.0: 0.0, 1.0: 0.0, 1.0: 0.0, 1.0: 0.0, 1.0: 0.0, 1.0: 0.0, 1.0: 0.0, 0.0: 1.0, 1.0: 0.0, 1.0: 0.0, 1.0: 0.0, 1.0: 0.0, 1.0: 0.0, 1.0: 0.0, 1.0: 0.0, 1.0: 0.0, 1.0: 0.0, 1.0: 0.0, 1.0: 0.0, 1.0: 0.0, 1.0: 0.0, 1.0: 0.0, 1.0: 0.0, 1.0: 0.0, 1.0: 0.0, 1.0: 0.0, "
          ]
        },
        {
          "output_type": "stream",
          "name": "stderr",
          "text": [
            "\r401it [00:02, 188.45it/s]"
          ]
        },
        {
          "output_type": "stream",
          "name": "stdout",
          "text": [
            "1.0: 0.0, 1.0: 0.0, 1.0: 0.0, 1.0: 0.0, 1.0: 0.0, 0.0: 1.0, 1.0: 0.0, "
          ]
        },
        {
          "output_type": "stream",
          "name": "stderr",
          "text": [
            "447it [00:03, 148.83it/s]"
          ]
        },
        {
          "output_type": "stream",
          "name": "stdout",
          "text": [
            "0.0: 1.0, 1.0: 0.0, 1.0: 0.0, 1.0: 0.0, 1.0: 0.0, 1.0: 0.0, 1.0: 0.0, 1.0: 0.0, 1.0: 0.0, 1.0: 0.0, 1.0: 0.0, 1.0: 0.0, 0.0: 1.0, 1.0: 0.0, 1.0: 0.0, 0.0: 1.0, 1.0: 0.0, 1.0: 0.0, 1.0: 0.0, 1.0: 0.0, 0.0: 1.0, 1.0: 0.0, 1.0: 0.0, 1.0: "
          ]
        },
        {
          "output_type": "stream",
          "name": "stderr",
          "text": [
            "500it [00:03, 193.57it/s]"
          ]
        },
        {
          "output_type": "stream",
          "name": "stdout",
          "text": [
            "0.0, 1.0: 0.0, 1.0: 0.0, 1.0: 0.0, 1.0: 0.0, 1.0: 0.0, 1.0: 0.0, 1.0: 0.0, 0.0: 1.0, 0.0: 1.0, 1.0: 0.0, 1.0: 0.0, 1.0: 0.0, 1.0: 0.0, 1.0: 0.0, 1.0: 0.0, 0.0: 1.0, 1.0: 0.0, 1.0: 0.0, 1.0: 0.0, 1.0: 0.0, "
          ]
        },
        {
          "output_type": "stream",
          "name": "stderr",
          "text": [
            "550it [00:03, 214.94it/s]"
          ]
        },
        {
          "output_type": "stream",
          "name": "stdout",
          "text": [
            "1.0: 0.0, 1.0: 0.0, 1.0: 0.0, 0.0: 1.0, 1.0: 0.0, 1.0: 0.0, 1.0: 0.0, 0.0: 1.0, 0.0: 1.0, 1.0: 0.0, 1.0: 0.0, 1.0: 0.0, 1.0: 0.0, 1.0: 0.0, 1.0: 0.0, 1.0: 0.0, 1.0: 0.0, 1.0: 0.0, 1.0: 0.0, 1.0: 0.0, 1.0: 0.0, 1.0: 0.0, 1.0: 0.0, "
          ]
        },
        {
          "output_type": "stream",
          "name": "stderr",
          "text": [
            "601it [00:03, 232.27it/s]"
          ]
        },
        {
          "output_type": "stream",
          "name": "stdout",
          "text": [
            "1.0: 0.0, 1.0: 0.0, 1.0: 0.0, 1.0: 0.0, 1.0: 0.0, 1.0: 0.0, 1.0: 0.0, 1.0: 0.0, 1.0: 0.0, 1.0: 0.0, 1.0: 0.0, 1.0: 0.0, 1.0: 0.0, 1.0: 0.0, 1.0: 0.0, 1.0: 0.0, 1.0: 0.0, 1.0: 0.0, "
          ]
        },
        {
          "output_type": "stream",
          "name": "stderr",
          "text": [
            "652it [00:03, 240.07it/s]"
          ]
        },
        {
          "output_type": "stream",
          "name": "stdout",
          "text": [
            "1.0: 0.0, 1.0: 0.0, 1.0: 0.0, 1.0: 0.0, 1.0: 0.0, 1.0: 0.0, 1.0: 0.0, 1.0: 0.0, 1.0: 0.0, 1.0: 0.0, 1.0: 0.0, 1.0: 0.0, 1.0: 0.0, 1.0: 0.0, 1.0: 0.0, 1.0: 0.0, 1.0: 0.0, "
          ]
        },
        {
          "output_type": "stream",
          "name": "stderr",
          "text": [
            "703it [00:04, 210.37it/s]"
          ]
        },
        {
          "output_type": "stream",
          "name": "stdout",
          "text": [
            "1.0: 0.0, 1.0: 0.0, 0.0: 1.0, 1.0: 0.0, 0.0: 1.0, 1.0: 0.0, 1.0: 0.0, 1.0: 0.0, 1.0: 0.0, 1.0: 0.0, 1.0: 0.0, 1.0: 0.0, 0.0: 1.0, 1.0: 0.0, 1.0: 0.0, 1.0: 0.0, 0.0: 1.0, 1.0: 0.0, 1.0: 0.0, 1.0: 0.0, 1.0: 0.0, 1.0: 0.0, 1.0: 0.0, "
          ]
        },
        {
          "output_type": "stream",
          "name": "stderr",
          "text": [
            "757it [00:04, 236.04it/s]"
          ]
        },
        {
          "output_type": "stream",
          "name": "stdout",
          "text": [
            "1.0: 0.0, 1.0: 0.0, 1.0: 0.0, 1.0: 0.0, 1.0: 0.0, 1.0: 0.0, 1.0: 0.0, 0.0: 1.0, 1.0: 0.0, 1.0: 0.0, 1.0: 0.0, 1.0: 0.0, 1.0: 0.0, 1.0: 0.0, 1.0: 0.0, "
          ]
        },
        {
          "output_type": "stream",
          "name": "stderr",
          "text": [
            "810it [00:04, 244.14it/s]"
          ]
        },
        {
          "output_type": "stream",
          "name": "stdout",
          "text": [
            "1.0: 0.0, 1.0: 0.0, 1.0: 0.0, 1.0: 0.0, 1.0: 0.0, 0.0: 1.0, 1.0: 0.0, 1.0: 0.0, 1.0: 0.0, 1.0: 0.0, 1.0: 0.0, 1.0: 0.0, 1.0: 0.0, 1.0: 0.0, 1.0: 0.0, 1.0: 0.0, 1.0: 0.0, 1.0: 0.0, 1.0: 0.0, 1.0: 0.0, "
          ]
        },
        {
          "output_type": "stream",
          "name": "stderr",
          "text": [
            "890it [00:04, 258.68it/s]"
          ]
        },
        {
          "output_type": "stream",
          "name": "stdout",
          "text": [
            "0.0: 1.0, 1.0: 0.0, 1.0: 0.0, 1.0: 0.0, 1.0: 0.0, 1.0: 0.0, 1.0: 0.0, 1.0: 0.0, 1.0: 0.0, 1.0: 0.0, 1.0: 0.0, 1.0: 0.0, 1.0: 0.0, 1.0: 0.0, 1.0: 0.0, 0.0: 1.0, 1.0: 0.0, 1.0: 0.0, 1.0: 0.0, 0.0: 1.0, 1.0: 0.0, 1.0: 0.0, 1.0: 0.0, 0.0: 1.0, 1.0: 0.0, 0.0: 1.0, 1.0: 0.0, "
          ]
        },
        {
          "output_type": "stream",
          "name": "stderr",
          "text": [
            "\r917it [00:05, 83.28it/s] "
          ]
        },
        {
          "output_type": "stream",
          "name": "stdout",
          "text": [
            "1.0: 0.0, 1.0: 0.0, 1.0: 0.0, 1.0: 0.0, 1.0: 0.0, 1.0: 0.0, 1.0: 0.0, 0.0: 1.0, 1.0: 0.0, 1.0: 0.0, "
          ]
        },
        {
          "output_type": "stream",
          "name": "stderr",
          "text": [
            "964it [00:06, 102.23it/s]"
          ]
        },
        {
          "output_type": "stream",
          "name": "stdout",
          "text": [
            "1.0: 0.0, 1.0: 0.0, 1.0: 0.0, 0.0: 1.0, 1.0: 0.0, 0.0: 1.0, 1.0: 0.0, 1.0: 0.0, 0.0: 1.0, 1.0: 0.0, 1.0: 0.0, 1.0: 0.0, 1.0: 0.0, 1.0: 0.0, 1.0: 0.0, 1.0: 0.0, 1.0: 0.0, 1.0: 0.0, 0.0: 1.0, 1.0: 0.0, "
          ]
        },
        {
          "output_type": "stream",
          "name": "stderr",
          "text": [
            "1015it [00:06, 146.73it/s]"
          ]
        },
        {
          "output_type": "stream",
          "name": "stdout",
          "text": [
            "1.0: 0.0, 1.0: 0.0, 1.0: 0.0, 1.0: 0.0, 1.0: 0.0, 1.0: 0.0, 1.0: 0.0, 1.0: 0.0, 0.0: 1.0, 1.0: 0.0, 1.0: 0.0, 1.0: 0.0, 0.0: 1.0, 1.0: 0.0, 1.0: 0.0, 1.0: 0.0, 1.0: 0.0, 1.0: 0.0, 1.0: 0.0, 1.0: 0.0, 0.0: 1.0, 0.0: 1.0, 1.0: 0.0, "
          ]
        },
        {
          "output_type": "stream",
          "name": "stderr",
          "text": [
            "\r1024it [00:06, 162.29it/s]\n"
          ]
        },
        {
          "output_type": "stream",
          "name": "stdout",
          "text": [
            "\n",
            "Epoch 005: | Loss: 0.73273 | Acc: 56.348\n",
            "\n"
          ]
        },
        {
          "output_type": "stream",
          "name": "stderr",
          "text": [
            "26it [00:00, 255.35it/s]"
          ]
        },
        {
          "output_type": "stream",
          "name": "stdout",
          "text": [
            "1.0: 0.0, 1.0: 0.0, 1.0: 0.0, 0.0: 1.0, 1.0: 0.0, 1.0: 0.0, 1.0: 0.0, 1.0: 0.0, 0.0: 1.0, 1.0: 0.0, 1.0: 0.0, 1.0: 0.0, 1.0: 0.0, 1.0: 0.0, 1.0: 0.0, 1.0: 0.0, 1.0: 0.0, 1.0: 0.0, 0.0: 1.0, "
          ]
        },
        {
          "output_type": "stream",
          "name": "stderr",
          "text": [
            "\r52it [00:00, 246.59it/s]"
          ]
        },
        {
          "output_type": "stream",
          "name": "stdout",
          "text": [
            "1.0: 0.0, 0.0: 1.0, 1.0: 0.0, "
          ]
        },
        {
          "output_type": "stream",
          "name": "stderr",
          "text": [
            "\r78it [00:00, 251.44it/s]"
          ]
        },
        {
          "output_type": "stream",
          "name": "stdout",
          "text": [
            "1.0: 0.0, 0.0: 1.0, 1.0: 0.0, 1.0: 0.0, 1.0: 0.0, 1.0: 0.0, 0.0: 1.0, 1.0: 0.0, 1.0: 0.0, 0.0: 1.0, 0.0: 1.0, 1.0: 0.0, 1.0: 0.0, 1.0: 0.0, 1.0: 0.0, 0.0: 1.0, 0.0: 1.0, "
          ]
        },
        {
          "output_type": "stream",
          "name": "stderr",
          "text": [
            "\r104it [00:00, 246.93it/s]"
          ]
        },
        {
          "output_type": "stream",
          "name": "stdout",
          "text": [
            "1.0: 0.0, "
          ]
        },
        {
          "output_type": "stream",
          "name": "stderr",
          "text": [
            "155it [00:00, 220.42it/s]"
          ]
        },
        {
          "output_type": "stream",
          "name": "stdout",
          "text": [
            "1.0: 0.0, 1.0: 0.0, 1.0: 0.0, 1.0: 0.0, 1.0: 0.0, 1.0: 0.0, 1.0: 0.0, 0.0: 1.0, 1.0: 0.0, 1.0: 0.0, 1.0: 0.0, 1.0: 0.0, 1.0: 0.0, 1.0: 0.0, 1.0: 0.0, 1.0: 0.0, 1.0: 0.0, 1.0: 0.0, 1.0: 0.0, 1.0: 0.0, 1.0: 0.0, 1.0: 0.0, 1.0: 0.0, 1.0: 0.0, 1.0: 0.0, 1.0: 0.0, "
          ]
        },
        {
          "output_type": "stream",
          "name": "stderr",
          "text": [
            "203it [00:00, 215.52it/s]"
          ]
        },
        {
          "output_type": "stream",
          "name": "stdout",
          "text": [
            "1.0: 0.0, 1.0: 0.0, 1.0: 0.0, 1.0: 0.0, 1.0: 0.0, 1.0: 0.0, 0.0: 1.0, 1.0: 0.0, 1.0: 0.0, 0.0: 1.0, 1.0: 0.0, 1.0: 0.0, 1.0: 0.0, 1.0: 0.0, 1.0: 0.0, 1.0: 0.0, 1.0: 0.0, 1.0: 0.0, 1.0: 0.0, 1.0: 0.0, 1.0: 0.0, 1.0: 0.0, 1.0: 0.0, 1.0: 0.0, 1.0: 0.0, 1.0: 0.0, 1.0: 0.0, 1.0: 0.0, 1.0: 0.0, 1.0: 0.0, 1.0: 0.0, 0.0: 1.0, "
          ]
        },
        {
          "output_type": "stream",
          "name": "stderr",
          "text": [
            "252it [00:01, 228.85it/s]"
          ]
        },
        {
          "output_type": "stream",
          "name": "stdout",
          "text": [
            "1.0: 0.0, 1.0: 0.0, 1.0: 0.0, 1.0: 0.0, 1.0: 0.0, 1.0: 0.0, 1.0: 0.0, 1.0: 0.0, 1.0: 0.0, 1.0: 0.0, 1.0: 0.0, 1.0: 0.0, 1.0: 0.0, 1.0: 0.0, 1.0: 0.0, 1.0: 0.0, 1.0: 0.0, 1.0: 0.0, 1.0: 0.0, 1.0: 0.0, 1.0: 0.0, 1.0: 0.0, 1.0: 0.0, 1.0: 0.0, 1.0: 0.0, "
          ]
        },
        {
          "output_type": "stream",
          "name": "stderr",
          "text": [
            "302it [00:01, 235.47it/s]"
          ]
        },
        {
          "output_type": "stream",
          "name": "stdout",
          "text": [
            "1.0: 0.0, 1.0: 0.0, 1.0: 0.0, 1.0: 0.0, 1.0: 0.0, 1.0: 0.0, 1.0: 0.0, 1.0: 0.0, 0.0: 1.0, 1.0: 0.0, 1.0: 0.0, 1.0: 0.0, 1.0: 0.0, 1.0: 0.0, 1.0: 0.0, 0.0: 1.0, 1.0: 0.0, 1.0: 0.0, 0.0: 1.0, 1.0: 0.0, 1.0: 0.0, 1.0: 0.0, 1.0: 0.0, 1.0: 0.0, 0.0: 1.0, 1.0: 0.0, 1.0: 0.0, 1.0: 0.0, 1.0: 0.0, 1.0: 0.0, "
          ]
        },
        {
          "output_type": "stream",
          "name": "stderr",
          "text": [
            "\r326it [00:01, 236.76it/s]"
          ]
        },
        {
          "output_type": "stream",
          "name": "stdout",
          "text": [
            "1.0: 0.0, 1.0: 0.0, 1.0: 0.0, 1.0: 0.0, 1.0: 0.0, 0.0: 1.0, 1.0: 0.0, 1.0: 0.0, 1.0: 0.0, 1.0: 0.0, 1.0: 0.0, 1.0: 0.0, 1.0: 0.0, "
          ]
        },
        {
          "output_type": "stream",
          "name": "stderr",
          "text": [
            "376it [00:01, 190.38it/s]"
          ]
        },
        {
          "output_type": "stream",
          "name": "stdout",
          "text": [
            "0.0: 1.0, 1.0: 0.0, 1.0: 0.0, 1.0: 0.0, 1.0: 0.0, 1.0: 0.0, 1.0: 0.0, 1.0: 0.0, 1.0: 0.0, 1.0: 0.0, 1.0: 0.0, 1.0: 0.0, 1.0: 0.0, 1.0: 0.0, 1.0: 0.0, 1.0: 0.0, 1.0: 0.0, 1.0: 0.0, 0.0: 1.0, 1.0: 0.0, 1.0: 0.0, 1.0: 0.0, 1.0: 0.0, 1.0: 0.0, 1.0: 0.0, 0.0: 1.0, 1.0: 0.0, 1.0: 0.0, 1.0: 0.0, 1.0: 0.0, 1.0: 0.0, 1.0: 0.0, "
          ]
        },
        {
          "output_type": "stream",
          "name": "stderr",
          "text": [
            "424it [00:02, 110.13it/s]"
          ]
        },
        {
          "output_type": "stream",
          "name": "stdout",
          "text": [
            "1.0: 0.0, 1.0: 0.0, 0.0: 1.0, 1.0: 0.0, 1.0: 0.0, 1.0: 0.0, 1.0: 0.0, 1.0: 0.0, 1.0: 0.0, 1.0: 0.0, 1.0: 0.0, 1.0: 0.0, 1.0: 0.0, 1.0: 0.0, 1.0: 0.0, 1.0: 0.0, 1.0: 0.0, 1.0: 0.0, 1.0: 0.0, 1.0: 0.0, 1.0: "
          ]
        },
        {
          "output_type": "stream",
          "name": "stderr",
          "text": [
            "474it [00:02, 154.88it/s]"
          ]
        },
        {
          "output_type": "stream",
          "name": "stdout",
          "text": [
            "0.0, 1.0: 0.0, 1.0: 0.0, 1.0: 0.0, 1.0: 0.0, 1.0: 0.0, 1.0: 0.0, 0.0: 1.0, 1.0: 0.0, 1.0: 0.0, 1.0: 0.0, 1.0: 0.0, 1.0: 0.0, 1.0: 0.0, 0.0: 1.0, 0.0: 1.0, 1.0: 0.0, 1.0: 0.0, 1.0: 0.0, 0.0: 1.0, 1.0: 0.0, "
          ]
        },
        {
          "output_type": "stream",
          "name": "stderr",
          "text": [
            "526it [00:02, 195.69it/s]"
          ]
        },
        {
          "output_type": "stream",
          "name": "stdout",
          "text": [
            "0.0: 1.0, 1.0: 0.0, 1.0: 0.0, 1.0: 0.0, 1.0: 0.0, 1.0: 0.0, 1.0: 0.0, 1.0: 0.0, 1.0: 0.0, 1.0: 0.0, 1.0: 0.0, 1.0: 0.0, 1.0: 0.0, 1.0: 0.0, 1.0: 0.0, 0.0: 1.0, 0.0: 1.0, 1.0: 0.0, 1.0: 0.0, 1.0: 0.0, 1.0: 0.0, 0.0: 1.0, 1.0: "
          ]
        },
        {
          "output_type": "stream",
          "name": "stderr",
          "text": [
            "576it [00:03, 218.87it/s]"
          ]
        },
        {
          "output_type": "stream",
          "name": "stdout",
          "text": [
            "0.0, 1.0: 0.0, 1.0: 0.0, 1.0: 0.0, 0.0: 1.0, 1.0: 0.0, 1.0: 0.0, 1.0: 0.0, 1.0: 0.0, 1.0: 0.0, 0.0: 1.0, 1.0: 0.0, 1.0: 0.0, 1.0: 0.0, 1.0: 0.0, 1.0: 0.0, 1.0: 0.0, 1.0: 0.0, 1.0: 0.0, 1.0: 0.0, 1.0: 0.0, 1.0: 0.0, 0.0: 1.0, 1.0: 0.0, 1.0: 0.0, "
          ]
        },
        {
          "output_type": "stream",
          "name": "stderr",
          "text": [
            "626it [00:03, 231.18it/s]"
          ]
        },
        {
          "output_type": "stream",
          "name": "stdout",
          "text": [
            "1.0: 0.0, 1.0: 0.0, 1.0: 0.0, 1.0: 0.0, 1.0: 0.0, 1.0: 0.0, 0.0: 1.0, 1.0: 0.0, 1.0: 0.0, 1.0: 0.0, 1.0: 0.0, 1.0: 0.0, 1.0: 0.0, 1.0: 0.0, 1.0: 0.0, 1.0: 0.0, 1.0: 0.0, 1.0: 0.0, 1.0: 0.0, 1.0: 0.0, 0.0: 1.0, 0.0: 1.0, "
          ]
        },
        {
          "output_type": "stream",
          "name": "stderr",
          "text": [
            "705it [00:03, 251.12it/s]"
          ]
        },
        {
          "output_type": "stream",
          "name": "stdout",
          "text": [
            "0.0: 1.0, 1.0: 0.0, 1.0: 0.0, 1.0: 0.0, 1.0: 0.0, 1.0: 0.0, 1.0: 0.0, 1.0: 0.0, 1.0: 0.0, 1.0: 0.0, 1.0: 0.0, 1.0: 0.0, 1.0: 0.0, 1.0: 0.0, 1.0: 0.0, 1.0: 0.0, 1.0: 0.0, 1.0: 0.0, 1.0: 0.0, 0.0: 1.0, 1.0: 0.0, 1.0: 0.0, 1.0: 0.0, 1.0: 0.0, 1.0: 0.0, 1.0: 0.0, "
          ]
        },
        {
          "output_type": "stream",
          "name": "stderr",
          "text": [
            "759it [00:03, 187.84it/s]"
          ]
        },
        {
          "output_type": "stream",
          "name": "stdout",
          "text": [
            "1.0: 0.0, 1.0: 0.0, 1.0: 0.0, 1.0: 0.0, 1.0: 0.0, 0.0: 1.0, 0.0: 1.0, 1.0: 0.0, 1.0: 0.0, 1.0: 0.0, 1.0: 0.0, 1.0: 0.0, 1.0: 0.0, 1.0: 0.0, 1.0: 0.0, 1.0: 0.0, 0.0: 1.0, 1.0: 0.0, "
          ]
        },
        {
          "output_type": "stream",
          "name": "stderr",
          "text": [
            "808it [00:04, 207.46it/s]"
          ]
        },
        {
          "output_type": "stream",
          "name": "stdout",
          "text": [
            "1.0: 0.0, 1.0: 0.0, 1.0: 0.0, 1.0: 0.0, 1.0: 0.0, 1.0: 0.0, 1.0: 0.0, 1.0: 0.0, 1.0: 0.0, 1.0: 0.0, 1.0: 0.0, 0.0: 1.0, 1.0: 0.0, 1.0: 0.0, 1.0: 0.0, 1.0: 0.0, 0.0: 1.0, 1.0: 0.0, 1.0: 0.0, 1.0: 0.0, 1.0: 0.0, "
          ]
        },
        {
          "output_type": "stream",
          "name": "stderr",
          "text": [
            "860it [00:04, 228.50it/s]"
          ]
        },
        {
          "output_type": "stream",
          "name": "stdout",
          "text": [
            "1.0: 0.0, 1.0: 0.0, 1.0: 0.0, 1.0: 0.0, 1.0: 0.0, 1.0: 0.0, 1.0: 0.0, 1.0: 0.0, 1.0: 0.0, 1.0: 0.0, 1.0: 0.0, 1.0: 0.0, 1.0: 0.0, 1.0: 0.0, 1.0: 0.0, 1.0: 0.0, 1.0: 0.0, 1.0: 0.0, "
          ]
        },
        {
          "output_type": "stream",
          "name": "stderr",
          "text": [
            "\r886it [00:04, 235.46it/s]"
          ]
        },
        {
          "output_type": "stream",
          "name": "stdout",
          "text": [
            "1.0: 0.0, 1.0: 0.0, 1.0: 0.0, 0.0: 1.0, 1.0: 0.0, 1.0: 0.0, 1.0: 0.0, 0.0: 1.0, 1.0: 0.0, "
          ]
        },
        {
          "output_type": "stream",
          "name": "stderr",
          "text": [
            "938it [00:04, 179.69it/s]"
          ]
        },
        {
          "output_type": "stream",
          "name": "stdout",
          "text": [
            "1.0: 0.0, 1.0: 0.0, 1.0: 0.0, 1.0: 0.0, 1.0: 0.0, 1.0: 0.0, 1.0: 0.0, 1.0: 0.0, 1.0: 0.0, 1.0: 0.0, 1.0: 0.0, 1.0: 0.0, 1.0: 0.0, 1.0: 0.0, 1.0: 0.0, 1.0: 0.0, 1.0: 0.0, 1.0: 0.0, 1.0: 0.0, 1.0: 0.0, "
          ]
        },
        {
          "output_type": "stream",
          "name": "stderr",
          "text": [
            "990it [00:05, 212.03it/s]"
          ]
        },
        {
          "output_type": "stream",
          "name": "stdout",
          "text": [
            "1.0: 0.0, 1.0: 0.0, 1.0: 0.0, 1.0: 0.0, 0.0: 1.0, 1.0: 0.0, 1.0: 0.0, 1.0: 0.0, 1.0: 0.0, 1.0: 0.0, 1.0: 0.0, 1.0: 0.0, 1.0: 0.0, 0.0: 1.0, 1.0: 0.0, 1.0: 0.0, 1.0: 0.0, 1.0: 0.0, 0.0: 1.0, "
          ]
        },
        {
          "output_type": "stream",
          "name": "stderr",
          "text": [
            "1024it [00:05, 195.99it/s]\n"
          ]
        },
        {
          "output_type": "stream",
          "name": "stdout",
          "text": [
            "1.0: 0.0, 0.0: 1.0, 1.0: 0.0, 0.0: 1.0, 1.0: 0.0, 1.0: 0.0, 1.0: 0.0, 1.0: 0.0, 1.0: 0.0, 1.0: 0.0, 1.0: 0.0, 1.0: 0.0, 1.0: 0.0, 0.0: 1.0, 1.0: 0.0, 1.0: 0.0, \n",
            "Epoch 006: | Loss: 0.73687 | Acc: 55.566\n",
            "\n"
          ]
        },
        {
          "output_type": "stream",
          "name": "stderr",
          "text": [
            "\r0it [00:00, ?it/s]"
          ]
        },
        {
          "output_type": "stream",
          "name": "stdout",
          "text": [
            "0.0: 1.0, 1.0: 0.0, 1.0: 0.0, 1.0: 0.0, "
          ]
        },
        {
          "output_type": "stream",
          "name": "stderr",
          "text": [
            "54it [00:00, 125.24it/s]"
          ]
        },
        {
          "output_type": "stream",
          "name": "stdout",
          "text": [
            "1.0: 0.0, 1.0: 0.0, 1.0: 0.0, 1.0: 0.0, 1.0: 0.0, 0.0: 1.0, 0.0: 1.0, 1.0: 0.0, 1.0: 0.0, 1.0: 0.0, 1.0: 0.0, 1.0: 0.0, 1.0: 0.0, 1.0: 0.0, 1.0: 0.0, 1.0: 0.0, 1.0: 0.0, 1.0: 0.0, 1.0: 0.0, 0.0: 1.0, 1.0: 0.0, 1.0: 0.0, 1.0: 0.0, 0.0: 1.0, 1.0: 0.0, "
          ]
        },
        {
          "output_type": "stream",
          "name": "stderr",
          "text": [
            "107it [00:00, 192.76it/s]"
          ]
        },
        {
          "output_type": "stream",
          "name": "stdout",
          "text": [
            "1.0: 0.0, 1.0: 0.0, 1.0: 0.0, 0.0: 1.0, 1.0: 0.0, 0.0: 1.0, 1.0: 0.0, 1.0: 0.0, 1.0: 0.0, 1.0: 0.0, 1.0: 0.0, 1.0: 0.0, 1.0: 0.0, 1.0: 0.0, 1.0: 0.0, 1.0: 0.0, "
          ]
        },
        {
          "output_type": "stream",
          "name": "stderr",
          "text": [
            "159it [00:00, 219.40it/s]"
          ]
        },
        {
          "output_type": "stream",
          "name": "stdout",
          "text": [
            "1.0: 0.0, 1.0: 0.0, 1.0: 0.0, 1.0: 0.0, 1.0: 0.0, 1.0: 0.0, 1.0: 0.0, 1.0: 0.0, 1.0: 0.0, 1.0: 0.0, 1.0: 0.0, 0.0: 1.0, 1.0: 0.0, 1.0: 0.0, 1.0: 0.0, 1.0: 0.0, 1.0: 0.0, 1.0: 0.0, 1.0: 0.0, 1.0: 0.0, 1.0: 0.0, 1.0: 0.0, 1.0: 0.0, 1.0: 0.0, 1.0: 0.0, 0.0: 1.0, 1.0: 0.0, 1.0: 0.0, 1.0: 0.0, 1.0: 0.0, "
          ]
        },
        {
          "output_type": "stream",
          "name": "stderr",
          "text": [
            "209it [00:01, 225.95it/s]"
          ]
        },
        {
          "output_type": "stream",
          "name": "stdout",
          "text": [
            "1.0: 0.0, 1.0: 0.0, 1.0: 0.0, 1.0: 0.0, 1.0: 0.0, 1.0: 0.0, 1.0: 0.0, 1.0: 0.0, 1.0: 0.0, 1.0: 0.0, 1.0: 0.0, 1.0: 0.0, 1.0: 0.0, 1.0: 0.0, 0.0: 1.0, 1.0: 0.0, "
          ]
        },
        {
          "output_type": "stream",
          "name": "stderr",
          "text": [
            "257it [00:01, 182.16it/s]"
          ]
        },
        {
          "output_type": "stream",
          "name": "stdout",
          "text": [
            "1.0: 0.0, 1.0: 0.0, 1.0: 0.0, 1.0: 0.0, 1.0: 0.0, 0.0: 1.0, 1.0: 0.0, 1.0: 0.0, 1.0: 0.0, 1.0: 0.0, 1.0: 0.0, 0.0: 1.0, 1.0: 0.0, 1.0: 0.0, 1.0: 0.0, 1.0: 0.0, 0.0: 1.0, 1.0: 0.0, 1.0: 0.0, 1.0: 0.0, 1.0: 0.0, 1.0: 0.0, 1.0: 0.0, 1.0: 0.0, 1.0: 0.0, 1.0: 0.0, 1.0: 0.0, 1.0: 0.0, 1.0: 0.0, "
          ]
        },
        {
          "output_type": "stream",
          "name": "stderr",
          "text": [
            "304it [00:01, 203.79it/s]"
          ]
        },
        {
          "output_type": "stream",
          "name": "stdout",
          "text": [
            "1.0: 0.0, 1.0: 0.0, 1.0: 0.0, 1.0: 0.0, 1.0: 0.0, 1.0: 0.0, 0.0: 1.0, 1.0: 0.0, 0.0: 1.0, 1.0: 0.0, 1.0: 0.0, 1.0: 0.0, 1.0: 0.0, 1.0: 0.0, 1.0: 0.0, 1.0: 0.0, 1.0: 0.0, 1.0: 0.0, 1.0: 0.0, 1.0: 0.0, 1.0: 0.0, 1.0: 0.0, 1.0: 0.0, 1.0: 0.0, 1.0: 0.0, 1.0: 0.0, 1.0: 0.0, 1.0: 0.0, "
          ]
        },
        {
          "output_type": "stream",
          "name": "stderr",
          "text": [
            "351it [00:01, 216.24it/s]"
          ]
        },
        {
          "output_type": "stream",
          "name": "stdout",
          "text": [
            "1.0: 0.0, 1.0: 0.0, 1.0: 0.0, 0.0: 1.0, 1.0: 0.0, 1.0: 0.0, 1.0: 0.0, 1.0: 0.0, 1.0: 0.0, 1.0: 0.0, 0.0: 1.0, 1.0: 0.0, 1.0: 0.0, 1.0: 0.0, 1.0: 0.0, 1.0: 0.0, 1.0: 0.0, 1.0: 0.0, 1.0: 0.0, 1.0: 0.0, 1.0: 0.0, 0.0: 1.0, 1.0: 0.0, 0.0: 1.0, 1.0: 0.0, 1.0: 0.0, 1.0: 0.0, 1.0: 0.0, 1.0: 0.0, 1.0: 0.0, "
          ]
        },
        {
          "output_type": "stream",
          "name": "stderr",
          "text": [
            "400it [00:01, 228.80it/s]"
          ]
        },
        {
          "output_type": "stream",
          "name": "stdout",
          "text": [
            "1.0: 0.0, 1.0: 0.0, 1.0: 0.0, 1.0: 0.0, 1.0: 0.0, 1.0: 0.0, 1.0: 0.0, 1.0: 0.0, 0.0: 1.0, 1.0: 0.0, 1.0: 0.0, 1.0: 0.0, 1.0: 0.0, 1.0: 0.0, 1.0: 0.0, 1.0: 0.0, 1.0: 0.0, 1.0: 0.0, 1.0: 0.0, 1.0: 0.0, 1.0: 0.0, 1.0: 0.0, 1.0: 0.0, 1.0: 0.0, 0.0: 1.0, 1.0: 0.0, "
          ]
        },
        {
          "output_type": "stream",
          "name": "stderr",
          "text": [
            "449it [00:02, 230.83it/s]"
          ]
        },
        {
          "output_type": "stream",
          "name": "stdout",
          "text": [
            "0.0: 1.0, 1.0: 0.0, 1.0: 0.0, 1.0: 0.0, 1.0: 0.0, 1.0: 0.0, 1.0: 0.0, 1.0: 0.0, 1.0: 0.0, 1.0: 0.0, 1.0: 0.0, 1.0: 0.0, 1.0: 0.0, 1.0: 0.0, 1.0: 0.0, 1.0: 0.0, 1.0: 0.0, 1.0: 0.0, 1.0: 0.0, 1.0: 0.0, "
          ]
        },
        {
          "output_type": "stream",
          "name": "stderr",
          "text": [
            "498it [00:02, 154.90it/s]"
          ]
        },
        {
          "output_type": "stream",
          "name": "stdout",
          "text": [
            "1.0: 0.0, 1.0: 0.0, 1.0: 0.0, 0.0: 1.0, 1.0: 0.0, 1.0: 0.0, 1.0: 0.0, 0.0: 1.0, 1.0: 0.0, 1.0: 0.0, 1.0: 0.0, 1.0: 0.0, 1.0: 0.0, 1.0: 0.0, 1.0: 0.0, 1.0: 0.0, 1.0: 0.0, 1.0: 0.0, 1.0: 0.0, 1.0: 0.0, "
          ]
        },
        {
          "output_type": "stream",
          "name": "stderr",
          "text": [
            "548it [00:02, 191.15it/s]"
          ]
        },
        {
          "output_type": "stream",
          "name": "stdout",
          "text": [
            "0.0: 1.0, 1.0: 0.0, 1.0: 0.0, 1.0: 0.0, 1.0: 0.0, 1.0: 0.0, 1.0: 0.0, 1.0: 0.0, 1.0: 0.0, 0.0: 1.0, 1.0: 0.0, 1.0: 0.0, 1.0: 0.0, 1.0: 0.0, 1.0: 0.0, 1.0: 0.0, 0.0: 1.0, 1.0: 0.0, 1.0: 0.0, 1.0: 0.0, 1.0: 0.0, "
          ]
        },
        {
          "output_type": "stream",
          "name": "stderr",
          "text": [
            "599it [00:03, 216.79it/s]"
          ]
        },
        {
          "output_type": "stream",
          "name": "stdout",
          "text": [
            "1.0: 0.0, 1.0: 0.0, 1.0: 0.0, 1.0: 0.0, 1.0: 0.0, 1.0: 0.0, 1.0: 0.0, 1.0: 0.0, 1.0: 0.0, 1.0: 0.0, 1.0: 0.0, 1.0: 0.0, 1.0: 0.0, 1.0: 0.0, 1.0: 0.0, 0.0: 1.0, 1.0: 0.0, 0.0: 1.0, 1.0: "
          ]
        },
        {
          "output_type": "stream",
          "name": "stderr",
          "text": [
            "651it [00:03, 165.04it/s]"
          ]
        },
        {
          "output_type": "stream",
          "name": "stdout",
          "text": [
            "0.0, 1.0: 0.0, 1.0: 0.0, 1.0: 0.0, 1.0: 0.0, 1.0: 0.0, 1.0: 0.0, 1.0: 0.0, 1.0: 0.0, 1.0: 0.0, 1.0: 0.0, 1.0: 0.0, 1.0: 0.0, 1.0: 0.0, 1.0: 0.0, 0.0: 1.0, 1.0: 0.0, 1.0: 0.0, 1.0: 0.0, 1.0: 0.0, 1.0: 0.0, 1.0: 0.0, 1.0: 0.0, 1.0: 0.0, 1.0: 0.0, 1.0: 0.0, 1.0: 0.0, 1.0: 0.0, "
          ]
        },
        {
          "output_type": "stream",
          "name": "stderr",
          "text": [
            "702it [00:03, 201.19it/s]"
          ]
        },
        {
          "output_type": "stream",
          "name": "stdout",
          "text": [
            "1.0: 0.0, 1.0: 0.0, 1.0: 0.0, 1.0: 0.0, 1.0: 0.0, 1.0: 0.0, 1.0: 0.0, 1.0: 0.0, 1.0: 0.0, 1.0: 0.0, 1.0: 0.0, 1.0: 0.0, 0.0: 1.0, 1.0: 0.0, 1.0: 0.0, 1.0: 0.0, 1.0: 0.0, 1.0: 0.0, 1.0: 0.0, "
          ]
        },
        {
          "output_type": "stream",
          "name": "stderr",
          "text": [
            "754it [00:03, 224.76it/s]"
          ]
        },
        {
          "output_type": "stream",
          "name": "stdout",
          "text": [
            "1.0: 0.0, 1.0: 0.0, 1.0: 0.0, 0.0: 1.0, 1.0: 0.0, 1.0: 0.0, 1.0: 0.0, 0.0: 1.0, 1.0: 0.0, 1.0: 0.0, 1.0: 0.0, 1.0: 0.0, 1.0: 0.0, 1.0: 0.0, 1.0: 0.0, 1.0: 0.0, 1.0: 0.0, 1.0: 0.0, 1.0: 0.0, 1.0: 0.0, "
          ]
        },
        {
          "output_type": "stream",
          "name": "stderr",
          "text": [
            "806it [00:04, 236.87it/s]"
          ]
        },
        {
          "output_type": "stream",
          "name": "stdout",
          "text": [
            "1.0: 0.0, 0.0: 1.0, 0.0: 1.0, 1.0: 0.0, 1.0: 0.0, 1.0: 0.0, 1.0: 0.0, 1.0: 0.0, 1.0: 0.0, "
          ]
        },
        {
          "output_type": "stream",
          "name": "stderr",
          "text": [
            "855it [00:04, 174.84it/s]"
          ]
        },
        {
          "output_type": "stream",
          "name": "stdout",
          "text": [
            "1.0: 0.0, 1.0: 0.0, 1.0: 0.0, 1.0: 0.0, 1.0: 0.0, 1.0: 0.0, 1.0: 0.0, 0.0: 1.0, 1.0: 0.0, 1.0: 0.0, 0.0: 1.0, 0.0: 1.0, 1.0: 0.0, 1.0: 0.0, 1.0: 0.0, 0.0: 1.0, 1.0: 0.0, 1.0: 0.0, 1.0: 0.0, 0.0: 1.0, 1.0: 0.0, 1.0: 0.0, "
          ]
        },
        {
          "output_type": "stream",
          "name": "stderr",
          "text": [
            "906it [00:04, 206.11it/s]"
          ]
        },
        {
          "output_type": "stream",
          "name": "stdout",
          "text": [
            "1.0: 0.0, 1.0: 0.0, 1.0: 0.0, 1.0: 0.0, 1.0: 0.0, 0.0: 1.0, 1.0: 0.0, 1.0: 0.0, 1.0: 0.0, 1.0: 0.0, 1.0: 0.0, 1.0: 0.0, 1.0: 0.0, 1.0: 0.0, 1.0: 0.0, 1.0: 0.0, 1.0: 0.0, 0.0: 1.0, 1.0: 0.0, "
          ]
        },
        {
          "output_type": "stream",
          "name": "stderr",
          "text": [
            "956it [00:04, 224.13it/s]"
          ]
        },
        {
          "output_type": "stream",
          "name": "stdout",
          "text": [
            "0.0: 1.0, 0.0: 1.0, 1.0: 0.0, 1.0: 0.0, 0.0: 1.0, 1.0: 0.0, 1.0: 0.0, 0.0: 1.0, 1.0: 0.0, 0.0: 1.0, 1.0: 0.0, 1.0: 0.0, 0.0: 1.0, 0.0: 1.0, 1.0: 0.0, 1.0: 0.0, 1.0: 0.0, 1.0: 0.0, 1.0: 0.0, 1.0: 0.0, 1.0: 0.0, "
          ]
        },
        {
          "output_type": "stream",
          "name": "stderr",
          "text": [
            "1007it [00:05, 236.92it/s]"
          ]
        },
        {
          "output_type": "stream",
          "name": "stdout",
          "text": [
            "1.0: 0.0, 1.0: 0.0, 1.0: 0.0, 1.0: 0.0, 0.0: 1.0, 1.0: 0.0, 1.0: 0.0, 1.0: 0.0, 1.0: 0.0, 1.0: 0.0, 0.0: 1.0, 1.0: 0.0, 0.0: 1.0, 1.0: 0.0, 1.0: 0.0, 0.0: 1.0, 1.0: 0.0, 1.0: 0.0, 1.0: 0.0, 1.0: 0.0, 1.0: 0.0, "
          ]
        },
        {
          "output_type": "stream",
          "name": "stderr",
          "text": [
            "\r1024it [00:05, 200.35it/s]\n"
          ]
        },
        {
          "output_type": "stream",
          "name": "stdout",
          "text": [
            "1.0: 0.0, 1.0: 0.0, 1.0: 0.0, 1.0: 0.0, 0.0: 1.0, \n",
            "Epoch 007: | Loss: 0.73155 | Acc: 56.348\n",
            "\n"
          ]
        },
        {
          "output_type": "stream",
          "name": "stderr",
          "text": [
            "27it [00:00, 267.09it/s]"
          ]
        },
        {
          "output_type": "stream",
          "name": "stdout",
          "text": [
            "0.0: 1.0, 1.0: 0.0, 1.0: 0.0, 1.0: 0.0, 0.0: 1.0, 1.0: 0.0, 1.0: 0.0, 1.0: 0.0, 1.0: 0.0, 1.0: 0.0, 1.0: 0.0, 1.0: 0.0, 1.0: 0.0, "
          ]
        },
        {
          "output_type": "stream",
          "name": "stderr",
          "text": [
            "79it [00:00, 200.62it/s]"
          ]
        },
        {
          "output_type": "stream",
          "name": "stdout",
          "text": [
            "1.0: 0.0, 1.0: 0.0, 1.0: 0.0, 1.0: 0.0, 1.0: 0.0, 1.0: 0.0, 1.0: 0.0, 0.0: 1.0, 0.0: 1.0, 1.0: 0.0, 1.0: 0.0, 1.0: 0.0, 0.0: 1.0, 1.0: 0.0, 1.0: 0.0, "
          ]
        },
        {
          "output_type": "stream",
          "name": "stderr",
          "text": [
            "129it [00:00, 226.29it/s]"
          ]
        },
        {
          "output_type": "stream",
          "name": "stdout",
          "text": [
            "1.0: 0.0, 1.0: 0.0, 0.0: 1.0, 1.0: 0.0, 1.0: 0.0, 1.0: 0.0, 0.0: 1.0, 1.0: 0.0, 1.0: 0.0, 1.0: 0.0, 0.0: 1.0, 1.0: 0.0, 1.0: 0.0, 1.0: 0.0, 1.0: 0.0, 0.0: 1.0, 1.0: 0.0, 0.0: 1.0, 0.0: 1.0, 1.0: 0.0, 1.0: 0.0, 1.0: 0.0, 1.0: 0.0, 1.0: 0.0, 0.0: "
          ]
        },
        {
          "output_type": "stream",
          "name": "stderr",
          "text": [
            "177it [00:00, 226.28it/s]"
          ]
        },
        {
          "output_type": "stream",
          "name": "stdout",
          "text": [
            "1.0, 1.0: 0.0, 1.0: 0.0, 1.0: 0.0, 1.0: 0.0, 1.0: 0.0, 1.0: 0.0, 1.0: 0.0, 1.0: 0.0, 1.0: 0.0, 1.0: 0.0, 0.0: 1.0, 1.0: 0.0, 1.0: 0.0, 1.0: 0.0, 1.0: 0.0, 1.0: 0.0, 1.0: 0.0, 1.0: 0.0, 1.0: 0.0, 1.0: 0.0, 1.0: 0.0, 1.0: 0.0, 1.0: 0.0, 1.0: 0.0, 1.0: 0.0, 1.0: 0.0, 1.0: "
          ]
        },
        {
          "output_type": "stream",
          "name": "stderr",
          "text": [
            "225it [00:01, 226.88it/s]"
          ]
        },
        {
          "output_type": "stream",
          "name": "stdout",
          "text": [
            "0.0, 1.0: 0.0, 1.0: 0.0, 1.0: 0.0, 1.0: 0.0, 1.0: 0.0, 1.0: 0.0, 1.0: 0.0, 1.0: 0.0, 1.0: 0.0, 1.0: 0.0, 1.0: 0.0, 1.0: 0.0, 1.0: 0.0, 1.0: 0.0, 1.0: 0.0, 1.0: 0.0, 1.0: 0.0, 1.0: 0.0, 1.0: 0.0, 1.0: 0.0, 1.0: 0.0, "
          ]
        },
        {
          "output_type": "stream",
          "name": "stderr",
          "text": [
            "273it [00:01, 150.29it/s]"
          ]
        },
        {
          "output_type": "stream",
          "name": "stdout",
          "text": [
            "1.0: 0.0, 1.0: 0.0, 1.0: 0.0, 1.0: 0.0, 1.0: 0.0, 1.0: 0.0, 1.0: 0.0, 1.0: 0.0, 1.0: 0.0, 0.0: 1.0, 1.0: 0.0, 1.0: 0.0, 1.0: 0.0, 1.0: 0.0, 1.0: 0.0, 0.0: 1.0, 1.0: 0.0, 1.0: 0.0, 1.0: 0.0, 1.0: 0.0, 1.0: 0.0, 1.0: 0.0, 1.0: 0.0, 1.0: 0.0, 1.0: 0.0, 1.0: 0.0, 1.0: 0.0, "
          ]
        },
        {
          "output_type": "stream",
          "name": "stderr",
          "text": [
            "320it [00:01, 184.04it/s]"
          ]
        },
        {
          "output_type": "stream",
          "name": "stdout",
          "text": [
            "1.0: 0.0, 1.0: 0.0, 1.0: 0.0, 1.0: 0.0, 1.0: 0.0, 1.0: 0.0, 1.0: 0.0, 1.0: 0.0, 1.0: 0.0, 1.0: 0.0, 1.0: 0.0, 1.0: 0.0, 1.0: 0.0, 1.0: 0.0, 1.0: 0.0, 1.0: 0.0, 1.0: 0.0, 1.0: 0.0, 1.0: 0.0, 1.0: 0.0, 1.0: 0.0, 1.0: 0.0, 1.0: 0.0, 1.0: 0.0, 1.0: 0.0, 1.0: 0.0, 1.0: 0.0, 1.0: 0.0, 1.0: "
          ]
        },
        {
          "output_type": "stream",
          "name": "stderr",
          "text": [
            "366it [00:01, 202.42it/s]"
          ]
        },
        {
          "output_type": "stream",
          "name": "stdout",
          "text": [
            "0.0, 1.0: 0.0, 1.0: 0.0, 1.0: 0.0, 1.0: 0.0, 1.0: 0.0, 1.0: 0.0, 1.0: 0.0, 0.0: 1.0, 1.0: 0.0, 1.0: 0.0, 1.0: 0.0, 1.0: 0.0, 1.0: 0.0, 1.0: 0.0, 1.0: 0.0, 0.0: 1.0, 1.0: 0.0, 1.0: 0.0, 1.0: 0.0, 1.0: 0.0, 1.0: 0.0, 1.0: 0.0, 1.0: 0.0, 1.0: 0.0, 1.0: 0.0, 1.0: 0.0, 1.0: 0.0, 1.0: 0.0, 1.0: 0.0, 1.0: 0.0, 0.0: 1.0, "
          ]
        },
        {
          "output_type": "stream",
          "name": "stderr",
          "text": [
            "417it [00:02, 223.44it/s]"
          ]
        },
        {
          "output_type": "stream",
          "name": "stdout",
          "text": [
            "1.0: 0.0, 1.0: 0.0, 1.0: 0.0, 1.0: 0.0, 1.0: 0.0, 1.0: 0.0, 1.0: 0.0, 1.0: 0.0, 1.0: 0.0, 1.0: 0.0, 1.0: 0.0, 1.0: 0.0, 1.0: 0.0, 0.0: 1.0, 1.0: 0.0, 1.0: 0.0, 1.0: 0.0, 1.0: 0.0, "
          ]
        },
        {
          "output_type": "stream",
          "name": "stderr",
          "text": [
            "\r442it [00:02, 229.93it/s]"
          ]
        },
        {
          "output_type": "stream",
          "name": "stdout",
          "text": [
            "1.0: 0.0, 1.0: 0.0, 1.0: 0.0, 1.0: 0.0, 1.0: 0.0, 1.0: 0.0, 1.0: 0.0, 1.0: 0.0, 1.0: 0.0, 1.0: 0.0, 1.0: 0.0, 1.0: 0.0, 1.0: 0.0, "
          ]
        },
        {
          "output_type": "stream",
          "name": "stderr",
          "text": [
            "491it [00:02, 177.52it/s]"
          ]
        },
        {
          "output_type": "stream",
          "name": "stdout",
          "text": [
            "0.0: 1.0, 1.0: 0.0, 1.0: 0.0, 0.0: 1.0, 1.0: 0.0, 1.0: 0.0, 0.0: 1.0, 1.0: 0.0, 1.0: 0.0, 1.0: 0.0, 1.0: 0.0, 1.0: 0.0, 0.0: 1.0, 1.0: 0.0, 1.0: 0.0, 1.0: 0.0, 1.0: 0.0, 1.0: 0.0, 1.0: 0.0, 1.0: 0.0, "
          ]
        },
        {
          "output_type": "stream",
          "name": "stderr",
          "text": [
            "544it [00:02, 213.06it/s]"
          ]
        },
        {
          "output_type": "stream",
          "name": "stdout",
          "text": [
            "1.0: 0.0, 1.0: 0.0, 1.0: 0.0, 1.0: 0.0, 1.0: 0.0, 1.0: 0.0, 0.0: 1.0, 1.0: 0.0, 1.0: 0.0, 1.0: 0.0, 1.0: 0.0, 1.0: 0.0, 0.0: 1.0, 1.0: 0.0, 1.0: 0.0, 1.0: 0.0, 1.0: 0.0, 1.0: 0.0, 1.0: 0.0, 1.0: 0.0, "
          ]
        },
        {
          "output_type": "stream",
          "name": "stderr",
          "text": [
            "594it [00:02, 227.15it/s]"
          ]
        },
        {
          "output_type": "stream",
          "name": "stdout",
          "text": [
            "1.0: 0.0, 1.0: 0.0, 1.0: 0.0, 1.0: 0.0, 1.0: 0.0, 1.0: 0.0, 1.0: 0.0, 1.0: 0.0, 1.0: 0.0, 1.0: 0.0, 1.0: 0.0, 1.0: 0.0, 0.0: 1.0, 1.0: 0.0, 1.0: 0.0, 1.0: 0.0, 1.0: 0.0, 0.0: 1.0, 1.0: 0.0, 1.0: 0.0, 0.0: 1.0, 1.0: 0.0, "
          ]
        },
        {
          "output_type": "stream",
          "name": "stderr",
          "text": [
            "\r618it [00:03, 221.57it/s]"
          ]
        },
        {
          "output_type": "stream",
          "name": "stdout",
          "text": [
            "1.0: 0.0, 1.0: 0.0, 1.0: 0.0, 1.0: 0.0, 1.0: 0.0, 1.0: 0.0, 1.0: 0.0, 1.0: 0.0, 1.0: 0.0, 1.0: 0.0, "
          ]
        },
        {
          "output_type": "stream",
          "name": "stderr",
          "text": [
            "\r641it [00:03, 148.70it/s]"
          ]
        },
        {
          "output_type": "stream",
          "name": "stdout",
          "text": [
            "1.0: 0.0, 1.0: 0.0, 0.0: 1.0, 1.0: 0.0, 1.0: 0.0, 1.0: 0.0, 1.0: 0.0, 0.0: 1.0, "
          ]
        },
        {
          "output_type": "stream",
          "name": "stderr",
          "text": [
            "684it [00:04, 91.30it/s]"
          ]
        },
        {
          "output_type": "stream",
          "name": "stdout",
          "text": [
            "0.0: 1.0, 1.0: 0.0, 1.0: 0.0, 1.0: 0.0, 1.0: 0.0, 1.0: 0.0, 0.0: 1.0, 1.0: 0.0, 0.0: 1.0, 1.0: 0.0, 1.0: 0.0, 0.0: 1.0, 1.0: 0.0, 1.0: 0.0, 1.0: 0.0, 0.0: 1.0, 1.0: 0.0, 1.0: 0.0, 1.0: 0.0, 1.0: 0.0, 1.0: 0.0, 1.0: 0.0, "
          ]
        },
        {
          "output_type": "stream",
          "name": "stderr",
          "text": [
            "734it [00:04, 137.44it/s]"
          ]
        },
        {
          "output_type": "stream",
          "name": "stdout",
          "text": [
            "1.0: 0.0, 0.0: 1.0, 0.0: 1.0, 1.0: 0.0, 1.0: 0.0, 0.0: 1.0, 0.0: 1.0, 1.0: 0.0, 0.0: 1.0, 1.0: 0.0, 1.0: 0.0, 1.0: 0.0, 1.0: 0.0, 1.0: 0.0, 1.0: 0.0, 1.0: 0.0, 1.0: 0.0, 1.0: 0.0, 1.0: 0.0, 1.0: 0.0, "
          ]
        },
        {
          "output_type": "stream",
          "name": "stderr",
          "text": [
            "778it [00:05, 96.61it/s]"
          ]
        },
        {
          "output_type": "stream",
          "name": "stdout",
          "text": [
            "1.0: 0.0, 1.0: 0.0, 1.0: 0.0, 0.0: 1.0, 1.0: 0.0, 1.0: 0.0, 1.0: 0.0, 1.0: 0.0, 1.0: 0.0, 1.0: 0.0, 1.0: 0.0, 1.0: 0.0, 1.0: 0.0, 1.0: 0.0, 0.0: 1.0, 1.0: 0.0, 1.0: 0.0, 0.0: 1.0, "
          ]
        },
        {
          "output_type": "stream",
          "name": "stderr",
          "text": [
            "827it [00:05, 138.98it/s]"
          ]
        },
        {
          "output_type": "stream",
          "name": "stdout",
          "text": [
            "0.0: 1.0, 1.0: 0.0, 1.0: 0.0, 1.0: 0.0, 1.0: 0.0, 1.0: 0.0, 1.0: 0.0, 1.0: 0.0, 1.0: 0.0, 1.0: 0.0, 1.0: 0.0, 1.0: 0.0, 1.0: 0.0, 1.0: 0.0, 0.0: 1.0, 1.0: 0.0, 1.0: 0.0, "
          ]
        },
        {
          "output_type": "stream",
          "name": "stderr",
          "text": [
            "\r848it [00:05, 121.80it/s]"
          ]
        },
        {
          "output_type": "stream",
          "name": "stdout",
          "text": [
            "0.0: 1.0, 1.0: 0.0, 1.0: 0.0, 1.0: 0.0, 1.0: 0.0, 1.0: 0.0, 1.0: 0.0, "
          ]
        },
        {
          "output_type": "stream",
          "name": "stderr",
          "text": [
            "\r866it [00:05, 109.03it/s]"
          ]
        },
        {
          "output_type": "stream",
          "name": "stdout",
          "text": [
            "1.0: 0.0, 1.0: 0.0, 1.0: 0.0, 1.0: 0.0, 0.0: 1.0, 0.0: 1.0, 1.0: 0.0, "
          ]
        },
        {
          "output_type": "stream",
          "name": "stderr",
          "text": [
            "905it [00:05, 136.52it/s]"
          ]
        },
        {
          "output_type": "stream",
          "name": "stdout",
          "text": [
            "1.0: 0.0, 1.0: 0.0, 0.0: 1.0, 1.0: 0.0, 0.0: 1.0, 1.0: 0.0, 1.0: 0.0, 1.0: 0.0, 0.0: 1.0, 1.0: 0.0, 1.0: 0.0, 1.0: 0.0, 1.0: 0.0, 1.0: 0.0, 1.0: 0.0, 1.0: 0.0, 0.0: 1.0, 0.0: 1.0, 1.0: 0.0, 1.0: 0.0, "
          ]
        },
        {
          "output_type": "stream",
          "name": "stderr",
          "text": [
            "954it [00:06, 179.87it/s]"
          ]
        },
        {
          "output_type": "stream",
          "name": "stdout",
          "text": [
            "1.0: 0.0, 1.0: 0.0, 1.0: 0.0, 1.0: 0.0, 1.0: 0.0, 1.0: 0.0, 1.0: 0.0, 1.0: 0.0, 1.0: 0.0, 1.0: 0.0, 1.0: 0.0, 1.0: 0.0, 1.0: 0.0, 1.0: 0.0, 1.0: 0.0, 1.0: 0.0, 1.0: 0.0, "
          ]
        },
        {
          "output_type": "stream",
          "name": "stderr",
          "text": [
            "\r975it [00:06, 168.01it/s]"
          ]
        },
        {
          "output_type": "stream",
          "name": "stdout",
          "text": [
            "1.0: 0.0, 0.0: 1.0, 1.0: 0.0, 1.0: 0.0, 1.0: 0.0, 1.0: 0.0, 1.0: 0.0, 1.0: 0.0, 1.0: 0.0, 1.0: 0.0, 1.0: 0.0, 1.0: 0.0, 1.0: 0.0, 1.0: 0.0, "
          ]
        },
        {
          "output_type": "stream",
          "name": "stderr",
          "text": [
            "\r994it [00:06, 141.75it/s]"
          ]
        },
        {
          "output_type": "stream",
          "name": "stdout",
          "text": [
            "1.0: 0.0, 1.0: 0.0, 1.0: 0.0, 1.0: 0.0, 1.0: 0.0, 1.0: 0.0, 0.0: 1.0, 0.0: 1.0, 1.0: "
          ]
        },
        {
          "output_type": "stream",
          "name": "stderr",
          "text": [
            "1024it [00:06, 150.70it/s]\n"
          ]
        },
        {
          "output_type": "stream",
          "name": "stdout",
          "text": [
            "0.0, 1.0: 0.0, 1.0: 0.0, 1.0: 0.0, 0.0: 1.0, 1.0: 0.0, 1.0: 0.0, 0.0: 1.0, \n",
            "Epoch 008: | Loss: 0.73667 | Acc: 55.371\n",
            "\n"
          ]
        },
        {
          "output_type": "stream",
          "name": "stderr",
          "text": [
            "\r0it [00:00, ?it/s]"
          ]
        },
        {
          "output_type": "stream",
          "name": "stdout",
          "text": [
            "1.0: 0.0, 1.0: 0.0, "
          ]
        },
        {
          "output_type": "stream",
          "name": "stderr",
          "text": [
            "48it [00:00, 240.63it/s]"
          ]
        },
        {
          "output_type": "stream",
          "name": "stdout",
          "text": [
            "1.0: 0.0, 1.0: 0.0, 0.0: 1.0, 1.0: 0.0, 0.0: 1.0, 1.0: 0.0, 1.0: 0.0, 1.0: 0.0, 1.0: 0.0, 1.0: 0.0, 1.0: 0.0, 1.0: 0.0, 1.0: 0.0, 1.0: 0.0, 0.0: 1.0, 1.0: 0.0, "
          ]
        },
        {
          "output_type": "stream",
          "name": "stderr",
          "text": [
            "101it [00:00, 190.86it/s]"
          ]
        },
        {
          "output_type": "stream",
          "name": "stdout",
          "text": [
            "1.0: 0.0, 0.0: 1.0, 1.0: 0.0, 1.0: 0.0, 0.0: 1.0, 0.0: 1.0, 0.0: 1.0, 1.0: 0.0, 1.0: 0.0, 1.0: 0.0, 1.0: 0.0, 1.0: 0.0, 1.0: 0.0, 0.0: 1.0, 1.0: 0.0, 1.0: 0.0, 1.0: 0.0, 1.0: 0.0, "
          ]
        },
        {
          "output_type": "stream",
          "name": "stderr",
          "text": [
            "\r127it [00:00, 210.49it/s]"
          ]
        },
        {
          "output_type": "stream",
          "name": "stdout",
          "text": [
            "1.0: 0.0, 1.0: 0.0, 1.0: 0.0, 1.0: 0.0, 1.0: 0.0, 1.0: 0.0, 1.0: 0.0, 0.0: 1.0, 1.0: 0.0, "
          ]
        },
        {
          "output_type": "stream",
          "name": "stderr",
          "text": [
            "175it [00:01, 105.74it/s]"
          ]
        },
        {
          "output_type": "stream",
          "name": "stdout",
          "text": [
            "1.0: 0.0, 1.0: 0.0, 1.0: 0.0, 1.0: 0.0, 1.0: 0.0, 1.0: 0.0, 1.0: 0.0, 1.0: 0.0, 1.0: 0.0, 1.0: 0.0, 1.0: 0.0, 1.0: 0.0, 1.0: 0.0, 1.0: 0.0, 1.0: 0.0, 1.0: 0.0, 1.0: 0.0, 1.0: 0.0, 1.0: 0.0, 1.0: 0.0, 1.0: 0.0, 1.0: 0.0, 1.0: 0.0, 1.0: 0.0, 1.0: 0.0, 1.0: 0.0, 1.0: 0.0, 1.0: 0.0, 1.0: 0.0, "
          ]
        },
        {
          "output_type": "stream",
          "name": "stderr",
          "text": [
            "222it [00:01, 146.08it/s]"
          ]
        },
        {
          "output_type": "stream",
          "name": "stdout",
          "text": [
            "1.0: 0.0, 1.0: 0.0, 1.0: 0.0, 1.0: 0.0, 1.0: 0.0, 1.0: 0.0, 1.0: 0.0, 1.0: 0.0, 1.0: 0.0, 1.0: 0.0, 1.0: 0.0, 0.0: 1.0, 1.0: 0.0, 1.0: 0.0, 1.0: 0.0, 1.0: 0.0, 1.0: 0.0, 1.0: 0.0, 1.0: 0.0, 1.0: 0.0, 1.0: 0.0, 1.0: 0.0, 1.0: 0.0, 1.0: 0.0, 1.0: 0.0, 1.0: 0.0, 1.0: 0.0, "
          ]
        },
        {
          "output_type": "stream",
          "name": "stderr",
          "text": [
            "269it [00:01, 180.33it/s]"
          ]
        },
        {
          "output_type": "stream",
          "name": "stdout",
          "text": [
            "1.0: 0.0, 1.0: 0.0, 1.0: 0.0, 1.0: 0.0, 1.0: 0.0, 1.0: 0.0, 1.0: 0.0, 1.0: 0.0, 1.0: 0.0, 1.0: 0.0, 1.0: 0.0, 1.0: 0.0, 1.0: 0.0, 1.0: 0.0, 1.0: 0.0, 1.0: 0.0, 1.0: 0.0, 1.0: 0.0, 1.0: 0.0, 1.0: 0.0, 1.0: 0.0, 1.0: 0.0, 1.0: 0.0, 1.0: 0.0, 1.0: 0.0, 0.0: 1.0, "
          ]
        },
        {
          "output_type": "stream",
          "name": "stderr",
          "text": [
            "317it [00:01, 205.80it/s]"
          ]
        },
        {
          "output_type": "stream",
          "name": "stdout",
          "text": [
            "1.0: 0.0, 1.0: 0.0, 1.0: 0.0, 1.0: 0.0, 1.0: 0.0, 0.0: 1.0, 1.0: 0.0, 1.0: 0.0, 1.0: 0.0, 1.0: 0.0, 1.0: 0.0, 0.0: 1.0, 1.0: 0.0, 1.0: 0.0, 1.0: 0.0, 1.0: 0.0, 1.0: 0.0, 1.0: 0.0, 1.0: 0.0, 1.0: 0.0, 1.0: 0.0, 1.0: 0.0, 1.0: 0.0, 1.0: 0.0, 1.0: 0.0, 1.0: 0.0, 1.0: 0.0, 1.0: "
          ]
        },
        {
          "output_type": "stream",
          "name": "stderr",
          "text": [
            "364it [00:02, 216.34it/s]"
          ]
        },
        {
          "output_type": "stream",
          "name": "stdout",
          "text": [
            "0.0, 1.0: 0.0, 1.0: 0.0, 1.0: 0.0, 1.0: 0.0, 1.0: 0.0, 1.0: 0.0, 1.0: 0.0, 1.0: 0.0, 1.0: 0.0, 1.0: 0.0, 1.0: 0.0, 1.0: 0.0, 1.0: 0.0, 1.0: 0.0, 1.0: 0.0, 1.0: 0.0, 1.0: 0.0, 1.0: 0.0, 1.0: 0.0, 1.0: 0.0, 1.0: 0.0, 1.0: 0.0, 1.0: 0.0, 0.0: 1.0, 1.0: 0.0, 1.0: 0.0, 1.0: 0.0, 1.0: 0.0, 1.0: 0.0, 1.0: "
          ]
        },
        {
          "output_type": "stream",
          "name": "stderr",
          "text": [
            "\r387it [00:02, 200.87it/s]"
          ]
        },
        {
          "output_type": "stream",
          "name": "stdout",
          "text": [
            "0.0, 0.0: 1.0, 1.0: 0.0, 1.0: 0.0, 1.0: 0.0, 1.0: 0.0, 1.0: 0.0, 1.0: 0.0, 1.0: 0.0, 1.0: 0.0, 1.0: 0.0, 1.0: 0.0, 1.0: 0.0, 1.0: 0.0, "
          ]
        },
        {
          "output_type": "stream",
          "name": "stderr",
          "text": [
            "435it [00:02, 175.70it/s]"
          ]
        },
        {
          "output_type": "stream",
          "name": "stdout",
          "text": [
            "1.0: 0.0, 1.0: 0.0, 1.0: 0.0, 1.0: 0.0, 1.0: 0.0, 0.0: 1.0, 1.0: 0.0, 1.0: 0.0, 1.0: 0.0, 0.0: 1.0, 1.0: 0.0, 1.0: 0.0, 1.0: 0.0, 1.0: 0.0, 1.0: 0.0, 1.0: 0.0, 1.0: 0.0, "
          ]
        },
        {
          "output_type": "stream",
          "name": "stderr",
          "text": [
            "486it [00:02, 210.29it/s]"
          ]
        },
        {
          "output_type": "stream",
          "name": "stdout",
          "text": [
            "1.0: 0.0, 1.0: 0.0, 1.0: 0.0, 1.0: 0.0, 1.0: 0.0, 1.0: 0.0, 1.0: 0.0, 1.0: 0.0, 1.0: 0.0, 1.0: 0.0, 1.0: 0.0, 1.0: 0.0, 0.0: 1.0, 0.0: 1.0, 0.0: 1.0, 1.0: 0.0, 1.0: 0.0, 1.0: 0.0, "
          ]
        },
        {
          "output_type": "stream",
          "name": "stderr",
          "text": [
            "536it [00:03, 227.30it/s]"
          ]
        },
        {
          "output_type": "stream",
          "name": "stdout",
          "text": [
            "1.0: 0.0, 1.0: 0.0, 1.0: 0.0, 1.0: 0.0, 1.0: 0.0, 1.0: 0.0, 1.0: 0.0, 1.0: 0.0, 1.0: 0.0, 1.0: 0.0, 1.0: 0.0, 1.0: 0.0, 1.0: 0.0, 0.0: 1.0, 1.0: 0.0, 1.0: 0.0, 1.0: 0.0, 0.0: 1.0, 1.0: 0.0, 1.0: 0.0, 1.0: 0.0, 1.0: 0.0, "
          ]
        },
        {
          "output_type": "stream",
          "name": "stderr",
          "text": [
            "\r560it [00:03, 224.28it/s]"
          ]
        },
        {
          "output_type": "stream",
          "name": "stdout",
          "text": [
            "1.0: 0.0, 1.0: 0.0, 1.0: 0.0, 1.0: 0.0, 0.0: 1.0, 0.0: 1.0, 1.0: 0.0, 1.0: 0.0, 0.0: 1.0, 1.0: 0.0, 1.0: 0.0, 1.0: 0.0, 1.0: 0.0, 1.0: 0.0, 1.0: 0.0, "
          ]
        },
        {
          "output_type": "stream",
          "name": "stderr",
          "text": [
            "607it [00:03, 167.96it/s]"
          ]
        },
        {
          "output_type": "stream",
          "name": "stdout",
          "text": [
            "1.0: 0.0, 1.0: 0.0, 1.0: 0.0, 1.0: 0.0, 1.0: 0.0, 1.0: 0.0, 1.0: 0.0, 1.0: 0.0, 1.0: 0.0, 1.0: 0.0, 1.0: 0.0, 1.0: 0.0, 1.0: 0.0, 1.0: 0.0, 1.0: 0.0, 1.0: 0.0, "
          ]
        },
        {
          "output_type": "stream",
          "name": "stderr",
          "text": [
            "657it [00:03, 202.87it/s]"
          ]
        },
        {
          "output_type": "stream",
          "name": "stdout",
          "text": [
            "1.0: 0.0, 1.0: 0.0, 1.0: 0.0, 1.0: 0.0, 1.0: 0.0, 1.0: 0.0, 1.0: 0.0, 1.0: 0.0, 1.0: 0.0, 1.0: 0.0, 0.0: 1.0, 1.0: 0.0, 1.0: 0.0, 1.0: 0.0, 1.0: 0.0, 1.0: 0.0, 1.0: 0.0, 1.0: 0.0, 1.0: 0.0, 1.0: 0.0, 1.0: 0.0, "
          ]
        },
        {
          "output_type": "stream",
          "name": "stderr",
          "text": [
            "706it [00:03, 220.78it/s]"
          ]
        },
        {
          "output_type": "stream",
          "name": "stdout",
          "text": [
            "1.0: 0.0, 1.0: 0.0, 1.0: 0.0, 1.0: 0.0, 1.0: 0.0, 1.0: 0.0, 1.0: 0.0, 1.0: 0.0, 0.0: 1.0, 0.0: 1.0, 1.0: 0.0, 1.0: 0.0, 1.0: 0.0, 1.0: 0.0, 0.0: 1.0, 1.0: 0.0, 1.0: 0.0, 1.0: 0.0, 1.0: 0.0, 1.0: 0.0, 1.0: 0.0, 1.0: 0.0, 1.0: 0.0, "
          ]
        },
        {
          "output_type": "stream",
          "name": "stderr",
          "text": [
            "758it [00:04, 238.47it/s]"
          ]
        },
        {
          "output_type": "stream",
          "name": "stdout",
          "text": [
            "1.0: 0.0, 1.0: 0.0, 1.0: 0.0, 0.0: 1.0, 1.0: 0.0, 1.0: 0.0, 1.0: 0.0, 1.0: 0.0, 1.0: 0.0, 1.0: 0.0, 0.0: 1.0, 1.0: 0.0, 1.0: 0.0, 1.0: 0.0, 1.0: 0.0, "
          ]
        },
        {
          "output_type": "stream",
          "name": "stderr",
          "text": [
            "808it [00:04, 213.93it/s]"
          ]
        },
        {
          "output_type": "stream",
          "name": "stdout",
          "text": [
            "1.0: 0.0, 1.0: 0.0, 1.0: 0.0, 1.0: 0.0, 1.0: 0.0, 1.0: 0.0, 1.0: 0.0, 1.0: 0.0, 1.0: 0.0, 1.0: 0.0, 1.0: 0.0, 1.0: 0.0, 1.0: 0.0, 1.0: 0.0, 1.0: 0.0, 1.0: 0.0, 0.0: 1.0, 1.0: 0.0, 1.0: 0.0, 1.0: 0.0, 0.0: 1.0, 1.0: 0.0, "
          ]
        },
        {
          "output_type": "stream",
          "name": "stderr",
          "text": [
            "860it [00:04, 232.74it/s]"
          ]
        },
        {
          "output_type": "stream",
          "name": "stdout",
          "text": [
            "1.0: 0.0, 1.0: 0.0, 1.0: 0.0, 1.0: 0.0, 1.0: 0.0, 1.0: 0.0, 1.0: 0.0, 1.0: 0.0, 1.0: 0.0, 1.0: 0.0, 0.0: 1.0, 1.0: 0.0, 1.0: 0.0, 1.0: 0.0, 1.0: 0.0, 1.0: 0.0, 1.0: 0.0, 1.0: 0.0, "
          ]
        },
        {
          "output_type": "stream",
          "name": "stderr",
          "text": [
            "912it [00:04, 244.31it/s]"
          ]
        },
        {
          "output_type": "stream",
          "name": "stdout",
          "text": [
            "1.0: 0.0, 1.0: 0.0, 1.0: 0.0, 1.0: 0.0, 1.0: 0.0, 0.0: 1.0, 1.0: 0.0, 1.0: 0.0, 1.0: 0.0, 1.0: 0.0, 1.0: 0.0, 1.0: 0.0, 1.0: 0.0, 0.0: 1.0, 1.0: 0.0, 1.0: 0.0, 1.0: 0.0, 1.0: 0.0, 1.0: 0.0, 1.0: 0.0, "
          ]
        },
        {
          "output_type": "stream",
          "name": "stderr",
          "text": [
            "963it [00:05, 247.79it/s]"
          ]
        },
        {
          "output_type": "stream",
          "name": "stdout",
          "text": [
            "1.0: 0.0, 1.0: 0.0, 1.0: 0.0, 1.0: 0.0, 1.0: 0.0, 1.0: 0.0, 1.0: 0.0, 1.0: 0.0, 0.0: 1.0, 1.0: 0.0, 1.0: 0.0, 1.0: 0.0, 1.0: 0.0, 1.0: 0.0, 1.0: 0.0, 1.0: 0.0, 1.0: 0.0, 1.0: 0.0, 1.0: 0.0, "
          ]
        },
        {
          "output_type": "stream",
          "name": "stderr",
          "text": [
            "1013it [00:05, 244.77it/s]"
          ]
        },
        {
          "output_type": "stream",
          "name": "stdout",
          "text": [
            "1.0: 0.0, 0.0: 1.0, 1.0: 0.0, 1.0: 0.0, 1.0: 0.0, 1.0: 0.0, 1.0: 0.0, 1.0: 0.0, 1.0: 0.0, 1.0: 0.0, 1.0: 0.0, 0.0: 1.0, 1.0: 0.0, 0.0: 1.0, 1.0: 0.0, 1.0: 0.0, 1.0: 0.0, 1.0: 0.0, 1.0: 0.0, 1.0: 0.0, 0.0: 1.0, 1.0: 0.0, "
          ]
        },
        {
          "output_type": "stream",
          "name": "stderr",
          "text": [
            "\r1024it [00:05, 192.67it/s]\n"
          ]
        },
        {
          "output_type": "stream",
          "name": "stdout",
          "text": [
            "1.0: 0.0, 1.0: 0.0, \n",
            "Epoch 009: | Loss: 0.73521 | Acc: 56.250\n",
            "\n"
          ]
        },
        {
          "output_type": "stream",
          "name": "stderr",
          "text": [
            "24it [00:00, 238.66it/s]"
          ]
        },
        {
          "output_type": "stream",
          "name": "stdout",
          "text": [
            "0.0: 1.0, 1.0: 0.0, 1.0: 0.0, 1.0: 0.0, 0.0: 1.0, 1.0: 0.0, 1.0: 0.0, 1.0: 0.0, 1.0: 0.0, "
          ]
        },
        {
          "output_type": "stream",
          "name": "stderr",
          "text": [
            "73it [00:00, 161.86it/s]"
          ]
        },
        {
          "output_type": "stream",
          "name": "stdout",
          "text": [
            "1.0: 0.0, 1.0: 0.0, 1.0: 0.0, 1.0: 0.0, 1.0: 0.0, 1.0: 0.0, 1.0: 0.0, 1.0: 0.0, 1.0: 0.0, 0.0: 1.0, 1.0: 0.0, 1.0: 0.0, 1.0: 0.0, 1.0: 0.0, 0.0: 1.0, 0.0: 1.0, 1.0: 0.0, 1.0: 0.0, "
          ]
        },
        {
          "output_type": "stream",
          "name": "stderr",
          "text": [
            "119it [00:01, 92.33it/s]"
          ]
        },
        {
          "output_type": "stream",
          "name": "stdout",
          "text": [
            "0.0: 1.0, 1.0: 0.0, 1.0: 0.0, 1.0: 0.0, 1.0: 0.0, 1.0: 0.0, 0.0: 1.0, 1.0: 0.0, 0.0: 1.0, 0.0: 1.0, 0.0: 1.0, 1.0: 0.0, 1.0: 0.0, 1.0: 0.0, 0.0: 1.0, 1.0: 0.0, 0.0: 1.0, 1.0: 0.0, 1.0: 0.0, "
          ]
        },
        {
          "output_type": "stream",
          "name": "stderr",
          "text": [
            "165it [00:01, 135.49it/s]"
          ]
        },
        {
          "output_type": "stream",
          "name": "stdout",
          "text": [
            "1.0: 0.0, 1.0: 0.0, 1.0: 0.0, 1.0: 0.0, 1.0: 0.0, 1.0: 0.0, 1.0: 0.0, 1.0: 0.0, 1.0: 0.0, 1.0: 0.0, 1.0: 0.0, 1.0: 0.0, 1.0: 0.0, 1.0: 0.0, 1.0: 0.0, 1.0: 0.0, 1.0: 0.0, 1.0: 0.0, 1.0: 0.0, 1.0: 0.0, 1.0: 0.0, 1.0: 0.0, 1.0: 0.0, 1.0: 0.0, 1.0: 0.0, 1.0: 0.0, "
          ]
        },
        {
          "output_type": "stream",
          "name": "stderr",
          "text": [
            "214it [00:01, 177.05it/s]"
          ]
        },
        {
          "output_type": "stream",
          "name": "stdout",
          "text": [
            "1.0: 0.0, 1.0: 0.0, 1.0: 0.0, 1.0: 0.0, 1.0: 0.0, 0.0: 1.0, 1.0: 0.0, 1.0: 0.0, 0.0: 1.0, 1.0: 0.0, 1.0: 0.0, 1.0: 0.0, 1.0: 0.0, 1.0: 0.0, 1.0: 0.0, 1.0: 0.0, 1.0: 0.0, 1.0: 0.0, 1.0: 0.0, 1.0: 0.0, 1.0: 0.0, 0.0: 1.0, 1.0: 0.0, 1.0: 0.0, 1.0: 0.0, 1.0: 0.0, 1.0: 0.0, 1.0: "
          ]
        },
        {
          "output_type": "stream",
          "name": "stderr",
          "text": [
            "264it [00:01, 206.48it/s]"
          ]
        },
        {
          "output_type": "stream",
          "name": "stdout",
          "text": [
            "0.0, 1.0: 0.0, 0.0: 1.0, 1.0: 0.0, 1.0: 0.0, 1.0: 0.0, 1.0: 0.0, 1.0: 0.0, 1.0: 0.0, 1.0: 0.0, 1.0: 0.0, 1.0: 0.0, 1.0: 0.0, 1.0: 0.0, 1.0: 0.0, 1.0: 0.0, 1.0: 0.0, 1.0: 0.0, 1.0: 0.0, 1.0: 0.0, 1.0: 0.0, 1.0: 0.0, 0.0: 1.0, 1.0: 0.0, 1.0: 0.0, 1.0: 0.0, 1.0: 0.0, 1.0: 0.0, 0.0: 1.0, "
          ]
        },
        {
          "output_type": "stream",
          "name": "stderr",
          "text": [
            "313it [00:02, 221.84it/s]"
          ]
        },
        {
          "output_type": "stream",
          "name": "stdout",
          "text": [
            "1.0: 0.0, 1.0: 0.0, 1.0: 0.0, 1.0: 0.0, 1.0: 0.0, 1.0: 0.0, 0.0: 1.0, 1.0: 0.0, 1.0: 0.0, 1.0: 0.0, 1.0: 0.0, 1.0: 0.0, 1.0: 0.0, 1.0: 0.0, 1.0: 0.0, 1.0: 0.0, 1.0: 0.0, 1.0: 0.0, 1.0: 0.0, 1.0: 0.0, 1.0: 0.0, 1.0: 0.0, 0.0: 1.0, 1.0: 0.0, 1.0: 0.0, 1.0: 0.0, 1.0: 0.0, 1.0: 0.0, 1.0: 0.0, 1.0: 0.0, 1.0: "
          ]
        },
        {
          "output_type": "stream",
          "name": "stderr",
          "text": [
            "389it [00:02, 240.56it/s]"
          ]
        },
        {
          "output_type": "stream",
          "name": "stdout",
          "text": [
            "0.0, 1.0: 0.0, 1.0: 0.0, 1.0: 0.0, 1.0: 0.0, 1.0: 0.0, 1.0: 0.0, 1.0: 0.0, 1.0: 0.0, 1.0: 0.0, 1.0: 0.0, 1.0: 0.0, 1.0: 0.0, 1.0: 0.0, 1.0: 0.0, 1.0: 0.0, 1.0: 0.0, 1.0: 0.0, 1.0: 0.0, 1.0: 0.0, 1.0: 0.0, 1.0: 0.0, 1.0: 0.0, 1.0: 0.0, 1.0: 0.0, 1.0: 0.0, 1.0: 0.0, 1.0: 0.0, 1.0: 0.0, 1.0: 0.0, 1.0: 0.0, 1.0: 0.0, 1.0: 0.0, 1.0: 0.0, 1.0: 0.0, 1.0: 0.0, 1.0: 0.0, 1.0: 0.0, 1.0: 0.0, 1.0: 0.0, "
          ]
        },
        {
          "output_type": "stream",
          "name": "stderr",
          "text": [
            "\r414it [00:03, 80.71it/s] "
          ]
        },
        {
          "output_type": "stream",
          "name": "stdout",
          "text": [
            "0.0: 1.0, 1.0: 0.0, 1.0: 0.0, 1.0: 0.0, 1.0: 0.0, 1.0: 0.0, 1.0: 0.0, 1.0: 0.0, 1.0: 0.0, 0.0: 1.0, "
          ]
        },
        {
          "output_type": "stream",
          "name": "stderr",
          "text": [
            "458it [00:03, 97.08it/s]"
          ]
        },
        {
          "output_type": "stream",
          "name": "stdout",
          "text": [
            "1.0: 0.0, 1.0: 0.0, 1.0: 0.0, 1.0: 0.0, 1.0: 0.0, 1.0: 0.0, 1.0: 0.0, 1.0: 0.0, 1.0: 0.0, 1.0: 0.0, 1.0: 0.0, 1.0: 0.0, 1.0: 0.0, 1.0: 0.0, 1.0: 0.0, 1.0: 0.0, 1.0: 0.0, 1.0: 0.0, 0.0: 1.0, 0.0: 1.0, 1.0: 0.0, 1.0: 0.0, 1.0: 0.0, 1.0: 0.0, "
          ]
        },
        {
          "output_type": "stream",
          "name": "stderr",
          "text": [
            "510it [00:03, 144.33it/s]"
          ]
        },
        {
          "output_type": "stream",
          "name": "stdout",
          "text": [
            "1.0: 0.0, 1.0: 0.0, 1.0: 0.0, 0.0: 1.0, 1.0: 0.0, 1.0: 0.0, 1.0: 0.0, 1.0: 0.0, 1.0: 0.0, 1.0: 0.0, 1.0: 0.0, 1.0: 0.0, 1.0: 0.0, 1.0: 0.0, 1.0: 0.0, 1.0: 0.0, 1.0: 0.0, 1.0: 0.0, 1.0: 0.0, "
          ]
        },
        {
          "output_type": "stream",
          "name": "stderr",
          "text": [
            "562it [00:03, 186.81it/s]"
          ]
        },
        {
          "output_type": "stream",
          "name": "stdout",
          "text": [
            "1.0: 0.0, 1.0: 0.0, 1.0: 0.0, 1.0: 0.0, 1.0: 0.0, 1.0: 0.0, 1.0: 0.0, 1.0: 0.0, 1.0: 0.0, 1.0: 0.0, 1.0: 0.0, 1.0: 0.0, 1.0: 0.0, 1.0: 0.0, 1.0: 0.0, 1.0: 0.0, 1.0: 0.0, 1.0: 0.0, 1.0: 0.0, 1.0: 0.0, 1.0: 0.0, 1.0: 0.0, 1.0: 0.0, 1.0: 0.0, 1.0: 0.0, "
          ]
        },
        {
          "output_type": "stream",
          "name": "stderr",
          "text": [
            "614it [00:04, 142.60it/s]"
          ]
        },
        {
          "output_type": "stream",
          "name": "stdout",
          "text": [
            "0.0: 1.0, 1.0: 0.0, 1.0: 0.0, 1.0: 0.0, 1.0: 0.0, 0.0: 1.0, 1.0: 0.0, 1.0: 0.0, 0.0: 1.0, 1.0: 0.0, 1.0: 0.0, 1.0: 0.0, 0.0: 1.0, 1.0: 0.0, 1.0: 0.0, 1.0: 0.0, 1.0: 0.0, 1.0: 0.0, 1.0: 0.0, 1.0: 0.0, 1.0: 0.0, 1.0: 0.0, 1.0: 0.0, 1.0: 0.0, 1.0: 0.0, 1.0: 0.0, "
          ]
        },
        {
          "output_type": "stream",
          "name": "stderr",
          "text": [
            "684it [00:05, 85.28it/s] "
          ]
        },
        {
          "output_type": "stream",
          "name": "stdout",
          "text": [
            "1.0: 0.0, 1.0: 0.0, 1.0: 0.0, 1.0: 0.0, 1.0: 0.0, 1.0: 0.0, 1.0: 0.0, 1.0: 0.0, 0.0: 1.0, 1.0: 0.0, 1.0: 0.0, 1.0: 0.0, 0.0: 1.0, 1.0: 0.0, 1.0: 0.0, 1.0: 0.0, 1.0: 0.0, 1.0: 0.0, 1.0: 0.0, 1.0: 0.0, 1.0: 0.0, 0.0: 1.0, 1.0: 0.0, 1.0: 0.0, 1.0: 0.0, 0.0: 1.0, 1.0: 0.0, 1.0: 0.0, "
          ]
        },
        {
          "output_type": "stream",
          "name": "stderr",
          "text": [
            "757it [00:05, 147.76it/s]"
          ]
        },
        {
          "output_type": "stream",
          "name": "stdout",
          "text": [
            "1.0: 0.0, 1.0: 0.0, 1.0: 0.0, 1.0: 0.0, 0.0: 1.0, 1.0: 0.0, 0.0: 1.0, 1.0: 0.0, 1.0: 0.0, 1.0: 0.0, 1.0: 0.0, 1.0: 0.0, 0.0: 1.0, 0.0: 1.0, 1.0: 0.0, 1.0: 0.0, 1.0: 0.0, 1.0: 0.0, 1.0: 0.0, "
          ]
        },
        {
          "output_type": "stream",
          "name": "stderr",
          "text": [
            "807it [00:05, 186.54it/s]"
          ]
        },
        {
          "output_type": "stream",
          "name": "stdout",
          "text": [
            "1.0: 0.0, 1.0: 0.0, 0.0: 1.0, 1.0: 0.0, 1.0: 0.0, 1.0: 0.0, 1.0: 0.0, 1.0: 0.0, 1.0: 0.0, 1.0: 0.0, 1.0: 0.0, 1.0: 0.0, 1.0: 0.0, 0.0: 1.0, 1.0: 0.0, 1.0: 0.0, 1.0: 0.0, 1.0: 0.0, 0.0: 1.0, 1.0: 0.0, 1.0: 0.0, 1.0: 0.0, 1.0: 0.0, "
          ]
        },
        {
          "output_type": "stream",
          "name": "stderr",
          "text": [
            "859it [00:05, 217.54it/s]"
          ]
        },
        {
          "output_type": "stream",
          "name": "stdout",
          "text": [
            "1.0: 0.0, 1.0: 0.0, 1.0: 0.0, 1.0: 0.0, 1.0: 0.0, 1.0: 0.0, 1.0: 0.0, 1.0: 0.0, 1.0: 0.0, 1.0: 0.0, 1.0: 0.0, 1.0: 0.0, 1.0: 0.0, 1.0: 0.0, 1.0: 0.0, 1.0: 0.0, 1.0: 0.0, 1.0: 0.0, "
          ]
        },
        {
          "output_type": "stream",
          "name": "stderr",
          "text": [
            "911it [00:06, 234.47it/s]"
          ]
        },
        {
          "output_type": "stream",
          "name": "stdout",
          "text": [
            "0.0: 1.0, 1.0: 0.0, 1.0: 0.0, 1.0: 0.0, 1.0: 0.0, 1.0: 0.0, 0.0: 1.0, 1.0: 0.0, 1.0: 0.0, 0.0: 1.0, 1.0: 0.0, 1.0: 0.0, 1.0: 0.0, 1.0: 0.0, 1.0: 0.0, 1.0: 0.0, 1.0: 0.0, 0.0: 1.0, "
          ]
        },
        {
          "output_type": "stream",
          "name": "stderr",
          "text": [
            "\r936it [00:06, 235.05it/s]"
          ]
        },
        {
          "output_type": "stream",
          "name": "stdout",
          "text": [
            "1.0: 0.0, 1.0: 0.0, 1.0: 0.0, 1.0: 0.0, 1.0: 0.0, 1.0: 0.0, 0.0: 1.0, 1.0: 0.0, 0.0: 1.0, "
          ]
        },
        {
          "output_type": "stream",
          "name": "stderr",
          "text": [
            "982it [00:06, 160.52it/s]"
          ]
        },
        {
          "output_type": "stream",
          "name": "stdout",
          "text": [
            "1.0: 0.0, 0.0: 1.0, 1.0: 0.0, 1.0: 0.0, 1.0: 0.0, 1.0: 0.0, 1.0: 0.0, 1.0: 0.0, 1.0: 0.0, 1.0: 0.0, 1.0: 0.0, 0.0: 1.0, 0.0: 1.0, 1.0: 0.0, 0.0: 1.0, 1.0: 0.0, 1.0: 0.0, 1.0: 0.0, 0.0: 1.0, 1.0: 0.0, 1.0: 0.0, 1.0: 0.0, 1.0: 0.0, 0.0: 1.0, "
          ]
        },
        {
          "output_type": "stream",
          "name": "stderr",
          "text": [
            "1024it [00:06, 150.82it/s]\n"
          ]
        },
        {
          "output_type": "stream",
          "name": "stdout",
          "text": [
            "1.0: 0.0, 1.0: 0.0, 1.0: 0.0, 0.0: 1.0, 1.0: 0.0, 0.0: 1.0, 1.0: 0.0, 1.0: 0.0, 1.0: 0.0, 1.0: 0.0, 1.0: 0.0, 1.0: 0.0, 1.0: 0.0, 1.0: 0.0, 1.0: 0.0, \n",
            "Epoch 010: | Loss: 0.73700 | Acc: 55.469\n",
            "\n"
          ]
        },
        {
          "output_type": "stream",
          "name": "stderr",
          "text": [
            "\r0it [00:00, ?it/s]"
          ]
        },
        {
          "output_type": "stream",
          "name": "stdout",
          "text": [
            "1.0: 0.0, "
          ]
        },
        {
          "output_type": "stream",
          "name": "stderr",
          "text": [
            "79it [00:00, 262.45it/s]"
          ]
        },
        {
          "output_type": "stream",
          "name": "stdout",
          "text": [
            "1.0: 0.0, 1.0: 0.0, 1.0: 0.0, 1.0: 0.0, 1.0: 0.0, 1.0: 0.0, 0.0: 1.0, 1.0: 0.0, 1.0: 0.0, 1.0: 0.0, 1.0: 0.0, 1.0: 0.0, 1.0: 0.0, 1.0: 0.0, 1.0: 0.0, 1.0: 0.0, 1.0: 0.0, 1.0: 0.0, 1.0: 0.0, 0.0: 1.0, 1.0: 0.0, 1.0: 0.0, 1.0: 0.0, 0.0: 1.0, "
          ]
        },
        {
          "output_type": "stream",
          "name": "stderr",
          "text": [
            "129it [00:00, 179.98it/s]"
          ]
        },
        {
          "output_type": "stream",
          "name": "stdout",
          "text": [
            "1.0: 0.0, 1.0: 0.0, 1.0: 0.0, 0.0: 1.0, 1.0: 0.0, 1.0: 0.0, 1.0: 0.0, 0.0: 1.0, 1.0: 0.0, 1.0: 0.0, 1.0: 0.0, 0.0: 1.0, 1.0: 0.0, 1.0: 0.0, 1.0: 0.0, 1.0: 0.0, 1.0: 0.0, "
          ]
        },
        {
          "output_type": "stream",
          "name": "stderr",
          "text": [
            "175it [00:00, 202.23it/s]"
          ]
        },
        {
          "output_type": "stream",
          "name": "stdout",
          "text": [
            "1.0: 0.0, 1.0: 0.0, 1.0: 0.0, 1.0: 0.0, 1.0: 0.0, 1.0: 0.0, 1.0: 0.0, 1.0: 0.0, 1.0: 0.0, 1.0: 0.0, 1.0: 0.0, 0.0: 1.0, 1.0: 0.0, 1.0: 0.0, 0.0: 1.0, 1.0: 0.0, 1.0: 0.0, 1.0: 0.0, 1.0: 0.0, 1.0: 0.0, 1.0: 0.0, 1.0: 0.0, 1.0: 0.0, 1.0: 0.0, 1.0: 0.0, 0.0: 1.0, 1.0: 0.0, 1.0: 0.0, 1.0: 0.0, 1.0: 0.0, "
          ]
        },
        {
          "output_type": "stream",
          "name": "stderr",
          "text": [
            "222it [00:01, 214.47it/s]"
          ]
        },
        {
          "output_type": "stream",
          "name": "stdout",
          "text": [
            "1.0: 0.0, 1.0: 0.0, 1.0: 0.0, 1.0: 0.0, 1.0: 0.0, 1.0: 0.0, 1.0: 0.0, 1.0: 0.0, 1.0: 0.0, 1.0: 0.0, 1.0: 0.0, 1.0: 0.0, 1.0: 0.0, 1.0: 0.0, 0.0: 1.0, 1.0: 0.0, 1.0: 0.0, 1.0: 0.0, 1.0: 0.0, 1.0: 0.0, 0.0: 1.0, 1.0: 0.0, 1.0: 0.0, 1.0: 0.0, 1.0: 0.0, 1.0: 0.0, "
          ]
        },
        {
          "output_type": "stream",
          "name": "stderr",
          "text": [
            "\r247it [00:01, 223.41it/s]"
          ]
        },
        {
          "output_type": "stream",
          "name": "stdout",
          "text": [
            "0.0: 1.0, 1.0: 0.0, 1.0: 0.0, 1.0: 0.0, 1.0: 0.0, 1.0: 0.0, 1.0: 0.0, 1.0: 0.0, 1.0: 0.0, 1.0: 0.0, 1.0: 0.0, 1.0: 0.0, "
          ]
        },
        {
          "output_type": "stream",
          "name": "stderr",
          "text": [
            "\r271it [00:01, 143.51it/s]"
          ]
        },
        {
          "output_type": "stream",
          "name": "stdout",
          "text": [
            "1.0: 0.0, 1.0: 0.0, 1.0: 0.0, 1.0: 0.0, 1.0: 0.0, 1.0: 0.0, 1.0: 0.0, 1.0: 0.0, 1.0: 0.0, 1.0: 0.0, 1.0: 0.0, 1.0: 0.0, 1.0: 0.0, 1.0: 0.0, 1.0: 0.0, 1.0: 0.0, 1.0: 0.0, 1.0: 0.0, 1.0: 0.0, 1.0: 0.0, 1.0: 0.0, 1.0: 0.0, 1.0: 0.0, 1.0: 0.0, 0.0: 1.0, "
          ]
        },
        {
          "output_type": "stream",
          "name": "stderr",
          "text": [
            "318it [00:01, 178.28it/s]"
          ]
        },
        {
          "output_type": "stream",
          "name": "stdout",
          "text": [
            "1.0: 0.0, 1.0: 0.0, 1.0: 0.0, 0.0: 1.0, 1.0: 0.0, 1.0: 0.0, 1.0: 0.0, 1.0: 0.0, 1.0: 0.0, 1.0: 0.0, 1.0: 0.0, 1.0: 0.0, 1.0: 0.0, 1.0: 0.0, 1.0: 0.0, "
          ]
        },
        {
          "output_type": "stream",
          "name": "stderr",
          "text": [
            "360it [00:02, 94.03it/s]"
          ]
        },
        {
          "output_type": "stream",
          "name": "stdout",
          "text": [
            "1.0: 0.0, 1.0: 0.0, 1.0: 0.0, 1.0: 0.0, 1.0: 0.0, 1.0: 0.0, 1.0: 0.0, 1.0: 0.0, 1.0: 0.0, 1.0: 0.0, 1.0: 0.0, 1.0: 0.0, 1.0: 0.0, 1.0: 0.0, 1.0: 0.0, 1.0: 0.0, 1.0: 0.0, 1.0: 0.0, 1.0: 0.0, 1.0: 0.0, 1.0: 0.0, 1.0: 0.0, 0.0: 1.0, 1.0: 0.0, 0.0: 1.0, 1.0: 0.0, 1.0: 0.0, 1.0: 0.0, 1.0: 0.0, "
          ]
        },
        {
          "output_type": "stream",
          "name": "stderr",
          "text": [
            "406it [00:02, 135.44it/s]"
          ]
        },
        {
          "output_type": "stream",
          "name": "stdout",
          "text": [
            "0.0: 1.0, 1.0: 0.0, 1.0: 0.0, 1.0: 0.0, 1.0: 0.0, 1.0: 0.0, 1.0: 0.0, 1.0: 0.0, 1.0: 0.0, 1.0: 0.0, 1.0: 0.0, 1.0: 0.0, 1.0: 0.0, 1.0: 0.0, 1.0: 0.0, 1.0: 0.0, 1.0: 0.0, 1.0: 0.0, 0.0: 1.0, 1.0: 0.0, 1.0: 0.0, 1.0: 0.0, 1.0: 0.0, "
          ]
        },
        {
          "output_type": "stream",
          "name": "stderr",
          "text": [
            "453it [00:02, 173.68it/s]"
          ]
        },
        {
          "output_type": "stream",
          "name": "stdout",
          "text": [
            "0.0: 1.0, 1.0: 0.0, 1.0: 0.0, 1.0: 0.0, 1.0: 0.0, 1.0: 0.0, 1.0: 0.0, 1.0: 0.0, 1.0: 0.0, 1.0: 0.0, 0.0: 1.0, 1.0: 0.0, 1.0: 0.0, 0.0: 1.0, 1.0: 0.0, 1.0: 0.0, 1.0: 0.0, 1.0: 0.0, 1.0: 0.0, 1.0: 0.0, 0.0: 1.0, 1.0: 0.0, 1.0: 0.0, "
          ]
        },
        {
          "output_type": "stream",
          "name": "stderr",
          "text": [
            "504it [00:03, 207.41it/s]"
          ]
        },
        {
          "output_type": "stream",
          "name": "stdout",
          "text": [
            "1.0: 0.0, 1.0: 0.0, 1.0: 0.0, 1.0: 0.0, 1.0: 0.0, 1.0: 0.0, 1.0: 0.0, 1.0: 0.0, 1.0: 0.0, 1.0: 0.0, 1.0: 0.0, 1.0: 0.0, 1.0: 0.0, 0.0: 1.0, 1.0: 0.0, 1.0: 0.0, 1.0: 0.0, 1.0: 0.0, 1.0: 0.0, 1.0: 0.0, 0.0: 1.0, 0.0: 1.0, 1.0: 0.0, "
          ]
        },
        {
          "output_type": "stream",
          "name": "stderr",
          "text": [
            "554it [00:03, 222.04it/s]"
          ]
        },
        {
          "output_type": "stream",
          "name": "stdout",
          "text": [
            "1.0: 0.0, 1.0: 0.0, 1.0: 0.0, 1.0: 0.0, 1.0: 0.0, 1.0: 0.0, 1.0: 0.0, 1.0: 0.0, 1.0: 0.0, 1.0: 0.0, 1.0: 0.0, 1.0: 0.0, 1.0: 0.0, 0.0: 1.0, 1.0: 0.0, 1.0: 0.0, 1.0: 0.0, "
          ]
        },
        {
          "output_type": "stream",
          "name": "stderr",
          "text": [
            "\r578it [00:03, 175.46it/s]"
          ]
        },
        {
          "output_type": "stream",
          "name": "stdout",
          "text": [
            "1.0: 0.0, 1.0: 0.0, 1.0: 0.0, 1.0: 0.0, 1.0: 0.0, 1.0: 0.0, 0.0: 1.0, 1.0: 0.0, 1.0: 0.0, 0.0: 1.0, 0.0: 1.0, 1.0: 0.0, 1.0: 0.0, 1.0: 0.0, 1.0: 0.0, 1.0: 0.0, 0.0: 1.0, 1.0: 0.0, "
          ]
        },
        {
          "output_type": "stream",
          "name": "stderr",
          "text": [
            "630it [00:03, 207.29it/s]"
          ]
        },
        {
          "output_type": "stream",
          "name": "stdout",
          "text": [
            "1.0: 0.0, 1.0: 0.0, 1.0: 0.0, 1.0: 0.0, 1.0: 0.0, 1.0: 0.0, 1.0: 0.0, 1.0: 0.0, 1.0: 0.0, 1.0: 0.0, 1.0: 0.0, 1.0: 0.0, 1.0: 0.0, 1.0: 0.0, 1.0: 0.0, 1.0: 0.0, 1.0: 0.0, 1.0: 0.0, 1.0: 0.0, 1.0: "
          ]
        },
        {
          "output_type": "stream",
          "name": "stderr",
          "text": [
            "681it [00:03, 227.72it/s]"
          ]
        },
        {
          "output_type": "stream",
          "name": "stdout",
          "text": [
            "0.0, 1.0: 0.0, 1.0: 0.0, 1.0: 0.0, 0.0: 1.0, 1.0: 0.0, 1.0: 0.0, 1.0: 0.0, 1.0: 0.0, 1.0: 0.0, 1.0: 0.0, 1.0: 0.0, 1.0: 0.0, 1.0: 0.0, 1.0: 0.0, 1.0: 0.0, 0.0: 1.0, 1.0: 0.0, 1.0: 0.0, 1.0: 0.0, "
          ]
        },
        {
          "output_type": "stream",
          "name": "stderr",
          "text": [
            "762it [00:04, 252.96it/s]"
          ]
        },
        {
          "output_type": "stream",
          "name": "stdout",
          "text": [
            "1.0: 0.0, 1.0: 0.0, 1.0: 0.0, 1.0: 0.0, 1.0: 0.0, 1.0: 0.0, 1.0: 0.0, 1.0: 0.0, 1.0: 0.0, 0.0: 1.0, 1.0: 0.0, 1.0: 0.0, 1.0: 0.0, 1.0: 0.0, 1.0: 0.0, 1.0: 0.0, 1.0: 0.0, "
          ]
        },
        {
          "output_type": "stream",
          "name": "stderr",
          "text": [
            "814it [00:04, 252.36it/s]"
          ]
        },
        {
          "output_type": "stream",
          "name": "stdout",
          "text": [
            "1.0: 0.0, 1.0: 0.0, 1.0: 0.0, 0.0: 1.0, 1.0: 0.0, 1.0: 0.0, 1.0: 0.0, 1.0: 0.0, 1.0: 0.0, 1.0: 0.0, 1.0: 0.0, 1.0: 0.0, 1.0: 0.0, 1.0: 0.0, 1.0: 0.0, 0.0: 1.0, 1.0: 0.0, 1.0: 0.0, 1.0: 0.0, 1.0: 0.0, 1.0: 0.0, 1.0: 0.0, "
          ]
        },
        {
          "output_type": "stream",
          "name": "stderr",
          "text": [
            "866it [00:05, 85.66it/s] "
          ]
        },
        {
          "output_type": "stream",
          "name": "stdout",
          "text": [
            "1.0: 0.0, 1.0: 0.0, 1.0: 0.0, 1.0: 0.0, 1.0: 0.0, 1.0: 0.0, 1.0: 0.0, 1.0: 0.0, 1.0: 0.0, 1.0: 0.0, 1.0: 0.0, 1.0: 0.0, 1.0: 0.0, 1.0: 0.0, 1.0: 0.0, 0.0: 1.0, 1.0: 0.0, "
          ]
        },
        {
          "output_type": "stream",
          "name": "stderr",
          "text": [
            "910it [00:05, 100.63it/s]"
          ]
        },
        {
          "output_type": "stream",
          "name": "stdout",
          "text": [
            "1.0: 0.0, 1.0: 0.0, 1.0: 0.0, 1.0: 0.0, 0.0: 1.0, 1.0: 0.0, 0.0: 1.0, 1.0: 0.0, 1.0: 0.0, 1.0: 0.0, 1.0: 0.0, 1.0: 0.0, 1.0: 0.0, 1.0: 0.0, 0.0: 1.0, 0.0: 1.0, 1.0: 0.0, 1.0: 0.0, 1.0: 0.0, 1.0: 0.0, 0.0: 1.0, 1.0: 0.0, 1.0: 0.0, "
          ]
        },
        {
          "output_type": "stream",
          "name": "stderr",
          "text": [
            "957it [00:05, 141.77it/s]"
          ]
        },
        {
          "output_type": "stream",
          "name": "stdout",
          "text": [
            "1.0: 0.0, 1.0: 0.0, 1.0: 0.0, 1.0: 0.0, 1.0: 0.0, 1.0: 0.0, 0.0: 1.0, 1.0: 0.0, 1.0: 0.0, 1.0: 0.0, 1.0: 0.0, 1.0: 0.0, 1.0: 0.0, 1.0: 0.0, 1.0: 0.0, 1.0: 0.0, 1.0: 0.0, 1.0: 0.0, 1.0: 0.0, "
          ]
        },
        {
          "output_type": "stream",
          "name": "stderr",
          "text": [
            "1008it [00:06, 184.05it/s]"
          ]
        },
        {
          "output_type": "stream",
          "name": "stdout",
          "text": [
            "1.0: 0.0, 0.0: 1.0, 1.0: 0.0, 1.0: 0.0, 1.0: 0.0, 1.0: 0.0, 1.0: 0.0, 1.0: 0.0, 1.0: 0.0, 1.0: 0.0, 1.0: 0.0, 0.0: 1.0, 1.0: 0.0, 1.0: 0.0, 1.0: 0.0, 1.0: 0.0, 1.0: 0.0, 1.0: 0.0, 1.0: 0.0, 1.0: 0.0, "
          ]
        },
        {
          "output_type": "stream",
          "name": "stderr",
          "text": [
            "\r1024it [00:06, 166.41it/s]\n"
          ]
        },
        {
          "output_type": "stream",
          "name": "stdout",
          "text": [
            "1.0: 0.0, 1.0: 0.0, \n",
            "Epoch 011: | Loss: 0.73087 | Acc: 56.836\n",
            "\n"
          ]
        },
        {
          "output_type": "stream",
          "name": "stderr",
          "text": [
            "25it [00:00, 244.75it/s]"
          ]
        },
        {
          "output_type": "stream",
          "name": "stdout",
          "text": [
            "0.0: 1.0, 1.0: 0.0, 0.0: 1.0, 1.0: 0.0, 1.0: 0.0, 1.0: 0.0, 0.0: 1.0, 1.0: 0.0, 1.0: 0.0, "
          ]
        },
        {
          "output_type": "stream",
          "name": "stderr",
          "text": [
            "104it [00:00, 214.23it/s]"
          ]
        },
        {
          "output_type": "stream",
          "name": "stdout",
          "text": [
            "1.0: 0.0, 1.0: 0.0, 1.0: 0.0, 1.0: 0.0, 1.0: 0.0, 1.0: 0.0, 1.0: 0.0, 1.0: 0.0, 1.0: 0.0, 1.0: 0.0, 1.0: 0.0, 0.0: 1.0, 0.0: 1.0, 1.0: 0.0, 1.0: 0.0, 1.0: 0.0, 1.0: 0.0, 1.0: 0.0, 0.0: 1.0, 1.0: 0.0, 1.0: 0.0, 1.0: 0.0, 1.0: 0.0, 0.0: 1.0, 1.0: 0.0, "
          ]
        },
        {
          "output_type": "stream",
          "name": "stderr",
          "text": [
            "151it [00:01, 108.91it/s]"
          ]
        },
        {
          "output_type": "stream",
          "name": "stdout",
          "text": [
            "1.0: 0.0, 1.0: 0.0, 1.0: 0.0, 1.0: 0.0, 1.0: 0.0, 1.0: 0.0, 1.0: 0.0, 1.0: 0.0, 1.0: 0.0, 1.0: 0.0, 1.0: 0.0, 1.0: 0.0, 1.0: 0.0, 1.0: 0.0, 1.0: 0.0, 1.0: 0.0, 0.0: 1.0, 1.0: 0.0, 1.0: 0.0, 1.0: 0.0, 1.0: 0.0, 1.0: 0.0, 1.0: 0.0, "
          ]
        },
        {
          "output_type": "stream",
          "name": "stderr",
          "text": [
            "194it [00:01, 144.22it/s]"
          ]
        },
        {
          "output_type": "stream",
          "name": "stdout",
          "text": [
            "1.0: 0.0, 1.0: 0.0, 1.0: 0.0, 1.0: 0.0, 1.0: 0.0, 1.0: 0.0, 1.0: 0.0, 1.0: 0.0, 1.0: 0.0, 0.0: 1.0, 1.0: 0.0, 1.0: 0.0, 1.0: 0.0, 1.0: 0.0, 1.0: 0.0, 0.0: 1.0, 1.0: 0.0, 1.0: 0.0, 1.0: 0.0, 1.0: 0.0, 1.0: 0.0, 1.0: 0.0, 1.0: 0.0, 1.0: 0.0, 1.0: 0.0, "
          ]
        },
        {
          "output_type": "stream",
          "name": "stderr",
          "text": [
            "238it [00:01, 174.33it/s]"
          ]
        },
        {
          "output_type": "stream",
          "name": "stdout",
          "text": [
            "1.0: 0.0, 1.0: 0.0, 1.0: 0.0, 0.0: 1.0, 1.0: 0.0, 1.0: 0.0, 1.0: 0.0, 1.0: 0.0, 1.0: 0.0, 1.0: 0.0, 1.0: 0.0, 1.0: 0.0, 1.0: 0.0, 1.0: 0.0, 1.0: 0.0, 1.0: 0.0, 1.0: 0.0, 1.0: 0.0, 1.0: 0.0, 0.0: 1.0, 1.0: 0.0, 1.0: 0.0, 1.0: 0.0, 0.0: 1.0, 1.0: 0.0, "
          ]
        },
        {
          "output_type": "stream",
          "name": "stderr",
          "text": [
            "286it [00:01, 201.20it/s]"
          ]
        },
        {
          "output_type": "stream",
          "name": "stdout",
          "text": [
            "1.0: 0.0, 1.0: 0.0, 1.0: 0.0, 1.0: 0.0, 0.0: 1.0, 1.0: 0.0, 1.0: 0.0, 1.0: 0.0, 1.0: 0.0, 0.0: 1.0, 0.0: 1.0, 1.0: 0.0, 1.0: 0.0, 1.0: 0.0, 1.0: 0.0, 1.0: 0.0, 1.0: 0.0, 1.0: 0.0, 1.0: 0.0, 1.0: 0.0, 1.0: 0.0, 1.0: 0.0, 1.0: 0.0, 1.0: 0.0, 1.0: 0.0, 1.0: 0.0, 1.0: 0.0, 1.0: 0.0, 1.0: 0.0, 1.0: 0.0, "
          ]
        },
        {
          "output_type": "stream",
          "name": "stderr",
          "text": [
            "333it [00:02, 213.47it/s]"
          ]
        },
        {
          "output_type": "stream",
          "name": "stdout",
          "text": [
            "0.0: 1.0, 1.0: 0.0, 1.0: 0.0, 1.0: 0.0, 1.0: 0.0, 1.0: 0.0, 0.0: 1.0, 1.0: 0.0, 1.0: 0.0, 1.0: 0.0, 1.0: 0.0, 1.0: 0.0, 1.0: 0.0, 1.0: 0.0, 1.0: 0.0, 1.0: 0.0, 1.0: 0.0, 1.0: 0.0, 1.0: 0.0, 1.0: 0.0, 1.0: 0.0, 1.0: 0.0, 1.0: 0.0, 1.0: 0.0, 1.0: 0.0, 1.0: 0.0, 1.0: 0.0, 1.0: 0.0, 1.0: 0.0, "
          ]
        },
        {
          "output_type": "stream",
          "name": "stderr",
          "text": [
            "379it [00:02, 207.54it/s]"
          ]
        },
        {
          "output_type": "stream",
          "name": "stdout",
          "text": [
            "1.0: 0.0, 1.0: 0.0, 1.0: 0.0, 1.0: 0.0, 1.0: 0.0, 1.0: 0.0, 1.0: 0.0, 1.0: 0.0, 1.0: 0.0, 1.0: 0.0, 1.0: 0.0, 1.0: 0.0, 1.0: 0.0, 0.0: 1.0, 1.0: 0.0, 1.0: 0.0, 1.0: 0.0, 1.0: 0.0, 1.0: 0.0, 1.0: 0.0, 1.0: 0.0, 1.0: 0.0, 0.0: 1.0, "
          ]
        },
        {
          "output_type": "stream",
          "name": "stderr",
          "text": [
            "428it [00:02, 212.42it/s]"
          ]
        },
        {
          "output_type": "stream",
          "name": "stdout",
          "text": [
            "1.0: 0.0, 1.0: 0.0, 1.0: 0.0, 1.0: 0.0, 1.0: 0.0, 1.0: 0.0, 1.0: 0.0, 1.0: 0.0, 0.0: 1.0, 1.0: 0.0, 1.0: 0.0, 1.0: 0.0, 1.0: 0.0, 0.0: 1.0, 1.0: 0.0, 1.0: 0.0, 1.0: 0.0, 1.0: 0.0, 1.0: 0.0, 1.0: 0.0, "
          ]
        },
        {
          "output_type": "stream",
          "name": "stderr",
          "text": [
            "475it [00:03, 107.64it/s]"
          ]
        },
        {
          "output_type": "stream",
          "name": "stdout",
          "text": [
            "1.0: 0.0, 1.0: 0.0, 1.0: 0.0, 1.0: 0.0, 1.0: 0.0, 1.0: 0.0, 0.0: 1.0, 0.0: 1.0, 1.0: 0.0, 1.0: 0.0, 1.0: 0.0, 1.0: 0.0, 0.0: 1.0, 1.0: 0.0, 1.0: 0.0, 1.0: 0.0, 1.0: 0.0, 0.0: 1.0, 1.0: 0.0, 0.0: 1.0, 0.0: 1.0, 1.0: 0.0, 1.0: 0.0, "
          ]
        },
        {
          "output_type": "stream",
          "name": "stderr",
          "text": [
            "524it [00:03, 150.25it/s]"
          ]
        },
        {
          "output_type": "stream",
          "name": "stdout",
          "text": [
            "0.0: 1.0, 1.0: 0.0, 1.0: 0.0, 1.0: 0.0, 1.0: 0.0, 1.0: 0.0, 1.0: 0.0, 1.0: 0.0, 1.0: 0.0, 1.0: 0.0, 1.0: 0.0, 1.0: 0.0, 1.0: 0.0, 1.0: 0.0, 1.0: 0.0, 1.0: 0.0, 1.0: 0.0, 1.0: 0.0, "
          ]
        },
        {
          "output_type": "stream",
          "name": "stderr",
          "text": [
            "571it [00:03, 179.75it/s]"
          ]
        },
        {
          "output_type": "stream",
          "name": "stdout",
          "text": [
            "1.0: 0.0, 1.0: 0.0, 1.0: 0.0, 1.0: 0.0, 1.0: 0.0, 1.0: 0.0, 1.0: 0.0, 1.0: 0.0, 1.0: 0.0, 1.0: 0.0, 1.0: 0.0, 1.0: 0.0, 1.0: 0.0, 1.0: 0.0, 1.0: 0.0, 1.0: 0.0, 0.0: 1.0, 1.0: 0.0, 1.0: 0.0, 1.0: 0.0, 1.0: 0.0, 1.0: 0.0, 1.0: 0.0, "
          ]
        },
        {
          "output_type": "stream",
          "name": "stderr",
          "text": [
            "620it [00:03, 202.47it/s]"
          ]
        },
        {
          "output_type": "stream",
          "name": "stdout",
          "text": [
            "0.0: 1.0, 1.0: 0.0, 1.0: 0.0, 1.0: 0.0, 1.0: 0.0, 1.0: 0.0, 1.0: 0.0, 1.0: 0.0, 1.0: 0.0, 1.0: 0.0, 1.0: 0.0, 1.0: 0.0, 1.0: 0.0, 1.0: 0.0, 1.0: 0.0, 1.0: 0.0, 1.0: 0.0, 1.0: 0.0, 1.0: 0.0, 0.0: 1.0, "
          ]
        },
        {
          "output_type": "stream",
          "name": "stderr",
          "text": [
            "672it [00:04, 227.38it/s]"
          ]
        },
        {
          "output_type": "stream",
          "name": "stdout",
          "text": [
            "1.0: 0.0, 1.0: 0.0, 1.0: 0.0, 1.0: 0.0, 1.0: 0.0, 1.0: 0.0, 1.0: 0.0, 1.0: 0.0, 1.0: 0.0, 1.0: 0.0, 1.0: 0.0, 1.0: 0.0, 1.0: 0.0, 1.0: 0.0, 1.0: 0.0, 0.0: 1.0, 1.0: 0.0, 1.0: 0.0, 1.0: 0.0, 1.0: 0.0, "
          ]
        },
        {
          "output_type": "stream",
          "name": "stderr",
          "text": [
            "\r697it [00:04, 230.41it/s]"
          ]
        },
        {
          "output_type": "stream",
          "name": "stdout",
          "text": [
            "1.0: 0.0, 1.0: 0.0, 1.0: 0.0, 1.0: 0.0, 1.0: 0.0, 1.0: 0.0, 1.0: 0.0, 1.0: 0.0, 1.0: 0.0, 1.0: 0.0, 1.0: 0.0, 1.0: 0.0, "
          ]
        },
        {
          "output_type": "stream",
          "name": "stderr",
          "text": [
            "748it [00:05, 72.35it/s] "
          ]
        },
        {
          "output_type": "stream",
          "name": "stdout",
          "text": [
            "1.0: 0.0, 1.0: 0.0, 1.0: 0.0, 1.0: 0.0, 0.0: 1.0, 1.0: 0.0, 1.0: 0.0, 1.0: 0.0, "
          ]
        },
        {
          "output_type": "stream",
          "name": "stderr",
          "text": [
            "\r766it [00:05, 69.03it/s]"
          ]
        },
        {
          "output_type": "stream",
          "name": "stdout",
          "text": [
            "1.0: 0.0, 1.0: 0.0, 0.0: 1.0, 1.0: 0.0, 1.0: 0.0, 1.0: 0.0, "
          ]
        },
        {
          "output_type": "stream",
          "name": "stderr",
          "text": [
            "806it [00:06, 66.04it/s]"
          ]
        },
        {
          "output_type": "stream",
          "name": "stdout",
          "text": [
            "1.0: 0.0, 1.0: 0.0, 1.0: 0.0, 1.0: 0.0, 0.0: 1.0, 1.0: 0.0, 1.0: 0.0, 0.0: 1.0, 1.0: 0.0, 1.0: 0.0, 1.0: 0.0, 1.0: 0.0, 1.0: 0.0, 1.0: 0.0, 0.0: 1.0, 1.0: 0.0, 1.0: 0.0, 1.0: 0.0, 1.0: 0.0, 1.0: 0.0, 1.0: 0.0, "
          ]
        },
        {
          "output_type": "stream",
          "name": "stderr",
          "text": [
            "855it [00:06, 108.81it/s]"
          ]
        },
        {
          "output_type": "stream",
          "name": "stdout",
          "text": [
            "1.0: 0.0, 1.0: 0.0, 1.0: 0.0, 1.0: 0.0, 1.0: 0.0, 1.0: 0.0, 1.0: 0.0, 0.0: 1.0, 1.0: 0.0, 1.0: 0.0, 1.0: 0.0, 1.0: 0.0, 1.0: 0.0, 0.0: 1.0, 1.0: 0.0, 1.0: 0.0, 1.0: 0.0, 0.0: 1.0, 0.0: 1.0, 1.0: 0.0, "
          ]
        },
        {
          "output_type": "stream",
          "name": "stderr",
          "text": [
            "903it [00:06, 152.47it/s]"
          ]
        },
        {
          "output_type": "stream",
          "name": "stdout",
          "text": [
            "0.0: 1.0, 1.0: 0.0, 0.0: 1.0, 1.0: 0.0, 1.0: 0.0, 1.0: 0.0, 1.0: 0.0, 1.0: 0.0, 1.0: 0.0, 1.0: 0.0, 1.0: 0.0, 1.0: 0.0, 1.0: 0.0, 1.0: 0.0, 1.0: 0.0, 1.0: 0.0, "
          ]
        },
        {
          "output_type": "stream",
          "name": "stderr",
          "text": [
            "954it [00:06, 191.70it/s]"
          ]
        },
        {
          "output_type": "stream",
          "name": "stdout",
          "text": [
            "1.0: 0.0, 1.0: 0.0, 1.0: 0.0, 1.0: 0.0, 1.0: 0.0, 1.0: 0.0, 1.0: 0.0, 1.0: 0.0, 1.0: 0.0, 1.0: 0.0, 1.0: 0.0, 0.0: 1.0, 1.0: 0.0, 1.0: 0.0, 1.0: 0.0, 1.0: 0.0, 1.0: 0.0, 1.0: 0.0, 1.0: 0.0, 1.0: 0.0, 1.0: 0.0, 0.0: 1.0, "
          ]
        },
        {
          "output_type": "stream",
          "name": "stderr",
          "text": [
            "1006it [00:07, 220.27it/s]"
          ]
        },
        {
          "output_type": "stream",
          "name": "stdout",
          "text": [
            "1.0: 0.0, 1.0: 0.0, 0.0: 1.0, 1.0: 0.0, 1.0: 0.0, 0.0: 1.0, 1.0: 0.0, 1.0: 0.0, 1.0: 0.0, 0.0: 1.0, 1.0: 0.0, 1.0: 0.0, 1.0: 0.0, 1.0: 0.0, 1.0: 0.0, 1.0: 0.0, 1.0: 0.0, "
          ]
        },
        {
          "output_type": "stream",
          "name": "stderr",
          "text": [
            "\r1024it [00:07, 140.83it/s]\n"
          ]
        },
        {
          "output_type": "stream",
          "name": "stdout",
          "text": [
            "1.0: 0.0, 1.0: 0.0, 1.0: 0.0, 1.0: 0.0, 1.0: 0.0, 0.0: 1.0, 1.0: 0.0, 1.0: 0.0, \n",
            "Epoch 012: | Loss: 0.73007 | Acc: 56.738\n",
            "\n"
          ]
        },
        {
          "output_type": "stream",
          "name": "stderr",
          "text": [
            "26it [00:00, 255.40it/s]"
          ]
        },
        {
          "output_type": "stream",
          "name": "stdout",
          "text": [
            "0.0: 1.0, 1.0: 0.0, 1.0: 0.0, 1.0: 0.0, 1.0: 0.0, 1.0: 0.0, 1.0: 0.0, 1.0: 0.0, 0.0: 1.0, 1.0: 0.0, "
          ]
        },
        {
          "output_type": "stream",
          "name": "stderr",
          "text": [
            "\r52it [00:00, 251.80it/s]"
          ]
        },
        {
          "output_type": "stream",
          "name": "stdout",
          "text": [
            "1.0: 0.0, 1.0: 0.0, 1.0: 0.0, 1.0: 0.0, 1.0: 0.0, 1.0: 0.0, 1.0: 0.0, 0.0: 1.0, 1.0: 0.0, "
          ]
        },
        {
          "output_type": "stream",
          "name": "stderr",
          "text": [
            "105it [00:00, 102.77it/s]"
          ]
        },
        {
          "output_type": "stream",
          "name": "stdout",
          "text": [
            "1.0: 0.0, 1.0: 0.0, 1.0: 0.0, 1.0: 0.0, 1.0: 0.0, 1.0: 0.0, 1.0: 0.0, 0.0: 1.0, 1.0: 0.0, 1.0: 0.0, 1.0: 0.0, 1.0: 0.0, 1.0: 0.0, 0.0: 1.0, 0.0: 1.0, "
          ]
        },
        {
          "output_type": "stream",
          "name": "stderr",
          "text": [
            "153it [00:01, 149.28it/s]"
          ]
        },
        {
          "output_type": "stream",
          "name": "stdout",
          "text": [
            "0.0: 1.0, 1.0: 0.0, 1.0: 0.0, 1.0: 0.0, 0.0: 1.0, 1.0: 0.0, 1.0: 0.0, 1.0: 0.0, 1.0: 0.0, 1.0: 0.0, 1.0: 0.0, 1.0: 0.0, 1.0: 0.0, 1.0: 0.0, 1.0: 0.0, 1.0: 0.0, 1.0: 0.0, 0.0: 1.0, 1.0: 0.0, 1.0: 0.0, 0.0: 1.0, 1.0: 0.0, 1.0: 0.0, 1.0: 0.0, 1.0: 0.0, 0.0: 1.0, 1.0: 0.0, 1.0: 0.0, "
          ]
        },
        {
          "output_type": "stream",
          "name": "stderr",
          "text": [
            "198it [00:01, 178.30it/s]"
          ]
        },
        {
          "output_type": "stream",
          "name": "stdout",
          "text": [
            "1.0: 0.0, 1.0: 0.0, 1.0: 0.0, 1.0: 0.0, 1.0: 0.0, 0.0: 1.0, 1.0: 0.0, 1.0: 0.0, 1.0: 0.0, 0.0: 1.0, 1.0: 0.0, 0.0: 1.0, 1.0: 0.0, 1.0: 0.0, 1.0: 0.0, 0.0: 1.0, 1.0: 0.0, 1.0: 0.0, 1.0: 0.0, 1.0: 0.0, 1.0: 0.0, 1.0: 0.0, 0.0: 1.0, 1.0: 0.0, 1.0: 0.0, 1.0: 0.0, 1.0: 0.0, 1.0: 0.0, 1.0: 0.0, 0.0: 1.0, 1.0: 0.0, 1.0: 0.0, 1.0: 0.0, "
          ]
        },
        {
          "output_type": "stream",
          "name": "stderr",
          "text": [
            "246it [00:01, 204.13it/s]"
          ]
        },
        {
          "output_type": "stream",
          "name": "stdout",
          "text": [
            "1.0: 0.0, 1.0: 0.0, 0.0: 1.0, 1.0: 0.0, 1.0: 0.0, 1.0: 0.0, 1.0: 0.0, 1.0: 0.0, 1.0: 0.0, 1.0: 0.0, 1.0: 0.0, 1.0: 0.0, 1.0: 0.0, 1.0: 0.0, 1.0: 0.0, 1.0: 0.0, 1.0: 0.0, 1.0: 0.0, 1.0: 0.0, 1.0: 0.0, 1.0: 0.0, 1.0: 0.0, 1.0: 0.0, 1.0: 0.0, 0.0: 1.0, 1.0: 0.0, 1.0: 0.0, 1.0: 0.0, "
          ]
        },
        {
          "output_type": "stream",
          "name": "stderr",
          "text": [
            "323it [00:01, 237.54it/s]"
          ]
        },
        {
          "output_type": "stream",
          "name": "stdout",
          "text": [
            "1.0: 0.0, 1.0: 0.0, 0.0: 1.0, 1.0: 0.0, 1.0: 0.0, 1.0: 0.0, 1.0: 0.0, 1.0: 0.0, 1.0: 0.0, 1.0: 0.0, 1.0: 0.0, 1.0: 0.0, 0.0: 1.0, 1.0: 0.0, 1.0: 0.0, 1.0: 0.0, 1.0: 0.0, 1.0: 0.0, 1.0: 0.0, 1.0: 0.0, 1.0: 0.0, 1.0: 0.0, 1.0: 0.0, 1.0: 0.0, 1.0: 0.0, 1.0: 0.0, 1.0: 0.0, 1.0: 0.0, 1.0: 0.0, 1.0: 0.0, 1.0: 0.0, 1.0: 0.0, 0.0: 1.0, 1.0: 0.0, 1.0: 0.0, 1.0: 0.0, 1.0: 0.0, 1.0: 0.0, "
          ]
        },
        {
          "output_type": "stream",
          "name": "stderr",
          "text": [
            "375it [00:02, 188.58it/s]"
          ]
        },
        {
          "output_type": "stream",
          "name": "stdout",
          "text": [
            "1.0: 0.0, 1.0: 0.0, 1.0: 0.0, 1.0: 0.0, 1.0: 0.0, 0.0: 1.0, 1.0: 0.0, 1.0: 0.0, 1.0: 0.0, 1.0: 0.0, 1.0: 0.0, 1.0: 0.0, 1.0: 0.0, 1.0: 0.0, 1.0: 0.0, 1.0: 0.0, 1.0: 0.0, 1.0: 0.0, 1.0: 0.0, 1.0: 0.0, 0.0: 1.0, 1.0: 0.0, 1.0: 0.0, 1.0: 0.0, 1.0: 0.0, 1.0: 0.0, 1.0: 0.0, 1.0: 0.0, 1.0: 0.0, 1.0: 0.0, 1.0: 0.0, 1.0: 0.0, 0.0: 1.0, "
          ]
        },
        {
          "output_type": "stream",
          "name": "stderr",
          "text": [
            "422it [00:02, 105.64it/s]"
          ]
        },
        {
          "output_type": "stream",
          "name": "stdout",
          "text": [
            "1.0: 0.0, 1.0: 0.0, 1.0: 0.0, 1.0: 0.0, 1.0: 0.0, 1.0: 0.0, 1.0: 0.0, 0.0: 1.0, 1.0: 0.0, 1.0: 0.0, 1.0: 0.0, 1.0: 0.0, 0.0: 1.0, 1.0: 0.0, 1.0: 0.0, 0.0: 1.0, 1.0: 0.0, 1.0: 0.0, 0.0: 1.0, 1.0: 0.0, 1.0: 0.0, 1.0: 0.0, "
          ]
        },
        {
          "output_type": "stream",
          "name": "stderr",
          "text": [
            "\r445it [00:03, 124.68it/s]"
          ]
        },
        {
          "output_type": "stream",
          "name": "stdout",
          "text": [
            "1.0: 0.0, 1.0: 0.0, 1.0: 0.0, 1.0: 0.0, 1.0: 0.0, 1.0: 0.0, 0.0: 1.0, 0.0: 1.0, 1.0: 0.0, 1.0: 0.0, 1.0: 0.0, 1.0: 0.0, 1.0: 0.0, 1.0: 0.0, 1.0: 0.0, 1.0: 0.0, 1.0: 0.0, 1.0: 0.0, "
          ]
        },
        {
          "output_type": "stream",
          "name": "stderr",
          "text": [
            "517it [00:04, 92.36it/s]"
          ]
        },
        {
          "output_type": "stream",
          "name": "stdout",
          "text": [
            "0.0: 1.0, 0.0: 1.0, 1.0: 0.0, 1.0: 0.0, 0.0: 1.0, 0.0: 1.0, 1.0: 0.0, 1.0: 0.0, 1.0: 0.0, 1.0: 0.0, 1.0: 0.0, 1.0: 0.0, 1.0: 0.0, 1.0: 0.0, 1.0: 0.0, 1.0: 0.0, 1.0: 0.0, 1.0: 0.0, 1.0: 0.0, 1.0: 0.0, 1.0: 0.0, 0.0: 1.0, 0.0: 1.0, 1.0: 0.0, "
          ]
        },
        {
          "output_type": "stream",
          "name": "stderr",
          "text": [
            "564it [00:04, 132.43it/s]"
          ]
        },
        {
          "output_type": "stream",
          "name": "stdout",
          "text": [
            "1.0: 0.0, 0.0: 1.0, 1.0: 0.0, 1.0: 0.0, 1.0: 0.0, 1.0: 0.0, 1.0: 0.0, 1.0: 0.0, 0.0: 1.0, 1.0: 0.0, 1.0: 0.0, 1.0: 0.0, 1.0: 0.0, 1.0: 0.0, 1.0: 0.0, 1.0: 0.0, 0.0: 1.0, 1.0: 0.0, 1.0: 0.0, 1.0: 0.0, 1.0: 0.0, 1.0: 0.0, 1.0: 0.0, 1.0: 0.0, "
          ]
        },
        {
          "output_type": "stream",
          "name": "stderr",
          "text": [
            "611it [00:04, 90.66it/s]"
          ]
        },
        {
          "output_type": "stream",
          "name": "stdout",
          "text": [
            "1.0: 0.0, 1.0: 0.0, 1.0: 0.0, 0.0: 1.0, 1.0: 0.0, 1.0: 0.0, 1.0: 0.0, 1.0: 0.0, 1.0: 0.0, 1.0: 0.0, 0.0: 1.0, 1.0: 0.0, 1.0: 0.0, 1.0: 0.0, 1.0: 0.0, 1.0: 0.0, 1.0: 0.0, 1.0: 0.0, 1.0: 0.0, 1.0: 0.0, 1.0: 0.0, 1.0: 0.0, 1.0: 0.0, "
          ]
        },
        {
          "output_type": "stream",
          "name": "stderr",
          "text": [
            "660it [00:05, 134.08it/s]"
          ]
        },
        {
          "output_type": "stream",
          "name": "stdout",
          "text": [
            "1.0: 0.0, 1.0: 0.0, 1.0: 0.0, 1.0: 0.0, 1.0: 0.0, 1.0: 0.0, 1.0: 0.0, 1.0: 0.0, 1.0: 0.0, 1.0: 0.0, 0.0: 1.0, 1.0: 0.0, 1.0: 0.0, 1.0: 0.0, 1.0: 0.0, 1.0: 0.0, 1.0: 0.0, 0.0: 1.0, 1.0: 0.0, "
          ]
        },
        {
          "output_type": "stream",
          "name": "stderr",
          "text": [
            "710it [00:05, 175.86it/s]"
          ]
        },
        {
          "output_type": "stream",
          "name": "stdout",
          "text": [
            "1.0: 0.0, 1.0: 0.0, 1.0: 0.0, 1.0: 0.0, 1.0: 0.0, 1.0: 0.0, 0.0: 1.0, 1.0: 0.0, 1.0: 0.0, 1.0: 0.0, 1.0: 0.0, 1.0: 0.0, 1.0: 0.0, 1.0: 0.0, 0.0: 1.0, 1.0: 0.0, 1.0: 0.0, 1.0: 0.0, 1.0: 0.0, 1.0: 0.0, "
          ]
        },
        {
          "output_type": "stream",
          "name": "stderr",
          "text": [
            "761it [00:05, 208.70it/s]"
          ]
        },
        {
          "output_type": "stream",
          "name": "stdout",
          "text": [
            "1.0: 0.0, 1.0: 0.0, 0.0: 1.0, 1.0: 0.0, 0.0: 1.0, 1.0: 0.0, 1.0: 0.0, 1.0: 0.0, 1.0: 0.0, 1.0: 0.0, 0.0: 1.0, 1.0: 0.0, 1.0: 0.0, 1.0: 0.0, 1.0: 0.0, 1.0: 0.0, 1.0: 0.0, 1.0: 0.0, 1.0: 0.0, "
          ]
        },
        {
          "output_type": "stream",
          "name": "stderr",
          "text": [
            "\r786it [00:05, 214.06it/s]"
          ]
        },
        {
          "output_type": "stream",
          "name": "stdout",
          "text": [
            "0.0: 1.0, 1.0: 0.0, 1.0: 0.0, 0.0: 1.0, 1.0: 0.0, "
          ]
        },
        {
          "output_type": "stream",
          "name": "stderr",
          "text": [
            "836it [00:06, 169.58it/s]"
          ]
        },
        {
          "output_type": "stream",
          "name": "stdout",
          "text": [
            "0.0: 1.0, 1.0: 0.0, 1.0: 0.0, 1.0: 0.0, 1.0: 0.0, 1.0: 0.0, 1.0: 0.0, 1.0: 0.0, 1.0: 0.0, 1.0: 0.0, 1.0: 0.0, 1.0: 0.0, 1.0: 0.0, 0.0: 1.0, 1.0: 0.0, 1.0: 0.0, 1.0: 0.0, 1.0: 0.0, "
          ]
        },
        {
          "output_type": "stream",
          "name": "stderr",
          "text": [
            "886it [00:06, 200.95it/s]"
          ]
        },
        {
          "output_type": "stream",
          "name": "stdout",
          "text": [
            "1.0: 0.0, 1.0: 0.0, 1.0: 0.0, 0.0: 1.0, 1.0: 0.0, 1.0: 0.0, 1.0: 0.0, 1.0: 0.0, 0.0: 1.0, 1.0: 0.0, 0.0: 1.0, 1.0: 0.0, 1.0: 0.0, 1.0: 0.0, 1.0: 0.0, 1.0: 0.0, 0.0: 1.0, 1.0: 0.0, 1.0: 0.0, 1.0: 0.0, "
          ]
        },
        {
          "output_type": "stream",
          "name": "stderr",
          "text": [
            "936it [00:06, 220.87it/s]"
          ]
        },
        {
          "output_type": "stream",
          "name": "stdout",
          "text": [
            "1.0: 0.0, 1.0: 0.0, 1.0: 0.0, 1.0: 0.0, 1.0: 0.0, 1.0: 0.0, 1.0: 0.0, 1.0: 0.0, 1.0: 0.0, 1.0: 0.0, 1.0: 0.0, 1.0: 0.0, 1.0: 0.0, 0.0: 1.0, 1.0: 0.0, 1.0: 0.0, 1.0: 0.0, 1.0: 0.0, "
          ]
        },
        {
          "output_type": "stream",
          "name": "stderr",
          "text": [
            "985it [00:06, 222.97it/s]"
          ]
        },
        {
          "output_type": "stream",
          "name": "stdout",
          "text": [
            "1.0: 0.0, 1.0: 0.0, 1.0: 0.0, 0.0: 1.0, 1.0: 0.0, 1.0: 0.0, 1.0: 0.0, 0.0: 1.0, 0.0: 1.0, 1.0: 0.0, 0.0: 1.0, 1.0: 0.0, 0.0: 1.0, 1.0: 0.0, 1.0: 0.0, 1.0: 0.0, 1.0: 0.0, 1.0: 0.0, 1.0: 0.0, 1.0: 0.0, 1.0: 0.0, 1.0: 0.0, 1.0: "
          ]
        },
        {
          "output_type": "stream",
          "name": "stderr",
          "text": [
            "1024it [00:06, 148.67it/s]\n"
          ]
        },
        {
          "output_type": "stream",
          "name": "stdout",
          "text": [
            "0.0, 1.0: 0.0, 1.0: 0.0, 1.0: 0.0, 1.0: 0.0, 1.0: 0.0, 0.0: 1.0, 1.0: 0.0, 1.0: 0.0, 1.0: 0.0, 0.0: 1.0, 1.0: 0.0, 1.0: 0.0, \n",
            "Epoch 013: | Loss: 0.73624 | Acc: 55.176\n",
            "\n"
          ]
        },
        {
          "output_type": "stream",
          "name": "stderr",
          "text": [
            "21it [00:00, 193.28it/s]"
          ]
        },
        {
          "output_type": "stream",
          "name": "stdout",
          "text": [
            "0.0: 1.0, 0.0: 1.0, 1.0: 0.0, 1.0: 0.0, 1.0: 0.0, 1.0: 0.0, 1.0: 0.0, 1.0: 0.0, "
          ]
        },
        {
          "output_type": "stream",
          "name": "stderr",
          "text": [
            "68it [00:00, 211.00it/s]"
          ]
        },
        {
          "output_type": "stream",
          "name": "stdout",
          "text": [
            "1.0: 0.0, 1.0: 0.0, 0.0: 1.0, 1.0: 0.0, 1.0: 0.0, 0.0: 1.0, 1.0: 0.0, 1.0: 0.0, 1.0: 0.0, 1.0: 0.0, 1.0: 0.0, 1.0: 0.0, 1.0: 0.0, 1.0: 0.0, 1.0: 0.0, 0.0: 1.0, 0.0: 1.0, 1.0: 0.0, "
          ]
        },
        {
          "output_type": "stream",
          "name": "stderr",
          "text": [
            "117it [00:01, 99.52it/s]"
          ]
        },
        {
          "output_type": "stream",
          "name": "stdout",
          "text": [
            "1.0: 0.0, 1.0: 0.0, 1.0: 0.0, 1.0: 0.0, 1.0: 0.0, 1.0: 0.0, 1.0: 0.0, 1.0: 0.0, 1.0: 0.0, 1.0: 0.0, 1.0: 0.0, 1.0: 0.0, 1.0: 0.0, 1.0: 0.0, 1.0: 0.0, "
          ]
        },
        {
          "output_type": "stream",
          "name": "stderr",
          "text": [
            "165it [00:01, 146.23it/s]"
          ]
        },
        {
          "output_type": "stream",
          "name": "stdout",
          "text": [
            "1.0: 0.0, 1.0: 0.0, 1.0: 0.0, 1.0: 0.0, 1.0: 0.0, 1.0: 0.0, 1.0: 0.0, 0.0: 1.0, 1.0: 0.0, 1.0: 0.0, 1.0: 0.0, 1.0: 0.0, 1.0: 0.0, 1.0: 0.0, 1.0: 0.0, 1.0: 0.0, 1.0: 0.0, 1.0: 0.0, 1.0: 0.0, 1.0: 0.0, 1.0: 0.0, 1.0: 0.0, 1.0: 0.0, 1.0: 0.0, 0.0: 1.0, 1.0: 0.0, 1.0: 0.0, 0.0: 1.0, 1.0: 0.0, 1.0: 0.0, "
          ]
        },
        {
          "output_type": "stream",
          "name": "stderr",
          "text": [
            "211it [00:01, 179.15it/s]"
          ]
        },
        {
          "output_type": "stream",
          "name": "stdout",
          "text": [
            "1.0: 0.0, 1.0: 0.0, 0.0: 1.0, 1.0: 0.0, 1.0: 0.0, 1.0: 0.0, 1.0: 0.0, 1.0: 0.0, 1.0: 0.0, 1.0: 0.0, 1.0: 0.0, 1.0: 0.0, 1.0: 0.0, 0.0: 1.0, 1.0: 0.0, 0.0: 1.0, 1.0: 0.0, 1.0: 0.0, 1.0: 0.0, 1.0: 0.0, 1.0: 0.0, 1.0: 0.0, 1.0: 0.0, 1.0: 0.0, 1.0: 0.0, 1.0: 0.0, 0.0: 1.0, 1.0: 0.0, "
          ]
        },
        {
          "output_type": "stream",
          "name": "stderr",
          "text": [
            "257it [00:01, 200.15it/s]"
          ]
        },
        {
          "output_type": "stream",
          "name": "stdout",
          "text": [
            "1.0: 0.0, 1.0: 0.0, 1.0: 0.0, 1.0: 0.0, 1.0: 0.0, 1.0: 0.0, 1.0: 0.0, 1.0: 0.0, 1.0: 0.0, 1.0: 0.0, 1.0: 0.0, 1.0: 0.0, 1.0: 0.0, 1.0: 0.0, 1.0: 0.0, 0.0: 1.0, 1.0: 0.0, 1.0: 0.0, 1.0: 0.0, 1.0: 0.0, 1.0: 0.0, 1.0: 0.0, 1.0: 0.0, 1.0: 0.0, 1.0: 0.0, "
          ]
        },
        {
          "output_type": "stream",
          "name": "stderr",
          "text": [
            "306it [00:01, 218.85it/s]"
          ]
        },
        {
          "output_type": "stream",
          "name": "stdout",
          "text": [
            "0.0: 1.0, 1.0: 0.0, 1.0: 0.0, 1.0: 0.0, 1.0: 0.0, 1.0: 0.0, 1.0: 0.0, 0.0: 1.0, 1.0: 0.0, 1.0: 0.0, 1.0: 0.0, 1.0: 0.0, 1.0: 0.0, 0.0: 1.0, 1.0: 0.0, 1.0: 0.0, 1.0: 0.0, 1.0: 0.0, 1.0: 0.0, 1.0: 0.0, 1.0: 0.0, 1.0: 0.0, 1.0: 0.0, "
          ]
        },
        {
          "output_type": "stream",
          "name": "stderr",
          "text": [
            "354it [00:02, 181.73it/s]"
          ]
        },
        {
          "output_type": "stream",
          "name": "stdout",
          "text": [
            "1.0: 0.0, 1.0: 0.0, 1.0: 0.0, 1.0: 0.0, 1.0: 0.0, 1.0: 0.0, 1.0: 0.0, 1.0: 0.0, 1.0: 0.0, 1.0: 0.0, 1.0: 0.0, 1.0: 0.0, 1.0: 0.0, 1.0: 0.0, 1.0: 0.0, 1.0: 0.0, 1.0: 0.0, 1.0: 0.0, 1.0: 0.0, 1.0: 0.0, 1.0: 0.0, 1.0: 0.0, 1.0: 0.0, 1.0: 0.0, 1.0: 0.0, 1.0: 0.0, 1.0: 0.0, 1.0: 0.0, 1.0: 0.0, 1.0: 0.0, 1.0: 0.0, "
          ]
        },
        {
          "output_type": "stream",
          "name": "stderr",
          "text": [
            "\r378it [00:02, 194.81it/s]"
          ]
        },
        {
          "output_type": "stream",
          "name": "stdout",
          "text": [
            "1.0: 0.0, 1.0: 0.0, 1.0: 0.0, 1.0: 0.0, 1.0: 0.0, 1.0: 0.0, 1.0: 0.0, 1.0: 0.0, 1.0: 0.0, 1.0: 0.0, 1.0: 0.0, 1.0: 0.0, 1.0: 0.0, "
          ]
        },
        {
          "output_type": "stream",
          "name": "stderr",
          "text": [
            "425it [00:03, 104.63it/s]"
          ]
        },
        {
          "output_type": "stream",
          "name": "stdout",
          "text": [
            "1.0: 0.0, 1.0: 0.0, 1.0: 0.0, 1.0: 0.0, 1.0: 0.0, 0.0: 1.0, 0.0: 1.0, 1.0: 0.0, 1.0: 0.0, 1.0: 0.0, 1.0: 0.0, 0.0: 1.0, 1.0: 0.0, 1.0: 0.0, 1.0: 0.0, 1.0: 0.0, 1.0: 0.0, 1.0: 0.0, 1.0: 0.0, 1.0: 0.0, 1.0: 0.0, 1.0: 0.0, "
          ]
        },
        {
          "output_type": "stream",
          "name": "stderr",
          "text": [
            "473it [00:03, 146.95it/s]"
          ]
        },
        {
          "output_type": "stream",
          "name": "stdout",
          "text": [
            "1.0: 0.0, 1.0: 0.0, 1.0: 0.0, 1.0: 0.0, 1.0: 0.0, 1.0: 0.0, 1.0: 0.0, 1.0: 0.0, 1.0: 0.0, 1.0: 0.0, 1.0: 0.0, 0.0: 1.0, 1.0: 0.0, 1.0: 0.0, 0.0: 1.0, 1.0: 0.0, 0.0: 1.0, 1.0: 0.0, 1.0: 0.0, "
          ]
        },
        {
          "output_type": "stream",
          "name": "stderr",
          "text": [
            "521it [00:04, 94.11it/s]"
          ]
        },
        {
          "output_type": "stream",
          "name": "stdout",
          "text": [
            "1.0: 0.0, 0.0: 1.0, 1.0: 0.0, 1.0: 0.0, 1.0: 0.0, 1.0: 0.0, 1.0: 0.0, 1.0: 0.0, 1.0: 0.0, 1.0: 0.0, 1.0: 0.0, 1.0: 0.0, 1.0: 0.0, 1.0: 0.0, 1.0: 0.0, 1.0: 0.0, 1.0: 0.0, 0.0: 1.0, 1.0: 0.0, 1.0: 0.0, 1.0: 0.0, "
          ]
        },
        {
          "output_type": "stream",
          "name": "stderr",
          "text": [
            "571it [00:04, 138.92it/s]"
          ]
        },
        {
          "output_type": "stream",
          "name": "stdout",
          "text": [
            "0.0: 1.0, 1.0: 0.0, 1.0: 0.0, 1.0: 0.0, 1.0: 0.0, 1.0: 0.0, 1.0: 0.0, 1.0: 0.0, 1.0: 0.0, 1.0: 0.0, 1.0: 0.0, 1.0: 0.0, 0.0: 1.0, 1.0: 0.0, 1.0: 0.0, 1.0: 0.0, 1.0: 0.0, 1.0: 0.0, 1.0: 0.0, 1.0: 0.0, 0.0: 1.0, "
          ]
        },
        {
          "output_type": "stream",
          "name": "stderr",
          "text": [
            "618it [00:05, 94.19it/s]"
          ]
        },
        {
          "output_type": "stream",
          "name": "stdout",
          "text": [
            "1.0: 0.0, 1.0: 0.0, 1.0: 0.0, 1.0: 0.0, 1.0: 0.0, 1.0: 0.0, 1.0: 0.0, 1.0: 0.0, 1.0: 0.0, 1.0: 0.0, 1.0: 0.0, 1.0: 0.0, 1.0: 0.0, 1.0: 0.0, 1.0: 0.0, 1.0: 0.0, 1.0: 0.0, 1.0: 0.0, 1.0: 0.0, 0.0: 1.0, "
          ]
        },
        {
          "output_type": "stream",
          "name": "stderr",
          "text": [
            "668it [00:05, 138.58it/s]"
          ]
        },
        {
          "output_type": "stream",
          "name": "stdout",
          "text": [
            "1.0: 0.0, 1.0: 0.0, 0.0: 1.0, 1.0: 0.0, 1.0: 0.0, 1.0: 0.0, 1.0: 0.0, 0.0: 1.0, 0.0: 1.0, 1.0: 0.0, 1.0: 0.0, 1.0: 0.0, 1.0: 0.0, 1.0: 0.0, 1.0: 0.0, 1.0: 0.0, 1.0: 0.0, 1.0: 0.0, 1.0: 0.0, "
          ]
        },
        {
          "output_type": "stream",
          "name": "stderr",
          "text": [
            "721it [00:05, 183.32it/s]"
          ]
        },
        {
          "output_type": "stream",
          "name": "stdout",
          "text": [
            "1.0: 0.0, 1.0: 0.0, 1.0: 0.0, 1.0: 0.0, 1.0: 0.0, 1.0: 0.0, 0.0: 1.0, 1.0: 0.0, 1.0: 0.0, 1.0: 0.0, 1.0: 0.0, 1.0: 0.0, 1.0: 0.0, 1.0: 0.0, 1.0: 0.0, 1.0: 0.0, 1.0: 0.0, 0.0: 1.0, 1.0: 0.0, 1.0: 0.0, "
          ]
        },
        {
          "output_type": "stream",
          "name": "stderr",
          "text": [
            "772it [00:05, 210.89it/s]"
          ]
        },
        {
          "output_type": "stream",
          "name": "stdout",
          "text": [
            "1.0: 0.0, 1.0: 0.0, 1.0: 0.0, 1.0: 0.0, 1.0: 0.0, 1.0: 0.0, 0.0: 1.0, 1.0: 0.0, 1.0: 0.0, 1.0: 0.0, 1.0: 0.0, 1.0: 0.0, 1.0: 0.0, 1.0: 0.0, 1.0: 0.0, 1.0: 0.0, 1.0: 0.0, 1.0: 0.0, "
          ]
        },
        {
          "output_type": "stream",
          "name": "stderr",
          "text": [
            "823it [00:05, 226.74it/s]"
          ]
        },
        {
          "output_type": "stream",
          "name": "stdout",
          "text": [
            "1.0: 0.0, 1.0: 0.0, 0.0: 1.0, 1.0: 0.0, 0.0: 1.0, 1.0: 0.0, 1.0: 0.0, 1.0: 0.0, 1.0: 0.0, 1.0: 0.0, 1.0: 0.0, 1.0: 0.0, 0.0: 1.0, 0.0: 1.0, 1.0: 0.0, 1.0: 0.0, 0.0: 1.0, 1.0: 0.0, 1.0: 0.0, 1.0: 0.0, 0.0: 1.0, 1.0: 0.0, 1.0: 0.0, "
          ]
        },
        {
          "output_type": "stream",
          "name": "stderr",
          "text": [
            "874it [00:06, 216.38it/s]"
          ]
        },
        {
          "output_type": "stream",
          "name": "stdout",
          "text": [
            "1.0: 0.0, 1.0: 0.0, 1.0: 0.0, 1.0: 0.0, 1.0: 0.0, 1.0: 0.0, 1.0: 0.0, 1.0: 0.0, 1.0: 0.0, 1.0: 0.0, 1.0: 0.0, "
          ]
        },
        {
          "output_type": "stream",
          "name": "stderr",
          "text": [
            "\r897it [00:06, 207.58it/s]"
          ]
        },
        {
          "output_type": "stream",
          "name": "stdout",
          "text": [
            "1.0: 0.0, 1.0: 0.0, 1.0: 0.0, 1.0: 0.0, 1.0: 0.0, 1.0: 0.0, 0.0: 1.0, 1.0: 0.0, 1.0: 0.0, 1.0: 0.0, "
          ]
        },
        {
          "output_type": "stream",
          "name": "stderr",
          "text": [
            "945it [00:07, 104.44it/s]"
          ]
        },
        {
          "output_type": "stream",
          "name": "stdout",
          "text": [
            "1.0: 0.0, 1.0: 0.0, 1.0: 0.0, 1.0: 0.0, 0.0: 1.0, 1.0: 0.0, 1.0: 0.0, 1.0: 0.0, 0.0: 1.0, 1.0: 0.0, 0.0: 1.0, 1.0: 0.0, 1.0: 0.0, 1.0: 0.0, 1.0: 0.0, 1.0: 0.0, 1.0: 0.0, 1.0: 0.0, 1.0: "
          ]
        },
        {
          "output_type": "stream",
          "name": "stderr",
          "text": [
            "994it [00:07, 146.39it/s]"
          ]
        },
        {
          "output_type": "stream",
          "name": "stdout",
          "text": [
            "0.0, 1.0: 0.0, 1.0: 0.0, 1.0: 0.0, 0.0: 1.0, 1.0: 0.0, 1.0: 0.0, 1.0: 0.0, 1.0: 0.0, 1.0: 0.0, 1.0: 0.0, 1.0: 0.0, 1.0: 0.0, 1.0: 0.0, 1.0: 0.0, 1.0: 0.0, 1.0: 0.0, 1.0: 0.0, "
          ]
        },
        {
          "output_type": "stream",
          "name": "stderr",
          "text": [
            "1024it [00:07, 138.73it/s]\n"
          ]
        },
        {
          "output_type": "stream",
          "name": "stdout",
          "text": [
            "1.0: 0.0, 1.0: 0.0, 1.0: 0.0, 0.0: 1.0, 1.0: 0.0, 1.0: 0.0, 1.0: 0.0, 0.0: 1.0, 1.0: 0.0, 1.0: 0.0, 0.0: 1.0, \n",
            "Epoch 014: | Loss: 0.72970 | Acc: 56.836\n",
            "\n"
          ]
        },
        {
          "output_type": "stream",
          "name": "stderr",
          "text": [
            "25it [00:00, 249.54it/s]"
          ]
        },
        {
          "output_type": "stream",
          "name": "stdout",
          "text": [
            "0.0: 1.0, 1.0: 0.0, 1.0: 0.0, 1.0: 0.0, 1.0: 0.0, 1.0: 0.0, 1.0: 0.0, 0.0: 1.0, 1.0: 0.0, 1.0: 0.0, "
          ]
        },
        {
          "output_type": "stream",
          "name": "stderr",
          "text": [
            "\r50it [00:00, 245.09it/s]"
          ]
        },
        {
          "output_type": "stream",
          "name": "stdout",
          "text": [
            "0.0: 1.0, 1.0: 0.0, 1.0: 0.0, 1.0: 0.0, 1.0: 0.0, 1.0: 0.0, 1.0: 0.0, 1.0: 0.0, 0.0: 1.0, 0.0: 1.0, 0.0: 1.0, 1.0: 0.0, "
          ]
        },
        {
          "output_type": "stream",
          "name": "stderr",
          "text": [
            "\r76it [00:00, 248.49it/s]"
          ]
        },
        {
          "output_type": "stream",
          "name": "stdout",
          "text": [
            "1.0: 0.0, 1.0: 0.0, 0.0: 1.0, 1.0: 0.0, 1.0: 0.0, 1.0: 0.0, 1.0: 0.0, 1.0: 0.0, 0.0: 1.0"
          ]
        },
        {
          "output_type": "stream",
          "name": "stderr",
          "text": [
            "\r101it [00:00, 246.77it/s]"
          ]
        },
        {
          "output_type": "stream",
          "name": "stdout",
          "text": [
            ", 0.0: 1.0, 1.0: 0.0, 1.0: 0.0, 1.0: 0.0, 1.0: 0.0, "
          ]
        },
        {
          "output_type": "stream",
          "name": "stderr",
          "text": [
            "176it [00:00, 215.46it/s]"
          ]
        },
        {
          "output_type": "stream",
          "name": "stdout",
          "text": [
            "0.0: 1.0, 1.0: 0.0, 1.0: 0.0, 0.0: 1.0, 1.0: 0.0, 1.0: 0.0, 1.0: 0.0, 1.0: 0.0, 1.0: 0.0, 1.0: 0.0, 1.0: 0.0, 1.0: 0.0, 1.0: 0.0, 1.0: 0.0, 1.0: 0.0, 1.0: 0.0, 1.0: 0.0, 1.0: 0.0, 1.0: 0.0, 1.0: 0.0, 1.0: 0.0, 1.0: 0.0, 1.0: 0.0, 1.0: 0.0, 1.0: 0.0, 1.0: 0.0, 1.0: 0.0, 1.0: 0.0, 1.0: 0.0, 1.0: 0.0, 1.0: 0.0, 1.0: 0.0, 1.0: 0.0, 1.0: 0.0, 1.0: 0.0, 1.0: 0.0, 1.0: 0.0, "
          ]
        },
        {
          "output_type": "stream",
          "name": "stderr",
          "text": [
            "228it [00:00, 235.05it/s]"
          ]
        },
        {
          "output_type": "stream",
          "name": "stdout",
          "text": [
            "1.0: 0.0, 1.0: 0.0, 1.0: 0.0, 1.0: 0.0, 1.0: 0.0, 1.0: 0.0, 1.0: 0.0, 1.0: 0.0, 1.0: 0.0, 1.0: 0.0, 1.0: 0.0, 1.0: 0.0, 1.0: 0.0, 1.0: 0.0, 1.0: 0.0, 1.0: 0.0, 1.0: 0.0, 1.0: 0.0, 1.0: 0.0, 1.0: 0.0, 1.0: 0.0, 1.0: 0.0, 1.0: 0.0, 1.0: 0.0, 1.0: 0.0, 1.0: 0.0, 1.0: 0.0, "
          ]
        },
        {
          "output_type": "stream",
          "name": "stderr",
          "text": [
            "\r252it [00:01, 92.83it/s] "
          ]
        },
        {
          "output_type": "stream",
          "name": "stdout",
          "text": [
            "1.0: 0.0, 1.0: 0.0, 1.0: 0.0, 1.0: 0.0, 1.0: 0.0, 1.0: 0.0, 1.0: 0.0, 1.0: 0.0, 1.0: 0.0, 1.0: 0.0, 1.0: 0.0, 1.0: 0.0, 1.0: 0.0, 1.0: 0.0, 1.0: 0.0, 1.0: 0.0, 1.0: 0.0, 1.0: 0.0, 1.0: 0.0, 1.0: 0.0, 1.0: 0.0, 1.0: 0.0, 1.0: 0.0, 0.0: 1.0, 1.0: 0.0, "
          ]
        },
        {
          "output_type": "stream",
          "name": "stderr",
          "text": [
            "300it [00:01, 134.09it/s]"
          ]
        },
        {
          "output_type": "stream",
          "name": "stdout",
          "text": [
            "1.0: 0.0, 1.0: 0.0, 1.0: 0.0, 1.0: 0.0, 1.0: 0.0, 1.0: 0.0, 1.0: 0.0, 1.0: 0.0, 1.0: 0.0, 1.0: 0.0, 1.0: 0.0, 1.0: 0.0, 1.0: 0.0, 1.0: 0.0, 1.0: 0.0, 1.0: 0.0, 1.0: 0.0, 1.0: 0.0, 1.0: 0.0, 1.0: 0.0, 0.0: 1.0, 1.0: 0.0, 1.0: 0.0, 1.0: 0.0, 1.0: 0.0, "
          ]
        },
        {
          "output_type": "stream",
          "name": "stderr",
          "text": [
            "346it [00:02, 167.75it/s]"
          ]
        },
        {
          "output_type": "stream",
          "name": "stdout",
          "text": [
            "1.0: 0.0, 1.0: 0.0, 1.0: 0.0, 1.0: 0.0, 1.0: 0.0, 1.0: 0.0, 1.0: 0.0, 1.0: 0.0, 1.0: 0.0, 1.0: 0.0, 1.0: 0.0, 1.0: 0.0, 1.0: 0.0, 1.0: 0.0, 1.0: 0.0, 1.0: 0.0, 1.0: 0.0, 1.0: 0.0, 1.0: 0.0, 1.0: 0.0, 1.0: 0.0, 1.0: 0.0, 1.0: 0.0, 1.0: 0.0, 1.0: 0.0, 1.0: 0.0, 1.0: 0.0, "
          ]
        },
        {
          "output_type": "stream",
          "name": "stderr",
          "text": [
            "418it [00:02, 209.86it/s]"
          ]
        },
        {
          "output_type": "stream",
          "name": "stdout",
          "text": [
            "1.0: 0.0, 1.0: 0.0, 1.0: 0.0, 1.0: 0.0, 1.0: 0.0, 0.0: 1.0, 1.0: 0.0, 1.0: 0.0, 1.0: 0.0, 1.0: 0.0, 1.0: 0.0, 1.0: 0.0, 1.0: 0.0, 1.0: 0.0, 1.0: 0.0, 0.0: 1.0, 0.0: 1.0, 1.0: 0.0, 0.0: 1.0, 1.0: 0.0, 1.0: 0.0, 1.0: 0.0, 1.0: 0.0, 1.0: 0.0, "
          ]
        },
        {
          "output_type": "stream",
          "name": "stderr",
          "text": [
            "469it [00:02, 223.85it/s]"
          ]
        },
        {
          "output_type": "stream",
          "name": "stdout",
          "text": [
            "1.0: 0.0, 1.0: 0.0, 1.0: 0.0, 1.0: 0.0, 1.0: 0.0, 1.0: 0.0, 1.0: 0.0, 1.0: 0.0, 1.0: 0.0, 1.0: 0.0, 1.0: 0.0, 1.0: 0.0, 1.0: 0.0, 0.0: 1.0, 1.0: 0.0, 1.0: 0.0, 1.0: 0.0, 1.0: 0.0, 1.0: 0.0, 1.0: 0.0, 1.0: 0.0, 1.0: 0.0, "
          ]
        },
        {
          "output_type": "stream",
          "name": "stderr",
          "text": [
            "\r493it [00:02, 221.16it/s]"
          ]
        },
        {
          "output_type": "stream",
          "name": "stdout",
          "text": [
            "0.0: 1.0, 1.0: 0.0, 1.0: 0.0, 0.0: 1.0, 0.0: 1.0, 1.0: 0.0, 1.0: 0.0, 1.0: 0.0, 1.0: 0.0, 1.0: 0.0, 1.0: 0.0, 1.0: 0.0, 1.0: 0.0, "
          ]
        },
        {
          "output_type": "stream",
          "name": "stderr",
          "text": [
            "\r516it [00:02, 160.35it/s]"
          ]
        },
        {
          "output_type": "stream",
          "name": "stdout",
          "text": [
            "1.0: 0.0, 0.0: 1.0, 1.0: 0.0, 1.0: 0.0, 1.0: 0.0, 1.0: 0.0, 1.0: 0.0, 1.0: 0.0, "
          ]
        },
        {
          "output_type": "stream",
          "name": "stderr",
          "text": [
            "559it [00:03, 94.34it/s]"
          ]
        },
        {
          "output_type": "stream",
          "name": "stdout",
          "text": [
            "1.0: 0.0, 1.0: 0.0, 1.0: 0.0, 1.0: 0.0, 1.0: 0.0, 1.0: 0.0, 1.0: 0.0, 1.0: 0.0, 1.0: 0.0, 1.0: 0.0, 1.0: 0.0, 1.0: 0.0, 1.0: 0.0, 1.0: 0.0, 1.0: 0.0, 1.0: 0.0, 1.0: 0.0, 1.0: 0.0, 1.0: 0.0, 1.0: 0.0, 1.0: 0.0, 1.0: 0.0, 0.0: 1.0, "
          ]
        },
        {
          "output_type": "stream",
          "name": "stderr",
          "text": [
            "638it [00:03, 168.91it/s]"
          ]
        },
        {
          "output_type": "stream",
          "name": "stdout",
          "text": [
            "1.0: 0.0, 1.0: 0.0, 1.0: 0.0, 1.0: 0.0, 1.0: 0.0, 1.0: 0.0, 1.0: 0.0, 1.0: 0.0, 1.0: 0.0, 1.0: 0.0, 1.0: 0.0, 1.0: 0.0, 1.0: 0.0, 1.0: 0.0, 1.0: 0.0, 1.0: 0.0, 1.0: 0.0, 1.0: 0.0, 1.0: 0.0, 1.0: 0.0, 1.0: 0.0, 1.0: 0.0, 1.0: 0.0, 1.0: 0.0, "
          ]
        },
        {
          "output_type": "stream",
          "name": "stderr",
          "text": [
            "687it [00:04, 106.05it/s]"
          ]
        },
        {
          "output_type": "stream",
          "name": "stdout",
          "text": [
            "1.0: 0.0, 1.0: 0.0, 0.0: 1.0, 1.0: 0.0, 1.0: 0.0, 1.0: 0.0, 1.0: 0.0, 0.0: 1.0, 1.0: 0.0, 1.0: 0.0, 1.0: 0.0, 1.0: 0.0, 1.0: 0.0, 0.0: 1.0, 1.0: 0.0, 1.0: 0.0, 0.0: 1.0, 1.0: 0.0, 0.0: 1.0, 1.0: 0.0, 0.0: 1.0, 1.0: 0.0, "
          ]
        },
        {
          "output_type": "stream",
          "name": "stderr",
          "text": [
            "736it [00:04, 148.37it/s]"
          ]
        },
        {
          "output_type": "stream",
          "name": "stdout",
          "text": [
            "1.0: 0.0, 1.0: 0.0, 1.0: 0.0, 1.0: 0.0, 1.0: 0.0, 1.0: 0.0, 1.0: 0.0, 1.0: 0.0, 1.0: 0.0, 1.0: 0.0, 1.0: 0.0, 1.0: 0.0, 1.0: 0.0, 1.0: 0.0, 1.0: 0.0, "
          ]
        },
        {
          "output_type": "stream",
          "name": "stderr",
          "text": [
            "783it [00:05, 95.44it/s]"
          ]
        },
        {
          "output_type": "stream",
          "name": "stdout",
          "text": [
            "0.0: 1.0, 1.0: 0.0, 1.0: 0.0, 1.0: 0.0, 1.0: 0.0, 1.0: 0.0, 1.0: 0.0, 1.0: 0.0, 1.0: 0.0, 1.0: 0.0, 1.0: 0.0, 1.0: 0.0, 1.0: 0.0, 0.0: 1.0, 0.0: 1.0, 1.0: 0.0, 1.0: 0.0, 1.0: 0.0, 1.0: 0.0, 0.0: 1.0, "
          ]
        },
        {
          "output_type": "stream",
          "name": "stderr",
          "text": [
            "862it [00:05, 168.04it/s]"
          ]
        },
        {
          "output_type": "stream",
          "name": "stdout",
          "text": [
            "1.0: 0.0, 1.0: 0.0, 1.0: 0.0, 0.0: 1.0, 1.0: 0.0, 1.0: 0.0, 1.0: 0.0, 1.0: 0.0, 1.0: 0.0, 1.0: 0.0, 1.0: 0.0, 1.0: 0.0, 1.0: 0.0, 1.0: 0.0, 1.0: 0.0, 1.0: 0.0, 0.0: 1.0, 0.0: 1.0, 1.0: 0.0, 1.0: 0.0, 1.0: 0.0, 1.0: 0.0, 1.0: 0.0, 1.0: 0.0, 1.0: 0.0, 0.0: 1.0, 1.0: 0.0, 1.0: 0.0, "
          ]
        },
        {
          "output_type": "stream",
          "name": "stderr",
          "text": [
            "912it [00:06, 107.69it/s]"
          ]
        },
        {
          "output_type": "stream",
          "name": "stdout",
          "text": [
            "0.0: 1.0, 1.0: 0.0, 1.0: 0.0, 1.0: 0.0, 0.0: 1.0, 1.0: 0.0, 1.0: 0.0, 1.0: 0.0, 1.0: 0.0, 1.0: 0.0, 1.0: 0.0, 1.0: 0.0, 1.0: 0.0, 1.0: 0.0, 1.0: 0.0, 1.0: 0.0, 0.0: 1.0, 1.0: 0.0, 0.0: 1.0, 1.0: 0.0, 0.0: 1.0, "
          ]
        },
        {
          "output_type": "stream",
          "name": "stderr",
          "text": [
            "961it [00:06, 150.35it/s]"
          ]
        },
        {
          "output_type": "stream",
          "name": "stdout",
          "text": [
            "1.0: 0.0, 1.0: 0.0, 1.0: 0.0, 0.0: 1.0, 1.0: 0.0, 1.0: 0.0, 1.0: 0.0, 1.0: 0.0, 1.0: 0.0, 0.0: 1.0, 1.0: 0.0, 1.0: 0.0, 1.0: 0.0, 0.0: 1.0, 1.0: 0.0, 1.0: 0.0, 1.0: 0.0, 1.0: 0.0, 1.0: 0.0, 1.0: 0.0, 1.0: 0.0, "
          ]
        },
        {
          "output_type": "stream",
          "name": "stderr",
          "text": [
            "1009it [00:07, 103.20it/s]"
          ]
        },
        {
          "output_type": "stream",
          "name": "stdout",
          "text": [
            "1.0: 0.0, 1.0: 0.0, 0.0: 1.0, 1.0: 0.0, 0.0: 1.0, 1.0: 0.0, 1.0: 0.0, 1.0: 0.0, 1.0: 0.0, 1.0: 0.0, 1.0: 0.0, 1.0: 0.0, 1.0: 0.0, 0.0: 1.0, 1.0: 0.0, 1.0: 0.0, 1.0: 0.0, 1.0: 0.0, 0.0: 1.0, 1.0: 0.0, "
          ]
        },
        {
          "output_type": "stream",
          "name": "stderr",
          "text": [
            "\r1024it [00:07, 133.00it/s]\n"
          ]
        },
        {
          "output_type": "stream",
          "name": "stdout",
          "text": [
            "1.0: 0.0, 1.0: 0.0, 1.0: 0.0, 1.0: 0.0, 1.0: 0.0, 1.0: 0.0, \n",
            "Epoch 015: | Loss: 0.73091 | Acc: 56.641\n",
            "\n"
          ]
        },
        {
          "output_type": "stream",
          "name": "stderr",
          "text": [
            "26it [00:00, 253.11it/s]"
          ]
        },
        {
          "output_type": "stream",
          "name": "stdout",
          "text": [
            "1.0: 0.0, 1.0: 0.0, 1.0: 0.0, 1.0: 0.0, 1.0: 0.0, 1.0: 0.0, 1.0: 0.0, 1.0: 0.0, 0.0: 1.0, 1.0: 0.0, 1.0: 0.0, 1.0: 0.0, 1.0: 0.0, 1.0: 0.0, 1.0: 0.0, 0.0: 1.0, "
          ]
        },
        {
          "output_type": "stream",
          "name": "stderr",
          "text": [
            "104it [00:00, 99.85it/s]"
          ]
        },
        {
          "output_type": "stream",
          "name": "stdout",
          "text": [
            "1.0: 0.0, 1.0: 0.0, 1.0: 0.0, 1.0: 0.0, 0.0: 1.0, 1.0: 0.0, 1.0: 0.0, 1.0: 0.0, 1.0: 0.0, 1.0: 0.0, 1.0: 0.0, 1.0: 0.0, 1.0: 0.0, 1.0: 0.0, "
          ]
        },
        {
          "output_type": "stream",
          "name": "stderr",
          "text": [
            "152it [00:01, 146.97it/s]"
          ]
        },
        {
          "output_type": "stream",
          "name": "stdout",
          "text": [
            "1.0: 0.0, 1.0: 0.0, 1.0: 0.0, 1.0: 0.0, 1.0: 0.0, 1.0: 0.0, 1.0: 0.0, 0.0: 1.0, 1.0: 0.0, 0.0: 1.0, 1.0: 0.0, 1.0: 0.0, 1.0: 0.0, 1.0: 0.0, 1.0: 0.0, 1.0: 0.0, 0.0: 1.0, 1.0: 0.0, 1.0: 0.0, 1.0: 0.0, 1.0: 0.0, 1.0: 0.0, 1.0: 0.0, 1.0: 0.0, 1.0: 0.0, 1.0: 0.0, 1.0: 0.0, 1.0: 0.0, 1.0: 0.0, "
          ]
        },
        {
          "output_type": "stream",
          "name": "stderr",
          "text": [
            "200it [00:01, 182.19it/s]"
          ]
        },
        {
          "output_type": "stream",
          "name": "stdout",
          "text": [
            "1.0: 0.0, 1.0: 0.0, 1.0: 0.0, 1.0: 0.0, 1.0: 0.0, 1.0: 0.0, 0.0: 1.0, 1.0: 0.0, 1.0: 0.0, 1.0: 0.0, 1.0: 0.0, 1.0: 0.0, 1.0: 0.0, 1.0: 0.0, 0.0: 1.0, 1.0: 0.0, 1.0: 0.0, 0.0: 1.0, 1.0: 0.0, 1.0: 0.0, 1.0: 0.0, 1.0: 0.0, 1.0: 0.0, 1.0: 0.0, 1.0: 0.0, 1.0: 0.0, 1.0: 0.0, 1.0: 0.0, 1.0: 0.0, "
          ]
        },
        {
          "output_type": "stream",
          "name": "stderr",
          "text": [
            "249it [00:01, 207.45it/s]"
          ]
        },
        {
          "output_type": "stream",
          "name": "stdout",
          "text": [
            "1.0: 0.0, 1.0: 0.0, 1.0: 0.0, 1.0: 0.0, 1.0: 0.0, 0.0: 1.0, 1.0: 0.0, 1.0: 0.0, 1.0: 0.0, 1.0: 0.0, 1.0: 0.0, 0.0: 1.0, 1.0: 0.0, 1.0: 0.0, 1.0: 0.0, 1.0: 0.0, 1.0: 0.0, 1.0: 0.0, 1.0: 0.0, 1.0: 0.0, 1.0: 0.0, 0.0: 1.0, 1.0: 0.0, 1.0: 0.0, 1.0: 0.0, 1.0: 0.0, 1.0: 0.0, 1.0: 0.0, 1.0: 0.0, "
          ]
        },
        {
          "output_type": "stream",
          "name": "stderr",
          "text": [
            "297it [00:01, 218.57it/s]"
          ]
        },
        {
          "output_type": "stream",
          "name": "stdout",
          "text": [
            "1.0: 0.0, 1.0: 0.0, 1.0: 0.0, 1.0: 0.0, 1.0: 0.0, 1.0: 0.0, 1.0: 0.0, 1.0: 0.0, 1.0: 0.0, 1.0: 0.0, 1.0: 0.0, 1.0: 0.0, 0.0: 1.0, 1.0: 0.0, 0.0: 1.0, 1.0: 0.0, 1.0: 0.0, 1.0: 0.0, 1.0: 0.0, 1.0: 0.0, 1.0: 0.0, 1.0: 0.0, 1.0: 0.0, "
          ]
        },
        {
          "output_type": "stream",
          "name": "stderr",
          "text": [
            "345it [00:02, 187.84it/s]"
          ]
        },
        {
          "output_type": "stream",
          "name": "stdout",
          "text": [
            "1.0: 0.0, 1.0: 0.0, 1.0: 0.0, 1.0: 0.0, 1.0: 0.0, 1.0: 0.0, 1.0: 0.0, 1.0: 0.0, 1.0: 0.0, 1.0: 0.0, 1.0: 0.0, 1.0: 0.0, 1.0: 0.0, 1.0: 0.0, 0.0: 1.0, 0.0: 1.0, 1.0: 0.0, 1.0: 0.0, 1.0: 0.0, 1.0: 0.0, 1.0: 0.0, 1.0: 0.0, 0.0: 1.0, 1.0: 0.0, 1.0: 0.0, 1.0: 0.0, 1.0: 0.0, 1.0: 0.0, 1.0: 0.0, "
          ]
        },
        {
          "output_type": "stream",
          "name": "stderr",
          "text": [
            "390it [00:02, 204.90it/s]"
          ]
        },
        {
          "output_type": "stream",
          "name": "stdout",
          "text": [
            "1.0: 0.0, 1.0: 0.0, 1.0: 0.0, 1.0: 0.0, 0.0: 1.0, 1.0: 0.0, 1.0: 0.0, 1.0: 0.0, 1.0: 0.0, 1.0: 0.0, 1.0: 0.0, 1.0: 0.0, 0.0: 1.0, 1.0: 0.0, 1.0: 0.0, 1.0: 0.0, 1.0: 0.0, 1.0: 0.0, 1.0: 0.0, 1.0: 0.0, 1.0: 0.0, 1.0: 0.0, 1.0: 0.0, 1.0: 0.0, 1.0: 0.0, 1.0: 0.0, 1.0: 0.0, 0.0: 1.0, "
          ]
        },
        {
          "output_type": "stream",
          "name": "stderr",
          "text": [
            "440it [00:02, 224.09it/s]"
          ]
        },
        {
          "output_type": "stream",
          "name": "stdout",
          "text": [
            "1.0: 0.0, 1.0: 0.0, 1.0: 0.0, 1.0: 0.0, 1.0: 0.0, 1.0: 0.0, 1.0: 0.0, 1.0: 0.0, 1.0: 0.0, 1.0: 0.0, 1.0: 0.0, 1.0: 0.0, 1.0: 0.0, 1.0: 0.0, 1.0: 0.0, 1.0: 0.0, 1.0: 0.0, 1.0: 0.0, 1.0: 0.0, 1.0: 0.0, 0.0: 1.0, "
          ]
        },
        {
          "output_type": "stream",
          "name": "stderr",
          "text": [
            "491it [00:02, 237.03it/s]"
          ]
        },
        {
          "output_type": "stream",
          "name": "stdout",
          "text": [
            "1.0: 0.0, 1.0: 0.0, 1.0: 0.0, 0.0: 1.0, 1.0: 0.0, 1.0: 0.0, 0.0: 1.0, 1.0: 0.0, 1.0: 0.0, 1.0: 0.0, 1.0: 0.0, 1.0: 0.0, 0.0: 1.0, 0.0: 1.0, 1.0: 0.0, 1.0: 0.0, 1.0: 0.0, 1.0: 0.0, 1.0: 0.0, 1.0: 0.0, 1.0: 0.0, "
          ]
        },
        {
          "output_type": "stream",
          "name": "stderr",
          "text": [
            "542it [00:02, 238.99it/s]"
          ]
        },
        {
          "output_type": "stream",
          "name": "stdout",
          "text": [
            "1.0: 0.0, 0.0: 1.0, 1.0: 0.0, 1.0: 0.0, 1.0: 0.0, 1.0: 0.0, 1.0: 0.0, 1.0: 0.0, 1.0: 0.0, 1.0: 0.0, 1.0: 0.0, 1.0: 0.0, 1.0: 0.0, 1.0: 0.0, 0.0: 1.0, 1.0: 0.0, 1.0: 0.0, 1.0: 0.0, 1.0: 0.0, "
          ]
        },
        {
          "output_type": "stream",
          "name": "stderr",
          "text": [
            "\r567it [00:03, 71.77it/s] "
          ]
        },
        {
          "output_type": "stream",
          "name": "stdout",
          "text": [
            "1.0: 0.0, 1.0: 0.0, 1.0: 0.0, 1.0: 0.0, 1.0: 0.0, 1.0: 0.0, 1.0: 0.0, 1.0: 0.0, 1.0: 0.0, 1.0: 0.0, 1.0: 0.0, 1.0: 0.0, 1.0: 0.0, "
          ]
        },
        {
          "output_type": "stream",
          "name": "stderr",
          "text": [
            "612it [00:04, 93.17it/s]"
          ]
        },
        {
          "output_type": "stream",
          "name": "stdout",
          "text": [
            "1.0: 0.0, 1.0: 0.0, 0.0: 1.0, 1.0: 0.0, 1.0: 0.0, 1.0: 0.0, 1.0: 0.0, 1.0: 0.0, 0.0: 1.0, 1.0: 0.0, 1.0: 0.0, 1.0: 0.0, 1.0: 0.0, 1.0: 0.0, 1.0: 0.0, 1.0: 0.0, 1.0: 0.0, "
          ]
        },
        {
          "output_type": "stream",
          "name": "stderr",
          "text": [
            "656it [00:04, 80.35it/s]"
          ]
        },
        {
          "output_type": "stream",
          "name": "stdout",
          "text": [
            "1.0: 0.0, 1.0: 0.0, 1.0: 0.0, 1.0: 0.0, 1.0: 0.0, 1.0: 0.0, 0.0: 1.0, 1.0: 0.0, 1.0: 0.0, 1.0: 0.0, 1.0: 0.0, 0.0: 1.0, 1.0: 0.0, 1.0: 0.0, 1.0: 0.0, 1.0: 0.0, 1.0: 0.0, "
          ]
        },
        {
          "output_type": "stream",
          "name": "stderr",
          "text": [
            "701it [00:05, 117.11it/s]"
          ]
        },
        {
          "output_type": "stream",
          "name": "stdout",
          "text": [
            "1.0: 0.0, 1.0: 0.0, 1.0: 0.0, 0.0: 1.0, 1.0: 0.0, 1.0: 0.0, 1.0: 0.0, 1.0: 0.0, 1.0: 0.0, 1.0: 0.0, 1.0: 0.0, 0.0: 1.0, 1.0: 0.0, 1.0: 0.0, 0.0: 1.0, 1.0: 0.0, 1.0: 0.0, 0.0: 1.0, 1.0: 0.0, 1.0: 0.0, 1.0: 0.0, 1.0: 0.0, "
          ]
        },
        {
          "output_type": "stream",
          "name": "stderr",
          "text": [
            "754it [00:05, 168.19it/s]"
          ]
        },
        {
          "output_type": "stream",
          "name": "stdout",
          "text": [
            "1.0: 0.0, 1.0: 0.0, 1.0: 0.0, 1.0: 0.0, 1.0: 0.0, 0.0: 1.0, 1.0: 0.0, 1.0: 0.0, 1.0: 0.0, 1.0: 0.0, 1.0: 0.0, 1.0: 0.0, 1.0: 0.0, 1.0: 0.0, 0.0: 1.0, 1.0: 0.0, 1.0: 0.0, "
          ]
        },
        {
          "output_type": "stream",
          "name": "stderr",
          "text": [
            "803it [00:05, 196.16it/s]"
          ]
        },
        {
          "output_type": "stream",
          "name": "stdout",
          "text": [
            "1.0: 0.0, 1.0: 0.0, 1.0: 0.0, 1.0: 0.0, 1.0: 0.0, 1.0: 0.0, 1.0: 0.0, 1.0: 0.0, 1.0: 0.0, 1.0: 0.0, 1.0: 0.0, 1.0: 0.0, 0.0: 1.0, 0.0: 1.0, 1.0: 0.0, 0.0: 1.0, 1.0: 0.0, 1.0: 0.0, 1.0: 0.0, 1.0: 0.0, 0.0: 1.0, 1.0: 0.0, 1.0: 0.0, 1.0: "
          ]
        },
        {
          "output_type": "stream",
          "name": "stderr",
          "text": [
            "854it [00:05, 221.91it/s]"
          ]
        },
        {
          "output_type": "stream",
          "name": "stdout",
          "text": [
            "0.0, 1.0: 0.0, 1.0: 0.0, 1.0: 0.0, 0.0: 1.0, 1.0: 0.0, 1.0: 0.0, 1.0: 0.0, 1.0: 0.0, 1.0: 0.0, 1.0: 0.0, 1.0: 0.0, 1.0: 0.0, 1.0: 0.0, 1.0: 0.0, 1.0: 0.0, 1.0: 0.0, 1.0: 0.0, "
          ]
        },
        {
          "output_type": "stream",
          "name": "stderr",
          "text": [
            "905it [00:06, 234.40it/s]"
          ]
        },
        {
          "output_type": "stream",
          "name": "stdout",
          "text": [
            "1.0: 0.0, 1.0: 0.0, 1.0: 0.0, 1.0: 0.0, 1.0: 0.0, 1.0: 0.0, 0.0: 1.0, 1.0: 0.0, 1.0: 0.0, 1.0: 0.0, 0.0: 1.0, 1.0: 0.0, 1.0: 0.0, 1.0: 0.0, 1.0: 0.0, 1.0: 0.0, 1.0: 0.0, "
          ]
        },
        {
          "output_type": "stream",
          "name": "stderr",
          "text": [
            "956it [00:06, 206.06it/s]"
          ]
        },
        {
          "output_type": "stream",
          "name": "stdout",
          "text": [
            "1.0: 0.0, 1.0: 0.0, 1.0: 0.0, 1.0: 0.0, 1.0: 0.0, 1.0: 0.0, 1.0: 0.0, 1.0: 0.0, 1.0: 0.0, 1.0: 0.0, 1.0: 0.0, 1.0: 0.0, 0.0: 1.0, 1.0: 0.0, 1.0: 0.0, 1.0: 0.0, 1.0: 0.0, 1.0: 0.0, 1.0: 0.0, 1.0: 0.0, 1.0: 0.0, "
          ]
        },
        {
          "output_type": "stream",
          "name": "stderr",
          "text": [
            "1006it [00:06, 222.76it/s]"
          ]
        },
        {
          "output_type": "stream",
          "name": "stdout",
          "text": [
            "1.0: 0.0, 1.0: 0.0, 1.0: 0.0, 1.0: 0.0, 1.0: 0.0, 1.0: 0.0, 1.0: 0.0, 1.0: 0.0, 1.0: 0.0, 1.0: 0.0, 0.0: 1.0, 1.0: 0.0, 1.0: 0.0, 1.0: 0.0, 0.0: 1.0, 1.0: 0.0, 1.0: 0.0, 1.0: 0.0, "
          ]
        },
        {
          "output_type": "stream",
          "name": "stderr",
          "text": [
            "\r1024it [00:06, 155.29it/s]\n"
          ]
        },
        {
          "output_type": "stream",
          "name": "stdout",
          "text": [
            "1.0: 0.0, 1.0: 0.0, 1.0: 0.0, 1.0: 0.0, 1.0: 0.0, 1.0: 0.0, 1.0: 0.0, \n",
            "Epoch 016: | Loss: 0.73380 | Acc: 56.250\n",
            "\n"
          ]
        },
        {
          "output_type": "stream",
          "name": "stderr",
          "text": [
            "25it [00:00, 249.75it/s]"
          ]
        },
        {
          "output_type": "stream",
          "name": "stdout",
          "text": [
            "0.0: 1.0, 1.0: 0.0, 1.0: 0.0, 1.0: 0.0, 1.0: 0.0, 1.0: 0.0, 1.0: 0.0, 1.0: 0.0, 1.0: 0.0, 1.0: 0.0, 1.0: 0.0, "
          ]
        },
        {
          "output_type": "stream",
          "name": "stderr",
          "text": [
            "\r50it [00:00, 247.33it/s]"
          ]
        },
        {
          "output_type": "stream",
          "name": "stdout",
          "text": [
            "1.0: 0.0, 1.0: 0.0, 1.0: 0.0, 1.0: 0.0, 1.0: 0.0, 1.0: 0.0, "
          ]
        },
        {
          "output_type": "stream",
          "name": "stderr",
          "text": [
            "\r75it [00:00, 233.97it/s]"
          ]
        },
        {
          "output_type": "stream",
          "name": "stdout",
          "text": [
            "0.0: 1.0, 1.0: 0.0, 1.0: 0.0, 1.0: 0.0, 0.0: 1.0, 1.0: 0.0, 1.0: 0.0, 1.0: 0.0, "
          ]
        },
        {
          "output_type": "stream",
          "name": "stderr",
          "text": [
            "125it [00:00, 197.30it/s]"
          ]
        },
        {
          "output_type": "stream",
          "name": "stdout",
          "text": [
            "1.0: 0.0, 1.0: 0.0, 1.0: 0.0, 1.0: 0.0, 1.0: 0.0, 1.0: 0.0, 1.0: 0.0, 0.0: 1.0, 1.0: 0.0, 1.0: 0.0, 0.0: 1.0, 1.0: 0.0, 1.0: 0.0, 1.0: 0.0, 0.0: 1.0, 1.0: 0.0, 0.0: 1.0, "
          ]
        },
        {
          "output_type": "stream",
          "name": "stderr",
          "text": [
            "171it [00:00, 212.59it/s]"
          ]
        },
        {
          "output_type": "stream",
          "name": "stdout",
          "text": [
            "1.0: 0.0, 1.0: 0.0, 1.0: 0.0, 1.0: 0.0, 1.0: 0.0, 1.0: 0.0, 1.0: 0.0, 0.0: 1.0, 1.0: 0.0, 1.0: 0.0, 1.0: 0.0, 1.0: 0.0, 1.0: 0.0, 1.0: 0.0, 0.0: 1.0, 1.0: 0.0, 1.0: 0.0, 1.0: 0.0, 1.0: 0.0, 1.0: 0.0, 1.0: 0.0, 1.0: 0.0, 1.0: 0.0, 0.0: 1.0, 1.0: 0.0, 1.0: 0.0, 1.0: 0.0, 1.0: 0.0, 0.0: 1.0, 1.0: 0.0, 1.0: 0.0, 1.0: 0.0, "
          ]
        },
        {
          "output_type": "stream",
          "name": "stderr",
          "text": [
            "221it [00:01, 225.04it/s]"
          ]
        },
        {
          "output_type": "stream",
          "name": "stdout",
          "text": [
            "1.0: 0.0, 1.0: 0.0, 1.0: 0.0, 0.0: 1.0, 1.0: 0.0, 1.0: 0.0, 1.0: 0.0, 1.0: 0.0, 1.0: 0.0, 1.0: 0.0, 1.0: 0.0, 1.0: 0.0, 1.0: 0.0, 1.0: 0.0, 1.0: 0.0, 1.0: 0.0, 1.0: 0.0, 1.0: 0.0, 1.0: 0.0, 1.0: 0.0, 1.0: 0.0, 1.0: 0.0, 1.0: 0.0, 1.0: 0.0, 1.0: 0.0, "
          ]
        },
        {
          "output_type": "stream",
          "name": "stderr",
          "text": [
            "274it [00:01, 243.38it/s]"
          ]
        },
        {
          "output_type": "stream",
          "name": "stdout",
          "text": [
            "1.0: 0.0, 1.0: 0.0, 1.0: 0.0, 1.0: 0.0, 1.0: 0.0, 1.0: 0.0, 1.0: 0.0, 1.0: 0.0, 1.0: 0.0, 0.0: 1.0, 1.0: 0.0, 1.0: 0.0, 1.0: 0.0, 1.0: 0.0, 1.0: 0.0, 0.0: 1.0, 1.0: 0.0, 1.0: 0.0, 1.0: 0.0, 1.0: 0.0, 1.0: 0.0, 0.0: 1.0, 1.0: 0.0, 1.0: 0.0, 1.0: 0.0, 1.0: 0.0, 1.0: 0.0, 1.0: 0.0, "
          ]
        },
        {
          "output_type": "stream",
          "name": "stderr",
          "text": [
            "326it [00:01, 177.10it/s]"
          ]
        },
        {
          "output_type": "stream",
          "name": "stdout",
          "text": [
            "1.0: 0.0, 1.0: 0.0, 1.0: 0.0, 1.0: 0.0, 1.0: 0.0, 1.0: 0.0, 1.0: 0.0, 1.0: 0.0, 0.0: 1.0, 1.0: 0.0, 1.0: 0.0, 1.0: 0.0, 1.0: 0.0, 0.0: 1.0, 1.0: 0.0, 1.0: 0.0, 1.0: 0.0, 1.0: 0.0, 1.0: 0.0, 1.0: 0.0, 1.0: 0.0, 1.0: 0.0, 1.0: 0.0, 1.0: 0.0, 1.0: 0.0, 1.0: 0.0, 1.0: 0.0, 1.0: 0.0, 1.0: 0.0, 0.0: 1.0, 0.0: 1.0, 1.0: 0.0, "
          ]
        },
        {
          "output_type": "stream",
          "name": "stderr",
          "text": [
            "370it [00:02, 100.76it/s]"
          ]
        },
        {
          "output_type": "stream",
          "name": "stdout",
          "text": [
            "1.0: 0.0, 1.0: 0.0, 1.0: 0.0, 1.0: 0.0, 1.0: 0.0, 1.0: 0.0, 1.0: 0.0, 1.0: 0.0, 1.0: 0.0, 1.0: 0.0, 0.0: 1.0, 1.0: 0.0, 1.0: 0.0, 1.0: 0.0, 1.0: 0.0, 1.0: 0.0, 1.0: 0.0, 1.0: 0.0, 1.0: 0.0, 1.0: 0.0, 1.0: 0.0, 1.0: 0.0, 1.0: 0.0, 1.0: 0.0, 0.0: 1.0, 1.0: 0.0, 1.0: 0.0, 1.0: 0.0, "
          ]
        },
        {
          "output_type": "stream",
          "name": "stderr",
          "text": [
            "417it [00:02, 141.81it/s]"
          ]
        },
        {
          "output_type": "stream",
          "name": "stdout",
          "text": [
            "1.0: 0.0, 1.0: 0.0, 1.0: 0.0, 1.0: 0.0, 1.0: 0.0, 1.0: 0.0, 1.0: 0.0, 1.0: 0.0, 1.0: 0.0, 1.0: 0.0, 1.0: 0.0, 1.0: 0.0, 1.0: 0.0, 1.0: 0.0, 1.0: 0.0, 0.0: 1.0, 1.0: 0.0, 1.0: 0.0, 1.0: 0.0, 1.0: 0.0, "
          ]
        },
        {
          "output_type": "stream",
          "name": "stderr",
          "text": [
            "462it [00:03, 91.41it/s]"
          ]
        },
        {
          "output_type": "stream",
          "name": "stdout",
          "text": [
            "1.0: 0.0, 1.0: 0.0, 1.0: 0.0, 1.0: 0.0, 1.0: 0.0, 1.0: 0.0, 1.0: 0.0, 1.0: 0.0, 1.0: 0.0, 1.0: 0.0, 1.0: 0.0, 1.0: 0.0, 1.0: 0.0, 1.0: 0.0, 1.0: 0.0, 1.0: 0.0, 1.0: 0.0, 1.0: 0.0, 1.0: 0.0, "
          ]
        },
        {
          "output_type": "stream",
          "name": "stderr",
          "text": [
            "508it [00:03, 130.14it/s]"
          ]
        },
        {
          "output_type": "stream",
          "name": "stdout",
          "text": [
            "1.0: 0.0, 1.0: 0.0, 1.0: 0.0, 0.0: 1.0, 1.0: 0.0, 1.0: 0.0, 1.0: 0.0, 1.0: 0.0, 1.0: 0.0, 1.0: 0.0, 1.0: 0.0, 1.0: 0.0, 1.0: 0.0, 1.0: 0.0, 0.0: 1.0, 1.0: 0.0, 1.0: 0.0, 1.0: 0.0, 0.0: 1.0, 1.0: 0.0, 1.0: 0.0, "
          ]
        },
        {
          "output_type": "stream",
          "name": "stderr",
          "text": [
            "557it [00:03, 172.67it/s]"
          ]
        },
        {
          "output_type": "stream",
          "name": "stdout",
          "text": [
            "0.0: 1.0, 1.0: 0.0, 1.0: 0.0, 1.0: 0.0, 1.0: 0.0, 1.0: 0.0, 1.0: 0.0, 1.0: 0.0, 1.0: 0.0, 0.0: 1.0, 1.0: 0.0, 1.0: 0.0, 1.0: 0.0, 1.0: 0.0, 1.0: 0.0, 1.0: 0.0, 1.0: 0.0, 1.0: 0.0, 1.0: 0.0, 1.0: 0.0, 1.0: 0.0, 0.0: 1.0, 1.0: 0.0, 1.0: 0.0, 0.0: 1.0, 1.0: 0.0, 0.0: 1.0, "
          ]
        },
        {
          "output_type": "stream",
          "name": "stderr",
          "text": [
            "606it [00:03, 202.94it/s]"
          ]
        },
        {
          "output_type": "stream",
          "name": "stdout",
          "text": [
            "0.0: 1.0, 1.0: 0.0, 1.0: 0.0, 1.0: 0.0, 1.0: 0.0, 1.0: 0.0, 1.0: 0.0, 1.0: 0.0, 0.0: 1.0, 1.0: 0.0, 1.0: 0.0, 1.0: 0.0, 1.0: 0.0, 1.0: 0.0, 1.0: 0.0, 1.0: 0.0, 1.0: 0.0, 1.0: 0.0, 1.0: 0.0, 1.0: 0.0, 1.0: 0.0, 0.0: 1.0, 1.0: 0.0, "
          ]
        },
        {
          "output_type": "stream",
          "name": "stderr",
          "text": [
            "655it [00:04, 220.37it/s]"
          ]
        },
        {
          "output_type": "stream",
          "name": "stdout",
          "text": [
            "1.0: 0.0, 1.0: 0.0, 1.0: 0.0, 1.0: 0.0, 0.0: 1.0, 0.0: 1.0, 1.0: 0.0, 1.0: 0.0, 1.0: 0.0, 0.0: 1.0, 0.0: 1.0, 1.0: 0.0, 1.0: 0.0, "
          ]
        },
        {
          "output_type": "stream",
          "name": "stderr",
          "text": [
            "706it [00:04, 193.07it/s]"
          ]
        },
        {
          "output_type": "stream",
          "name": "stdout",
          "text": [
            "1.0: 0.0, 1.0: 0.0, 1.0: 0.0, 1.0: 0.0, 1.0: 0.0, 1.0: 0.0, 1.0: 0.0, 1.0: 0.0, 1.0: 0.0, 1.0: 0.0, 1.0: 0.0, 1.0: 0.0, 0.0: 1.0, 1.0: 0.0, 1.0: 0.0, 1.0: 0.0, 1.0: 0.0, 1.0: 0.0, "
          ]
        },
        {
          "output_type": "stream",
          "name": "stderr",
          "text": [
            "\r731it [00:04, 206.01it/s]"
          ]
        },
        {
          "output_type": "stream",
          "name": "stdout",
          "text": [
            "1.0: 0.0, 1.0: 0.0, 1.0: 0.0, 1.0: 0.0, 1.0: 0.0, 1.0: 0.0, 1.0: 0.0, 1.0: 0.0, 1.0: 0.0, "
          ]
        },
        {
          "output_type": "stream",
          "name": "stderr",
          "text": [
            "777it [00:05, 102.43it/s]"
          ]
        },
        {
          "output_type": "stream",
          "name": "stdout",
          "text": [
            "1.0: 0.0, 1.0: 0.0, 1.0: 0.0, 1.0: 0.0, 1.0: 0.0, 1.0: 0.0, 0.0: 1.0, 1.0: 0.0, 1.0: 0.0, 1.0: 0.0, 1.0: 0.0, 1.0: 0.0, 1.0: 0.0, 1.0: 0.0, 1.0: 0.0, 1.0: 0.0, 1.0: 0.0, "
          ]
        },
        {
          "output_type": "stream",
          "name": "stderr",
          "text": [
            "828it [00:05, 147.75it/s]"
          ]
        },
        {
          "output_type": "stream",
          "name": "stdout",
          "text": [
            "1.0: 0.0, 1.0: 0.0, 1.0: 0.0, 1.0: 0.0, 1.0: 0.0, 0.0: 1.0, 1.0: 0.0, 0.0: 1.0, 1.0: 0.0, 0.0: 1.0, 1.0: 0.0, 1.0: 0.0, 1.0: 0.0, 1.0: 0.0, 1.0: 0.0, 1.0: 0.0, 1.0: 0.0, 1.0: 0.0, 0.0: 1.0, "
          ]
        },
        {
          "output_type": "stream",
          "name": "stderr",
          "text": [
            "880it [00:05, 189.41it/s]"
          ]
        },
        {
          "output_type": "stream",
          "name": "stdout",
          "text": [
            "0.0: 1.0, 1.0: 0.0, 1.0: 0.0, 1.0: 0.0, 1.0: 0.0, 1.0: 0.0, 1.0: 0.0, 1.0: 0.0, 1.0: 0.0, 1.0: 0.0, 1.0: 0.0, 1.0: 0.0, 1.0: 0.0, 1.0: 0.0, 1.0: 0.0, 0.0: 1.0, 1.0: 0.0, 1.0: 0.0, 0.0: 1.0, 1.0: 0.0, 1.0: 0.0, 1.0: "
          ]
        },
        {
          "output_type": "stream",
          "name": "stderr",
          "text": [
            "929it [00:06, 212.51it/s]"
          ]
        },
        {
          "output_type": "stream",
          "name": "stdout",
          "text": [
            "0.0, 1.0: 0.0, 0.0: 1.0, 1.0: 0.0, 1.0: 0.0, 1.0: 0.0, 1.0: 0.0, 1.0: 0.0, 1.0: 0.0, 1.0: 0.0, 1.0: 0.0, 1.0: 0.0, 1.0: 0.0, 1.0: 0.0, 0.0: 1.0, 1.0: 0.0, 1.0: 0.0, 1.0: 0.0, 1.0: 0.0, 1.0: 0.0, 1.0: 0.0, 0.0: 1.0, 1.0: 0.0, "
          ]
        },
        {
          "output_type": "stream",
          "name": "stderr",
          "text": [
            "981it [00:06, 232.31it/s]"
          ]
        },
        {
          "output_type": "stream",
          "name": "stdout",
          "text": [
            "1.0: 0.0, 0.0: 1.0, 1.0: 0.0, 1.0: 0.0, 1.0: 0.0, 1.0: 0.0, 1.0: 0.0, 1.0: 0.0, 1.0: 0.0, 0.0: 1.0, 1.0: 0.0, 1.0: 0.0, 1.0: 0.0, 1.0: 0.0, 1.0: 0.0, 1.0: 0.0, 1.0: 0.0, 1.0: 0.0, 1.0: 0.0, 1.0: 0.0, 1.0: 0.0, "
          ]
        },
        {
          "output_type": "stream",
          "name": "stderr",
          "text": [
            "1024it [00:06, 155.91it/s]\n"
          ]
        },
        {
          "output_type": "stream",
          "name": "stdout",
          "text": [
            "1.0: 0.0, 1.0: 0.0, 1.0: 0.0, 1.0: 0.0, 1.0: 0.0, 1.0: 0.0, 1.0: 0.0, 1.0: 0.0, 1.0: 0.0, 1.0: 0.0, 1.0: 0.0, 0.0: 1.0, 1.0: 0.0, 1.0: 0.0, \n",
            "Epoch 017: | Loss: 0.73505 | Acc: 55.859\n",
            "\n"
          ]
        },
        {
          "output_type": "stream",
          "name": "stderr",
          "text": [
            "48it [00:00, 231.56it/s]"
          ]
        },
        {
          "output_type": "stream",
          "name": "stdout",
          "text": [
            "1.0: 0.0, 0.0: 1.0, 0.0: 1.0, 1.0: 0.0, 1.0: 0.0, 1.0: 0.0, 1.0: 0.0, 1.0: 0.0, 1.0: 0.0, 1.0: 0.0, 1.0: 0.0, 1.0: 0.0, 1.0: 0.0, 1.0: 0.0, 1.0: 0.0, 1.0: 0.0, 1.0: 0.0, 1.0: 0.0, "
          ]
        },
        {
          "output_type": "stream",
          "name": "stderr",
          "text": [
            "97it [00:00, 236.29it/s]"
          ]
        },
        {
          "output_type": "stream",
          "name": "stdout",
          "text": [
            "1.0: 0.0, 1.0: 0.0, 0.0: 1.0, 0.0: 1.0, 1.0: 0.0, 0.0: 1.0, 1.0: 0.0, 1.0: 0.0, 1.0: 0.0, 0.0: 1.0, 1.0: 0.0, 1.0: 0.0, 0.0: 1.0, 0.0: 1.0, 0.0: 1.0, 0.0: 1.0, 1.0: 0.0, 1.0: 0.0, 0.0: 1.0, 1.0: 0.0, 1.0: 0.0, 1.0: 0.0, "
          ]
        },
        {
          "output_type": "stream",
          "name": "stderr",
          "text": [
            "148it [00:00, 243.98it/s]"
          ]
        },
        {
          "output_type": "stream",
          "name": "stdout",
          "text": [
            "0.0: 1.0, 1.0: 0.0, 1.0: 0.0, 1.0: 0.0, 1.0: 0.0, 1.0: 0.0, 1.0: 0.0, 1.0: 0.0, 1.0: 0.0, 1.0: 0.0, 1.0: 0.0, 1.0: 0.0, 1.0: 0.0, 1.0: 0.0, 1.0: 0.0, 1.0: 0.0, 1.0: 0.0, 0.0: 1.0, 1.0: 0.0, 1.0: 0.0, 1.0: 0.0, 1.0: 0.0, 1.0: 0.0, 0.0: 1.0, 1.0: 0.0, 1.0: "
          ]
        },
        {
          "output_type": "stream",
          "name": "stderr",
          "text": [
            "198it [00:00, 240.00it/s]"
          ]
        },
        {
          "output_type": "stream",
          "name": "stdout",
          "text": [
            "0.0, 1.0: 0.0, 1.0: 0.0, 1.0: 0.0, 1.0: 0.0, 1.0: 0.0, 1.0: 0.0, 1.0: 0.0, 1.0: 0.0, 1.0: 0.0, 1.0: 0.0, 1.0: 0.0, 1.0: 0.0, 1.0: 0.0, 1.0: 0.0, 0.0: 1.0, 1.0: 0.0, 0.0: 1.0, 1.0: 0.0, 1.0: 0.0, 1.0: 0.0, 1.0: 0.0, 1.0: 0.0, 1.0: 0.0, 1.0: 0.0, 1.0: 0.0, "
          ]
        },
        {
          "output_type": "stream",
          "name": "stderr",
          "text": [
            "248it [00:01, 235.71it/s]"
          ]
        },
        {
          "output_type": "stream",
          "name": "stdout",
          "text": [
            "1.0: 0.0, 1.0: 0.0, 1.0: 0.0, 1.0: 0.0, 1.0: 0.0, 1.0: 0.0, 1.0: 0.0, 1.0: 0.0, 1.0: 0.0, 0.0: 1.0, 0.0: 1.0, 1.0: 0.0, 1.0: 0.0, 1.0: 0.0, 1.0: 0.0, 1.0: 0.0, 1.0: 0.0, 1.0: 0.0, 1.0: 0.0, 1.0: 0.0, 1.0: 0.0, 1.0: 0.0, 1.0: 0.0, 1.0: 0.0, 1.0: 0.0, 0.0: 1.0, "
          ]
        },
        {
          "output_type": "stream",
          "name": "stderr",
          "text": [
            "296it [00:01, 227.35it/s]"
          ]
        },
        {
          "output_type": "stream",
          "name": "stdout",
          "text": [
            "1.0: 0.0, 1.0: 0.0, 1.0: 0.0, 1.0: 0.0, 1.0: 0.0, 1.0: 0.0, 1.0: 0.0, 1.0: 0.0, 1.0: 0.0, 1.0: 0.0, 1.0: 0.0, 1.0: 0.0, 1.0: 0.0, 1.0: 0.0, 1.0: 0.0, 1.0: 0.0, 1.0: 0.0, 0.0: 1.0, 1.0: 0.0, 1.0: 0.0, 1.0: 0.0, 1.0: 0.0, "
          ]
        },
        {
          "output_type": "stream",
          "name": "stderr",
          "text": [
            "340it [00:01, 197.82it/s]"
          ]
        },
        {
          "output_type": "stream",
          "name": "stdout",
          "text": [
            "0.0: 1.0, 1.0: 0.0, 1.0: 0.0, 1.0: 0.0, 1.0: 0.0, 1.0: 0.0, 0.0: 1.0, 1.0: 0.0, 1.0: 0.0, 1.0: 0.0, 1.0: 0.0, 1.0: 0.0, 1.0: 0.0, 1.0: 0.0, 1.0: 0.0, 1.0: 0.0, 1.0: 0.0, 1.0: 0.0, 1.0: 0.0, 1.0: 0.0, 1.0: 0.0, 1.0: 0.0, 1.0: 0.0, 1.0: 0.0, 1.0: 0.0, 1.0: 0.0, 1.0: 0.0, 1.0: 0.0, 1.0: 0.0, "
          ]
        },
        {
          "output_type": "stream",
          "name": "stderr",
          "text": [
            "385it [00:01, 210.40it/s]"
          ]
        },
        {
          "output_type": "stream",
          "name": "stdout",
          "text": [
            "1.0: 0.0, 1.0: 0.0, 0.0: 1.0, 1.0: 0.0, 1.0: 0.0, 1.0: 0.0, 1.0: 0.0, 1.0: 0.0, 1.0: 0.0, 1.0: 0.0, 1.0: 0.0, 1.0: 0.0, 1.0: 0.0, 1.0: 0.0, 1.0: 0.0, 1.0: 0.0, 1.0: 0.0, 1.0: 0.0, 1.0: 0.0, 1.0: 0.0, 0.0: 1.0, 1.0: 0.0, 1.0: 0.0, 1.0: 0.0, 1.0: 0.0, 1.0: 0.0, 1.0: 0.0, "
          ]
        },
        {
          "output_type": "stream",
          "name": "stderr",
          "text": [
            "435it [00:01, 227.79it/s]"
          ]
        },
        {
          "output_type": "stream",
          "name": "stdout",
          "text": [
            "1.0: 0.0, 1.0: 0.0, 0.0: 1.0, 1.0: 0.0, 1.0: 0.0, 1.0: 0.0, 1.0: 0.0, 1.0: 0.0, 1.0: 0.0, 0.0: 1.0, 1.0: 0.0, 1.0: 0.0, 1.0: 0.0, 1.0: 0.0, 1.0: 0.0, 1.0: 0.0, 1.0: 0.0, 1.0: 0.0, 1.0: 0.0, 1.0: 0.0, 0.0: 1.0, 0.0: 1.0, 1.0: 0.0, 1.0: 0.0, "
          ]
        },
        {
          "output_type": "stream",
          "name": "stderr",
          "text": [
            "486it [00:02, 240.62it/s]"
          ]
        },
        {
          "output_type": "stream",
          "name": "stdout",
          "text": [
            "1.0: 0.0, 1.0: 0.0, 1.0: 0.0, 1.0: 0.0, 1.0: 0.0, 1.0: 0.0, 0.0: 1.0, 1.0: 0.0, 1.0: 0.0, 1.0: 0.0, 0.0: 1.0, 1.0: 0.0, 1.0: 0.0, "
          ]
        },
        {
          "output_type": "stream",
          "name": "stderr",
          "text": [
            "\r511it [00:02, 173.26it/s]"
          ]
        },
        {
          "output_type": "stream",
          "name": "stdout",
          "text": [
            "1.0: 0.0, 1.0: 0.0, 1.0: 0.0, 1.0: 0.0, 1.0: 0.0, 1.0: 0.0, 1.0: 0.0, 0.0: 1.0, 1.0: 0.0, 1.0: 0.0, 1.0: 0.0, 1.0: 0.0, 1.0: 0.0, 1.0: 0.0, 1.0: 0.0, 1.0: 0.0, 1.0: 0.0, 0.0: 1.0, 1.0: 0.0, 1.0: 0.0, 1.0: 0.0, 1.0: 0.0, 1.0: 0.0, "
          ]
        },
        {
          "output_type": "stream",
          "name": "stderr",
          "text": [
            "586it [00:02, 215.56it/s]"
          ]
        },
        {
          "output_type": "stream",
          "name": "stdout",
          "text": [
            "1.0: 0.0, 1.0: 0.0, 1.0: 0.0, 1.0: 0.0, 1.0: 0.0, 1.0: 0.0, 1.0: 0.0, 1.0: 0.0, 1.0: 0.0, 1.0: 0.0, 1.0: 0.0, 1.0: 0.0, 1.0: 0.0, 1.0: 0.0, 1.0: 0.0, 1.0: 0.0, 1.0: 0.0, 0.0: 1.0, 1.0: 0.0, 1.0: 0.0, 1.0: 0.0, 1.0: 0.0, 1.0: 0.0, 0.0: 1.0, "
          ]
        },
        {
          "output_type": "stream",
          "name": "stderr",
          "text": [
            "635it [00:02, 225.97it/s]"
          ]
        },
        {
          "output_type": "stream",
          "name": "stdout",
          "text": [
            "1.0: 0.0, 1.0: 0.0, 1.0: 0.0, 1.0: 0.0, 0.0: 1.0, 1.0: 0.0, 1.0: 0.0, 1.0: 0.0, 1.0: 0.0, 1.0: 0.0, 1.0: 0.0, 1.0: 0.0, 1.0: 0.0, 1.0: 0.0, 1.0: 0.0, 1.0: 0.0, 1.0: 0.0, 1.0: 0.0, 0.0: 1.0, 1.0: 0.0, 1.0: 0.0, 1.0: 0.0, 1.0: 0.0, "
          ]
        },
        {
          "output_type": "stream",
          "name": "stderr",
          "text": [
            "687it [00:03, 242.16it/s]"
          ]
        },
        {
          "output_type": "stream",
          "name": "stdout",
          "text": [
            "0.0: 1.0, 0.0: 1.0, 1.0: 0.0, 1.0: 0.0, 1.0: 0.0, 1.0: 0.0, 1.0: 0.0, 1.0: 0.0, 1.0: 0.0, 1.0: 0.0, 1.0: 0.0, 1.0: 0.0, 1.0: 0.0, 1.0: 0.0, 1.0: 0.0, 0.0: 1.0, 1.0: 0.0, 1.0: 0.0, 0.0: 1.0, 0.0: 1.0, 1.0: 0.0, "
          ]
        },
        {
          "output_type": "stream",
          "name": "stderr",
          "text": [
            "\r712it [00:03, 193.48it/s]"
          ]
        },
        {
          "output_type": "stream",
          "name": "stdout",
          "text": [
            "1.0: 0.0, 1.0: 0.0, 1.0: 0.0, 1.0: 0.0, 1.0: 0.0, 0.0: 1.0, 1.0: 0.0, 1.0: 0.0, 1.0: 0.0, 0.0: 1.0, 1.0: 0.0, 1.0: 0.0, 1.0: 0.0, 1.0: 0.0, 0.0: 1.0, 1.0: 0.0, 1.0: 0.0, "
          ]
        },
        {
          "output_type": "stream",
          "name": "stderr",
          "text": [
            "785it [00:04, 106.63it/s]"
          ]
        },
        {
          "output_type": "stream",
          "name": "stdout",
          "text": [
            "1.0: 0.0, 1.0: 0.0, 1.0: 0.0, 1.0: 0.0, 1.0: 0.0, 1.0: 0.0, 1.0: 0.0, 0.0: 1.0, 1.0: 0.0, 1.0: 0.0, 0.0: 1.0, 1.0: 0.0, 1.0: 0.0, 1.0: 0.0, 1.0: 0.0, 1.0: 0.0, 1.0: 0.0, 0.0: 1.0, 1.0: 0.0, 1.0: 0.0, 1.0: 0.0, 0.0: 1.0, 1.0: 0.0, 0.0: 1.0, 1.0: 0.0, 0.0: "
          ]
        },
        {
          "output_type": "stream",
          "name": "stderr",
          "text": [
            "830it [00:04, 141.41it/s]"
          ]
        },
        {
          "output_type": "stream",
          "name": "stdout",
          "text": [
            "1.0, 1.0: 0.0, 1.0: 0.0, 1.0: 0.0, 1.0: 0.0, 1.0: 0.0, 1.0: 0.0, 1.0: 0.0, 1.0: 0.0, 1.0: 0.0, 1.0: 0.0, 1.0: 0.0, 1.0: 0.0, 1.0: 0.0, 0.0: 1.0, 1.0: 0.0, 1.0: 0.0, 0.0: 1.0, 1.0: 0.0, "
          ]
        },
        {
          "output_type": "stream",
          "name": "stderr",
          "text": [
            "877it [00:04, 176.73it/s]"
          ]
        },
        {
          "output_type": "stream",
          "name": "stdout",
          "text": [
            "1.0: 0.0, 1.0: 0.0, 1.0: 0.0, 0.0: 1.0, 1.0: 0.0, 1.0: 0.0, 1.0: 0.0, 1.0: 0.0, 0.0: 1.0, 1.0: 0.0, 1.0: 0.0, 1.0: 0.0, 1.0: 0.0, 1.0: 0.0, 1.0: 0.0, 0.0: 1.0, 1.0: 0.0, 1.0: 0.0, 0.0: 1.0, 1.0: 0.0, "
          ]
        },
        {
          "output_type": "stream",
          "name": "stderr",
          "text": [
            "928it [00:04, 208.30it/s]"
          ]
        },
        {
          "output_type": "stream",
          "name": "stdout",
          "text": [
            "1.0: 0.0, 1.0: 0.0, 1.0: 0.0, 1.0: 0.0, 1.0: 0.0, 1.0: 0.0, 1.0: 0.0, 1.0: 0.0, 1.0: 0.0, 1.0: 0.0, 1.0: 0.0, 0.0: 1.0, 1.0: 0.0, 1.0: 0.0, 1.0: 0.0, 1.0: 0.0, 0.0: 1.0, 1.0: 0.0, 1.0: 0.0, 1.0: 0.0, "
          ]
        },
        {
          "output_type": "stream",
          "name": "stderr",
          "text": [
            "979it [00:04, 230.42it/s]"
          ]
        },
        {
          "output_type": "stream",
          "name": "stdout",
          "text": [
            "0.0: 1.0, 1.0: 0.0, 0.0: 1.0, 1.0: 0.0, 1.0: 0.0, 1.0: 0.0, 1.0: 0.0, 1.0: 0.0, 1.0: 0.0, 1.0: 0.0, 1.0: 0.0, 1.0: 0.0, 1.0: 0.0, 1.0: 0.0, 1.0: 0.0, 0.0: 1.0, 1.0: 0.0, 1.0: 0.0, 1.0: 0.0, 1.0: 0.0, 0.0: 1.0, 1.0: 0.0, "
          ]
        },
        {
          "output_type": "stream",
          "name": "stderr",
          "text": [
            "\r1004it [00:05, 225.56it/s]"
          ]
        },
        {
          "output_type": "stream",
          "name": "stdout",
          "text": [
            "1.0: 0.0, 1.0: 0.0, 0.0: 1.0, 1.0: 0.0, 1.0: 0.0, 0.0: 1.0, 1.0: 0.0, "
          ]
        },
        {
          "output_type": "stream",
          "name": "stderr",
          "text": [
            "\r1024it [00:05, 191.24it/s]\n"
          ]
        },
        {
          "output_type": "stream",
          "name": "stdout",
          "text": [
            "1.0: 0.0, 1.0: 0.0, 1.0: 0.0, 1.0: 0.0, 1.0: 0.0, 0.0: 1.0, 1.0: 0.0, 1.0: 0.0, \n",
            "Epoch 018: | Loss: 0.73745 | Acc: 54.980\n",
            "\n"
          ]
        },
        {
          "output_type": "stream",
          "name": "stderr",
          "text": [
            "\r0it [00:00, ?it/s]"
          ]
        },
        {
          "output_type": "stream",
          "name": "stdout",
          "text": [
            "1.0: 0.0, 0.0: 1.0, 1.0: 0.0, 1.0: 0.0, 0.0: 1.0, 1.0: 0.0, 1.0: 0.0, "
          ]
        },
        {
          "output_type": "stream",
          "name": "stderr",
          "text": [
            "49it [00:00, 239.17it/s]"
          ]
        },
        {
          "output_type": "stream",
          "name": "stdout",
          "text": [
            "1.0: 0.0, 1.0: 0.0, 1.0: 0.0, 0.0: 1.0, 1.0: 0.0, 1.0: 0.0, 1.0: 0.0, 1.0: 0.0, 1.0: 0.0, 1.0: 0.0, 0.0: 1.0, 1.0: 0.0, 0.0: 1.0, 1.0: 0.0, 1.0: 0.0, 0.0: 1.0, 1.0: 0.0, 1.0: 0.0, "
          ]
        },
        {
          "output_type": "stream",
          "name": "stderr",
          "text": [
            "99it [00:00, 240.15it/s]"
          ]
        },
        {
          "output_type": "stream",
          "name": "stdout",
          "text": [
            "1.0: 0.0, 1.0: 0.0, 1.0: 0.0, 1.0: 0.0, 1.0: 0.0, 1.0: 0.0, 0.0: 1.0, 0.0: 1.0, 1.0: 0.0, "
          ]
        },
        {
          "output_type": "stream",
          "name": "stderr",
          "text": [
            "\r124it [00:00, 241.10it/s]"
          ]
        },
        {
          "output_type": "stream",
          "name": "stdout",
          "text": [
            "1.0: 0.0, 0.0: 1.0, 1.0: 0.0, 1.0: 0.0, 1.0: 0.0, 1.0: 0.0, 0.0: 1.0, 1.0: 0.0, "
          ]
        },
        {
          "output_type": "stream",
          "name": "stderr",
          "text": [
            "\r149it [00:00, 235.19it/s]"
          ]
        },
        {
          "output_type": "stream",
          "name": "stdout",
          "text": [
            "0.0: 1.0, 1.0: 0.0, 1.0: 0.0, 1.0: 0.0, 1.0: 0.0, 1.0: 0.0, 1.0: 0.0, 1.0: 0.0, 0.0: 1.0, 1.0: 0.0, 1.0: 0.0, 1.0: 0.0, 1.0: 0.0, 1.0: 0.0, 1.0: 0.0, "
          ]
        },
        {
          "output_type": "stream",
          "name": "stderr",
          "text": [
            "195it [00:00, 169.42it/s]"
          ]
        },
        {
          "output_type": "stream",
          "name": "stdout",
          "text": [
            "1.0: 0.0, 1.0: 0.0, 1.0: 0.0, 0.0: 1.0, 1.0: 0.0, 1.0: 0.0, 1.0: 0.0, 1.0: 0.0, 1.0: 0.0, 1.0: 0.0, 1.0: 0.0, 1.0: 0.0, 1.0: 0.0, 1.0: 0.0, 1.0: 0.0, 0.0: 1.0, 1.0: 0.0, 1.0: 0.0, 1.0: 0.0, 1.0: 0.0, 1.0: 0.0, 1.0: 0.0, 0.0: 1.0, 1.0: 0.0, 1.0: 0.0, 1.0: 0.0, 1.0: 0.0, 1.0: 0.0, "
          ]
        },
        {
          "output_type": "stream",
          "name": "stderr",
          "text": [
            "242it [00:01, 198.15it/s]"
          ]
        },
        {
          "output_type": "stream",
          "name": "stdout",
          "text": [
            "1.0: 0.0, 1.0: 0.0, 1.0: 0.0, 1.0: 0.0, 1.0: 0.0, 1.0: 0.0, 1.0: 0.0, 1.0: 0.0, 1.0: 0.0, 1.0: 0.0, 1.0: 0.0, 1.0: 0.0, 1.0: 0.0, 1.0: 0.0, 1.0: 0.0, 1.0: 0.0, 1.0: 0.0, 1.0: 0.0, 1.0: 0.0, 1.0: 0.0, 0.0: 1.0, 1.0: 0.0, 1.0: 0.0, 1.0: 0.0, 1.0: 0.0, 1.0: 0.0, "
          ]
        },
        {
          "output_type": "stream",
          "name": "stderr",
          "text": [
            "291it [00:01, 218.26it/s]"
          ]
        },
        {
          "output_type": "stream",
          "name": "stdout",
          "text": [
            "1.0: 0.0, 1.0: 0.0, 1.0: 0.0, 1.0: 0.0, 0.0: 1.0, 1.0: 0.0, 1.0: 0.0, 1.0: 0.0, 1.0: 0.0, 1.0: 0.0, 1.0: 0.0, 1.0: 0.0, 1.0: 0.0, 1.0: 0.0, 1.0: 0.0, 1.0: 0.0, 1.0: 0.0, 1.0: 0.0, 0.0: 1.0, 1.0: 0.0, 1.0: 0.0, 1.0: 0.0, 1.0: 0.0, 1.0: 0.0, 1.0: "
          ]
        },
        {
          "output_type": "stream",
          "name": "stderr",
          "text": [
            "337it [00:01, 221.89it/s]"
          ]
        },
        {
          "output_type": "stream",
          "name": "stdout",
          "text": [
            "0.0, 1.0: 0.0, 1.0: 0.0, 1.0: 0.0, 1.0: 0.0, 1.0: 0.0, 1.0: 0.0, 1.0: 0.0, 1.0: 0.0, 1.0: 0.0, 1.0: 0.0, 1.0: 0.0, 1.0: 0.0, 1.0: 0.0, 1.0: 0.0, 1.0: 0.0, 1.0: 0.0, 1.0: 0.0, 1.0: 0.0, 1.0: 0.0, 1.0: 0.0, 1.0: 0.0, 1.0: 0.0, 1.0: 0.0, 1.0: 0.0, 1.0: 0.0, 1.0: "
          ]
        },
        {
          "output_type": "stream",
          "name": "stderr",
          "text": [
            "384it [00:01, 225.99it/s]"
          ]
        },
        {
          "output_type": "stream",
          "name": "stdout",
          "text": [
            "0.0, 1.0: 0.0, 1.0: 0.0, 1.0: 0.0, 1.0: 0.0, 1.0: 0.0, 1.0: 0.0, 1.0: 0.0, 1.0: 0.0, 1.0: 0.0, 0.0: 1.0, 1.0: 0.0, 1.0: 0.0, 1.0: 0.0, 1.0: 0.0, 1.0: 0.0, 1.0: 0.0, 1.0: 0.0, 1.0: 0.0, 1.0: 0.0, 1.0: 0.0, 1.0: 0.0, 1.0: 0.0, 1.0: 0.0, 1.0: 0.0, 1.0: 0.0, 1.0: 0.0, "
          ]
        },
        {
          "output_type": "stream",
          "name": "stderr",
          "text": [
            "\r407it [00:02, 66.99it/s] "
          ]
        },
        {
          "output_type": "stream",
          "name": "stdout",
          "text": [
            "1.0: 0.0, 1.0: 0.0, 1.0: 0.0, 1.0: 0.0, 0.0: 1.0, 1.0: 0.0, "
          ]
        },
        {
          "output_type": "stream",
          "name": "stderr",
          "text": [
            "448it [00:03, 84.13it/s]"
          ]
        },
        {
          "output_type": "stream",
          "name": "stdout",
          "text": [
            "1.0: 0.0, 0.0: 1.0, 1.0: 0.0, 1.0: 0.0, 1.0: 0.0, 1.0: 0.0, 1.0: 0.0, 1.0: 0.0, 0.0: 1.0, 1.0: 0.0, 1.0: 0.0, 1.0: 0.0, 1.0: 0.0, 0.0: 1.0, 1.0: 0.0, 1.0: 0.0, 1.0: 0.0, 1.0: 0.0, 1.0: 0.0, 1.0: 0.0, 1.0: 0.0, 1.0: 0.0, 1.0: 0.0, "
          ]
        },
        {
          "output_type": "stream",
          "name": "stderr",
          "text": [
            "499it [00:03, 130.89it/s]"
          ]
        },
        {
          "output_type": "stream",
          "name": "stdout",
          "text": [
            "0.0: 1.0, 1.0: 0.0, 1.0: 0.0, 1.0: 0.0, 1.0: 0.0, 1.0: 0.0, 1.0: 0.0, 1.0: 0.0, 0.0: 1.0, 1.0: 0.0, 1.0: 0.0, 1.0: 0.0, 1.0: 0.0, 1.0: 0.0, 1.0: 0.0, 1.0: 0.0, 1.0: 0.0, 1.0: 0.0, 1.0: 0.0, 1.0: 0.0, 0.0: 1.0, 1.0: "
          ]
        },
        {
          "output_type": "stream",
          "name": "stderr",
          "text": [
            "549it [00:03, 172.12it/s]"
          ]
        },
        {
          "output_type": "stream",
          "name": "stdout",
          "text": [
            "0.0, 1.0: 0.0, 1.0: 0.0, 1.0: 0.0, 1.0: 0.0, 0.0: 1.0, 1.0: 0.0, 0.0: 1.0, 1.0: 0.0, 1.0: 0.0, 1.0: 0.0, 1.0: 0.0, 1.0: 0.0, 1.0: 0.0, 1.0: 0.0, 1.0: 0.0, 0.0: 1.0, 1.0: 0.0, 1.0: 0.0, 1.0: 0.0, 1.0: 0.0, "
          ]
        },
        {
          "output_type": "stream",
          "name": "stderr",
          "text": [
            "\r572it [00:03, 184.40it/s]"
          ]
        },
        {
          "output_type": "stream",
          "name": "stdout",
          "text": [
            "1.0: 0.0, 1.0: 0.0, 1.0: 0.0, 1.0: 0.0, 1.0: 0.0, 1.0: 0.0, 0.0: 1.0, 0.0: 1.0, 1.0: 0.0, "
          ]
        },
        {
          "output_type": "stream",
          "name": "stderr",
          "text": [
            "616it [00:04, 153.39it/s]"
          ]
        },
        {
          "output_type": "stream",
          "name": "stdout",
          "text": [
            "1.0: 0.0, 1.0: 0.0, 1.0: 0.0, 1.0: 0.0, 0.0: 1.0, 1.0: 0.0, 1.0: 0.0, 0.0: 1.0, 1.0: 0.0, 1.0: 0.0, 1.0: 0.0, 1.0: 0.0, 1.0: 0.0, 0.0: 1.0, 1.0: 0.0, 1.0: 0.0, 1.0: 0.0, 1.0: 0.0, 1.0: 0.0, 1.0: 0.0, 1.0: 0.0, 1.0: 0.0, "
          ]
        },
        {
          "output_type": "stream",
          "name": "stderr",
          "text": [
            "665it [00:04, 189.82it/s]"
          ]
        },
        {
          "output_type": "stream",
          "name": "stdout",
          "text": [
            "1.0: 0.0, 1.0: 0.0, 0.0: 1.0, 1.0: 0.0, 1.0: 0.0, 1.0: 0.0, 1.0: 0.0, 0.0: 1.0, 1.0: 0.0, 1.0: 0.0, 1.0: 0.0, 1.0: 0.0, 1.0: 0.0, 0.0: 1.0, 1.0: 0.0, 1.0: 0.0, 1.0: 0.0, 1.0: 0.0, 1.0: 0.0, "
          ]
        },
        {
          "output_type": "stream",
          "name": "stderr",
          "text": [
            "714it [00:04, 216.14it/s]"
          ]
        },
        {
          "output_type": "stream",
          "name": "stdout",
          "text": [
            "1.0: 0.0, 1.0: 0.0, 1.0: 0.0, 1.0: 0.0, 1.0: 0.0, 1.0: 0.0, 1.0: 0.0, 0.0: 1.0, 1.0: 0.0, 1.0: 0.0, 1.0: 0.0, 1.0: 0.0, 1.0: 0.0, 1.0: 0.0, 1.0: 0.0, 1.0: 0.0, 1.0: 0.0, 1.0: 0.0, 1.0: 0.0, 0.0: 1.0, 1.0: 0.0, "
          ]
        },
        {
          "output_type": "stream",
          "name": "stderr",
          "text": [
            "\r738it [00:04, 215.21it/s]"
          ]
        },
        {
          "output_type": "stream",
          "name": "stdout",
          "text": [
            "1.0: 0.0, 1.0: 0.0, 1.0: 0.0, 1.0: 0.0, 1.0: 0.0, "
          ]
        },
        {
          "output_type": "stream",
          "name": "stderr",
          "text": [
            "780it [00:04, 150.06it/s]"
          ]
        },
        {
          "output_type": "stream",
          "name": "stdout",
          "text": [
            "1.0: 0.0, 1.0: 0.0, 0.0: 1.0, 0.0: 1.0, 1.0: 0.0, 0.0: 1.0, 0.0: 1.0, 1.0: 0.0, 1.0: 0.0, 1.0: 0.0, 1.0: 0.0, 1.0: 0.0, 1.0: 0.0, 1.0: 0.0, 1.0: 0.0, 1.0: 0.0, 1.0: 0.0, 1.0: 0.0, "
          ]
        },
        {
          "output_type": "stream",
          "name": "stderr",
          "text": [
            "\r800it [00:05, 160.95it/s]"
          ]
        },
        {
          "output_type": "stream",
          "name": "stdout",
          "text": [
            "1.0: 0.0, 1.0: 0.0, 0.0: 1.0, 1.0: 0.0, 1.0: 0.0, 1.0: 0.0, 0.0: 1.0, 1.0: 0.0, "
          ]
        },
        {
          "output_type": "stream",
          "name": "stderr",
          "text": [
            "838it [00:05, 84.60it/s]"
          ]
        },
        {
          "output_type": "stream",
          "name": "stdout",
          "text": [
            "1.0: 0.0, 1.0: 0.0, 1.0: 0.0, 1.0: 0.0, 1.0: 0.0, 1.0: 0.0, 1.0: 0.0, 1.0: 0.0, 0.0: 1.0, 1.0: 0.0, 1.0: 0.0, 0.0: 1.0, 0.0: 1.0, 1.0: 0.0, 1.0: 0.0, 1.0: 0.0, "
          ]
        },
        {
          "output_type": "stream",
          "name": "stderr",
          "text": [
            "875it [00:06, 113.95it/s]"
          ]
        },
        {
          "output_type": "stream",
          "name": "stdout",
          "text": [
            "1.0: 0.0, 1.0: 0.0, 1.0: 0.0, 1.0: 0.0, 1.0: 0.0, 1.0: 0.0, 1.0: 0.0, 1.0: 0.0, 1.0: 0.0, 1.0: 0.0, 1.0: 0.0, 0.0: 1.0, "
          ]
        },
        {
          "output_type": "stream",
          "name": "stderr",
          "text": [
            "916it [00:06, 86.86it/s]"
          ]
        },
        {
          "output_type": "stream",
          "name": "stdout",
          "text": [
            "1.0: 0.0, 0.0: 1.0, 1.0: 0.0, 1.0: 0.0, 1.0: 0.0, 1.0: 0.0, 1.0: 0.0, 0.0: 1.0, 1.0: 0.0, 1.0: 0.0, 1.0: 0.0, 1.0: 0.0, 1.0: 0.0, 1.0: 0.0, 1.0: 0.0, 0.0: 1.0, 1.0: 0.0, 1.0: 0.0, 1.0: 0.0, "
          ]
        },
        {
          "output_type": "stream",
          "name": "stderr",
          "text": [
            "964it [00:06, 133.15it/s]"
          ]
        },
        {
          "output_type": "stream",
          "name": "stdout",
          "text": [
            "1.0: 0.0, 1.0: 0.0, 1.0: 0.0, 1.0: 0.0, 1.0: 0.0, 1.0: 0.0, 1.0: 0.0, 1.0: 0.0, 1.0: 0.0, 1.0: 0.0, 0.0: 1.0, 1.0: 0.0, 1.0: 0.0, 1.0: 0.0, 1.0: 0.0, 0.0: 1.0, 1.0: 0.0, 1.0: 0.0, "
          ]
        },
        {
          "output_type": "stream",
          "name": "stderr",
          "text": [
            "1024it [00:07, 133.25it/s]\n"
          ]
        },
        {
          "output_type": "stream",
          "name": "stdout",
          "text": [
            "1.0: 0.0, 1.0: 0.0, 1.0: 0.0, 1.0: 0.0, 1.0: 0.0, 1.0: 0.0, 1.0: 0.0, 1.0: 0.0, 0.0: 1.0, 1.0: 0.0, 1.0: 0.0, 1.0: 0.0, 1.0: 0.0, 1.0: 0.0, 1.0: 0.0, 1.0: 0.0, 1.0: 0.0, 1.0: 0.0, 0.0: 1.0, 1.0: 0.0, 1.0: 0.0, \n",
            "Epoch 019: | Loss: 0.73108 | Acc: 56.348\n",
            "\n"
          ]
        },
        {
          "output_type": "stream",
          "name": "stderr",
          "text": [
            "52it [00:00, 254.34it/s]"
          ]
        },
        {
          "output_type": "stream",
          "name": "stdout",
          "text": [
            "1.0: 0.0, 1.0: 0.0, 1.0: 0.0, 0.0: 1.0, 1.0: 0.0, 1.0: 0.0, 1.0: 0.0, 1.0: 0.0, 1.0: 0.0, 1.0: 0.0, 1.0: 0.0, 1.0: 0.0, 1.0: 0.0, 1.0: 0.0, 1.0: 0.0, 1.0: 0.0, 1.0: 0.0, 1.0: 0.0, 1.0: 0.0, "
          ]
        },
        {
          "output_type": "stream",
          "name": "stderr",
          "text": [
            "126it [00:01, 101.59it/s]"
          ]
        },
        {
          "output_type": "stream",
          "name": "stdout",
          "text": [
            "1.0: 0.0, 1.0: 0.0, 1.0: 0.0, 1.0: 0.0, 1.0: 0.0, 1.0: 0.0, 0.0: 1.0, 1.0: 0.0, 0.0: 1.0, 1.0: 0.0, 0.0: 1.0, 0.0: 1.0, 1.0: 0.0, 1.0: 0.0, 0.0: 1.0, 1.0: 0.0, 0.0: 1.0, 1.0: 0.0, 1.0: 0.0, 1.0: 0.0, 1.0: 0.0, 0.0: 1.0, "
          ]
        },
        {
          "output_type": "stream",
          "name": "stderr",
          "text": [
            "173it [00:01, 146.88it/s]"
          ]
        },
        {
          "output_type": "stream",
          "name": "stdout",
          "text": [
            "1.0: 0.0, 1.0: 0.0, 1.0: 0.0, 1.0: 0.0, 1.0: 0.0, 1.0: 0.0, 1.0: 0.0, 1.0: 0.0, 1.0: 0.0, 1.0: 0.0, 1.0: 0.0, 1.0: 0.0, 1.0: 0.0, 1.0: 0.0, 0.0: 1.0, 1.0: 0.0, 1.0: 0.0, 1.0: 0.0, 1.0: 0.0, 1.0: 0.0, 1.0: 0.0, 1.0: 0.0, 1.0: 0.0, 1.0: 0.0, 1.0: 0.0, 1.0: 0.0, "
          ]
        },
        {
          "output_type": "stream",
          "name": "stderr",
          "text": [
            "219it [00:01, 180.68it/s]"
          ]
        },
        {
          "output_type": "stream",
          "name": "stdout",
          "text": [
            "1.0: 0.0, 1.0: 0.0, 1.0: 0.0, 1.0: 0.0, 1.0: 0.0, 1.0: 0.0, 1.0: 0.0, 1.0: 0.0, 1.0: 0.0, 1.0: 0.0, 1.0: 0.0, 1.0: 0.0, 1.0: 0.0, 1.0: 0.0, 1.0: 0.0, 1.0: 0.0, 0.0: 1.0, 1.0: 0.0, 1.0: 0.0, 1.0: 0.0, 1.0: 0.0, 1.0: 0.0, 1.0: 0.0, 1.0: "
          ]
        },
        {
          "output_type": "stream",
          "name": "stderr",
          "text": [
            "268it [00:01, 204.77it/s]"
          ]
        },
        {
          "output_type": "stream",
          "name": "stdout",
          "text": [
            "0.0, 1.0: 0.0, 1.0: 0.0, 1.0: 0.0, 0.0: 1.0, 1.0: 0.0, 1.0: 0.0, 1.0: 0.0, 1.0: 0.0, 1.0: 0.0, 1.0: 0.0, 0.0: 1.0, 1.0: 0.0, 1.0: 0.0, 1.0: 0.0, 1.0: 0.0, 1.0: 0.0, 1.0: 0.0, 1.0: 0.0, 1.0: 0.0, 1.0: 0.0, 1.0: 0.0, 1.0: 0.0, 1.0: 0.0, 1.0: 0.0, 1.0: 0.0, 1.0: 0.0, "
          ]
        },
        {
          "output_type": "stream",
          "name": "stderr",
          "text": [
            "315it [00:01, 216.06it/s]"
          ]
        },
        {
          "output_type": "stream",
          "name": "stdout",
          "text": [
            "0.0: 1.0, 1.0: 0.0, 1.0: 0.0, 1.0: 0.0, 1.0: 0.0, 1.0: 0.0, 1.0: 0.0, 1.0: 0.0, 1.0: 0.0, 1.0: 0.0, 0.0: 1.0, 1.0: 0.0, 1.0: 0.0, 1.0: 0.0, 1.0: 0.0, 1.0: 0.0, 0.0: 1.0, 1.0: 0.0, 1.0: 0.0, 1.0: 0.0, 1.0: 0.0, 0.0: 1.0, 1.0: 0.0, 0.0: 1.0, 1.0: 0.0, 1.0: 0.0, 1.0: 0.0, 1.0: 0.0, 1.0: 0.0, "
          ]
        },
        {
          "output_type": "stream",
          "name": "stderr",
          "text": [
            "366it [00:02, 154.84it/s]"
          ]
        },
        {
          "output_type": "stream",
          "name": "stdout",
          "text": [
            "1.0: 0.0, 1.0: 0.0, 1.0: 0.0, 1.0: 0.0, 1.0: 0.0, 0.0: 1.0, 1.0: 0.0, 1.0: 0.0, 1.0: 0.0, 1.0: 0.0, 1.0: 0.0, 0.0: 1.0, 1.0: 0.0, 1.0: 0.0, 1.0: 0.0, 1.0: 0.0, 1.0: 0.0, 1.0: 0.0, 1.0: 0.0, 1.0: 0.0, 1.0: 0.0, 1.0: 0.0, 0.0: 1.0, 1.0: 0.0, 1.0: 0.0, 1.0: 0.0, 1.0: 0.0, 1.0: 0.0, 1.0: 0.0, 1.0: 0.0, 1.0: 0.0, "
          ]
        },
        {
          "output_type": "stream",
          "name": "stderr",
          "text": [
            "412it [00:03, 97.59it/s]"
          ]
        },
        {
          "output_type": "stream",
          "name": "stdout",
          "text": [
            "1.0: 0.0, 1.0: 0.0, 1.0: 0.0, 1.0: 0.0, 1.0: 0.0, 1.0: 0.0, 1.0: 0.0, 1.0: 0.0, 1.0: 0.0, 1.0: 0.0, 1.0: 0.0, 1.0: 0.0, 1.0: 0.0, 1.0: 0.0, 1.0: 0.0, 1.0: 0.0, 1.0: 0.0, 1.0: 0.0, 1.0: 0.0, 1.0: 0.0, 1.0: 0.0, "
          ]
        },
        {
          "output_type": "stream",
          "name": "stderr",
          "text": [
            "459it [00:03, 138.50it/s]"
          ]
        },
        {
          "output_type": "stream",
          "name": "stdout",
          "text": [
            "0.0: 1.0, 1.0: 0.0, 1.0: 0.0, 1.0: 0.0, 1.0: 0.0, 1.0: 0.0, 1.0: 0.0, 1.0: 0.0, 1.0: 0.0, 1.0: 0.0, 1.0: 0.0, 1.0: 0.0, 1.0: 0.0, 1.0: 0.0, 1.0: 0.0, 0.0: 1.0, 1.0: 0.0, 1.0: 0.0, 1.0: 0.0, 1.0: 0.0, 1.0: 0.0, 1.0"
          ]
        },
        {
          "output_type": "stream",
          "name": "stderr",
          "text": [
            "506it [00:03, 173.38it/s]"
          ]
        },
        {
          "output_type": "stream",
          "name": "stdout",
          "text": [
            ": 0.0, 1.0: 0.0, 1.0: 0.0, 1.0: 0.0, 1.0: 0.0, 1.0: 0.0, 1.0: 0.0, 1.0: 0.0, 1.0: 0.0, 1.0: 0.0, 1.0: 0.0, 1.0: 0.0, 1.0: 0.0, 1.0: 0.0, 1.0: 0.0, 1.0: 0.0, 1.0: 0.0, 1.0: 0.0, 1.0: 0.0, "
          ]
        },
        {
          "output_type": "stream",
          "name": "stderr",
          "text": [
            "555it [00:03, 203.48it/s]"
          ]
        },
        {
          "output_type": "stream",
          "name": "stdout",
          "text": [
            "1.0: 0.0, 1.0: 0.0, 0.0: 1.0, 1.0: 0.0, 1.0: 0.0, 1.0: 0.0, 1.0: 0.0, 1.0: 0.0, 1.0: 0.0, 1.0: 0.0, 1.0: 0.0, 1.0: 0.0, 1.0: 0.0, 1.0: 0.0, 1.0: 0.0, 1.0: 0.0, 1.0: 0.0, 1.0: 0.0, 1.0: 0.0, 1.0: 0.0, 1.0: 0.0, 1.0: 0.0, 1.0: 0.0, "
          ]
        },
        {
          "output_type": "stream",
          "name": "stderr",
          "text": [
            "605it [00:03, 223.75it/s]"
          ]
        },
        {
          "output_type": "stream",
          "name": "stdout",
          "text": [
            "0.0: 1.0, 1.0: 0.0, 1.0: 0.0, 1.0: 0.0, 0.0: 1.0, 1.0: 0.0, 1.0: 0.0, 1.0: 0.0, 1.0: 0.0, 1.0: 0.0, 1.0: 0.0, 1.0: 0.0, 1.0: 0.0, 1.0: 0.0, 1.0: 0.0, 1.0: 0.0, 1.0: 0.0, 1.0: 0.0, 1.0: 0.0, 1.0: 0.0, 1.0: 0.0, 1.0: 0.0, "
          ]
        },
        {
          "output_type": "stream",
          "name": "stderr",
          "text": [
            "653it [00:04, 229.10it/s]"
          ]
        },
        {
          "output_type": "stream",
          "name": "stdout",
          "text": [
            "0.0: 1.0, 1.0: 0.0, 1.0: 0.0, 1.0: 0.0, 1.0: 0.0, 1.0: 0.0, 1.0: 0.0, 1.0: 0.0, 1.0: 0.0, 1.0: 0.0, 0.0: 1.0, 0.0: 1.0, "
          ]
        },
        {
          "output_type": "stream",
          "name": "stderr",
          "text": [
            "701it [00:04, 190.95it/s]"
          ]
        },
        {
          "output_type": "stream",
          "name": "stdout",
          "text": [
            "1.0: 0.0, 1.0: 0.0, 1.0: 0.0, 1.0: 0.0, 1.0: 0.0, 1.0: 0.0, 0.0: 1.0, 1.0: 0.0, 1.0: 0.0, 0.0: 1.0, 1.0: 0.0, 0.0: 1.0, 1.0: 0.0, 1.0: 0.0, 1.0: 0.0, 1.0: 0.0, 1.0: 0.0, 1.0: 0.0, 0.0: 1.0, 1.0: 0.0, "
          ]
        },
        {
          "output_type": "stream",
          "name": "stderr",
          "text": [
            "750it [00:04, 216.28it/s]"
          ]
        },
        {
          "output_type": "stream",
          "name": "stdout",
          "text": [
            "1.0: 0.0, 1.0: 0.0, 1.0: 0.0, 1.0: 0.0, 1.0: 0.0, 1.0: 0.0, 0.0: 1.0, 1.0: 0.0, 1.0: 0.0, 1.0: 0.0, 1.0: 0.0, 1.0: 0.0, 1.0: 0.0, 1.0: 0.0, 1.0: 0.0, 1.0: 0.0, 0.0: 1.0, 1.0: 0.0, 1.0: 0.0, "
          ]
        },
        {
          "output_type": "stream",
          "name": "stderr",
          "text": [
            "801it [00:04, 232.16it/s]"
          ]
        },
        {
          "output_type": "stream",
          "name": "stdout",
          "text": [
            "1.0: 0.0, 1.0: 0.0, 1.0: 0.0, 1.0: 0.0, 0.0: 1.0, 1.0: 0.0, 1.0: 0.0, 1.0: 0.0, 1.0: 0.0, 1.0: 0.0, 1.0: 0.0, 1.0: 0.0, 1.0: 0.0, 0.0: 1.0, 1.0: 0.0, 1.0: 0.0, 1.0: 0.0, 1.0: 0.0, 0.0: 1.0, 1.0: 0.0, 0.0: 1.0, 1.0: 0.0, "
          ]
        },
        {
          "output_type": "stream",
          "name": "stderr",
          "text": [
            "852it [00:04, 240.25it/s]"
          ]
        },
        {
          "output_type": "stream",
          "name": "stdout",
          "text": [
            "1.0: 0.0, 1.0: 0.0, 1.0: 0.0, 1.0: 0.0, 1.0: 0.0, 1.0: 0.0, 1.0: 0.0, 1.0: 0.0, 1.0: 0.0, 1.0: 0.0, 1.0: 0.0, 1.0: 0.0, 0.0: 1.0, 1.0: 0.0, 1.0: 0.0, 0.0: 1.0, 1.0: 0.0, 1.0: 0.0, "
          ]
        },
        {
          "output_type": "stream",
          "name": "stderr",
          "text": [
            "902it [00:05, 205.91it/s]"
          ]
        },
        {
          "output_type": "stream",
          "name": "stdout",
          "text": [
            "0.0: 1.0, 1.0: 0.0, 1.0: 0.0, 1.0: 0.0, 0.0: 1.0, 1.0: 0.0, 1.0: 0.0, 1.0: 0.0, 1.0: 0.0, 1.0: 0.0, 1.0: 0.0, 1.0: 0.0, 1.0: 0.0, 1.0: 0.0, 0.0: 1.0, 1.0: 0.0, 1.0: 0.0, 1.0: 0.0, 1.0: 0.0, 0.0: 1.0, 1.0: 0.0, "
          ]
        },
        {
          "output_type": "stream",
          "name": "stderr",
          "text": [
            "952it [00:05, 223.12it/s]"
          ]
        },
        {
          "output_type": "stream",
          "name": "stdout",
          "text": [
            "1.0: 0.0, 0.0: 1.0, 1.0: 0.0, 1.0: 0.0, 1.0: 0.0, 1.0: 0.0, 1.0: 0.0, 1.0: 0.0, 1.0: 0.0, 1.0: 0.0, 1.0: 0.0, 1.0: 0.0, 1.0: 0.0, 1.0: 0.0, 1.0: 0.0, 1.0: 0.0, 1.0: 0.0, 1.0: 0.0, 1.0: 0.0, 1.0: 0.0, "
          ]
        },
        {
          "output_type": "stream",
          "name": "stderr",
          "text": [
            "1002it [00:05, 233.25it/s]"
          ]
        },
        {
          "output_type": "stream",
          "name": "stdout",
          "text": [
            "1.0: 0.0, 1.0: 0.0, 1.0: 0.0, 1.0: 0.0, 1.0: 0.0, 1.0: 0.0, 1.0: 0.0, 1.0: 0.0, 1.0: 0.0, 1.0: 0.0, 1.0: 0.0, 1.0: 0.0, 0.0: 1.0, 1.0: 0.0, 1.0: 0.0, 0.0: 1.0, 1.0: 0.0, 1.0: 0.0, 1.0: 0.0, "
          ]
        },
        {
          "output_type": "stream",
          "name": "stderr",
          "text": [
            "\r1024it [00:05, 177.13it/s]\n"
          ]
        },
        {
          "output_type": "stream",
          "name": "stdout",
          "text": [
            "1.0: 0.0, 1.0: 0.0, 1.0: 0.0, 1.0: 0.0, 1.0: 0.0, 1.0: 0.0, 0.0: 1.0, 0.0: 1.0, 1.0: 0.0, 1.0: 0.0, \n",
            "Epoch 020: | Loss: 0.73091 | Acc: 56.641\n",
            "\n"
          ]
        },
        {
          "output_type": "stream",
          "name": "stderr",
          "text": [
            "24it [00:00, 239.00it/s]"
          ]
        },
        {
          "output_type": "stream",
          "name": "stdout",
          "text": [
            "0.0: 1.0, 1.0: 0.0, 1.0: 0.0, 1.0: 0.0, 1.0: 0.0, 1.0: 0.0, 1.0: 0.0, 1.0: 0.0, 0.0: 1.0, 1.0: 0.0, 0.0: 1.0, 1.0: 0.0, 1.0: 0.0, 1.0: 0.0, "
          ]
        },
        {
          "output_type": "stream",
          "name": "stderr",
          "text": [
            "\r48it [00:00, 164.56it/s]"
          ]
        },
        {
          "output_type": "stream",
          "name": "stdout",
          "text": [
            "1.0: 0.0, 1.0: 0.0, 1.0: 0.0, 1.0: 0.0, 1.0: 0.0, 0.0: 1.0, 1.0: 0.0, 1.0: 0.0, 1.0: 0.0, 1.0: 0.0, 0.0: 1.0, 1.0: 0.0, 1.0: 0.0, 1.0: 0.0, "
          ]
        },
        {
          "output_type": "stream",
          "name": "stderr",
          "text": [
            "\r75it [00:00, 197.64it/s]"
          ]
        },
        {
          "output_type": "stream",
          "name": "stdout",
          "text": [
            "1.0: 0.0, 1.0: 0.0, 0.0: 1.0, "
          ]
        },
        {
          "output_type": "stream",
          "name": "stderr",
          "text": [
            "\r97it [00:00, 203.23it/s]"
          ]
        },
        {
          "output_type": "stream",
          "name": "stdout",
          "text": [
            "1.0: 0.0, 1.0: 0.0, 1.0: 0.0, 1.0: 0.0, 0.0: 1.0, "
          ]
        },
        {
          "output_type": "stream",
          "name": "stderr",
          "text": [
            "143it [00:01, 92.00it/s]"
          ]
        },
        {
          "output_type": "stream",
          "name": "stdout",
          "text": [
            "1.0: 0.0, 0.0: 1.0, 0.0: 1.0, 1.0: 0.0, 1.0: 0.0, 1.0: 0.0, 1.0: 0.0, 1.0: 0.0, 1.0: 0.0, 1.0: 0.0, 1.0: 0.0, 1.0: 0.0, 1.0: 0.0, 1.0: 0.0, 1.0: 0.0, 1.0: 0.0, 1.0: 0.0, 1.0: 0.0, 1.0: 0.0, 1.0: 0.0, 1.0: 0.0, 1.0: 0.0, 1.0: 0.0, 1.0: 0.0, "
          ]
        },
        {
          "output_type": "stream",
          "name": "stderr",
          "text": [
            "188it [00:01, 134.37it/s]"
          ]
        },
        {
          "output_type": "stream",
          "name": "stdout",
          "text": [
            "1.0: 0.0, 1.0: 0.0, 1.0: 0.0, 1.0: 0.0, 1.0: 0.0, 1.0: 0.0, 0.0: 1.0, 1.0: 0.0, 0.0: 1.0, 1.0: 0.0, 1.0: 0.0, 1.0: 0.0, 1.0: 0.0, 1.0: 0.0, 1.0: 0.0, 1.0: 0.0, 1.0: 0.0, 1.0: 0.0, 1.0: 0.0, 1.0: 0.0, 1.0: 0.0, 1.0: 0.0, 0.0: 1.0, 1.0: 0.0, 1.0: 0.0, 1.0: 0.0, 1.0: 0.0, 0.0: 1.0, 1.0: 0.0, "
          ]
        },
        {
          "output_type": "stream",
          "name": "stderr",
          "text": [
            "234it [00:01, 171.28it/s]"
          ]
        },
        {
          "output_type": "stream",
          "name": "stdout",
          "text": [
            "1.0: 0.0, 1.0: 0.0, 1.0: 0.0, 1.0: 0.0, 1.0: 0.0, 1.0: 0.0, 0.0: 1.0, 1.0: 0.0, 0.0: 1.0, 1.0: 0.0, 1.0: 0.0, 1.0: 0.0, 1.0: 0.0, 1.0: 0.0, 1.0: 0.0, 1.0: 0.0, 1.0: 0.0, 1.0: 0.0, 1.0: 0.0, 1.0: 0.0, 1.0: 0.0, 1.0: 0.0, 1.0: 0.0, 1.0: 0.0, 1.0: 0.0, 1.0: 0.0, 1.0: 0.0, "
          ]
        },
        {
          "output_type": "stream",
          "name": "stderr",
          "text": [
            "280it [00:01, 195.12it/s]"
          ]
        },
        {
          "output_type": "stream",
          "name": "stdout",
          "text": [
            "1.0: 0.0, 1.0: 0.0, 1.0: 0.0, 1.0: 0.0, 1.0: 0.0, 1.0: 0.0, 1.0: 0.0, 1.0: 0.0, 1.0: 0.0, 1.0: 0.0, 1.0: 0.0, 1.0: 0.0, 1.0: 0.0, 1.0: 0.0, 1.0: 0.0, 1.0: 0.0, 1.0: 0.0, 1.0: 0.0, 1.0: 0.0, 1.0: 0.0, 1.0: 0.0, 1.0: 0.0, 1.0: 0.0, 0.0: 1.0, 1.0: 0.0, 1.0: 0.0, 1.0: 0.0, "
          ]
        },
        {
          "output_type": "stream",
          "name": "stderr",
          "text": [
            "355it [00:02, 231.09it/s]"
          ]
        },
        {
          "output_type": "stream",
          "name": "stdout",
          "text": [
            "1.0: 0.0, 1.0: 0.0, 1.0: 0.0, 1.0: 0.0, 1.0: 0.0, 1.0: 0.0, 1.0: 0.0, 1.0: 0.0, 1.0: 0.0, 1.0: 0.0, 1.0: 0.0, 1.0: 0.0, 1.0: 0.0, 1.0: 0.0, 1.0: 0.0, 1.0: 0.0, 1.0: 0.0, 1.0: 0.0, 1.0: 0.0, 1.0: 0.0, 1.0: 0.0, 1.0: 0.0, 1.0: 0.0, 1.0: 0.0, 1.0: 0.0, 1.0: 0.0, 1.0: 0.0, 1.0: 0.0, 1.0: 0.0, 1.0: 0.0, 1.0: 0.0, 1.0: 0.0, 1.0: 0.0, 0.0: 1.0, 1.0: 0.0, 1.0: 0.0, "
          ]
        },
        {
          "output_type": "stream",
          "name": "stderr",
          "text": [
            "\r380it [00:02, 141.54it/s]"
          ]
        },
        {
          "output_type": "stream",
          "name": "stdout",
          "text": [
            "1.0: 0.0, 1.0: 0.0, 1.0: 0.0, 1.0: 0.0, 1.0: 0.0, 1.0: 0.0, 0.0: 1.0, 1.0: 0.0, 0.0: 1.0, 1.0: 0.0, 1.0: 0.0, 1.0: 0.0, 1.0: 0.0, 1.0: 0.0, 1.0: 0.0, 1.0: 0.0, "
          ]
        },
        {
          "output_type": "stream",
          "name": "stderr",
          "text": [
            "424it [00:03, 91.57it/s]"
          ]
        },
        {
          "output_type": "stream",
          "name": "stdout",
          "text": [
            "1.0: 0.0, 1.0: 0.0, 1.0: 0.0, 1.0: 0.0, 1.0: 0.0, 0.0: 1.0, 1.0: 0.0, 1.0: 0.0, 1.0: 0.0, 0.0: 1.0, 0.0: 1.0, 1.0: 0.0, 1.0: 0.0, 1.0: 0.0, 1.0: 0.0, 1.0: 0.0, 1.0: 0.0, 1.0: 0.0, 1.0: 0.0, 1.0: 0.0, 1.0: 0.0, "
          ]
        },
        {
          "output_type": "stream",
          "name": "stderr",
          "text": [
            "472it [00:03, 133.16it/s]"
          ]
        },
        {
          "output_type": "stream",
          "name": "stdout",
          "text": [
            "1.0: 0.0, 1.0: 0.0, 1.0: 0.0, 1.0: 0.0, 1.0: 0.0, 1.0: 0.0, 1.0: 0.0, 0.0: 1.0, 0.0: 1.0, 1.0: 0.0, 1.0: 0.0, 1.0: 0.0, 1.0: 0.0, 1.0: 0.0, 1.0: 0.0, 1.0: 0.0, 1.0: 0.0, 1.0: 0.0, 1.0: 0.0, 1.0: 0.0, "
          ]
        },
        {
          "output_type": "stream",
          "name": "stderr",
          "text": [
            "522it [00:03, 175.26it/s]"
          ]
        },
        {
          "output_type": "stream",
          "name": "stdout",
          "text": [
            "1.0: 0.0, 1.0: 0.0, 1.0: 0.0, 1.0: 0.0, 1.0: 0.0, 1.0: 0.0, 1.0: 0.0, 1.0: 0.0, 1.0: 0.0, 1.0: 0.0, 0.0: 1.0, 1.0: 0.0, 1.0: 0.0, 1.0: 0.0, 1.0: 0.0, 1.0: 0.0, 1.0: 0.0, 0.0: 1.0, 1.0: 0.0, 0.0: 1.0, 1.0: 0.0, 0.0: 1.0, 1.0: 0.0, "
          ]
        },
        {
          "output_type": "stream",
          "name": "stderr",
          "text": [
            "571it [00:03, 202.25it/s]"
          ]
        },
        {
          "output_type": "stream",
          "name": "stdout",
          "text": [
            "1.0: 0.0, 1.0: 0.0, 1.0: 0.0, 1.0: 0.0, 1.0: 0.0, 1.0: 0.0, 0.0: 1.0, 1.0: 0.0, 1.0: 0.0, 1.0: 0.0, 1.0: 0.0, 1.0: 0.0, 1.0: 0.0, 1.0: 0.0, 1.0: 0.0, 1.0: 0.0, 1.0: 0.0, 1.0: 0.0, 1.0: 0.0, 1.0: 0.0, 1.0: 0.0, 1.0: "
          ]
        },
        {
          "output_type": "stream",
          "name": "stderr",
          "text": [
            "620it [00:04, 220.26it/s]"
          ]
        },
        {
          "output_type": "stream",
          "name": "stdout",
          "text": [
            "0.0, 1.0: 0.0, 1.0: 0.0, 1.0: 0.0, 0.0: 1.0, 1.0: 0.0, 1.0: 0.0, 1.0: 0.0, 1.0: 0.0, 1.0: 0.0, 1.0: 0.0, 1.0: 0.0, 1.0: 0.0, 1.0: 0.0, 1.0: 0.0, 1.0: 0.0, 1.0: 0.0, 1.0: 0.0, 1.0: 0.0, 0.0: 1.0, 1.0: 0.0, 1.0: 0.0, "
          ]
        },
        {
          "output_type": "stream",
          "name": "stderr",
          "text": [
            "\r644it [00:04, 225.69it/s]"
          ]
        },
        {
          "output_type": "stream",
          "name": "stdout",
          "text": [
            "0.0: 1.0, 1.0: 0.0, 1.0: 0.0, 1.0: 0.0, 0.0: 1.0, 0.0: 1.0, 1.0: 0.0, 1.0: 0.0, "
          ]
        },
        {
          "output_type": "stream",
          "name": "stderr",
          "text": [
            "\r668it [00:04, 167.15it/s]"
          ]
        },
        {
          "output_type": "stream",
          "name": "stdout",
          "text": [
            "1.0: 0.0, 0.0: 1.0, 1.0: 0.0, 1.0: 0.0, 1.0: 0.0, "
          ]
        },
        {
          "output_type": "stream",
          "name": "stderr",
          "text": [
            "714it [00:05, 95.04it/s]"
          ]
        },
        {
          "output_type": "stream",
          "name": "stdout",
          "text": [
            "1.0: 0.0, 1.0: 0.0, 1.0: 0.0, 1.0: 0.0, 0.0: 1.0, 1.0: 0.0, 1.0: 0.0, 0.0: 1.0, 1.0: 0.0, 1.0: 0.0, 1.0: 0.0, 1.0: 0.0, 1.0: 0.0, 1.0: 0.0, 1.0: 0.0, 1.0: 0.0, 1.0: 0.0, 1.0: 0.0, 1.0: 0.0, 1.0: 0.0, "
          ]
        },
        {
          "output_type": "stream",
          "name": "stderr",
          "text": [
            "760it [00:05, 135.94it/s]"
          ]
        },
        {
          "output_type": "stream",
          "name": "stdout",
          "text": [
            "1.0: 0.0, 0.0: 1.0, 1.0: 0.0, 1.0: 0.0, 0.0: 1.0, 1.0: 0.0, 1.0: 0.0, 0.0: 1.0, 1.0: 0.0, 0.0: 1.0, 0.0: 1.0, 1.0: 0.0, 1.0: 0.0, 1.0: 0.0, 0.0: 1.0, 1.0: 0.0, 1.0: 0.0, 1.0: 0.0, 1.0: 0.0, 1.0: 0.0, 1.0: 0.0, 1.0: 0.0, "
          ]
        },
        {
          "output_type": "stream",
          "name": "stderr",
          "text": [
            "810it [00:05, 177.97it/s]"
          ]
        },
        {
          "output_type": "stream",
          "name": "stdout",
          "text": [
            "1.0: 0.0, 1.0: 0.0, 1.0: 0.0, 1.0: 0.0, 1.0: 0.0, 1.0: 0.0, 1.0: 0.0, 1.0: 0.0, 1.0: 0.0, 1.0: 0.0, 0.0: 1.0, 1.0: 0.0, 1.0: 0.0, 1.0: 0.0, 0.0: 1.0, 1.0: 0.0, 1.0: 0.0, 1.0: 0.0, 1.0: 0.0, 0.0: 1.0, 1.0: 0.0, 0.0: 1.0, 1.0: 0.0, "
          ]
        },
        {
          "output_type": "stream",
          "name": "stderr",
          "text": [
            "859it [00:05, 206.64it/s]"
          ]
        },
        {
          "output_type": "stream",
          "name": "stdout",
          "text": [
            "1.0: 0.0, 1.0: 0.0, 1.0: 0.0, 0.0: 1.0, 1.0: 0.0, 1.0: 0.0, 0.0: 1.0, 1.0: 0.0, 1.0: 0.0, 1.0: 0.0, 1.0: 0.0, 1.0: 0.0, 1.0: 0.0, 1.0: 0.0, 0.0: 1.0, 1.0: 0.0, "
          ]
        },
        {
          "output_type": "stream",
          "name": "stderr",
          "text": [
            "910it [00:06, 223.19it/s]"
          ]
        },
        {
          "output_type": "stream",
          "name": "stdout",
          "text": [
            "1.0: 0.0, 1.0: 0.0, 0.0: 1.0, 1.0: 0.0, 1.0: 0.0, 0.0: 1.0, 1.0: 0.0, 1.0: 0.0, 1.0: 0.0, 1.0: 0.0, 1.0: 0.0, 1.0: 0.0, 1.0: 0.0, 1.0: 0.0, 0.0: 1.0, 0.0: 1.0, 1.0: 0.0, 0.0: 1.0, 1.0: 0.0, 0.0: 1.0, "
          ]
        },
        {
          "output_type": "stream",
          "name": "stderr",
          "text": [
            "959it [00:06, 193.65it/s]"
          ]
        },
        {
          "output_type": "stream",
          "name": "stdout",
          "text": [
            "1.0: 0.0, 1.0: 0.0, 1.0: 0.0, 1.0: 0.0, 0.0: 1.0, 1.0: 0.0, 1.0: 0.0, 1.0: 0.0, 1.0: 0.0, 1.0: 0.0, 1.0: 0.0, 1.0: 0.0, 1.0: 0.0, 1.0: 0.0, 1.0: 0.0, 1.0: 0.0, 1.0: 0.0, 1.0: 0.0, "
          ]
        },
        {
          "output_type": "stream",
          "name": "stderr",
          "text": [
            "\r983it [00:06, 204.85it/s]"
          ]
        },
        {
          "output_type": "stream",
          "name": "stdout",
          "text": [
            "1.0: 0.0, 0.0: 1.0, 1.0: 0.0, 1.0: 0.0, 0.0: 1.0, 1.0: 0.0, 1.0: 0.0, 1.0: 0.0, 1.0: 0.0, 1.0: 0.0, "
          ]
        },
        {
          "output_type": "stream",
          "name": "stderr",
          "text": [
            "1024it [00:07, 140.30it/s]\n"
          ]
        },
        {
          "output_type": "stream",
          "name": "stdout",
          "text": [
            "1.0: 0.0, 1.0: 0.0, 0.0: 1.0, 1.0: 0.0, 1.0: 0.0, 1.0: 0.0, 1.0: 0.0, 0.0: 1.0, 1.0: 0.0, 1.0: 0.0, 1.0: 0.0, 0.0: 1.0, 1.0: 0.0, 1.0: 0.0, 1.0: 0.0, 1.0: 0.0, 1.0: 0.0, \n",
            "Epoch 021: | Loss: 0.73815 | Acc: 54.980\n",
            "\n"
          ]
        },
        {
          "output_type": "stream",
          "name": "stderr",
          "text": [
            "47it [00:00, 230.63it/s]"
          ]
        },
        {
          "output_type": "stream",
          "name": "stdout",
          "text": [
            "0.0: 1.0, 1.0: 0.0, 1.0: 0.0, 1.0: 0.0, 1.0: 0.0, 0.0: 1.0, 1.0: 0.0, 1.0: 0.0, 1.0: 0.0, 1.0: 0.0, 1.0: 0.0, 1.0: 0.0, 1.0: 0.0, 1.0: 0.0, 1.0: 0.0, 1.0: 0.0, 1.0: 0.0, 1.0: 0.0, 1.0: 0.0, "
          ]
        },
        {
          "output_type": "stream",
          "name": "stderr",
          "text": [
            "98it [00:00, 241.90it/s]"
          ]
        },
        {
          "output_type": "stream",
          "name": "stdout",
          "text": [
            "1.0: 0.0, 1.0: 0.0, 1.0: 0.0, 1.0: 0.0, 1.0: 0.0, 0.0: 1.0, 1.0: 0.0, 1.0: 0.0, 0.0: 1.0, 1.0: 0.0, 1.0: 0.0, 1.0: 0.0, 1.0: 0.0, 1.0: 0.0, "
          ]
        },
        {
          "output_type": "stream",
          "name": "stderr",
          "text": [
            "151it [00:00, 238.92it/s]"
          ]
        },
        {
          "output_type": "stream",
          "name": "stdout",
          "text": [
            "1.0: 0.0, 1.0: 0.0, 1.0: 0.0, 1.0: 0.0, 0.0: 1.0, 1.0: 0.0, 1.0: 0.0, 1.0: 0.0, 1.0: 0.0, 1.0: 0.0, 1.0: 0.0, 1.0: 0.0, 1.0: 0.0, 1.0: 0.0, 1.0: 0.0, 1.0: 0.0, 1.0: 0.0, 1.0: 0.0, 1.0: 0.0, 1.0: 0.0, 1.0: 0.0, 1.0: 0.0, 1.0: 0.0, 1.0: 0.0, 1.0: 0.0, "
          ]
        },
        {
          "output_type": "stream",
          "name": "stderr",
          "text": [
            "228it [00:00, 249.52it/s]"
          ]
        },
        {
          "output_type": "stream",
          "name": "stdout",
          "text": [
            "1.0: 0.0, 1.0: 0.0, 1.0: 0.0, 1.0: 0.0, 1.0: 0.0, 1.0: 0.0, 1.0: 0.0, 1.0: 0.0, 1.0: 0.0, 1.0: 0.0, 1.0: 0.0, 1.0: 0.0, 0.0: 1.0, 1.0: 0.0, 1.0: 0.0, 1.0: 0.0, 1.0: 0.0, 1.0: 0.0, 1.0: 0.0, 1.0: 0.0, 1.0: 0.0, 1.0: 0.0, 1.0: 0.0, 1.0: 0.0, 1.0: 0.0, 1.0: 0.0, 1.0: 0.0, 0.0: 1.0, 1.0: 0.0, 1.0: 0.0, 1.0: 0.0, 1.0: 0.0, 1.0: 0.0, 0.0: 1.0, 0.0: 1.0, 1.0: 0.0, 1.0: 0.0, 1.0: 0.0, 1.0: 0.0, 1.0: 0.0, 1.0: 0.0, "
          ]
        },
        {
          "output_type": "stream",
          "name": "stderr",
          "text": [
            "\r254it [00:01, 152.31it/s]"
          ]
        },
        {
          "output_type": "stream",
          "name": "stdout",
          "text": [
            "1.0: 0.0, 1.0: 0.0, 1.0: 0.0, 1.0: 0.0, 1.0: 0.0, 1.0: 0.0, 1.0: 0.0, 1.0: 0.0, 1.0: 0.0, 0.0: 1.0, 1.0: 0.0, 1.0: 0.0, 1.0: 0.0, 1.0: 0.0, 1.0: 0.0, 1.0: 0.0, 1.0: 0.0, 1.0: 0.0, 1.0: 0.0, 1.0: 0.0, 1.0: 0.0, 1.0: 0.0, 1.0: 0.0, 1.0: 0.0, 1.0: 0.0, 1.0: 0.0, "
          ]
        },
        {
          "output_type": "stream",
          "name": "stderr",
          "text": [
            "302it [00:01, 185.49it/s]"
          ]
        },
        {
          "output_type": "stream",
          "name": "stdout",
          "text": [
            "1.0: 0.0, 1.0: 0.0, 1.0: 0.0, 1.0: 0.0, 1.0: 0.0, 1.0: 0.0, 1.0: 0.0, 1.0: 0.0, 1.0: 0.0, 1.0: 0.0, 1.0: 0.0, 1.0: 0.0, 1.0: 0.0, 1.0: 0.0, 1.0: 0.0, 1.0: 0.0, 1.0: 0.0, 1.0: 0.0, 0.0: 1.0, 1.0: 0.0, 1.0: 0.0, 1.0: 0.0, 1.0: 0.0, 1.0: 0.0, 1.0: 0.0, 1.0: 0.0, "
          ]
        },
        {
          "output_type": "stream",
          "name": "stderr",
          "text": [
            "370it [00:01, 205.70it/s]"
          ]
        },
        {
          "output_type": "stream",
          "name": "stdout",
          "text": [
            "1.0: 0.0, 1.0: 0.0, 1.0: 0.0, 1.0: 0.0, 0.0: 1.0, 1.0: 0.0, 1.0: 0.0, 1.0: 0.0, 1.0: 0.0, 1.0: 0.0, 0.0: 1.0, 1.0: 0.0, 1.0: 0.0, 1.0: 0.0, 1.0: 0.0, 1.0: 0.0, 0.0: 1.0, 1.0: 0.0, 1.0: 0.0, 1.0: 0.0, 1.0: 0.0, 1.0: 0.0, 1.0: 0.0, 1.0: 0.0, 1.0: 0.0, 1.0: 0.0, 1.0: 0.0, 1.0: 0.0, 1.0: 0.0, 1.0: 0.0, 1.0: 0.0, 1.0: 0.0, "
          ]
        },
        {
          "output_type": "stream",
          "name": "stderr",
          "text": [
            "416it [00:02, 147.61it/s]"
          ]
        },
        {
          "output_type": "stream",
          "name": "stdout",
          "text": [
            "1.0: 0.0, 1.0: 0.0, 1.0: 0.0, 1.0: 0.0, 1.0: 0.0, 0.0: 1.0, 1.0: 0.0, 1.0: 0.0, 1.0: 0.0, 1.0: 0.0, 1.0: 0.0, 0.0: 1.0, 1.0: 0.0, 1.0: 0.0, 1.0: 0.0, 1.0: 0.0, 1.0: 0.0, 1.0: 0.0, "
          ]
        },
        {
          "output_type": "stream",
          "name": "stderr",
          "text": [
            "463it [00:03, 94.14it/s]"
          ]
        },
        {
          "output_type": "stream",
          "name": "stdout",
          "text": [
            "1.0: 0.0, 1.0: 0.0, 1.0: 0.0, 1.0: 0.0, 1.0: 0.0, 1.0: 0.0, 1.0: 0.0, 1.0: 0.0, 1.0: 0.0, 1.0: 0.0, 0.0: 1.0, 1.0: 0.0, 1.0: 0.0, 1.0: 0.0, 1.0: 0.0, 1.0: 0.0, 1.0: 0.0, 1.0: 0.0, 1.0: 0.0, 0.0: 1.0, 1.0: 0.0, "
          ]
        },
        {
          "output_type": "stream",
          "name": "stderr",
          "text": [
            "508it [00:03, 131.55it/s]"
          ]
        },
        {
          "output_type": "stream",
          "name": "stdout",
          "text": [
            "1.0: 0.0, 1.0: 0.0, 0.0: 1.0, 1.0: 0.0, 1.0: 0.0, 0.0: 1.0, 0.0: 1.0, 1.0: 0.0, 1.0: 0.0, 1.0: 0.0, 1.0: 0.0, 1.0: 0.0, 1.0: 0.0, 1.0: 0.0, 1.0: 0.0, 1.0: 0.0, 1.0: 0.0, 1.0: 0.0, 1.0: 0.0, 1.0: 0.0, 1.0: 0.0, 1.0: 0.0, "
          ]
        },
        {
          "output_type": "stream",
          "name": "stderr",
          "text": [
            "558it [00:03, 174.04it/s]"
          ]
        },
        {
          "output_type": "stream",
          "name": "stdout",
          "text": [
            "1.0: 0.0, 1.0: 0.0, 1.0: 0.0, 1.0: 0.0, 1.0: 0.0, 1.0: 0.0, 1.0: 0.0, 1.0: 0.0, 1.0: 0.0, 1.0: 0.0, 1.0: 0.0, 1.0: 0.0, 1.0: 0.0, 1.0: 0.0, 0.0: 1.0, 1.0: 0.0, 1.0: 0.0, 1.0: 0.0, 1.0: 0.0, 1.0: 0.0, 1.0: 0.0, 1.0: 0.0, 0.0: 1.0, "
          ]
        },
        {
          "output_type": "stream",
          "name": "stderr",
          "text": [
            "607it [00:03, 200.50it/s]"
          ]
        },
        {
          "output_type": "stream",
          "name": "stdout",
          "text": [
            "1.0: 0.0, 1.0: 0.0, 1.0: 0.0, 1.0: 0.0, 1.0: 0.0, 1.0: 0.0, 1.0: 0.0, 1.0: 0.0, 1.0: 0.0, 1.0: 0.0, 1.0: 0.0, 1.0: 0.0, 1.0: 0.0, 1.0: 0.0, 1.0: 0.0, 1.0: 0.0, 1.0: 0.0, 1.0: 0.0, 1.0: 0.0, 1.0: 0.0, 1.0: 0.0, "
          ]
        },
        {
          "output_type": "stream",
          "name": "stderr",
          "text": [
            "682it [00:03, 230.38it/s]"
          ]
        },
        {
          "output_type": "stream",
          "name": "stdout",
          "text": [
            "1.0: 0.0, 0.0: 1.0, 1.0: 0.0, 1.0: 0.0, 1.0: 0.0, 1.0: 0.0, 0.0: 1.0, 1.0: 0.0, 1.0: 0.0, 1.0: 0.0, 1.0: 0.0, 1.0: 0.0, 1.0: 0.0, 1.0: 0.0, 1.0: 0.0, 1.0: 0.0, 1.0: 0.0, 0.0: 1.0, 1.0: 0.0, 1.0: 0.0, 1.0: 0.0, 0.0: 1.0, 1.0: 0.0, 1.0: 0.0, "
          ]
        },
        {
          "output_type": "stream",
          "name": "stderr",
          "text": [
            "\r707it [00:04, 163.15it/s]"
          ]
        },
        {
          "output_type": "stream",
          "name": "stdout",
          "text": [
            "1.0: 0.0, 0.0: 1.0, 1.0: 0.0, 1.0: 0.0, 1.0: 0.0, 1.0: 0.0, 0.0: 1.0, 1.0: 0.0, 1.0: 0.0, "
          ]
        },
        {
          "output_type": "stream",
          "name": "stderr",
          "text": [
            "752it [00:04, 97.93it/s]"
          ]
        },
        {
          "output_type": "stream",
          "name": "stdout",
          "text": [
            "0.0: 1.0, 1.0: 0.0, 1.0: 0.0, 1.0: 0.0, 1.0: 0.0, 1.0: 0.0, 1.0: 0.0, 1.0: 0.0, 0.0: 1.0, 1.0: 0.0, 1.0: 0.0, 1.0: 0.0, 0.0: 1.0, 1.0: 0.0, 1.0: 0.0, 1.0: 0.0, 0.0: 1.0, 1.0: 0.0, 1.0: 0.0, "
          ]
        },
        {
          "output_type": "stream",
          "name": "stderr",
          "text": [
            "801it [00:05, 141.59it/s]"
          ]
        },
        {
          "output_type": "stream",
          "name": "stdout",
          "text": [
            "1.0: 0.0, 1.0: 0.0, 1.0: 0.0, 1.0: 0.0, 1.0: 0.0, 1.0: 0.0, 1.0: 0.0, 1.0: 0.0, 1.0: 0.0, 1.0: 0.0, 0.0: 1.0, 1.0: 0.0, 1.0: 0.0, 0.0: 1.0, 0.0: 1.0, 1.0: 0.0, 0.0: 1.0, 1.0: 0.0, 1.0: 0.0, "
          ]
        },
        {
          "output_type": "stream",
          "name": "stderr",
          "text": [
            "853it [00:05, 185.27it/s]"
          ]
        },
        {
          "output_type": "stream",
          "name": "stdout",
          "text": [
            "1.0: 0.0, 1.0: 0.0, 1.0: 0.0, 0.0: 1.0, 1.0: 0.0, 1.0: 0.0, 0.0: 1.0, 1.0: 0.0, 1.0: 0.0, 1.0: 0.0, 1.0: 0.0, 1.0: 0.0, 1.0: 0.0, 1.0: 0.0, 1.0: 0.0, 1.0: 0.0, 1.0: 0.0, 1.0: 0.0, 1.0: 0.0, 1.0: 0.0, "
          ]
        },
        {
          "output_type": "stream",
          "name": "stderr",
          "text": [
            "904it [00:05, 214.49it/s]"
          ]
        },
        {
          "output_type": "stream",
          "name": "stdout",
          "text": [
            "1.0: 0.0, 1.0: 0.0, 1.0: 0.0, 1.0: 0.0, 1.0: 0.0, 1.0: 0.0, 1.0: 0.0, 0.0: 1.0, 1.0: 0.0, 1.0: 0.0, 1.0: 0.0, 1.0: 0.0, 1.0: 0.0, 0.0: 1.0, 1.0: 0.0, 1.0: 0.0, 1.0: 0.0, 1.0: 0.0, 1.0: 0.0, "
          ]
        },
        {
          "output_type": "stream",
          "name": "stderr",
          "text": [
            "957it [00:05, 231.44it/s]"
          ]
        },
        {
          "output_type": "stream",
          "name": "stdout",
          "text": [
            "1.0: 0.0, 1.0: 0.0, 1.0: 0.0, 1.0: 0.0, 1.0: 0.0, 1.0: 0.0, 1.0: 0.0, 1.0: 0.0, 1.0: 0.0, 1.0: 0.0, 1.0: 0.0, 1.0: 0.0, 1.0: 0.0, 1.0: 0.0, 1.0: 0.0, 1.0: 0.0, 1.0: 0.0, 1.0: 0.0, "
          ]
        },
        {
          "output_type": "stream",
          "name": "stderr",
          "text": [
            "1024it [00:06, 168.69it/s]"
          ]
        },
        {
          "output_type": "stream",
          "name": "stdout",
          "text": [
            "1.0: 0.0, 1.0: 0.0, 1.0: 0.0, 1.0: 0.0, 1.0: 0.0, 1.0: 0.0, 1.0: 0.0, 1.0: 0.0, 1.0: 0.0, 0.0: 1.0, 1.0: 0.0, 1.0: 0.0, 0.0: 1.0, 1.0: 0.0, 1.0: 0.0, 1.0: 0.0, 1.0: 0.0, 0.0: 1.0, 1.0: 0.0, 1.0: 0.0, "
          ]
        },
        {
          "output_type": "stream",
          "name": "stderr",
          "text": [
            "\n"
          ]
        },
        {
          "output_type": "stream",
          "name": "stdout",
          "text": [
            "\n",
            "Epoch 022: | Loss: 0.72724 | Acc: 57.422\n",
            "\n"
          ]
        },
        {
          "output_type": "stream",
          "name": "stderr",
          "text": [
            "24it [00:00, 238.91it/s]"
          ]
        },
        {
          "output_type": "stream",
          "name": "stdout",
          "text": [
            "1.0: 0.0, 1.0: 0.0, 1.0: 0.0, 1.0: 0.0, 1.0: 0.0, 1.0: 0.0, 0.0: 1.0, 1.0: 0.0, "
          ]
        },
        {
          "output_type": "stream",
          "name": "stderr",
          "text": [
            "74it [00:00, 149.92it/s]"
          ]
        },
        {
          "output_type": "stream",
          "name": "stdout",
          "text": [
            "1.0: 0.0, 0.0: 1.0, 1.0: 0.0, 1.0: 0.0, 1.0: 0.0, 1.0: 0.0, 1.0: 0.0, 0.0: 1.0, 1.0: 0.0, 1.0: 0.0, 0.0: 1.0, 1.0: 0.0, 1.0: 0.0, 1.0: 0.0, 1.0: 0.0, 0.0: 1.0, 1.0: 0.0, 0.0: 1.0, 0.0: 1.0, 1.0: 0.0, 1.0: 0.0, "
          ]
        },
        {
          "output_type": "stream",
          "name": "stderr",
          "text": [
            "120it [00:01, 94.62it/s]"
          ]
        },
        {
          "output_type": "stream",
          "name": "stdout",
          "text": [
            "1.0: 0.0, 1.0: 0.0, 1.0: 0.0, 1.0: 0.0, 1.0: 0.0, 1.0: 0.0, 1.0: 0.0, 0.0: 1.0, 0.0: 1.0, 1.0: 0.0, 1.0: 0.0, 1.0: 0.0, 1.0: 0.0, 1.0: 0.0, 1.0: 0.0, "
          ]
        },
        {
          "output_type": "stream",
          "name": "stderr",
          "text": [
            "166it [00:01, 138.23it/s]"
          ]
        },
        {
          "output_type": "stream",
          "name": "stdout",
          "text": [
            "1.0: 0.0, 1.0: 0.0, 1.0: 0.0, 1.0: 0.0, 1.0: 0.0, 1.0: 0.0, 1.0: 0.0, 1.0: 0.0, 0.0: 1.0, 1.0: 0.0, 1.0: 0.0, 1.0: 0.0, 1.0: 0.0, 1.0: 0.0, 1.0: 0.0, 1.0: 0.0, 1.0: 0.0, 1.0: 0.0, 1.0: 0.0, 1.0: 0.0, 1.0: 0.0, 1.0: 0.0, 1.0: 0.0, "
          ]
        },
        {
          "output_type": "stream",
          "name": "stderr",
          "text": [
            "210it [00:02, 89.82it/s]"
          ]
        },
        {
          "output_type": "stream",
          "name": "stdout",
          "text": [
            "1.0: 0.0, 1.0: 0.0, 1.0: 0.0, 1.0: 0.0, 1.0: 0.0, 0.0: 1.0, 1.0: 0.0, 1.0: 0.0, 1.0: 0.0, 1.0: 0.0, 1.0: 0.0, 1.0: 0.0, 1.0: 0.0, 1.0: 0.0, 1.0: 0.0, 1.0: 0.0, 1.0: 0.0, 0.0: 1.0, 1.0: 0.0, 1.0: 0.0, 1.0: 0.0, 1.0: 0.0, 1.0: 0.0, 1.0: 0.0, 1.0: 0.0, 1.0: 0.0, "
          ]
        },
        {
          "output_type": "stream",
          "name": "stderr",
          "text": [
            "257it [00:02, 132.45it/s]"
          ]
        },
        {
          "output_type": "stream",
          "name": "stdout",
          "text": [
            "1.0: 0.0, 1.0: 0.0, 1.0: 0.0, 1.0: 0.0, 1.0: 0.0, 1.0: 0.0, 1.0: 0.0, 1.0: 0.0, 1.0: 0.0, 1.0: 0.0, 1.0: 0.0, 1.0: 0.0, 1.0: 0.0, 1.0: 0.0, 1.0: 0.0, 1.0: 0.0, 1.0: 0.0, 1.0: 0.0, 1.0: 0.0, 1.0: 0.0, 1.0: 0.0, 1.0: 0.0, 1.0: 0.0, 1.0: 0.0, 1.0: 0.0, "
          ]
        },
        {
          "output_type": "stream",
          "name": "stderr",
          "text": [
            "302it [00:02, 166.69it/s]"
          ]
        },
        {
          "output_type": "stream",
          "name": "stdout",
          "text": [
            "1.0: 0.0, 0.0: 1.0, 1.0: 0.0, 1.0: 0.0, 1.0: 0.0, 1.0: 0.0, 1.0: 0.0, 1.0: 0.0, 1.0: 0.0, 1.0: 0.0, 1.0: 0.0, 0.0: 1.0, 1.0: 0.0, 1.0: 0.0, 1.0: 0.0, 1.0: 0.0, 0.0: 1.0, 1.0: 0.0, 1.0: 0.0, 1.0: 0.0, 1.0: 0.0, 1.0: 0.0, 0.0: 1.0, 1.0: 0.0, 1.0: 0.0, 1.0: 0.0, 1.0: 0.0, 1.0: 0.0, 1.0: 0.0, "
          ]
        },
        {
          "output_type": "stream",
          "name": "stderr",
          "text": [
            "348it [00:02, 192.00it/s]"
          ]
        },
        {
          "output_type": "stream",
          "name": "stdout",
          "text": [
            "1.0: 0.0, 1.0: 0.0, 1.0: 0.0, 1.0: 0.0, 0.0: 1.0, 1.0: 0.0, 1.0: 0.0, 1.0: 0.0, 1.0: 0.0, 1.0: 0.0, 1.0: 0.0, 1.0: 0.0, 0.0: 1.0, 1.0: 0.0, 1.0: 0.0, 1.0: 0.0, 1.0: 0.0, 1.0: 0.0, 1.0: 0.0, 1.0: 0.0, 1.0: 0.0, 1.0: 0.0, 1.0: 0.0, 1.0: 0.0, 1.0: 0.0, 1.0: 0.0, 1.0: 0.0, 1.0: 0.0, 1.0: 0.0, 1.0: 0.0, 1.0: 0.0, "
          ]
        },
        {
          "output_type": "stream",
          "name": "stderr",
          "text": [
            "394it [00:02, 206.16it/s]"
          ]
        },
        {
          "output_type": "stream",
          "name": "stdout",
          "text": [
            "1.0: 0.0, 1.0: 0.0, 1.0: 0.0, 1.0: 0.0, 1.0: 0.0, 1.0: 0.0, 1.0: 0.0, 1.0: 0.0, 1.0: 0.0, 1.0: 0.0, 1.0: 0.0, 1.0: 0.0, 1.0: 0.0, 1.0: 0.0, 1.0: 0.0, 1.0: 0.0, 1.0: 0.0, 1.0: 0.0, 1.0: 0.0, 0.0: 1.0, 1.0: 0.0, 1.0: 0.0, 1.0: 0.0, 0.0: 1.0, 0.0: 1.0, "
          ]
        },
        {
          "output_type": "stream",
          "name": "stderr",
          "text": [
            "\r418it [00:03, 215.07it/s]"
          ]
        },
        {
          "output_type": "stream",
          "name": "stdout",
          "text": [
            "1.0: 0.0, 1.0: 0.0, 1.0: 0.0, 1.0: 0.0, 1.0: 0.0, "
          ]
        },
        {
          "output_type": "stream",
          "name": "stderr",
          "text": [
            "466it [00:03, 161.60it/s]"
          ]
        },
        {
          "output_type": "stream",
          "name": "stdout",
          "text": [
            "1.0: 0.0, 1.0: 0.0, 1.0: 0.0, 1.0: 0.0, 1.0: 0.0, 1.0: 0.0, 1.0: 0.0, 1.0: 0.0, 1.0: 0.0, 1.0: 0.0, 1.0: 0.0, 0.0: 1.0, 1.0: 0.0, 1.0: 0.0, 1.0: 0.0, 1.0: 0.0, 1.0: 0.0, 0.0: 1.0, 0.0: 1.0, 1.0: 0.0, 1.0: 0.0, "
          ]
        },
        {
          "output_type": "stream",
          "name": "stderr",
          "text": [
            "512it [00:04, 101.68it/s]"
          ]
        },
        {
          "output_type": "stream",
          "name": "stdout",
          "text": [
            "1.0: 0.0, 1.0: 0.0, 0.0: 1.0, 1.0: 0.0, 0.0: 1.0, 1.0: 0.0, 1.0: 0.0, 1.0: 0.0, 1.0: 0.0, 1.0: 0.0, 1.0: 0.0, 1.0: 0.0, 1.0: 0.0, 1.0: 0.0, 1.0: 0.0, 1.0: 0.0, 1.0: 0.0, 1.0: 0.0, 1.0: 0.0, 1.0: 0.0, "
          ]
        },
        {
          "output_type": "stream",
          "name": "stderr",
          "text": [
            "558it [00:04, 138.94it/s]"
          ]
        },
        {
          "output_type": "stream",
          "name": "stdout",
          "text": [
            "0.0: 1.0, 0.0: 1.0, 1.0: 0.0, 1.0: 0.0, 1.0: 0.0, 1.0: 0.0, 1.0: 0.0, 1.0: 0.0, 1.0: 0.0, 1.0: 0.0, 1.0: 0.0, 1.0: 0.0, 1.0: 0.0, 1.0: 0.0, 1.0: 0.0, 1.0: 0.0, 1.0: 0.0, 1.0: 0.0, 1.0: 0.0, 1.0: 0.0, 1.0: 0.0, "
          ]
        },
        {
          "output_type": "stream",
          "name": "stderr",
          "text": [
            "610it [00:04, 184.62it/s]"
          ]
        },
        {
          "output_type": "stream",
          "name": "stdout",
          "text": [
            "1.0: 0.0, 1.0: 0.0, 1.0: 0.0, 1.0: 0.0, 1.0: 0.0, 1.0: 0.0, 1.0: 0.0, 1.0: 0.0, 1.0: 0.0, 1.0: 0.0, 1.0: 0.0, 1.0: 0.0, 1.0: 0.0, 1.0: 0.0, 1.0: 0.0, 1.0: 0.0, 1.0: 0.0, "
          ]
        },
        {
          "output_type": "stream",
          "name": "stderr",
          "text": [
            "661it [00:04, 211.91it/s]"
          ]
        },
        {
          "output_type": "stream",
          "name": "stdout",
          "text": [
            "0.0: 1.0, 0.0: 1.0, 1.0: 0.0, 1.0: 0.0, 1.0: 0.0, 1.0: 0.0, 1.0: 0.0, 1.0: 0.0, 1.0: 0.0, 1.0: 0.0, 1.0: 0.0, 1.0: 0.0, 1.0: 0.0, 1.0: 0.0, 1.0: 0.0, 1.0: 0.0, 1.0: 0.0, 0.0: 1.0, 1.0: 0.0, 1.0: 0.0, 1.0: 0.0, "
          ]
        },
        {
          "output_type": "stream",
          "name": "stderr",
          "text": [
            "734it [00:05, 171.71it/s]"
          ]
        },
        {
          "output_type": "stream",
          "name": "stdout",
          "text": [
            "1.0: 0.0, 1.0: 0.0, 1.0: 0.0, 1.0: 0.0, 1.0: 0.0, 1.0: 0.0, 1.0: 0.0, 1.0: 0.0, 1.0: 0.0, 1.0: 0.0, 1.0: 0.0, 1.0: 0.0, 1.0: 0.0, 1.0: 0.0, 0.0: 1.0, 1.0: 0.0, 1.0: 0.0, 1.0: 0.0, 1.0: 0.0, 1.0: 0.0, 1.0: 0.0, "
          ]
        },
        {
          "output_type": "stream",
          "name": "stderr",
          "text": [
            "784it [00:05, 202.52it/s]"
          ]
        },
        {
          "output_type": "stream",
          "name": "stdout",
          "text": [
            "1.0: 0.0, 1.0: 0.0, 1.0: 0.0, 1.0: 0.0, 1.0: 0.0, 0.0: 1.0, 1.0: 0.0, 0.0: 1.0, 1.0: 0.0, 1.0: 0.0, 1.0: 0.0, 1.0: 0.0, 1.0: 0.0, 1.0: 0.0, 1.0: 0.0, 1.0: 0.0, 1.0: 0.0, 0.0: 1.0, "
          ]
        },
        {
          "output_type": "stream",
          "name": "stderr",
          "text": [
            "833it [00:05, 220.76it/s]"
          ]
        },
        {
          "output_type": "stream",
          "name": "stdout",
          "text": [
            "1.0: 0.0, 1.0: 0.0, 1.0: 0.0, 1.0: 0.0, 1.0: 0.0, 0.0: 1.0, 1.0: 0.0, 1.0: 0.0, 1.0: 0.0, 0.0: 1.0, 0.0: 1.0, 1.0: 0.0, 1.0: 0.0, 0.0: 1.0, 1.0: 0.0, 1.0: 0.0, 1.0: 0.0, 1.0: 0.0, 1.0: 0.0, "
          ]
        },
        {
          "output_type": "stream",
          "name": "stderr",
          "text": [
            "884it [00:05, 236.97it/s]"
          ]
        },
        {
          "output_type": "stream",
          "name": "stdout",
          "text": [
            "1.0: 0.0, 1.0: 0.0, 0.0: 1.0, 1.0: 0.0, 1.0: 0.0, 1.0: 0.0, 1.0: 0.0, 1.0: 0.0, 1.0: 0.0, 1.0: 0.0, 1.0: 0.0, 1.0: 0.0, 1.0: 0.0, 1.0: 0.0, 1.0: 0.0, 1.0: 0.0, 1.0: 0.0, "
          ]
        },
        {
          "output_type": "stream",
          "name": "stderr",
          "text": [
            "934it [00:06, 223.77it/s]"
          ]
        },
        {
          "output_type": "stream",
          "name": "stdout",
          "text": [
            "1.0: 0.0, 1.0: 0.0, 1.0: 0.0, 1.0: 0.0, 1.0: 0.0, 1.0: 0.0, 1.0: 0.0, 0.0: 1.0, 1.0: 0.0, 1.0: 0.0, 1.0: 0.0, 0.0: 1.0, 1.0: 0.0, "
          ]
        },
        {
          "output_type": "stream",
          "name": "stderr",
          "text": [
            "983it [00:06, 215.86it/s]"
          ]
        },
        {
          "output_type": "stream",
          "name": "stdout",
          "text": [
            "1.0: 0.0, 1.0: 0.0, 1.0: 0.0, 1.0: 0.0, 1.0: 0.0, 1.0: 0.0, 1.0: 0.0, 1.0: 0.0, 1.0: 0.0, 1.0: 0.0, 1.0: 0.0, 1.0: 0.0, 0.0: 1.0, 1.0: 0.0, 1.0: 0.0, 1.0: 0.0, 1.0: 0.0, 1.0: 0.0, 1.0: 0.0, "
          ]
        },
        {
          "output_type": "stream",
          "name": "stderr",
          "text": [
            "1024it [00:07, 142.97it/s]\n"
          ]
        },
        {
          "output_type": "stream",
          "name": "stdout",
          "text": [
            "1.0: 0.0, 1.0: 0.0, 1.0: 0.0, 1.0: 0.0, 1.0: 0.0, 1.0: 0.0, 1.0: 0.0, 1.0: 0.0, 1.0: 0.0, 1.0: 0.0, 0.0: 1.0, 1.0: 0.0, 1.0: 0.0, 1.0: 0.0, \n",
            "Epoch 023: | Loss: 0.72300 | Acc: 58.105\n",
            "\n"
          ]
        },
        {
          "output_type": "stream",
          "name": "stderr",
          "text": [
            "48it [00:00, 230.62it/s]"
          ]
        },
        {
          "output_type": "stream",
          "name": "stdout",
          "text": [
            "1.0: 0.0, 0.0: 1.0, 1.0: 0.0, 1.0: 0.0, 1.0: 0.0, 1.0: 0.0, 0.0: 1.0, 1.0: 0.0, 1.0: 0.0, 0.0: 1.0, 1.0: 0.0, 1.0: 0.0, 1.0: 0.0, 1.0: 0.0, 1.0: 0.0, 0.0: 1.0, 1.0: 0.0, 1.0: "
          ]
        },
        {
          "output_type": "stream",
          "name": "stderr",
          "text": [
            "101it [00:00, 250.24it/s]"
          ]
        },
        {
          "output_type": "stream",
          "name": "stdout",
          "text": [
            "0.0, 1.0: 0.0, 1.0: 0.0, 1.0: 0.0, 1.0: 0.0, 1.0: 0.0, 1.0: 0.0, 1.0: 0.0, 0.0: 1.0, 0.0: 1.0, 1.0: 0.0, 1.0: 0.0, 1.0: 0.0, 1.0: 0.0, 0.0: 1.0, 1.0: 0.0, 0.0: 1.0, "
          ]
        },
        {
          "output_type": "stream",
          "name": "stderr",
          "text": [
            "152it [00:00, 240.26it/s]"
          ]
        },
        {
          "output_type": "stream",
          "name": "stdout",
          "text": [
            "1.0: 0.0, 1.0: 0.0, 1.0: 0.0, 0.0: 1.0, 1.0: 0.0, 1.0: 0.0, 1.0: 0.0, 0.0: 1.0, 1.0: 0.0, 0.0: 1.0, 1.0: 0.0, 1.0: 0.0, 1.0: 0.0, 1.0: 0.0, 1.0: 0.0, 0.0: 1.0, 1.0: 0.0, 1.0: 0.0, 1.0: 0.0, 1.0: 0.0, 1.0: 0.0, 1.0: 0.0, 1.0: 0.0, 1.0: 0.0, 0.0: 1.0, 1.0: 0.0, 1.0: 0.0, 1.0: 0.0, "
          ]
        },
        {
          "output_type": "stream",
          "name": "stderr",
          "text": [
            "\r177it [00:00, 235.12it/s]"
          ]
        },
        {
          "output_type": "stream",
          "name": "stdout",
          "text": [
            "1.0: 0.0, 1.0: 0.0, 0.0: 1.0, 1.0: 0.0, 1.0: 0.0, 1.0: 0.0, 1.0: 0.0, 1.0: 0.0, 1.0: 0.0, 1.0: 0.0, 1.0: 0.0, "
          ]
        },
        {
          "output_type": "stream",
          "name": "stderr",
          "text": [
            "224it [00:01, 172.11it/s]"
          ]
        },
        {
          "output_type": "stream",
          "name": "stdout",
          "text": [
            "1.0: 0.0, 1.0: 0.0, 1.0: 0.0, 1.0: 0.0, 1.0: 0.0, 0.0: 1.0, 1.0: 0.0, 1.0: 0.0, 1.0: 0.0, 1.0: 0.0, 1.0: 0.0, 1.0: 0.0, 1.0: 0.0, 1.0: 0.0, 1.0: 0.0, 1.0: 0.0, 1.0: 0.0, 0.0: 1.0, 1.0: 0.0, 1.0: 0.0, 1.0: 0.0, 1.0: 0.0, 1.0: 0.0, 1.0: 0.0, 1.0: 0.0, 1.0: 0.0, 1.0: 0.0, 0.0: 1.0, "
          ]
        },
        {
          "output_type": "stream",
          "name": "stderr",
          "text": [
            "268it [00:01, 194.22it/s]"
          ]
        },
        {
          "output_type": "stream",
          "name": "stdout",
          "text": [
            "1.0: 0.0, 1.0: 0.0, 1.0: 0.0, 1.0: 0.0, 1.0: 0.0, 0.0: 1.0, 0.0: 1.0, 0.0: 1.0, 1.0: 0.0, 1.0: 0.0, 1.0: 0.0, 1.0: 0.0, 1.0: 0.0, 1.0: 0.0, 1.0: 0.0, 1.0: 0.0, 1.0: 0.0, 1.0: 0.0, 1.0: 0.0, 1.0: 0.0, 1.0: 0.0, 1.0: 0.0, 1.0: 0.0, 1.0: 0.0, 1.0: 0.0, 1.0: 0.0, 1.0: 0.0, 1.0: 0.0, 1.0: "
          ]
        },
        {
          "output_type": "stream",
          "name": "stderr",
          "text": [
            "315it [00:01, 212.31it/s]"
          ]
        },
        {
          "output_type": "stream",
          "name": "stdout",
          "text": [
            "0.0, 0.0: 1.0, 1.0: 0.0, 1.0: 0.0, 1.0: 0.0, 1.0: 0.0, 0.0: 1.0, 1.0: 0.0, 1.0: 0.0, 1.0: 0.0, 1.0: 0.0, 1.0: 0.0, 1.0: 0.0, 1.0: 0.0, 1.0: 0.0, 1.0: 0.0, 1.0: 0.0, 1.0: 0.0, 1.0: 0.0, 1.0: 0.0, 1.0: 0.0, 1.0: 0.0, 1.0: 0.0, 1.0: 0.0, 1.0: 0.0, 1.0: 0.0, 1.0: 0.0, 1.0: 0.0, 1.0: 0.0, 1.0: 0.0, "
          ]
        },
        {
          "output_type": "stream",
          "name": "stderr",
          "text": [
            "361it [00:01, 218.93it/s]"
          ]
        },
        {
          "output_type": "stream",
          "name": "stdout",
          "text": [
            "1.0: 0.0, 1.0: 0.0, 1.0: 0.0, 1.0: 0.0, 1.0: 0.0, 1.0: 0.0, 1.0: 0.0, 1.0: 0.0, 1.0: 0.0, 1.0: 0.0, 1.0: 0.0, 1.0: 0.0, 1.0: 0.0, 1.0: 0.0, 1.0: 0.0, 1.0: 0.0, 1.0: 0.0, 1.0: 0.0, 1.0: 0.0, 1.0: 0.0, 1.0: 0.0, 0.0: 1.0, 1.0: 0.0, 1.0: 0.0, 0.0: 1.0, 1.0: 0.0, 1.0: 0.0, 1.0: 0.0, 1.0: 0.0, "
          ]
        },
        {
          "output_type": "stream",
          "name": "stderr",
          "text": [
            "436it [00:02, 238.21it/s]"
          ]
        },
        {
          "output_type": "stream",
          "name": "stdout",
          "text": [
            "1.0: 0.0, 1.0: 0.0, 1.0: 0.0, 1.0: 0.0, 1.0: 0.0, 1.0: 0.0, 1.0: 0.0, 1.0: 0.0, 1.0: 0.0, 1.0: 0.0, 1.0: 0.0, 1.0: 0.0, 0.0: 1.0, 1.0: 0.0, 1.0: 0.0, 1.0: 0.0, 0.0: 1.0, 0.0: 1.0, 1.0: 0.0, 1.0: 0.0, 0.0: 1.0, 1.0: 0.0, 1.0: 0.0, 0.0: 1.0, 1.0: 0.0, 1.0: 0.0, 1.0: 0.0, 1.0: 0.0, 0.0: 1.0, 1.0: 0.0, 1.0: 0.0, 1.0: 0.0, 1.0: 0.0, 1.0: 0.0, 1.0: 0.0, 0.0: 1.0, 1.0: 0.0, 1.0: 0.0, "
          ]
        },
        {
          "output_type": "stream",
          "name": "stderr",
          "text": [
            "\r461it [00:02, 76.02it/s] "
          ]
        },
        {
          "output_type": "stream",
          "name": "stdout",
          "text": [
            "1.0: 0.0, 1.0: 0.0, 0.0: 1.0, 1.0: 0.0, 1.0: 0.0, 1.0: 0.0, 1.0: 0.0, 0.0: 1.0, 1.0: 0.0, 1.0: 0.0, 0.0: 1.0, "
          ]
        },
        {
          "output_type": "stream",
          "name": "stderr",
          "text": [
            "501it [00:03, 93.00it/s]"
          ]
        },
        {
          "output_type": "stream",
          "name": "stdout",
          "text": [
            "1.0: 0.0, 1.0: 0.0, 1.0: 0.0, 1.0: 0.0, 1.0: 0.0, 0.0: 1.0, 1.0: 0.0, 1.0: 0.0, 1.0: 0.0, 1.0: 0.0, 1.0: 0.0, 1.0: 0.0, 1.0: 0.0, 1.0: 0.0, 1.0: 0.0, 1.0: 0.0, 0.0: 1.0, 1.0: 0.0, "
          ]
        },
        {
          "output_type": "stream",
          "name": "stderr",
          "text": [
            "541it [00:03, 75.51it/s]"
          ]
        },
        {
          "output_type": "stream",
          "name": "stdout",
          "text": [
            "1.0: 0.0, 1.0: 0.0, 1.0: 0.0, 1.0: 0.0, 1.0: 0.0, 0.0: 1.0, 1.0: 0.0, 1.0: 0.0, 1.0: 0.0, 1.0: 0.0, 1.0: 0.0, 1.0: 0.0, 1.0: 0.0, 1.0: 0.0, 1.0: 0.0, 1.0: 0.0, 1.0: 0.0, 1.0: 0.0, 1.0: 0.0, 0.0: 1.0, "
          ]
        },
        {
          "output_type": "stream",
          "name": "stderr",
          "text": [
            "589it [00:04, 119.78it/s]"
          ]
        },
        {
          "output_type": "stream",
          "name": "stdout",
          "text": [
            "1.0: 0.0, 1.0: 0.0, 1.0: 0.0, 1.0: 0.0, 1.0: 0.0, 1.0: 0.0, 1.0: 0.0, 1.0: 0.0, 1.0: 0.0, 1.0: 0.0, 1.0: 0.0, 1.0: 0.0, 1.0: 0.0, 1.0: 0.0, 1.0: 0.0, 0.0: 1.0, 1.0: 0.0, 1.0: 0.0, 1.0: 0.0, "
          ]
        },
        {
          "output_type": "stream",
          "name": "stderr",
          "text": [
            "637it [00:04, 161.78it/s]"
          ]
        },
        {
          "output_type": "stream",
          "name": "stdout",
          "text": [
            "0.0: 1.0, 1.0: 0.0, 1.0: 0.0, 0.0: 1.0, 1.0: 0.0, 1.0: 0.0, 1.0: 0.0, 1.0: 0.0, 1.0: 0.0, 1.0: 0.0, 1.0: 0.0, 1.0: 0.0, 1.0: 0.0, 1.0: 0.0, 1.0: 0.0, 1.0: 0.0, 1.0: 0.0, 0.0: 1.0, 0.0: 1.0, 1.0: 0.0, 1.0: 0.0, 1.0: 0.0, "
          ]
        },
        {
          "output_type": "stream",
          "name": "stderr",
          "text": [
            "684it [00:04, 191.50it/s]"
          ]
        },
        {
          "output_type": "stream",
          "name": "stdout",
          "text": [
            "0.0: 1.0, 1.0: 0.0, 1.0: 0.0, 1.0: 0.0, 1.0: 0.0, 1.0: 0.0, 1.0: 0.0, 1.0: 0.0, 1.0: 0.0, 1.0: 0.0, 1.0: 0.0, 0.0: 1.0, 1.0: 0.0, 1.0: 0.0, 1.0: 0.0, 0.0: 1.0, 0.0: 1.0, 1.0: 0.0, 0.0: 1.0, 1.0: 0.0, 0.0: 1.0, 1.0: 0.0, 1.0: 0.0, 1.0: 0.0, "
          ]
        },
        {
          "output_type": "stream",
          "name": "stderr",
          "text": [
            "734it [00:04, 215.56it/s]"
          ]
        },
        {
          "output_type": "stream",
          "name": "stdout",
          "text": [
            "1.0: 0.0, 1.0: 0.0, 1.0: 0.0, 1.0: 0.0, 0.0: 1.0, 1.0: 0.0, 1.0: 0.0, 1.0: 0.0, 1.0: 0.0, 1.0: 0.0, 0.0: 1.0, 0.0: 1.0, 1.0: 0.0, 1.0: 0.0, 0.0: 1.0, 0.0: 1.0, 1.0: 0.0, 1.0: 0.0, 1.0: 0.0, 0.0: 1.0, 1.0: "
          ]
        },
        {
          "output_type": "stream",
          "name": "stderr",
          "text": [
            "784it [00:04, 231.19it/s]"
          ]
        },
        {
          "output_type": "stream",
          "name": "stdout",
          "text": [
            "0.0, 1.0: 0.0, 1.0: 0.0, 1.0: 0.0, 1.0: 0.0, 1.0: 0.0, 1.0: 0.0, 0.0: 1.0, 0.0: 1.0, 1.0: 0.0, 1.0: 0.0, 1.0: 0.0, 0.0: 1.0, 1.0: 0.0, 1.0: 0.0, 1.0: 0.0, "
          ]
        },
        {
          "output_type": "stream",
          "name": "stderr",
          "text": [
            "836it [00:05, 195.88it/s]"
          ]
        },
        {
          "output_type": "stream",
          "name": "stdout",
          "text": [
            "0.0: 1.0, 1.0: 0.0, 1.0: 0.0, 1.0: 0.0, 1.0: 0.0, 0.0: 1.0, 1.0: 0.0, 1.0: 0.0, 1.0: 0.0, 1.0: 0.0, 0.0: 1.0, 1.0: 0.0, 1.0: 0.0, 1.0: 0.0, 1.0: 0.0, 1.0: 0.0, 0.0: 1.0, "
          ]
        },
        {
          "output_type": "stream",
          "name": "stderr",
          "text": [
            "884it [00:06, 109.88it/s]"
          ]
        },
        {
          "output_type": "stream",
          "name": "stdout",
          "text": [
            "1.0: 0.0, 1.0: 0.0, 1.0: 0.0, 1.0: 0.0, 1.0: 0.0, 1.0: 0.0, 1.0: 0.0, 1.0: 0.0, 0.0: 1.0, 1.0: 0.0, 1.0: 0.0, 0.0: 1.0, 1.0: 0.0, 1.0: 0.0, 1.0: 0.0, 1.0: 0.0, 1.0: 0.0, 1.0: 0.0, "
          ]
        },
        {
          "output_type": "stream",
          "name": "stderr",
          "text": [
            "933it [00:06, 151.75it/s]"
          ]
        },
        {
          "output_type": "stream",
          "name": "stdout",
          "text": [
            "1.0: 0.0, 0.0: 1.0, 1.0: 0.0, 1.0: 0.0, 1.0: 0.0, 1.0: 0.0, 1.0: 0.0, 1.0: 0.0, 1.0: 0.0, 0.0: 1.0, 1.0: 0.0, 1.0: 0.0, 1.0: 0.0, 1.0: 0.0, 0.0: 1.0, 1.0: 0.0, 1.0: 0.0, 1.0: 0.0, 1.0: 0.0, 1.0: 0.0, 1.0: 0.0, "
          ]
        },
        {
          "output_type": "stream",
          "name": "stderr",
          "text": [
            "981it [00:06, 187.17it/s]"
          ]
        },
        {
          "output_type": "stream",
          "name": "stdout",
          "text": [
            "1.0: 0.0, 1.0: 0.0, 1.0: 0.0, 1.0: 0.0, 1.0: 0.0, 1.0: 0.0, 1.0: 0.0, 1.0: 0.0, 0.0: 1.0, 1.0: 0.0, 1.0: 0.0, 1.0: 0.0, 1.0: 0.0, 1.0: 0.0, 1.0: 0.0, 1.0: 0.0, 1.0: 0.0, 1.0: 0.0, 1.0: 0.0, 1.0: 0.0, "
          ]
        },
        {
          "output_type": "stream",
          "name": "stderr",
          "text": [
            "1024it [00:06, 154.33it/s]\n"
          ]
        },
        {
          "output_type": "stream",
          "name": "stdout",
          "text": [
            "1.0: 0.0, 0.0: 1.0, 0.0: 1.0, 1.0: 0.0, 1.0: 0.0, 1.0: 0.0, 1.0: 0.0, 0.0: 1.0, 1.0: 0.0, 1.0: 0.0, 1.0: 0.0, 1.0: 0.0, 1.0: 0.0, 0.0: 1.0, 1.0: 0.0, 1.0: 0.0, \n",
            "Epoch 024: | Loss: 0.74005 | Acc: 54.297\n",
            "\n"
          ]
        },
        {
          "output_type": "stream",
          "name": "stderr",
          "text": [
            "\r0it [00:00, ?it/s]"
          ]
        },
        {
          "output_type": "stream",
          "name": "stdout",
          "text": [
            "1.0: 0.0, "
          ]
        },
        {
          "output_type": "stream",
          "name": "stderr",
          "text": [
            "\r24it [00:00, 229.74it/s]"
          ]
        },
        {
          "output_type": "stream",
          "name": "stdout",
          "text": [
            "1.0: 0.0, 1.0: 0.0, 1.0: 0.0, 1.0: 0.0, 1.0: 0.0, 1.0: 0.0, "
          ]
        },
        {
          "output_type": "stream",
          "name": "stderr",
          "text": [
            "\r47it [00:00, 109.37it/s]"
          ]
        },
        {
          "output_type": "stream",
          "name": "stdout",
          "text": [
            "1.0: 0.0, 1.0: 0.0, 1.0: 0.0, 1.0: 0.0, 1.0: 0.0, 1.0: 0.0, 1.0: 0.0, 1.0: 0.0, 1.0: 0.0, 1.0: 0.0, 0.0: 1.0, 0.0: 1.0, 1.0: 0.0, 1.0: 0.0, 1.0: 0.0, 1.0: 0.0, "
          ]
        },
        {
          "output_type": "stream",
          "name": "stderr",
          "text": [
            "124it [00:00, 198.66it/s]"
          ]
        },
        {
          "output_type": "stream",
          "name": "stdout",
          "text": [
            "1.0: 0.0, 0.0: 1.0, 1.0: 0.0, 0.0: 1.0, 1.0: 0.0, 1.0: 0.0, 1.0: 0.0, 1.0: 0.0, 1.0: 0.0, 1.0: 0.0, 1.0: 0.0, 1.0: 0.0, 0.0: 1.0, 1.0: 0.0, 0.0: 1.0, 1.0: 0.0, 1.0: 0.0, 1.0: 0.0, "
          ]
        },
        {
          "output_type": "stream",
          "name": "stderr",
          "text": [
            "172it [00:00, 214.39it/s]"
          ]
        },
        {
          "output_type": "stream",
          "name": "stdout",
          "text": [
            "1.0: 0.0, 0.0: 1.0, 1.0: 0.0, 1.0: 0.0, 1.0: 0.0, 1.0: 0.0, 1.0: 0.0, 1.0: 0.0, 0.0: 1.0, 1.0: 0.0, 1.0: 0.0, 1.0: 0.0, 1.0: 0.0, 1.0: 0.0, 1.0: 0.0, 1.0: 0.0, 1.0: 0.0, 1.0: 0.0, 1.0: 0.0, 0.0: 1.0, 1.0: 0.0, 1.0: 0.0, 1.0: 0.0, 1.0: 0.0, 1.0: 0.0, 1.0: 0.0, 1.0: 0.0, 1.0: 0.0, 0.0: 1.0, "
          ]
        },
        {
          "output_type": "stream",
          "name": "stderr",
          "text": [
            "220it [00:01, 225.17it/s]"
          ]
        },
        {
          "output_type": "stream",
          "name": "stdout",
          "text": [
            "1.0: 0.0, 1.0: 0.0, 1.0: 0.0, 1.0: 0.0, 1.0: 0.0, 1.0: 0.0, 1.0: 0.0, 1.0: 0.0, 1.0: 0.0, 1.0: 0.0, 1.0: 0.0, 1.0: 0.0, 1.0: 0.0, 1.0: 0.0, 1.0: 0.0, 1.0: 0.0, 1.0: 0.0, 0.0: 1.0, 1.0: 0.0, 1.0: 0.0, 1.0: 0.0, 1.0: 0.0, 1.0: 0.0, 1.0: 0.0, 1.0: 0.0, "
          ]
        },
        {
          "output_type": "stream",
          "name": "stderr",
          "text": [
            "267it [00:01, 219.50it/s]"
          ]
        },
        {
          "output_type": "stream",
          "name": "stdout",
          "text": [
            "1.0: 0.0, 1.0: 0.0, 1.0: 0.0, 1.0: 0.0, 1.0: 0.0, 1.0: 0.0, 1.0: 0.0, 1.0: 0.0, 1.0: 0.0, 1.0: 0.0, 1.0: 0.0, 0.0: 1.0, 1.0: 0.0, 1.0: 0.0, 1.0: 0.0, 1.0: 0.0, 1.0: 0.0, 1.0: 0.0, 1.0: 0.0, 1.0: 0.0, 1.0: 0.0, 1.0: 0.0, 1.0: 0.0, "
          ]
        },
        {
          "output_type": "stream",
          "name": "stderr",
          "text": [
            "317it [00:01, 208.38it/s]"
          ]
        },
        {
          "output_type": "stream",
          "name": "stdout",
          "text": [
            "1.0: 0.0, 0.0: 1.0, 1.0: 0.0, 1.0: 0.0, 1.0: 0.0, 1.0: 0.0, 1.0: 0.0, 0.0: 1.0, 1.0: 0.0, 1.0: 0.0, 1.0: 0.0, 1.0: 0.0, 1.0: 0.0, 1.0: 0.0, 1.0: 0.0, 1.0: 0.0, 1.0: 0.0, 1.0: 0.0, 1.0: 0.0, 1.0: 0.0, 0.0: 1.0, 1.0: 0.0, 1.0: 0.0, 1.0: 0.0, 1.0: 0.0, 1.0: 0.0, 1.0: 0.0, "
          ]
        },
        {
          "output_type": "stream",
          "name": "stderr",
          "text": [
            "362it [00:02, 105.26it/s]"
          ]
        },
        {
          "output_type": "stream",
          "name": "stdout",
          "text": [
            "1.0: 0.0, 1.0: 0.0, 1.0: 0.0, 1.0: 0.0, 1.0: 0.0, 1.0: 0.0, 1.0: 0.0, 1.0: 0.0, 1.0: 0.0, 1.0: 0.0, 1.0: 0.0, 1.0: 0.0, 0.0: 1.0, 1.0: 0.0, 1.0: 0.0, 1.0: 0.0, 1.0: 0.0, 1.0: 0.0, 0.0: 1.0, 1.0: 0.0, 1.0: 0.0, 1.0: 0.0, 1.0: 0.0, 1.0: 0.0, 1.0: 0.0, 0.0: 1.0, 1.0: 0.0, 1.0: 0.0, 1.0: 0.0, 1.0: 0.0, 1.0: 0.0, 1.0: 0.0, 1.0: 0.0, "
          ]
        },
        {
          "output_type": "stream",
          "name": "stderr",
          "text": [
            "406it [00:02, 142.00it/s]"
          ]
        },
        {
          "output_type": "stream",
          "name": "stdout",
          "text": [
            "1.0: 0.0, 1.0: 0.0, 1.0: 0.0, 1.0: 0.0, 1.0: 0.0, 1.0: 0.0, 1.0: 0.0, 1.0: 0.0, 1.0: 0.0, 1.0: 0.0, 1.0: 0.0, 0.0: 1.0, 1.0: 0.0, 1.0: 0.0, 0.0: 1.0, 1.0: 0.0, 1.0: 0.0, 1.0: 0.0, 1.0: 0.0, 1.0: 0.0, 1.0: 0.0, 0.0: 1.0, "
          ]
        },
        {
          "output_type": "stream",
          "name": "stderr",
          "text": [
            "450it [00:03, 92.76it/s]"
          ]
        },
        {
          "output_type": "stream",
          "name": "stdout",
          "text": [
            "1.0: 0.0, 1.0: 0.0, 1.0: 0.0, 1.0: 0.0, 1.0: 0.0, 1.0: 0.0, 1.0: 0.0, 1.0: 0.0, 0.0: 1.0, 1.0: 0.0, 1.0: 0.0, 1.0: 0.0, 1.0: 0.0, 1.0: 0.0, 0.0: 1.0, 1.0: 0.0, 1.0: 0.0, 1.0: 0.0, 1.0: 0.0, 0.0: 1.0, 0.0: 1.0, 1.0: 0.0, 1.0: 0.0, "
          ]
        },
        {
          "output_type": "stream",
          "name": "stderr",
          "text": [
            "499it [00:03, 137.49it/s]"
          ]
        },
        {
          "output_type": "stream",
          "name": "stdout",
          "text": [
            "0.0: 1.0, 1.0: 0.0, 1.0: 0.0, 1.0: 0.0, 1.0: 0.0, 1.0: 0.0, 1.0: 0.0, 1.0: 0.0, 1.0: 0.0, 1.0: 0.0, 1.0: 0.0, 1.0: 0.0, 1.0: 0.0, 1.0: 0.0, 1.0: 0.0, 1.0: 0.0, 1.0: 0.0, 1.0: 0.0, 1.0: 0.0, 1.0: 0.0, 1.0: 0.0, "
          ]
        },
        {
          "output_type": "stream",
          "name": "stderr",
          "text": [
            "547it [00:03, 176.28it/s]"
          ]
        },
        {
          "output_type": "stream",
          "name": "stdout",
          "text": [
            "1.0: 0.0, 1.0: 0.0, 1.0: 0.0, 0.0: 1.0, 0.0: 1.0, 1.0: 0.0, 1.0: 0.0, 1.0: 0.0, 1.0: 0.0, 1.0: 0.0, 1.0: 0.0, 1.0: 0.0, 1.0: 0.0, 1.0: 0.0, 1.0: 0.0, 1.0: 0.0, 1.0: 0.0, 1.0: 0.0, 1.0: 0.0, 1.0: 0.0, 1.0: 0.0, 1.0: 0.0, "
          ]
        },
        {
          "output_type": "stream",
          "name": "stderr",
          "text": [
            "597it [00:03, 207.55it/s]"
          ]
        },
        {
          "output_type": "stream",
          "name": "stdout",
          "text": [
            "1.0: 0.0, 1.0: 0.0, 1.0: 0.0, 1.0: 0.0, 1.0: 0.0, 1.0: 0.0, 1.0: 0.0, 1.0: 0.0, 1.0: 0.0, 1.0: 0.0, 1.0: 0.0, 0.0: 1.0, 1.0: 0.0, 1.0: 0.0, 1.0: 0.0, 1.0: 0.0, 1.0: 0.0, "
          ]
        },
        {
          "output_type": "stream",
          "name": "stderr",
          "text": [
            "646it [00:04, 221.18it/s]"
          ]
        },
        {
          "output_type": "stream",
          "name": "stdout",
          "text": [
            "1.0: 0.0, 1.0: 0.0, 1.0: 0.0, 1.0: 0.0, 1.0: 0.0, 1.0: 0.0, 1.0: 0.0, 1.0: 0.0, 1.0: 0.0, 1.0: 0.0, 1.0: 0.0, 1.0: 0.0, 1.0: 0.0, 0.0: 1.0, 1.0: 0.0, 0.0: 1.0, 1.0: 0.0, 1.0: 0.0, 1.0: 0.0, 1.0: 0.0, 1.0: 0.0, "
          ]
        },
        {
          "output_type": "stream",
          "name": "stderr",
          "text": [
            "696it [00:04, 233.37it/s]"
          ]
        },
        {
          "output_type": "stream",
          "name": "stdout",
          "text": [
            "1.0: 0.0, 1.0: 0.0, 1.0: 0.0, 1.0: 0.0, 1.0: 0.0, 1.0: 0.0, 1.0: 0.0, 1.0: 0.0, 1.0: 0.0, 1.0: 0.0, 1.0: 0.0, 1.0: 0.0, 0.0: 1.0, 1.0: 0.0, 1.0: 0.0, "
          ]
        },
        {
          "output_type": "stream",
          "name": "stderr",
          "text": [
            "747it [00:04, 194.43it/s]"
          ]
        },
        {
          "output_type": "stream",
          "name": "stdout",
          "text": [
            "1.0: 0.0, 1.0: 0.0, 0.0: 1.0, 1.0: 0.0, 0.0: 1.0, 1.0: 0.0, 1.0: 0.0, 1.0: 0.0, 1.0: 0.0, 1.0: 0.0, 0.0: 1.0, 1.0: 0.0, 1.0: 0.0, 1.0: 0.0, 1.0: 0.0, 1.0: 0.0, 1.0: 0.0, "
          ]
        },
        {
          "output_type": "stream",
          "name": "stderr",
          "text": [
            "797it [00:04, 217.49it/s]"
          ]
        },
        {
          "output_type": "stream",
          "name": "stdout",
          "text": [
            "1.0: 0.0, 1.0: 0.0, 0.0: 1.0, 1.0: 0.0, 1.0: 0.0, 1.0: 0.0, 0.0: 1.0, 1.0: 0.0, 1.0: 0.0, 1.0: 0.0, 1.0: 0.0, 1.0: 0.0, 1.0: 0.0, 1.0: 0.0, 0.0: 1.0, 1.0: 0.0, 1.0: 0.0, 1.0: 0.0, "
          ]
        },
        {
          "output_type": "stream",
          "name": "stderr",
          "text": [
            "846it [00:05, 228.08it/s]"
          ]
        },
        {
          "output_type": "stream",
          "name": "stdout",
          "text": [
            "1.0: 0.0, 1.0: 0.0, 1.0: 0.0, 1.0: 0.0, 1.0: 0.0, 1.0: 0.0, 1.0: 0.0, 1.0: 0.0, 1.0: 0.0, 1.0: 0.0, 1.0: 0.0, 1.0: 0.0, 1.0: 0.0, 1.0: 0.0, 1.0: 0.0, 1.0: 0.0, 1.0: 0.0, 0.0: 1.0, 1.0: 0.0, 1.0: 0.0, "
          ]
        },
        {
          "output_type": "stream",
          "name": "stderr",
          "text": [
            "896it [00:05, 236.99it/s]"
          ]
        },
        {
          "output_type": "stream",
          "name": "stdout",
          "text": [
            "0.0: 1.0, 1.0: 0.0, 1.0: 0.0, 1.0: 0.0, 0.0: 1.0, 1.0: 0.0, 1.0: 0.0, 0.0: 1.0, 1.0: 0.0, 1.0: 0.0, 0.0: 1.0, 1.0: 0.0, 1.0: 0.0, 1.0: 0.0, 1.0: 0.0, 0.0: 1.0, 1.0: 0.0, 1.0: 0.0, "
          ]
        },
        {
          "output_type": "stream",
          "name": "stderr",
          "text": [
            "\r921it [00:05, 189.92it/s]"
          ]
        },
        {
          "output_type": "stream",
          "name": "stdout",
          "text": [
            "1.0: 0.0, 1.0: 0.0, 0.0: 1.0, 0.0: 1.0, 1.0: 0.0, 1.0: 0.0, 1.0: 0.0, 1.0: 0.0, 1.0: 0.0, 1.0: 0.0, 0.0: 1.0, 1.0: 0.0, 1.0: 0.0, 0.0: 1.0, 1.0: 0.0, 1.0: 0.0, 0.0: 1.0, 0.0: 1.0, 1.0: 0.0, "
          ]
        },
        {
          "output_type": "stream",
          "name": "stderr",
          "text": [
            "969it [00:05, 210.93it/s]"
          ]
        },
        {
          "output_type": "stream",
          "name": "stdout",
          "text": [
            "1.0: 0.0, 1.0: 0.0, 1.0: 0.0, 1.0: 0.0, 1.0: 0.0, 1.0: 0.0, 0.0: 1.0, 1.0: 0.0, 1.0: 0.0, 0.0: 1.0, 1.0: 0.0, 1.0: 0.0, 1.0: 0.0, 1.0: 0.0, 1.0: 0.0, 1.0: 0.0, 1.0: 0.0, 1.0: 0.0, 1.0: "
          ]
        },
        {
          "output_type": "stream",
          "name": "stderr",
          "text": [
            "1024it [00:05, 173.31it/s]\n"
          ]
        },
        {
          "output_type": "stream",
          "name": "stdout",
          "text": [
            "0.0, 1.0: 0.0, 1.0: 0.0, 1.0: 0.0, 1.0: 0.0, 0.0: 1.0, 1.0: 0.0, 1.0: 0.0, 1.0: 0.0, 0.0: 1.0, 1.0: 0.0, 0.0: 1.0, 1.0: 0.0, 1.0: 0.0, \n",
            "Epoch 025: | Loss: 0.72890 | Acc: 56.738\n",
            "\n"
          ]
        },
        {
          "output_type": "stream",
          "name": "stderr",
          "text": [
            "\r0it [00:00, ?it/s]"
          ]
        },
        {
          "output_type": "stream",
          "name": "stdout",
          "text": [
            "0.0: 1.0, 1.0: 0.0, "
          ]
        },
        {
          "output_type": "stream",
          "name": "stderr",
          "text": [
            "\r24it [00:00, 239.71it/s]"
          ]
        },
        {
          "output_type": "stream",
          "name": "stdout",
          "text": [
            "1.0: 0.0, 1.0: 0.0, 1.0: 0.0, 1.0: 0.0, 1.0: 0.0, 1.0: 0.0, 1.0: 0.0, 1.0: 0.0, 1.0: 0.0, 1.0: 0.0, 1.0: 0.0, 1.0: 0.0, 1.0: 0.0, 1.0: 0.0, "
          ]
        },
        {
          "output_type": "stream",
          "name": "stderr",
          "text": [
            "99it [00:00, 187.44it/s]"
          ]
        },
        {
          "output_type": "stream",
          "name": "stdout",
          "text": [
            "1.0: 0.0, 0.0: 1.0, 0.0: 1.0, 1.0: 0.0, 1.0: 0.0, 0.0: 1.0, 1.0: 0.0, 1.0: 0.0, 1.0: 0.0, 1.0: 0.0, 0.0: 1.0, 0.0: 1.0, 1.0: 0.0, 1.0: 0.0, 1.0: 0.0, 1.0: 0.0, 0.0: 1.0, 1.0: 0.0, 0.0: 1.0, 0.0: 1.0, 1.0: 0.0, 0.0: 1.0, 1.0: 0.0, "
          ]
        },
        {
          "output_type": "stream",
          "name": "stderr",
          "text": [
            "165it [00:01, 90.09it/s]"
          ]
        },
        {
          "output_type": "stream",
          "name": "stdout",
          "text": [
            "1.0: 0.0, 1.0: 0.0, 1.0: 0.0, 0.0: 1.0, 1.0: 0.0, 1.0: 0.0, 1.0: 0.0, 1.0: 0.0, 1.0: 0.0, 1.0: 0.0, 1.0: 0.0, 1.0: 0.0, 1.0: 0.0, 1.0: 0.0, 1.0: 0.0, 1.0: 0.0, 1.0: 0.0, 1.0: 0.0, 1.0: 0.0, 1.0: 0.0, 1.0: 0.0, 1.0: 0.0, 1.0: 0.0, 1.0: 0.0, 1.0: 0.0, 0.0: 1.0, 1.0: 0.0, 1.0: 0.0, "
          ]
        },
        {
          "output_type": "stream",
          "name": "stderr",
          "text": [
            "211it [00:01, 132.07it/s]"
          ]
        },
        {
          "output_type": "stream",
          "name": "stdout",
          "text": [
            "1.0: 0.0, 1.0: 0.0, 1.0: 0.0, 1.0: 0.0, 1.0: 0.0, 1.0: 0.0, 1.0: 0.0, 1.0: 0.0, 1.0: 0.0, 1.0: 0.0, 1.0: 0.0, 0.0: 1.0, 1.0: 0.0, 1.0: 0.0, 1.0: 0.0, 1.0: 0.0, 1.0: 0.0, 1.0: 0.0, 1.0: 0.0, 1.0: 0.0, 1.0: 0.0, 1.0: 0.0, 1.0: 0.0, 1.0: 0.0, "
          ]
        },
        {
          "output_type": "stream",
          "name": "stderr",
          "text": [
            "258it [00:01, 171.07it/s]"
          ]
        },
        {
          "output_type": "stream",
          "name": "stdout",
          "text": [
            "1.0: 0.0, 1.0: 0.0, 1.0: 0.0, 1.0: 0.0, 1.0: 0.0, 1.0: 0.0, 1.0: 0.0, 1.0: 0.0, 1.0: 0.0, 1.0: 0.0, 1.0: 0.0, 1.0: 0.0, 1.0: 0.0, 1.0: 0.0, 1.0: 0.0, 1.0: 0.0, 1.0: 0.0, 1.0: 0.0, 1.0: 0.0, 1.0: 0.0, 1.0: 0.0, 1.0: 0.0, 1.0: 0.0, 1.0: 0.0, 1.0: 0.0, 1.0: 0.0, 1.0: 0.0, 1.0: 0.0, "
          ]
        },
        {
          "output_type": "stream",
          "name": "stderr",
          "text": [
            "304it [00:02, 196.56it/s]"
          ]
        },
        {
          "output_type": "stream",
          "name": "stdout",
          "text": [
            "1.0: 0.0, 1.0: 0.0, 1.0: 0.0, 1.0: 0.0, 1.0: 0.0, 1.0: 0.0, 1.0: 0.0, 1.0: 0.0, 1.0: 0.0, 1.0: 0.0, 1.0: 0.0, 0.0: 1.0, 1.0: 0.0, 1.0: 0.0, 1.0: 0.0, 1.0: 0.0, 1.0: 0.0, 1.0: 0.0, 1.0: 0.0, 1.0: 0.0, 0.0: 1.0, 1.0: 0.0, 1.0: 0.0, 1.0: 0.0, 1.0: 0.0, 1.0: 0.0, "
          ]
        },
        {
          "output_type": "stream",
          "name": "stderr",
          "text": [
            "351it [00:02, 208.19it/s]"
          ]
        },
        {
          "output_type": "stream",
          "name": "stdout",
          "text": [
            "1.0: 0.0, 0.0: 1.0, 1.0: 0.0, 1.0: 0.0, 1.0: 0.0, 1.0: 0.0, 1.0: 0.0, 1.0: 0.0, 1.0: 0.0, 1.0: 0.0, 1.0: 0.0, 1.0: 0.0, 1.0: 0.0, 1.0: 0.0, 1.0: 0.0, 1.0: 0.0, 1.0: 0.0, 1.0: 0.0, 1.0: 0.0, 1.0: 0.0, 1.0: 0.0, 1.0: 0.0, 1.0: 0.0, "
          ]
        },
        {
          "output_type": "stream",
          "name": "stderr",
          "text": [
            "\r374it [00:02, 125.50it/s]"
          ]
        },
        {
          "output_type": "stream",
          "name": "stdout",
          "text": [
            "1.0: 0.0, 1.0: 0.0, 1.0: 0.0, 1.0: 0.0, 1.0: 0.0, 1.0: 0.0, 1.0: 0.0, 1.0: 0.0, 1.0: 0.0, 0.0: 1.0, 1.0: 0.0, 1.0: 0.0, 1.0: 0.0, 1.0: 0.0, 1.0: 0.0, 1.0: 0.0, "
          ]
        },
        {
          "output_type": "stream",
          "name": "stderr",
          "text": [
            "416it [00:03, 88.35it/s]"
          ]
        },
        {
          "output_type": "stream",
          "name": "stdout",
          "text": [
            "1.0: 0.0, 1.0: 0.0, 1.0: 0.0, 1.0: 0.0, 1.0: 0.0, 1.0: 0.0, 1.0: 0.0, 1.0: 0.0, 1.0: 0.0, 1.0: 0.0, 1.0: 0.0, 1.0: 0.0, 1.0: 0.0, 1.0: 0.0, 0.0: 1.0, 1.0: 0.0, 1.0: 0.0, 1.0: 0.0, 1.0: 0.0, 1.0: 0.0, 1.0: 0.0, 1.0: "
          ]
        },
        {
          "output_type": "stream",
          "name": "stderr",
          "text": [
            "463it [00:03, 131.52it/s]"
          ]
        },
        {
          "output_type": "stream",
          "name": "stdout",
          "text": [
            "0.0, 1.0: 0.0, 1.0: 0.0, 1.0: 0.0, 1.0: 0.0, 1.0: 0.0, 0.0: 1.0, 1.0: 0.0, 1.0: 0.0, 1.0: 0.0, 0.0: 1.0, 1.0: 0.0, 1.0: 0.0, 1.0: 0.0, 1.0: 0.0, 1.0: 0.0, 1.0: 0.0, 1.0: 0.0, 1.0: 0.0, "
          ]
        },
        {
          "output_type": "stream",
          "name": "stderr",
          "text": [
            "507it [00:04, 77.06it/s] "
          ]
        },
        {
          "output_type": "stream",
          "name": "stdout",
          "text": [
            "1.0: 0.0, 0.0: 1.0, 1.0: 0.0, 1.0: 0.0, 1.0: 0.0, 1.0: 0.0, 1.0: 0.0, 1.0: 0.0, 1.0: 0.0, 1.0: 0.0, 1.0: 0.0, 0.0: 1.0, 1.0: 0.0, 1.0: 0.0, 1.0: 0.0, 1.0: 0.0, 1.0: 0.0, 1.0: 0.0, 1.0: 0.0, 0.0: 1.0, 1.0: 0.0, 0.0: 1.0, 0.0: 1.0, 1.0: 0.0, 1.0: 0.0, "
          ]
        },
        {
          "output_type": "stream",
          "name": "stderr",
          "text": [
            "580it [00:04, 142.42it/s]"
          ]
        },
        {
          "output_type": "stream",
          "name": "stdout",
          "text": [
            "1.0: 0.0, 1.0: 0.0, 1.0: 0.0, 1.0: 0.0, 1.0: 0.0, 1.0: 0.0, 1.0: 0.0, 0.0: 1.0, 1.0: 0.0, 1.0: 0.0, 1.0: 0.0, 1.0: 0.0, 1.0: 0.0, 1.0: 0.0, 1.0: 0.0, 1.0: 0.0, 1.0: 0.0, 1.0: 0.0, 0.0: 1.0, 1.0: 0.0, 1.0: 0.0, 0.0: 1.0, 1.0: 0.0, "
          ]
        },
        {
          "output_type": "stream",
          "name": "stderr",
          "text": [
            "\r603it [00:04, 160.16it/s]"
          ]
        },
        {
          "output_type": "stream",
          "name": "stdout",
          "text": [
            "1.0: 0.0, 1.0: 0.0, 1.0: 0.0, 1.0: 0.0, 1.0: 0.0, 1.0: 0.0, "
          ]
        },
        {
          "output_type": "stream",
          "name": "stderr",
          "text": [
            "652it [00:05, 102.96it/s]"
          ]
        },
        {
          "output_type": "stream",
          "name": "stdout",
          "text": [
            "1.0: 0.0, 1.0: 0.0, 1.0: 0.0, 1.0: 0.0, 1.0: 0.0, 1.0: 0.0, 1.0: 0.0, 1.0: 0.0, 1.0: 0.0, 0.0: 1.0, 1.0: 0.0, 1.0: 0.0, 1.0: 0.0, 1.0: 0.0, 1.0: 0.0, 1.0: 0.0, 0.0: 1.0, 0.0: 1.0, 1.0: 0.0, 1.0: 0.0, 1.0: 0.0, 1.0: 0.0, "
          ]
        },
        {
          "output_type": "stream",
          "name": "stderr",
          "text": [
            "700it [00:05, 144.29it/s]"
          ]
        },
        {
          "output_type": "stream",
          "name": "stdout",
          "text": [
            "0.0: 1.0, 1.0: 0.0, 1.0: 0.0, 1.0: 0.0, 1.0: 0.0, 1.0: 0.0, 1.0: 0.0, 1.0: 0.0, 1.0: 0.0, 1.0: 0.0, 1.0: 0.0, 1.0: 0.0, 1.0: 0.0, 1.0: 0.0, 1.0: 0.0, 1.0: 0.0, 1.0: 0.0, 1.0: 0.0, "
          ]
        },
        {
          "output_type": "stream",
          "name": "stderr",
          "text": [
            "747it [00:06, 90.06it/s]"
          ]
        },
        {
          "output_type": "stream",
          "name": "stdout",
          "text": [
            "1.0: 0.0, 1.0: 0.0, 1.0: 0.0, 1.0: 0.0, 1.0: 0.0, 1.0: 0.0, 1.0: 0.0, 1.0: 0.0, 1.0: 0.0, 1.0: 0.0, 1.0: 0.0, 1.0: 0.0, 0.0: 1.0, 0.0: 1.0, 1.0: 0.0, 1.0: 0.0, 1.0: 0.0, "
          ]
        },
        {
          "output_type": "stream",
          "name": "stderr",
          "text": [
            "792it [00:06, 127.16it/s]"
          ]
        },
        {
          "output_type": "stream",
          "name": "stdout",
          "text": [
            "1.0: 0.0, 1.0: 0.0, 1.0: 0.0, 1.0: 0.0, 1.0: 0.0, 1.0: 0.0, 1.0: 0.0, 1.0: 0.0, 0.0: 1.0, 1.0: 0.0, 0.0: 1.0, 1.0: 0.0, 1.0: 0.0, 1.0: 0.0, 1.0: 0.0, 0.0: 1.0, 0.0: 1.0, "
          ]
        },
        {
          "output_type": "stream",
          "name": "stderr",
          "text": [
            "838it [00:07, 88.61it/s]"
          ]
        },
        {
          "output_type": "stream",
          "name": "stdout",
          "text": [
            "1.0: 0.0, 1.0: 0.0, 1.0: 0.0, 1.0: 0.0, 1.0: 0.0, 1.0: 0.0, 1.0: 0.0, 1.0: 0.0, 1.0: 0.0, 1.0: 0.0, 1.0: 0.0, 1.0: 0.0, 1.0: 0.0, 1.0: 0.0, 1.0: 0.0, 1.0: 0.0, 1.0: 0.0, 1.0: 0.0, "
          ]
        },
        {
          "output_type": "stream",
          "name": "stderr",
          "text": [
            "886it [00:07, 131.89it/s]"
          ]
        },
        {
          "output_type": "stream",
          "name": "stdout",
          "text": [
            "0.0: 1.0, 1.0: 0.0, 1.0: 0.0, 0.0: 1.0, 1.0: 0.0, 1.0: 0.0, 1.0: 0.0, 1.0: 0.0, 1.0: 0.0, 1.0: 0.0, 1.0: 0.0, 1.0: 0.0, 1.0: 0.0, 0.0: 1.0, 1.0: 0.0, 0.0: 1.0, 1.0: 0.0, 1.0: 0.0, 1.0: 0.0, 1.0: 0.0, "
          ]
        },
        {
          "output_type": "stream",
          "name": "stderr",
          "text": [
            "932it [00:07, 167.22it/s]"
          ]
        },
        {
          "output_type": "stream",
          "name": "stdout",
          "text": [
            "1.0: 0.0, 1.0: 0.0, 1.0: 0.0, 1.0: 0.0, 1.0: 0.0, 1.0: 0.0, 1.0: 0.0, 1.0: 0.0, 1.0: 0.0, 1.0: 0.0, 1.0: 0.0, 0.0: 1.0, 1.0: 0.0, 1.0: 0.0, 1.0: 0.0, 1.0: 0.0, 0.0: 1.0, 1.0: 0.0, 1.0: 0.0, 1.0: 0.0, 0.0: 1.0, 1.0: 0.0, "
          ]
        },
        {
          "output_type": "stream",
          "name": "stderr",
          "text": [
            "982it [00:08, 201.54it/s]"
          ]
        },
        {
          "output_type": "stream",
          "name": "stdout",
          "text": [
            "1.0: 0.0, 1.0: 0.0, 1.0: 0.0, 1.0: 0.0, 1.0: 0.0, 1.0: 0.0, 1.0: 0.0, 1.0: 0.0, 0.0: 1.0, 1.0: 0.0, 1.0: 0.0, 1.0: 0.0, 1.0: 0.0, 1.0: 0.0, 1.0: 0.0, 1.0: 0.0, 1.0: 0.0, 1.0: 0.0, 0.0: 1.0, 1.0: 0.0, 0.0: 1.0, 1.0: 0.0, "
          ]
        },
        {
          "output_type": "stream",
          "name": "stderr",
          "text": [
            "1024it [00:08, 124.25it/s]\n"
          ]
        },
        {
          "output_type": "stream",
          "name": "stdout",
          "text": [
            "1.0: 0.0, 1.0: 0.0, 1.0: 0.0, 1.0: 0.0, 1.0: 0.0, 1.0: 0.0, 1.0: 0.0, 1.0: 0.0, 1.0: 0.0, 1.0: 0.0, 1.0: 0.0, \n",
            "Epoch 026: | Loss: 0.73175 | Acc: 56.543\n",
            "\n"
          ]
        },
        {
          "output_type": "stream",
          "name": "stderr",
          "text": [
            "25it [00:00, 243.33it/s]"
          ]
        },
        {
          "output_type": "stream",
          "name": "stdout",
          "text": [
            "1.0: 0.0, 0.0: 1.0, 1.0: 0.0, 1.0: 0.0, 1.0: 0.0, 1.0: 0.0, 1.0: 0.0, 1.0: 0.0, 1.0: 0.0, "
          ]
        },
        {
          "output_type": "stream",
          "name": "stderr",
          "text": [
            "\r50it [00:00, 107.62it/s]"
          ]
        },
        {
          "output_type": "stream",
          "name": "stdout",
          "text": [
            "1.0: 0.0, 0.0: 1.0, 1.0: 0.0, 1.0: 0.0, 1.0: 0.0, 1.0: 0.0, 1.0: 0.0, 1.0: 0.0, 1.0: 0.0, 1.0: 0.0, 1.0: 0.0, 1.0: 0.0, 1.0: 0.0, "
          ]
        },
        {
          "output_type": "stream",
          "name": "stderr",
          "text": [
            "\r72it [00:00, 136.91it/s]"
          ]
        },
        {
          "output_type": "stream",
          "name": "stdout",
          "text": [
            "1.0: 0.0, 1.0: 0.0, 0.0: 1.0, 1.0: 0.0, "
          ]
        },
        {
          "output_type": "stream",
          "name": "stderr",
          "text": [
            "\r96it [00:00, 164.46it/s]"
          ]
        },
        {
          "output_type": "stream",
          "name": "stdout",
          "text": [
            "1.0: 0.0, 1.0: 0.0, 1.0: 0.0, 1.0: 0.0, 1.0: 0.0, 0.0: 1.0, 1.0: 0.0, 1.0: 0.0, 1.0: 0.0, 1.0: 0.0, "
          ]
        },
        {
          "output_type": "stream",
          "name": "stderr",
          "text": [
            "\r121it [00:00, 187.11it/s]"
          ]
        },
        {
          "output_type": "stream",
          "name": "stdout",
          "text": [
            "1.0: 0.0, 1.0: 0.0, "
          ]
        },
        {
          "output_type": "stream",
          "name": "stderr",
          "text": [
            "168it [00:00, 209.02it/s]"
          ]
        },
        {
          "output_type": "stream",
          "name": "stdout",
          "text": [
            "1.0: 0.0, 1.0: 0.0, 1.0: 0.0, 1.0: 0.0, 1.0: 0.0, 1.0: 0.0, 1.0: 0.0, 1.0: 0.0, 1.0: 0.0, 1.0: 0.0, 1.0: 0.0, 1.0: 0.0, 1.0: 0.0, 1.0: 0.0, 1.0: 0.0, 1.0: 0.0, 1.0: 0.0, 1.0: 0.0, 1.0: 0.0, 1.0: 0.0, 1.0: 0.0, 1.0: 0.0, 1.0: 0.0, "
          ]
        },
        {
          "output_type": "stream",
          "name": "stderr",
          "text": [
            "214it [00:01, 173.28it/s]"
          ]
        },
        {
          "output_type": "stream",
          "name": "stdout",
          "text": [
            "1.0: 0.0, 1.0: 0.0, 1.0: 0.0, 1.0: 0.0, 1.0: 0.0, 1.0: 0.0, 1.0: 0.0, 1.0: 0.0, 1.0: 0.0, 1.0: 0.0, 1.0: 0.0, 1.0: 0.0, 1.0: 0.0, 1.0: 0.0, 1.0: 0.0, 1.0: 0.0, 1.0: 0.0, 1.0: 0.0, 1.0: 0.0, 1.0: 0.0, 1.0: 0.0, 1.0: 0.0, 0.0: 1.0, 0.0: 1.0, 1.0: 0.0, 1.0: 0.0, 1.0: 0.0, 1.0: 0.0, 1.0: 0.0, "
          ]
        },
        {
          "output_type": "stream",
          "name": "stderr",
          "text": [
            "261it [00:01, 199.66it/s]"
          ]
        },
        {
          "output_type": "stream",
          "name": "stdout",
          "text": [
            "1.0: 0.0, 1.0: 0.0, 1.0: 0.0, 1.0: 0.0, 1.0: 0.0, 1.0: 0.0, 1.0: 0.0, 1.0: 0.0, 1.0: 0.0, 1.0: 0.0, 1.0: 0.0, 1.0: 0.0, 1.0: 0.0, 1.0: 0.0, 0.0: 1.0, 1.0: 0.0, 1.0: 0.0, 1.0: 0.0, 1.0: 0.0, 1.0: 0.0, 1.0: 0.0, 1.0: 0.0, 1.0: 0.0, 1.0: 0.0, 1.0: 0.0, "
          ]
        },
        {
          "output_type": "stream",
          "name": "stderr",
          "text": [
            "306it [00:02, 102.00it/s]"
          ]
        },
        {
          "output_type": "stream",
          "name": "stdout",
          "text": [
            "1.0: 0.0, 1.0: 0.0, 1.0: 0.0, 1.0: 0.0, 1.0: 0.0, 0.0: 1.0, 1.0: 0.0, 1.0: 0.0, 1.0: 0.0, 1.0: 0.0, 1.0: 0.0, 1.0: 0.0, 1.0: 0.0, 1.0: 0.0, 0.0: 1.0, 1.0: 0.0, 1.0: 0.0, 1.0: 0.0, 1.0: 0.0, 1.0: 0.0, 1.0: 0.0, 1.0: 0.0, 1.0: 0.0, 1.0: 0.0, 1.0: 0.0, 0.0: 1.0, 1.0: "
          ]
        },
        {
          "output_type": "stream",
          "name": "stderr",
          "text": [
            "351it [00:02, 140.48it/s]"
          ]
        },
        {
          "output_type": "stream",
          "name": "stdout",
          "text": [
            "0.0, 1.0: 0.0, 1.0: 0.0, 1.0: 0.0, 1.0: 0.0, 1.0: 0.0, 1.0: 0.0, 1.0: 0.0, 1.0: 0.0, 1.0: 0.0, 1.0: 0.0, 1.0: 0.0, 1.0: 0.0, 1.0: 0.0, 1.0: 0.0, 1.0: 0.0, 1.0: 0.0, 1.0: 0.0, 1.0: 0.0, 1.0: 0.0, 1.0: 0.0, 1.0: 0.0, 1.0: 0.0, 1.0: 0.0, 1.0: 0.0, "
          ]
        },
        {
          "output_type": "stream",
          "name": "stderr",
          "text": [
            "396it [00:03, 89.37it/s]"
          ]
        },
        {
          "output_type": "stream",
          "name": "stdout",
          "text": [
            "1.0: 0.0, 1.0: 0.0, 1.0: 0.0, 1.0: 0.0, 1.0: 0.0, 1.0: 0.0, 1.0: 0.0, 1.0: 0.0, 0.0: 1.0, 1.0: 0.0, 1.0: 0.0, 1.0: 0.0, 1.0: 0.0, 1.0: 0.0, 1.0: 0.0, 1.0: 0.0, 1.0: 0.0, 1.0: 0.0, 1.0: 0.0, 1.0: 0.0, 1.0: 0.0, 1.0: 0.0, 1.0: 0.0, 1.0: 0.0, 1.0: 0.0, "
          ]
        },
        {
          "output_type": "stream",
          "name": "stderr",
          "text": [
            "443it [00:03, 131.42it/s]"
          ]
        },
        {
          "output_type": "stream",
          "name": "stdout",
          "text": [
            "1.0: 0.0, 0.0: 1.0, 1.0: 0.0, 1.0: 0.0, 0.0: 1.0, 1.0: 0.0, 1.0: 0.0, 1.0: 0.0, 1.0: 0.0, 1.0: 0.0, 1.0: 0.0, 1.0: 0.0, 0.0: 1.0, 1.0: 0.0, 1.0: 0.0, 1.0: 0.0, 1.0: 0.0, 1.0: 0.0, 0.0: 1.0, 1.0: 0.0, 1.0: 0.0, 0.0: 1.0, "
          ]
        },
        {
          "output_type": "stream",
          "name": "stderr",
          "text": [
            "489it [00:04, 89.82it/s]"
          ]
        },
        {
          "output_type": "stream",
          "name": "stdout",
          "text": [
            "1.0: 0.0, 1.0: 0.0, 1.0: 0.0, 1.0: 0.0, 1.0: 0.0, 1.0: 0.0, 1.0: 0.0, 1.0: 0.0, 1.0: 0.0, 1.0: 0.0, 1.0: 0.0, 1.0: 0.0, 1.0: 0.0, 1.0: 0.0, 1.0: 0.0, 1.0: 0.0, 1.0: 0.0, 1.0: 0.0, "
          ]
        },
        {
          "output_type": "stream",
          "name": "stderr",
          "text": [
            "\r512it [00:04, 109.33it/s]"
          ]
        },
        {
          "output_type": "stream",
          "name": "stdout",
          "text": [
            "1.0: 0.0, 1.0: 0.0, 1.0: 0.0, 1.0: 0.0, 1.0: 0.0, 1.0: 0.0, 1.0: 0.0, 0.0: 1.0, 0.0: 1.0, 1.0: 0.0, 1.0: 0.0, 1.0: 0.0, 0.0: 1.0, 1.0: 0.0, 1.0: 0.0, 1.0: "
          ]
        },
        {
          "output_type": "stream",
          "name": "stderr",
          "text": [
            "582it [00:05, 88.81it/s]"
          ]
        },
        {
          "output_type": "stream",
          "name": "stdout",
          "text": [
            "0.0, 1.0: 0.0, 1.0: 0.0, 1.0: 0.0, 1.0: 0.0, 0.0: 1.0, 1.0: 0.0, 1.0: 0.0, 1.0: 0.0, 1.0: 0.0, 0.0: 1.0, 1.0: 0.0, 1.0: 0.0, 1.0: 0.0, 1.0: 0.0, 1.0: 0.0, 1.0: 0.0, 1.0: 0.0, 1.0: 0.0, 0.0: 1.0, 1.0: 0.0, 0.0: 1.0, 0.0: 1.0, 1.0: 0.0, 1.0: 0.0, "
          ]
        },
        {
          "output_type": "stream",
          "name": "stderr",
          "text": [
            "628it [00:05, 128.21it/s]"
          ]
        },
        {
          "output_type": "stream",
          "name": "stdout",
          "text": [
            "1.0: 0.0, 1.0: 0.0, 0.0: 1.0, 0.0: 1.0, 1.0: 0.0, 1.0: 0.0, 1.0: 0.0, 1.0: 0.0, 1.0: 0.0, 1.0: 0.0, 1.0: 0.0, 1.0: 0.0, 1.0: 0.0, 1.0: 0.0, 1.0: 0.0, 1.0: 0.0, 1.0: 0.0, 1.0: 0.0, 0.0: 1.0, 0.0: 1.0, 1.0: 0.0, 1.0: 0.0, "
          ]
        },
        {
          "output_type": "stream",
          "name": "stderr",
          "text": [
            "676it [00:05, 167.06it/s]"
          ]
        },
        {
          "output_type": "stream",
          "name": "stdout",
          "text": [
            "1.0: 0.0, 1.0: 0.0, 0.0: 1.0, 0.0: 1.0, 1.0: 0.0, 1.0: 0.0, 1.0: 0.0, 1.0: 0.0, 0.0: 1.0, 1.0: 0.0, 0.0: 1.0, 1.0: 0.0, 1.0: 0.0, 1.0: 0.0, 1.0: 0.0, 1.0: 0.0, 1.0: 0.0, 1.0: 0.0, 1.0: 0.0, 1.0: 0.0, 0.0: 1.0, "
          ]
        },
        {
          "output_type": "stream",
          "name": "stderr",
          "text": [
            "725it [00:05, 199.27it/s]"
          ]
        },
        {
          "output_type": "stream",
          "name": "stdout",
          "text": [
            "1.0: 0.0, 1.0: 0.0, 1.0: 0.0, 0.0: 1.0, 1.0: 0.0, 1.0: 0.0, 1.0: 0.0, 1.0: 0.0, 1.0: 0.0, 1.0: 0.0, 1.0: 0.0, 1.0: 0.0, 1.0: 0.0, 1.0: 0.0, 1.0: 0.0, 1.0: 0.0, 1.0: 0.0, 1.0: "
          ]
        },
        {
          "output_type": "stream",
          "name": "stderr",
          "text": [
            "804it [00:06, 236.75it/s]"
          ]
        },
        {
          "output_type": "stream",
          "name": "stdout",
          "text": [
            "0.0, 1.0: 0.0, 1.0: 0.0, 0.0: 1.0, 1.0: 0.0, 1.0: 0.0, 1.0: 0.0, 1.0: 0.0, 1.0: 0.0, 1.0: 0.0, 1.0: 0.0, 1.0: 0.0, 1.0: 0.0, 1.0: 0.0, 1.0: 0.0, 1.0: 0.0, 1.0: 0.0, 1.0: 0.0, 1.0: 0.0, 1.0: 0.0, 1.0: 0.0, 1.0: 0.0, "
          ]
        },
        {
          "output_type": "stream",
          "name": "stderr",
          "text": [
            "\r829it [00:06, 156.18it/s]"
          ]
        },
        {
          "output_type": "stream",
          "name": "stdout",
          "text": [
            "1.0: 0.0, 1.0: 0.0, 1.0: 0.0, 1.0: 0.0, 0.0: 1.0, 1.0: 0.0, 1.0: 0.0, 1.0: 0.0, 1.0: 0.0, 1.0: 0.0, "
          ]
        },
        {
          "output_type": "stream",
          "name": "stderr",
          "text": [
            "876it [00:07, 97.01it/s]"
          ]
        },
        {
          "output_type": "stream",
          "name": "stdout",
          "text": [
            "1.0: 0.0, 1.0: 0.0, 1.0: 0.0, 0.0: 1.0, 1.0: 0.0, 1.0: 0.0, 1.0: 0.0, 1.0: 0.0, 1.0: 0.0, 1.0: 0.0, 1.0: 0.0, 1.0: 0.0, 1.0: 0.0, 1.0: 0.0, 1.0: 0.0, 1.0: 0.0, 0.0: 1.0, 1.0: 0.0, 1.0: 0.0, "
          ]
        },
        {
          "output_type": "stream",
          "name": "stderr",
          "text": [
            "923it [00:07, 136.90it/s]"
          ]
        },
        {
          "output_type": "stream",
          "name": "stdout",
          "text": [
            "1.0: 0.0, 1.0: 0.0, 1.0: 0.0, 1.0: 0.0, 1.0: 0.0, 1.0: 0.0, 1.0: 0.0, 0.0: 1.0, 1.0: 0.0, 1.0: 0.0, 1.0: 0.0, 1.0: 0.0, 1.0: 0.0, 1.0: 0.0, 1.0: 0.0, "
          ]
        },
        {
          "output_type": "stream",
          "name": "stderr",
          "text": [
            "969it [00:08, 90.29it/s]"
          ]
        },
        {
          "output_type": "stream",
          "name": "stdout",
          "text": [
            "1.0: 0.0, 1.0: 0.0, 1.0: 0.0, 1.0: 0.0, 1.0: 0.0, 1.0: 0.0, 1.0: 0.0, 1.0: 0.0, 1.0: 0.0, 1.0: 0.0, 1.0: 0.0, 1.0: 0.0, 1.0: 0.0, 1.0: 0.0, 1.0: 0.0, 1.0: 0.0, 0.0: 1.0, "
          ]
        },
        {
          "output_type": "stream",
          "name": "stderr",
          "text": [
            "1013it [00:08, 125.85it/s]"
          ]
        },
        {
          "output_type": "stream",
          "name": "stdout",
          "text": [
            "1.0: 0.0, 1.0: 0.0, 1.0: 0.0, 1.0: 0.0, 1.0: 0.0, 1.0: 0.0, 1.0: 0.0, 1.0: 0.0, 1.0: 0.0, 1.0: 0.0, 1.0: 0.0, 1.0: 0.0, 1.0: 0.0, 1.0: 0.0, 0.0: 1.0, 1.0: 0.0, 0.0: 1.0, 1.0: 0.0, 1.0: 0.0, 1.0: 0.0, 1.0: 0.0, "
          ]
        },
        {
          "output_type": "stream",
          "name": "stderr",
          "text": [
            "\r1024it [00:08, 120.98it/s]\n"
          ]
        },
        {
          "output_type": "stream",
          "name": "stdout",
          "text": [
            "1.0: 0.0, 1.0: 0.0, \n",
            "Epoch 027: | Loss: 0.72831 | Acc: 57.324\n",
            "\n"
          ]
        },
        {
          "output_type": "stream",
          "name": "stderr",
          "text": [
            "25it [00:00, 240.47it/s]"
          ]
        },
        {
          "output_type": "stream",
          "name": "stdout",
          "text": [
            "1.0: 0.0, 0.0: 1.0, 1.0: 0.0, 1.0: 0.0, 1.0: 0.0, 1.0: 0.0, 1.0: 0.0, 1.0: 0.0, 1.0: 0.0, 0.0: 1.0, 1.0: 0.0, 1.0: 0.0, 1.0: 0.0, 1.0: 0.0, 1.0: 0.0, 1.0: 0.0, 1.0: 0.0, "
          ]
        },
        {
          "output_type": "stream",
          "name": "stderr",
          "text": [
            "\r50it [00:00, 226.56it/s]"
          ]
        },
        {
          "output_type": "stream",
          "name": "stdout",
          "text": [
            "0.0: 1.0, 0.0: 1.0, 1.0: 0.0, "
          ]
        },
        {
          "output_type": "stream",
          "name": "stderr",
          "text": [
            "\r74it [00:00, 230.86it/s]"
          ]
        },
        {
          "output_type": "stream",
          "name": "stdout",
          "text": [
            "1.0: 0.0, 1.0: 0.0, 0.0: 1.0, 1.0: 0.0, 1.0: 0.0, 1.0: 0.0, 1.0: 0.0, 1.0: 0.0, 1.0: 0.0, 1.0: 0.0, 1.0: 0.0, 1.0: 0.0, 1.0: 0.0, "
          ]
        },
        {
          "output_type": "stream",
          "name": "stderr",
          "text": [
            "\r99it [00:00, 236.63it/s]"
          ]
        },
        {
          "output_type": "stream",
          "name": "stdout",
          "text": [
            "0.0: 1.0, 1.0: 0.0, "
          ]
        },
        {
          "output_type": "stream",
          "name": "stderr",
          "text": [
            "149it [00:00, 243.30it/s]"
          ]
        },
        {
          "output_type": "stream",
          "name": "stdout",
          "text": [
            "0.0: 1.0, 1.0: 0.0, 1.0: 0.0, 1.0: 0.0, 1.0: 0.0, 1.0: 0.0, 1.0: 0.0, 1.0: 0.0, 1.0: 0.0, 1.0: 0.0, 1.0: 0.0, 1.0: 0.0, 1.0: 0.0, 1.0: 0.0, 1.0: 0.0, 1.0: 0.0, 1.0: 0.0, 1.0: 0.0, 1.0: 0.0, 1.0: 0.0, 1.0: 0.0, "
          ]
        },
        {
          "output_type": "stream",
          "name": "stderr",
          "text": [
            "\r174it [00:00, 134.87it/s]"
          ]
        },
        {
          "output_type": "stream",
          "name": "stdout",
          "text": [
            "1.0: 0.0, 1.0: 0.0, 1.0: 0.0, 1.0: 0.0, 1.0: 0.0, 1.0: 0.0, 1.0: 0.0, 1.0: 0.0, 1.0: 0.0, 1.0: 0.0, 0.0: 1.0, 1.0: 0.0, 1.0: 0.0, 1.0: 0.0, 1.0: 0.0, 1.0: 0.0, 1.0: 0.0, 1.0: 0.0, 1.0: 0.0, 1.0: 0.0, 1.0: 0.0, 1.0: 0.0, 1.0: 0.0, 0.0: 1.0, 1.0: 0.0, 1.0: 0.0, "
          ]
        },
        {
          "output_type": "stream",
          "name": "stderr",
          "text": [
            "220it [00:01, 167.48it/s]"
          ]
        },
        {
          "output_type": "stream",
          "name": "stdout",
          "text": [
            "1.0: 0.0, 1.0: 0.0, 1.0: 0.0, 1.0: 0.0, 1.0: 0.0, 1.0: 0.0, 1.0: 0.0, 0.0: 1.0, 1.0: 0.0, 1.0: 0.0, 1.0: 0.0, 1.0: 0.0, 1.0: 0.0, 1.0: 0.0, 1.0: 0.0, 1.0: 0.0, 1.0: 0.0, 1.0: 0.0, 1.0: 0.0, 0.0: 1.0, 1.0: 0.0, 1.0: 0.0, 1.0: 0.0, 1.0: 0.0, 1.0: 0.0, "
          ]
        },
        {
          "output_type": "stream",
          "name": "stderr",
          "text": [
            "293it [00:01, 207.45it/s]"
          ]
        },
        {
          "output_type": "stream",
          "name": "stdout",
          "text": [
            "1.0: 0.0, 1.0: 0.0, 1.0: 0.0, 1.0: 0.0, 1.0: 0.0, 1.0: 0.0, 1.0: 0.0, 1.0: 0.0, 1.0: 0.0, 1.0: 0.0, 1.0: 0.0, 1.0: 0.0, 1.0: 0.0, 1.0: 0.0, 1.0: 0.0, 0.0: 1.0, 1.0: 0.0, 1.0: 0.0, 1.0: 0.0, 1.0: 0.0, 1.0: 0.0, 1.0: 0.0, 1.0: 0.0, 1.0: 0.0, 1.0: 0.0, 1.0: 0.0, 0.0: 1.0, 1.0: 0.0, 1.0: 0.0, "
          ]
        },
        {
          "output_type": "stream",
          "name": "stderr",
          "text": [
            "339it [00:01, 143.75it/s]"
          ]
        },
        {
          "output_type": "stream",
          "name": "stdout",
          "text": [
            "1.0: 0.0, 1.0: 0.0, 1.0: 0.0, 1.0: 0.0, 1.0: 0.0, 1.0: 0.0, 0.0: 1.0, 0.0: 1.0, 1.0: 0.0, 1.0: 0.0, 1.0: 0.0, 1.0: 0.0, 1.0: 0.0, 1.0: 0.0, 0.0: 1.0, 1.0: 0.0, 1.0: 0.0, 1.0: 0.0, 1.0: 0.0, 1.0: 0.0, 0.0: 1.0, 1.0: 0.0, 1.0: 0.0, 1.0: 0.0, 1.0: 0.0, 1.0: 0.0, 1.0: 0.0, 1.0: 0.0, 1.0: 0.0, "
          ]
        },
        {
          "output_type": "stream",
          "name": "stderr",
          "text": [
            "384it [00:02, 92.51it/s]"
          ]
        },
        {
          "output_type": "stream",
          "name": "stdout",
          "text": [
            "1.0: 0.0, 1.0: 0.0, 1.0: 0.0, 1.0: 0.0, 1.0: 0.0, 1.0: 0.0, 1.0: 0.0, 1.0: 0.0, 1.0: 0.0, 1.0: 0.0, 1.0: 0.0, 1.0: 0.0, 1.0: 0.0, 1.0: 0.0, 1.0: 0.0, 1.0: 0.0, 1.0: 0.0, 1.0: 0.0, 1.0: 0.0, 1.0: 0.0, 1.0: 0.0, 1.0: 0.0, 1.0: 0.0, 1.0: 0.0, 1.0: 0.0, "
          ]
        },
        {
          "output_type": "stream",
          "name": "stderr",
          "text": [
            "\r408it [00:02, 113.66it/s]"
          ]
        },
        {
          "output_type": "stream",
          "name": "stdout",
          "text": [
            "1.0: 0.0, 1.0: 0.0, 1.0: 0.0, 1.0: 0.0, 1.0: 0.0, 1.0: 0.0, 1.0: 0.0, 1.0: 0.0, 1.0: 0.0, 1.0: 0.0, 1.0: 0.0, 1.0: 0.0, 1.0: 0.0, 1.0: 0.0, 1.0: 0.0, 1.0: 0.0, "
          ]
        },
        {
          "output_type": "stream",
          "name": "stderr",
          "text": [
            "477it [00:03, 89.16it/s]"
          ]
        },
        {
          "output_type": "stream",
          "name": "stdout",
          "text": [
            "1.0: 0.0, 0.0: 1.0, 1.0: 0.0, 1.0: 0.0, 1.0: 0.0, 1.0: 0.0, 1.0: 0.0, 1.0: 0.0, 1.0: 0.0, 1.0: 0.0, 1.0: 0.0, 1.0: 0.0, 1.0: 0.0, 1.0: 0.0, 0.0: 1.0, 1.0: 0.0, 1.0: 0.0, 0.0: 1.0, "
          ]
        },
        {
          "output_type": "stream",
          "name": "stderr",
          "text": [
            "524it [00:03, 129.84it/s]"
          ]
        },
        {
          "output_type": "stream",
          "name": "stdout",
          "text": [
            "0.0: 1.0, 1.0: 0.0, 0.0: 1.0, 1.0: 0.0, 1.0: 0.0, 1.0: 0.0, 1.0: 0.0, 1.0: 0.0, 1.0: 0.0, 1.0: 0.0, 1.0: 0.0, 1.0: 0.0, 1.0: 0.0, 1.0: 0.0, 1.0: 0.0, 1.0: 0.0, 0.0: 1.0, 1.0: 0.0, 1.0: 0.0, 0.0: 1.0, "
          ]
        },
        {
          "output_type": "stream",
          "name": "stderr",
          "text": [
            "566it [00:04, 90.61it/s]"
          ]
        },
        {
          "output_type": "stream",
          "name": "stdout",
          "text": [
            "1.0: 0.0, 1.0: 0.0, 1.0: 0.0, 1.0: 0.0, 1.0: 0.0, 1.0: 0.0, 1.0: 0.0, 1.0: 0.0, 1.0: 0.0, 1.0: 0.0, 1.0: 0.0, 1.0: 0.0, 1.0: 0.0, 1.0: 0.0, 1.0: 0.0, 1.0: 0.0, 1.0: 0.0, 1.0: 0.0, 1.0: 0.0, "
          ]
        },
        {
          "output_type": "stream",
          "name": "stderr",
          "text": [
            "615it [00:04, 135.70it/s]"
          ]
        },
        {
          "output_type": "stream",
          "name": "stdout",
          "text": [
            "1.0: 0.0, 1.0: 0.0, 0.0: 1.0, 1.0: 0.0, 1.0: 0.0, 1.0: 0.0, 1.0: 0.0, 1.0: 0.0, 0.0: 1.0, 1.0: 0.0, 1.0: 0.0, 1.0: 0.0, 1.0: 0.0, 1.0: 0.0, 1.0: 0.0, 1.0: 0.0, 1.0: 0.0, 1.0: 0.0, 1.0: 0.0, 1.0: 0.0, 1.0: 0.0, 1.0: 0.0, "
          ]
        },
        {
          "output_type": "stream",
          "name": "stderr",
          "text": [
            "\r639it [00:04, 156.00it/s]"
          ]
        },
        {
          "output_type": "stream",
          "name": "stdout",
          "text": [
            "1.0: 0.0, 1.0: 0.0, 1.0: 0.0, 1.0: 0.0, 1.0: 0.0, 1.0: 0.0, "
          ]
        },
        {
          "output_type": "stream",
          "name": "stderr",
          "text": [
            "684it [00:05, 95.04it/s]"
          ]
        },
        {
          "output_type": "stream",
          "name": "stdout",
          "text": [
            "1.0: 0.0, 1.0: 0.0, 1.0: 0.0, 1.0: 0.0, 1.0: 0.0, 1.0: 0.0, 0.0: 1.0, 1.0: 0.0, 0.0: 1.0, 1.0: 0.0, 1.0: 0.0, 1.0: 0.0, 1.0: 0.0, 1.0: 0.0, 1.0: 0.0, 1.0: 0.0, 0.0: 1.0, 1.0: 0.0, 1.0: 0.0, 1.0: 0.0, 1.0: 0.0, "
          ]
        },
        {
          "output_type": "stream",
          "name": "stderr",
          "text": [
            "731it [00:05, 135.34it/s]"
          ]
        },
        {
          "output_type": "stream",
          "name": "stdout",
          "text": [
            "1.0: 0.0, 1.0: 0.0, 1.0: 0.0, 1.0: 0.0, 1.0: 0.0, 0.0: 1.0, 1.0: 0.0, 0.0: 1.0, 1.0: 0.0, 1.0: 0.0, 0.0: 1.0, 1.0: 0.0, 1.0: 0.0, 1.0: 0.0, 1.0: 0.0, 1.0: 0.0, 1.0: 0.0, 0.0: 1.0, "
          ]
        },
        {
          "output_type": "stream",
          "name": "stderr",
          "text": [
            "781it [00:06, 177.22it/s]"
          ]
        },
        {
          "output_type": "stream",
          "name": "stdout",
          "text": [
            "1.0: 0.0, 1.0: 0.0, 1.0: 0.0, 1.0: 0.0, 1.0: 0.0, 1.0: 0.0, 1.0: 0.0, 1.0: 0.0, 1.0: 0.0, 1.0: 0.0, 1.0: 0.0, 1.0: 0.0, 1.0: 0.0, 1.0: 0.0, 1.0: 0.0, 1.0: 0.0, 1.0: 0.0, 1.0: 0.0, 0.0: 1.0, "
          ]
        },
        {
          "output_type": "stream",
          "name": "stderr",
          "text": [
            "829it [00:06, 201.68it/s]"
          ]
        },
        {
          "output_type": "stream",
          "name": "stdout",
          "text": [
            "1.0: 0.0, 1.0: 0.0, 1.0: 0.0, 1.0: 0.0, 1.0: 0.0, 1.0: 0.0, 1.0: 0.0, 1.0: 0.0, 1.0: 0.0, 0.0: 1.0, 1.0: 0.0, 1.0: 0.0, 1.0: 0.0, 0.0: 1.0, 1.0: 0.0, 1.0: 0.0, 0.0: 1.0, 0.0: 1.0, 1.0: 0.0, 1.0: 0.0, 1.0: 0.0, "
          ]
        },
        {
          "output_type": "stream",
          "name": "stderr",
          "text": [
            "904it [00:06, 231.23it/s]"
          ]
        },
        {
          "output_type": "stream",
          "name": "stdout",
          "text": [
            "1.0: 0.0, 1.0: 0.0, 1.0: 0.0, 1.0: 0.0, 1.0: 0.0, 1.0: 0.0, 1.0: 0.0, 1.0: 0.0, 1.0: 0.0, 1.0: 0.0, 1.0: 0.0, 1.0: 0.0, 1.0: 0.0, 1.0: 0.0, 1.0: 0.0, 1.0: 0.0, 1.0: 0.0, 1.0: 0.0, 1.0: 0.0, 1.0: 0.0, "
          ]
        },
        {
          "output_type": "stream",
          "name": "stderr",
          "text": [
            "\r929it [00:06, 153.66it/s]"
          ]
        },
        {
          "output_type": "stream",
          "name": "stdout",
          "text": [
            "1.0: 0.0, 1.0: 0.0, 1.0: 0.0, 0.0: 1.0, 1.0: 0.0, 1.0: 0.0, 1.0: 0.0, 1.0: 0.0, 1.0: 0.0, 1.0: 0.0, 1.0: 0.0, "
          ]
        },
        {
          "output_type": "stream",
          "name": "stderr",
          "text": [
            "975it [00:07, 92.98it/s]"
          ]
        },
        {
          "output_type": "stream",
          "name": "stdout",
          "text": [
            "1.0: 0.0, 1.0: 0.0, 1.0: 0.0, 1.0: 0.0, 1.0: 0.0, 0.0: 1.0, 1.0: 0.0, 1.0: 0.0, 1.0: 0.0, 1.0: 0.0, 1.0: 0.0, 1.0: 0.0, 1.0: 0.0, 1.0: 0.0, 0.0: 1.0, 1.0: 0.0, 1.0: 0.0, 1.0: 0.0, 0.0: 1.0, 1.0: 0.0, 1.0: 0.0, 1.0: 0.0, "
          ]
        },
        {
          "output_type": "stream",
          "name": "stderr",
          "text": [
            "1024it [00:07, 128.62it/s]\n"
          ]
        },
        {
          "output_type": "stream",
          "name": "stdout",
          "text": [
            "1.0: 0.0, 1.0: 0.0, 1.0: 0.0, 1.0: 0.0, 1.0: 0.0, 1.0: 0.0, 0.0: 1.0, 1.0: 0.0, 0.0: 1.0, 1.0: 0.0, 1.0: 0.0, 1.0: 0.0, 1.0: 0.0, 1.0: 0.0, \n",
            "Epoch 028: | Loss: 0.72784 | Acc: 57.324\n",
            "\n"
          ]
        },
        {
          "output_type": "stream",
          "name": "stderr",
          "text": [
            "50it [00:00, 247.29it/s]"
          ]
        },
        {
          "output_type": "stream",
          "name": "stdout",
          "text": [
            "1.0: 0.0, 0.0: 1.0, 1.0: 0.0, 1.0: 0.0, 0.0: 1.0, 1.0: 0.0, 1.0: 0.0, 1.0: 0.0, 1.0: 0.0, 1.0: 0.0, 1.0: 0.0, 1.0: 0.0, 1.0: 0.0, 1.0: 0.0, 1.0: 0.0, 0.0: 1.0, 1.0: 0.0, 1.0: 0.0, 1.0: 0.0, "
          ]
        },
        {
          "output_type": "stream",
          "name": "stderr",
          "text": [
            "102it [00:00, 253.05it/s]"
          ]
        },
        {
          "output_type": "stream",
          "name": "stdout",
          "text": [
            "1.0: 0.0, 1.0: 0.0, 1.0: 0.0, 1.0: 0.0, 1.0: 0.0, 1.0: 0.0, 1.0: 0.0, 1.0: 0.0, 0.0: 1.0, 1.0: 0.0, 1.0: 0.0, 1.0: 0.0, 1.0: "
          ]
        },
        {
          "output_type": "stream",
          "name": "stderr",
          "text": [
            "153it [00:00, 240.98it/s]"
          ]
        },
        {
          "output_type": "stream",
          "name": "stdout",
          "text": [
            "0.0, 0.0: 1.0, 1.0: 0.0, 1.0: 0.0, 1.0: 0.0, 1.0: 0.0, 0.0: 1.0, 1.0: 0.0, 1.0: 0.0, 1.0: 0.0, 1.0: 0.0, 1.0: 0.0, 1.0: 0.0, 1.0: 0.0, 1.0: 0.0, 1.0: 0.0, 1.0: 0.0, 1.0: 0.0, 1.0: 0.0, 1.0: 0.0, 1.0: 0.0, 1.0: 0.0, 1.0: 0.0, 1.0: 0.0, 1.0: "
          ]
        },
        {
          "output_type": "stream",
          "name": "stderr",
          "text": [
            "202it [00:00, 218.78it/s]"
          ]
        },
        {
          "output_type": "stream",
          "name": "stdout",
          "text": [
            "0.0, 1.0: 0.0, 1.0: 0.0, 1.0: 0.0, 1.0: 0.0, 1.0: 0.0, 1.0: 0.0, 1.0: 0.0, 1.0: 0.0, 1.0: 0.0, 1.0: 0.0, 1.0: 0.0, 1.0: 0.0, 1.0: 0.0, 1.0: 0.0, 1.0: 0.0, 1.0: 0.0, 1.0: 0.0, 1.0: 0.0, 0.0: 1.0, 1.0: 0.0, 1.0: 0.0, 1.0: 0.0, 1.0: 0.0, "
          ]
        },
        {
          "output_type": "stream",
          "name": "stderr",
          "text": [
            "\r225it [00:01, 197.72it/s]"
          ]
        },
        {
          "output_type": "stream",
          "name": "stdout",
          "text": [
            "1.0: 0.0, 1.0: 0.0, 1.0: 0.0, 1.0: 0.0, 1.0: 0.0, 1.0: 0.0, 1.0: 0.0, 0.0: 1.0, 1.0: 0.0, 1.0: 0.0, 1.0: 0.0, 1.0: 0.0, "
          ]
        },
        {
          "output_type": "stream",
          "name": "stderr",
          "text": [
            "270it [00:01, 105.59it/s]"
          ]
        },
        {
          "output_type": "stream",
          "name": "stdout",
          "text": [
            "1.0: 0.0, 1.0: 0.0, 1.0: 0.0, 1.0: 0.0, 1.0: 0.0, 1.0: 0.0, 1.0: 0.0, 1.0: 0.0, 1.0: 0.0, 1.0: 0.0, 1.0: 0.0, 1.0: 0.0, 1.0: 0.0, 1.0: 0.0, 1.0: 0.0, 1.0: 0.0, 1.0: 0.0, 1.0: 0.0, 0.0: 1.0, 1.0: 0.0, 1.0: 0.0, 1.0: 0.0, 1.0: 0.0, 1.0: 0.0, "
          ]
        },
        {
          "output_type": "stream",
          "name": "stderr",
          "text": [
            "315it [00:01, 144.15it/s]"
          ]
        },
        {
          "output_type": "stream",
          "name": "stdout",
          "text": [
            "1.0: 0.0, 1.0: 0.0, 1.0: 0.0, 1.0: 0.0, 1.0: 0.0, 1.0: 0.0, 1.0: 0.0, 1.0: 0.0, 0.0: 1.0, 1.0: 0.0, 1.0: 0.0, 1.0: 0.0, 1.0: 0.0, 1.0: 0.0, 1.0: 0.0, 1.0: 0.0, 1.0: 0.0, 0.0: 1.0, 1.0: 0.0, 1.0: 0.0, 1.0: 0.0, 1.0: 0.0, 1.0: 0.0, 1.0: 0.0, 1.0: 0.0, "
          ]
        },
        {
          "output_type": "stream",
          "name": "stderr",
          "text": [
            "363it [00:02, 180.57it/s]"
          ]
        },
        {
          "output_type": "stream",
          "name": "stdout",
          "text": [
            "1.0: 0.0, 1.0: 0.0, 1.0: 0.0, 1.0: 0.0, 1.0: 0.0, 1.0: 0.0, 1.0: 0.0, 1.0: 0.0, 1.0: 0.0, 1.0: 0.0, 1.0: 0.0, 1.0: 0.0, 1.0: 0.0, 0.0: 1.0, 1.0: 0.0, 1.0: 0.0, 1.0: 0.0, 1.0: 0.0, 1.0: 0.0, 1.0: 0.0, 1.0: 0.0, 1.0: 0.0, 1.0: 0.0, 1.0: 0.0, 1.0: 0.0, 1.0: 0.0, 1.0: 0.0, 0.0: 1.0, 1.0: 0.0, "
          ]
        },
        {
          "output_type": "stream",
          "name": "stderr",
          "text": [
            "409it [00:02, 199.77it/s]"
          ]
        },
        {
          "output_type": "stream",
          "name": "stdout",
          "text": [
            "1.0: 0.0, 1.0: 0.0, 1.0: 0.0, 1.0: 0.0, 1.0: 0.0, 1.0: 0.0, 1.0: 0.0, 1.0: 0.0, 1.0: 0.0, 1.0: 0.0, 1.0: 0.0, 1.0: 0.0, 1.0: 0.0, 0.0: 1.0, 1.0: 0.0, 1.0: 0.0, 1.0: 0.0, 0.0: 1.0, 1.0: 0.0, 1.0: 0.0, 1.0: 0.0, 0.0: 1.0, 1.0: 0.0, 0.0: 1.0, "
          ]
        },
        {
          "output_type": "stream",
          "name": "stderr",
          "text": [
            "457it [00:02, 217.20it/s]"
          ]
        },
        {
          "output_type": "stream",
          "name": "stdout",
          "text": [
            "1.0: 0.0, 1.0: 0.0, 1.0: 0.0, 1.0: 0.0, 1.0: 0.0, 1.0: 0.0, 1.0: 0.0, 1.0: 0.0, 1.0: 0.0, 1.0: 0.0, 1.0: 0.0, 1.0: 0.0, 1.0: 0.0, 1.0: 0.0, 1.0: 0.0, 1.0: 0.0, 1.0: 0.0, 1.0: 0.0, 1.0: 0.0, "
          ]
        },
        {
          "output_type": "stream",
          "name": "stderr",
          "text": [
            "504it [00:02, 197.37it/s]"
          ]
        },
        {
          "output_type": "stream",
          "name": "stdout",
          "text": [
            "0.0: 1.0, 1.0: 0.0, 1.0: 0.0, 1.0: 0.0, 0.0: 1.0, 1.0: 0.0, 1.0: 0.0, 1.0: 0.0, 1.0: 0.0, 1.0: 0.0, 1.0: 0.0, 1.0: 0.0, 1.0: 0.0, 1.0: 0.0, 1.0: 0.0, 0.0: 1.0, 1.0: 0.0, 1.0: 0.0, 1.0: 0.0, 1.0: 0.0, 1.0: 0.0, 1.0: 0.0, "
          ]
        },
        {
          "output_type": "stream",
          "name": "stderr",
          "text": [
            "554it [00:03, 222.40it/s]"
          ]
        },
        {
          "output_type": "stream",
          "name": "stdout",
          "text": [
            "1.0: 0.0, 1.0: 0.0, 0.0: 1.0, 1.0: 0.0, 1.0: 0.0, 1.0: 0.0, 1.0: 0.0, 1.0: 0.0, 1.0: 0.0, 1.0: 0.0, 1.0: 0.0, 1.0: 0.0, 1.0: 0.0, 1.0: 0.0, 1.0: 0.0, 1.0: 0.0, 1.0: 0.0, 1.0: 0.0, "
          ]
        },
        {
          "output_type": "stream",
          "name": "stderr",
          "text": [
            "604it [00:03, 112.91it/s]"
          ]
        },
        {
          "output_type": "stream",
          "name": "stdout",
          "text": [
            "1.0: 0.0, 1.0: 0.0, 1.0: 0.0, 1.0: 0.0, 1.0: 0.0, 0.0: 1.0, 0.0: 1.0, 1.0: 0.0, 1.0: 0.0, 0.0: 1.0, 1.0: 0.0, 1.0: 0.0, 1.0: 0.0, 0.0: 1.0, 1.0: 0.0, 1.0: 0.0, 1.0: 0.0, 1.0: 0.0, "
          ]
        },
        {
          "output_type": "stream",
          "name": "stderr",
          "text": [
            "653it [00:03, 154.74it/s]"
          ]
        },
        {
          "output_type": "stream",
          "name": "stdout",
          "text": [
            "1.0: 0.0, 1.0: 0.0, 1.0: 0.0, 1.0: 0.0, 1.0: 0.0, 1.0: 0.0, 1.0: 0.0, 1.0: 0.0, 1.0: 0.0, 1.0: 0.0, 1.0: 0.0, 1.0: 0.0, 1.0: 0.0, 1.0: 0.0, 0.0: 1.0, 1.0: 0.0, 1.0: 0.0, 1.0: 0.0, "
          ]
        },
        {
          "output_type": "stream",
          "name": "stderr",
          "text": [
            "701it [00:04, 97.06it/s]"
          ]
        },
        {
          "output_type": "stream",
          "name": "stdout",
          "text": [
            "1.0: 0.0, 1.0: 0.0, 1.0: 0.0, 1.0: 0.0, 1.0: 0.0, 1.0: 0.0, 1.0: 0.0, 1.0: 0.0, 1.0: 0.0, 1.0: 0.0, 1.0: 0.0, 1.0: 0.0, 1.0: 0.0, 0.0: 1.0, 1.0: 0.0, 0.0: 1.0, 1.0: 0.0, 1.0: 0.0, 1.0: 0.0, 1.0: 0.0, 1.0: 0.0, "
          ]
        },
        {
          "output_type": "stream",
          "name": "stderr",
          "text": [
            "748it [00:04, 136.89it/s]"
          ]
        },
        {
          "output_type": "stream",
          "name": "stdout",
          "text": [
            "0.0: 1.0, 0.0: 1.0, 1.0: 0.0, 1.0: 0.0, 1.0: 0.0, 1.0: 0.0, 1.0: 0.0, 0.0: 1.0, 1.0: 0.0, 0.0: 1.0, 0.0: 1.0, 1.0: 0.0, 1.0: 0.0, 1.0: 0.0, 1.0: 0.0, 1.0: 0.0, 0.0: 1.0, 1.0: 0.0, 1.0: 0.0, 1.0: 0.0, "
          ]
        },
        {
          "output_type": "stream",
          "name": "stderr",
          "text": [
            "799it [00:05, 178.76it/s]"
          ]
        },
        {
          "output_type": "stream",
          "name": "stdout",
          "text": [
            "1.0: 0.0, 1.0: 0.0, 1.0: 0.0, 1.0: 0.0, 1.0: 0.0, 1.0: 0.0, 1.0: 0.0, 0.0: 1.0, 1.0: 0.0, 1.0: 0.0, 0.0: 1.0, 1.0: 0.0, 1.0: 0.0, 1.0: 0.0, 0.0: 1.0, 1.0: 0.0, 1.0: 0.0, 1.0: 0.0, 1.0: 0.0, "
          ]
        },
        {
          "output_type": "stream",
          "name": "stderr",
          "text": [
            "847it [00:05, 203.82it/s]"
          ]
        },
        {
          "output_type": "stream",
          "name": "stdout",
          "text": [
            "1.0: 0.0, 1.0: 0.0, 1.0: 0.0, 1.0: 0.0, 1.0: 0.0, 1.0: 0.0, 0.0: 1.0, 1.0: 0.0, 1.0: 0.0, 1.0: 0.0, 1.0: 0.0, 1.0: 0.0, 1.0: 0.0, 1.0: 0.0, 0.0: 1.0, 1.0: 0.0, 1.0: 0.0, 0.0: 1.0, 1.0: 0.0, "
          ]
        },
        {
          "output_type": "stream",
          "name": "stderr",
          "text": [
            "896it [00:05, 215.17it/s]"
          ]
        },
        {
          "output_type": "stream",
          "name": "stdout",
          "text": [
            "1.0: 0.0, 0.0: 1.0, 1.0: 0.0, 1.0: 0.0, 1.0: 0.0, 0.0: 1.0, 1.0: 0.0, 1.0: 0.0, 1.0: 0.0, 1.0: 0.0, 1.0: 0.0, 1.0: 0.0, 1.0: 0.0, 0.0: 1.0, 1.0: 0.0, 1.0: 0.0, 1.0: 0.0, 1.0: 0.0, 1.0: 0.0, "
          ]
        },
        {
          "output_type": "stream",
          "name": "stderr",
          "text": [
            "944it [00:05, 203.12it/s]"
          ]
        },
        {
          "output_type": "stream",
          "name": "stdout",
          "text": [
            "1.0: 0.0, 0.0: 1.0, 1.0: 0.0, 1.0: 0.0, 1.0: 0.0, 0.0: 1.0, 0.0: 1.0, 1.0: 0.0, 1.0: 0.0, 1.0: 0.0, 1.0: 0.0, 1.0: 0.0, 1.0: 0.0, 1.0: 0.0, 1.0: 0.0, 1.0: 0.0, 0.0: 1.0, 1.0: 0.0, 1.0: 0.0, 1.0: 0.0, "
          ]
        },
        {
          "output_type": "stream",
          "name": "stderr",
          "text": [
            "993it [00:06, 221.18it/s]"
          ]
        },
        {
          "output_type": "stream",
          "name": "stdout",
          "text": [
            "1.0: 0.0, 1.0: 0.0, 0.0: 1.0, 0.0: 1.0, 1.0: 0.0, 1.0: 0.0, 1.0: 0.0, 1.0: 0.0, 1.0: 0.0, 1.0: 0.0, 1.0: 0.0, 1.0: 0.0, 1.0: 0.0, 1.0: 0.0, 1.0: 0.0, 1.0: 0.0, 1.0: 0.0, 0.0: 1.0, 1.0: 0.0, 1.0: 0.0, 1.0: "
          ]
        },
        {
          "output_type": "stream",
          "name": "stderr",
          "text": [
            "1024it [00:06, 165.17it/s]\n"
          ]
        },
        {
          "output_type": "stream",
          "name": "stdout",
          "text": [
            "0.0, 0.0: 1.0, 1.0: 0.0, 1.0: 0.0, 1.0: 0.0, 1.0: 0.0, 1.0: 0.0, 1.0: 0.0, 1.0: 0.0, 1.0: 0.0, 1.0: 0.0, 1.0: 0.0, 1.0: 0.0, \n",
            "Epoch 029: | Loss: 0.72741 | Acc: 57.129\n",
            "\n"
          ]
        },
        {
          "output_type": "stream",
          "name": "stderr",
          "text": [
            "\r0it [00:00, ?it/s]"
          ]
        },
        {
          "output_type": "stream",
          "name": "stdout",
          "text": [
            "1.0: 0.0, 0.0: 1.0, 1.0: 0.0, 1.0: 0.0, "
          ]
        },
        {
          "output_type": "stream",
          "name": "stderr",
          "text": [
            "69it [00:00, 220.78it/s]"
          ]
        },
        {
          "output_type": "stream",
          "name": "stdout",
          "text": [
            "1.0: 0.0, 1.0: 0.0, 1.0: 0.0, 1.0: 0.0, 1.0: 0.0, 1.0: 0.0, 1.0: 0.0, 1.0: 0.0, 1.0: 0.0, 1.0: 0.0, 1.0: 0.0, 1.0: 0.0, 1.0: 0.0, 1.0: 0.0, 1.0: 0.0, 1.0: 0.0, 0.0: 1.0, 0.0: 1.0, 1.0: 0.0, "
          ]
        },
        {
          "output_type": "stream",
          "name": "stderr",
          "text": [
            "119it [00:00, 212.52it/s]"
          ]
        },
        {
          "output_type": "stream",
          "name": "stdout",
          "text": [
            "1.0: 0.0, 1.0: 0.0, 1.0: 0.0, 0.0: 1.0, 0.0: 1.0, 1.0: 0.0, 1.0: 0.0, 1.0: 0.0, 1.0: 0.0, 1.0: 0.0, 0.0: 1.0, 0.0: 1.0, 1.0: 0.0, 0.0: 1.0, 1.0: 0.0, 1.0: 0.0, 1.0: 0.0, "
          ]
        },
        {
          "output_type": "stream",
          "name": "stderr",
          "text": [
            "165it [00:00, 217.81it/s]"
          ]
        },
        {
          "output_type": "stream",
          "name": "stdout",
          "text": [
            "1.0: 0.0, 1.0: 0.0, 0.0: 1.0, 1.0: 0.0, 1.0: 0.0, 1.0: 0.0, 1.0: 0.0, 1.0: 0.0, 1.0: 0.0, 1.0: 0.0, 1.0: 0.0, 0.0: 1.0, 1.0: 0.0, 1.0: 0.0, 1.0: 0.0, 1.0: 0.0, 1.0: 0.0, 1.0: 0.0, 0.0: 1.0, 1.0: 0.0, 1.0: 0.0, 1.0: 0.0, 1.0: 0.0, 1.0: 0.0, 1.0: 0.0, 1.0: 0.0, 1.0: 0.0, 1.0: 0.0, "
          ]
        },
        {
          "output_type": "stream",
          "name": "stderr",
          "text": [
            "\r188it [00:01, 78.16it/s] "
          ]
        },
        {
          "output_type": "stream",
          "name": "stdout",
          "text": [
            "1.0: 0.0, 0.0: 1.0, 1.0: 0.0, 1.0: 0.0, 1.0: 0.0, 1.0: 0.0, 1.0: 0.0, 1.0: 0.0, 1.0: 0.0, 1.0: 0.0, 1.0: 0.0, 1.0: 0.0, 1.0: 0.0, 1.0: 0.0, 1.0: 0.0, 1.0: 0.0, 1.0: 0.0, 1.0: 0.0, 1.0: 0.0, 1.0: 0.0, 1.0: 0.0, 1.0: 0.0, 1.0: 0.0, 1.0: 0.0, 0.0: 1.0, 1.0: 0.0, "
          ]
        },
        {
          "output_type": "stream",
          "name": "stderr",
          "text": [
            "258it [00:01, 139.36it/s]"
          ]
        },
        {
          "output_type": "stream",
          "name": "stdout",
          "text": [
            "1.0: 0.0, 1.0: 0.0, 1.0: 0.0, 1.0: 0.0, 1.0: 0.0, 1.0: 0.0, 1.0: 0.0, 0.0: 1.0, 1.0: 0.0, 1.0: 0.0, 1.0: 0.0, 0.0: 1.0, 0.0: 1.0, 1.0: 0.0, 0.0: 1.0, 1.0: 0.0, 1.0: 0.0, 1.0: 0.0, 1.0: 0.0, 1.0: 0.0, 1.0: 0.0, 1.0: 0.0, 1.0: 0.0, 1.0: 0.0, 1.0: 0.0, 1.0: 0.0, 1.0: 0.0, 1.0: 0.0, "
          ]
        },
        {
          "output_type": "stream",
          "name": "stderr",
          "text": [
            "304it [00:01, 174.45it/s]"
          ]
        },
        {
          "output_type": "stream",
          "name": "stdout",
          "text": [
            "1.0: 0.0, 1.0: 0.0, 1.0: 0.0, 1.0: 0.0, 1.0: 0.0, 1.0: 0.0, 1.0: 0.0, 1.0: 0.0, 1.0: 0.0, 1.0: 0.0, 1.0: 0.0, 1.0: 0.0, 1.0: 0.0, 1.0: 0.0, 1.0: 0.0, 1.0: 0.0, 1.0: 0.0, 1.0: 0.0, 1.0: 0.0, 1.0: 0.0, 1.0: 0.0, 1.0: 0.0, 1.0: 0.0, 1.0: 0.0, 1.0: 0.0, 1.0: "
          ]
        },
        {
          "output_type": "stream",
          "name": "stderr",
          "text": [
            "348it [00:02, 191.68it/s]"
          ]
        },
        {
          "output_type": "stream",
          "name": "stdout",
          "text": [
            "0.0, 1.0: 0.0, 1.0: 0.0, 1.0: 0.0, 1.0: 0.0, 1.0: 0.0, 1.0: 0.0, 1.0: 0.0, 1.0: 0.0, 1.0: 0.0, 1.0: 0.0, 1.0: 0.0, 1.0: 0.0, 1.0: 0.0, 1.0: 0.0, 1.0: 0.0, 1.0: 0.0, 1.0: 0.0, 1.0: 0.0, 1.0: 0.0, 1.0: 0.0, 1.0: 0.0, 0.0: 1.0, 1.0: 0.0, 1.0: 0.0, 1.0: 0.0, 1.0: 0.0, 1.0: 0.0, 1.0: 0.0, 1.0: 0.0, "
          ]
        },
        {
          "output_type": "stream",
          "name": "stderr",
          "text": [
            "395it [00:02, 211.95it/s]"
          ]
        },
        {
          "output_type": "stream",
          "name": "stdout",
          "text": [
            "1.0: 0.0, 1.0: 0.0, 1.0: 0.0, 1.0: 0.0, 1.0: 0.0, 1.0: 0.0, 0.0: 1.0, 1.0: 0.0, 1.0: 0.0, 1.0: 0.0, 1.0: 0.0, 1.0: 0.0, 1.0: 0.0, 1.0: 0.0, 1.0: 0.0, 1.0: 0.0, 1.0: 0.0, 1.0: 0.0, 1.0: 0.0, 1.0: 0.0, 1.0: 0.0, "
          ]
        },
        {
          "output_type": "stream",
          "name": "stderr",
          "text": [
            "443it [00:02, 192.92it/s]"
          ]
        },
        {
          "output_type": "stream",
          "name": "stdout",
          "text": [
            "1.0: 0.0, 0.0: 1.0, 1.0: 0.0, 0.0: 1.0, 1.0: 0.0, 1.0: 0.0, 1.0: 0.0, 1.0: 0.0, 1.0: 0.0, 1.0: 0.0, 1.0: 0.0, 1.0: 0.0, 1.0: 0.0, 1.0: 0.0, 1.0: 0.0, 1.0: 0.0, 1.0: 0.0, 1.0: 0.0, 1.0: 0.0, 1.0: 0.0, "
          ]
        },
        {
          "output_type": "stream",
          "name": "stderr",
          "text": [
            "490it [00:02, 209.06it/s]"
          ]
        },
        {
          "output_type": "stream",
          "name": "stdout",
          "text": [
            "1.0: 0.0, 1.0: 0.0, 1.0: 0.0, 1.0: 0.0, 0.0: 1.0, 0.0: 1.0, 1.0: 0.0, 1.0: 0.0, 0.0: 1.0, 0.0: 1.0, 1.0: 0.0, 1.0: 0.0, 1.0: 0.0, 0.0: 1.0, 1.0: 0.0, 1.0: 0.0, 0.0: 1.0, 1.0: 0.0, 1.0: 0.0, 1.0: 0.0, 1.0: 0.0, 1.0: 0.0, 1.0: 0.0, 1.0: "
          ]
        },
        {
          "output_type": "stream",
          "name": "stderr",
          "text": [
            "539it [00:03, 226.17it/s]"
          ]
        },
        {
          "output_type": "stream",
          "name": "stdout",
          "text": [
            "0.0, 1.0: 0.0, 1.0: 0.0, 1.0: 0.0, 1.0: 0.0, 1.0: 0.0, 1.0: 0.0, 1.0: 0.0, 1.0: 0.0, 1.0: 0.0, 0.0: 1.0, 1.0: 0.0, 1.0: 0.0, 1.0: 0.0, 1.0: 0.0, 1.0: 0.0, 1.0: 0.0, 1.0: 0.0, 1.0: 0.0, 1.0: 0.0, "
          ]
        },
        {
          "output_type": "stream",
          "name": "stderr",
          "text": [
            "588it [00:03, 228.15it/s]"
          ]
        },
        {
          "output_type": "stream",
          "name": "stdout",
          "text": [
            "1.0: 0.0, 1.0: 0.0, 1.0: 0.0, 1.0: 0.0, 1.0: 0.0, 1.0: 0.0, 1.0: 0.0, 1.0: 0.0, 1.0: 0.0, 1.0: 0.0, 1.0: 0.0, 0.0: 1.0, 0.0: 1.0, 1.0: 0.0, 1.0: 0.0, 1.0: 0.0, 1.0: 0.0, 1.0: 0.0, 1.0: 0.0, "
          ]
        },
        {
          "output_type": "stream",
          "name": "stderr",
          "text": [
            "636it [00:03, 230.13it/s]"
          ]
        },
        {
          "output_type": "stream",
          "name": "stdout",
          "text": [
            "1.0: 0.0, 1.0: 0.0, 0.0: 1.0, 1.0: 0.0, 0.0: 1.0, 1.0: 0.0, 1.0: 0.0, 1.0: 0.0, 1.0: 0.0, 1.0: 0.0, 1.0: 0.0, 1.0: 0.0, 1.0: 0.0, 1.0: 0.0, 0.0: 1.0, 1.0: 0.0, 0.0: 1.0, 1.0: 0.0, 1.0: 0.0, 1.0: 0.0, 1.0: 0.0, "
          ]
        },
        {
          "output_type": "stream",
          "name": "stderr",
          "text": [
            "688it [00:04, 82.75it/s] "
          ]
        },
        {
          "output_type": "stream",
          "name": "stdout",
          "text": [
            "1.0: 0.0, 1.0: 0.0, 1.0: 0.0, 1.0: 0.0, 1.0: 0.0, 1.0: 0.0, 1.0: 0.0, 1.0: 0.0, 1.0: 0.0, 1.0: 0.0, 1.0: 0.0, 1.0: 0.0, 1.0: 0.0, 1.0: 0.0, 1.0: 0.0, 1.0: 0.0, 0.0: 1.0, "
          ]
        },
        {
          "output_type": "stream",
          "name": "stderr",
          "text": [
            "729it [00:04, 97.16it/s]"
          ]
        },
        {
          "output_type": "stream",
          "name": "stdout",
          "text": [
            "1.0: 0.0, 1.0: 0.0, 1.0: 0.0, 1.0: 0.0, 1.0: 0.0, 1.0: 0.0, 1.0: 0.0, 1.0: 0.0, 1.0: 0.0, 1.0: 0.0, 1.0: 0.0, 1.0: 0.0, 1.0: 0.0, 1.0: 0.0, 1.0: 0.0, "
          ]
        },
        {
          "output_type": "stream",
          "name": "stderr",
          "text": [
            "771it [00:05, 77.78it/s]"
          ]
        },
        {
          "output_type": "stream",
          "name": "stdout",
          "text": [
            "1.0: 0.0, 1.0: 0.0, 1.0: 0.0, 1.0: 0.0, 0.0: 1.0, 1.0: 0.0, 1.0: 0.0, 1.0: 0.0, 1.0: 0.0, 0.0: 1.0, 1.0: 0.0, 1.0: 0.0, 1.0: 0.0, 1.0: 0.0, 1.0: 0.0, 1.0: 0.0, 0.0: 1.0, 1.0: 0.0, 1.0: 0.0, "
          ]
        },
        {
          "output_type": "stream",
          "name": "stderr",
          "text": [
            "815it [00:05, 115.65it/s]"
          ]
        },
        {
          "output_type": "stream",
          "name": "stdout",
          "text": [
            "1.0: 0.0, 1.0: 0.0, 0.0: 1.0, 1.0: 0.0, 0.0: 1.0, 1.0: 0.0, 1.0: 0.0, 1.0: 0.0, 0.0: 1.0, 1.0: 0.0, 1.0: 0.0, 1.0: 0.0, 1.0: 0.0, 1.0: 0.0, 1.0: 0.0, 1.0: 0.0, 1.0: 0.0, 1.0: 0.0, 1.0: 0.0, 0.0: 1.0, "
          ]
        },
        {
          "output_type": "stream",
          "name": "stderr",
          "text": [
            "862it [00:05, 157.08it/s]"
          ]
        },
        {
          "output_type": "stream",
          "name": "stdout",
          "text": [
            "1.0: 0.0, 1.0: 0.0, 0.0: 1.0, 1.0: 0.0, 1.0: 0.0, 1.0: 0.0, 1.0: 0.0, 1.0: 0.0, 1.0: 0.0, 1.0: 0.0, 1.0: 0.0, 1.0: 0.0, 1.0: 0.0, 1.0: 0.0, 0.0: 1.0, 1.0: 0.0, 0.0: 1.0, 1.0: 0.0, 1.0: "
          ]
        },
        {
          "output_type": "stream",
          "name": "stderr",
          "text": [
            "912it [00:06, 193.88it/s]"
          ]
        },
        {
          "output_type": "stream",
          "name": "stdout",
          "text": [
            "0.0, 1.0: 0.0, 1.0: 0.0, 1.0: 0.0, 1.0: 0.0, 1.0: 0.0, 1.0: 0.0, 1.0: 0.0, 1.0: 0.0, 1.0: 0.0, 0.0: 1.0, 1.0: 0.0, 1.0: 0.0, 1.0: 0.0, 1.0: 0.0, 0.0: 1.0, 1.0: 0.0, 1.0: 0.0, 1.0: 0.0, 1.0: 0.0, 1.0: 0.0, 1.0: 0.0, "
          ]
        },
        {
          "output_type": "stream",
          "name": "stderr",
          "text": [
            "\r935it [00:06, 196.06it/s]"
          ]
        },
        {
          "output_type": "stream",
          "name": "stdout",
          "text": [
            "1.0: 0.0, 0.0: 1.0, 0.0: 1.0, 1.0: 0.0, "
          ]
        },
        {
          "output_type": "stream",
          "name": "stderr",
          "text": [
            "982it [00:06, 161.53it/s]"
          ]
        },
        {
          "output_type": "stream",
          "name": "stdout",
          "text": [
            "1.0: 0.0, 0.0: 1.0, 1.0: 0.0, 0.0: 1.0, 1.0: 0.0, 1.0: 0.0, 1.0: 0.0, 1.0: 0.0, 1.0: 0.0, 1.0: 0.0, 1.0: 0.0, 1.0: 0.0, 0.0: 1.0, 1.0: 0.0, 1.0: 0.0, 1.0: 0.0, 1.0: 0.0, 1.0: 0.0, 1.0: 0.0, 1.0: 0.0, 0.0: 1.0, 1.0: 0.0, "
          ]
        },
        {
          "output_type": "stream",
          "name": "stderr",
          "text": [
            "\r1003it [00:06, 172.35it/s]"
          ]
        },
        {
          "output_type": "stream",
          "name": "stdout",
          "text": [
            "1.0: 0.0, 1.0: 0.0, 1.0: 0.0, 0.0: 1.0, 1.0: 0.0, 1.0: 0.0, 1.0: 0.0, 1.0: 0.0, "
          ]
        },
        {
          "output_type": "stream",
          "name": "stderr",
          "text": [
            "1024it [00:07, 137.95it/s]\n"
          ]
        },
        {
          "output_type": "stream",
          "name": "stdout",
          "text": [
            "1.0: 0.0, 0.0: 1.0, 1.0: 0.0, 1.0: 0.0, 1.0: 0.0, 1.0: 0.0, 1.0: 0.0, 0.0: 1.0, \n",
            "Epoch 030: | Loss: 0.73532 | Acc: 55.664\n",
            "\n"
          ]
        },
        {
          "output_type": "stream",
          "name": "stderr",
          "text": [
            "25it [00:00, 242.78it/s]"
          ]
        },
        {
          "output_type": "stream",
          "name": "stdout",
          "text": [
            "0.0: 1.0, 1.0: 0.0, 1.0: 0.0, 1.0: 0.0, 1.0: 0.0, 1.0: 0.0, 1.0: 0.0, 1.0: 0.0, "
          ]
        },
        {
          "output_type": "stream",
          "name": "stderr",
          "text": [
            "\r50it [00:00, 231.71it/s]"
          ]
        },
        {
          "output_type": "stream",
          "name": "stdout",
          "text": [
            "1.0: 0.0, 1.0: 0.0, 1.0: 0.0, 1.0: 0.0, 1.0: 0.0, 1.0: 0.0, 1.0: 0.0, 0.0: 1.0, 1.0: 0.0, 1.0: 0.0, "
          ]
        },
        {
          "output_type": "stream",
          "name": "stderr",
          "text": [
            "\r74it [00:00, 227.17it/s]"
          ]
        },
        {
          "output_type": "stream",
          "name": "stdout",
          "text": [
            "0.0: 1.0, 1.0: 0.0, 1.0: 0.0, 0.0: 1.0, 1.0: 0.0, 1.0: 0.0, 1.0: 0.0, 1.0: 0.0, 1.0: 0.0, "
          ]
        },
        {
          "output_type": "stream",
          "name": "stderr",
          "text": [
            "\r98it [00:00, 231.45it/s]"
          ]
        },
        {
          "output_type": "stream",
          "name": "stdout",
          "text": [
            "0.0: 1.0, 1.0: 0.0, 0.0: 1.0, 0.0: 1.0, 1.0: 0.0, 1.0: 0.0, 0.0: 1.0, 1.0: 0.0, 0.0: 1.0, "
          ]
        },
        {
          "output_type": "stream",
          "name": "stderr",
          "text": [
            "\r122it [00:00, 229.36it/s]"
          ]
        },
        {
          "output_type": "stream",
          "name": "stdout",
          "text": [
            "0.0: 1.0, 1.0: 0.0, 1.0: 0.0, 1.0: 0.0, 1.0: 0.0, 1.0: 0.0, 1.0: 0.0, 1.0: 0.0, 1.0: 0.0, "
          ]
        },
        {
          "output_type": "stream",
          "name": "stderr",
          "text": [
            "\r145it [00:00, 224.28it/s]"
          ]
        },
        {
          "output_type": "stream",
          "name": "stdout",
          "text": [
            "1.0: 0.0, 1.0: 0.0, 1.0: 0.0, 1.0: 0.0, 1.0: 0.0, 1.0: 0.0, 1.0: 0.0, 1.0: 0.0, 1.0: 0.0, 1.0: 0.0, 1.0: 0.0, 1.0: 0.0, "
          ]
        },
        {
          "output_type": "stream",
          "name": "stderr",
          "text": [
            "\r168it [00:00, 224.72it/s]"
          ]
        },
        {
          "output_type": "stream",
          "name": "stdout",
          "text": [
            "1.0: 0.0, 1.0: 0.0, 1.0: 0.0, 1.0: 0.0, 1.0: 0.0, 1.0: 0.0, 1.0: 0.0, 1.0: 0.0, 1.0: 0.0, 1.0: 0.0, 1.0: 0.0, 1.0: 0.0, 1.0: 0.0, 1.0: 0.0, 0.0: 1.0, 1.0: 0.0, 1.0: 0.0, 1.0: 0.0, 1.0: 0.0, 1.0: 0.0, 1.0: 0.0, 1.0: 0.0, 1.0: 0.0, 0.0: 1.0, 1.0: 0.0, 1.0: 0.0, 1.0: 0.0, "
          ]
        },
        {
          "output_type": "stream",
          "name": "stderr",
          "text": [
            "215it [00:00, 218.44it/s]"
          ]
        },
        {
          "output_type": "stream",
          "name": "stdout",
          "text": [
            "1.0: 0.0, 1.0: 0.0, 1.0: 0.0, 1.0: 0.0, 1.0: 0.0, 1.0: 0.0, 1.0: 0.0, 1.0: 0.0, 1.0: 0.0, 1.0: 0.0, 1.0: 0.0, 1.0: 0.0, 1.0: 0.0, 1.0: 0.0, 0.0: 1.0, "
          ]
        },
        {
          "output_type": "stream",
          "name": "stderr",
          "text": [
            "\r237it [00:01, 131.03it/s]"
          ]
        },
        {
          "output_type": "stream",
          "name": "stdout",
          "text": [
            "1.0: 0.0, 0.0: 1.0, 1.0: 0.0, 1.0: 0.0, 1.0: 0.0, 1.0: 0.0, 0.0: 1.0, 1.0: 0.0, 1.0: 0.0, 1.0: 0.0, 1.0: 0.0, 1.0: 0.0, 1.0: 0.0, "
          ]
        },
        {
          "output_type": "stream",
          "name": "stderr",
          "text": [
            "279it [00:02, 82.79it/s]"
          ]
        },
        {
          "output_type": "stream",
          "name": "stdout",
          "text": [
            "1.0: 0.0, 1.0: 0.0, 1.0: 0.0, 1.0: 0.0, 1.0: 0.0, 1.0: 0.0, 1.0: 0.0, 1.0: 0.0, 1.0: 0.0, 1.0: 0.0, 1.0: 0.0, 1.0: 0.0, 1.0: 0.0, 1.0: 0.0, 0.0: 1.0, 1.0: 0.0, 1.0: 0.0, 1.0: 0.0, 1.0: 0.0, 1.0: 0.0, 0.0: 1.0, 1.0: 0.0, 1.0: 0.0, 1.0: 0.0, 1.0: 0.0, 1.0: 0.0, 1.0: 0.0, "
          ]
        },
        {
          "output_type": "stream",
          "name": "stderr",
          "text": [
            "324it [00:02, 120.36it/s]"
          ]
        },
        {
          "output_type": "stream",
          "name": "stdout",
          "text": [
            "1.0: 0.0, 1.0: 0.0, 1.0: 0.0, 1.0: 0.0, 1.0: 0.0, 1.0: 0.0, 1.0: 0.0, 1.0: 0.0, 1.0: 0.0, 1.0: 0.0, 1.0: 0.0, 1.0: 0.0, 1.0: 0.0, 1.0: 0.0, 1.0: 0.0, 1.0: 0.0, 1.0: 0.0, 0.0: 1.0, 1.0: 0.0, 1.0: 0.0, 1.0: 0.0, 1.0: 0.0, 1.0: 0.0, 1.0: 0.0, 0.0: 1.0, "
          ]
        },
        {
          "output_type": "stream",
          "name": "stderr",
          "text": [
            "368it [00:02, 155.79it/s]"
          ]
        },
        {
          "output_type": "stream",
          "name": "stdout",
          "text": [
            "1.0: 0.0, 1.0: 0.0, 1.0: 0.0, 1.0: 0.0, 1.0: 0.0, 1.0: 0.0, 1.0: 0.0, 1.0: 0.0, 1.0: 0.0, 1.0: 0.0, 1.0: 0.0, 1.0: 0.0, 1.0: 0.0, 1.0: 0.0, 1.0: 0.0, 1.0: 0.0, 1.0: 0.0, 1.0: 0.0, 1.0: 0.0, 1.0: 0.0, 0.0: 1.0, 1.0: 0.0, 1.0: 0.0, 1.0: 0.0, 1.0: 0.0, 1.0: 0.0, 1.0: 0.0, 1.0: 0.0, 1.0: 0.0, 1.0: 0.0, 1.0: "
          ]
        },
        {
          "output_type": "stream",
          "name": "stderr",
          "text": [
            "416it [00:02, 191.23it/s]"
          ]
        },
        {
          "output_type": "stream",
          "name": "stdout",
          "text": [
            "0.0, 1.0: 0.0, 1.0: 0.0, 1.0: 0.0, 1.0: 0.0, 1.0: 0.0, 1.0: 0.0, 1.0: 0.0, 1.0: 0.0, 0.0: 1.0, 1.0: 0.0, 1.0: 0.0, 1.0: 0.0, 1.0: 0.0, 1.0: 0.0, 1.0: 0.0, 1.0: 0.0, 0.0: 1.0, 1.0: 0.0, 1.0: 0.0, 1.0: 0.0, "
          ]
        },
        {
          "output_type": "stream",
          "name": "stderr",
          "text": [
            "464it [00:02, 209.42it/s]"
          ]
        },
        {
          "output_type": "stream",
          "name": "stdout",
          "text": [
            "1.0: 0.0, 1.0: 0.0, 1.0: 0.0, 1.0: 0.0, 1.0: 0.0, 0.0: 1.0, 1.0: 0.0, 1.0: 0.0, 1.0: 0.0, 1.0: 0.0, 0.0: 1.0, 1.0: 0.0, 1.0: 0.0, 1.0: 0.0, 1.0: 0.0, 1.0: 0.0, 1.0: 0.0, 1.0: 0.0, 1.0: 0.0, 1.0: 0.0, 0.0: 1.0, "
          ]
        },
        {
          "output_type": "stream",
          "name": "stderr",
          "text": [
            "\r487it [00:03, 210.66it/s]"
          ]
        },
        {
          "output_type": "stream",
          "name": "stdout",
          "text": [
            "1.0: 0.0, 1.0: 0.0, 0.0: 1.0, 0.0: 1.0, 1.0: 0.0, 1.0: 0.0, "
          ]
        },
        {
          "output_type": "stream",
          "name": "stderr",
          "text": [
            "\r510it [00:03, 143.92it/s]"
          ]
        },
        {
          "output_type": "stream",
          "name": "stdout",
          "text": [
            "1.0: 0.0, 1.0: 0.0, 1.0: 0.0, 1.0: 0.0, 1.0: 0.0, 1.0: 0.0, 1.0: 0.0, 1.0: 0.0, 1.0: 0.0, 1.0: 0.0, 1.0: 0.0, 1.0: 0.0, "
          ]
        },
        {
          "output_type": "stream",
          "name": "stderr",
          "text": [
            "552it [00:04, 89.47it/s]"
          ]
        },
        {
          "output_type": "stream",
          "name": "stdout",
          "text": [
            "1.0: 0.0, 1.0: 0.0, 1.0: 0.0, 0.0: 1.0, 1.0: 0.0, 1.0: 0.0, 1.0: 0.0, 1.0: 0.0, 1.0: 0.0, 1.0: 0.0, 1.0: 0.0, 1.0: 0.0, 0.0: 1.0, 1.0: 0.0, 1.0: 0.0, 1.0: 0.0, 1.0: 0.0, 1.0: 0.0, 1.0: 0.0, 1.0: 0.0, 1.0: 0.0, 1.0: 0.0, 1.0: 0.0, "
          ]
        },
        {
          "output_type": "stream",
          "name": "stderr",
          "text": [
            "628it [00:04, 162.39it/s]"
          ]
        },
        {
          "output_type": "stream",
          "name": "stdout",
          "text": [
            "1.0: 0.0, 1.0: 0.0, 1.0: 0.0, 1.0: 0.0, 0.0: 1.0, 1.0: 0.0, 0.0: 1.0, 1.0: 0.0, 1.0: 0.0, 1.0: 0.0, 1.0: 0.0, 1.0: 0.0, 1.0: 0.0, 1.0: 0.0, 1.0: 0.0, 1.0: 0.0, 1.0: 0.0, 1.0: 0.0, 1.0: 0.0, 1.0: 0.0, 1.0: 0.0, 1.0: 0.0, 1.0: 0.0, 0.0: 1.0, 0.0: 1.0, 1.0: 0.0, 1.0: 0.0, 0.0: 1.0, 0.0: 1.0, "
          ]
        },
        {
          "output_type": "stream",
          "name": "stderr",
          "text": [
            "675it [00:05, 99.90it/s]"
          ]
        },
        {
          "output_type": "stream",
          "name": "stdout",
          "text": [
            "1.0: 0.0, 1.0: 0.0, 1.0: 0.0, 1.0: 0.0, 0.0: 1.0, 1.0: 0.0, 1.0: 0.0, 1.0: 0.0, 0.0: 1.0, 0.0: 1.0, 1.0: 0.0, 1.0: 0.0, 1.0: 0.0, 1.0: 0.0, 0.0: 1.0, 0.0: 1.0, 1.0: 0.0, 1.0: 0.0, 1.0: 0.0, 1.0: 0.0, 1.0: 0.0, 1.0: 0.0, "
          ]
        },
        {
          "output_type": "stream",
          "name": "stderr",
          "text": [
            "724it [00:05, 142.97it/s]"
          ]
        },
        {
          "output_type": "stream",
          "name": "stdout",
          "text": [
            "1.0: 0.0, 0.0: 1.0, 1.0: 0.0, 1.0: 0.0, 1.0: 0.0, 1.0: 0.0, 1.0: 0.0, 1.0: 0.0, 1.0: 0.0, 1.0: 0.0, 1.0: 0.0, 1.0: 0.0, 1.0: 0.0, 1.0: 0.0, 1.0: 0.0, 0.0: 1.0, 1.0: 0.0, 1.0: 0.0, "
          ]
        },
        {
          "output_type": "stream",
          "name": "stderr",
          "text": [
            "773it [00:05, 179.97it/s]"
          ]
        },
        {
          "output_type": "stream",
          "name": "stdout",
          "text": [
            "1.0: 0.0, 1.0: 0.0, 0.0: 1.0, 0.0: 1.0, 1.0: 0.0, 0.0: 1.0, 1.0: 0.0, 1.0: 0.0, 1.0: 0.0, 1.0: 0.0, 0.0: 1.0, 1.0: 0.0, 0.0: 1.0, 0.0: 1.0, 1.0: 0.0, 1.0: 0.0, 1.0: 0.0, 1.0: 0.0, 1.0: 0.0, 0.0: 1.0, 1.0: 0.0, "
          ]
        },
        {
          "output_type": "stream",
          "name": "stderr",
          "text": [
            "821it [00:05, 205.91it/s]"
          ]
        },
        {
          "output_type": "stream",
          "name": "stdout",
          "text": [
            "1.0: 0.0, 1.0: 0.0, 1.0: 0.0, 1.0: 0.0, 1.0: 0.0, 1.0: 0.0, 0.0: 1.0, 1.0: 0.0, 1.0: 0.0, 1.0: 0.0, 1.0: 0.0, 0.0: 1.0, 1.0: 0.0, 1.0: 0.0, 1.0: 0.0, 1.0: 0.0, 1.0: 0.0, "
          ]
        },
        {
          "output_type": "stream",
          "name": "stderr",
          "text": [
            "868it [00:05, 214.53it/s]"
          ]
        },
        {
          "output_type": "stream",
          "name": "stdout",
          "text": [
            "0.0: 1.0, 1.0: 0.0, 1.0: 0.0, 1.0: 0.0, 1.0: 0.0, 1.0: 0.0, 0.0: 1.0, 0.0: 1.0, 1.0: 0.0, 1.0: 0.0, 1.0: 0.0, 1.0: 0.0, 1.0: 0.0, 1.0: 0.0, 1.0: 0.0, 1.0: 0.0, 0.0: 1.0, 0.0: 1.0, 1.0: 0.0, "
          ]
        },
        {
          "output_type": "stream",
          "name": "stderr",
          "text": [
            "917it [00:06, 151.41it/s]"
          ]
        },
        {
          "output_type": "stream",
          "name": "stdout",
          "text": [
            "1.0: 0.0, 1.0: 0.0, 1.0: 0.0, 1.0: 0.0, 1.0: 0.0, 1.0: 0.0, 1.0: 0.0, 1.0: 0.0, 1.0: 0.0, 1.0: 0.0, 1.0: 0.0, 1.0: 0.0, 1.0: 0.0, 0.0: 1.0, 1.0: 0.0, "
          ]
        },
        {
          "output_type": "stream",
          "name": "stderr",
          "text": [
            "960it [00:07, 89.04it/s]"
          ]
        },
        {
          "output_type": "stream",
          "name": "stdout",
          "text": [
            "1.0: 0.0, 0.0: 1.0, 1.0: 0.0, 1.0: 0.0, 1.0: 0.0, 1.0: 0.0, 1.0: 0.0, 1.0: 0.0, 1.0: 0.0, 1.0: 0.0, 1.0: 0.0, 1.0: 0.0, 1.0: 0.0, 1.0: 0.0, 1.0: 0.0, 1.0: 0.0, 1.0: 0.0, 1.0: 0.0, 0.0: 1.0, "
          ]
        },
        {
          "output_type": "stream",
          "name": "stderr",
          "text": [
            "1006it [00:07, 129.91it/s]"
          ]
        },
        {
          "output_type": "stream",
          "name": "stdout",
          "text": [
            "1.0: 0.0, 1.0: 0.0, 1.0: 0.0, 0.0: 1.0, 1.0: 0.0, 1.0: 0.0, 1.0: 0.0, 1.0: 0.0, 1.0: 0.0, 1.0: 0.0, 1.0: 0.0, 1.0: 0.0, 0.0: 1.0, 1.0: 0.0, 1.0: 0.0, 1.0: 0.0, 1.0: 0.0, 1.0: 0.0, "
          ]
        },
        {
          "output_type": "stream",
          "name": "stderr",
          "text": [
            "\r1024it [00:08, 127.60it/s]\n"
          ]
        },
        {
          "output_type": "stream",
          "name": "stdout",
          "text": [
            "1.0: 0.0, 1.0: 0.0, 1.0: 0.0, 1.0: 0.0, 0.0: 1.0, 1.0: 0.0, 1.0: 0.0, \n",
            "Epoch 031: | Loss: 0.73876 | Acc: 54.883\n",
            "\n"
          ]
        },
        {
          "output_type": "stream",
          "name": "stderr",
          "text": [
            "24it [00:00, 235.12it/s]"
          ]
        },
        {
          "output_type": "stream",
          "name": "stdout",
          "text": [
            "0.0: 1.0, 1.0: 0.0, 1.0: 0.0, 1.0: 0.0, 0.0: 1.0, 1.0: 0.0, 1.0: 0.0, 1.0: 0.0, 1.0: 0.0, "
          ]
        },
        {
          "output_type": "stream",
          "name": "stderr",
          "text": [
            "\r48it [00:00, 222.80it/s]"
          ]
        },
        {
          "output_type": "stream",
          "name": "stdout",
          "text": [
            "1.0: 0.0, 1.0: 0.0, 1.0: 0.0, 1.0: 0.0, 1.0: 0.0, 1.0: 0.0, 1.0: 0.0, "
          ]
        },
        {
          "output_type": "stream",
          "name": "stderr",
          "text": [
            "\r72it [00:00, 226.00it/s]"
          ]
        },
        {
          "output_type": "stream",
          "name": "stdout",
          "text": [
            "1.0: 0.0, 0.0: 1.0, 1.0: 0.0, 1.0: 0.0, 0.0: 1.0, 1.0: 0.0, 1.0: 0.0, 1.0: 0.0, 1.0: 0.0, 0.0: 1.0, 0.0: 1.0, "
          ]
        },
        {
          "output_type": "stream",
          "name": "stderr",
          "text": [
            "\r96it [00:00, 228.12it/s]"
          ]
        },
        {
          "output_type": "stream",
          "name": "stdout",
          "text": [
            "1.0: 0.0, 0.0: 1.0, 1.0: 0.0, 1.0: 0.0, 1.0: 0.0, 1.0: 0.0, "
          ]
        },
        {
          "output_type": "stream",
          "name": "stderr",
          "text": [
            "\r120it [00:00, 230.21it/s]"
          ]
        },
        {
          "output_type": "stream",
          "name": "stdout",
          "text": [
            "0.0: 1.0, 0.0: 1.0, 1.0: 0.0, 0.0: 1.0, 1.0: 0.0, 1.0: 0.0, 0.0: 1.0, 1.0: 0.0, 0.0: 1.0, 1.0: 0.0, 1.0: 0.0, 1.0: 0.0, 1.0: "
          ]
        },
        {
          "output_type": "stream",
          "name": "stderr",
          "text": [
            "\r144it [00:00, 225.60it/s]"
          ]
        },
        {
          "output_type": "stream",
          "name": "stdout",
          "text": [
            "0.0, 1.0: 0.0, 1.0: 0.0, 1.0: 0.0, 1.0: 0.0, 1.0: 0.0, 1.0: 0.0, 1.0: 0.0, 1.0: 0.0, 1.0: 0.0, 1.0: 0.0, 1.0: 0.0, "
          ]
        },
        {
          "output_type": "stream",
          "name": "stderr",
          "text": [
            "\r167it [00:00, 219.38it/s]"
          ]
        },
        {
          "output_type": "stream",
          "name": "stdout",
          "text": [
            "1.0: 0.0, 1.0: 0.0, 1.0: 0.0, 1.0: 0.0, 1.0: 0.0, 1.0: 0.0, 1.0: 0.0, 1.0: 0.0, 1.0: 0.0, 1.0: 0.0, 1.0: 0.0, 1.0: 0.0, 1.0: 0.0, 1.0: 0.0, "
          ]
        },
        {
          "output_type": "stream",
          "name": "stderr",
          "text": [
            "\r189it [00:00, 217.91it/s]"
          ]
        },
        {
          "output_type": "stream",
          "name": "stdout",
          "text": [
            "1.0: 0.0, 1.0: 0.0, 1.0: 0.0, 1.0: 0.0, 1.0: 0.0, 1.0: 0.0, 1.0: 0.0, 1.0: 0.0, 1.0: 0.0, 1.0: 0.0, 1.0: 0.0, "
          ]
        },
        {
          "output_type": "stream",
          "name": "stderr",
          "text": [
            "\r211it [00:00, 212.18it/s]"
          ]
        },
        {
          "output_type": "stream",
          "name": "stdout",
          "text": [
            "0.0: 1.0, 1.0: 0.0, 0.0: 1.0, 1.0: 0.0, 1.0: 0.0, 1.0: 0.0, 1.0: 0.0, 1.0: 0.0, 0.0: 1.0, 1.0: 0.0, 1.0: 0.0, 1.0: 0.0, 1.0: 0.0, 1.0: 0.0, 1.0: 0.0, 1.0: 0.0, "
          ]
        },
        {
          "output_type": "stream",
          "name": "stderr",
          "text": [
            "\r233it [00:01, 206.47it/s]"
          ]
        },
        {
          "output_type": "stream",
          "name": "stdout",
          "text": [
            "1.0: 0.0, 0.0: 1.0, 1.0: 0.0, 1.0: 0.0, 1.0: 0.0, 1.0: 0.0, 1.0: 0.0, 1.0: 0.0, 1.0: 0.0, 1.0: 0.0, 1.0: 0.0, "
          ]
        },
        {
          "output_type": "stream",
          "name": "stderr",
          "text": [
            "280it [00:01, 176.60it/s]"
          ]
        },
        {
          "output_type": "stream",
          "name": "stdout",
          "text": [
            "1.0: 0.0, 1.0: 0.0, 1.0: 0.0, 1.0: 0.0, 1.0: 0.0, 1.0: 0.0, 1.0: 0.0, 1.0: 0.0, 1.0: 0.0, 0.0: 1.0, 0.0: 1.0, 1.0: 0.0, 1.0: 0.0, 1.0: 0.0, 1.0: 0.0, 1.0: 0.0, 1.0: 0.0, 1.0: 0.0, 1.0: 0.0, 1.0: 0.0, 1.0: 0.0, 1.0: 0.0, 1.0: 0.0, 1.0: 0.0, 1.0: 0.0, 1.0: "
          ]
        },
        {
          "output_type": "stream",
          "name": "stderr",
          "text": [
            "326it [00:01, 199.97it/s]"
          ]
        },
        {
          "output_type": "stream",
          "name": "stdout",
          "text": [
            "0.0, 1.0: 0.0, 1.0: 0.0, 0.0: 1.0, 1.0: 0.0, 1.0: 0.0, 1.0: 0.0, 1.0: 0.0, 1.0: 0.0, 1.0: 0.0, 1.0: 0.0, 1.0: 0.0, 1.0: 0.0, 1.0: 0.0, 1.0: 0.0, 1.0: 0.0, 1.0: 0.0, 1.0: 0.0, 0.0: 1.0, 0.0: 1.0, 1.0: 0.0, 1.0: 0.0, 1.0: 0.0, 1.0: 0.0, 1.0: 0.0, 1.0: 0.0, 1.0: 0.0, 1.0: 0.0, "
          ]
        },
        {
          "output_type": "stream",
          "name": "stderr",
          "text": [
            "373it [00:01, 214.17it/s]"
          ]
        },
        {
          "output_type": "stream",
          "name": "stdout",
          "text": [
            "1.0: 0.0, 1.0: 0.0, 0.0: 1.0, 1.0: 0.0, 1.0: 0.0, 1.0: 0.0, 1.0: 0.0, 1.0: 0.0, 1.0: 0.0, 1.0: 0.0, 1.0: 0.0, 1.0: 0.0, 1.0: 0.0, 1.0: 0.0, 1.0: 0.0, 1.0: 0.0, 1.0: 0.0, 1.0: 0.0, 1.0: 0.0, 1.0: 0.0, 1.0: 0.0, 1.0: 0.0, 1.0: 0.0, 1.0: 0.0, 1.0: 0.0, 1.0: 0.0, 1.0: 0.0, 1.0: 0.0, "
          ]
        },
        {
          "output_type": "stream",
          "name": "stderr",
          "text": [
            "421it [00:02, 221.99it/s]"
          ]
        },
        {
          "output_type": "stream",
          "name": "stdout",
          "text": [
            "1.0: 0.0, 1.0: 0.0, 1.0: 0.0, 1.0: 0.0, 1.0: 0.0, 1.0: 0.0, 1.0: 0.0, 1.0: 0.0, 1.0: 0.0, 1.0: 0.0, 1.0: 0.0, 1.0: 0.0, 1.0: 0.0, 1.0: 0.0, 1.0: 0.0, 1.0: 0.0, "
          ]
        },
        {
          "output_type": "stream",
          "name": "stderr",
          "text": [
            "467it [00:02, 185.71it/s]"
          ]
        },
        {
          "output_type": "stream",
          "name": "stdout",
          "text": [
            "1.0: 0.0, 1.0: 0.0, 1.0: 0.0, 1.0: 0.0, 1.0: 0.0, 1.0: 0.0, 1.0: 0.0, 1.0: 0.0, 1.0: 0.0, 1.0: 0.0, 0.0: 1.0, 1.0: 0.0, 1.0: 0.0, 1.0: 0.0, 1.0: 0.0, 1.0: 0.0, 1.0: 0.0, 1.0: 0.0, 1.0"
          ]
        },
        {
          "output_type": "stream",
          "name": "stderr",
          "text": [
            "515it [00:02, 208.90it/s]"
          ]
        },
        {
          "output_type": "stream",
          "name": "stdout",
          "text": [
            ": 0.0, 1.0: 0.0, 1.0: 0.0, 1.0: 0.0, 1.0: 0.0, 1.0: 0.0, 1.0: 0.0, 1.0: 0.0, 1.0: 0.0, 1.0: 0.0, 1.0: 0.0, 1.0: 0.0, 1.0: 0.0, 1.0: 0.0, 1.0: 0.0, 1.0: 0.0, 1.0: 0.0, 1.0: 0.0, "
          ]
        },
        {
          "output_type": "stream",
          "name": "stderr",
          "text": [
            "564it [00:02, 224.34it/s]"
          ]
        },
        {
          "output_type": "stream",
          "name": "stdout",
          "text": [
            "0.0: 1.0, 1.0: 0.0, 1.0: 0.0, 0.0: 1.0, 1.0: 0.0, 1.0: 0.0, 1.0: 0.0, 1.0: 0.0, 1.0: 0.0, 1.0: 0.0, 1.0: 0.0, 1.0: 0.0, 1.0: 0.0, 1.0: 0.0, 1.0: 0.0, 1.0: 0.0, 1.0: 0.0, 1.0: 0.0, 1.0: 0.0, 1.0: 0.0, 1.0: 0.0, "
          ]
        },
        {
          "output_type": "stream",
          "name": "stderr",
          "text": [
            "\r588it [00:02, 225.15it/s]"
          ]
        },
        {
          "output_type": "stream",
          "name": "stdout",
          "text": [
            "1.0: 0.0, 1.0: 0.0, 1.0: 0.0, 1.0: 0.0, 1.0: 0.0, 1.0: 0.0, 1.0: 0.0, "
          ]
        },
        {
          "output_type": "stream",
          "name": "stderr",
          "text": [
            "636it [00:03, 164.68it/s]"
          ]
        },
        {
          "output_type": "stream",
          "name": "stdout",
          "text": [
            "1.0: 0.0, 1.0: 0.0, 1.0: 0.0, 1.0: 0.0, 1.0: 0.0, 0.0: 1.0, 1.0: 0.0, 1.0: 0.0, 1.0: 0.0, 1.0: 0.0, 1.0: 0.0, 1.0: 0.0, 1.0: 0.0, 1.0: 0.0, 1.0: 0.0, 1.0: 0.0, 1.0: 0.0, 1.0: 0.0, 1.0: 0.0, 1.0: 0.0, 1.0: 0.0, "
          ]
        },
        {
          "output_type": "stream",
          "name": "stderr",
          "text": [
            "683it [00:03, 192.82it/s]"
          ]
        },
        {
          "output_type": "stream",
          "name": "stdout",
          "text": [
            "1.0: 0.0, 1.0: 0.0, 1.0: 0.0, 0.0: 1.0, 1.0: 0.0, 1.0: 0.0, 1.0: 0.0, 1.0: 0.0, 1.0: 0.0, 1.0: 0.0, 1.0: 0.0, 1.0: 0.0, 1.0: 0.0, 1.0: 0.0, 0.0: 1.0, 1.0: 0.0, 1.0: 0.0, 1.0: 0.0, 0.0: 1.0, 1.0: 0.0, "
          ]
        },
        {
          "output_type": "stream",
          "name": "stderr",
          "text": [
            "733it [00:03, 218.07it/s]"
          ]
        },
        {
          "output_type": "stream",
          "name": "stdout",
          "text": [
            "0.0: 1.0, 1.0: 0.0, 1.0: 0.0, 1.0: 0.0, 1.0: 0.0, 1.0: 0.0, 0.0: 1.0, 1.0: 0.0, 1.0: 0.0, 1.0: 0.0, 0.0: 1.0, 1.0: 0.0, 1.0: 0.0, 0.0: 1.0, 1.0: 0.0, 1.0: 0.0, "
          ]
        },
        {
          "output_type": "stream",
          "name": "stderr",
          "text": [
            "781it [00:03, 224.40it/s]"
          ]
        },
        {
          "output_type": "stream",
          "name": "stdout",
          "text": [
            "1.0: 0.0, 0.0: 1.0, 1.0: 0.0, 1.0: 0.0, 1.0: 0.0, 1.0: 0.0, 1.0: 0.0, 1.0: 0.0, 1.0: 0.0, 1.0: 0.0, 1.0: 0.0, 1.0: 0.0, 0.0: 1.0, 1.0: 0.0, 1.0: 0.0, 1.0: 0.0, 1.0: 0.0, 0.0: 1.0, 1.0: 0.0, 1.0: 0.0, "
          ]
        },
        {
          "output_type": "stream",
          "name": "stderr",
          "text": [
            "829it [00:04, 225.29it/s]"
          ]
        },
        {
          "output_type": "stream",
          "name": "stdout",
          "text": [
            "1.0: 0.0, 1.0: 0.0, 1.0: 0.0, 1.0: 0.0, 1.0: 0.0, 0.0: 1.0, 1.0: 0.0, 1.0: 0.0, 1.0: 0.0, 1.0: 0.0, 1.0: 0.0, 1.0: 0.0, 1.0: 0.0, 1.0: 0.0, 1.0: 0.0, "
          ]
        },
        {
          "output_type": "stream",
          "name": "stderr",
          "text": [
            "\r852it [00:04, 191.67it/s]"
          ]
        },
        {
          "output_type": "stream",
          "name": "stdout",
          "text": [
            "1.0: 0.0, 1.0: 0.0, 1.0: 0.0, 0.0: 1.0, 0.0: 1.0, 1.0: 0.0, 1.0: 0.0, 1.0: 0.0, 1.0: 0.0, "
          ]
        },
        {
          "output_type": "stream",
          "name": "stderr",
          "text": [
            "897it [00:05, 94.28it/s]"
          ]
        },
        {
          "output_type": "stream",
          "name": "stdout",
          "text": [
            "1.0: 0.0, 1.0: 0.0, 1.0: 0.0, 1.0: 0.0, 1.0: 0.0, 1.0: 0.0, 1.0: 0.0, 1.0: 0.0, 1.0: 0.0, 0.0: 1.0, 1.0: 0.0, 1.0: 0.0, 1.0: 0.0, 1.0: 0.0, 1.0: 0.0, 1.0: 0.0, 1.0: "
          ]
        },
        {
          "output_type": "stream",
          "name": "stderr",
          "text": [
            "942it [00:05, 132.58it/s]"
          ]
        },
        {
          "output_type": "stream",
          "name": "stdout",
          "text": [
            "0.0, 1.0: 0.0, 1.0: 0.0, 1.0: 0.0, 0.0: 1.0, 1.0: 0.0, 1.0: 0.0, 0.0: 1.0, 1.0: 0.0, 1.0: 0.0, 1.0: 0.0, 0.0: 1.0, 0.0: 1.0, 1.0: 0.0, 1.0: 0.0, 0.0: 1.0, 1.0: 0.0, 1.0: 0.0, 1.0: 0.0, 1.0: 0.0, 1.0: 0.0, 1.0: "
          ]
        },
        {
          "output_type": "stream",
          "name": "stderr",
          "text": [
            "992it [00:05, 175.70it/s]"
          ]
        },
        {
          "output_type": "stream",
          "name": "stdout",
          "text": [
            "0.0, 1.0: 0.0, 1.0: 0.0, 1.0: 0.0, 0.0: 1.0, 1.0: 0.0, 1.0: 0.0, 1.0: 0.0, 1.0: 0.0, 1.0: 0.0, 1.0: 0.0, 1.0: 0.0, 0.0: 1.0, 1.0: 0.0, 1.0: 0.0, 1.0: 0.0, 1.0: 0.0, 1.0: 0.0, 1.0: 0.0, 1.0: 0.0, "
          ]
        },
        {
          "output_type": "stream",
          "name": "stderr",
          "text": [
            "1024it [00:05, 181.79it/s]\n"
          ]
        },
        {
          "output_type": "stream",
          "name": "stdout",
          "text": [
            "1.0: 0.0, 1.0: 0.0, 1.0: 0.0, 1.0: 0.0, 1.0: 0.0, 1.0: 0.0, 1.0: 0.0, 1.0: 0.0, 1.0: 0.0, 1.0: 0.0, \n",
            "Epoch 032: | Loss: 0.72774 | Acc: 57.227\n",
            "\n"
          ]
        },
        {
          "output_type": "stream",
          "name": "stderr",
          "text": [
            "\r0it [00:00, ?it/s]"
          ]
        },
        {
          "output_type": "stream",
          "name": "stdout",
          "text": [
            "0.0: 1.0, 1.0: 0.0, 1.0: 0.0, 1.0: 0.0, 1.0: 0.0, 0.0: 1.0, "
          ]
        },
        {
          "output_type": "stream",
          "name": "stderr",
          "text": [
            "48it [00:00, 238.39it/s]"
          ]
        },
        {
          "output_type": "stream",
          "name": "stdout",
          "text": [
            "1.0: 0.0, 1.0: 0.0, 1.0: 0.0, 0.0: 1.0, 1.0: 0.0, 1.0: 0.0, 1.0: 0.0, 1.0: 0.0, 1.0: 0.0, 1.0: 0.0, 1.0: 0.0, 1.0: 0.0, "
          ]
        },
        {
          "output_type": "stream",
          "name": "stderr",
          "text": [
            "98it [00:00, 175.41it/s]"
          ]
        },
        {
          "output_type": "stream",
          "name": "stdout",
          "text": [
            "1.0: 0.0, 0.0: 1.0, 0.0: 1.0, 1.0: 0.0, 1.0: 0.0, 1.0: 0.0, 1.0: 0.0, 1.0: 0.0, 1.0: 0.0, 1.0: 0.0, 1.0: 0.0, 1.0: 0.0, 1.0: 0.0, "
          ]
        },
        {
          "output_type": "stream",
          "name": "stderr",
          "text": [
            "147it [00:00, 206.88it/s]"
          ]
        },
        {
          "output_type": "stream",
          "name": "stdout",
          "text": [
            "1.0: 0.0, 0.0: 1.0, 1.0: 0.0, 1.0: 0.0, 1.0: 0.0, 0.0: 1.0, 1.0: 0.0, 1.0: 0.0, 1.0: 0.0, 1.0: 0.0, 1.0: 0.0, 1.0: 0.0, 1.0: 0.0, 1.0: 0.0, 1.0: 0.0, 1.0: 0.0, 1.0: 0.0, 1.0: 0.0, 1.0: 0.0, 1.0: 0.0, 1.0: 0.0, 1.0: 0.0, 1.0: 0.0, 1.0: 0.0, "
          ]
        },
        {
          "output_type": "stream",
          "name": "stderr",
          "text": [
            "194it [00:00, 214.89it/s]"
          ]
        },
        {
          "output_type": "stream",
          "name": "stdout",
          "text": [
            "1.0: 0.0, 1.0: 0.0, 1.0: 0.0, 1.0: 0.0, 0.0: 1.0, 1.0: 0.0, 1.0: 0.0, 1.0: 0.0, 1.0: 0.0, 1.0: 0.0, 1.0: 0.0, 1.0: 0.0, 1.0: 0.0, 1.0: 0.0, 1.0: 0.0, 1.0: 0.0, 1.0: 0.0, 1.0: 0.0, 1.0: 0.0, 1.0: 0.0, 1.0: 0.0, 1.0: 0.0, 1.0: 0.0, 1.0: 0.0, 1.0: 0.0, "
          ]
        },
        {
          "output_type": "stream",
          "name": "stderr",
          "text": [
            "242it [00:01, 222.11it/s]"
          ]
        },
        {
          "output_type": "stream",
          "name": "stdout",
          "text": [
            "1.0: 0.0, 1.0: 0.0, 1.0: 0.0, 1.0: 0.0, 1.0: 0.0, 1.0: 0.0, 1.0: 0.0, 1.0: 0.0, 1.0: 0.0, 1.0: 0.0, 1.0: 0.0, 1.0: 0.0, 0.0: 1.0, 1.0: 0.0, 1.0: 0.0, 1.0: 0.0, 1.0: 0.0, 1.0: 0.0, 1.0: 0.0, 1.0: 0.0, 1.0: 0.0, 1.0: 0.0, 1.0: 0.0, 1.0: 0.0, 1.0: 0.0, "
          ]
        },
        {
          "output_type": "stream",
          "name": "stderr",
          "text": [
            "288it [00:01, 224.24it/s]"
          ]
        },
        {
          "output_type": "stream",
          "name": "stdout",
          "text": [
            "1.0: 0.0, 1.0: 0.0, 1.0: 0.0, 1.0: 0.0, 1.0: 0.0, 1.0: 0.0, 1.0: 0.0, 1.0: 0.0, 1.0: 0.0, 1.0: 0.0, 1.0: 0.0, 1.0: 0.0, 1.0: 0.0, 1.0: 0.0, 1.0: 0.0, 1.0: 0.0, 1.0: 0.0, 1.0: 0.0, 1.0: 0.0, 1.0: 0.0, 1.0: 0.0, 1.0: 0.0, 1.0: 0.0, 1.0: 0.0, 1.0: 0.0, "
          ]
        },
        {
          "output_type": "stream",
          "name": "stderr",
          "text": [
            "336it [00:02, 77.81it/s] "
          ]
        },
        {
          "output_type": "stream",
          "name": "stdout",
          "text": [
            "1.0: 0.0, 1.0: 0.0, 1.0: 0.0, 1.0: 0.0, 0.0: 1.0, 1.0: 0.0, 1.0: 0.0, 1.0: 0.0, 1.0: 0.0, 1.0: 0.0, 1.0: 0.0, 1.0: 0.0, 1.0: 0.0, 1.0: 0.0, 1.0: 0.0, 1.0: 0.0, 1.0: 0.0, 1.0: 0.0, 1.0: 0.0, 1.0: 0.0, 1.0: 0.0, 1.0: 0.0, 1.0: 0.0, 1.0: 0.0, 1.0: 0.0, "
          ]
        },
        {
          "output_type": "stream",
          "name": "stderr",
          "text": [
            "377it [00:02, 91.35it/s]"
          ]
        },
        {
          "output_type": "stream",
          "name": "stdout",
          "text": [
            "1.0: 0.0, 1.0: 0.0, 1.0: 0.0, 1.0: 0.0, 1.0: 0.0, 0.0: 1.0, 1.0: 0.0, 1.0: 0.0, 1.0: 0.0, 1.0: 0.0, 1.0: 0.0, 1.0: 0.0, 1.0: 0.0, 1.0: 0.0, 1.0: 0.0, 1.0: 0.0, 1.0: 0.0, 1.0: 0.0, 1.0: 0.0, 1.0: 0.0, 0.0: 1.0, 1.0: 0.0, 1.0: 0.0, 1.0: 0.0, 1.0: 0.0, 1.0: 0.0, 1.0: 0.0, 1.0: 0.0, "
          ]
        },
        {
          "output_type": "stream",
          "name": "stderr",
          "text": [
            "417it [00:03, 75.18it/s]"
          ]
        },
        {
          "output_type": "stream",
          "name": "stdout",
          "text": [
            "1.0: 0.0, 1.0: 0.0, 1.0: 0.0, 1.0: 0.0, 1.0: 0.0, 1.0: 0.0, 1.0: 0.0, 1.0: 0.0, 1.0: 0.0, 1.0: 0.0, 0.0: 1.0, 1.0: 0.0, 1.0: 0.0, 1.0: 0.0, 1.0: 0.0, 1.0: 0.0, 1.0: 0.0, 1.0: 0.0, 0.0: 1.0, 1.0: 0.0, "
          ]
        },
        {
          "output_type": "stream",
          "name": "stderr",
          "text": [
            "462it [00:03, 115.92it/s]"
          ]
        },
        {
          "output_type": "stream",
          "name": "stdout",
          "text": [
            "1.0: 0.0, 1.0: 0.0, 0.0: 1.0, 1.0: 0.0, 1.0: 0.0, 1.0: 0.0, 1.0: 0.0, 1.0: 0.0, 1.0: 0.0, 1.0: 0.0, 1.0: 0.0, "
          ]
        },
        {
          "output_type": "stream",
          "name": "stderr",
          "text": [
            "505it [00:04, 83.31it/s]"
          ]
        },
        {
          "output_type": "stream",
          "name": "stdout",
          "text": [
            "0.0: 1.0, 1.0: 0.0, 1.0: 0.0, 1.0: 0.0, 1.0: 0.0, 1.0: 0.0, 1.0: 0.0, 1.0: 0.0, 1.0: 0.0, 1.0: 0.0, 1.0: 0.0, 1.0: 0.0, 1.0: 0.0, 0.0: 1.0, 1.0: 0.0, 1.0: 0.0, 1.0: 0.0, 1.0: 0.0, 1.0: 0.0, 1.0: 0.0, "
          ]
        },
        {
          "output_type": "stream",
          "name": "stderr",
          "text": [
            "\r528it [00:04, 103.41it/s]"
          ]
        },
        {
          "output_type": "stream",
          "name": "stdout",
          "text": [
            "1.0: 0.0, 0.0: 1.0, 1.0: 0.0, 0.0: 1.0, 0.0: 1.0, 1.0: 0.0, 0.0: 1.0, 1.0: 0.0, 1.0: 0.0, 1.0: 0.0, 1.0: 0.0, 1.0: 0.0, 1.0: 0.0, 1.0: 0.0, 1.0: 0.0, 1.0: 0.0, 1.0: 0.0, 1.0: 0.0, "
          ]
        },
        {
          "output_type": "stream",
          "name": "stderr",
          "text": [
            "592it [00:05, 83.30it/s]"
          ]
        },
        {
          "output_type": "stream",
          "name": "stdout",
          "text": [
            "1.0: 0.0, 1.0: 0.0, 1.0: 0.0, 1.0: 0.0, 1.0: 0.0, 1.0: 0.0, 1.0: 0.0, 1.0: 0.0, 0.0: 1.0, 1.0: 0.0, 1.0: 0.0, 0.0: 1.0, 1.0: 0.0, 1.0: 0.0, 0.0: 1.0, 1.0: 0.0, 1.0: 0.0, 1.0: 0.0, 1.0: 0.0, 1.0: 0.0, "
          ]
        },
        {
          "output_type": "stream",
          "name": "stderr",
          "text": [
            "638it [00:05, 124.46it/s]"
          ]
        },
        {
          "output_type": "stream",
          "name": "stdout",
          "text": [
            "1.0: 0.0, 1.0: 0.0, 1.0: 0.0, 1.0: 0.0, 1.0: 0.0, 1.0: 0.0, 1.0: 0.0, 1.0: 0.0, 1.0: 0.0, 1.0: 0.0, 1.0: 0.0, 1.0: 0.0, 0.0: 1.0, 1.0: 0.0, 1.0: 0.0, 1.0: 0.0, 1.0: 0.0, 0.0: 1.0, 0.0: 1.0, 1.0: 0.0, 1.0: 0.0, 1.0: 0.0, "
          ]
        },
        {
          "output_type": "stream",
          "name": "stderr",
          "text": [
            "687it [00:05, 167.58it/s]"
          ]
        },
        {
          "output_type": "stream",
          "name": "stdout",
          "text": [
            "1.0: 0.0, 1.0: 0.0, 1.0: 0.0, 1.0: 0.0, 1.0: 0.0, 1.0: 0.0, 1.0: 0.0, 1.0: 0.0, 1.0: 0.0, 0.0: 1.0, 1.0: 0.0, 1.0: 0.0, 1.0: 0.0, 1.0: 0.0, 1.0: 0.0, 0.0: 1.0, 1.0: 0.0, 1.0: 0.0, 1.0: 0.0, 1.0: 0.0, "
          ]
        },
        {
          "output_type": "stream",
          "name": "stderr",
          "text": [
            "734it [00:05, 194.82it/s]"
          ]
        },
        {
          "output_type": "stream",
          "name": "stdout",
          "text": [
            "1.0: 0.0, 1.0: 0.0, 0.0: 1.0, 1.0: 0.0, 0.0: 1.0, 1.0: 0.0, 1.0: 0.0, 1.0: 0.0, 0.0: 1.0, 1.0: 0.0, 1.0: 0.0, 1.0: 0.0, 1.0: 0.0, 1.0: 0.0, 1.0: 0.0, 1.0: 0.0, 1.0: 0.0, 1.0: 0.0, 0.0: 1.0, 1.0: 0.0, 1.0: 0.0, "
          ]
        },
        {
          "output_type": "stream",
          "name": "stderr",
          "text": [
            "783it [00:06, 216.17it/s]"
          ]
        },
        {
          "output_type": "stream",
          "name": "stdout",
          "text": [
            "1.0: 0.0, 0.0: 1.0, 1.0: 0.0, 1.0: 0.0, 1.0: 0.0, 1.0: 0.0, 1.0: 0.0, 1.0: 0.0, 1.0: 0.0, 1.0: 0.0, 1.0: 0.0, 1.0: 0.0, 1.0: 0.0, 1.0: 0.0, 0.0: "
          ]
        },
        {
          "output_type": "stream",
          "name": "stderr",
          "text": [
            "832it [00:06, 196.88it/s]"
          ]
        },
        {
          "output_type": "stream",
          "name": "stdout",
          "text": [
            "1.0, 1.0: 0.0, 1.0: 0.0, 1.0: 0.0, 1.0: 0.0, 1.0: 0.0, 1.0: 0.0, 1.0: 0.0, 1.0: 0.0, 1.0: 0.0, 1.0: 0.0, 1.0: 0.0, 1.0: 0.0, 0.0: 1.0, 1.0: 0.0, 1.0: 0.0, 0.0: 1.0, 1.0: 0.0, 1.0: 0.0, "
          ]
        },
        {
          "output_type": "stream",
          "name": "stderr",
          "text": [
            "879it [00:06, 211.06it/s]"
          ]
        },
        {
          "output_type": "stream",
          "name": "stdout",
          "text": [
            "1.0: 0.0, 1.0: 0.0, 1.0: 0.0, 1.0: 0.0, 1.0: 0.0, 1.0: 0.0, 1.0: 0.0, 1.0: 0.0, 0.0: 1.0, 0.0: 1.0, 1.0: 0.0, 1.0: 0.0, 1.0: 0.0, "
          ]
        },
        {
          "output_type": "stream",
          "name": "stderr",
          "text": [
            "928it [00:06, 225.16it/s]"
          ]
        },
        {
          "output_type": "stream",
          "name": "stdout",
          "text": [
            "1.0: 0.0, 1.0: 0.0, 1.0: 0.0, 1.0: 0.0, 1.0: 0.0, 1.0: 0.0, 1.0: 0.0, 0.0: 1.0, 1.0: 0.0, 1.0: 0.0, 0.0: 1.0, 1.0: 0.0, 1.0: 0.0, 1.0: 0.0, 1.0: 0.0, 1.0: 0.0, 1.0: 0.0, 1.0: "
          ]
        },
        {
          "output_type": "stream",
          "name": "stderr",
          "text": [
            "977it [00:07, 232.75it/s]"
          ]
        },
        {
          "output_type": "stream",
          "name": "stdout",
          "text": [
            "0.0, 1.0: 0.0, 0.0: 1.0, 1.0: 0.0, 1.0: 0.0, 1.0: 0.0, 1.0: 0.0, 1.0: 0.0, 1.0: 0.0, 1.0: 0.0, 1.0: 0.0, 1.0: 0.0, 1.0: 0.0, 1.0: 0.0, 1.0: 0.0, 1.0: 0.0, 1.0: 0.0, 1.0: 0.0, "
          ]
        },
        {
          "output_type": "stream",
          "name": "stderr",
          "text": [
            "1024it [00:07, 140.39it/s]\n"
          ]
        },
        {
          "output_type": "stream",
          "name": "stdout",
          "text": [
            "1.0: 0.0, 1.0: 0.0, 1.0: 0.0, 0.0: 1.0, 1.0: 0.0, 1.0: 0.0, 1.0: 0.0, 1.0: 0.0, 1.0: 0.0, 1.0: 0.0, 1.0: 0.0, 1.0: 0.0, 1.0: 0.0, 1.0: 0.0, \n",
            "Epoch 033: | Loss: 0.72384 | Acc: 58.008\n",
            "\n"
          ]
        },
        {
          "output_type": "stream",
          "name": "stderr",
          "text": [
            "23it [00:00, 222.69it/s]"
          ]
        },
        {
          "output_type": "stream",
          "name": "stdout",
          "text": [
            "1.0: 0.0, 1.0: 0.0, 1.0: 0.0, 1.0: 0.0, 1.0: 0.0, 1.0: 0.0, "
          ]
        },
        {
          "output_type": "stream",
          "name": "stderr",
          "text": [
            "\r46it [00:00, 129.02it/s]"
          ]
        },
        {
          "output_type": "stream",
          "name": "stdout",
          "text": [
            "1.0: 0.0, 1.0: 0.0, 1.0: 0.0, 1.0: 0.0, 1.0: 0.0, 1.0: 0.0, 0.0: 1.0, 1.0: 0.0, "
          ]
        },
        {
          "output_type": "stream",
          "name": "stderr",
          "text": [
            "88it [00:01, 81.13it/s]"
          ]
        },
        {
          "output_type": "stream",
          "name": "stdout",
          "text": [
            "1.0: 0.0, 0.0: 1.0, 1.0: 0.0, 1.0: 0.0, 1.0: 0.0, 1.0: 0.0, 1.0: 0.0, 0.0: 1.0, 1.0: 0.0, 0.0: 1.0, 1.0: 0.0, 1.0: 0.0, 1.0: 0.0, 1.0: 0.0, 0.0: 1.0, 1.0: 0.0, 0.0: 1.0, "
          ]
        },
        {
          "output_type": "stream",
          "name": "stderr",
          "text": [
            "137it [00:01, 135.83it/s]"
          ]
        },
        {
          "output_type": "stream",
          "name": "stdout",
          "text": [
            "1.0: 0.0, 1.0: 0.0, 1.0: 0.0, 1.0: 0.0, 1.0: 0.0, 1.0: 0.0, 1.0: 0.0, 1.0: 0.0, 1.0: 0.0, 1.0: 0.0, 1.0: 0.0, 1.0: 0.0, 1.0: 0.0, 1.0: 0.0, 0.0: 1.0, 1.0: 0.0, 1.0: 0.0, 1.0: 0.0, 1.0: 0.0, 1.0: "
          ]
        },
        {
          "output_type": "stream",
          "name": "stderr",
          "text": [
            "183it [00:01, 171.50it/s]"
          ]
        },
        {
          "output_type": "stream",
          "name": "stdout",
          "text": [
            "0.0, 1.0: 0.0, 1.0: 0.0, 1.0: 0.0, 1.0: 0.0, 1.0: 0.0, 1.0: 0.0, 1.0: 0.0, 1.0: 0.0, 1.0: 0.0, 1.0: 0.0, 1.0: 0.0, 1.0: 0.0, 1.0: 0.0, 1.0: 0.0, 1.0: 0.0, 1.0: 0.0, 1.0: 0.0, 1.0: 0.0, 1.0: 0.0, 1.0: 0.0, 1.0: 0.0, 1.0: 0.0, 1.0: 0.0, 1.0: 0.0, 1.0: 0.0, 1.0: 0.0, "
          ]
        },
        {
          "output_type": "stream",
          "name": "stderr",
          "text": [
            "230it [00:01, 197.22it/s]"
          ]
        },
        {
          "output_type": "stream",
          "name": "stdout",
          "text": [
            "1.0: 0.0, 1.0: 0.0, 1.0: 0.0, 1.0: 0.0, 1.0: 0.0, 1.0: 0.0, 1.0: 0.0, 1.0: 0.0, 1.0: 0.0, 1.0: 0.0, 1.0: 0.0, 1.0: 0.0, 1.0: 0.0, 1.0: 0.0, 1.0: 0.0, 1.0: 0.0, 1.0: 0.0, 1.0: 0.0, 1.0: 0.0, 1.0: 0.0, 1.0: 0.0, 1.0: 0.0, 1.0: 0.0, "
          ]
        },
        {
          "output_type": "stream",
          "name": "stderr",
          "text": [
            "277it [00:01, 207.75it/s]"
          ]
        },
        {
          "output_type": "stream",
          "name": "stdout",
          "text": [
            "1.0: 0.0, 1.0: 0.0, 1.0: 0.0, 1.0: 0.0, 1.0: 0.0, 1.0: 0.0, 1.0: 0.0, 1.0: 0.0, 1.0: 0.0, 1.0: 0.0, 1.0: 0.0, 1.0: 0.0, 1.0: 0.0, 1.0: 0.0, 1.0: 0.0, 0.0: 1.0, 1.0: 0.0, 1.0: 0.0, 1.0: 0.0, 1.0: 0.0, 1.0: 0.0, "
          ]
        },
        {
          "output_type": "stream",
          "name": "stderr",
          "text": [
            "322it [00:02, 187.32it/s]"
          ]
        },
        {
          "output_type": "stream",
          "name": "stdout",
          "text": [
            "1.0: 0.0, 1.0: 0.0, 1.0: 0.0, 1.0: 0.0, 1.0: 0.0, 1.0: 0.0, 1.0: 0.0, 1.0: 0.0, 1.0: 0.0, 1.0: 0.0, 1.0: 0.0, 1.0: 0.0, 1.0: 0.0, 1.0: 0.0, 1.0: 0.0, 1.0: 0.0, 1.0: 0.0, 1.0: 0.0, 1.0: 0.0, 1.0: 0.0, 1.0: 0.0, 1.0: 0.0, 1.0: 0.0, 1.0: 0.0, 1.0: 0.0, 1.0: "
          ]
        },
        {
          "output_type": "stream",
          "name": "stderr",
          "text": [
            "363it [00:02, 191.28it/s]"
          ]
        },
        {
          "output_type": "stream",
          "name": "stdout",
          "text": [
            "0.0, 0.0: 1.0, 1.0: 0.0, 1.0: 0.0, 1.0: 0.0, 1.0: 0.0, 1.0: 0.0, 1.0: 0.0, 1.0: 0.0, 1.0: 0.0, 1.0: 0.0, 1.0: 0.0, 1.0: 0.0, 1.0: 0.0, 1.0: 0.0, 1.0: 0.0, 1.0: 0.0, 1.0: 0.0, 1.0: 0.0, 1.0: 0.0, 1.0: 0.0, 1.0: 0.0, 1.0: 0.0, 1.0: 0.0, 1.0: 0.0, 1.0: 0.0, 1.0: 0.0, "
          ]
        },
        {
          "output_type": "stream",
          "name": "stderr",
          "text": [
            "409it [00:02, 211.40it/s]"
          ]
        },
        {
          "output_type": "stream",
          "name": "stdout",
          "text": [
            "1.0: 0.0, 1.0: 0.0, 1.0: 0.0, 1.0: 0.0, 1.0: 0.0, 1.0: 0.0, 1.0: 0.0, 1.0: 0.0, 1.0: 0.0, 1.0: 0.0, 1.0: 0.0, 1.0: 0.0, 1.0: 0.0, 1.0: 0.0, 1.0: 0.0, 1.0: 0.0, 1.0: 0.0, 0.0: 1.0, 1.0: 0.0, 1.0: 0.0, 1.0: 0.0, 1.0: "
          ]
        },
        {
          "output_type": "stream",
          "name": "stderr",
          "text": [
            "456it [00:02, 220.77it/s]"
          ]
        },
        {
          "output_type": "stream",
          "name": "stdout",
          "text": [
            "0.0, 1.0: 0.0, 1.0: 0.0, 1.0: 0.0, 1.0: 0.0, 1.0: 0.0, 1.0: 0.0, 1.0: 0.0, 1.0: 0.0, 1.0: 0.0, 1.0: 0.0, 1.0: 0.0, 1.0: 0.0, 0.0: 1.0, 1.0: 0.0, 1.0: 0.0, 1.0: 0.0, 0.0: 1.0, 1.0: 0.0, "
          ]
        },
        {
          "output_type": "stream",
          "name": "stderr",
          "text": [
            "\r479it [00:02, 179.22it/s]"
          ]
        },
        {
          "output_type": "stream",
          "name": "stdout",
          "text": [
            "1.0: 0.0, 0.0: 1.0, 1.0: 0.0, 1.0: 0.0, 0.0: 1.0, 1.0: 0.0, 1.0: 0.0, 0.0: 1.0, 1.0: 0.0, 1.0: 0.0, 1.0: 0.0, 1.0: 0.0, 1.0: 0.0, 1.0: 0.0, 1.0: 0.0, 1.0: 0.0, 1.0: 0.0, 0.0: 1.0, 1.0: 0.0, 1.0: 0.0, 1.0: 0.0, "
          ]
        },
        {
          "output_type": "stream",
          "name": "stderr",
          "text": [
            "552it [00:03, 213.36it/s]"
          ]
        },
        {
          "output_type": "stream",
          "name": "stdout",
          "text": [
            "1.0: 0.0, 1.0: 0.0, 0.0: 1.0, 1.0: 0.0, 0.0: 1.0, 1.0: 0.0, 1.0: 0.0, 0.0: 1.0, 0.0: 1.0, 1.0: 0.0, 1.0: 0.0, 1.0: 0.0, 1.0: 0.0, 1.0: 0.0, 1.0: 0.0, 1.0: 0.0, 1.0: 0.0, 1.0: 0.0, 1.0: 0.0, 1.0: 0.0, 1.0: 0.0, 0.0: 1.0, 1.0: 0.0, "
          ]
        },
        {
          "output_type": "stream",
          "name": "stderr",
          "text": [
            "599it [00:04, 107.35it/s]"
          ]
        },
        {
          "output_type": "stream",
          "name": "stdout",
          "text": [
            "1.0: 0.0, 1.0: 0.0, 1.0: 0.0, 1.0: 0.0, 1.0: 0.0, 1.0: 0.0, 1.0: 0.0, 1.0: 0.0, 0.0: 1.0, 0.0: 1.0, 0.0: 1.0, 1.0: 0.0, 1.0: 0.0, 1.0: 0.0, 0.0: 1.0, 1.0: 0.0, 1.0: 0.0, 1.0: 0.0, 1.0: 0.0, 0.0: 1.0, 1.0: 0.0, 1.0: 0.0, 1.0: 0.0, "
          ]
        },
        {
          "output_type": "stream",
          "name": "stderr",
          "text": [
            "647it [00:04, 149.78it/s]"
          ]
        },
        {
          "output_type": "stream",
          "name": "stdout",
          "text": [
            "1.0: 0.0, 1.0: 0.0, 1.0: 0.0, 1.0: 0.0, 1.0: 0.0, 1.0: 0.0, 1.0: 0.0, 1.0: 0.0, 1.0: 0.0, 1.0: 0.0, 0.0: 1.0, 0.0: 1.0, 1.0: 0.0, 1.0: 0.0, 1.0: 0.0, 1.0: 0.0, 1.0: 0.0, 1.0: 0.0, 1.0: 0.0, 1.0: 0.0, 1.0: 0.0, "
          ]
        },
        {
          "output_type": "stream",
          "name": "stderr",
          "text": [
            "695it [00:04, 184.11it/s]"
          ]
        },
        {
          "output_type": "stream",
          "name": "stdout",
          "text": [
            "1.0: 0.0, 1.0: 0.0, 1.0: 0.0, 1.0: 0.0, 1.0: 0.0, 1.0: 0.0, 1.0: 0.0, 0.0: 1.0, 0.0: 1.0, 1.0: 0.0, 1.0: 0.0, 1.0: 0.0, 0.0: 1.0, 1.0: 0.0, 1.0: 0.0, 1.0: 0.0, 1.0: 0.0, 1.0: 0.0, 1.0: 0.0, 1.0: 0.0, "
          ]
        },
        {
          "output_type": "stream",
          "name": "stderr",
          "text": [
            "746it [00:04, 212.22it/s]"
          ]
        },
        {
          "output_type": "stream",
          "name": "stdout",
          "text": [
            "1.0: 0.0, 1.0: 0.0, 1.0: 0.0, 1.0: 0.0, 0.0: 1.0, 1.0: 0.0, 1.0: 0.0, 1.0: 0.0, 1.0: 0.0, 0.0: 1.0, 0.0: 1.0, 1.0: 0.0, 1.0: 0.0, 1.0: 0.0, 1.0: 0.0, 1.0: 0.0, "
          ]
        },
        {
          "output_type": "stream",
          "name": "stderr",
          "text": [
            "821it [00:04, 235.63it/s]"
          ]
        },
        {
          "output_type": "stream",
          "name": "stdout",
          "text": [
            "1.0: 0.0, 1.0: 0.0, 1.0: 0.0, 1.0: 0.0, 1.0: 0.0, 1.0: 0.0, 1.0: 0.0, 1.0: 0.0, 1.0: 0.0, 0.0: 1.0, 1.0: 0.0, 1.0: 0.0, 1.0: 0.0, 1.0: 0.0, 1.0: 0.0, 1.0: 0.0, 1.0: 0.0, 1.0: 0.0, 1.0: 0.0, 1.0: 0.0, 1.0: 0.0, 1.0: 0.0, 1.0: 0.0, 1.0: 0.0, "
          ]
        },
        {
          "output_type": "stream",
          "name": "stderr",
          "text": [
            "869it [00:05, 171.53it/s]"
          ]
        },
        {
          "output_type": "stream",
          "name": "stdout",
          "text": [
            "1.0: 0.0, 0.0: 1.0, 1.0: 0.0, 1.0: 0.0, 0.0: 1.0, 1.0: 0.0, 1.0: 0.0, 1.0: 0.0, 1.0: 0.0, 1.0: 0.0, 1.0: 0.0, 1.0: 0.0, 1.0: 0.0, 1.0: 0.0, 1.0: 0.0, 1.0: 0.0, 1.0: 0.0, 1.0: 0.0, "
          ]
        },
        {
          "output_type": "stream",
          "name": "stderr",
          "text": [
            "917it [00:05, 198.65it/s]"
          ]
        },
        {
          "output_type": "stream",
          "name": "stdout",
          "text": [
            "0.0: 1.0, 1.0: 0.0, 1.0: 0.0, 1.0: 0.0, 1.0: 0.0, 1.0: 0.0, 1.0: 0.0, 1.0: 0.0, 1.0: 0.0, 1.0: 0.0, 1.0: 0.0, 0.0: 1.0, 1.0: 0.0, 1.0: 0.0, 1.0: 0.0, 1.0: 0.0, 1.0: 0.0, "
          ]
        },
        {
          "output_type": "stream",
          "name": "stderr",
          "text": [
            "965it [00:05, 216.38it/s]"
          ]
        },
        {
          "output_type": "stream",
          "name": "stdout",
          "text": [
            "1.0: 0.0, 1.0: 0.0, 1.0: 0.0, 1.0: 0.0, 1.0: 0.0, 0.0: 1.0, 1.0: 0.0, 0.0: 1.0, 1.0: 0.0, 1.0: 0.0, 1.0: 0.0, 1.0: 0.0, 1.0: 0.0, 1.0: 0.0, 1.0: 0.0, 1.0: 0.0, 1.0: 0.0, 0.0: 1.0, 1.0: 0.0, 1.0: 0.0, 1.0: 0.0, "
          ]
        },
        {
          "output_type": "stream",
          "name": "stderr",
          "text": [
            "\r990it [00:05, 224.87it/s]"
          ]
        },
        {
          "output_type": "stream",
          "name": "stdout",
          "text": [
            "1.0: 0.0, 1.0: 0.0, 1.0: 0.0, 1.0: 0.0, 1.0: 0.0, 1.0: 0.0, 0.0: 1.0, 1.0: 0.0, "
          ]
        },
        {
          "output_type": "stream",
          "name": "stderr",
          "text": [
            "1024it [00:06, 163.87it/s]\n"
          ]
        },
        {
          "output_type": "stream",
          "name": "stdout",
          "text": [
            "1.0: 0.0, 1.0: 0.0, 1.0: 0.0, 1.0: 0.0, 0.0: 1.0, 1.0: 0.0, 1.0: 0.0, 1.0: 0.0, 1.0: 0.0, 1.0: 0.0, 0.0: 1.0, 0.0: 1.0, 1.0: 0.0, 1.0: 0.0, \n",
            "Epoch 034: | Loss: 0.72858 | Acc: 57.129\n",
            "\n"
          ]
        },
        {
          "output_type": "stream",
          "name": "stderr",
          "text": [
            "\r0it [00:00, ?it/s]"
          ]
        },
        {
          "output_type": "stream",
          "name": "stdout",
          "text": [
            "1.0: 0.0, "
          ]
        },
        {
          "output_type": "stream",
          "name": "stderr",
          "text": [
            "\r21it [00:00, 203.70it/s]"
          ]
        },
        {
          "output_type": "stream",
          "name": "stdout",
          "text": [
            "1.0: 0.0, 1.0: 0.0, 0.0: 1.0, 1.0: 0.0, 1.0: 0.0, "
          ]
        },
        {
          "output_type": "stream",
          "name": "stderr",
          "text": [
            "\r42it [00:00, 51.15it/s] "
          ]
        },
        {
          "output_type": "stream",
          "name": "stdout",
          "text": [
            "1.0: 0.0, 0.0: 1.0, 1.0: 0.0, 1.0: 0.0, 1.0: 0.0, 1.0: 0.0, 1.0: 0.0, 1.0: 0.0, 1.0: 0.0, 1.0: 0.0, 1.0: 0.0, 1.0: 0.0, 1.0: 0.0, 0.0: 1.0, 1.0: 0.0, 0.0: 1.0, "
          ]
        },
        {
          "output_type": "stream",
          "name": "stderr",
          "text": [
            "114it [00:01, 138.29it/s]"
          ]
        },
        {
          "output_type": "stream",
          "name": "stdout",
          "text": [
            "1.0: 0.0, 1.0: 0.0, 1.0: 0.0, 0.0: 1.0, 1.0: 0.0, 1.0: 0.0, 1.0: 0.0, 1.0: 0.0, 1.0: 0.0, 1.0: 0.0, 1.0: 0.0, 0.0: 1.0, 0.0: 1.0, 0.0: 1.0, 1.0: 0.0, 1.0: 0.0, 1.0: 0.0, "
          ]
        },
        {
          "output_type": "stream",
          "name": "stderr",
          "text": [
            "159it [00:01, 171.27it/s]"
          ]
        },
        {
          "output_type": "stream",
          "name": "stdout",
          "text": [
            "1.0: 0.0, 1.0: 0.0, 1.0: 0.0, 1.0: 0.0, 0.0: 1.0, 1.0: 0.0, 1.0: 0.0, 1.0: 0.0, 1.0: 0.0, 1.0: 0.0, 1.0: 0.0, 1.0: 0.0, 1.0: 0.0, 1.0: 0.0, 1.0: 0.0, 0.0: 1.0, 1.0: 0.0, 1.0: 0.0, 1.0: 0.0, 1.0: 0.0, 0.0: 1.0, 1.0: 0.0, 1.0: 0.0, 1.0: 0.0, 1.0: 0.0, 1.0: "
          ]
        },
        {
          "output_type": "stream",
          "name": "stderr",
          "text": [
            "204it [00:01, 194.53it/s]"
          ]
        },
        {
          "output_type": "stream",
          "name": "stdout",
          "text": [
            "0.0, 1.0: 0.0, 1.0: 0.0, 1.0: 0.0, 1.0: 0.0, 1.0: 0.0, 1.0: 0.0, 1.0: 0.0, 1.0: 0.0, 1.0: 0.0, 1.0: 0.0, 1.0: 0.0, 0.0: 1.0, 1.0: 0.0, 1.0: 0.0, 1.0: 0.0, 1.0: 0.0, 1.0: 0.0, 1.0: 0.0, 1.0: 0.0, 1.0: 0.0, 1.0: 0.0, 1.0: 0.0, 0.0: 1.0, 1.0: 0.0, 1.0: 0.0, 1.0: 0.0, 1.0: 0.0, "
          ]
        },
        {
          "output_type": "stream",
          "name": "stderr",
          "text": [
            "250it [00:01, 210.35it/s]"
          ]
        },
        {
          "output_type": "stream",
          "name": "stdout",
          "text": [
            "1.0: 0.0, 1.0: 0.0, 1.0: 0.0, 1.0: 0.0, 1.0: 0.0, 1.0: 0.0, 1.0: 0.0, 1.0: 0.0, 1.0: 0.0, 1.0: 0.0, 1.0: 0.0, 1.0: 0.0, 1.0: 0.0, 1.0: 0.0, 1.0: 0.0, 1.0: 0.0, 1.0: 0.0, 1.0: 0.0, 1.0: 0.0, 1.0: 0.0, 0.0: 1.0, 1.0: 0.0, 1.0: 0.0, 1.0: 0.0, "
          ]
        },
        {
          "output_type": "stream",
          "name": "stderr",
          "text": [
            "296it [00:02, 139.70it/s]"
          ]
        },
        {
          "output_type": "stream",
          "name": "stdout",
          "text": [
            "1.0: 0.0, 1.0: 0.0, 1.0: 0.0, 1.0: 0.0, 1.0: 0.0, 0.0: 1.0, 1.0: 0.0, 1.0: 0.0, 1.0: 0.0, 1.0: 0.0, 1.0: 0.0, 1.0: 0.0, 1.0: 0.0, 1.0: 0.0, 1.0: 0.0, 1.0: 0.0, 1.0: 0.0, 1.0: 0.0, 1.0: 0.0, 1.0: 0.0, 1.0: 0.0, 1.0: 0.0, 1.0: 0.0, 1.0: 0.0, 1.0: 0.0, 1.0: 0.0, "
          ]
        },
        {
          "output_type": "stream",
          "name": "stderr",
          "text": [
            "337it [00:02, 89.15it/s]"
          ]
        },
        {
          "output_type": "stream",
          "name": "stdout",
          "text": [
            "1.0: 0.0, 1.0: 0.0, 1.0: 0.0, 1.0: 0.0, 1.0: 0.0, 1.0: 0.0, 1.0: 0.0, 1.0: 0.0, 1.0: 0.0, 0.0: 1.0, 1.0: 0.0, 1.0: 0.0, 1.0: 0.0, 1.0: 0.0, 1.0: 0.0, 1.0: 0.0, 1.0: 0.0, 0.0: 1.0, 1.0: 0.0, 1.0: 0.0, 1.0: 0.0, 1.0: 0.0, 1.0: 0.0, 1.0: 0.0, 1.0: 0.0, 1.0: 0.0, 1.0: 0.0, 1.0: 0.0, 1.0: "
          ]
        },
        {
          "output_type": "stream",
          "name": "stderr",
          "text": [
            "381it [00:03, 127.27it/s]"
          ]
        },
        {
          "output_type": "stream",
          "name": "stdout",
          "text": [
            "0.0, 1.0: 0.0, 1.0: 0.0, 1.0: 0.0, 1.0: 0.0, 1.0: 0.0, 1.0: 0.0, 1.0: 0.0, 1.0: 0.0, 1.0: 0.0, 0.0: 1.0, 1.0: 0.0, 1.0: 0.0, 1.0: 0.0, 1.0: 0.0, 1.0: 0.0, 1.0: 0.0, 0.0: 1.0, 1.0: 0.0, 1.0: 0.0, 1.0: 0.0, 1.0: 0.0, 1.0: 0.0, 1.0: 0.0, 1.0: 0.0, 1.0: 0.0, 1.0: 0.0, 1.0: 0.0, "
          ]
        },
        {
          "output_type": "stream",
          "name": "stderr",
          "text": [
            "427it [00:03, 165.09it/s]"
          ]
        },
        {
          "output_type": "stream",
          "name": "stdout",
          "text": [
            "1.0: 0.0, 1.0: 0.0, 1.0: 0.0, 0.0: 1.0, 1.0: 0.0, 1.0: 0.0, 1.0: 0.0, 1.0: 0.0, 1.0: 0.0, 1.0: 0.0, 1.0: 0.0, 1.0: 0.0, 1.0: 0.0, 1.0: 0.0, 1.0: 0.0, 0.0: 1.0, 0.0: 1.0, 1.0: 0.0, 0.0: 1.0, 1.0: 0.0, 1.0: 0.0, "
          ]
        },
        {
          "output_type": "stream",
          "name": "stderr",
          "text": [
            "473it [00:03, 192.96it/s]"
          ]
        },
        {
          "output_type": "stream",
          "name": "stdout",
          "text": [
            "0.0: 1.0, 1.0: 0.0, 1.0: 0.0, 1.0: 0.0, 1.0: 0.0, 1.0: 0.0, 1.0: 0.0, 0.0: 1.0, 0.0: 1.0, 1.0: 0.0, 1.0: 0.0, 1.0: 0.0, 1.0: 0.0, 1.0: 0.0, 1.0: 0.0, 1.0: 0.0, 1.0: 0.0, 1.0: 0.0, 1.0: 0.0, 1.0: 0.0, "
          ]
        },
        {
          "output_type": "stream",
          "name": "stderr",
          "text": [
            "548it [00:03, 226.01it/s]"
          ]
        },
        {
          "output_type": "stream",
          "name": "stdout",
          "text": [
            "1.0: 0.0, 1.0: 0.0, 1.0: 0.0, 1.0: 0.0, 1.0: 0.0, 1.0: 0.0, 1.0: 0.0, 1.0: 0.0, 1.0: 0.0, 0.0: 1.0, 0.0: 1.0, 1.0: 0.0, 0.0: 1.0, 1.0: 0.0, 0.0: 1.0, 1.0: 0.0, 1.0: 0.0, 1.0: 0.0, 1.0: 0.0, 1.0: 0.0, 1.0: 0.0, 1.0: 0.0, 1.0: 0.0, 1.0: 0.0, 1.0: 0.0, 1.0: 0.0, "
          ]
        },
        {
          "output_type": "stream",
          "name": "stderr",
          "text": [
            "\r572it [00:04, 147.21it/s]"
          ]
        },
        {
          "output_type": "stream",
          "name": "stdout",
          "text": [
            "1.0: 0.0, 1.0: 0.0, 1.0: 0.0, 1.0: 0.0, 1.0: 0.0, 1.0: 0.0, 1.0: 0.0, 1.0: 0.0, 1.0: 0.0, 0.0: 1.0, 1.0: 0.0, "
          ]
        },
        {
          "output_type": "stream",
          "name": "stderr",
          "text": [
            "615it [00:04, 91.70it/s]"
          ]
        },
        {
          "output_type": "stream",
          "name": "stdout",
          "text": [
            "1.0: 0.0, 1.0: 0.0, 1.0: 0.0, 1.0: 0.0, 1.0: 0.0, 1.0: 0.0, 1.0: 0.0, 1.0: 0.0, 0.0: 1.0, 1.0: 0.0, 1.0: 0.0, 0.0: 1.0, 1.0: 0.0, 1.0: 0.0, 1.0: 0.0, 1.0: 0.0, 1.0: 0.0, 1.0: 0.0, 1.0: 0.0, 1.0: 0.0, 1.0: 0.0, "
          ]
        },
        {
          "output_type": "stream",
          "name": "stderr",
          "text": [
            "\r636it [00:04, 108.62it/s]"
          ]
        },
        {
          "output_type": "stream",
          "name": "stdout",
          "text": [
            "1.0: 0.0, 1.0: 0.0, 0.0: 1.0, 0.0: 1.0, 1.0: 0.0, 1.0: 0.0, 1.0: 0.0, 1.0: 0.0, 0.0: 1.0, 1.0: 0.0, 1.0: 0.0, 1.0: 0.0, 1.0: 0.0, 1.0: 0.0, 1.0: 0.0, 0.0: 1.0, "
          ]
        },
        {
          "output_type": "stream",
          "name": "stderr",
          "text": [
            "706it [00:05, 87.20it/s]"
          ]
        },
        {
          "output_type": "stream",
          "name": "stdout",
          "text": [
            "1.0: 0.0, 1.0: 0.0, 1.0: 0.0, 1.0: 0.0, 1.0: 0.0, 1.0: 0.0, 1.0: 0.0, 1.0: 0.0, 1.0: 0.0, 1.0: 0.0, 1.0: 0.0, 1.0: 0.0, 1.0: 0.0, 1.0: 0.0, 1.0: 0.0, 1.0: 0.0, 1.0: 0.0, 1.0: 0.0, "
          ]
        },
        {
          "output_type": "stream",
          "name": "stderr",
          "text": [
            "754it [00:06, 129.70it/s]"
          ]
        },
        {
          "output_type": "stream",
          "name": "stdout",
          "text": [
            "1.0: 0.0, 1.0: 0.0, 1.0: 0.0, 1.0: 0.0, 1.0: 0.0, 1.0: 0.0, 1.0: 0.0, 1.0: 0.0, 1.0: 0.0, 1.0: 0.0, 1.0: 0.0, 1.0: 0.0, 1.0: "
          ]
        },
        {
          "output_type": "stream",
          "name": "stderr",
          "text": [
            "802it [00:06, 168.89it/s]"
          ]
        },
        {
          "output_type": "stream",
          "name": "stdout",
          "text": [
            "0.0, 1.0: 0.0, 1.0: 0.0, 1.0: 0.0, 1.0: 0.0, 1.0: 0.0, 1.0: 0.0, 1.0: 0.0, 1.0: 0.0, 1.0: 0.0, 1.0: 0.0, 1.0: 0.0, 1.0: 0.0, 0.0: 1.0, 1.0: 0.0, 1.0: 0.0, 1.0: 0.0, 1.0: 0.0, "
          ]
        },
        {
          "output_type": "stream",
          "name": "stderr",
          "text": [
            "850it [00:06, 192.82it/s]"
          ]
        },
        {
          "output_type": "stream",
          "name": "stdout",
          "text": [
            "1.0: 0.0, 0.0: 1.0, 1.0: 0.0, 1.0: 0.0, 1.0: 0.0, 1.0: 0.0, 1.0: 0.0, 1.0: 0.0, 1.0: 0.0, 0.0: 1.0, 1.0: 0.0, 1.0: 0.0, 1.0: 0.0, 0.0: 1.0, 1.0: 0.0, 1.0: 0.0, 1.0: 0.0, 0.0: 1.0, 0.0: 1.0, 1.0: 0.0, 1.0: 0.0, "
          ]
        },
        {
          "output_type": "stream",
          "name": "stderr",
          "text": [
            "898it [00:06, 212.91it/s]"
          ]
        },
        {
          "output_type": "stream",
          "name": "stdout",
          "text": [
            "1.0: 0.0, 1.0: 0.0, 1.0: 0.0, 1.0: 0.0, 1.0: 0.0, 1.0: 0.0, 1.0: 0.0, 1.0: 0.0, 1.0: 0.0, 1.0: 0.0, 1.0: 0.0, 1.0: 0.0, 1.0: 0.0, 1.0: 0.0, 1.0: 0.0, 1.0: 0.0, 0.0: 1.0, 1.0: 0.0, 1.0: 0.0, "
          ]
        },
        {
          "output_type": "stream",
          "name": "stderr",
          "text": [
            "948it [00:07, 156.41it/s]"
          ]
        },
        {
          "output_type": "stream",
          "name": "stdout",
          "text": [
            "1.0: 0.0, 1.0: 0.0, 1.0: 0.0, 1.0: 0.0, 1.0: 0.0, 1.0: 0.0, 1.0: 0.0, 1.0: 0.0, 1.0: 0.0, 1.0: 0.0, 1.0: 0.0, 1.0: 0.0, "
          ]
        },
        {
          "output_type": "stream",
          "name": "stderr",
          "text": [
            "994it [00:07, 95.66it/s]"
          ]
        },
        {
          "output_type": "stream",
          "name": "stdout",
          "text": [
            "1.0: 0.0, 1.0: 0.0, 1.0: 0.0, 1.0: 0.0, 1.0: 0.0, 0.0: 1.0, 1.0: 0.0, 1.0: 0.0, 1.0: 0.0, 1.0: 0.0, 1.0: 0.0, 1.0: 0.0, 1.0: 0.0, 1.0: 0.0, 1.0: 0.0, 0.0: 1.0, 1.0: 0.0, 1.0: 0.0, "
          ]
        },
        {
          "output_type": "stream",
          "name": "stderr",
          "text": [
            "1024it [00:08, 127.98it/s]\n"
          ]
        },
        {
          "output_type": "stream",
          "name": "stdout",
          "text": [
            "1.0: 0.0, 1.0: 0.0, 1.0: 0.0, 1.0: 0.0, 1.0: 0.0, 1.0: 0.0, 1.0: 0.0, 1.0: 0.0, 1.0: 0.0, 1.0: 0.0, 1.0: 0.0, \n",
            "Epoch 035: | Loss: 0.73040 | Acc: 56.836\n",
            "\n"
          ]
        },
        {
          "output_type": "stream",
          "name": "stderr",
          "text": [
            "26it [00:00, 253.26it/s]"
          ]
        },
        {
          "output_type": "stream",
          "name": "stdout",
          "text": [
            "1.0: 0.0, 0.0: 1.0, 1.0: 0.0, 1.0: 0.0, 1.0: 0.0, 1.0: 0.0, 0.0: 1.0, 1.0: 0.0, 1.0: 0.0, "
          ]
        },
        {
          "output_type": "stream",
          "name": "stderr",
          "text": [
            "77it [00:00, 91.16it/s]"
          ]
        },
        {
          "output_type": "stream",
          "name": "stdout",
          "text": [
            "1.0: 0.0, 1.0: 0.0, 1.0: 0.0, 1.0: 0.0, 1.0: 0.0, 1.0: 0.0, 1.0: 0.0, 1.0: 0.0, 1.0: 0.0, 1.0: 0.0, 1.0: 0.0, 1.0: 0.0, 0.0: 1.0, 1.0: 0.0, 1.0: 0.0, 1.0: 0.0, 0.0: 1.0, "
          ]
        },
        {
          "output_type": "stream",
          "name": "stderr",
          "text": [
            "125it [00:01, 144.32it/s]"
          ]
        },
        {
          "output_type": "stream",
          "name": "stdout",
          "text": [
            "1.0: 0.0, 1.0: 0.0, 1.0: 0.0, 1.0: 0.0, 0.0: 1.0, 0.0: 1.0, 1.0: 0.0, 1.0: 0.0, 0.0: 1.0, 1.0: 0.0, 1.0: 0.0, 1.0: 0.0, 1.0: 0.0, 1.0: 0.0, 1.0: 0.0, 1.0: 0.0, 1.0: 0.0, "
          ]
        },
        {
          "output_type": "stream",
          "name": "stderr",
          "text": [
            "174it [00:01, 183.45it/s]"
          ]
        },
        {
          "output_type": "stream",
          "name": "stdout",
          "text": [
            "1.0: 0.0, 1.0: 0.0, 1.0: 0.0, 1.0: 0.0, 1.0: 0.0, 1.0: 0.0, 1.0: 0.0, 1.0: 0.0, 1.0: 0.0, 1.0: 0.0, 1.0: 0.0, 1.0: 0.0, 1.0: 0.0, 1.0: 0.0, 1.0: 0.0, 1.0: 0.0, 1.0: 0.0, 1.0: 0.0, 1.0: 0.0, 1.0: 0.0, 0.0: 1.0, 1.0: 0.0, 1.0: 0.0, 1.0: 0.0, 1.0: 0.0, "
          ]
        },
        {
          "output_type": "stream",
          "name": "stderr",
          "text": [
            "221it [00:01, 202.28it/s]"
          ]
        },
        {
          "output_type": "stream",
          "name": "stdout",
          "text": [
            "1.0: 0.0, 1.0: 0.0, 1.0: 0.0, 1.0: 0.0, 0.0: 1.0, 1.0: 0.0, 1.0: 0.0, 0.0: 1.0, 1.0: 0.0, 1.0: 0.0, 1.0: 0.0, 1.0: 0.0, 1.0: 0.0, 1.0: 0.0, 1.0: 0.0, 1.0: 0.0, 1.0: 0.0, 1.0: 0.0, 1.0: 0.0, 1.0: 0.0, 1.0: 0.0, 1.0: 0.0, 1.0: 0.0, 1.0: 0.0, 1.0: 0.0, 1.0: 0.0, 1.0: 0.0, 1.0: 0.0, "
          ]
        },
        {
          "output_type": "stream",
          "name": "stderr",
          "text": [
            "267it [00:01, 214.49it/s]"
          ]
        },
        {
          "output_type": "stream",
          "name": "stdout",
          "text": [
            "1.0: 0.0, 1.0: 0.0, 1.0: 0.0, 1.0: 0.0, 1.0: 0.0, 1.0: 0.0, 1.0: 0.0, 1.0: 0.0, 1.0: 0.0, 1.0: 0.0, 1.0: 0.0, 0.0: 1.0, 1.0: 0.0, 1.0: 0.0, 1.0: 0.0, 1.0: 0.0, 1.0: 0.0, 1.0: 0.0, 1.0: 0.0, 1.0: 0.0, 0.0: 1.0, 1.0: 0.0, 1.0: 0.0, 1.0: 0.0, 1.0: 0.0, 1.0: 0.0, 0.0: 1.0, 1.0: 0.0, "
          ]
        },
        {
          "output_type": "stream",
          "name": "stderr",
          "text": [
            "\r291it [00:01, 220.32it/s]"
          ]
        },
        {
          "output_type": "stream",
          "name": "stdout",
          "text": [
            "1.0: 0.0, 1.0: 0.0, 1.0: 0.0, 0.0: 1.0, 1.0: 0.0, 1.0: 0.0, 1.0: 0.0, 1.0: 0.0, 1.0: 0.0, 1.0: 0.0, "
          ]
        },
        {
          "output_type": "stream",
          "name": "stderr",
          "text": [
            "\r314it [00:02, 163.46it/s]"
          ]
        },
        {
          "output_type": "stream",
          "name": "stdout",
          "text": [
            "1.0: 0.0, 1.0: 0.0, 1.0: 0.0, 1.0: 0.0, 1.0: 0.0, 1.0: 0.0, 1.0: 0.0, 1.0: 0.0, 1.0: 0.0, 1.0: 0.0, 1.0: 0.0, 1.0: 0.0, 0.0: 1.0, "
          ]
        },
        {
          "output_type": "stream",
          "name": "stderr",
          "text": [
            "357it [00:02, 95.27it/s]"
          ]
        },
        {
          "output_type": "stream",
          "name": "stdout",
          "text": [
            "1.0: 0.0, 1.0: 0.0, 1.0: 0.0, 1.0: 0.0, 1.0: 0.0, 1.0: 0.0, 0.0: 1.0, 1.0: 0.0, 1.0: 0.0, 1.0: 0.0, 1.0: 0.0, 1.0: 0.0, 1.0: 0.0, 1.0: 0.0, 1.0: 0.0, 1.0: 0.0, 1.0: 0.0, 1.0: 0.0, 0.0: 1.0, 1.0: 0.0, 1.0: 0.0, 1.0: 0.0, 1.0: 0.0, 1.0: 0.0, 1.0: 0.0, 1.0: 0.0, 1.0: 0.0, 1.0: 0.0, 1.0: 0.0, "
          ]
        },
        {
          "output_type": "stream",
          "name": "stderr",
          "text": [
            "429it [00:03, 162.33it/s]"
          ]
        },
        {
          "output_type": "stream",
          "name": "stdout",
          "text": [
            "1.0: 0.0, 1.0: 0.0, 1.0: 0.0, 1.0: 0.0, 1.0: 0.0, 1.0: 0.0, 1.0: 0.0, 1.0: 0.0, 1.0: 0.0, 1.0: 0.0, 1.0: 0.0, 1.0: 0.0, 1.0: 0.0, 1.0: 0.0, 0.0: 1.0, 1.0: 0.0, 1.0: 0.0, 1.0: 0.0, 0.0: 1.0, 1.0: 0.0, 1.0: 0.0, 1.0: 0.0, 0.0: 1.0, 1.0: 0.0, 1.0: 0.0, 0.0: 1.0, 0.0: 1.0, 1.0: 0.0, 1.0: 0.0, 1.0: 0.0, 1.0: 0.0, 1.0: 0.0, 1.0: 0.0, 0.0: 1.0, 1.0: 0.0, 1.0: 0.0, 1.0: 0.0, "
          ]
        },
        {
          "output_type": "stream",
          "name": "stderr",
          "text": [
            "\r451it [00:03, 79.01it/s] "
          ]
        },
        {
          "output_type": "stream",
          "name": "stdout",
          "text": [
            "1.0: 0.0, 1.0: 0.0, 1.0: 0.0, 1.0: 0.0, 0.0: 1.0, 1.0: 0.0, 1.0: 0.0, 1.0: 0.0, 1.0: 0.0, 1.0: 0.0, 1.0: 0.0, 0.0: 1.0, 1.0: 0.0, 0.0: 1.0, 1.0: 0.0, 1.0: 0.0, 1.0: 0.0, "
          ]
        },
        {
          "output_type": "stream",
          "name": "stderr",
          "text": [
            "523it [00:04, 139.47it/s]"
          ]
        },
        {
          "output_type": "stream",
          "name": "stdout",
          "text": [
            "0.0: 1.0, 1.0: 0.0, 1.0: 0.0, 1.0: 0.0, 1.0: 0.0, 1.0: 0.0, 1.0: 0.0, 1.0: 0.0, 1.0: 0.0, 1.0: 0.0, 1.0: 0.0, 1.0: 0.0, 0.0: 1.0, 1.0: 0.0, 1.0: 0.0, 1.0: 0.0, 1.0: 0.0, 1.0: 0.0, 0.0: 1.0, 1.0: 0.0, 1.0: 0.0, 0.0: 1.0, "
          ]
        },
        {
          "output_type": "stream",
          "name": "stderr",
          "text": [
            "568it [00:04, 171.25it/s]"
          ]
        },
        {
          "output_type": "stream",
          "name": "stdout",
          "text": [
            "1.0: 0.0, 1.0: 0.0, 1.0: 0.0, 1.0: 0.0, 1.0: 0.0, 1.0: 0.0, 1.0: 0.0, 1.0: 0.0, 1.0: 0.0, 1.0: 0.0, 1.0: 0.0, 1.0: 0.0, 1.0: 0.0, 0.0: 1.0, 1.0: 0.0, 1.0: 0.0, 1.0: 0.0, 1.0: 0.0, 1.0: 0.0, 1.0: 0.0, 1.0: 0.0, 1.0: 0.0, 0.0: 1.0, "
          ]
        },
        {
          "output_type": "stream",
          "name": "stderr",
          "text": [
            "614it [00:04, 194.12it/s]"
          ]
        },
        {
          "output_type": "stream",
          "name": "stdout",
          "text": [
            "1.0: 0.0, 1.0: 0.0, 1.0: 0.0, 0.0: 1.0, 1.0: 0.0, 1.0: 0.0, 0.0: 1.0, 1.0: 0.0, 0.0: 1.0, 1.0: 0.0, 1.0: 0.0, 1.0: 0.0, 1.0: 0.0, 1.0: 0.0, 1.0: 0.0, 1.0: 0.0, 1.0: 0.0, 1.0: 0.0, 1.0: 0.0, 1.0: 0.0, 1.0: 0.0, 1.0: 0.0, "
          ]
        },
        {
          "output_type": "stream",
          "name": "stderr",
          "text": [
            "662it [00:04, 214.31it/s]"
          ]
        },
        {
          "output_type": "stream",
          "name": "stdout",
          "text": [
            "1.0: 0.0, 1.0: 0.0, 1.0: 0.0, 1.0: 0.0, 1.0: 0.0, 0.0: 1.0, 1.0: 0.0, 1.0: 0.0, 1.0: 0.0, 1.0: 0.0, 1.0: 0.0, 0.0: 1.0, 1.0: 0.0, 1.0: 0.0, 1.0: 0.0, 1.0: 0.0, 1.0: 0.0, 1.0: 0.0, "
          ]
        },
        {
          "output_type": "stream",
          "name": "stderr",
          "text": [
            "711it [00:04, 223.32it/s]"
          ]
        },
        {
          "output_type": "stream",
          "name": "stdout",
          "text": [
            "1.0: 0.0, 1.0: 0.0, 1.0: 0.0, 1.0: 0.0, 1.0: 0.0, 1.0: 0.0, 1.0: 0.0, 1.0: 0.0, 1.0: 0.0, 1.0: 0.0, 1.0: 0.0, 1.0: 0.0, 1.0: 0.0, 1.0: 0.0, 1.0: 0.0, "
          ]
        },
        {
          "output_type": "stream",
          "name": "stderr",
          "text": [
            "\r735it [00:05, 194.02it/s]"
          ]
        },
        {
          "output_type": "stream",
          "name": "stdout",
          "text": [
            "1.0: 0.0, 1.0: 0.0, 1.0: 0.0, 1.0: 0.0, 1.0: 0.0, 1.0: 0.0, 1.0: 0.0, 1.0: 0.0, 1.0: 0.0, "
          ]
        },
        {
          "output_type": "stream",
          "name": "stderr",
          "text": [
            "781it [00:05, 98.43it/s]"
          ]
        },
        {
          "output_type": "stream",
          "name": "stdout",
          "text": [
            "1.0: 0.0, 1.0: 0.0, 1.0: 0.0, 0.0: 1.0, 1.0: 0.0, 1.0: 0.0, 1.0: 0.0, 0.0: 1.0, 1.0: 0.0, 1.0: 0.0, 1.0: 0.0, 1.0: 0.0, 1.0: 0.0, 1.0: 0.0, 1.0: 0.0, 1.0: 0.0, 1.0: 0.0, 1.0: 0.0, 0.0: 1.0, 1.0: 0.0, 0.0: 1.0, "
          ]
        },
        {
          "output_type": "stream",
          "name": "stderr",
          "text": [
            "827it [00:06, 136.69it/s]"
          ]
        },
        {
          "output_type": "stream",
          "name": "stdout",
          "text": [
            "1.0: 0.0, 1.0: 0.0, 1.0: 0.0, 1.0: 0.0, 1.0: 0.0, 1.0: 0.0, 0.0: 1.0, 1.0: 0.0, 1.0: 0.0, 1.0: 0.0, 1.0: 0.0, 1.0: 0.0, 1.0: 0.0, 1.0: 0.0, 1.0: 0.0, 0.0: 1.0, 0.0: 1.0, 0.0: 1.0, 1.0: 0.0, 1.0: 0.0, 1.0: 0.0, "
          ]
        },
        {
          "output_type": "stream",
          "name": "stderr",
          "text": [
            "877it [00:06, 178.84it/s]"
          ]
        },
        {
          "output_type": "stream",
          "name": "stdout",
          "text": [
            "0.0: 1.0, 1.0: 0.0, 1.0: 0.0, 1.0: 0.0, 1.0: 0.0, 1.0: 0.0, 0.0: 1.0, 1.0: 0.0, 1.0: 0.0, 0.0: 1.0, 1.0: 0.0, 1.0: 0.0, 1.0: 0.0, 0.0: 1.0, 1.0: 0.0, 1.0: 0.0, 1.0: 0.0, 1.0: 0.0, 1.0: 0.0, 1.0: 0.0, "
          ]
        },
        {
          "output_type": "stream",
          "name": "stderr",
          "text": [
            "926it [00:06, 203.74it/s]"
          ]
        },
        {
          "output_type": "stream",
          "name": "stdout",
          "text": [
            "1.0: 0.0, 1.0: 0.0, 1.0: 0.0, 1.0: 0.0, 1.0: 0.0, 1.0: 0.0, 1.0: 0.0, 0.0: 1.0, 1.0: 0.0, 1.0: 0.0, 1.0: 0.0, 1.0: 0.0, 1.0: 0.0, 1.0: 0.0, 0.0: 1.0, 1.0: 0.0, 1.0: 0.0, 1.0: 0.0, 1.0: 0.0, "
          ]
        },
        {
          "output_type": "stream",
          "name": "stderr",
          "text": [
            "997it [00:06, 164.64it/s]"
          ]
        },
        {
          "output_type": "stream",
          "name": "stdout",
          "text": [
            "1.0: 0.0, 1.0: 0.0, 0.0: 1.0, 1.0: 0.0, 1.0: 0.0, 1.0: 0.0, 1.0: 0.0, 1.0: 0.0, 1.0: 0.0, 1.0: 0.0, 0.0: 1.0, 1.0: 0.0, 1.0: 0.0, 1.0: 0.0, 1.0: 0.0, 1.0: 0.0, 1.0: 0.0, 1.0: 0.0, 1.0: 0.0, 1.0: 0.0, 0.0: 1.0, "
          ]
        },
        {
          "output_type": "stream",
          "name": "stderr",
          "text": [
            "\r1017it [00:07, 172.35it/s]"
          ]
        },
        {
          "output_type": "stream",
          "name": "stdout",
          "text": [
            "1.0: 0.0, 1.0: 0.0, 1.0: 0.0, 1.0: 0.0, 1.0: 0.0, 1.0: 0.0, 1.0: 0.0, 1.0: 0.0, 0.0: 1.0, "
          ]
        },
        {
          "output_type": "stream",
          "name": "stderr",
          "text": [
            "\r1024it [00:07, 133.15it/s]\n"
          ]
        },
        {
          "output_type": "stream",
          "name": "stdout",
          "text": [
            "1.0: 0.0, 1.0: 0.0, \n",
            "Epoch 036: | Loss: 0.73435 | Acc: 55.859\n",
            "\n"
          ]
        },
        {
          "output_type": "stream",
          "name": "stderr",
          "text": [
            "21it [00:00, 207.14it/s]"
          ]
        },
        {
          "output_type": "stream",
          "name": "stdout",
          "text": [
            "0.0: 1.0, 0.0: 1.0, 1.0: 0.0, 0.0: 1.0, 1.0: 0.0, 1.0: 0.0, 1.0: 0.0, 0.0: 1.0, 1.0: 0.0, 1.0: 0.0, 1.0: 0.0, 1.0: 0.0, 1.0: 0.0, 1.0: 0.0, 1.0: 0.0, 1.0: 0.0, "
          ]
        },
        {
          "output_type": "stream",
          "name": "stderr",
          "text": [
            "\r42it [00:00, 205.29it/s]"
          ]
        },
        {
          "output_type": "stream",
          "name": "stdout",
          "text": [
            "1.0: 0.0, 1.0: 0.0, "
          ]
        },
        {
          "output_type": "stream",
          "name": "stderr",
          "text": [
            "\r65it [00:00, 214.95it/s]"
          ]
        },
        {
          "output_type": "stream",
          "name": "stdout",
          "text": [
            "1.0: 0.0, 1.0: 0.0, 0.0: 1.0, 1.0: 0.0, 1.0: 0.0, 1.0: 0.0, 1.0: 0.0, 1.0: 0.0, 1.0: 0.0, 1.0: 0.0, 1.0: 0.0, "
          ]
        },
        {
          "output_type": "stream",
          "name": "stderr",
          "text": [
            "\r87it [00:00, 216.74it/s]"
          ]
        },
        {
          "output_type": "stream",
          "name": "stdout",
          "text": [
            "1.0: 0.0, "
          ]
        },
        {
          "output_type": "stream",
          "name": "stderr",
          "text": [
            "135it [00:00, 225.77it/s]"
          ]
        },
        {
          "output_type": "stream",
          "name": "stdout",
          "text": [
            "1.0: 0.0, 1.0: 0.0, 1.0: 0.0, 1.0: 0.0, 0.0: 1.0, 0.0: 1.0, 1.0: 0.0, 1.0: 0.0, 1.0: 0.0, 1.0: 0.0, 0.0: 1.0, 1.0: 0.0, 1.0: 0.0, 1.0: 0.0, 1.0: 0.0, 1.0: 0.0, 1.0: 0.0, 1.0: 0.0, 1.0: 0.0, 1.0"
          ]
        },
        {
          "output_type": "stream",
          "name": "stderr",
          "text": [
            "\r158it [00:00, 214.00it/s]"
          ]
        },
        {
          "output_type": "stream",
          "name": "stdout",
          "text": [
            ": 0.0, 1.0: 0.0, 1.0: 0.0, 1.0: 0.0, 1.0: 0.0, 1.0: 0.0, 1.0: 0.0, 1.0: 0.0, 1.0: 0.0, 1.0: 0.0, 1.0: 0.0, 0.0: 1.0, 1.0: 0.0, 1.0: 0.0, 1.0: 0.0, 1.0: 0.0, 0.0: 1.0, 1.0: 0.0, 1.0: 0.0, 1.0: 0.0, 1.0: 0.0, 1.0: 0.0, 1.0: 0.0, 1.0: 0.0, 1.0: 0.0, 1.0: 0.0, 1.0: 0.0, 1.0: 0.0, "
          ]
        },
        {
          "output_type": "stream",
          "name": "stderr",
          "text": [
            "230it [00:01, 229.05it/s]"
          ]
        },
        {
          "output_type": "stream",
          "name": "stdout",
          "text": [
            "1.0: 0.0, 1.0: 0.0, 1.0: 0.0, 1.0: 0.0, 1.0: 0.0, 1.0: 0.0, 1.0: 0.0, 0.0: 1.0, 1.0: 0.0, 1.0: 0.0, 1.0: 0.0, 1.0: 0.0, 1.0: 0.0, 1.0: 0.0, 1.0: 0.0, 1.0: 0.0, 1.0: 0.0, 1.0: 0.0, 1.0: 0.0, 1.0: 0.0, 1.0: 0.0, 1.0: 0.0, 1.0: 0.0, 1.0: 0.0, 1.0: 0.0, 1.0: 0.0, 1.0: 0.0, 1.0: 0.0, 1.0: 0.0, "
          ]
        },
        {
          "output_type": "stream",
          "name": "stderr",
          "text": [
            "\r253it [00:01, 147.69it/s]"
          ]
        },
        {
          "output_type": "stream",
          "name": "stdout",
          "text": [
            "1.0: 0.0, 1.0: 0.0, 1.0: 0.0, 1.0: 0.0, 1.0: 0.0, 1.0: 0.0, 1.0: 0.0, 1.0: 0.0, 1.0: 0.0, 1.0: 0.0, 1.0: 0.0, 0.0: 1.0, "
          ]
        },
        {
          "output_type": "stream",
          "name": "stderr",
          "text": [
            "295it [00:02, 93.68it/s]"
          ]
        },
        {
          "output_type": "stream",
          "name": "stdout",
          "text": [
            "1.0: 0.0, 1.0: 0.0, 1.0: 0.0, 1.0: 0.0, 1.0: 0.0, 1.0: 0.0, 1.0: 0.0, 1.0: 0.0, 1.0: 0.0, 1.0: 0.0, 1.0: 0.0, 1.0: 0.0, 1.0: 0.0, 1.0: 0.0, 1.0: 0.0, 1.0: 0.0, 1.0: 0.0, 1.0: 0.0, 1.0: 0.0, 1.0: 0.0, 1.0: 0.0, "
          ]
        },
        {
          "output_type": "stream",
          "name": "stderr",
          "text": [
            "340it [00:02, 132.93it/s]"
          ]
        },
        {
          "output_type": "stream",
          "name": "stdout",
          "text": [
            "0.0: 1.0, 1.0: 0.0, 1.0: 0.0, 1.0: 0.0, 1.0: 0.0, 1.0: 0.0, 1.0: 0.0, 1.0: 0.0, 1.0: 0.0, 1.0: 0.0, 1.0: 0.0, 1.0: 0.0, 1.0: 0.0, 1.0: 0.0, 1.0: 0.0, 1.0: 0.0, 1.0: 0.0, 1.0: 0.0, 1.0: 0.0, 1.0: 0.0, 1.0: 0.0, 1.0: 0.0, 1.0: 0.0, 1.0: 0.0, 1.0: 0.0, 1.0: 0.0, 1.0: 0.0, 1.0: 0.0, "
          ]
        },
        {
          "output_type": "stream",
          "name": "stderr",
          "text": [
            "382it [00:02, 160.25it/s]"
          ]
        },
        {
          "output_type": "stream",
          "name": "stdout",
          "text": [
            "1.0: 0.0, 1.0: 0.0, 1.0: 0.0, 1.0: 0.0, 1.0: 0.0, 1.0: 0.0, 1.0: 0.0, 1.0: 0.0, 1.0: 0.0, 1.0: 0.0, 1.0: 0.0, 1.0: 0.0, 1.0: 0.0, 1.0: 0.0, 1.0: 0.0, 1.0: 0.0, 1.0: 0.0, 0.0: 1.0, 1.0: 0.0, 1.0: 0.0, 1.0: 0.0, 1.0: 0.0, 1.0: 0.0, 1.0: 0.0, 1.0: 0.0, 1.0: 0.0, 1.0: 0.0, 1.0: 0.0, 1.0: 0.0, 1.0: 0.0, 1.0: 0.0, "
          ]
        },
        {
          "output_type": "stream",
          "name": "stderr",
          "text": [
            "431it [00:02, 194.16it/s]"
          ]
        },
        {
          "output_type": "stream",
          "name": "stdout",
          "text": [
            "1.0: 0.0, 1.0: 0.0, 1.0: 0.0, 1.0: 0.0, 0.0: 1.0, 1.0: 0.0, 1.0: 0.0, 1.0: 0.0, 1.0: 0.0, 0.0: 1.0, 1.0: 0.0, 1.0: 0.0, 1.0: 0.0, 1.0: 0.0, 1.0: 0.0, 1.0: 0.0, 1.0: 0.0, 1.0: 0.0, 0.0: 1.0, 1.0: 0.0, 1.0: 0.0, 1.0: 0.0, 1.0: 0.0, "
          ]
        },
        {
          "output_type": "stream",
          "name": "stderr",
          "text": [
            "480it [00:02, 217.14it/s]"
          ]
        },
        {
          "output_type": "stream",
          "name": "stdout",
          "text": [
            "1.0: 0.0, 1.0: 0.0, 1.0: 0.0, 1.0: 0.0, 1.0: 0.0, 1.0: 0.0, 1.0: 0.0, 1.0: 0.0, 1.0: 0.0, 1.0: 0.0, 0.0: 1.0, 1.0: 0.0, 1.0: 0.0, 1.0: 0.0, 1.0: 0.0, 1.0: 0.0, 1.0: 0.0, 1.0: 0.0, 1.0: 0.0, "
          ]
        },
        {
          "output_type": "stream",
          "name": "stderr",
          "text": [
            "529it [00:03, 226.59it/s]"
          ]
        },
        {
          "output_type": "stream",
          "name": "stdout",
          "text": [
            "1.0: 0.0, 1.0: 0.0, 1.0: 0.0, 1.0: 0.0, 1.0: 0.0, 1.0: 0.0, 0.0: 1.0, 1.0: 0.0, 1.0: 0.0, 1.0: 0.0, "
          ]
        },
        {
          "output_type": "stream",
          "name": "stderr",
          "text": [
            "578it [00:03, 194.14it/s]"
          ]
        },
        {
          "output_type": "stream",
          "name": "stdout",
          "text": [
            "1.0: 0.0, 1.0: 0.0, 1.0: 0.0, 1.0: 0.0, 0.0: 1.0, 0.0: 1.0, 1.0: 0.0, 1.0: 0.0, 1.0: 0.0, 1.0: 0.0, 1.0: 0.0, 1.0: 0.0, 1.0: 0.0, 1.0: 0.0, 1.0: 0.0, 1.0: 0.0, 1.0: 0.0, 1.0: 0.0, 1.0: 0.0, 1.0: 0.0, 1.0: 0.0, 1.0: 0.0, 0.0: 1.0, 1.0: 0.0, 1.0: 0.0, "
          ]
        },
        {
          "output_type": "stream",
          "name": "stderr",
          "text": [
            "624it [00:04, 102.69it/s]"
          ]
        },
        {
          "output_type": "stream",
          "name": "stdout",
          "text": [
            "1.0: 0.0, 1.0: 0.0, 1.0: 0.0, 1.0: 0.0, 1.0: 0.0, 1.0: 0.0, 1.0: 0.0, 0.0: 1.0, 1.0: 0.0, 1.0: 0.0, 1.0: 0.0, 0.0: 1.0, 1.0: 0.0, 1.0: 0.0, 1.0: 0.0, 1.0: 0.0, 1.0: 0.0, 1.0: 0.0, 1.0: 0.0, 1.0: 0.0, 1.0: 0.0, 0.0: 1.0, "
          ]
        },
        {
          "output_type": "stream",
          "name": "stderr",
          "text": [
            "672it [00:04, 145.47it/s]"
          ]
        },
        {
          "output_type": "stream",
          "name": "stdout",
          "text": [
            "1.0: 0.0, 1.0: 0.0, 1.0: 0.0, 1.0: 0.0, 1.0: 0.0, 1.0: 0.0, 1.0: 0.0, 0.0: 1.0, 1.0: 0.0, 1.0: 0.0, 1.0: 0.0, 1.0: 0.0, 1.0: 0.0, 1.0: 0.0, 1.0: 0.0, 1.0: 0.0, "
          ]
        },
        {
          "output_type": "stream",
          "name": "stderr",
          "text": [
            "719it [00:05, 93.68it/s]"
          ]
        },
        {
          "output_type": "stream",
          "name": "stdout",
          "text": [
            "1.0: 0.0, 1.0: 0.0, 1.0: 0.0, 1.0: 0.0, 1.0: 0.0, 1.0: 0.0, 0.0: 1.0, 1.0: 0.0, 1.0: 0.0, 1.0: 0.0, 1.0: 0.0, 1.0: 0.0, 1.0: 0.0, 1.0: 0.0, 1.0: 0.0, 1.0: 0.0, 0.0: 1.0, 1.0: 0.0, "
          ]
        },
        {
          "output_type": "stream",
          "name": "stderr",
          "text": [
            "766it [00:05, 134.86it/s]"
          ]
        },
        {
          "output_type": "stream",
          "name": "stdout",
          "text": [
            "1.0: 0.0, 1.0: 0.0, 1.0: 0.0, 1.0: 0.0, 0.0: 1.0, 1.0: 0.0, 1.0: 0.0, 1.0: 0.0, 1.0: 0.0, 0.0: 1.0, 1.0: 0.0, 1.0: 0.0, 1.0: 0.0, 1.0: 0.0, 1.0: 0.0, 1.0: 0.0, "
          ]
        },
        {
          "output_type": "stream",
          "name": "stderr",
          "text": [
            "815it [00:05, 175.22it/s]"
          ]
        },
        {
          "output_type": "stream",
          "name": "stdout",
          "text": [
            "1.0: 0.0, 1.0: 0.0, 1.0: 0.0, 1.0: 0.0, 1.0: 0.0, 0.0: 1.0, 1.0: 0.0, 1.0: 0.0, 1.0: 0.0, 1.0: 0.0, 1.0: 0.0, 1.0: 0.0, 1.0: 0.0, 1.0: 0.0, 0.0: 1.0, 1.0: 0.0, 1.0: 0.0, 1.0: 0.0, 1.0: 0.0, "
          ]
        },
        {
          "output_type": "stream",
          "name": "stderr",
          "text": [
            "865it [00:05, 206.18it/s]"
          ]
        },
        {
          "output_type": "stream",
          "name": "stdout",
          "text": [
            "1.0: 0.0, 1.0: 0.0, 0.0: 1.0, 1.0: 0.0, 1.0: 0.0, 1.0: 0.0, 1.0: 0.0, 1.0: 0.0, 1.0: 0.0, 1.0: 0.0, 1.0: 0.0, 1.0: 0.0, 1.0: 0.0, 1.0: 0.0, 1.0: 0.0, 0.0: 1.0, "
          ]
        },
        {
          "output_type": "stream",
          "name": "stderr",
          "text": [
            "914it [00:05, 218.18it/s]"
          ]
        },
        {
          "output_type": "stream",
          "name": "stdout",
          "text": [
            "1.0: 0.0, 1.0: 0.0, 1.0: 0.0, 1.0: 0.0, 1.0: 0.0, 1.0: 0.0, 1.0: 0.0, 1.0: 0.0, 1.0: 0.0, 1.0: 0.0, 0.0: 1.0, 1.0: 0.0, 1.0: 0.0, 0.0: 1.0, 1.0: 0.0, 1.0: 0.0, 1.0: 0.0, 1.0: 0.0, 1.0: 0.0, 1.0: 0.0, "
          ]
        },
        {
          "output_type": "stream",
          "name": "stderr",
          "text": [
            "\r938it [00:06, 222.50it/s]"
          ]
        },
        {
          "output_type": "stream",
          "name": "stdout",
          "text": [
            "1.0: 0.0, 1.0: 0.0, 1.0: 0.0, "
          ]
        },
        {
          "output_type": "stream",
          "name": "stderr",
          "text": [
            "986it [00:06, 168.61it/s]"
          ]
        },
        {
          "output_type": "stream",
          "name": "stdout",
          "text": [
            "1.0: 0.0, 1.0: 0.0, 1.0: 0.0, 1.0: 0.0, 1.0: 0.0, 1.0: 0.0, 1.0: 0.0, 1.0: 0.0, 1.0: 0.0, 1.0: 0.0, 1.0: 0.0, 1.0: 0.0, 1.0: 0.0, 1.0: 0.0, 1.0: 0.0, 1.0: 0.0, 1.0: 0.0, 1.0: 0.0, "
          ]
        },
        {
          "output_type": "stream",
          "name": "stderr",
          "text": [
            "1024it [00:06, 154.49it/s]\n"
          ]
        },
        {
          "output_type": "stream",
          "name": "stdout",
          "text": [
            "1.0: 0.0, 0.0: 1.0, 1.0: 0.0, 1.0: 0.0, 1.0: 0.0, 1.0: 0.0, 0.0: 1.0, 1.0: 0.0, 1.0: 0.0, 1.0: 0.0, 1.0: 0.0, 1.0: 0.0, 0.0: 1.0, 1.0: 0.0, 1.0: 0.0, 1.0: 0.0, \n",
            "Epoch 037: | Loss: 0.73023 | Acc: 57.129\n",
            "\n"
          ]
        },
        {
          "output_type": "stream",
          "name": "stderr",
          "text": [
            "\r0it [00:00, ?it/s]"
          ]
        },
        {
          "output_type": "stream",
          "name": "stdout",
          "text": [
            "0.0: 1.0, "
          ]
        },
        {
          "output_type": "stream",
          "name": "stderr",
          "text": [
            "45it [00:00, 223.42it/s]"
          ]
        },
        {
          "output_type": "stream",
          "name": "stdout",
          "text": [
            "1.0: 0.0, 0.0: 1.0, 1.0: 0.0, 1.0: 0.0, 1.0: 0.0, 1.0: 0.0, 1.0: 0.0, 1.0: 0.0, 1.0: 0.0, 1.0: 0.0, 1.0: 0.0, 1.0: 0.0, 1.0: 0.0, 1.0: 0.0, 1.0: 0.0, 1.0: 0.0, 0.0: 1.0, "
          ]
        },
        {
          "output_type": "stream",
          "name": "stderr",
          "text": [
            "95it [00:00, 238.28it/s]"
          ]
        },
        {
          "output_type": "stream",
          "name": "stdout",
          "text": [
            "1.0: 0.0, 1.0: 0.0, 1.0: 0.0, 0.0: 1.0, 1.0: 0.0, 1.0: 0.0, 1.0: 0.0, 1.0: 0.0, 1.0: 0.0, 1.0: 0.0, 1.0: 0.0, 1.0: 0.0, 1.0: 0.0, "
          ]
        },
        {
          "output_type": "stream",
          "name": "stderr",
          "text": [
            "142it [00:00, 188.81it/s]"
          ]
        },
        {
          "output_type": "stream",
          "name": "stdout",
          "text": [
            "0.0: 1.0, 1.0: 0.0, 1.0: 0.0, 1.0: 0.0, 0.0: 1.0, 1.0: 0.0, 1.0: 0.0, 1.0: 0.0, 1.0: 0.0, 1.0: 0.0, 1.0: 0.0, 0.0: 1.0, 1.0: 0.0, 1.0: 0.0, 1.0: 0.0, 1.0: 0.0, 1.0: 0.0, 1.0: 0.0, 1.0: 0.0, 1.0: 0.0, "
          ]
        },
        {
          "output_type": "stream",
          "name": "stderr",
          "text": [
            "185it [00:01, 93.77it/s]"
          ]
        },
        {
          "output_type": "stream",
          "name": "stdout",
          "text": [
            "1.0: 0.0, 1.0: 0.0, 1.0: 0.0, 1.0: 0.0, 1.0: 0.0, 1.0: 0.0, 1.0: 0.0, 0.0: 1.0, 1.0: 0.0, 1.0: 0.0, 1.0: 0.0, 1.0: 0.0, 1.0: 0.0, 0.0: 1.0, 1.0: 0.0, 1.0: 0.0, 1.0: 0.0, 1.0: 0.0, 1.0: 0.0, 1.0: 0.0, 1.0: 0.0, 1.0: 0.0, 1.0: 0.0, 1.0: 0.0, 1.0: 0.0, 1.0: 0.0, "
          ]
        },
        {
          "output_type": "stream",
          "name": "stderr",
          "text": [
            "229it [00:01, 132.26it/s]"
          ]
        },
        {
          "output_type": "stream",
          "name": "stdout",
          "text": [
            "1.0: 0.0, 1.0: 0.0, 1.0: 0.0, 1.0: 0.0, 1.0: 0.0, 1.0: 0.0, 1.0: 0.0, 1.0: 0.0, 1.0: 0.0, 1.0: 0.0, 0.0: 1.0, 1.0: 0.0, 1.0: 0.0, 1.0: 0.0, 1.0: 0.0, 1.0: 0.0, 0.0: 1.0, 1.0: 0.0, 1.0: 0.0, 1.0: 0.0, 1.0: 0.0, 1.0: 0.0, 1.0: 0.0, "
          ]
        },
        {
          "output_type": "stream",
          "name": "stderr",
          "text": [
            "274it [00:02, 87.07it/s]"
          ]
        },
        {
          "output_type": "stream",
          "name": "stdout",
          "text": [
            "1.0: 0.0, 1.0: 0.0, 1.0: 0.0, 0.0: 1.0, 1.0: 0.0, 1.0: 0.0, 1.0: 0.0, 1.0: 0.0, 1.0: 0.0, 1.0: 0.0, 1.0: 0.0, 1.0: 0.0, 1.0: 0.0, 0.0: 1.0, 1.0: 0.0, 1.0: 0.0, 1.0: 0.0, 1.0: 0.0, 1.0: 0.0, 1.0: 0.0, 1.0: 0.0, 1.0: 0.0, 1.0: 0.0, 1.0: 0.0, 1.0: 0.0, 1.0: 0.0, "
          ]
        },
        {
          "output_type": "stream",
          "name": "stderr",
          "text": [
            "320it [00:02, 128.13it/s]"
          ]
        },
        {
          "output_type": "stream",
          "name": "stdout",
          "text": [
            "1.0: 0.0, 1.0: 0.0, 1.0: 0.0, 1.0: 0.0, 1.0: 0.0, 1.0: 0.0, 1.0: 0.0, 1.0: 0.0, 1.0: 0.0, 1.0: 0.0, 1.0: 0.0, 1.0: 0.0, 1.0: 0.0, 1.0: 0.0, 1.0: 0.0, 1.0: 0.0, 1.0: 0.0, 1.0: 0.0, 1.0: 0.0, 1.0: 0.0, 1.0: 0.0, 1.0: 0.0, "
          ]
        },
        {
          "output_type": "stream",
          "name": "stderr",
          "text": [
            "364it [00:02, 161.82it/s]"
          ]
        },
        {
          "output_type": "stream",
          "name": "stdout",
          "text": [
            "1.0: 0.0, 1.0: 0.0, 1.0: 0.0, 1.0: 0.0, 1.0: 0.0, 1.0: 0.0, 1.0: 0.0, 1.0: 0.0, 1.0: 0.0, 1.0: 0.0, 1.0: 0.0, 1.0: 0.0, 1.0: 0.0, 1.0: 0.0, 1.0: 0.0, 1.0: 0.0, 1.0: 0.0, 1.0: 0.0, 1.0: 0.0, 1.0: 0.0, 1.0: 0.0, 1.0: 0.0, 1.0: 0.0, 1.0: 0.0, 1.0: 0.0, 1.0: 0.0, 1.0: 0.0, 1.0: 0.0, 1.0: 0.0, "
          ]
        },
        {
          "output_type": "stream",
          "name": "stderr",
          "text": [
            "411it [00:03, 191.21it/s]"
          ]
        },
        {
          "output_type": "stream",
          "name": "stdout",
          "text": [
            "1.0: 0.0, 1.0: 0.0, 1.0: 0.0, 1.0: 0.0, 1.0: 0.0, 1.0: 0.0, 1.0: 0.0, 1.0: 0.0, 0.0: 1.0, 1.0: 0.0, 0.0: 1.0, 1.0: 0.0, 1.0: 0.0, 1.0: 0.0, 1.0: 0.0, 1.0: 0.0, 0.0: 1.0, 1.0: 0.0, 1.0: 0.0, 1.0: 0.0, 1.0: 0.0, 1.0: 0.0, 1.0: 0.0, 1.0: 0.0, "
          ]
        },
        {
          "output_type": "stream",
          "name": "stderr",
          "text": [
            "484it [00:03, 222.62it/s]"
          ]
        },
        {
          "output_type": "stream",
          "name": "stdout",
          "text": [
            "1.0: 0.0, 1.0: 0.0, 1.0: 0.0, 1.0: 0.0, 1.0: 0.0, 1.0: 0.0, 1.0: 0.0, 1.0: 0.0, 1.0: 0.0, 1.0: 0.0, 1.0: 0.0, 1.0: 0.0, 1.0: 0.0, 1.0: 0.0, 0.0: 1.0, 0.0: 1.0, 1.0: 0.0, 1.0: 0.0, 1.0: 0.0, 1.0: 0.0, 0.0: 1.0, 0.0: 1.0, 1.0: 0.0, 1.0: 0.0, 0.0: 1.0, 1.0: 0.0, 1.0: 0.0, 1.0: 0.0, 0.0: 1.0, 1.0: 0.0, "
          ]
        },
        {
          "output_type": "stream",
          "name": "stderr",
          "text": [
            "\r508it [00:03, 139.78it/s]"
          ]
        },
        {
          "output_type": "stream",
          "name": "stdout",
          "text": [
            "1.0: 0.0, 1.0: 0.0, 1.0: 0.0, 1.0: 0.0, 1.0: 0.0, 1.0: 0.0, 1.0: 0.0, 1.0: 0.0, 1.0: 0.0, 1.0: 0.0, 0.0: 1.0, 1.0: 0.0, 1.0: 0.0, 1.0: 0.0, 1.0: 0.0, 0.0: 1.0, 1.0: 0.0, 1.0: 0.0, 1.0: 0.0, 1.0: "
          ]
        },
        {
          "output_type": "stream",
          "name": "stderr",
          "text": [
            "556it [00:03, 175.25it/s]"
          ]
        },
        {
          "output_type": "stream",
          "name": "stdout",
          "text": [
            "0.0, 1.0: 0.0, 1.0: 0.0, 1.0: 0.0, 1.0: 0.0, 1.0: 0.0, 1.0: 0.0, 1.0: 0.0, 1.0: 0.0, 1.0: 0.0, 1.0: 0.0, 1.0: 0.0, 1.0: 0.0, 1.0: 0.0, 1.0: 0.0, 1.0: 0.0, 1.0: 0.0, 0.0: 1.0, 1.0: 0.0, 1.0: 0.0, "
          ]
        },
        {
          "output_type": "stream",
          "name": "stderr",
          "text": [
            "630it [00:04, 207.13it/s]"
          ]
        },
        {
          "output_type": "stream",
          "name": "stdout",
          "text": [
            "1.0: 0.0, 1.0: 0.0, 1.0: 0.0, 1.0: 0.0, 1.0: 0.0, 1.0: 0.0, 0.0: 1.0, 1.0: 0.0, 1.0: 0.0, 1.0: 0.0, 1.0: 0.0, 1.0: 0.0, 1.0: 0.0, 1.0: 0.0, 1.0: 0.0, 1.0: 0.0, 1.0: 0.0, 1.0: 0.0, 1.0: 0.0, "
          ]
        },
        {
          "output_type": "stream",
          "name": "stderr",
          "text": [
            "678it [00:04, 158.13it/s]"
          ]
        },
        {
          "output_type": "stream",
          "name": "stdout",
          "text": [
            "1.0: 0.0, 1.0: 0.0, 0.0: 1.0, 1.0: 0.0, 0.0: 1.0, 1.0: 0.0, 1.0: 0.0, 1.0: 0.0, 1.0: 0.0, 1.0: 0.0, 1.0: 0.0, 1.0: 0.0, 1.0: 0.0, 1.0: 0.0, 0.0: 1.0, 1.0: 0.0, 1.0: 0.0, 1.0: 0.0, 1.0: 0.0, "
          ]
        },
        {
          "output_type": "stream",
          "name": "stderr",
          "text": [
            "724it [00:05, 96.51it/s]"
          ]
        },
        {
          "output_type": "stream",
          "name": "stdout",
          "text": [
            "1.0: 0.0, 1.0: 0.0, 1.0: 0.0, 1.0: 0.0, 1.0: 0.0, 1.0: 0.0, 1.0: 0.0, 0.0: 1.0, 1.0: 0.0, 1.0: 0.0, 0.0: 1.0, 0.0: 1.0, 1.0: 0.0, 1.0: 0.0, 1.0: 0.0, 1.0: 0.0, 1.0: 0.0, 1.0: 0.0, 1.0: 0.0, "
          ]
        },
        {
          "output_type": "stream",
          "name": "stderr",
          "text": [
            "772it [00:05, 138.31it/s]"
          ]
        },
        {
          "output_type": "stream",
          "name": "stdout",
          "text": [
            "1.0: 0.0, 1.0: 0.0, 1.0: 0.0, 1.0: 0.0, 0.0: 1.0, 0.0: 1.0, 1.0: 0.0, 1.0: 0.0, 0.0: 1.0, 1.0: 0.0, 1.0: 0.0, 0.0: 1.0, 1.0: 0.0, 0.0: 1.0, 1.0: 0.0, 1.0: 0.0, 1.0: 0.0, 1.0: 0.0, 1.0: 0.0, 1.0: 0.0, "
          ]
        },
        {
          "output_type": "stream",
          "name": "stderr",
          "text": [
            "820it [00:05, 176.48it/s]"
          ]
        },
        {
          "output_type": "stream",
          "name": "stdout",
          "text": [
            "1.0: 0.0, 1.0: 0.0, 0.0: 1.0, 1.0: 0.0, 1.0: 0.0, 0.0: 1.0, 1.0: 0.0, 1.0: 0.0, 1.0: 0.0, 1.0: 0.0, 1.0: 0.0, 1.0: 0.0, 1.0: 0.0, 1.0: 0.0, 1.0: 0.0, 1.0: 0.0, 1.0: 0.0, 1.0: 0.0, "
          ]
        },
        {
          "output_type": "stream",
          "name": "stderr",
          "text": [
            "869it [00:06, 205.40it/s]"
          ]
        },
        {
          "output_type": "stream",
          "name": "stdout",
          "text": [
            "1.0: 0.0, 1.0: 0.0, 1.0: 0.0, 1.0: 0.0, 1.0: 0.0, 1.0: 0.0, 1.0: 0.0, 1.0: 0.0, 1.0: 0.0, 0.0: 1.0, 1.0: 0.0, 0.0: 1.0, 1.0: 0.0, 0.0: 1.0, 0.0: 1.0, 1.0: 0.0, 1.0: 0.0, 1.0: 0.0, "
          ]
        },
        {
          "output_type": "stream",
          "name": "stderr",
          "text": [
            "917it [00:06, 218.04it/s]"
          ]
        },
        {
          "output_type": "stream",
          "name": "stdout",
          "text": [
            "1.0: 0.0, 1.0: 0.0, 1.0: 0.0, 1.0: 0.0, 1.0: 0.0, 1.0: 0.0, 0.0: 1.0, 1.0: 0.0, 1.0: 0.0, 1.0: 0.0, 0.0: 1.0, 1.0: 0.0, 0.0: 1.0, 1.0: 0.0, 1.0: 0.0, 1.0: 0.0, 1.0: 0.0, 1.0: 0.0, 1.0: 0.0, 1.0: 0.0, 1.0: 0.0, "
          ]
        },
        {
          "output_type": "stream",
          "name": "stderr",
          "text": [
            "965it [00:06, 147.82it/s]"
          ]
        },
        {
          "output_type": "stream",
          "name": "stdout",
          "text": [
            "1.0: 0.0, 1.0: 0.0, 1.0: 0.0, 1.0: 0.0, 1.0: 0.0, 1.0: 0.0, 1.0: 0.0, 1.0: 0.0, 1.0: 0.0, 1.0: 0.0, 1.0: 0.0, 1.0: 0.0, "
          ]
        },
        {
          "output_type": "stream",
          "name": "stderr",
          "text": [
            "1007it [00:07, 93.16it/s]"
          ]
        },
        {
          "output_type": "stream",
          "name": "stdout",
          "text": [
            "0.0: 1.0, 1.0: 0.0, 0.0: 1.0, 1.0: 0.0, 1.0: 0.0, 1.0: 0.0, 1.0: 0.0, 1.0: 0.0, 1.0: 0.0, 1.0: 0.0, 1.0: 0.0, 1.0: 0.0, 1.0: 0.0, 0.0: 1.0, 1.0: 0.0, 1.0: 0.0, 1.0: 0.0, 1.0: 0.0, 1.0: 0.0, 1.0: 0.0, 1.0: 0.0, 0.0: 1.0, 1.0: 0.0, "
          ]
        },
        {
          "output_type": "stream",
          "name": "stderr",
          "text": [
            "\r1024it [00:07, 136.78it/s]\n"
          ]
        },
        {
          "output_type": "stream",
          "name": "stdout",
          "text": [
            "1.0: 0.0, 1.0: 0.0, \n",
            "Epoch 038: | Loss: 0.72886 | Acc: 56.934\n",
            "\n"
          ]
        },
        {
          "output_type": "stream",
          "name": "stderr",
          "text": [
            "51it [00:00, 250.70it/s]"
          ]
        },
        {
          "output_type": "stream",
          "name": "stdout",
          "text": [
            "1.0: 0.0, 1.0: 0.0, 1.0: 0.0, 1.0: 0.0, 1.0: 0.0, 1.0: 0.0, 1.0: 0.0, 1.0: 0.0, 1.0: 0.0, 1.0: 0.0, 1.0: 0.0, 1.0: 0.0, 1.0: 0.0, 0.0: 1.0, 0.0: 1.0, 1.0: 0.0, "
          ]
        },
        {
          "output_type": "stream",
          "name": "stderr",
          "text": [
            "103it [00:00, 100.99it/s]"
          ]
        },
        {
          "output_type": "stream",
          "name": "stdout",
          "text": [
            "1.0: 0.0, 1.0: 0.0, 0.0: 1.0, 1.0: 0.0, 1.0: 0.0, 1.0: 0.0, 1.0: 0.0, 0.0: 1.0, 1.0: 0.0, 1.0: 0.0, 0.0: 1.0, 1.0: 0.0, 1.0: 0.0, 1.0: 0.0, 1.0: 0.0, 1.0: 0.0, "
          ]
        },
        {
          "output_type": "stream",
          "name": "stderr",
          "text": [
            "150it [00:01, 147.61it/s]"
          ]
        },
        {
          "output_type": "stream",
          "name": "stdout",
          "text": [
            "1.0: 0.0, 1.0: 0.0, 1.0: 0.0, 1.0: 0.0, 1.0: 0.0, 1.0: 0.0, 1.0: 0.0, 0.0: 1.0, 1.0: 0.0, 1.0: 0.0, 1.0: 0.0, 1.0: 0.0, 1.0: 0.0, 1.0: 0.0, 1.0: 0.0, 1.0: 0.0, 1.0: 0.0, 1.0: 0.0, 1.0: 0.0, 1.0: 0.0, 1.0: 0.0, 1.0: 0.0, "
          ]
        },
        {
          "output_type": "stream",
          "name": "stderr",
          "text": [
            "193it [00:01, 91.26it/s]"
          ]
        },
        {
          "output_type": "stream",
          "name": "stdout",
          "text": [
            "1.0: 0.0, 1.0: 0.0, 1.0: 0.0, 1.0: 0.0, 0.0: 1.0, 1.0: 0.0, 1.0: 0.0, 1.0: 0.0, 1.0: 0.0, 1.0: 0.0, 1.0: 0.0, 1.0: 0.0, 1.0: 0.0, 1.0: 0.0, 0.0: 1.0, 1.0: 0.0, 1.0: 0.0, 1.0: 0.0, 1.0: 0.0, 1.0: 0.0, 1.0: 0.0, 1.0: 0.0, 1.0: 0.0, 1.0: 0.0, "
          ]
        },
        {
          "output_type": "stream",
          "name": "stderr",
          "text": [
            "236it [00:02, 128.74it/s]"
          ]
        },
        {
          "output_type": "stream",
          "name": "stdout",
          "text": [
            "1.0: 0.0, 1.0: 0.0, 1.0: 0.0, 1.0: 0.0, 1.0: 0.0, 1.0: 0.0, 1.0: 0.0, 1.0: 0.0, 1.0: 0.0, 1.0: 0.0, 1.0: 0.0, 1.0: 0.0, 1.0: 0.0, 1.0: 0.0, 1.0: 0.0, 1.0: 0.0, 1.0: 0.0, 1.0: 0.0, 0.0: 1.0, 0.0: 1.0, 1.0: 0.0, 1.0: 0.0, 1.0: 0.0, 1.0: 0.0, 1.0: 0.0, 1.0: 0.0, "
          ]
        },
        {
          "output_type": "stream",
          "name": "stderr",
          "text": [
            "280it [00:02, 162.19it/s]"
          ]
        },
        {
          "output_type": "stream",
          "name": "stdout",
          "text": [
            "1.0: 0.0, 1.0: 0.0, 1.0: 0.0, 1.0: 0.0, 1.0: 0.0, 1.0: 0.0, 1.0: 0.0, 1.0: 0.0, 1.0: 0.0, 1.0: 0.0, 0.0: 1.0, 1.0: 0.0, 1.0: 0.0, 1.0: 0.0, 1.0: 0.0, 1.0: 0.0, 1.0: 0.0, 1.0: 0.0, 1.0: 0.0, 1.0: 0.0, 1.0: 0.0, 1.0: 0.0, 1.0: 0.0, 1.0: 0.0, 0.0: 1.0, 1.0: 0.0, "
          ]
        },
        {
          "output_type": "stream",
          "name": "stderr",
          "text": [
            "326it [00:02, 190.15it/s]"
          ]
        },
        {
          "output_type": "stream",
          "name": "stdout",
          "text": [
            "1.0: 0.0, 1.0: 0.0, 1.0: 0.0, 1.0: 0.0, 1.0: 0.0, 1.0: 0.0, 1.0: 0.0, 1.0: 0.0, 1.0: 0.0, 1.0: 0.0, 1.0: 0.0, 1.0: 0.0, 1.0: 0.0, 0.0: 1.0, 1.0: 0.0, 1.0: 0.0, 1.0: 0.0, 1.0: 0.0, 1.0: 0.0, 0.0: 1.0, 1.0: 0.0, 1.0: 0.0, 1.0: 0.0, 1.0: 0.0, 1.0: 0.0, 1.0: 0.0, 0.0: 1.0, 1.0: 0.0, "
          ]
        },
        {
          "output_type": "stream",
          "name": "stderr",
          "text": [
            "398it [00:02, 219.58it/s]"
          ]
        },
        {
          "output_type": "stream",
          "name": "stdout",
          "text": [
            "1.0: 0.0, 1.0: 0.0, 1.0: 0.0, 1.0: 0.0, 1.0: 0.0, 1.0: 0.0, 1.0: 0.0, 1.0: 0.0, 1.0: 0.0, 1.0: 0.0, 1.0: 0.0, 1.0: 0.0, 1.0: 0.0, 1.0: 0.0, 1.0: 0.0, 1.0: 0.0, 0.0: 1.0, 1.0: 0.0, 1.0: 0.0, 1.0: 0.0, 0.0: 1.0, 1.0: 0.0, 1.0: 0.0, 1.0: 0.0, 1.0: 0.0, 1.0: 0.0, 1.0: 0.0, 1.0: 0.0, 1.0: 0.0, 1.0: 0.0, 1.0: 0.0, 1.0: 0.0, 1.0: 0.0, 1.0: 0.0, 1.0: 0.0, 1.0: 0.0, 1.0: 0.0, 1.0: 0.0, 1.0: 0.0, 1.0: 0.0, 1.0: 0.0, 1.0: 0.0, 1.0: 0.0, 1.0: 0.0, "
          ]
        },
        {
          "output_type": "stream",
          "name": "stderr",
          "text": [
            "446it [00:03, 176.32it/s]"
          ]
        },
        {
          "output_type": "stream",
          "name": "stdout",
          "text": [
            "0.0: 1.0, 1.0: 0.0, 1.0: 0.0, 1.0: 0.0, 1.0: 0.0, 0.0: 1.0, 1.0: 0.0, 1.0: 0.0, 1.0: 0.0, 1.0: 0.0, 1.0: 0.0, 1.0: 0.0, 1.0: 0.0, 1.0: 0.0, 1.0: 0.0, 0.0: 1.0, 1.0: 0.0, 1.0: 0.0, 1.0: 0.0, 0.0: 1.0, 0.0: 1.0, "
          ]
        },
        {
          "output_type": "stream",
          "name": "stderr",
          "text": [
            "491it [00:03, 98.00it/s]"
          ]
        },
        {
          "output_type": "stream",
          "name": "stdout",
          "text": [
            "1.0: 0.0, 1.0: 0.0, 1.0: 0.0, 1.0: 0.0, 1.0: 0.0, 1.0: 0.0, 0.0: 1.0, 1.0: 0.0, 1.0: 0.0, 0.0: 1.0, 1.0: 0.0, 1.0: 0.0, 1.0: 0.0, 1.0: 0.0, 1.0: 0.0, 1.0: 0.0, 1.0: 0.0, 1.0: 0.0, "
          ]
        },
        {
          "output_type": "stream",
          "name": "stderr",
          "text": [
            "538it [00:04, 138.71it/s]"
          ]
        },
        {
          "output_type": "stream",
          "name": "stdout",
          "text": [
            "1.0: 0.0, 1.0: 0.0, 1.0: 0.0, 1.0: 0.0, 1.0: 0.0, 1.0: 0.0, 1.0: 0.0, 1.0: 0.0, 0.0: 1.0, 1.0: 0.0, 1.0: 0.0, 1.0: 0.0, 0.0: 1.0, 1.0: 0.0, 1.0: 0.0, 1.0: 0.0, 1.0: 0.0, 1.0: 0.0, "
          ]
        },
        {
          "output_type": "stream",
          "name": "stderr",
          "text": [
            "\r563it [00:04, 160.97it/s]"
          ]
        },
        {
          "output_type": "stream",
          "name": "stdout",
          "text": [
            "1.0: 0.0, 1.0: 0.0, 1.0: 0.0, 0.0: 1.0, 1.0: 0.0, 1.0: 0.0, 1.0: 0.0, 1.0: 0.0, 0.0: 1.0, 1.0: 0.0, 1.0: 0.0, 1.0: 0.0, 1.0: 0.0, 1.0: 0.0, 1.0: 0.0, 1.0: 0.0, 0.0: 1.0, "
          ]
        },
        {
          "output_type": "stream",
          "name": "stderr",
          "text": [
            "608it [00:05, 98.60it/s]"
          ]
        },
        {
          "output_type": "stream",
          "name": "stdout",
          "text": [
            "1.0: 0.0, 1.0: 0.0, 1.0: 0.0, 1.0: 0.0, 1.0: 0.0, 1.0: 0.0, 1.0: 0.0, 0.0: 1.0, 1.0: 0.0, 1.0: 0.0, 1.0: 0.0, 1.0: 0.0, 1.0: 0.0, "
          ]
        },
        {
          "output_type": "stream",
          "name": "stderr",
          "text": [
            "653it [00:05, 138.01it/s]"
          ]
        },
        {
          "output_type": "stream",
          "name": "stdout",
          "text": [
            "1.0: 0.0, 1.0: 0.0, 1.0: 0.0, 1.0: 0.0, 1.0: 0.0, 1.0: 0.0, 1.0: 0.0, 1.0: 0.0, 0.0: 1.0, 0.0: 1.0, 1.0: 0.0, 0.0: 1.0, 1.0: 0.0, 0.0: 1.0, 1.0: 0.0, 1.0: 0.0, 1.0: 0.0, 1.0: 0.0, 1.0: 0.0, 1.0: 0.0, 1.0: 0.0, "
          ]
        },
        {
          "output_type": "stream",
          "name": "stderr",
          "text": [
            "698it [00:05, 89.40it/s]"
          ]
        },
        {
          "output_type": "stream",
          "name": "stdout",
          "text": [
            "1.0: 0.0, 1.0: 0.0, 1.0: 0.0, 0.0: 1.0, 1.0: 0.0, 1.0: 0.0, 1.0: 0.0, 1.0: 0.0, 1.0: 0.0, 1.0: 0.0, 1.0: 0.0, 1.0: 0.0, 1.0: 0.0, 1.0: 0.0, 1.0: 0.0, 0.0: 1.0, 0.0: 1.0, 1.0: 0.0, 1.0: 0.0, 1.0: 0.0, "
          ]
        },
        {
          "output_type": "stream",
          "name": "stderr",
          "text": [
            "744it [00:06, 130.44it/s]"
          ]
        },
        {
          "output_type": "stream",
          "name": "stdout",
          "text": [
            "1.0: 0.0, 1.0: 0.0, 1.0: 0.0, 1.0: 0.0, 1.0: 0.0, 0.0: 1.0, 1.0: 0.0, 1.0: 0.0, 1.0: 0.0, 1.0: 0.0, 1.0: 0.0, 1.0: 0.0, 1.0: 0.0, 1.0: 0.0, 1.0: 0.0, 0.0: 1.0, 1.0: 0.0, 1.0: "
          ]
        },
        {
          "output_type": "stream",
          "name": "stderr",
          "text": [
            "792it [00:06, 170.79it/s]"
          ]
        },
        {
          "output_type": "stream",
          "name": "stdout",
          "text": [
            "0.0, 0.0: 1.0, 1.0: 0.0, 1.0: 0.0, 1.0: 0.0, 1.0: 0.0, 1.0: 0.0, 1.0: 0.0, 1.0: 0.0, 1.0: 0.0, 1.0: 0.0, 1.0: 0.0, 1.0: 0.0, 1.0: 0.0, "
          ]
        },
        {
          "output_type": "stream",
          "name": "stderr",
          "text": [
            "840it [00:06, 195.45it/s]"
          ]
        },
        {
          "output_type": "stream",
          "name": "stdout",
          "text": [
            "0.0: 1.0, 1.0: 0.0, 1.0: 0.0, 1.0: 0.0, 1.0: 0.0, 1.0: 0.0, 0.0: 1.0, 1.0: 0.0, 1.0: 0.0, 1.0: 0.0, 1.0: 0.0, 0.0: 1.0, 1.0: 0.0, 1.0: 0.0, 1.0: 0.0, 1.0: 0.0, 1.0: 0.0, "
          ]
        },
        {
          "output_type": "stream",
          "name": "stderr",
          "text": [
            "889it [00:06, 217.61it/s]"
          ]
        },
        {
          "output_type": "stream",
          "name": "stdout",
          "text": [
            "1.0: 0.0, 1.0: 0.0, 0.0: 1.0, 1.0: 0.0, 1.0: 0.0, 1.0: 0.0, 0.0: 1.0, 1.0: 0.0, 1.0: 0.0, 0.0: 1.0, 1.0: 0.0, 1.0: 0.0, 1.0: 0.0, 1.0: 0.0, 1.0: 0.0, 1.0: 0.0, 1.0: 0.0, 1.0: 0.0, 1.0: 0.0, 1.0: 0.0, "
          ]
        },
        {
          "output_type": "stream",
          "name": "stderr",
          "text": [
            "937it [00:07, 220.54it/s]"
          ]
        },
        {
          "output_type": "stream",
          "name": "stdout",
          "text": [
            "1.0: 0.0, 1.0: 0.0, 0.0: 1.0, 1.0: 0.0, 1.0: 0.0, 1.0: 0.0, 1.0: 0.0, 1.0: 0.0, 0.0: 1.0, 1.0: 0.0, 1.0: 0.0, 1.0: 0.0, 1.0: 0.0, 1.0: 0.0, "
          ]
        },
        {
          "output_type": "stream",
          "name": "stderr",
          "text": [
            "985it [00:07, 194.03it/s]"
          ]
        },
        {
          "output_type": "stream",
          "name": "stdout",
          "text": [
            "1.0: 0.0, 1.0: 0.0, 1.0: 0.0, 1.0: 0.0, 0.0: 1.0, 1.0: 0.0, 1.0: 0.0, 1.0: 0.0, 1.0: 0.0, 1.0: 0.0, 1.0: 0.0, 1.0: 0.0, 1.0: 0.0, 0.0: 1.0, 1.0: 0.0, 1.0: 0.0, 1.0: 0.0, 1.0: 0.0, 1.0: 0.0, 1.0: 0.0, 1.0: "
          ]
        },
        {
          "output_type": "stream",
          "name": "stderr",
          "text": [
            "1024it [00:07, 136.62it/s]\n"
          ]
        },
        {
          "output_type": "stream",
          "name": "stdout",
          "text": [
            "0.0, 1.0: 0.0, 1.0: 0.0, 1.0: 0.0, 0.0: 1.0, 1.0: 0.0, 1.0: 0.0, 1.0: 0.0, 1.0: 0.0, 1.0: 0.0, 1.0: 0.0, 1.0: 0.0, 1.0: 0.0, 1.0: 0.0, \n",
            "Epoch 039: | Loss: 0.73165 | Acc: 56.445\n",
            "\n"
          ]
        },
        {
          "output_type": "stream",
          "name": "stderr",
          "text": [
            "\r0it [00:00, ?it/s]"
          ]
        },
        {
          "output_type": "stream",
          "name": "stdout",
          "text": [
            "0.0: 1.0, 1.0: 0.0, "
          ]
        },
        {
          "output_type": "stream",
          "name": "stderr",
          "text": [
            "50it [00:00, 244.97it/s]"
          ]
        },
        {
          "output_type": "stream",
          "name": "stdout",
          "text": [
            "1.0: 0.0, 1.0: 0.0, 1.0: 0.0, 1.0: 0.0, 1.0: 0.0, 1.0: 0.0, 1.0: 0.0, 1.0: 0.0, 1.0: 0.0, 1.0: 0.0, 1.0: 0.0, 1.0: 0.0, 1.0: 0.0, 0.0: 1.0, 1.0: 0.0, 0.0: 1.0, 1.0: 0.0, "
          ]
        },
        {
          "output_type": "stream",
          "name": "stderr",
          "text": [
            "102it [00:00, 242.73it/s]"
          ]
        },
        {
          "output_type": "stream",
          "name": "stdout",
          "text": [
            "1.0: 0.0, 0.0: 1.0, 1.0: 0.0, 1.0: 0.0, 1.0: 0.0, 0.0: 1.0, 1.0: 0.0, 0.0: 1.0, 1.0: 0.0, 1.0: 0.0, 1.0: 0.0, 1.0: 0.0, "
          ]
        },
        {
          "output_type": "stream",
          "name": "stderr",
          "text": [
            "155it [00:00, 206.10it/s]"
          ]
        },
        {
          "output_type": "stream",
          "name": "stdout",
          "text": [
            "0.0: 1.0, 1.0: 0.0, 1.0: 0.0, 1.0: 0.0, 1.0: 0.0, 1.0: 0.0, 1.0: 0.0, 0.0: 1.0, 1.0: 0.0, 1.0: 0.0, 1.0: 0.0, 1.0: 0.0, 1.0: 0.0, 1.0: 0.0, 1.0: 0.0, 1.0: 0.0, 1.0: 0.0, 1.0: 0.0, 1.0: 0.0, 1.0: 0.0, 1.0: 0.0, 1.0: 0.0, 1.0: 0.0, 1.0: 0.0, 1.0: 0.0, "
          ]
        },
        {
          "output_type": "stream",
          "name": "stderr",
          "text": [
            "\r178it [00:01, 82.57it/s] "
          ]
        },
        {
          "output_type": "stream",
          "name": "stdout",
          "text": [
            "1.0: 0.0, 1.0: 0.0, 1.0: 0.0, 1.0: 0.0, 1.0: 0.0, 1.0: 0.0, 1.0: 0.0, 0.0: 1.0, 1.0: 0.0, 1.0: 0.0, 1.0: 0.0, 1.0: 0.0, 1.0: 0.0, 1.0: 0.0, 1.0: 0.0, 1.0: 0.0, 1.0: 0.0, 1.0: 0.0, 1.0: 0.0, 1.0: 0.0, 1.0: 0.0, 1.0: 0.0, 1.0: 0.0, "
          ]
        },
        {
          "output_type": "stream",
          "name": "stderr",
          "text": [
            "248it [00:01, 144.46it/s]"
          ]
        },
        {
          "output_type": "stream",
          "name": "stdout",
          "text": [
            "1.0: 0.0, 1.0: 0.0, 1.0: 0.0, 1.0: 0.0, 1.0: 0.0, 1.0: 0.0, 1.0: 0.0, 1.0: 0.0, 1.0: 0.0, 1.0: 0.0, 1.0: 0.0, 1.0: 0.0, 1.0: 0.0, 1.0: 0.0, 1.0: 0.0, 1.0: 0.0, 1.0: 0.0, 1.0: 0.0, 1.0: 0.0, 1.0: 0.0, 1.0: 0.0, 1.0: 0.0, 1.0: 0.0, 0.0: 1.0, 1.0: 0.0, 1.0: 0.0, 1.0: 0.0, "
          ]
        },
        {
          "output_type": "stream",
          "name": "stderr",
          "text": [
            "\r270it [00:02, 78.66it/s] "
          ]
        },
        {
          "output_type": "stream",
          "name": "stdout",
          "text": [
            "1.0: 0.0, 1.0: 0.0, 1.0: 0.0, 1.0: 0.0, 1.0: 0.0, 1.0: 0.0, 1.0: 0.0, 1.0: 0.0, 1.0: 0.0, 1.0: 0.0, 1.0: 0.0, 1.0: 0.0, 1.0: 0.0, 1.0: 0.0, 1.0: 0.0, 0.0: 1.0, 1.0: 0.0, 1.0: 0.0, 1.0: 0.0, 1.0: 0.0, 1.0: 0.0, "
          ]
        },
        {
          "output_type": "stream",
          "name": "stderr",
          "text": [
            "334it [00:02, 133.44it/s]"
          ]
        },
        {
          "output_type": "stream",
          "name": "stdout",
          "text": [
            "1.0: 0.0, 1.0: 0.0, 1.0: 0.0, 1.0: 0.0, 1.0: 0.0, 1.0: 0.0, 1.0: 0.0, 1.0: 0.0, 1.0: 0.0, 1.0: 0.0, 1.0: 0.0, 1.0: 0.0, 1.0: 0.0, 1.0: 0.0, 0.0: 1.0, 1.0: 0.0, 1.0: 0.0, 1.0: 0.0, 1.0: 0.0, 1.0: 0.0, 1.0: 0.0, 1.0: 0.0, 1.0: 0.0, 1.0: 0.0, 1.0: 0.0, "
          ]
        },
        {
          "output_type": "stream",
          "name": "stderr",
          "text": [
            "379it [00:03, 76.53it/s] "
          ]
        },
        {
          "output_type": "stream",
          "name": "stdout",
          "text": [
            "1.0: 0.0, 1.0: 0.0, 1.0: 0.0, 1.0: 0.0, 1.0: 0.0, 1.0: 0.0, 1.0: 0.0, 1.0: 0.0, 1.0: 0.0, 1.0: 0.0, 0.0: 1.0, 1.0: 0.0, 1.0: 0.0, 1.0: 0.0, 1.0: 0.0, 1.0: 0.0, 1.0: 0.0, 1.0: 0.0, 1.0: 0.0, 1.0: 0.0, 1.0: 0.0, 1.0: 0.0, 1.0: 0.0, 1.0: 0.0, 1.0: 0.0, 1.0: 0.0, 1.0: 0.0, 1.0: 0.0, 1.0: 0.0, 1.0: 0.0, 1.0: 0.0, 1.0: 0.0, 1.0: 0.0, 1.0: 0.0, 1.0: 0.0, "
          ]
        },
        {
          "output_type": "stream",
          "name": "stderr",
          "text": [
            "451it [00:03, 139.29it/s]"
          ]
        },
        {
          "output_type": "stream",
          "name": "stdout",
          "text": [
            "1.0: 0.0, 1.0: 0.0, 1.0: 0.0, 1.0: 0.0, 1.0: 0.0, 1.0: 0.0, 1.0: 0.0, 1.0: 0.0, 1.0: 0.0, 1.0: 0.0, 1.0: 0.0, 1.0: 0.0, 1.0: 0.0, 1.0: 0.0, 1.0: 0.0, 1.0: 0.0, 1.0: 0.0, 0.0: 1.0, 1.0: 0.0, 1.0: 0.0, 1.0: 0.0, 1.0: 0.0, 0.0: 1.0, "
          ]
        },
        {
          "output_type": "stream",
          "name": "stderr",
          "text": [
            "499it [00:03, 177.17it/s]"
          ]
        },
        {
          "output_type": "stream",
          "name": "stdout",
          "text": [
            "0.0: 1.0, 1.0: 0.0, 1.0: 0.0, 0.0: 1.0, 0.0: 1.0, 1.0: 0.0, 1.0: 0.0, 1.0: 0.0, 1.0: 0.0, 1.0: 0.0, 1.0: 0.0, 1.0: 0.0, 1.0: 0.0, 1.0: 0.0, 1.0: 0.0, 1.0: 0.0, 1.0: 0.0, 1.0: 0.0, 1.0: 0.0, 0.0: 1.0, 1.0: 0.0, "
          ]
        },
        {
          "output_type": "stream",
          "name": "stderr",
          "text": [
            "547it [00:04, 202.99it/s]"
          ]
        },
        {
          "output_type": "stream",
          "name": "stdout",
          "text": [
            "1.0: 0.0, 1.0: 0.0, 1.0: 0.0, 1.0: 0.0, 1.0: 0.0, 1.0: 0.0, 1.0: 0.0, 0.0: 1.0, 0.0: 1.0, 1.0: 0.0, 0.0: 1.0, 1.0: 0.0, 1.0: 0.0, 1.0: 0.0, 1.0: 0.0, 1.0: 0.0, 1.0: 0.0, 1.0: 0.0, 1.0: 0.0, 1.0: 0.0, 0.0: 1.0, 1.0: 0.0, 1.0: 0.0, "
          ]
        },
        {
          "output_type": "stream",
          "name": "stderr",
          "text": [
            "594it [00:04, 215.41it/s]"
          ]
        },
        {
          "output_type": "stream",
          "name": "stdout",
          "text": [
            "1.0: 0.0, 1.0: 0.0, 1.0: 0.0, 1.0: 0.0, 0.0: 1.0, 1.0: 0.0, 1.0: 0.0, 1.0: 0.0, 1.0: 0.0, 1.0: 0.0, 0.0: 1.0, 0.0: 1.0, 1.0: 0.0, 0.0: 1.0, 1.0: 0.0, 1.0: 0.0, 1.0: 0.0, 1.0: 0.0, 1.0: 0.0, 0.0: 1.0, 0.0: 1.0, 1.0: 0.0, 1.0: 0.0, "
          ]
        },
        {
          "output_type": "stream",
          "name": "stderr",
          "text": [
            "642it [00:04, 146.00it/s]"
          ]
        },
        {
          "output_type": "stream",
          "name": "stdout",
          "text": [
            "1.0: 0.0, 1.0: 0.0, 1.0: 0.0, 1.0: 0.0, 1.0: 0.0, 1.0: 0.0, 1.0: 0.0, 1.0: 0.0, 1.0: 0.0, 1.0: 0.0, 1.0: 0.0, 1.0: 0.0, 1.0: 0.0, 1.0: 0.0, 1.0: 0.0, 1.0: 0.0, 1.0: 0.0, 0.0: 1.0, 1.0: 0.0, "
          ]
        },
        {
          "output_type": "stream",
          "name": "stderr",
          "text": [
            "684it [00:05, 90.27it/s]"
          ]
        },
        {
          "output_type": "stream",
          "name": "stdout",
          "text": [
            "1.0: 0.0, 1.0: 0.0, 1.0: 0.0, 1.0: 0.0, 1.0: 0.0, 1.0: 0.0, 1.0: 0.0, 1.0: 0.0, 1.0: 0.0, 1.0: 0.0, 1.0: 0.0, 1.0: 0.0, 1.0: 0.0, 0.0: 1.0, 1.0: 0.0, 1.0: 0.0, 0.0: 1.0, 1.0: 0.0, 0.0: 1.0, 1.0: 0.0, "
          ]
        },
        {
          "output_type": "stream",
          "name": "stderr",
          "text": [
            "727it [00:05, 125.43it/s]"
          ]
        },
        {
          "output_type": "stream",
          "name": "stdout",
          "text": [
            "1.0: 0.0, 1.0: 0.0, 1.0: 0.0, 1.0: 0.0, 1.0: 0.0, 0.0: 1.0, 1.0: 0.0, 1.0: 0.0, 1.0: 0.0, 1.0: 0.0, 0.0: 1.0, 1.0: 0.0, 1.0: 0.0, 1.0: 0.0, 1.0: 0.0, 1.0: 0.0, 1.0: 0.0, "
          ]
        },
        {
          "output_type": "stream",
          "name": "stderr",
          "text": [
            "777it [00:05, 171.61it/s]"
          ]
        },
        {
          "output_type": "stream",
          "name": "stdout",
          "text": [
            "1.0: 0.0, 1.0: 0.0, 1.0: 0.0, 1.0: 0.0, 1.0: 0.0, 1.0: 0.0, 1.0: 0.0, 1.0: 0.0, 1.0: 0.0, 1.0: 0.0, 1.0: 0.0, 1.0: 0.0, 1.0: 0.0, 1.0: 0.0, 0.0: 1.0, 1.0: 0.0, 1.0: 0.0, 1.0: 0.0, 1.0: 0.0, "
          ]
        },
        {
          "output_type": "stream",
          "name": "stderr",
          "text": [
            "823it [00:06, 195.90it/s]"
          ]
        },
        {
          "output_type": "stream",
          "name": "stdout",
          "text": [
            "1.0: 0.0, 1.0: 0.0, 1.0: 0.0, 0.0: 1.0, 1.0: 0.0, 1.0: 0.0, 1.0: 0.0, 0.0: 1.0, 1.0: 0.0, 0.0: 1.0, 1.0: 0.0, 1.0: 0.0, 1.0: 0.0, 1.0: 0.0, 1.0: 0.0, 1.0: 0.0, 1.0: 0.0, 1.0: 0.0, 0.0: 1.0, 1.0: 0.0, 1.0: 0.0, 1.0: 0.0, "
          ]
        },
        {
          "output_type": "stream",
          "name": "stderr",
          "text": [
            "872it [00:06, 217.70it/s]"
          ]
        },
        {
          "output_type": "stream",
          "name": "stdout",
          "text": [
            "0.0: 1.0, 1.0: 0.0, 1.0: 0.0, 1.0: 0.0, 1.0: 0.0, 1.0: 0.0, 1.0: 0.0, 1.0: 0.0, 1.0: 0.0, 0.0: 1.0, 1.0: 0.0, 1.0: 0.0, 1.0: 0.0, 1.0: 0.0, 0.0: 1.0, 1.0: 0.0, 1.0: 0.0, 1.0: 0.0, 1.0: 0.0, "
          ]
        },
        {
          "output_type": "stream",
          "name": "stderr",
          "text": [
            "\r896it [00:06, 214.77it/s]"
          ]
        },
        {
          "output_type": "stream",
          "name": "stdout",
          "text": [
            "1.0: 0.0, 1.0: 0.0, 1.0: 0.0, 1.0: 0.0, 1.0: 0.0, 0.0: 1.0, "
          ]
        },
        {
          "output_type": "stream",
          "name": "stderr",
          "text": [
            "945it [00:06, 174.98it/s]"
          ]
        },
        {
          "output_type": "stream",
          "name": "stdout",
          "text": [
            "1.0: 0.0, 1.0: 0.0, 1.0: 0.0, 1.0: 0.0, 1.0: 0.0, 1.0: 0.0, 1.0: 0.0, 1.0: 0.0, 1.0: 0.0, 1.0: 0.0, 1.0: 0.0, 1.0: 0.0, 1.0: 0.0, 1.0: 0.0, 1.0: 0.0, "
          ]
        },
        {
          "output_type": "stream",
          "name": "stderr",
          "text": [
            "991it [00:07, 107.28it/s]"
          ]
        },
        {
          "output_type": "stream",
          "name": "stdout",
          "text": [
            "1.0: 0.0, 1.0: 0.0, 1.0: 0.0, 1.0: 0.0, 1.0: 0.0, 1.0: 0.0, 0.0: 1.0, 1.0: 0.0, 1.0: 0.0, 1.0: 0.0, 1.0: 0.0, 1.0: 0.0, 1.0: 0.0, 1.0: 0.0, 1.0: 0.0, 0.0: 1.0, "
          ]
        },
        {
          "output_type": "stream",
          "name": "stderr",
          "text": [
            "1024it [00:07, 135.26it/s]\n"
          ]
        },
        {
          "output_type": "stream",
          "name": "stdout",
          "text": [
            "1.0: 0.0, 1.0: 0.0, 1.0: 0.0, 1.0: 0.0, 1.0: 0.0, 1.0: 0.0, 1.0: 0.0, 1.0: 0.0, 1.0: 0.0, 1.0: 0.0, 1.0: 0.0, 1.0: 0.0, 0.0: 1.0, 1.0: 0.0, \n",
            "Epoch 040: | Loss: 0.73138 | Acc: 56.641\n",
            "\n"
          ]
        },
        {
          "output_type": "stream",
          "name": "stderr",
          "text": [
            "\r0it [00:00, ?it/s]"
          ]
        },
        {
          "output_type": "stream",
          "name": "stdout",
          "text": [
            "1.0: 0.0, "
          ]
        },
        {
          "output_type": "stream",
          "name": "stderr",
          "text": [
            "\r19it [00:00, 188.88it/s]"
          ]
        },
        {
          "output_type": "stream",
          "name": "stdout",
          "text": [
            "1.0: 0.0, 1.0: 0.0, 1.0: 0.0, 0.0: 1.0, 1.0: 0.0, "
          ]
        },
        {
          "output_type": "stream",
          "name": "stderr",
          "text": [
            "63it [00:00, 78.82it/s]"
          ]
        },
        {
          "output_type": "stream",
          "name": "stdout",
          "text": [
            "1.0: 0.0, 1.0: 0.0, 1.0: 0.0, 1.0: 0.0, 1.0: 0.0, 1.0: 0.0, 1.0: 0.0, 1.0: 0.0, 1.0: 0.0, 1.0: 0.0, 1.0: 0.0, 1.0: 0.0, 0.0: 1.0, 1.0: 0.0, 1.0: 0.0, "
          ]
        },
        {
          "output_type": "stream",
          "name": "stderr",
          "text": [
            "109it [00:01, 133.51it/s]"
          ]
        },
        {
          "output_type": "stream",
          "name": "stdout",
          "text": [
            "1.0: 0.0, 1.0: 0.0, 1.0: 0.0, 0.0: 1.0, 0.0: 1.0, 0.0: 1.0, 0.0: 1.0, 1.0: 0.0, 1.0: 0.0, 1.0: 0.0, 0.0: 1.0, 0.0: 1.0, 1.0: 0.0, 1.0: 0.0, 1.0: 0.0, 0.0: 1.0, "
          ]
        },
        {
          "output_type": "stream",
          "name": "stderr",
          "text": [
            "154it [00:01, 171.71it/s]"
          ]
        },
        {
          "output_type": "stream",
          "name": "stdout",
          "text": [
            "1.0: 0.0, 1.0: 0.0, 1.0: 0.0, 1.0: 0.0, 1.0: 0.0, 1.0: 0.0, 1.0: 0.0, 1.0: 0.0, 1.0: 0.0, 1.0: 0.0, 1.0: 0.0, 1.0: 0.0, 1.0: 0.0, 1.0: 0.0, 1.0: 0.0, 1.0: 0.0, 1.0: 0.0, 1.0: 0.0, 1.0: 0.0, 1.0: 0.0, 1.0: 0.0, 1.0: 0.0, 1.0: 0.0, 1.0: 0.0, "
          ]
        },
        {
          "output_type": "stream",
          "name": "stderr",
          "text": [
            "200it [00:01, 194.58it/s]"
          ]
        },
        {
          "output_type": "stream",
          "name": "stdout",
          "text": [
            "1.0: 0.0, 1.0: 0.0, 1.0: 0.0, 1.0: 0.0, 1.0: 0.0, 0.0: 1.0, 1.0: 0.0, 1.0: 0.0, 1.0: 0.0, 1.0: 0.0, 1.0: 0.0, 1.0: 0.0, 1.0: 0.0, 1.0: 0.0, 1.0: 0.0, 1.0: 0.0, 1.0: 0.0, 1.0: 0.0, 1.0: 0.0, 1.0: 0.0, 1.0: 0.0, 1.0: 0.0, 1.0: 0.0, 1.0: 0.0, 1.0: 0.0, 1.0: 0.0, 0.0: 1.0, 1.0: 0.0, "
          ]
        },
        {
          "output_type": "stream",
          "name": "stderr",
          "text": [
            "245it [00:01, 200.80it/s]"
          ]
        },
        {
          "output_type": "stream",
          "name": "stdout",
          "text": [
            "0.0: 1.0, 1.0: 0.0, 1.0: 0.0, 1.0: 0.0, 1.0: 0.0, 1.0: 0.0, 1.0: 0.0, 1.0: 0.0, 1.0: 0.0, 1.0: 0.0, 0.0: 1.0, 1.0: 0.0, 1.0: 0.0, 1.0: 0.0, 1.0: 0.0, 1.0: 0.0, 1.0: 0.0, 1.0: 0.0, 1.0: 0.0, 1.0: 0.0, 0.0: 1.0, 1.0: 0.0, 1.0: 0.0, 1.0: 0.0, 1.0: 0.0, 1.0: 0.0, 1.0: 0.0, 1.0: 0.0, 1.0: 0.0, 1.0: 0.0, 0.0: 1.0, 0.0: 1.0, "
          ]
        },
        {
          "output_type": "stream",
          "name": "stderr",
          "text": [
            "314it [00:02, 163.23it/s]"
          ]
        },
        {
          "output_type": "stream",
          "name": "stdout",
          "text": [
            "1.0: 0.0, 1.0: 0.0, 1.0: 0.0, 1.0: 0.0, 1.0: 0.0, 1.0: 0.0, 1.0: 0.0, 1.0: 0.0, 1.0: 0.0, 1.0: 0.0, 1.0: 0.0, 1.0: 0.0, 1.0: 0.0, 0.0: 1.0, 1.0: 0.0, 1.0: 0.0, 1.0: 0.0, 1.0: 0.0, 1.0: 0.0, 1.0: 0.0, 1.0: 0.0, 1.0: 0.0, 1.0: 0.0, 0.0: 1.0, 1.0: 0.0, 0.0: 1.0, 1.0: 0.0, 1.0: 0.0, 1.0: 0.0, "
          ]
        },
        {
          "output_type": "stream",
          "name": "stderr",
          "text": [
            "357it [00:02, 92.55it/s]"
          ]
        },
        {
          "output_type": "stream",
          "name": "stdout",
          "text": [
            "1.0: 0.0, 1.0: 0.0, 1.0: 0.0, 1.0: 0.0, 1.0: 0.0, 1.0: 0.0, 1.0: 0.0, 1.0: 0.0, 1.0: 0.0, 1.0: 0.0, 1.0: 0.0, 1.0: 0.0, 1.0: 0.0, 1.0: 0.0, 1.0: 0.0, 1.0: 0.0, 1.0: 0.0, 0.0: 1.0, 1.0: 0.0, 1.0: 0.0, 1.0: 0.0, 1.0: 0.0, 1.0: 0.0, 1.0: 0.0, 1.0: 0.0, 1.0: 0.0, 1.0: 0.0, 1.0: 0.0, "
          ]
        },
        {
          "output_type": "stream",
          "name": "stderr",
          "text": [
            "398it [00:03, 126.82it/s]"
          ]
        },
        {
          "output_type": "stream",
          "name": "stdout",
          "text": [
            "1.0: 0.0, 1.0: 0.0, 1.0: 0.0, 1.0: 0.0, 1.0: 0.0, 0.0: 1.0, 1.0: 0.0, 1.0: 0.0, 1.0: 0.0, 1.0: 0.0, 1.0: 0.0, 1.0: 0.0, 1.0: 0.0, 1.0: 0.0, 1.0: 0.0, 1.0: 0.0, 1.0: 0.0, 1.0: 0.0, 1.0: 0.0, 1.0: 0.0, 0.0: 1.0, 1.0: 0.0, "
          ]
        },
        {
          "output_type": "stream",
          "name": "stderr",
          "text": [
            "443it [00:03, 162.78it/s]"
          ]
        },
        {
          "output_type": "stream",
          "name": "stdout",
          "text": [
            "1.0: 0.0, 0.0: 1.0, 1.0: 0.0, 1.0: 0.0, 0.0: 1.0, 0.0: 1.0, 1.0: 0.0, 1.0: 0.0, 1.0: 0.0, 1.0: 0.0, 1.0: 0.0, 1.0: 0.0, 1.0: 0.0, 1.0: 0.0, 1.0: 0.0, 1.0: 0.0, 1.0: 0.0, 1.0: 0.0, 1.0: 0.0, 0.0: 1.0, 0.0: 1.0, 1.0: 0.0, 1.0: 0.0, 1.0: 0.0, "
          ]
        },
        {
          "output_type": "stream",
          "name": "stderr",
          "text": [
            "518it [00:03, 213.07it/s]"
          ]
        },
        {
          "output_type": "stream",
          "name": "stdout",
          "text": [
            "1.0: 0.0, 1.0: 0.0, 1.0: 0.0, 1.0: 0.0, 1.0: 0.0, 1.0: 0.0, 1.0: 0.0, 0.0: 1.0, 1.0: 0.0, 1.0: 0.0, 1.0: 0.0, 1.0: 0.0, 1.0: 0.0, 1.0: 0.0, 1.0: 0.0, 1.0: 0.0, 1.0: 0.0, 1.0: 0.0, 1.0: 0.0, 1.0: 0.0, 1.0: 0.0, 1.0: 0.0, "
          ]
        },
        {
          "output_type": "stream",
          "name": "stderr",
          "text": [
            "564it [00:04, 168.35it/s]"
          ]
        },
        {
          "output_type": "stream",
          "name": "stdout",
          "text": [
            "1.0: 0.0, 1.0: 0.0, 1.0: 0.0, 1.0: 0.0, 1.0: 0.0, 1.0: 0.0, 1.0: 0.0, 1.0: 0.0, 1.0: 0.0, 1.0: 0.0, 1.0: 0.0, 1.0: 0.0, 1.0: 0.0, 1.0: 0.0, 1.0: 0.0, 1.0: 0.0, 1.0: 0.0, 1.0: 0.0, 1.0: 0.0, 1.0: 0.0, 1.0: 0.0, 1.0: 0.0, "
          ]
        },
        {
          "output_type": "stream",
          "name": "stderr",
          "text": [
            "632it [00:04, 103.04it/s]"
          ]
        },
        {
          "output_type": "stream",
          "name": "stdout",
          "text": [
            "1.0: 0.0, 1.0: 0.0, 0.0: 1.0, 1.0: 0.0, 0.0: 1.0, 1.0: 0.0, 0.0: 1.0, 1.0: 0.0, 1.0: 0.0, 1.0: 0.0, 1.0: 0.0, 1.0: 0.0, 1.0: 0.0, 1.0: 0.0, 1.0: 0.0, 1.0: 0.0, 1.0: 0.0, 1.0: 0.0, 1.0: 0.0, 1.0: 0.0, 1.0: 0.0, 0.0: 1.0, 1.0: 0.0, 1.0: 0.0, 1.0: 0.0, 1.0: 0.0, "
          ]
        },
        {
          "output_type": "stream",
          "name": "stderr",
          "text": [
            "680it [00:05, 145.82it/s]"
          ]
        },
        {
          "output_type": "stream",
          "name": "stdout",
          "text": [
            "1.0: 0.0, 1.0: 0.0, 1.0: 0.0, 1.0: 0.0, 1.0: 0.0, 1.0: 0.0, 1.0: 0.0, 1.0: 0.0, 1.0: 0.0, 1.0: 0.0, 1.0: 0.0, 1.0: 0.0, 0.0: 1.0, 1.0: 0.0, 1.0: 0.0, 1.0: "
          ]
        },
        {
          "output_type": "stream",
          "name": "stderr",
          "text": [
            "727it [00:05, 180.56it/s]"
          ]
        },
        {
          "output_type": "stream",
          "name": "stdout",
          "text": [
            "0.0, 1.0: 0.0, 1.0: 0.0, 1.0: 0.0, 1.0: 0.0, 1.0: 0.0, 1.0: 0.0, 1.0: 0.0, 1.0: 0.0, 1.0: 0.0, 1.0: 0.0, 1.0: 0.0, 1.0: 0.0, 1.0: 0.0, 1.0: 0.0, 0.0: 1.0, 0.0: 1.0, "
          ]
        },
        {
          "output_type": "stream",
          "name": "stderr",
          "text": [
            "777it [00:05, 209.13it/s]"
          ]
        },
        {
          "output_type": "stream",
          "name": "stdout",
          "text": [
            "1.0: 0.0, 1.0: 0.0, 0.0: 1.0, 1.0: 0.0, 1.0: 0.0, 1.0: 0.0, 0.0: 1.0, 1.0: 0.0, 1.0: 0.0, 1.0: 0.0, 1.0: 0.0, 1.0: 0.0, 1.0: 0.0, 1.0: 0.0, 1.0: 0.0, 1.0: 0.0, "
          ]
        },
        {
          "output_type": "stream",
          "name": "stderr",
          "text": [
            "827it [00:05, 225.58it/s]"
          ]
        },
        {
          "output_type": "stream",
          "name": "stdout",
          "text": [
            "1.0: 0.0, 1.0: 0.0, 1.0: 0.0, 1.0: 0.0, 1.0: 0.0, 1.0: 0.0, 0.0: 1.0, 1.0: 0.0, 1.0: 0.0, 1.0: 0.0, 1.0: 0.0, 1.0: 0.0, 1.0: 0.0, 1.0: 0.0, 0.0: 1.0, 1.0: 0.0, 1.0: 0.0, 1.0: 0.0, 1.0: 0.0, "
          ]
        },
        {
          "output_type": "stream",
          "name": "stderr",
          "text": [
            "875it [00:06, 149.73it/s]"
          ]
        },
        {
          "output_type": "stream",
          "name": "stdout",
          "text": [
            "1.0: 0.0, 1.0: 0.0, 1.0: 0.0, 0.0: 1.0, 0.0: 1.0, 1.0: 0.0, 1.0: 0.0, 1.0: 0.0, 1.0: 0.0, 1.0: 0.0, 1.0: 0.0, 1.0: 0.0, 1.0: 0.0, 1.0: 0.0, 1.0: 0.0, 0.0: 1.0, "
          ]
        },
        {
          "output_type": "stream",
          "name": "stderr",
          "text": [
            "920it [00:06, 90.38it/s]"
          ]
        },
        {
          "output_type": "stream",
          "name": "stdout",
          "text": [
            "1.0: 0.0, 1.0: 0.0, 1.0: 0.0, 1.0: 0.0, 1.0: 0.0, 1.0: 0.0, 1.0: 0.0, 1.0: 0.0, 1.0: 0.0, 0.0: 1.0, 0.0: 1.0, 1.0: 0.0, 1.0: 0.0, 1.0: 0.0, 1.0: 0.0, 1.0: 0.0, 1.0: 0.0, 1.0: 0.0, "
          ]
        },
        {
          "output_type": "stream",
          "name": "stderr",
          "text": [
            "964it [00:07, 126.19it/s]"
          ]
        },
        {
          "output_type": "stream",
          "name": "stdout",
          "text": [
            "1.0: 0.0, 1.0: 0.0, 1.0: 0.0, 1.0: 0.0, 1.0: 0.0, 1.0: 0.0, 0.0: 1.0, 1.0: 0.0, 1.0: 0.0, 0.0: 1.0, 1.0: 0.0, 1.0: 0.0, 1.0: 0.0, 1.0: 0.0, 1.0: 0.0, 0.0: 1.0, 1.0: 0.0, 1.0: 0.0, 1.0: 0.0, "
          ]
        },
        {
          "output_type": "stream",
          "name": "stderr",
          "text": [
            "1010it [00:07, 164.12it/s]"
          ]
        },
        {
          "output_type": "stream",
          "name": "stdout",
          "text": [
            "1.0: 0.0, 0.0: 1.0, 1.0: 0.0, 1.0: 0.0, 0.0: 1.0, 1.0: 0.0, 1.0: 0.0, 1.0: 0.0, 1.0: 0.0, 1.0: 0.0, 1.0: 0.0, 1.0: 0.0, 1.0: 0.0, 0.0: 1.0, 1.0: 0.0, 1.0: 0.0, 1.0: 0.0, 0.0: 1.0, 1.0: 0.0, 1.0: 0.0, 1.0: 0.0, 1.0: 0.0, "
          ]
        },
        {
          "output_type": "stream",
          "name": "stderr",
          "text": [
            "\r1024it [00:07, 138.95it/s]\n"
          ]
        },
        {
          "output_type": "stream",
          "name": "stdout",
          "text": [
            "1.0: 0.0, 1.0: 0.0, 1.0: 0.0, \n",
            "Epoch 041: | Loss: 0.72741 | Acc: 57.129\n",
            "\n"
          ]
        },
        {
          "output_type": "stream",
          "name": "stderr",
          "text": [
            "24it [00:00, 233.70it/s]"
          ]
        },
        {
          "output_type": "stream",
          "name": "stdout",
          "text": [
            "1.0: 0.0, 1.0: 0.0, 1.0: 0.0, 1.0: 0.0, 1.0: 0.0, 1.0: 0.0, 1.0: 0.0, 0.0: 1.0, 1.0: 0.0, 1.0: 0.0, 1.0: 0.0, "
          ]
        },
        {
          "output_type": "stream",
          "name": "stderr",
          "text": [
            "\r48it [00:00, 228.22it/s]"
          ]
        },
        {
          "output_type": "stream",
          "name": "stdout",
          "text": [
            "1.0: 0.0, 1.0: 0.0, 1.0: 0.0, 1.0: 0.0, "
          ]
        },
        {
          "output_type": "stream",
          "name": "stderr",
          "text": [
            "\r71it [00:00, 228.17it/s]"
          ]
        },
        {
          "output_type": "stream",
          "name": "stdout",
          "text": [
            "0.0: 1.0, 1.0: 0.0, 0.0: 1.0, 1.0: 0.0, 1.0: 0.0, 1.0: 0.0, 1.0: 0.0, 1.0: 0.0, 1.0: 0.0, "
          ]
        },
        {
          "output_type": "stream",
          "name": "stderr",
          "text": [
            "\r95it [00:00, 227.67it/s]"
          ]
        },
        {
          "output_type": "stream",
          "name": "stdout",
          "text": [
            "1.0: 0.0, 1.0: 0.0, "
          ]
        },
        {
          "output_type": "stream",
          "name": "stderr",
          "text": [
            "143it [00:00, 168.16it/s]"
          ]
        },
        {
          "output_type": "stream",
          "name": "stdout",
          "text": [
            "1.0: 0.0, 0.0: 1.0, 1.0: 0.0, 1.0: 0.0, 1.0: 0.0, 1.0: 0.0, 1.0: 0.0, 1.0: 0.0, 1.0: 0.0, 0.0: 1.0, 1.0: 0.0, 1.0: 0.0, 1.0: 0.0, 1.0: 0.0, 1.0: 0.0, 1.0: 0.0, 1.0: 0.0, 0.0: 1.0, 1.0: 0.0, 1.0: 0.0, 1.0: 0.0, 0.0: 1.0, "
          ]
        },
        {
          "output_type": "stream",
          "name": "stderr",
          "text": [
            "189it [00:01, 193.11it/s]"
          ]
        },
        {
          "output_type": "stream",
          "name": "stdout",
          "text": [
            "1.0: 0.0, 1.0: 0.0, 1.0: 0.0, 1.0: 0.0, 1.0: 0.0, 0.0: 1.0, 1.0: 0.0, 1.0: 0.0, 1.0: 0.0, 1.0: 0.0, 1.0: 0.0, 1.0: 0.0, 1.0: 0.0, 1.0: 0.0, 1.0: 0.0, 1.0: 0.0, 1.0: 0.0, 1.0: 0.0, 1.0: 0.0, 1.0: 0.0, 1.0: 0.0, 1.0: 0.0, 1.0: 0.0, 1.0: 0.0, 1.0: 0.0, "
          ]
        },
        {
          "output_type": "stream",
          "name": "stderr",
          "text": [
            "235it [00:01, 206.48it/s]"
          ]
        },
        {
          "output_type": "stream",
          "name": "stdout",
          "text": [
            "1.0: 0.0, 1.0: 0.0, 1.0: 0.0, 1.0: 0.0, 1.0: 0.0, 0.0: 1.0, 1.0: 0.0, 1.0: 0.0, 0.0: 1.0, 0.0: 1.0, 1.0: 0.0, 1.0: 0.0, 1.0: 0.0, 1.0: 0.0, 1.0: 0.0, 1.0: 0.0, 1.0: 0.0, 1.0: 0.0, 1.0: 0.0, 0.0: 1.0, 1.0: 0.0, 1.0: 0.0, 1.0: 0.0, 1.0: 0.0, 1.0: 0.0, 1.0: 0.0, "
          ]
        },
        {
          "output_type": "stream",
          "name": "stderr",
          "text": [
            "279it [00:01, 211.35it/s]"
          ]
        },
        {
          "output_type": "stream",
          "name": "stdout",
          "text": [
            "1.0: 0.0, 1.0: 0.0, 1.0: 0.0, 1.0: 0.0, 1.0: 0.0, 1.0: 0.0, 1.0: 0.0, 1.0: 0.0, 1.0: 0.0, 1.0: 0.0, 1.0: 0.0, 1.0: 0.0, 1.0: 0.0, 0.0: 1.0, 0.0: 1.0, 1.0: 0.0, 1.0: 0.0, 1.0: 0.0, 1.0: 0.0, 1.0: 0.0, 1.0: 0.0, 1.0: 0.0, 1.0: 0.0, 1.0: 0.0, 1.0: 0.0, "
          ]
        },
        {
          "output_type": "stream",
          "name": "stderr",
          "text": [
            "324it [00:01, 196.10it/s]"
          ]
        },
        {
          "output_type": "stream",
          "name": "stdout",
          "text": [
            "1.0: 0.0, 1.0: 0.0, 1.0: 0.0, 1.0: 0.0, 1.0: 0.0, 0.0: 1.0, 1.0: 0.0, 1.0: 0.0, 1.0: 0.0, 1.0: 0.0, 1.0: 0.0, 1.0: 0.0, 1.0: 0.0, 1.0: 0.0, 1.0: 0.0, 1.0: 0.0, 1.0: 0.0, 1.0: 0.0, 1.0: 0.0, 1.0: 0.0, 1.0: 0.0, 1.0: 0.0, 1.0: 0.0, 1.0: 0.0, 1.0: 0.0, 0.0: 1.0, "
          ]
        },
        {
          "output_type": "stream",
          "name": "stderr",
          "text": [
            "366it [00:01, 201.68it/s]"
          ]
        },
        {
          "output_type": "stream",
          "name": "stdout",
          "text": [
            "1.0: 0.0, 1.0: 0.0, 1.0: 0.0, 1.0: 0.0, 1.0: 0.0, 1.0: 0.0, 1.0: 0.0, 1.0: 0.0, 1.0: 0.0, 1.0: 0.0, 1.0: 0.0, 1.0: 0.0, 1.0: 0.0, 1.0: 0.0, 1.0: 0.0, 1.0: 0.0, 1.0: 0.0, 1.0: 0.0, 1.0: 0.0, 0.0: 1.0, 1.0: 0.0, 1.0: 0.0, 1.0: 0.0, 1.0: 0.0, 1.0: 0.0, 1.0: 0.0, 1.0: 0.0, "
          ]
        },
        {
          "output_type": "stream",
          "name": "stderr",
          "text": [
            "416it [00:02, 224.98it/s]"
          ]
        },
        {
          "output_type": "stream",
          "name": "stdout",
          "text": [
            "1.0: 0.0, 1.0: 0.0, 1.0: 0.0, 1.0: 0.0, 1.0: 0.0, 1.0: 0.0, 1.0: 0.0, 0.0: 1.0, 1.0: 0.0, 1.0: 0.0, 0.0: 1.0, 1.0: 0.0, 1.0: 0.0, 1.0: 0.0, 1.0: 0.0, 1.0: 0.0, 1.0: 0.0, 0.0: 1.0, 1.0: 0.0, 1.0: 0.0, 1.0: 0.0, 1.0: 0.0, "
          ]
        },
        {
          "output_type": "stream",
          "name": "stderr",
          "text": [
            "464it [00:02, 228.25it/s]"
          ]
        },
        {
          "output_type": "stream",
          "name": "stdout",
          "text": [
            "1.0: 0.0, 1.0: 0.0, 1.0: 0.0, 1.0: 0.0, 1.0: 0.0, 1.0: 0.0, 1.0: 0.0, 1.0: 0.0, 1.0: 0.0, 1.0: 0.0, 0.0: 1.0, 1.0: 0.0, 1.0: 0.0, 1.0: 0.0, 1.0: 0.0, 1.0: 0.0, 0.0: 1.0, "
          ]
        },
        {
          "output_type": "stream",
          "name": "stderr",
          "text": [
            "511it [00:02, 196.85it/s]"
          ]
        },
        {
          "output_type": "stream",
          "name": "stdout",
          "text": [
            "1.0: 0.0, 1.0: 0.0, 1.0: 0.0, 1.0: 0.0, 1.0: 0.0, 0.0: 1.0, 1.0: 0.0, 1.0: 0.0, 1.0: 0.0, 1.0: 0.0, 1.0: 0.0, 1.0: 0.0, 1.0: 0.0, 1.0: 0.0, 1.0: 0.0, 1.0: 0.0, 1.0: 0.0, 1.0: 0.0, 1.0: 0.0, 1.0: 0.0, 1.0: 0.0, 1.0: 0.0, "
          ]
        },
        {
          "output_type": "stream",
          "name": "stderr",
          "text": [
            "561it [00:02, 221.94it/s]"
          ]
        },
        {
          "output_type": "stream",
          "name": "stdout",
          "text": [
            "1.0: 0.0, 1.0: 0.0, 1.0: 0.0, 0.0: 1.0, 1.0: 0.0, 1.0: 0.0, 1.0: 0.0, 1.0: 0.0, 1.0: 0.0, 1.0: 0.0, 1.0: 0.0, 1.0: 0.0, 1.0: 0.0, 1.0: 0.0, 1.0: 0.0, 1.0: 0.0, 1.0: 0.0, 1.0: 0.0, 1.0: 0.0, 1.0: 0.0, 1.0: 0.0, 1.0: 0.0, "
          ]
        },
        {
          "output_type": "stream",
          "name": "stderr",
          "text": [
            "609it [00:03, 109.43it/s]"
          ]
        },
        {
          "output_type": "stream",
          "name": "stdout",
          "text": [
            "1.0: 0.0, 0.0: 1.0, 1.0: 0.0, 1.0: 0.0, 1.0: 0.0, 0.0: 1.0, 0.0: 1.0, 1.0: 0.0, 1.0: 0.0, 0.0: 1.0, 1.0: 0.0, 1.0: 0.0, 1.0: 0.0, 1.0: 0.0, 1.0: 0.0, 1.0: 0.0, 1.0: 0.0, 1.0: 0.0, "
          ]
        },
        {
          "output_type": "stream",
          "name": "stderr",
          "text": [
            "657it [00:03, 150.43it/s]"
          ]
        },
        {
          "output_type": "stream",
          "name": "stdout",
          "text": [
            "1.0: 0.0, 1.0: 0.0, 1.0: 0.0, 1.0: 0.0, 1.0: 0.0, 1.0: 0.0, 1.0: 0.0, 1.0: 0.0, 1.0: 0.0, 0.0: 1.0, 1.0: 0.0, 1.0: 0.0, 1.0: 0.0, 1.0: 0.0, 0.0: 1.0, 1.0: 0.0, 1.0: 0.0, 1.0: 0.0, 0.0: 1.0, 0.0: 1.0, 1.0: 0.0, 1.0: 0.0, 0.0: 1.0, "
          ]
        },
        {
          "output_type": "stream",
          "name": "stderr",
          "text": [
            "699it [00:04, 89.25it/s]"
          ]
        },
        {
          "output_type": "stream",
          "name": "stdout",
          "text": [
            "1.0: 0.0, 1.0: 0.0, 1.0: 0.0, 1.0: 0.0, 1.0: 0.0, 1.0: 0.0, 1.0: 0.0, 1.0: 0.0, 1.0: 0.0, 1.0: 0.0, 1.0: 0.0, 1.0: 0.0, 0.0: 1.0, 1.0: 0.0, 1.0: 0.0, 1.0: 0.0, 1.0: 0.0, 1.0: 0.0, "
          ]
        },
        {
          "output_type": "stream",
          "name": "stderr",
          "text": [
            "745it [00:04, 130.81it/s]"
          ]
        },
        {
          "output_type": "stream",
          "name": "stdout",
          "text": [
            "0.0: 1.0, 1.0: 0.0, 1.0: 0.0, 0.0: 1.0, 1.0: 0.0, 1.0: 0.0, 1.0: 0.0, 0.0: 1.0, 1.0: 0.0, 1.0: 0.0, 0.0: 1.0, 1.0: 0.0, 1.0: 0.0, 0.0: 1.0, 1.0: 0.0, 1.0: 0.0, 1.0: 0.0, "
          ]
        },
        {
          "output_type": "stream",
          "name": "stderr",
          "text": [
            "793it [00:05, 90.68it/s]"
          ]
        },
        {
          "output_type": "stream",
          "name": "stdout",
          "text": [
            "1.0: 0.0, 1.0: 0.0, 1.0: 0.0, 1.0: 0.0, 1.0: 0.0, 1.0: 0.0, 1.0: 0.0, 1.0: 0.0, 1.0: 0.0, 1.0: 0.0, 1.0: 0.0, 1.0: 0.0, 1.0: 0.0, 1.0: 0.0, 1.0: 0.0, 1.0: 0.0, "
          ]
        },
        {
          "output_type": "stream",
          "name": "stderr",
          "text": [
            "839it [00:05, 130.19it/s]"
          ]
        },
        {
          "output_type": "stream",
          "name": "stdout",
          "text": [
            "1.0: 0.0, 1.0: 0.0, 1.0: 0.0, 0.0: 1.0, 1.0: 0.0, 1.0: 0.0, 1.0: 0.0, 1.0: 0.0, 1.0: 0.0, 1.0: 0.0, 0.0: 1.0, 1.0: 0.0, 1.0: 0.0, 1.0: 0.0, 1.0: 0.0, 1.0: 0.0, 0.0: 1.0, 1.0: 0.0, 1.0: 0.0, 1.0: 0.0, "
          ]
        },
        {
          "output_type": "stream",
          "name": "stderr",
          "text": [
            "886it [00:05, 168.46it/s]"
          ]
        },
        {
          "output_type": "stream",
          "name": "stdout",
          "text": [
            "1.0: 0.0, 1.0: 0.0, 1.0: 0.0, 1.0: 0.0, 1.0: 0.0, 0.0: 1.0, 1.0: 0.0, 1.0: 0.0, 1.0: 0.0, 1.0: 0.0, 1.0: 0.0, 1.0: 0.0, 1.0: 0.0, 1.0: 0.0, 1.0: 0.0, 1.0: 0.0, 1.0: 0.0, 1.0: 0.0, 1.0: 0.0, "
          ]
        },
        {
          "output_type": "stream",
          "name": "stderr",
          "text": [
            "932it [00:06, 192.70it/s]"
          ]
        },
        {
          "output_type": "stream",
          "name": "stdout",
          "text": [
            "1.0: 0.0, 1.0: 0.0, 1.0: 0.0, 1.0: 0.0, 1.0: 0.0, 0.0: 1.0, 1.0: 0.0, 1.0: 0.0, 0.0: 1.0, 1.0: 0.0, 1.0: 0.0, 1.0: 0.0, 1.0: 0.0, 0.0: 1.0, 1.0: 0.0, 0.0: 1.0, 1.0: 0.0, 1.0: 0.0, 1.0: 0.0, 1.0: 0.0, "
          ]
        },
        {
          "output_type": "stream",
          "name": "stderr",
          "text": [
            "981it [00:06, 215.29it/s]"
          ]
        },
        {
          "output_type": "stream",
          "name": "stdout",
          "text": [
            "1.0: 0.0, 1.0: 0.0, 1.0: 0.0, 1.0: 0.0, 1.0: 0.0, 1.0: 0.0, 1.0: 0.0, 0.0: 1.0, 1.0: 0.0, 1.0: 0.0, 1.0: 0.0, 1.0: 0.0, 1.0: 0.0, 1.0: 0.0, 1.0: 0.0, 1.0: 0.0, 1.0: 0.0, "
          ]
        },
        {
          "output_type": "stream",
          "name": "stderr",
          "text": [
            "1024it [00:06, 152.53it/s]\n"
          ]
        },
        {
          "output_type": "stream",
          "name": "stdout",
          "text": [
            "1.0: 0.0, 1.0: 0.0, 1.0: 0.0, 1.0: 0.0, 1.0: 0.0, 1.0: 0.0, 1.0: 0.0, 1.0: 0.0, \n",
            "Epoch 042: | Loss: 0.72630 | Acc: 57.422\n",
            "\n"
          ]
        },
        {
          "output_type": "stream",
          "name": "stderr",
          "text": [
            "21it [00:00, 207.33it/s]"
          ]
        },
        {
          "output_type": "stream",
          "name": "stdout",
          "text": [
            "1.0: 0.0, 0.0: 1.0, 1.0: 0.0, 1.0: 0.0, 1.0: 0.0, 1.0: 0.0, 1.0: 0.0, 1.0: 0.0, 1.0: 0.0, "
          ]
        },
        {
          "output_type": "stream",
          "name": "stderr",
          "text": [
            "\r42it [00:00, 207.35it/s]"
          ]
        },
        {
          "output_type": "stream",
          "name": "stdout",
          "text": [
            "1.0: 0.0, 1.0: 0.0, 1.0: 0.0, 1.0: 0.0, 1.0: 0.0, 1.0: 0.0, 1.0: 0.0, 1.0: 0.0, 0.0: 1.0, "
          ]
        },
        {
          "output_type": "stream",
          "name": "stderr",
          "text": [
            "\r63it [00:00, 206.98it/s]"
          ]
        },
        {
          "output_type": "stream",
          "name": "stdout",
          "text": [
            "1.0: 0.0, 0.0: 1.0, 1.0: 0.0, 1.0: 0.0, 1.0: 0.0, 0.0: 1.0, 1.0: 0.0, 1.0: 0.0, "
          ]
        },
        {
          "output_type": "stream",
          "name": "stderr",
          "text": [
            "\r86it [00:00, 215.62it/s]"
          ]
        },
        {
          "output_type": "stream",
          "name": "stdout",
          "text": [
            "1.0: 0.0, 1.0: 0.0, 0.0: 1.0, 1.0: 0.0, 1.0: 0.0, 1.0: 0.0, 1.0: 0.0, "
          ]
        },
        {
          "output_type": "stream",
          "name": "stderr",
          "text": [
            "\r109it [00:00, 220.49it/s]"
          ]
        },
        {
          "output_type": "stream",
          "name": "stdout",
          "text": [
            "0.0: 1.0, 1.0: 0.0, 1.0: 0.0, 1.0: 0.0, 1.0: 0.0, 1.0: 0.0, 1.0: 0.0, 1.0: 0.0, "
          ]
        },
        {
          "output_type": "stream",
          "name": "stderr",
          "text": [
            "\r132it [00:00, 215.75it/s]"
          ]
        },
        {
          "output_type": "stream",
          "name": "stdout",
          "text": [
            "1.0: 0.0, "
          ]
        },
        {
          "output_type": "stream",
          "name": "stderr",
          "text": [
            "175it [00:01, 151.77it/s]"
          ]
        },
        {
          "output_type": "stream",
          "name": "stdout",
          "text": [
            "1.0: 0.0, 1.0: 0.0, 1.0: 0.0, 1.0: 0.0, 0.0: 1.0, 1.0: 0.0, 1.0: 0.0, 1.0: 0.0, 1.0: 0.0, 1.0: 0.0, 1.0: 0.0, 1.0: 0.0, 1.0: 0.0, 0.0: 1.0, 1.0: 0.0, 1.0: 0.0, 1.0: 0.0, 1.0: 0.0, 1.0: 0.0, 1.0: 0.0, 1.0: 0.0, 1.0: 0.0, 1.0: 0.0, 1.0: 0.0, 1.0: 0.0, 1.0: 0.0, 1.0: 0.0, 0.0: 1.0, 1.0: 0.0, 1.0: 0.0, "
          ]
        },
        {
          "output_type": "stream",
          "name": "stderr",
          "text": [
            "217it [00:01, 87.63it/s]"
          ]
        },
        {
          "output_type": "stream",
          "name": "stdout",
          "text": [
            "1.0: 0.0, 0.0: 1.0, 1.0: 0.0, 1.0: 0.0, 1.0: 0.0, 1.0: 0.0, 1.0: 0.0, 1.0: 0.0, 1.0: 0.0, 1.0: 0.0, 1.0: 0.0, 1.0: 0.0, 1.0: 0.0, 1.0: 0.0, 0.0: 1.0, 1.0: 0.0, 1.0: 0.0, 1.0: 0.0, 1.0: 0.0, 1.0: 0.0, 1.0: 0.0, 1.0: 0.0, 1.0: 0.0, 1.0: 0.0, 1.0: 0.0, 1.0: 0.0, 1.0: 0.0, "
          ]
        },
        {
          "output_type": "stream",
          "name": "stderr",
          "text": [
            "265it [00:01, 133.39it/s]"
          ]
        },
        {
          "output_type": "stream",
          "name": "stdout",
          "text": [
            "1.0: 0.0, 1.0: 0.0, 1.0: 0.0, 1.0: 0.0, 1.0: 0.0, 1.0: 0.0, 1.0: 0.0, 1.0: 0.0, 1.0: 0.0, 1.0: 0.0, 0.0: 1.0, 1.0: 0.0, 1.0: 0.0, 1.0: 0.0, 1.0: 0.0, 1.0: 0.0, 1.0: 0.0, 1.0: 0.0, 1.0: 0.0, 1.0: 0.0, 1.0: 0.0, 1.0: 0.0, 1.0: 0.0, "
          ]
        },
        {
          "output_type": "stream",
          "name": "stderr",
          "text": [
            "306it [00:02, 81.79it/s]"
          ]
        },
        {
          "output_type": "stream",
          "name": "stdout",
          "text": [
            "1.0: 0.0, 1.0: 0.0, 1.0: 0.0, 1.0: 0.0, 1.0: 0.0, 1.0: 0.0, 1.0: 0.0, 0.0: 1.0, 1.0: 0.0, 1.0: 0.0, 1.0: 0.0, 1.0: 0.0, 1.0: 0.0, 1.0: 0.0, 1.0: 0.0, 1.0: 0.0, 1.0: 0.0, 1.0: 0.0, 1.0: 0.0, 0.0: 1.0, 1.0: 0.0, 1.0: 0.0, 1.0: 0.0, 1.0: 0.0, 0.0: 1.0, 0.0: 1.0, "
          ]
        },
        {
          "output_type": "stream",
          "name": "stderr",
          "text": [
            "348it [00:03, 117.48it/s]"
          ]
        },
        {
          "output_type": "stream",
          "name": "stdout",
          "text": [
            "1.0: 0.0, 1.0: 0.0, 1.0: 0.0, 1.0: 0.0, 1.0: 0.0, 1.0: 0.0, 1.0: 0.0, 1.0: 0.0, 1.0: 0.0, 1.0: 0.0, 1.0: 0.0, 1.0: 0.0, 1.0: 0.0, 1.0: 0.0, 1.0: 0.0, 1.0: 0.0, 1.0: 0.0, 1.0: 0.0, 1.0: 0.0, 1.0: 0.0, 1.0: 0.0, 1.0: 0.0, 1.0: 0.0, 1.0: 0.0, 1.0: 0.0, 1.0: 0.0, 1.0: 0.0, 1.0: 0.0, 1.0: 0.0, "
          ]
        },
        {
          "output_type": "stream",
          "name": "stderr",
          "text": [
            "394it [00:03, 158.26it/s]"
          ]
        },
        {
          "output_type": "stream",
          "name": "stdout",
          "text": [
            "1.0: 0.0, 1.0: 0.0, 1.0: 0.0, 1.0: 0.0, 1.0: 0.0, 1.0: 0.0, 1.0: 0.0, 1.0: 0.0, 1.0: 0.0, 1.0: 0.0, 1.0: 0.0, 1.0: 0.0, 1.0: 0.0, 1.0: 0.0, 1.0: 0.0, 1.0: 0.0, 1.0: 0.0, 1.0: 0.0, 1.0: 0.0, 1.0: 0.0, 1.0: 0.0, 0.0: 1.0, 1.0: 0.0, 1.0: 0.0, 1.0: 0.0, "
          ]
        },
        {
          "output_type": "stream",
          "name": "stderr",
          "text": [
            "440it [00:03, 187.08it/s]"
          ]
        },
        {
          "output_type": "stream",
          "name": "stdout",
          "text": [
            "1.0: 0.0, 0.0: 1.0, 0.0: 1.0, 1.0: 0.0, 1.0: 0.0, 1.0: 0.0, 1.0: 0.0, 1.0: 0.0, 1.0: 0.0, 1.0: 0.0, 1.0: 0.0, 1.0: 0.0, 1.0: 0.0, 1.0: 0.0, 1.0: 0.0, 1.0: 0.0, 1.0: 0.0, 0.0: 1.0, 1.0: 0.0, 1.0: 0.0, "
          ]
        },
        {
          "output_type": "stream",
          "name": "stderr",
          "text": [
            "487it [00:03, 208.44it/s]"
          ]
        },
        {
          "output_type": "stream",
          "name": "stdout",
          "text": [
            "1.0: 0.0, 1.0: 0.0, 1.0: 0.0, 1.0: 0.0, 1.0: 0.0, 1.0: 0.0, 1.0: 0.0, 1.0: 0.0, 1.0: 0.0, 0.0: 1.0, 1.0: 0.0, 1.0: 0.0, 1.0: 0.0, "
          ]
        },
        {
          "output_type": "stream",
          "name": "stderr",
          "text": [
            "535it [00:04, 144.22it/s]"
          ]
        },
        {
          "output_type": "stream",
          "name": "stdout",
          "text": [
            "1.0: 0.0, 1.0: 0.0, 1.0: 0.0, 1.0: 0.0, 1.0: 0.0, 1.0: 0.0, 1.0: 0.0, 1.0: 0.0, 1.0: 0.0, 1.0: 0.0, 1.0: 0.0, 1.0: 0.0, 1.0: 0.0, 1.0: 0.0, 0.0: 1.0, 1.0: 0.0, 0.0: 1.0, 0.0: 1.0, 1.0: 0.0, 1.0: 0.0, 1.0: 0.0, 1.0: 0.0, 1.0: 0.0, 0.0: 1.0, "
          ]
        },
        {
          "output_type": "stream",
          "name": "stderr",
          "text": [
            "577it [00:04, 168.41it/s]"
          ]
        },
        {
          "output_type": "stream",
          "name": "stdout",
          "text": [
            "1.0: 0.0, 1.0: 0.0, 1.0: 0.0, 1.0: 0.0, 0.0: 1.0, 1.0: 0.0, 1.0: 0.0, 1.0: 0.0, 1.0: 0.0, 1.0: 0.0, 1.0: 0.0, 1.0: 0.0, 1.0: 0.0, 1.0: 0.0, 1.0: 0.0, 1.0: 0.0, 1.0: 0.0, 1.0: 0.0, 0.0: 1.0, 0.0: 1.0, 1.0: 0.0, 1.0: 0.0, 1.0: 0.0, 0.0: 1.0, "
          ]
        },
        {
          "output_type": "stream",
          "name": "stderr",
          "text": [
            "\r602it [00:04, 187.30it/s]"
          ]
        },
        {
          "output_type": "stream",
          "name": "stdout",
          "text": [
            "1.0: 0.0, 1.0: 0.0, 1.0: 0.0, 1.0: 0.0, 0.0: 1.0, 1.0: 0.0, 1.0: 0.0, 1.0: 0.0, 1.0: 0.0, 1.0: 0.0, 1.0: 0.0, 1.0: 0.0, 1.0: 0.0, 1.0: 0.0, 1.0: 0.0, 1.0: 0.0, 1.0: 0.0, "
          ]
        },
        {
          "output_type": "stream",
          "name": "stderr",
          "text": [
            "670it [00:04, 143.38it/s]"
          ]
        },
        {
          "output_type": "stream",
          "name": "stdout",
          "text": [
            "1.0: 0.0, 1.0: 0.0, 1.0: 0.0, 1.0: 0.0, 0.0: 1.0, 1.0: 0.0, 1.0: 0.0, 1.0: 0.0, 1.0: 0.0, 1.0: 0.0, 1.0: 0.0, 1.0: 0.0, 1.0: 0.0, 1.0: 0.0, 1.0: 0.0, 1.0: 0.0, 1.0: 0.0, 1.0: 0.0, "
          ]
        },
        {
          "output_type": "stream",
          "name": "stderr",
          "text": [
            "716it [00:05, 177.73it/s]"
          ]
        },
        {
          "output_type": "stream",
          "name": "stdout",
          "text": [
            "1.0: 0.0, 0.0: 1.0, 1.0: 0.0, 1.0: 0.0, 1.0: 0.0, 1.0: 0.0, 1.0: 0.0, 1.0: 0.0, 1.0: 0.0, 1.0: 0.0, 1.0: 0.0, 1.0: 0.0, 1.0: 0.0, 1.0: 0.0, 1.0: 0.0, 0.0: 1.0, 1.0: 0.0, "
          ]
        },
        {
          "output_type": "stream",
          "name": "stderr",
          "text": [
            "764it [00:05, 204.42it/s]"
          ]
        },
        {
          "output_type": "stream",
          "name": "stdout",
          "text": [
            "1.0: 0.0, 1.0: 0.0, 1.0: 0.0, 1.0: 0.0, 1.0: 0.0, 0.0: 1.0, 1.0: 0.0, 1.0: 0.0, 1.0: 0.0, 1.0: 0.0, 1.0: 0.0, 1.0: 0.0, 1.0: 0.0, 1.0: 0.0, 1.0: 0.0, 1.0: 0.0, "
          ]
        },
        {
          "output_type": "stream",
          "name": "stderr",
          "text": [
            "813it [00:05, 219.22it/s]"
          ]
        },
        {
          "output_type": "stream",
          "name": "stdout",
          "text": [
            "1.0: 0.0, 1.0: 0.0, 1.0: 0.0, 1.0: 0.0, 1.0: 0.0, 1.0: 0.0, 1.0: 0.0, 1.0: 0.0, 1.0: 0.0, 1.0: 0.0, 1.0: 0.0, 1.0: 0.0, 1.0: 0.0, 1.0: 0.0, 0.0: 1.0, 1.0: 0.0, 1.0: 0.0, 1.0: 0.0, 0.0: 1.0, 1.0: 0.0, "
          ]
        },
        {
          "output_type": "stream",
          "name": "stderr",
          "text": [
            "861it [00:05, 224.76it/s]"
          ]
        },
        {
          "output_type": "stream",
          "name": "stdout",
          "text": [
            "1.0: 0.0, 1.0: 0.0, 1.0: 0.0, 1.0: 0.0, 0.0: 1.0, 1.0: 0.0, 1.0: 0.0, 1.0: 0.0, 1.0: 0.0, 1.0: 0.0, 1.0: 0.0, 0.0: 1.0, 1.0: 0.0, 1.0: 0.0, 0.0: 1.0, 1.0: 0.0, 1.0: 0.0, 1.0: 0.0, "
          ]
        },
        {
          "output_type": "stream",
          "name": "stderr",
          "text": [
            "913it [00:06, 204.00it/s]"
          ]
        },
        {
          "output_type": "stream",
          "name": "stdout",
          "text": [
            "0.0: 1.0, 1.0: 0.0, 1.0: 0.0, 1.0: 0.0, 1.0: 0.0, 1.0: 0.0, 1.0: 0.0, 0.0: 1.0, 1.0: 0.0, 1.0: 0.0, 1.0: 0.0, 1.0: 0.0, 1.0: 0.0, 1.0: 0.0, 1.0: 0.0, 0.0: 1.0, 1.0: 0.0, 0.0: 1.0, 0.0: 1.0, "
          ]
        },
        {
          "output_type": "stream",
          "name": "stderr",
          "text": [
            "\r936it [00:06, 88.13it/s] "
          ]
        },
        {
          "output_type": "stream",
          "name": "stdout",
          "text": [
            "1.0: 0.0, 1.0: 0.0, 1.0: 0.0, 1.0: 0.0, 1.0: 0.0, 1.0: 0.0, 1.0: 0.0, 1.0: 0.0, 1.0: 0.0, 1.0: 0.0, 1.0: 0.0, 1.0: 0.0, 1.0: 0.0, 1.0: 0.0, 1.0: 0.0, 1.0: 0.0, 1.0: 0.0, 1.0: 0.0, "
          ]
        },
        {
          "output_type": "stream",
          "name": "stderr",
          "text": [
            "1008it [00:07, 147.57it/s]"
          ]
        },
        {
          "output_type": "stream",
          "name": "stdout",
          "text": [
            "1.0: 0.0, 1.0: 0.0, 0.0: 1.0, 1.0: 0.0, 1.0: 0.0, 1.0: 0.0, 1.0: 0.0, 1.0: 0.0, 1.0: 0.0, 1.0: 0.0, 1.0: 0.0, 1.0: 0.0, 1.0: 0.0, 1.0: 0.0, 1.0: 0.0, "
          ]
        },
        {
          "output_type": "stream",
          "name": "stderr",
          "text": [
            "\r1024it [00:07, 144.20it/s]\n"
          ]
        },
        {
          "output_type": "stream",
          "name": "stdout",
          "text": [
            "1.0: 0.0, 1.0: 0.0, 1.0: 0.0, 1.0: 0.0, 0.0: 1.0, 1.0: 0.0, \n",
            "Epoch 043: | Loss: 0.73343 | Acc: 56.348\n",
            "\n"
          ]
        },
        {
          "output_type": "stream",
          "name": "stderr",
          "text": [
            "24it [00:00, 232.48it/s]"
          ]
        },
        {
          "output_type": "stream",
          "name": "stdout",
          "text": [
            "0.0: 1.0, 1.0: 0.0, 1.0: 0.0, 1.0: 0.0, 1.0: 0.0, 1.0: 0.0, 1.0: 0.0, 0.0: 1.0, 1.0: 0.0, 1.0: 0.0, 1.0: 0.0, 1.0: 0.0, 1.0: 0.0, 1.0: 0.0, 0.0: 1.0, 1.0: 0.0, "
          ]
        },
        {
          "output_type": "stream",
          "name": "stderr",
          "text": [
            "70it [00:00, 209.97it/s]"
          ]
        },
        {
          "output_type": "stream",
          "name": "stdout",
          "text": [
            "1.0: 0.0, 1.0: 0.0, 1.0: 0.0, 0.0: 1.0, 1.0: 0.0, 1.0: 0.0, 1.0: 0.0, 1.0: 0.0, 0.0: 1.0, 0.0: 1.0, 1.0: 0.0, 1.0: 0.0, "
          ]
        },
        {
          "output_type": "stream",
          "name": "stderr",
          "text": [
            "136it [00:00, 158.24it/s]"
          ]
        },
        {
          "output_type": "stream",
          "name": "stdout",
          "text": [
            "1.0: 0.0, 1.0: 0.0, 1.0: 0.0, 1.0: 0.0, 1.0: 0.0, 1.0: 0.0, 1.0: 0.0, 1.0: 0.0, 1.0: 0.0, 1.0: 0.0, 1.0: 0.0, 1.0: 0.0, 0.0: 1.0, 1.0: 0.0, 1.0: 0.0, 1.0: 0.0, 1.0: 0.0, 1.0: 0.0, 0.0: 1.0, 1.0: 0.0, 1.0: "
          ]
        },
        {
          "output_type": "stream",
          "name": "stderr",
          "text": [
            "\r155it [00:00, 164.49it/s]"
          ]
        },
        {
          "output_type": "stream",
          "name": "stdout",
          "text": [
            "0.0, 1.0: 0.0, 1.0: 0.0, 1.0: 0.0, 1.0: 0.0, 1.0: 0.0, 1.0: 0.0, 1.0: 0.0, 1.0: 0.0, "
          ]
        },
        {
          "output_type": "stream",
          "name": "stderr",
          "text": [
            "197it [00:01, 87.65it/s]"
          ]
        },
        {
          "output_type": "stream",
          "name": "stdout",
          "text": [
            "1.0: 0.0, 1.0: 0.0, 1.0: 0.0, 1.0: 0.0, 1.0: 0.0, 1.0: 0.0, 1.0: 0.0, 1.0: 0.0, 1.0: 0.0, 1.0: 0.0, 1.0: 0.0, 1.0: 0.0, 1.0: 0.0, 1.0: 0.0, 1.0: 0.0, 1.0: 0.0, 1.0: 0.0, 1.0: 0.0, 1.0: 0.0, 1.0: 0.0, 1.0: 0.0, 1.0: 0.0, 1.0: 0.0, 1.0: 0.0, 1.0: 0.0, 1.0: 0.0, "
          ]
        },
        {
          "output_type": "stream",
          "name": "stderr",
          "text": [
            "241it [00:01, 128.11it/s]"
          ]
        },
        {
          "output_type": "stream",
          "name": "stdout",
          "text": [
            "0.0: 1.0, 1.0: 0.0, 1.0: 0.0, 1.0: 0.0, 1.0: 0.0, 1.0: 0.0, 1.0: 0.0, 1.0: 0.0, 1.0: 0.0, 1.0: 0.0, 1.0: 0.0, 1.0: 0.0, 1.0: 0.0, 1.0: 0.0, 1.0: 0.0, 1.0: 0.0, 1.0: 0.0, 1.0: 0.0, 1.0: 0.0, 1.0: 0.0, 0.0: 1.0, 1.0: 0.0, 1.0: 0.0, 1.0: 0.0, 1.0: 0.0, 0.0: 1.0, "
          ]
        },
        {
          "output_type": "stream",
          "name": "stderr",
          "text": [
            "285it [00:02, 162.52it/s]"
          ]
        },
        {
          "output_type": "stream",
          "name": "stdout",
          "text": [
            "1.0: 0.0, 1.0: 0.0, 1.0: 0.0, 1.0: 0.0, 1.0: 0.0, 0.0: 1.0, 1.0: 0.0, 1.0: 0.0, 1.0: 0.0, 1.0: 0.0, 1.0: 0.0, 1.0: 0.0, 1.0: 0.0, 1.0: 0.0, 1.0: 0.0, 1.0: 0.0, 1.0: 0.0, 1.0: 0.0, 1.0: 0.0, 1.0: 0.0, 1.0: 0.0, 1.0: 0.0, 1.0: 0.0, 1.0: 0.0, 0.0: 1.0, "
          ]
        },
        {
          "output_type": "stream",
          "name": "stderr",
          "text": [
            "327it [00:02, 181.20it/s]"
          ]
        },
        {
          "output_type": "stream",
          "name": "stdout",
          "text": [
            "1.0: 0.0, 1.0: 0.0, 1.0: 0.0, 1.0: 0.0, 1.0: 0.0, 0.0: 1.0, 1.0: 0.0, 1.0: 0.0, 1.0: 0.0, 1.0: 0.0, 0.0: 1.0, 1.0: 0.0, 1.0: 0.0, 1.0: 0.0, 1.0: 0.0, 1.0: 0.0, 0.0: 1.0, 1.0: 0.0, 1.0: 0.0, 1.0: 0.0, 1.0: 0.0, 1.0: 0.0, 1.0: 0.0, 1.0: 0.0, 1.0: 0.0, 1.0: 0.0, 1.0: 0.0, 1.0: 0.0, "
          ]
        },
        {
          "output_type": "stream",
          "name": "stderr",
          "text": [
            "370it [00:02, 195.92it/s]"
          ]
        },
        {
          "output_type": "stream",
          "name": "stdout",
          "text": [
            "1.0: 0.0, 1.0: 0.0, 1.0: 0.0, 1.0: 0.0, 1.0: 0.0, 1.0: 0.0, 1.0: 0.0, 1.0: 0.0, 1.0: 0.0, 1.0: 0.0, 1.0: 0.0, 1.0: 0.0, 1.0: 0.0, 1.0: 0.0, 1.0: 0.0, 1.0: 0.0, 1.0: 0.0, 1.0: 0.0, 1.0: 0.0, 0.0: 1.0, 1.0: 0.0, 1.0: 0.0, 1.0: 0.0, 1.0: 0.0, 1.0: 0.0, 1.0: 0.0, 1.0: 0.0, "
          ]
        },
        {
          "output_type": "stream",
          "name": "stderr",
          "text": [
            "412it [00:02, 132.96it/s]"
          ]
        },
        {
          "output_type": "stream",
          "name": "stdout",
          "text": [
            "1.0: 0.0, 1.0: 0.0, 1.0: 0.0, 1.0: 0.0, 1.0: 0.0, 1.0: 0.0, 1.0: 0.0, 1.0: 0.0, 1.0: 0.0, 1.0: 0.0, 1.0: 0.0, 1.0: 0.0, 1.0: 0.0, 1.0: 0.0, "
          ]
        },
        {
          "output_type": "stream",
          "name": "stderr",
          "text": [
            "453it [00:03, 83.95it/s]"
          ]
        },
        {
          "output_type": "stream",
          "name": "stdout",
          "text": [
            "0.0: 1.0, 1.0: 0.0, 1.0: 0.0, 1.0: 0.0, 1.0: 0.0, 1.0: 0.0, 1.0: 0.0, 1.0: 0.0, 1.0: 0.0, 0.0: 1.0, 1.0: 0.0, 1.0: 0.0, 1.0: 0.0, 1.0: 0.0, 0.0: 1.0, 1.0: 0.0, 1.0: 0.0, 1.0: 0.0, 1.0: 0.0, 1.0: 0.0, 1.0: "
          ]
        },
        {
          "output_type": "stream",
          "name": "stderr",
          "text": [
            "498it [00:03, 124.51it/s]"
          ]
        },
        {
          "output_type": "stream",
          "name": "stdout",
          "text": [
            "0.0, 1.0: 0.0, 1.0: 0.0, 1.0: 0.0, 1.0: 0.0, 1.0: 0.0, 0.0: 1.0, 1.0: 0.0, 1.0: 0.0, 1.0: 0.0, 1.0: 0.0, 1.0: 0.0, 1.0: 0.0, 1.0: 0.0, 1.0: 0.0, 1.0: 0.0, 0.0: 1.0, 1.0: 0.0, 1.0: 0.0, "
          ]
        },
        {
          "output_type": "stream",
          "name": "stderr",
          "text": [
            "544it [00:04, 163.52it/s]"
          ]
        },
        {
          "output_type": "stream",
          "name": "stdout",
          "text": [
            "1.0: 0.0, 1.0: 0.0, 1.0: 0.0, 1.0: 0.0, 1.0: 0.0, 1.0: 0.0, 1.0: 0.0, 0.0: 1.0, 1.0: 0.0, 1.0: 0.0, 1.0: 0.0, 1.0: 0.0, 1.0: 0.0, 1.0: 0.0, 1.0: 0.0, 1.0: 0.0, 1.0: 0.0, 0.0: 1.0, 1.0: 0.0, 0.0: 1.0, 1.0: 0.0, 1.0: "
          ]
        },
        {
          "output_type": "stream",
          "name": "stderr",
          "text": [
            "591it [00:04, 193.66it/s]"
          ]
        },
        {
          "output_type": "stream",
          "name": "stdout",
          "text": [
            "0.0, 1.0: 0.0, 1.0: 0.0, 1.0: 0.0, 1.0: 0.0, 1.0: 0.0, 1.0: 0.0, 1.0: 0.0, 1.0: 0.0, 1.0: 0.0, 1.0: 0.0, 0.0: 1.0, 1.0: 0.0, 1.0: 0.0, 1.0: 0.0, 1.0: 0.0, 1.0: 0.0, 1.0: 0.0, "
          ]
        },
        {
          "output_type": "stream",
          "name": "stderr",
          "text": [
            "639it [00:04, 208.30it/s]"
          ]
        },
        {
          "output_type": "stream",
          "name": "stdout",
          "text": [
            "1.0: 0.0, 0.0: 1.0, 1.0: 0.0, 1.0: 0.0, 1.0: 0.0, 1.0: 0.0, 1.0: 0.0, 1.0: 0.0, 1.0: 0.0, 1.0: 0.0, 1.0: 0.0, 1.0: 0.0, 1.0: 0.0, 1.0: 0.0, 1.0: 0.0, 1.0: 0.0, 1.0: 0.0, 1.0: 0.0, "
          ]
        },
        {
          "output_type": "stream",
          "name": "stderr",
          "text": [
            "685it [00:04, 216.31it/s]"
          ]
        },
        {
          "output_type": "stream",
          "name": "stdout",
          "text": [
            "1.0: 0.0, 1.0: 0.0, 1.0: 0.0, 0.0: 1.0, 1.0: 0.0, 1.0: 0.0, 0.0: 1.0, 1.0: 0.0, 1.0: 0.0, 1.0: 0.0, 1.0: 0.0, 1.0: 0.0, 1.0: 0.0, 1.0: 0.0, 0.0: 1.0, 1.0: 0.0, 1.0: 0.0, 1.0: 0.0, 1.0: 0.0, "
          ]
        },
        {
          "output_type": "stream",
          "name": "stderr",
          "text": [
            "733it [00:05, 188.61it/s]"
          ]
        },
        {
          "output_type": "stream",
          "name": "stdout",
          "text": [
            "1.0: 0.0, 0.0: 1.0, 1.0: 0.0, 1.0: 0.0, 1.0: 0.0, 1.0: 0.0, 1.0: 0.0, 1.0: 0.0, 1.0: 0.0, 1.0: 0.0, 1.0: 0.0, 1.0: 0.0, 1.0: 0.0, 1.0: 0.0, 1.0: 0.0, 1.0: 0.0, 1.0: 0.0, "
          ]
        },
        {
          "output_type": "stream",
          "name": "stderr",
          "text": [
            "780it [00:05, 207.43it/s]"
          ]
        },
        {
          "output_type": "stream",
          "name": "stdout",
          "text": [
            "0.0: 1.0, 1.0: 0.0, 1.0: 0.0, 1.0: 0.0, 1.0: 0.0, 0.0: 1.0, 0.0: 1.0, 1.0: 0.0, 1.0: 0.0, 1.0: 0.0, 1.0: 0.0, 1.0: 0.0, 1.0: 0.0, 1.0: 0.0, 1.0: 0.0, 1.0: 0.0, 0.0: 1.0, 1.0: 0.0, 1.0: 0.0, 0.0: 1.0, "
          ]
        },
        {
          "output_type": "stream",
          "name": "stderr",
          "text": [
            "826it [00:05, 216.72it/s]"
          ]
        },
        {
          "output_type": "stream",
          "name": "stdout",
          "text": [
            "1.0: 0.0, 1.0: 0.0, 1.0: 0.0, 1.0: 0.0, 1.0: 0.0, 1.0: 0.0, 1.0: 0.0, 1.0: 0.0, 1.0: 0.0, 1.0: 0.0, 1.0: 0.0, 1.0: 0.0, 1.0: 0.0, 0.0: 1.0, "
          ]
        },
        {
          "output_type": "stream",
          "name": "stderr",
          "text": [
            "\r849it [00:05, 215.78it/s]"
          ]
        },
        {
          "output_type": "stream",
          "name": "stdout",
          "text": [
            "0.0: 1.0, 1.0: 0.0, 1.0: 0.0, 0.0: 1.0, 1.0: 0.0, 1.0: 0.0, 1.0: 0.0, 0.0: 1.0, "
          ]
        },
        {
          "output_type": "stream",
          "name": "stderr",
          "text": [
            "\r872it [00:05, 153.61it/s]"
          ]
        },
        {
          "output_type": "stream",
          "name": "stdout",
          "text": [
            "1.0: 0.0, 1.0: 0.0, 0.0: 1.0, 1.0: 0.0, 1.0: 0.0, 1.0: 0.0, 0.0: 1.0, 1.0: 0.0, 1.0: 0.0, 1.0: 0.0, 1.0: 0.0, 1.0: 0.0, 1.0: 0.0, 1.0: 0.0, 0.0: 1.0, 1.0: 0.0, 1.0: 0.0, 1.0: 0.0, 1.0: 0.0, "
          ]
        },
        {
          "output_type": "stream",
          "name": "stderr",
          "text": [
            "919it [00:05, 182.95it/s]"
          ]
        },
        {
          "output_type": "stream",
          "name": "stdout",
          "text": [
            "1.0: 0.0, 1.0: 0.0, 1.0: 0.0, 1.0: 0.0, 0.0: 1.0, 1.0: 0.0, 1.0: 0.0, 1.0: 0.0, 0.0: 1.0, 1.0: 0.0, 1.0: 0.0, 0.0: 1.0, 1.0: 0.0, 1.0: 0.0, 1.0: 0.0, 1.0: 0.0, 1.0: 0.0, 0.0: 1.0, 0.0: 1.0, 1.0: 0.0, 0.0: 1.0, 1.0: 0.0, "
          ]
        },
        {
          "output_type": "stream",
          "name": "stderr",
          "text": [
            "990it [00:06, 212.88it/s]"
          ]
        },
        {
          "output_type": "stream",
          "name": "stdout",
          "text": [
            "1.0: 0.0, 1.0: 0.0, 1.0: 0.0, 1.0: 0.0, 1.0: 0.0, 1.0: 0.0, 1.0: 0.0, 1.0: 0.0, 1.0: 0.0, 1.0: 0.0, 1.0: 0.0, 1.0: 0.0, 1.0: 0.0, 1.0: 0.0, 1.0: 0.0, 1.0: 0.0, 0.0: 1.0, "
          ]
        },
        {
          "output_type": "stream",
          "name": "stderr",
          "text": [
            "1024it [00:06, 158.50it/s]"
          ]
        },
        {
          "output_type": "stream",
          "name": "stdout",
          "text": [
            "1.0: 0.0, 1.0: 0.0, 1.0: 0.0, 1.0: 0.0, 1.0: 0.0, 0.0: 1.0, 1.0: 0.0, 1.0: 0.0, 1.0: 0.0, 1.0: 0.0, 0.0: 1.0, 1.0: 0.0, 1.0: 0.0, "
          ]
        },
        {
          "output_type": "stream",
          "name": "stderr",
          "text": [
            "\n"
          ]
        },
        {
          "output_type": "stream",
          "name": "stdout",
          "text": [
            "\n",
            "Epoch 044: | Loss: 0.73263 | Acc: 56.250\n",
            "\n"
          ]
        },
        {
          "output_type": "stream",
          "name": "stderr",
          "text": [
            "16it [00:00, 158.10it/s]"
          ]
        },
        {
          "output_type": "stream",
          "name": "stdout",
          "text": [
            "0.0: 1.0, 1.0: 0.0, 0.0: 1.0, 1.0: 0.0, 1.0: 0.0, 1.0: 0.0, 1.0: 0.0, 1.0: 0.0, 1.0: 0.0, 1.0: 0.0, 1.0: 0.0, 1.0: 0.0, 1.0: 0.0, 1.0: 0.0, 1.0: 0.0, "
          ]
        },
        {
          "output_type": "stream",
          "name": "stderr",
          "text": [
            "\r41it [00:00, 210.72it/s]"
          ]
        },
        {
          "output_type": "stream",
          "name": "stdout",
          "text": [
            "1.0: 0.0, "
          ]
        },
        {
          "output_type": "stream",
          "name": "stderr",
          "text": [
            "92it [00:00, 237.66it/s]"
          ]
        },
        {
          "output_type": "stream",
          "name": "stdout",
          "text": [
            "1.0: 0.0, 1.0: 0.0, 1.0: 0.0, 0.0: 1.0, 1.0: 0.0, 1.0: 0.0, 1.0: 0.0, 1.0: 0.0, 1.0: 0.0, 1.0: 0.0, 1.0: 0.0, 1.0: 0.0, "
          ]
        },
        {
          "output_type": "stream",
          "name": "stderr",
          "text": [
            "142it [00:00, 234.99it/s]"
          ]
        },
        {
          "output_type": "stream",
          "name": "stdout",
          "text": [
            "1.0: 0.0, 0.0: 1.0, 1.0: 0.0, 1.0: 0.0, 0.0: 1.0, 1.0: 0.0, 1.0: 0.0, 1.0: 0.0, 1.0: 0.0, 1.0: 0.0, 1.0: 0.0, 1.0: 0.0, 1.0: 0.0, 1.0: 0.0, 1.0: 0.0, 1.0: 0.0, 1.0: 0.0, 1.0: 0.0, 1.0: 0.0, 1.0: 0.0, 1.0: 0.0, 1.0: 0.0, 1.0: 0.0, "
          ]
        },
        {
          "output_type": "stream",
          "name": "stderr",
          "text": [
            "\r166it [00:00, 219.68it/s]"
          ]
        },
        {
          "output_type": "stream",
          "name": "stdout",
          "text": [
            "0.0: 1.0, 1.0: 0.0, 1.0: 0.0, 1.0: 0.0, 1.0: 0.0, 1.0: 0.0, 1.0: 0.0, 0.0: 1.0, 1.0: 0.0, 1.0: 0.0, 1.0: 0.0, 1.0: 0.0, 1.0: 0.0, 1.0: 0.0, 1.0: 0.0, 1.0: 0.0, 1.0: 0.0, 1.0: 0.0, 1.0: 0.0, 1.0: 0.0, 1.0: 0.0, 1.0: 0.0, 1.0: 0.0, "
          ]
        },
        {
          "output_type": "stream",
          "name": "stderr",
          "text": [
            "\r189it [00:00, 214.42it/s]"
          ]
        },
        {
          "output_type": "stream",
          "name": "stdout",
          "text": [
            "1.0: 0.0, 1.0: 0.0, 1.0: 0.0, "
          ]
        },
        {
          "output_type": "stream",
          "name": "stderr",
          "text": [
            "234it [00:01, 218.42it/s]"
          ]
        },
        {
          "output_type": "stream",
          "name": "stdout",
          "text": [
            "1.0: 0.0, 1.0: 0.0, 1.0: 0.0, 1.0: 0.0, 1.0: 0.0, 1.0: 0.0, 1.0: 0.0, 1.0: 0.0, 1.0: 0.0, 1.0: 0.0, 1.0: 0.0, 0.0: 1.0, 1.0: 0.0, 1.0: 0.0, 1.0: 0.0, 1.0: 0.0, 1.0: 0.0, 1.0: 0.0, 1.0: 0.0, 1.0: 0.0, 1.0: 0.0, 1.0: 0.0, "
          ]
        },
        {
          "output_type": "stream",
          "name": "stderr",
          "text": [
            "\r256it [00:01, 66.86it/s] "
          ]
        },
        {
          "output_type": "stream",
          "name": "stdout",
          "text": [
            "1.0: 0.0, 1.0: 0.0, 1.0: 0.0, 1.0: 0.0, 1.0: 0.0, 1.0: 0.0, 1.0: 0.0, 1.0: 0.0, 1.0: 0.0, 1.0: 0.0, 1.0: 0.0, 1.0: 0.0, "
          ]
        },
        {
          "output_type": "stream",
          "name": "stderr",
          "text": [
            "295it [00:02, 84.84it/s]"
          ]
        },
        {
          "output_type": "stream",
          "name": "stdout",
          "text": [
            "1.0: 0.0, 1.0: 0.0, 1.0: 0.0, 1.0: 0.0, 1.0: 0.0, 1.0: 0.0, 1.0: 0.0, 1.0: 0.0, 0.0: 1.0, 1.0: 0.0, 1.0: 0.0, 1.0: 0.0, 1.0: 0.0, 1.0: 0.0, 1.0: 0.0, 0.0: 1.0, 1.0: 0.0, 1.0: 0.0, 1.0: 0.0, 1.0: 0.0, 1.0: 0.0, 1.0: 0.0, 1.0: 0.0, 1.0: 0.0, 1.0: 0.0, "
          ]
        },
        {
          "output_type": "stream",
          "name": "stderr",
          "text": [
            "339it [00:02, 124.02it/s]"
          ]
        },
        {
          "output_type": "stream",
          "name": "stdout",
          "text": [
            "1.0: 0.0, 1.0: 0.0, 1.0: 0.0, 1.0: 0.0, 1.0: 0.0, 1.0: 0.0, 1.0: 0.0, 1.0: 0.0, 1.0: 0.0, 1.0: 0.0, 1.0: 0.0, 1.0: 0.0, 1.0: 0.0, 1.0: 0.0, 1.0: 0.0, 1.0: 0.0, 1.0: 0.0, 1.0: 0.0, 1.0: 0.0, 1.0: 0.0, 1.0: 0.0, 1.0: 0.0, 1.0: 0.0, 1.0: 0.0, 1.0: 0.0, 1.0: 0.0, 1.0: 0.0, 1.0: 0.0, "
          ]
        },
        {
          "output_type": "stream",
          "name": "stderr",
          "text": [
            "380it [00:02, 153.67it/s]"
          ]
        },
        {
          "output_type": "stream",
          "name": "stdout",
          "text": [
            "1.0: 0.0, 1.0: 0.0, 1.0: 0.0, 1.0: 0.0, 1.0: 0.0, 1.0: 0.0, 1.0: 0.0, 1.0: 0.0, 1.0: 0.0, 1.0: 0.0, 1.0: 0.0, 1.0: 0.0, 1.0: 0.0, 1.0: 0.0, 1.0: 0.0, 1.0: 0.0, 1.0: 0.0, 1.0: 0.0, 1.0: 0.0, 1.0: 0.0, 0.0: 1.0, 0.0: 1.0, 1.0: 0.0, 1.0: 0.0, 0.0: 1.0, 1.0: 0.0, 1.0: 0.0, 1.0: 0.0, 1.0: 0.0, 1.0: 0.0, "
          ]
        },
        {
          "output_type": "stream",
          "name": "stderr",
          "text": [
            "424it [00:02, 181.96it/s]"
          ]
        },
        {
          "output_type": "stream",
          "name": "stdout",
          "text": [
            "1.0: 0.0, 1.0: 0.0, 1.0: 0.0, 1.0: 0.0, 0.0: 1.0, 1.0: 0.0, 1.0: 0.0, 0.0: 1.0, 1.0: 0.0, 1.0: 0.0, 1.0: 0.0, 1.0: 0.0, 1.0: 0.0, 1.0: 0.0, 1.0: 0.0, "
          ]
        },
        {
          "output_type": "stream",
          "name": "stderr",
          "text": [
            "469it [00:03, 164.28it/s]"
          ]
        },
        {
          "output_type": "stream",
          "name": "stdout",
          "text": [
            "1.0: 0.0, 1.0: 0.0, 1.0: 0.0, 1.0: 0.0, 1.0: 0.0, 1.0: 0.0, 1.0: 0.0, 0.0: 1.0, 1.0: 0.0, 1.0: 0.0, 1.0: 0.0, 0.0: 1.0, 1.0: 0.0, 1.0: 0.0, 1.0: 0.0, 1.0: 0.0, 1.0: 0.0, 0.0: 1.0, "
          ]
        },
        {
          "output_type": "stream",
          "name": "stderr",
          "text": [
            "517it [00:03, 195.72it/s]"
          ]
        },
        {
          "output_type": "stream",
          "name": "stdout",
          "text": [
            "1.0: 0.0, 1.0: 0.0, 1.0: 0.0, 0.0: 1.0, 1.0: 0.0, 1.0: 0.0, 1.0: 0.0, 1.0: 0.0, 1.0: 0.0, 1.0: 0.0, 1.0: 0.0, 1.0: 0.0, 1.0: 0.0, 1.0: 0.0, 1.0: 0.0, 1.0: 0.0, 1.0: 0.0, 1.0: 0.0, 0.0: 1.0, 1.0: 0.0, "
          ]
        },
        {
          "output_type": "stream",
          "name": "stderr",
          "text": [
            "564it [00:03, 210.98it/s]"
          ]
        },
        {
          "output_type": "stream",
          "name": "stdout",
          "text": [
            "1.0: 0.0, 1.0: 0.0, 1.0: 0.0, 1.0: 0.0, 1.0: 0.0, 1.0: 0.0, 1.0: 0.0, 1.0: 0.0, 1.0: 0.0, 0.0: 1.0, 1.0: 0.0, 0.0: 1.0, 1.0: 0.0, 1.0: 0.0, 1.0: 0.0, 1.0: 0.0, 1.0: 0.0, 1.0: 0.0, 1.0: 0.0, 0.0: 1.0, 1.0: 0.0, 1.0: 0.0, 1.0: 0.0, 1.0: 0.0, 1.0: 0.0, 0.0: 1.0, 0.0: 1.0, "
          ]
        },
        {
          "output_type": "stream",
          "name": "stderr",
          "text": [
            "610it [00:03, 214.81it/s]"
          ]
        },
        {
          "output_type": "stream",
          "name": "stdout",
          "text": [
            "1.0: 0.0, 1.0: 0.0, 1.0: 0.0, 1.0: 0.0, 1.0: 0.0, 1.0: 0.0, 1.0: 0.0, 1.0: 0.0, 1.0: 0.0, 1.0: 0.0, 0.0: 1.0, 1.0: 0.0, 1.0: 0.0, 1.0: 0.0, 1.0: 0.0, 1.0: 0.0, 1.0: 0.0, 1.0: 0.0, 1.0: 0.0, 1.0: 0.0, 1.0: 0.0, 1.0: 0.0, "
          ]
        },
        {
          "output_type": "stream",
          "name": "stderr",
          "text": [
            "659it [00:04, 227.15it/s]"
          ]
        },
        {
          "output_type": "stream",
          "name": "stdout",
          "text": [
            "1.0: 0.0, 1.0: 0.0, 0.0: 1.0, 1.0: 0.0, 1.0: 0.0, 1.0: 0.0, 1.0: 0.0, 1.0: 0.0, 1.0: 0.0, 1.0: 0.0, "
          ]
        },
        {
          "output_type": "stream",
          "name": "stderr",
          "text": [
            "\r683it [00:04, 70.44it/s] "
          ]
        },
        {
          "output_type": "stream",
          "name": "stdout",
          "text": [
            "1.0: 0.0, 1.0: 0.0, 1.0: 0.0, 1.0: 0.0, 1.0: 0.0, 1.0: 0.0, 1.0: 0.0, 1.0: 0.0, 1.0: 0.0, 0.0: 1.0, 1.0: 0.0, 1.0: 0.0, "
          ]
        },
        {
          "output_type": "stream",
          "name": "stderr",
          "text": [
            "727it [00:05, 91.28it/s]"
          ]
        },
        {
          "output_type": "stream",
          "name": "stdout",
          "text": [
            "1.0: 0.0, 1.0: 0.0, 0.0: 1.0, 1.0: 0.0, 1.0: 0.0, 0.0: 1.0, 1.0: 0.0, 1.0: 0.0, 1.0: 0.0, 0.0: 1.0, 1.0: 0.0, 1.0: 0.0, 1.0: 0.0, 1.0: 0.0, 1.0: 0.0, 1.0: 0.0, 1.0: 0.0, "
          ]
        },
        {
          "output_type": "stream",
          "name": "stderr",
          "text": [
            "770it [00:06, 77.65it/s]"
          ]
        },
        {
          "output_type": "stream",
          "name": "stdout",
          "text": [
            "1.0: 0.0, 0.0: 1.0, 1.0: 0.0, 1.0: 0.0, 1.0: 0.0, 1.0: 0.0, 0.0: 1.0, 1.0: 0.0, 1.0: 0.0, 0.0: 1.0, 1.0: 0.0, 1.0: 0.0, 1.0: 0.0, 1.0: 0.0, 1.0: 0.0, 1.0: 0.0, 1.0: 0.0, 1.0: 0.0, "
          ]
        },
        {
          "output_type": "stream",
          "name": "stderr",
          "text": [
            "816it [00:06, 116.69it/s]"
          ]
        },
        {
          "output_type": "stream",
          "name": "stdout",
          "text": [
            "1.0: 0.0, 1.0: 0.0, 1.0: 0.0, 1.0: 0.0, 1.0: 0.0, 0.0: 1.0, 1.0: 0.0, 1.0: 0.0, 1.0: 0.0, 1.0: 0.0, 1.0: 0.0, 0.0: 1.0, 1.0: 0.0, 0.0: 1.0, 1.0: 0.0, 1.0: 0.0, 1.0: 0.0, 1.0: 0.0, "
          ]
        },
        {
          "output_type": "stream",
          "name": "stderr",
          "text": [
            "864it [00:06, 159.31it/s]"
          ]
        },
        {
          "output_type": "stream",
          "name": "stdout",
          "text": [
            "1.0: 0.0, 1.0: 0.0, 1.0: 0.0, 0.0: 1.0, 1.0: 0.0, 1.0: 0.0, 1.0: 0.0, 0.0: 1.0, 1.0: 0.0, 1.0: 0.0, 1.0: 0.0, 1.0: 0.0, 1.0: 0.0, 1.0: 0.0, 1.0: 0.0, 1.0: 0.0, 1.0: 0.0, 1.0: 0.0, 1.0: 0.0, "
          ]
        },
        {
          "output_type": "stream",
          "name": "stderr",
          "text": [
            "914it [00:06, 196.42it/s]"
          ]
        },
        {
          "output_type": "stream",
          "name": "stdout",
          "text": [
            "1.0: 0.0, 1.0: 0.0, 1.0: 0.0, 1.0: 0.0, 1.0: 0.0, 1.0: 0.0, 1.0: 0.0, 1.0: 0.0, 1.0: 0.0, 1.0: 0.0, 1.0: 0.0, 1.0: 0.0, 1.0: 0.0, 1.0: 0.0, 1.0: 0.0, 1.0: 0.0, 1.0: 0.0, 1.0: 0.0, 1.0: 0.0, "
          ]
        },
        {
          "output_type": "stream",
          "name": "stderr",
          "text": [
            "962it [00:06, 212.05it/s]"
          ]
        },
        {
          "output_type": "stream",
          "name": "stdout",
          "text": [
            "1.0: 0.0, 1.0: 0.0, 1.0: 0.0, 1.0: 0.0, 1.0: 0.0, 1.0: 0.0, 1.0: 0.0, 0.0: 1.0, 1.0: 0.0, 1.0: 0.0, 1.0: 0.0, 1.0: 0.0, 0.0: 1.0, 1.0: 0.0, 0.0: 1.0, 0.0: 1.0, 1.0: 0.0, 1.0: 0.0, 0.0: 1.0, 1.0: 0.0, 1.0: 0.0, "
          ]
        },
        {
          "output_type": "stream",
          "name": "stderr",
          "text": [
            "1011it [00:07, 219.93it/s]"
          ]
        },
        {
          "output_type": "stream",
          "name": "stdout",
          "text": [
            "1.0: 0.0, 1.0: 0.0, 0.0: 1.0, 1.0: 0.0, 0.0: 1.0, 1.0: 0.0, 1.0: 0.0, 1.0: 0.0, 1.0: 0.0, 1.0: 0.0, 1.0: 0.0, 1.0: 0.0, 1.0: 0.0, 1.0: 0.0, 1.0: 0.0, 1.0: 0.0, 1.0: 0.0, "
          ]
        },
        {
          "output_type": "stream",
          "name": "stderr",
          "text": [
            "\r1024it [00:07, 140.52it/s]\n"
          ]
        },
        {
          "output_type": "stream",
          "name": "stdout",
          "text": [
            "1.0: 0.0, 1.0: 0.0, 1.0: 0.0, 1.0: 0.0, \n",
            "Epoch 045: | Loss: 0.73585 | Acc: 55.957\n",
            "\n"
          ]
        },
        {
          "output_type": "stream",
          "name": "stderr",
          "text": [
            "44it [00:00, 219.27it/s]"
          ]
        },
        {
          "output_type": "stream",
          "name": "stdout",
          "text": [
            "0.0: 1.0, 1.0: 0.0, 1.0: 0.0, 1.0: 0.0, 1.0: 0.0, 1.0: 0.0, 0.0: 1.0, 1.0: 0.0, 0.0: 1.0, 1.0: 0.0, 1.0: 0.0, 1.0: 0.0, 1.0: 0.0, 1.0: 0.0, 1.0: 0.0, 1.0: 0.0, 1.0: 0.0, 1.0: 0.0, "
          ]
        },
        {
          "output_type": "stream",
          "name": "stderr",
          "text": [
            "90it [00:00, 223.86it/s]"
          ]
        },
        {
          "output_type": "stream",
          "name": "stdout",
          "text": [
            "1.0: 0.0, 1.0: 0.0, 1.0: 0.0, 0.0: 1.0, 1.0: 0.0, 1.0: 0.0, 1.0: 0.0, 0.0: 1.0, 0.0: 1.0, 1.0: 0.0, 1.0: 0.0, 0.0: 1.0, 1.0: 0.0, 1.0: 0.0, "
          ]
        },
        {
          "output_type": "stream",
          "name": "stderr",
          "text": [
            "133it [00:01, 91.43it/s]"
          ]
        },
        {
          "output_type": "stream",
          "name": "stdout",
          "text": [
            "1.0: 0.0, 1.0: 0.0, 1.0: 0.0, 0.0: 1.0, 1.0: 0.0, 1.0: 0.0, 1.0: 0.0, 1.0: 0.0, 1.0: 0.0, 1.0: 0.0, 1.0: 0.0, 0.0: 1.0, 1.0: 0.0, 1.0: 0.0, 1.0: 0.0, 1.0: 0.0, 1.0: 0.0, "
          ]
        },
        {
          "output_type": "stream",
          "name": "stderr",
          "text": [
            "175it [00:01, 130.91it/s]"
          ]
        },
        {
          "output_type": "stream",
          "name": "stdout",
          "text": [
            "1.0: 0.0, 1.0: 0.0, 1.0: 0.0, 1.0: 0.0, 1.0: 0.0, 1.0: 0.0, 1.0: 0.0, 1.0: 0.0, 1.0: 0.0, 1.0: 0.0, 1.0: 0.0, 1.0: 0.0, 1.0: 0.0, 0.0: 1.0, 1.0: 0.0, 1.0: 0.0, 1.0: 0.0, 1.0: 0.0, 1.0: 0.0, 1.0: 0.0, 1.0: 0.0, 1.0: 0.0, 1.0: 0.0, 1.0: 0.0, 1.0: 0.0, 0.0: 1.0, 1.0: 0.0, "
          ]
        },
        {
          "output_type": "stream",
          "name": "stderr",
          "text": [
            "220it [00:01, 166.92it/s]"
          ]
        },
        {
          "output_type": "stream",
          "name": "stdout",
          "text": [
            "1.0: 0.0, 1.0: 0.0, 1.0: 0.0, 1.0: 0.0, 1.0: 0.0, 1.0: 0.0, 1.0: 0.0, 1.0: 0.0, 1.0: 0.0, 1.0: 0.0, 1.0: 0.0, 1.0: 0.0, 1.0: 0.0, 1.0: 0.0, 1.0: 0.0, 0.0: 1.0, 1.0: 0.0, 1.0: 0.0, 1.0: 0.0, 1.0: 0.0, 1.0: 0.0, 1.0: 0.0, 1.0: 0.0, 1.0: 0.0, 1.0: 0.0, 1.0: 0.0, "
          ]
        },
        {
          "output_type": "stream",
          "name": "stderr",
          "text": [
            "268it [00:01, 198.36it/s]"
          ]
        },
        {
          "output_type": "stream",
          "name": "stdout",
          "text": [
            "1.0: 0.0, 1.0: 0.0, 1.0: 0.0, 1.0: 0.0, 1.0: 0.0, 1.0: 0.0, 1.0: 0.0, 1.0: 0.0, 1.0: 0.0, 1.0: 0.0, 1.0: 0.0, 1.0: 0.0, 1.0: 0.0, 1.0: 0.0, 1.0: 0.0, 1.0: 0.0, 1.0: 0.0, 1.0: 0.0, 1.0: 0.0, 1.0: 0.0, 1.0: 0.0, 1.0: 0.0, 1.0: 0.0, "
          ]
        },
        {
          "output_type": "stream",
          "name": "stderr",
          "text": [
            "\r291it [00:01, 200.09it/s]"
          ]
        },
        {
          "output_type": "stream",
          "name": "stdout",
          "text": [
            "1.0: 0.0, 1.0: 0.0, 1.0: 0.0, 1.0: 0.0, 1.0: 0.0, 1.0: 0.0, 1.0: 0.0, 1.0: 0.0, 1.0: 0.0, 0.0: 1.0, 1.0: 0.0, "
          ]
        },
        {
          "output_type": "stream",
          "name": "stderr",
          "text": [
            "335it [00:02, 164.61it/s]"
          ]
        },
        {
          "output_type": "stream",
          "name": "stdout",
          "text": [
            "1.0: 0.0, 1.0: 0.0, 1.0: 0.0, 1.0: 0.0, 0.0: 1.0, 1.0: 0.0, 1.0: 0.0, 1.0: 0.0, 1.0: 0.0, 1.0: 0.0, 0.0: 1.0, 1.0: 0.0, 1.0: 0.0, 1.0: 0.0, 1.0: 0.0, 1.0: 0.0, 1.0: 0.0, 1.0: 0.0, 1.0: 0.0, 1.0: 0.0, 1.0: 0.0, 1.0: 0.0, 1.0: 0.0, 1.0: 0.0, 1.0: 0.0, 1.0: 0.0, 1.0: 0.0, 1.0: 0.0, "
          ]
        },
        {
          "output_type": "stream",
          "name": "stderr",
          "text": [
            "377it [00:02, 182.06it/s]"
          ]
        },
        {
          "output_type": "stream",
          "name": "stdout",
          "text": [
            "1.0: 0.0, 1.0: 0.0, 1.0: 0.0, 0.0: 1.0, 1.0: 0.0, 1.0: 0.0, 1.0: 0.0, 1.0: 0.0, 1.0: 0.0, 1.0: 0.0, 1.0: 0.0, 1.0: 0.0, 1.0: 0.0, 1.0: 0.0, 1.0: 0.0, 1.0: 0.0, 1.0: 0.0, 1.0: 0.0, 0.0: 1.0, 1.0: 0.0, 1.0: 0.0, 1.0: 0.0, 1.0: 0.0, 1.0: 0.0, 1.0: 0.0, 1.0: 0.0, 1.0: 0.0, 0.0: 1.0, "
          ]
        },
        {
          "output_type": "stream",
          "name": "stderr",
          "text": [
            "424it [00:02, 207.19it/s]"
          ]
        },
        {
          "output_type": "stream",
          "name": "stdout",
          "text": [
            "1.0: 0.0, 1.0: 0.0, 1.0: 0.0, 1.0: 0.0, 1.0: 0.0, 1.0: 0.0, 1.0: 0.0, 1.0: 0.0, 1.0: 0.0, 1.0: 0.0, 0.0: 1.0, 1.0: 0.0, 1.0: 0.0, 1.0: 0.0, 1.0: 0.0, 1.0: 0.0, 1.0: 0.0, 1.0: 0.0, 1.0: 0.0, 1.0: 0.0, 1.0: 0.0, 1.0: 0.0, "
          ]
        },
        {
          "output_type": "stream",
          "name": "stderr",
          "text": [
            "472it [00:02, 222.76it/s]"
          ]
        },
        {
          "output_type": "stream",
          "name": "stdout",
          "text": [
            "1.0: 0.0, 1.0: 0.0, 1.0: 0.0, 0.0: 1.0, 0.0: 1.0, 1.0: 0.0, 1.0: 0.0, 1.0: 0.0, 1.0: 0.0, 1.0: 0.0, 1.0: 0.0, 1.0: 0.0, 0.0: 1.0, 1.0: 0.0, 0.0: 1.0, 1.0: 0.0, 1.0: 0.0, 1.0: 0.0, 1.0: 0.0, "
          ]
        },
        {
          "output_type": "stream",
          "name": "stderr",
          "text": [
            "519it [00:03, 224.19it/s]"
          ]
        },
        {
          "output_type": "stream",
          "name": "stdout",
          "text": [
            "1.0: 0.0, 0.0: 1.0, 1.0: 0.0, 1.0: 0.0, 1.0: 0.0, 1.0: 0.0, 1.0: 0.0, 1.0: 0.0, 1.0: 0.0, 1.0: 0.0, 1.0: 0.0, 1.0: 0.0, 1.0: 0.0, 1.0: 0.0, 1.0: 0.0, 1.0: 0.0, 1.0: 0.0, 0.0: 1.0, 1.0: 0.0, 1.0: 0.0, "
          ]
        },
        {
          "output_type": "stream",
          "name": "stderr",
          "text": [
            "567it [00:03, 148.12it/s]"
          ]
        },
        {
          "output_type": "stream",
          "name": "stdout",
          "text": [
            "1.0: 0.0, 1.0: 0.0, 1.0: 0.0, 1.0: 0.0, 1.0: 0.0, 1.0: 0.0, 1.0: 0.0, 1.0: 0.0, 1.0: 0.0, 1.0: 0.0, 1.0: 0.0, 1.0: 0.0, 1.0: 0.0, 1.0: 0.0, 1.0: 0.0, 1.0: 0.0, 1.0: 0.0, 1.0: 0.0, 1.0: 0.0, 1.0: 0.0, 0.0: 1.0, 1.0: 0.0, 1.0: 0.0, 0.0: 1.0, 1.0: 0.0, 1.0: 0.0, 1.0: 0.0, 1.0: 0.0, "
          ]
        },
        {
          "output_type": "stream",
          "name": "stderr",
          "text": [
            "640it [00:03, 196.93it/s]"
          ]
        },
        {
          "output_type": "stream",
          "name": "stdout",
          "text": [
            "1.0: 0.0, 1.0: 0.0, 1.0: 0.0, 1.0: 0.0, 1.0: 0.0, 1.0: 0.0, 1.0: 0.0, 1.0: 0.0, 1.0: 0.0, 1.0: 0.0, 1.0: 0.0, 1.0: 0.0, 1.0: 0.0, 1.0: 0.0, 1.0: 0.0, 0.0: 1.0, 0.0: 1.0, 1.0: 0.0, 1.0: 0.0, 1.0: 0.0, 1.0: 0.0, "
          ]
        },
        {
          "output_type": "stream",
          "name": "stderr",
          "text": [
            "688it [00:03, 216.59it/s]"
          ]
        },
        {
          "output_type": "stream",
          "name": "stdout",
          "text": [
            "1.0: 0.0, 0.0: 1.0, 1.0: 0.0, 1.0: 0.0, 0.0: 1.0, 1.0: 0.0, 1.0: 0.0, 1.0: 0.0, 1.0: 0.0, 1.0: 0.0, 1.0: 0.0, 1.0: 0.0, 1.0: 0.0, 1.0: 0.0, 1.0: 0.0, 1.0: 0.0, 1.0: 0.0, 0.0: 1.0, 1.0: 0.0, 1.0: 0.0, "
          ]
        },
        {
          "output_type": "stream",
          "name": "stderr",
          "text": [
            "761it [00:04, 174.70it/s]"
          ]
        },
        {
          "output_type": "stream",
          "name": "stdout",
          "text": [
            "1.0: 0.0, 1.0: 0.0, 1.0: 0.0, 0.0: 1.0, 1.0: 0.0, 1.0: 0.0, 1.0: 0.0, 1.0: 0.0, 1.0: 0.0, 1.0: 0.0, 1.0: 0.0, 1.0: 0.0, 1.0: 0.0, 0.0: 1.0, 0.0: 1.0, 1.0: 0.0, 1.0: 0.0, 0.0: 1.0, 0.0: 1.0, 1.0: 0.0, 1.0: 0.0, 1.0: 0.0, 0.0: 1.0, 1.0: 0.0, 1.0: 0.0, 1.0: 0.0, "
          ]
        },
        {
          "output_type": "stream",
          "name": "stderr",
          "text": [
            "806it [00:05, 96.85it/s]"
          ]
        },
        {
          "output_type": "stream",
          "name": "stdout",
          "text": [
            "1.0: 0.0, 1.0: 0.0, 1.0: 0.0, 1.0: 0.0, 1.0: 0.0, 1.0: 0.0, 1.0: 0.0, 1.0: 0.0, 1.0: 0.0, 1.0: 0.0, 1.0: 0.0, 1.0: 0.0, 1.0: 0.0, 1.0: 0.0, 1.0: 0.0, 1.0: 0.0, 1.0: 0.0, "
          ]
        },
        {
          "output_type": "stream",
          "name": "stderr",
          "text": [
            "853it [00:05, 136.91it/s]"
          ]
        },
        {
          "output_type": "stream",
          "name": "stdout",
          "text": [
            "1.0: 0.0, 1.0: 0.0, 1.0: 0.0, 1.0: 0.0, 1.0: 0.0, 1.0: 0.0, 1.0: 0.0, 0.0: 1.0, 0.0: 1.0, 1.0: 0.0, 1.0: 0.0, 1.0: 0.0, 1.0: 0.0, 1.0: 0.0, 1.0: 0.0, 1.0: 0.0, 1.0: 0.0, 0.0: 1.0, 1.0: "
          ]
        },
        {
          "output_type": "stream",
          "name": "stderr",
          "text": [
            "900it [00:05, 173.75it/s]"
          ]
        },
        {
          "output_type": "stream",
          "name": "stdout",
          "text": [
            "0.0, 1.0: 0.0, 0.0: 1.0, 1.0: 0.0, 1.0: 0.0, 0.0: 1.0, 0.0: 1.0, 1.0: 0.0, 1.0: 0.0, 1.0: 0.0, 1.0: 0.0, 1.0: 0.0, 1.0: 0.0, 0.0: 1.0, 1.0: 0.0, 1.0: 0.0, 1.0: 0.0, 1.0: 0.0, 1.0: 0.0, 1.0: 0.0, "
          ]
        },
        {
          "output_type": "stream",
          "name": "stderr",
          "text": [
            "948it [00:05, 201.19it/s]"
          ]
        },
        {
          "output_type": "stream",
          "name": "stdout",
          "text": [
            "1.0: 0.0, 1.0: 0.0, 1.0: 0.0, 1.0: 0.0, 1.0: 0.0, 1.0: 0.0, 1.0: 0.0, 1.0: 0.0, 1.0: 0.0, 0.0: 1.0, 1.0: 0.0, 0.0: 1.0, 1.0: 0.0, 1.0: 0.0, 0.0: 1.0, 1.0: 0.0, 1.0: 0.0, 1.0: 0.0, 1.0: 0.0, 1.0: 0.0, 1.0: 0.0, 1.0: 0.0, "
          ]
        },
        {
          "output_type": "stream",
          "name": "stderr",
          "text": [
            "\r971it [00:05, 204.54it/s]"
          ]
        },
        {
          "output_type": "stream",
          "name": "stdout",
          "text": [
            "1.0: 0.0, 1.0: 0.0, 1.0: 0.0, 1.0: 0.0, 1.0: 0.0, 0.0: 1.0, "
          ]
        },
        {
          "output_type": "stream",
          "name": "stderr",
          "text": [
            "\r994it [00:06, 132.72it/s]"
          ]
        },
        {
          "output_type": "stream",
          "name": "stdout",
          "text": [
            "1.0: 0.0, 1.0: 0.0, 1.0: 0.0, 1.0: 0.0, 0.0: 1.0, 1.0: 0.0, 1.0: 0.0, 1.0: 0.0, 0.0: 1.0, 1.0: 0.0, 0.0: 1.0, 1.0: 0.0, 1.0: 0.0, 1.0: 0.0, 1.0: 0.0, 1.0: 0.0, 1.0: 0.0, 1.0: 0.0, 1.0: 0.0, 1.0: 0.0, "
          ]
        },
        {
          "output_type": "stream",
          "name": "stderr",
          "text": [
            "1024it [00:06, 159.65it/s]"
          ]
        },
        {
          "output_type": "stream",
          "name": "stdout",
          "text": [
            "1.0: 0.0, 1.0: 0.0, "
          ]
        },
        {
          "output_type": "stream",
          "name": "stderr",
          "text": [
            "\n"
          ]
        },
        {
          "output_type": "stream",
          "name": "stdout",
          "text": [
            "\n",
            "Epoch 046: | Loss: 0.73565 | Acc: 55.762\n",
            "\n"
          ]
        },
        {
          "output_type": "stream",
          "name": "stderr",
          "text": [
            "22it [00:00, 209.61it/s]"
          ]
        },
        {
          "output_type": "stream",
          "name": "stdout",
          "text": [
            "1.0: 0.0, 1.0: 0.0, 1.0: 0.0, 0.0: 1.0, 1.0: 0.0, 1.0: 0.0, 1.0: 0.0, 1.0: 0.0, 0.0: 1.0, 1.0: 0.0, 1.0: 0.0, 1.0: 0.0, 1.0: 0.0, 1.0: 0.0, 1.0: 0.0, 1.0: 0.0, "
          ]
        },
        {
          "output_type": "stream",
          "name": "stderr",
          "text": [
            "\r43it [00:00, 209.22it/s]"
          ]
        },
        {
          "output_type": "stream",
          "name": "stdout",
          "text": [
            "0.0: 1.0, 1.0: 0.0, "
          ]
        },
        {
          "output_type": "stream",
          "name": "stderr",
          "text": [
            "\r68it [00:00, 224.89it/s]"
          ]
        },
        {
          "output_type": "stream",
          "name": "stdout",
          "text": [
            "1.0: 0.0, 0.0: 1.0, 1.0: 0.0, 1.0: 0.0, 1.0: 0.0, 1.0: 0.0, 1.0: 0.0, 1.0: 0.0, 1.0: 0.0, 1.0: 0.0, 1.0: 0.0, "
          ]
        },
        {
          "output_type": "stream",
          "name": "stderr",
          "text": [
            "\r92it [00:00, 219.72it/s]"
          ]
        },
        {
          "output_type": "stream",
          "name": "stdout",
          "text": [
            "1.0: 0.0, "
          ]
        },
        {
          "output_type": "stream",
          "name": "stderr",
          "text": [
            "137it [00:01, 92.41it/s]"
          ]
        },
        {
          "output_type": "stream",
          "name": "stdout",
          "text": [
            "1.0: 0.0, 0.0: 1.0, 1.0: 0.0, 1.0: 0.0, 1.0: 0.0, 1.0: 0.0, 1.0: 0.0, 1.0: 0.0, 1.0: 0.0, 0.0: 1.0, 1.0: 0.0, 0.0: 1.0, 1.0: 0.0, 1.0: 0.0, 1.0: 0.0, 1.0: 0.0, 1.0: 0.0, 1.0: 0.0, 1.0: 0.0, 1.0: 0.0, "
          ]
        },
        {
          "output_type": "stream",
          "name": "stderr",
          "text": [
            "176it [00:01, 124.61it/s]"
          ]
        },
        {
          "output_type": "stream",
          "name": "stdout",
          "text": [
            "1.0: 0.0, 1.0: 0.0, 1.0: 0.0, 1.0: 0.0, 1.0: 0.0, 1.0: 0.0, 1.0: 0.0, 1.0: 0.0, 1.0: 0.0, 1.0: 0.0, 1.0: 0.0, 0.0: 1.0, 1.0: 0.0, 1.0: 0.0, 1.0: 0.0, 1.0: 0.0, 0.0: 1.0, 1.0: 0.0, 1.0: 0.0, 1.0: 0.0, 1.0: 0.0, 1.0: 0.0, "
          ]
        },
        {
          "output_type": "stream",
          "name": "stderr",
          "text": [
            "218it [00:02, 84.87it/s]"
          ]
        },
        {
          "output_type": "stream",
          "name": "stdout",
          "text": [
            "0.0: 1.0, 1.0: 0.0, 1.0: 0.0, 1.0: 0.0, 1.0: 0.0, 1.0: 0.0, 1.0: 0.0, 1.0: 0.0, 1.0: 0.0, 1.0: 0.0, 1.0: 0.0, 1.0: 0.0, 1.0: 0.0, 1.0: 0.0, 1.0: 0.0, 1.0: 0.0, 1.0: 0.0, 1.0: 0.0, 1.0: 0.0, 0.0: 1.0, 1.0: 0.0, 1.0: 0.0, 1.0: 0.0, 1.0: 0.0, 1.0: 0.0, 1.0: 0.0, "
          ]
        },
        {
          "output_type": "stream",
          "name": "stderr",
          "text": [
            "263it [00:02, 126.54it/s]"
          ]
        },
        {
          "output_type": "stream",
          "name": "stdout",
          "text": [
            "1.0: 0.0, 1.0: 0.0, 1.0: 0.0, 0.0: 1.0, 1.0: 0.0, 1.0: 0.0, 1.0: 0.0, 1.0: 0.0, 1.0: 0.0, 1.0: 0.0, 1.0: 0.0, 1.0: 0.0, 1.0: 0.0, 1.0: 0.0, 0.0: 1.0, 1.0: 0.0, 1.0: 0.0, 1.0: 0.0, 1.0: 0.0, 1.0: 0.0, 1.0: 0.0, 1.0: 0.0, 1.0: 0.0, 1.0: 0.0, 1.0: 0.0, "
          ]
        },
        {
          "output_type": "stream",
          "name": "stderr",
          "text": [
            "307it [00:02, 161.83it/s]"
          ]
        },
        {
          "output_type": "stream",
          "name": "stdout",
          "text": [
            "1.0: 0.0, 1.0: 0.0, 1.0: 0.0, 1.0: 0.0, 1.0: 0.0, 1.0: 0.0, 1.0: 0.0, 1.0: 0.0, 1.0: 0.0, 1.0: 0.0, 1.0: 0.0, 1.0: 0.0, 1.0: 0.0, 0.0: 1.0, 1.0: 0.0, 1.0: 0.0, 1.0: 0.0, 1.0: 0.0, 1.0: 0.0, 1.0: 0.0, 1.0: 0.0, 1.0: 0.0, 1.0: 0.0, "
          ]
        },
        {
          "output_type": "stream",
          "name": "stderr",
          "text": [
            "350it [00:02, 183.00it/s]"
          ]
        },
        {
          "output_type": "stream",
          "name": "stdout",
          "text": [
            "1.0: 0.0, 1.0: 0.0, 1.0: 0.0, 1.0: 0.0, 1.0: 0.0, 0.0: 1.0, 1.0: 0.0, 1.0: 0.0, 1.0: 0.0, 1.0: 0.0, 1.0: 0.0, 0.0: 1.0, 1.0: 0.0, 1.0: 0.0, 1.0: 0.0, 1.0: 0.0, 1.0: 0.0, 1.0: 0.0, 1.0: 0.0, 1.0: 0.0, 1.0: 0.0, 1.0: 0.0, 1.0: 0.0, 1.0: 0.0, 1.0: 0.0, 0.0: 1.0, 1.0: 0.0, 1.0: 0.0, 1.0: 0.0, 1.0: 0.0, 1.0: 0.0, 1.0: 0.0, "
          ]
        },
        {
          "output_type": "stream",
          "name": "stderr",
          "text": [
            "395it [00:02, 201.01it/s]"
          ]
        },
        {
          "output_type": "stream",
          "name": "stdout",
          "text": [
            "1.0: 0.0, 1.0: 0.0, 1.0: 0.0, 1.0: 0.0, 1.0: 0.0, 1.0: 0.0, 1.0: 0.0, 1.0: 0.0, 1.0: 0.0, 0.0: 1.0, 1.0: 0.0, 1.0: 0.0, 1.0: 0.0, 1.0: 0.0, 1.0: 0.0, 1.0: 0.0, 1.0: 0.0, 1.0: 0.0, 1.0: 0.0, 1.0: 0.0, 1.0: 0.0, 1.0: 0.0, 1.0: 0.0, 1.0: 0.0, 1.0: 0.0, 0.0: 1.0, 0.0: 1.0, "
          ]
        },
        {
          "output_type": "stream",
          "name": "stderr",
          "text": [
            "441it [00:03, 211.97it/s]"
          ]
        },
        {
          "output_type": "stream",
          "name": "stdout",
          "text": [
            "1.0: 0.0, 0.0: 1.0, 1.0: 0.0, 1.0: 0.0, 0.0: 1.0, 1.0: 0.0, 1.0: 0.0, 0.0: 1.0, 1.0: 0.0, 1.0: 0.0, 1.0: 0.0, 1.0: 0.0, 1.0: 0.0, 1.0: 0.0, 0.0: 1.0, 1.0: 0.0, 1.0: 0.0, 1.0: 0.0, 1.0: 0.0, 1.0: 0.0, 1.0: 0.0, 1.0: 0.0, "
          ]
        },
        {
          "output_type": "stream",
          "name": "stderr",
          "text": [
            "486it [00:03, 197.81it/s]"
          ]
        },
        {
          "output_type": "stream",
          "name": "stdout",
          "text": [
            "0.0: 1.0, 1.0: 0.0, 1.0: 0.0, 1.0: 0.0, 1.0: 0.0, 0.0: 1.0, 0.0: 1.0, 1.0: 0.0, 1.0: 0.0, 1.0: 0.0, 1.0: 0.0, 1.0: 0.0, 1.0: 0.0, 0.0: 1.0, 1.0: 0.0, 1.0: 0.0, 1.0: 0.0, 1.0: 0.0, "
          ]
        },
        {
          "output_type": "stream",
          "name": "stderr",
          "text": [
            "533it [00:03, 213.49it/s]"
          ]
        },
        {
          "output_type": "stream",
          "name": "stdout",
          "text": [
            "1.0: 0.0, 1.0: 0.0, 1.0: 0.0, 1.0: 0.0, 1.0: 0.0, 1.0: 0.0, 1.0: 0.0, 0.0: 1.0, 1.0: 0.0, 1.0: 0.0, 1.0: 0.0, 1.0: 0.0, 1.0: 0.0, 1.0: 0.0, 1.0: 0.0, 0.0: 1.0, 0.0: 1.0, 1.0: 0.0, 1.0: 0.0, 1.0: 0.0, 1.0: 0.0, "
          ]
        },
        {
          "output_type": "stream",
          "name": "stderr",
          "text": [
            "577it [00:03, 213.32it/s]"
          ]
        },
        {
          "output_type": "stream",
          "name": "stdout",
          "text": [
            "1.0: 0.0, 1.0: 0.0, 1.0: 0.0, 1.0: 0.0, 1.0: 0.0, 1.0: 0.0, 0.0: 1.0, 1.0: 0.0, 1.0: 0.0, 1.0: 0.0, 1.0: 0.0, 1.0: 0.0, 1.0: 0.0, 1.0: 0.0, 1.0: 0.0, 1.0: 0.0, 0.0: 1.0, 1.0: 0.0, 1.0: 0.0, 1.0: 0.0, 1.0: 0.0, 1.0: 0.0, "
          ]
        },
        {
          "output_type": "stream",
          "name": "stderr",
          "text": [
            "625it [00:04, 224.13it/s]"
          ]
        },
        {
          "output_type": "stream",
          "name": "stdout",
          "text": [
            "0.0: 1.0, 1.0: 0.0, 1.0: 0.0, 1.0: 0.0, 1.0: 0.0, 1.0: 0.0, 1.0: 0.0, 1.0: 0.0, 1.0: 0.0, 1.0: 0.0, 1.0: 0.0, 1.0: 0.0, 1.0: 0.0, 1.0: 0.0, 1.0: 0.0, 1.0: 0.0, 1.0: 0.0, 0.0: 1.0, 1.0: 0.0, "
          ]
        },
        {
          "output_type": "stream",
          "name": "stderr",
          "text": [
            "672it [00:04, 191.32it/s]"
          ]
        },
        {
          "output_type": "stream",
          "name": "stdout",
          "text": [
            "0.0: 1.0, 1.0: 0.0, 1.0: 0.0, 1.0: 0.0, 1.0: 0.0, 0.0: 1.0, 0.0: 1.0, 1.0: 0.0, 1.0: 0.0, 1.0: 0.0, 1.0: 0.0, 1.0: 0.0, 1.0: 0.0, 1.0: 0.0, 1.0: 0.0, 1.0: 0.0, 1.0: 0.0, 1.0: 0.0, "
          ]
        },
        {
          "output_type": "stream",
          "name": "stderr",
          "text": [
            "\r693it [00:04, 182.22it/s]"
          ]
        },
        {
          "output_type": "stream",
          "name": "stdout",
          "text": [
            "1.0: 0.0, 1.0: 0.0, 1.0: 0.0, 1.0: 0.0, 1.0: 0.0, 0.0: 1.0, 1.0: 0.0, 1.0: 0.0, 1.0: 0.0, 1.0: 0.0, 1.0: 0.0, 1.0: 0.0, 1.0: 0.0, 1.0: 0.0, 0.0: 1.0, 1.0: 0.0, 1.0: 0.0, "
          ]
        },
        {
          "output_type": "stream",
          "name": "stderr",
          "text": [
            "741it [00:04, 206.59it/s]"
          ]
        },
        {
          "output_type": "stream",
          "name": "stdout",
          "text": [
            "1.0: 0.0, 0.0: 1.0, 1.0: 0.0, 1.0: 0.0, 1.0: 0.0, 1.0: 0.0, 1.0: 0.0, 1.0: 0.0, 0.0: 1.0, 1.0: 0.0, 1.0: 0.0, 1.0: 0.0, 0.0: 1.0, 1.0: 0.0, 1.0: 0.0, 0.0: 1.0, 1.0: 0.0, 1.0: 0.0, "
          ]
        },
        {
          "output_type": "stream",
          "name": "stderr",
          "text": [
            "814it [00:05, 228.65it/s]"
          ]
        },
        {
          "output_type": "stream",
          "name": "stdout",
          "text": [
            "1.0: 0.0, 1.0: 0.0, 1.0: 0.0, 1.0: 0.0, 1.0: 0.0, 0.0: 1.0, 1.0: 0.0, 1.0: 0.0, 1.0: 0.0, 1.0: 0.0, 1.0: 0.0, 1.0: 0.0, 1.0: 0.0, 1.0: 0.0, 0.0: 1.0, 1.0: 0.0, 1.0: 0.0, 1.0: 0.0, 0.0: 1.0, 1.0: 0.0, 1.0: 0.0, 1.0: 0.0, "
          ]
        },
        {
          "output_type": "stream",
          "name": "stderr",
          "text": [
            "864it [00:05, 158.68it/s]"
          ]
        },
        {
          "output_type": "stream",
          "name": "stdout",
          "text": [
            "1.0: 0.0, 1.0: 0.0, 1.0: 0.0, 1.0: 0.0, 1.0: 0.0, 1.0: 0.0, 1.0: 0.0, 1.0: 0.0, 1.0: 0.0, 1.0: 0.0, 1.0: 0.0, 1.0: 0.0, 1.0: 0.0, 1.0: 0.0, 1.0: 0.0, 1.0: 0.0, "
          ]
        },
        {
          "output_type": "stream",
          "name": "stderr",
          "text": [
            "910it [00:06, 101.44it/s]"
          ]
        },
        {
          "output_type": "stream",
          "name": "stdout",
          "text": [
            "1.0: 0.0, 1.0: 0.0, 1.0: 0.0, 1.0: 0.0, 1.0: 0.0, 1.0: 0.0, 1.0: 0.0, 1.0: 0.0, 1.0: 0.0, 1.0: 0.0, 0.0: 1.0, 1.0: 0.0, 1.0: 0.0, 0.0: 1.0, 1.0: 0.0, "
          ]
        },
        {
          "output_type": "stream",
          "name": "stderr",
          "text": [
            "953it [00:06, 137.19it/s]"
          ]
        },
        {
          "output_type": "stream",
          "name": "stdout",
          "text": [
            "1.0: 0.0, 1.0: 0.0, 1.0: 0.0, 0.0: 1.0, 1.0: 0.0, 1.0: 0.0, 1.0: 0.0, 1.0: 0.0, 0.0: 1.0, 1.0: 0.0, 1.0: 0.0, 0.0: 1.0, 0.0: 1.0, 1.0: 0.0, 0.0: 1.0, 1.0: 0.0, 1.0: 0.0, 0.0: 1.0, 0.0: 1.0, 1.0: 0.0, 1.0: 0.0, 1.0: 0.0, 1.0: 0.0, "
          ]
        },
        {
          "output_type": "stream",
          "name": "stderr",
          "text": [
            "998it [00:06, 170.27it/s]"
          ]
        },
        {
          "output_type": "stream",
          "name": "stdout",
          "text": [
            "1.0: 0.0, 1.0: 0.0, 0.0: 1.0, 1.0: 0.0, 1.0: 0.0, 0.0: 1.0, 1.0: 0.0, 1.0: 0.0, 1.0: 0.0, 1.0: 0.0, 1.0: 0.0, 1.0: 0.0, 1.0: 0.0, 1.0: 0.0, 1.0: 0.0, 0.0: 1.0, 1.0: 0.0, 1.0: 0.0, 1.0: 0.0, 1.0: 0.0, 1.0: 0.0, "
          ]
        },
        {
          "output_type": "stream",
          "name": "stderr",
          "text": [
            "1024it [00:06, 152.47it/s]\n"
          ]
        },
        {
          "output_type": "stream",
          "name": "stdout",
          "text": [
            "1.0: 0.0, 1.0: 0.0, 1.0: 0.0, 1.0: 0.0, 1.0: 0.0, 1.0: 0.0, \n",
            "Epoch 047: | Loss: 0.74007 | Acc: 54.785\n",
            "\n"
          ]
        },
        {
          "output_type": "stream",
          "name": "stderr",
          "text": [
            "23it [00:00, 222.97it/s]"
          ]
        },
        {
          "output_type": "stream",
          "name": "stdout",
          "text": [
            "1.0: 0.0, 0.0: 1.0, 1.0: 0.0, 1.0: 0.0, 1.0: 0.0, 1.0: 0.0, 1.0: 0.0, 0.0: 1.0, 1.0: 0.0, 1.0: 0.0, "
          ]
        },
        {
          "output_type": "stream",
          "name": "stderr",
          "text": [
            "\r46it [00:00, 226.23it/s]"
          ]
        },
        {
          "output_type": "stream",
          "name": "stdout",
          "text": [
            "0.0: 1.0, 1.0: 0.0, 1.0: 0.0, 1.0: 0.0, 1.0: 0.0, 1.0: 0.0, 1.0: 0.0, 1.0: 0.0, 1.0: 0.0, 1.0: 0.0, 1.0: 0.0, 1.0: 0.0, "
          ]
        },
        {
          "output_type": "stream",
          "name": "stderr",
          "text": [
            "117it [00:00, 143.18it/s]"
          ]
        },
        {
          "output_type": "stream",
          "name": "stdout",
          "text": [
            "1.0: 0.0, 1.0: 0.0, 1.0: 0.0, 1.0: 0.0, 1.0: 0.0, 0.0: 1.0, 1.0: 0.0, 1.0: 0.0, 1.0: 0.0, 1.0: 0.0, 1.0: 0.0, 0.0: 1.0, 1.0: 0.0, 0.0: 1.0, 1.0: 0.0, 0.0: 1.0, 1.0: 0.0, "
          ]
        },
        {
          "output_type": "stream",
          "name": "stderr",
          "text": [
            "161it [00:01, 88.33it/s]"
          ]
        },
        {
          "output_type": "stream",
          "name": "stdout",
          "text": [
            "1.0: 0.0, 1.0: 0.0, 1.0: 0.0, 1.0: 0.0, 1.0: 0.0, 1.0: 0.0, 1.0: 0.0, 1.0: 0.0, 1.0: 0.0, 1.0: 0.0, 1.0: 0.0, 1.0: 0.0, 1.0: 0.0, 1.0: 0.0, 1.0: 0.0, 1.0: 0.0, 0.0: 1.0, 1.0: 0.0, 1.0: 0.0, 1.0: 0.0, 1.0: 0.0, 1.0: 0.0, 1.0: 0.0, "
          ]
        },
        {
          "output_type": "stream",
          "name": "stderr",
          "text": [
            "203it [00:01, 125.42it/s]"
          ]
        },
        {
          "output_type": "stream",
          "name": "stdout",
          "text": [
            "1.0: 0.0, 1.0: 0.0, 1.0: 0.0, 1.0: 0.0, 0.0: 1.0, 1.0: 0.0, 0.0: 1.0, 1.0: 0.0, 1.0: 0.0, 1.0: 0.0, 1.0: 0.0, 1.0: 0.0, 1.0: 0.0, 1.0: 0.0, 1.0: 0.0, 1.0: 0.0, 1.0: 0.0, 1.0: 0.0, 1.0: 0.0, 1.0: 0.0, 1.0: 0.0, 1.0: 0.0, 1.0: 0.0, 1.0: 0.0, 0.0: 1.0, 1.0: 0.0, 1.0: 0.0, "
          ]
        },
        {
          "output_type": "stream",
          "name": "stderr",
          "text": [
            "246it [00:02, 83.17it/s]"
          ]
        },
        {
          "output_type": "stream",
          "name": "stdout",
          "text": [
            "1.0: 0.0, 1.0: 0.0, 1.0: 0.0, 1.0: 0.0, 1.0: 0.0, 1.0: 0.0, 1.0: 0.0, 1.0: 0.0, 1.0: 0.0, 1.0: 0.0, 1.0: 0.0, 1.0: 0.0, 1.0: 0.0, 1.0: 0.0, 1.0: 0.0, 1.0: 0.0, 0.0: 1.0, 1.0: 0.0, 1.0: 0.0, 1.0: 0.0, 1.0: 0.0, 0.0: 1.0, 1.0: 0.0, 1.0: 0.0, "
          ]
        },
        {
          "output_type": "stream",
          "name": "stderr",
          "text": [
            "288it [00:02, 119.06it/s]"
          ]
        },
        {
          "output_type": "stream",
          "name": "stdout",
          "text": [
            "1.0: 0.0, 1.0: 0.0, 0.0: 1.0, 1.0: 0.0, 1.0: 0.0, 1.0: 0.0, 1.0: 0.0, 0.0: 1.0, 1.0: 0.0, 1.0: 0.0, 1.0: 0.0, 1.0: 0.0, 1.0: 0.0, 1.0: 0.0, 0.0: 1.0, 1.0: 0.0, 1.0: 0.0, 1.0: 0.0, 1.0: 0.0, 0.0: 1.0, 1.0: 0.0, 1.0: 0.0, 1.0: 0.0, 1.0: 0.0, 1.0: 0.0, "
          ]
        },
        {
          "output_type": "stream",
          "name": "stderr",
          "text": [
            "331it [00:02, 154.21it/s]"
          ]
        },
        {
          "output_type": "stream",
          "name": "stdout",
          "text": [
            "1.0: 0.0, 1.0: 0.0, 1.0: 0.0, 1.0: 0.0, 1.0: 0.0, 1.0: 0.0, 1.0: 0.0, 1.0: 0.0, 1.0: 0.0, 0.0: 1.0, 1.0: 0.0, 1.0: 0.0, 1.0: 0.0, 1.0: 0.0, 1.0: 0.0, 1.0: 0.0, 1.0: 0.0, 1.0: 0.0, 1.0: 0.0, 1.0: 0.0, 1.0: 0.0, 1.0: 0.0, 1.0: 0.0, 1.0: 0.0, 1.0: 0.0, 1.0: 0.0, "
          ]
        },
        {
          "output_type": "stream",
          "name": "stderr",
          "text": [
            "376it [00:03, 182.30it/s]"
          ]
        },
        {
          "output_type": "stream",
          "name": "stdout",
          "text": [
            "1.0: 0.0, 1.0: 0.0, 1.0: 0.0, 1.0: 0.0, 1.0: 0.0, 1.0: 0.0, 1.0: 0.0, 1.0: 0.0, 1.0: 0.0, 1.0: 0.0, 1.0: 0.0, 1.0: 0.0, 1.0: 0.0, 1.0: 0.0, 1.0: 0.0, 1.0: 0.0, 1.0: 0.0, 1.0: 0.0, 1.0: 0.0, 1.0: 0.0, 1.0: 0.0, 0.0: 1.0, 1.0: 0.0, 1.0: 0.0, 1.0: 0.0, 1.0: 0.0, 1.0: 0.0, 1.0: 0.0, 1.0: 0.0, 1.0: 0.0, "
          ]
        },
        {
          "output_type": "stream",
          "name": "stderr",
          "text": [
            "421it [00:03, 201.82it/s]"
          ]
        },
        {
          "output_type": "stream",
          "name": "stdout",
          "text": [
            "1.0: 0.0, 1.0: 0.0, 1.0: 0.0, 1.0: 0.0, 1.0: 0.0, 1.0: 0.0, 1.0: 0.0, 1.0: 0.0, 1.0: 0.0, 1.0: 0.0, 1.0: 0.0, 1.0: 0.0, 1.0: 0.0, 1.0: 0.0, 1.0: 0.0, 1.0: 0.0, "
          ]
        },
        {
          "output_type": "stream",
          "name": "stderr",
          "text": [
            "469it [00:03, 184.41it/s]"
          ]
        },
        {
          "output_type": "stream",
          "name": "stdout",
          "text": [
            "1.0: 0.0, 1.0: 0.0, 0.0: 1.0, 1.0: 0.0, 1.0: 0.0, 1.0: 0.0, 0.0: 1.0, 1.0: 0.0, 1.0: 0.0, 1.0: 0.0, 0.0: 1.0, 0.0: 1.0, 1.0: 0.0, 1.0: 0.0, 1.0: 0.0, 1.0: 0.0, 1.0: 0.0, 0.0: 1.0, 1.0: 0.0, 1.0: 0.0, 1.0: 0.0, 0.0: 1.0, "
          ]
        },
        {
          "output_type": "stream",
          "name": "stderr",
          "text": [
            "512it [00:03, 193.55it/s]"
          ]
        },
        {
          "output_type": "stream",
          "name": "stdout",
          "text": [
            "1.0: 0.0, 1.0: 0.0, 0.0: 1.0, 1.0: 0.0, 1.0: 0.0, 1.0: 0.0, 1.0: 0.0, 1.0: 0.0, 1.0: 0.0, 1.0: 0.0, 1.0: 0.0, 1.0: 0.0, 0.0: 1.0, 1.0: 0.0, 1.0: 0.0, 1.0: 0.0, 1.0: 0.0, 1.0: 0.0, 0.0: 1.0, 0.0: 1.0, "
          ]
        },
        {
          "output_type": "stream",
          "name": "stderr",
          "text": [
            "556it [00:04, 204.81it/s]"
          ]
        },
        {
          "output_type": "stream",
          "name": "stdout",
          "text": [
            "1.0: 0.0, 0.0: 1.0, 1.0: 0.0, 1.0: 0.0, 1.0: 0.0, 1.0: 0.0, 1.0: 0.0, 1.0: 0.0, 1.0: 0.0, 0.0: 1.0, 1.0: 0.0, 1.0: 0.0, 1.0: 0.0, 0.0: 1.0, 1.0: 0.0, 1.0: 0.0, 1.0: 0.0, 1.0: 0.0, 1.0: 0.0, 1.0: 0.0, 1.0: 0.0, 1.0: 0.0, 0.0: 1.0, 1.0: 0.0, 1.0: "
          ]
        },
        {
          "output_type": "stream",
          "name": "stderr",
          "text": [
            "603it [00:04, 218.98it/s]"
          ]
        },
        {
          "output_type": "stream",
          "name": "stdout",
          "text": [
            "0.0, 1.0: 0.0, 1.0: 0.0, 1.0: 0.0, 0.0: 1.0, 1.0: 0.0, 1.0: 0.0, 1.0: 0.0, 1.0: 0.0, 1.0: 0.0, 0.0: 1.0, 1.0: 0.0, 1.0: 0.0, 1.0: 0.0, 1.0: 0.0, 1.0: 0.0, 1.0: 0.0, 1.0: 0.0, "
          ]
        },
        {
          "output_type": "stream",
          "name": "stderr",
          "text": [
            "649it [00:04, 219.80it/s]"
          ]
        },
        {
          "output_type": "stream",
          "name": "stdout",
          "text": [
            "1.0: 0.0, 1.0: 0.0, 1.0: 0.0, 1.0: 0.0, 1.0: 0.0, 1.0: 0.0, 1.0: 0.0, 1.0: 0.0, 1.0: 0.0, 1.0: 0.0, 1.0: 0.0, 1.0: 0.0, 1.0: 0.0, 1.0: 0.0, 1.0: 0.0, 1.0: 0.0, 1.0: 0.0, 1.0: "
          ]
        },
        {
          "output_type": "stream",
          "name": "stderr",
          "text": [
            "\r672it [00:04, 221.81it/s]"
          ]
        },
        {
          "output_type": "stream",
          "name": "stdout",
          "text": [
            "0.0, 1.0: 0.0, 0.0: 1.0, 0.0: 1.0, 1.0: 0.0, 1.0: 0.0, 1.0: 0.0, 1.0: 0.0, 1.0: 0.0, 1.0: 0.0, 1.0: 0.0, "
          ]
        },
        {
          "output_type": "stream",
          "name": "stderr",
          "text": [
            "\r695it [00:05, 71.76it/s] "
          ]
        },
        {
          "output_type": "stream",
          "name": "stdout",
          "text": [
            "0.0: 1.0, 1.0: 0.0, 1.0: 0.0, 1.0: 0.0, 1.0: 0.0, 1.0: 0.0, 1.0: 0.0, 0.0: 1.0, 1.0: 0.0, "
          ]
        },
        {
          "output_type": "stream",
          "name": "stderr",
          "text": [
            "737it [00:05, 90.53it/s]"
          ]
        },
        {
          "output_type": "stream",
          "name": "stdout",
          "text": [
            "1.0: 0.0, 1.0: 0.0, 0.0: 1.0, 1.0: 0.0, 0.0: 1.0, 1.0: 0.0, 1.0: 0.0, 1.0: 0.0, 1.0: 0.0, 1.0: 0.0, 1.0: 0.0, 1.0: 0.0, 1.0: 0.0, 1.0: 0.0, 1.0: 0.0, 1.0: 0.0, 0.0: 1.0, "
          ]
        },
        {
          "output_type": "stream",
          "name": "stderr",
          "text": [
            "779it [00:06, 77.66it/s]"
          ]
        },
        {
          "output_type": "stream",
          "name": "stdout",
          "text": [
            "0.0: 1.0, 1.0: 0.0, 1.0: 0.0, 1.0: 0.0, 0.0: 1.0, 1.0: 0.0, 1.0: 0.0, 0.0: 1.0, 1.0: 0.0, 1.0: 0.0, 1.0: 0.0, 1.0: 0.0, 1.0: 0.0, 1.0: 0.0, 1.0: 0.0, 1.0: 0.0, 1.0: 0.0, 1.0: 0.0, 0.0: 1.0, 1.0: 0.0, "
          ]
        },
        {
          "output_type": "stream",
          "name": "stderr",
          "text": [
            "823it [00:06, 116.28it/s]"
          ]
        },
        {
          "output_type": "stream",
          "name": "stdout",
          "text": [
            "1.0: 0.0, 1.0: 0.0, 1.0: 0.0, 1.0: 0.0, 1.0: 0.0, 1.0: 0.0, 1.0: 0.0, 1.0: 0.0, 1.0: 0.0, 1.0: 0.0, 1.0: 0.0, 1.0: 0.0, "
          ]
        },
        {
          "output_type": "stream",
          "name": "stderr",
          "text": [
            "868it [00:07, 83.91it/s]"
          ]
        },
        {
          "output_type": "stream",
          "name": "stdout",
          "text": [
            "1.0: 0.0, 1.0: 0.0, 0.0: 1.0, 1.0: 0.0, 1.0: 0.0, 1.0: 0.0, 1.0: 0.0, 1.0: 0.0, 1.0: 0.0, 1.0: 0.0, 1.0: 0.0, 1.0: 0.0, 1.0: 0.0, 1.0: 0.0, 0.0: 1.0, "
          ]
        },
        {
          "output_type": "stream",
          "name": "stderr",
          "text": [
            "916it [00:07, 127.17it/s]"
          ]
        },
        {
          "output_type": "stream",
          "name": "stdout",
          "text": [
            "1.0: 0.0, 1.0: 0.0, 1.0: 0.0, 1.0: 0.0, 1.0: 0.0, 1.0: 0.0, 1.0: 0.0, 1.0: 0.0, 1.0: 0.0, 1.0: 0.0, 1.0: 0.0, 1.0: 0.0, 0.0: 1.0, 1.0: 0.0, 0.0: 1.0, 0.0: 1.0, 1.0: 0.0, 1.0: 0.0, 1.0: 0.0, 1.0: 0.0, 0.0: 1.0, 1.0: 0.0, 1.0: 0.0, "
          ]
        },
        {
          "output_type": "stream",
          "name": "stderr",
          "text": [
            "962it [00:07, 163.39it/s]"
          ]
        },
        {
          "output_type": "stream",
          "name": "stdout",
          "text": [
            "1.0: 0.0, 1.0: 0.0, 0.0: 1.0, 1.0: 0.0, 1.0: 0.0, 0.0: 1.0, 1.0: 0.0, 1.0: 0.0, 1.0: 0.0, 1.0: 0.0, 1.0: 0.0, 0.0: 1.0, 1.0: 0.0, 1.0: 0.0, 1.0: 0.0, 0.0: 1.0, 0.0: 1.0, 0.0: 1.0, 1.0: 0.0, 1.0: 0.0, 0.0: 1.0, 1.0: 0.0, "
          ]
        },
        {
          "output_type": "stream",
          "name": "stderr",
          "text": [
            "1011it [00:08, 197.82it/s]"
          ]
        },
        {
          "output_type": "stream",
          "name": "stdout",
          "text": [
            "1.0: 0.0, 0.0: 1.0, 1.0: 0.0, 0.0: 1.0, 1.0: 0.0, 1.0: 0.0, 1.0: 0.0, 1.0: 0.0, 1.0: 0.0, 0.0: 1.0, 1.0: 0.0, 0.0: 1.0, 1.0: 0.0, 1.0: 0.0, 1.0: 0.0, 1.0: 0.0, 1.0: 0.0, 1.0: 0.0, 1.0: 0.0, 1.0: 0.0, 1.0: 0.0, "
          ]
        },
        {
          "output_type": "stream",
          "name": "stderr",
          "text": [
            "\r1024it [00:08, 124.97it/s]\n"
          ]
        },
        {
          "output_type": "stream",
          "name": "stdout",
          "text": [
            "\n",
            "Epoch 048: | Loss: 0.73792 | Acc: 54.980\n",
            "\n"
          ]
        },
        {
          "output_type": "stream",
          "name": "stderr",
          "text": [
            "23it [00:00, 224.34it/s]"
          ]
        },
        {
          "output_type": "stream",
          "name": "stdout",
          "text": [
            "0.0: 1.0, 1.0: 0.0, 1.0: 0.0, 1.0: 0.0, 0.0: 1.0, 1.0: 0.0, 1.0: 0.0, 1.0: 0.0, 1.0: 0.0, 1.0: 0.0, 0.0: 1.0, 0.0: 1.0, 1.0: 0.0, 1.0: 0.0, 1.0: 0.0, 1.0: 0.0, 1.0: 0.0, 1.0: 0.0, 1.0: 0.0, 0.0: 1.0, 0.0: 1.0, 1.0: 0.0, "
          ]
        },
        {
          "output_type": "stream",
          "name": "stderr",
          "text": [
            "67it [00:00, 110.12it/s]"
          ]
        },
        {
          "output_type": "stream",
          "name": "stdout",
          "text": [
            "1.0: 0.0, 0.0: 1.0, 1.0: 0.0, 1.0: 0.0, 1.0: 0.0, "
          ]
        },
        {
          "output_type": "stream",
          "name": "stderr",
          "text": [
            "108it [00:01, 76.47it/s]"
          ]
        },
        {
          "output_type": "stream",
          "name": "stdout",
          "text": [
            "1.0: 0.0, 1.0: 0.0, 1.0: 0.0, 0.0: 1.0, 1.0: 0.0, 0.0: 1.0, 1.0: 0.0, 1.0: 0.0, 1.0: 0.0, 1.0: 0.0, 1.0: 0.0, 0.0: 1.0, 0.0: 1.0, 1.0: 0.0, 1.0: 0.0, 1.0: 0.0, "
          ]
        },
        {
          "output_type": "stream",
          "name": "stderr",
          "text": [
            "152it [00:01, 119.60it/s]"
          ]
        },
        {
          "output_type": "stream",
          "name": "stdout",
          "text": [
            "1.0: 0.0, 1.0: 0.0, 1.0: 0.0, 1.0: 0.0, 1.0: 0.0, 1.0: 0.0, 1.0: 0.0, 1.0: 0.0, 1.0: 0.0, 1.0: 0.0, 1.0: 0.0, 0.0: 1.0, 1.0: 0.0, 1.0: 0.0, 1.0: 0.0, 1.0: 0.0, 1.0: 0.0, 1.0: 0.0, 1.0: 0.0, 1.0: 0.0, 1.0: 0.0, 1.0: 0.0, 1.0: 0.0, 1.0: 0.0, 1.0: 0.0, 1.0: "
          ]
        },
        {
          "output_type": "stream",
          "name": "stderr",
          "text": [
            "195it [00:01, 156.16it/s]"
          ]
        },
        {
          "output_type": "stream",
          "name": "stdout",
          "text": [
            "0.0, 1.0: 0.0, 1.0: 0.0, 0.0: 1.0, 1.0: 0.0, 1.0: 0.0, 1.0: 0.0, 1.0: 0.0, 1.0: 0.0, 1.0: 0.0, 1.0: 0.0, 1.0: 0.0, 1.0: 0.0, 1.0: 0.0, 1.0: 0.0, 1.0: 0.0, 1.0: 0.0, 1.0: 0.0, 1.0: 0.0, 1.0: 0.0, 1.0: 0.0, 1.0: 0.0, 0.0: 1.0, 1.0: 0.0, 1.0: 0.0, 1.0: 0.0, 1.0: 0.0, "
          ]
        },
        {
          "output_type": "stream",
          "name": "stderr",
          "text": [
            "239it [00:01, 182.03it/s]"
          ]
        },
        {
          "output_type": "stream",
          "name": "stdout",
          "text": [
            "1.0: 0.0, 0.0: 1.0, 1.0: 0.0, 1.0: 0.0, 1.0: 0.0, 1.0: 0.0, 1.0: 0.0, 0.0: 1.0, 1.0: 0.0, 1.0: 0.0, 1.0: 0.0, 1.0: 0.0, 0.0: 1.0, 1.0: 0.0, 1.0: 0.0, 1.0: 0.0, 1.0: 0.0, 1.0: 0.0, 0.0: 1.0, 0.0: 1.0, 1.0: 0.0, 1.0: 0.0, 1.0: 0.0, 1.0: 0.0, 1.0: 0.0, 1.0: 0.0, 1.0: 0.0, 1.0: 0.0, "
          ]
        },
        {
          "output_type": "stream",
          "name": "stderr",
          "text": [
            "287it [00:02, 208.70it/s]"
          ]
        },
        {
          "output_type": "stream",
          "name": "stdout",
          "text": [
            "1.0: 0.0, 1.0: 0.0, 1.0: 0.0, 1.0: 0.0, 1.0: 0.0, 1.0: 0.0, 0.0: 1.0, 1.0: 0.0, 1.0: 0.0, 1.0: 0.0, 1.0: 0.0, 1.0: 0.0, 1.0: 0.0, 1.0: 0.0, 1.0: 0.0, 1.0: 0.0, 1.0: 0.0, 1.0: 0.0, 1.0: 0.0, 1.0: 0.0, 1.0: 0.0, 1.0: 0.0, "
          ]
        },
        {
          "output_type": "stream",
          "name": "stderr",
          "text": [
            "334it [00:02, 189.07it/s]"
          ]
        },
        {
          "output_type": "stream",
          "name": "stdout",
          "text": [
            "1.0: 0.0, 1.0: 0.0, 1.0: 0.0, 1.0: 0.0, 1.0: 0.0, 1.0: 0.0, 1.0: 0.0, 1.0: 0.0, 1.0: 0.0, 1.0: 0.0, 1.0: 0.0, 1.0: 0.0, 1.0: 0.0, 1.0: 0.0, 1.0: 0.0, 1.0: 0.0, 1.0: 0.0, 1.0: 0.0, 1.0: 0.0, 1.0: 0.0, 1.0: 0.0, 1.0: 0.0, 1.0: 0.0, 1.0: 0.0, 1.0: 0.0, 1.0: "
          ]
        },
        {
          "output_type": "stream",
          "name": "stderr",
          "text": [
            "378it [00:02, 196.62it/s]"
          ]
        },
        {
          "output_type": "stream",
          "name": "stdout",
          "text": [
            "0.0, 1.0: 0.0, 1.0: 0.0, 1.0: 0.0, 1.0: 0.0, 1.0: 0.0, 1.0: 0.0, 1.0: 0.0, 1.0: 0.0, 1.0: 0.0, 1.0: 0.0, 1.0: 0.0, 1.0: 0.0, 1.0: 0.0, 1.0: 0.0, 1.0: 0.0, 1.0: 0.0, 1.0: 0.0, 1.0: 0.0, 1.0: 0.0, 1.0: 0.0, 1.0: 0.0, 1.0: 0.0, 1.0: 0.0, 1.0: 0.0, 1.0: 0.0, 1.0: 0.0, 1.0: 0.0, "
          ]
        },
        {
          "output_type": "stream",
          "name": "stderr",
          "text": [
            "423it [00:02, 208.55it/s]"
          ]
        },
        {
          "output_type": "stream",
          "name": "stdout",
          "text": [
            "1.0: 0.0, 1.0: 0.0, 1.0: 0.0, 1.0: 0.0, 1.0: 0.0, 1.0: 0.0, 0.0: 1.0, 1.0: 0.0, 1.0: 0.0, 1.0: 0.0, 1.0: 0.0, 1.0: 0.0, 1.0: 0.0, 1.0: 0.0, 1.0: 0.0, 1.0: 0.0, 1.0: 0.0, 1.0: 0.0, 1.0: 0.0, "
          ]
        },
        {
          "output_type": "stream",
          "name": "stderr",
          "text": [
            "470it [00:03, 220.72it/s]"
          ]
        },
        {
          "output_type": "stream",
          "name": "stdout",
          "text": [
            "1.0: 0.0, 1.0: 0.0, 1.0: 0.0, 1.0: 0.0, 1.0: 0.0, 1.0: 0.0, 1.0: 0.0, 1.0: 0.0, 1.0: 0.0, 1.0: 0.0, 1.0: 0.0, 1.0: 0.0, 1.0: 0.0, 1.0: 0.0, 1.0: 0.0, "
          ]
        },
        {
          "output_type": "stream",
          "name": "stderr",
          "text": [
            "515it [00:03, 217.00it/s]"
          ]
        },
        {
          "output_type": "stream",
          "name": "stdout",
          "text": [
            "1.0: 0.0, 1.0: 0.0, 1.0: 0.0, 1.0: 0.0, 1.0: 0.0, 1.0: 0.0, 1.0: 0.0, 1.0: 0.0, 1.0: 0.0, 1.0: 0.0, 1.0: 0.0, 1.0: 0.0, 1.0: 0.0, 1.0: 0.0, 1.0: 0.0, 1.0: 0.0, 1.0: 0.0, 1.0: 0.0, "
          ]
        },
        {
          "output_type": "stream",
          "name": "stderr",
          "text": [
            "\r537it [00:04, 68.05it/s] "
          ]
        },
        {
          "output_type": "stream",
          "name": "stdout",
          "text": [
            "1.0: 0.0, 1.0: 0.0, 0.0: 1.0, 1.0: 0.0, 1.0: 0.0, 1.0: 0.0, 0.0: 1.0, 1.0: 0.0, "
          ]
        },
        {
          "output_type": "stream",
          "name": "stderr",
          "text": [
            "577it [00:04, 84.12it/s]"
          ]
        },
        {
          "output_type": "stream",
          "name": "stdout",
          "text": [
            "1.0: 0.0, 1.0: 0.0, 1.0: 0.0, 1.0: 0.0, 1.0: 0.0, 1.0: 0.0, 1.0: 0.0, 0.0: 1.0, 1.0: 0.0, 1.0: 0.0, 1.0: 0.0, 1.0: 0.0, 1.0: 0.0, 1.0: 0.0, 1.0: 0.0, 1.0: 0.0, 1.0: 0.0, "
          ]
        },
        {
          "output_type": "stream",
          "name": "stderr",
          "text": [
            "616it [00:05, 70.51it/s]"
          ]
        },
        {
          "output_type": "stream",
          "name": "stdout",
          "text": [
            "1.0: 0.0, 1.0: 0.0, 0.0: 1.0, 1.0: 0.0, 1.0: 0.0, 1.0: 0.0, 1.0: 0.0, 1.0: 0.0, 1.0: 0.0, 1.0: 0.0, 0.0: 1.0, 1.0: 0.0, 1.0: 0.0, 1.0: 0.0, 1.0: 0.0, 1.0: 0.0, 1.0: 0.0, 1.0: 0.0, 1.0: 0.0, 1.0: 0.0, 1.0: 0.0, 0.0: 1.0, "
          ]
        },
        {
          "output_type": "stream",
          "name": "stderr",
          "text": [
            "661it [00:05, 110.66it/s]"
          ]
        },
        {
          "output_type": "stream",
          "name": "stdout",
          "text": [
            "1.0: 0.0, 1.0: 0.0, 0.0: 1.0, 0.0: 1.0, 1.0: 0.0, 1.0: 0.0, 1.0: 0.0, 1.0: 0.0, 1.0: 0.0, 1.0: 0.0, 1.0: 0.0, 1.0: 0.0, 1.0: 0.0, 1.0: 0.0, 1.0: 0.0, 1.0: 0.0, 1.0: 0.0, "
          ]
        },
        {
          "output_type": "stream",
          "name": "stderr",
          "text": [
            "709it [00:05, 156.49it/s]"
          ]
        },
        {
          "output_type": "stream",
          "name": "stdout",
          "text": [
            "1.0: 0.0, 1.0: 0.0, 0.0: 1.0, 1.0: 0.0, 1.0: 0.0, 0.0: 1.0, 0.0: 1.0, 1.0: 0.0, 1.0: 0.0, 1.0: 0.0, 1.0: 0.0, 1.0: 0.0, 1.0: 0.0, 1.0: 0.0, 1.0: 0.0, 1.0: 0.0, 0.0: 1.0, 1.0: 0.0, 1.0: 0.0, 0.0: 1.0, 1.0: 0.0, 1.0: 0.0, "
          ]
        },
        {
          "output_type": "stream",
          "name": "stderr",
          "text": [
            "779it [00:05, 199.43it/s]"
          ]
        },
        {
          "output_type": "stream",
          "name": "stdout",
          "text": [
            "1.0: 0.0, 1.0: 0.0, 1.0: 0.0, 1.0: 0.0, 1.0: 0.0, 1.0: 0.0, 1.0: 0.0, 1.0: 0.0, 1.0: 0.0, 1.0: 0.0, 0.0: 1.0, 1.0: 0.0, 1.0: 0.0, 0.0: 1.0, 1.0: 0.0, 1.0: 0.0, "
          ]
        },
        {
          "output_type": "stream",
          "name": "stderr",
          "text": [
            "826it [00:06, 214.24it/s]"
          ]
        },
        {
          "output_type": "stream",
          "name": "stdout",
          "text": [
            "1.0: 0.0, 1.0: 0.0, 1.0: 0.0, 1.0: 0.0, 1.0: 0.0, 0.0: 1.0, 1.0: 0.0, 1.0: 0.0, 1.0: 0.0, 0.0: 1.0, 1.0: 0.0, 1.0: 0.0, 1.0: 0.0, 1.0: 0.0, 1.0: 0.0, 1.0: 0.0, 1.0: 0.0, "
          ]
        },
        {
          "output_type": "stream",
          "name": "stderr",
          "text": [
            "\r849it [00:06, 210.61it/s]"
          ]
        },
        {
          "output_type": "stream",
          "name": "stdout",
          "text": [
            "0.0: 1.0, 0.0: 1.0, 1.0: 0.0, 1.0: 0.0, 1.0: 0.0, 0.0: 1.0, 1.0: 0.0, 1.0: 0.0, 1.0: 0.0, 1.0: 0.0, "
          ]
        },
        {
          "output_type": "stream",
          "name": "stderr",
          "text": [
            "899it [00:06, 192.36it/s]"
          ]
        },
        {
          "output_type": "stream",
          "name": "stdout",
          "text": [
            "1.0: 0.0, 1.0: 0.0, 1.0: 0.0, 1.0: 0.0, 1.0: 0.0, 1.0: 0.0, 0.0: 1.0, 1.0: 0.0, 1.0: 0.0, 0.0: 1.0, 1.0: 0.0, 1.0: 0.0, 1.0: 0.0, 1.0: 0.0, 1.0: 0.0, 1.0: 0.0, 1.0: 0.0, 1.0: 0.0, "
          ]
        },
        {
          "output_type": "stream",
          "name": "stderr",
          "text": [
            "945it [00:07, 108.80it/s]"
          ]
        },
        {
          "output_type": "stream",
          "name": "stdout",
          "text": [
            "1.0: 0.0, 0.0: 1.0, 1.0: 0.0, 1.0: 0.0, 1.0: 0.0, 1.0: 0.0, 1.0: 0.0, 1.0: 0.0, 1.0: 0.0, 1.0: 0.0, 1.0: 0.0, 1.0: 0.0, 1.0: 0.0, 0.0: 1.0, 1.0: 0.0, 1.0: 0.0, 0.0: 1.0, 1.0: 0.0, 1.0: 0.0, "
          ]
        },
        {
          "output_type": "stream",
          "name": "stderr",
          "text": [
            "994it [00:07, 152.78it/s]"
          ]
        },
        {
          "output_type": "stream",
          "name": "stdout",
          "text": [
            "1.0: 0.0, 1.0: 0.0, 1.0: 0.0, 1.0: 0.0, 1.0: 0.0, 1.0: 0.0, 1.0: 0.0, 1.0: 0.0, 1.0: 0.0, 1.0: 0.0, 1.0: 0.0, 1.0: 0.0, 1.0: 0.0, 1.0: 0.0, 1.0: 0.0, 1.0: 0.0, 1.0: 0.0, 1.0: 0.0, "
          ]
        },
        {
          "output_type": "stream",
          "name": "stderr",
          "text": [
            "1024it [00:07, 133.89it/s]\n"
          ]
        },
        {
          "output_type": "stream",
          "name": "stdout",
          "text": [
            "1.0: 0.0, 1.0: 0.0, 1.0: 0.0, 1.0: 0.0, 0.0: 1.0, 1.0: 0.0, 1.0: 0.0, 1.0: 0.0, 0.0: 1.0, 1.0: 0.0, 1.0: 0.0, 1.0: 0.0, \n",
            "Epoch 049: | Loss: 0.73235 | Acc: 56.445\n",
            "\n"
          ]
        },
        {
          "output_type": "stream",
          "name": "stderr",
          "text": [
            "\r0it [00:00, ?it/s]"
          ]
        },
        {
          "output_type": "stream",
          "name": "stdout",
          "text": [
            "1.0: 0.0, 0.0: 1.0, 1.0: 0.0, "
          ]
        },
        {
          "output_type": "stream",
          "name": "stderr",
          "text": [
            "45it [00:00, 223.16it/s]"
          ]
        },
        {
          "output_type": "stream",
          "name": "stdout",
          "text": [
            "1.0: 0.0, 1.0: 0.0, 1.0: 0.0, 1.0: 0.0, 1.0: 0.0, 1.0: 0.0, 1.0: 0.0, 1.0: 0.0, 1.0: 0.0, 0.0: 1.0, 1.0: 0.0, 1.0: 0.0, 1.0: 0.0, 1.0: 0.0, 0.0: 1.0, 0.0: 1.0, 1.0: "
          ]
        },
        {
          "output_type": "stream",
          "name": "stderr",
          "text": [
            "94it [00:00, 232.44it/s]"
          ]
        },
        {
          "output_type": "stream",
          "name": "stdout",
          "text": [
            "0.0, 1.0: 0.0, 0.0: 1.0, 1.0: 0.0, 1.0: 0.0, 0.0: 1.0, 1.0: 0.0, 1.0: 0.0, "
          ]
        },
        {
          "output_type": "stream",
          "name": "stderr",
          "text": [
            "140it [00:00, 181.44it/s]"
          ]
        },
        {
          "output_type": "stream",
          "name": "stdout",
          "text": [
            "1.0: 0.0, 1.0: 0.0, 1.0: 0.0, 1.0: 0.0, 1.0: 0.0, 1.0: 0.0, 1.0: 0.0, 0.0: 1.0, 1.0: 0.0, 1.0: 0.0, 1.0: 0.0, 1.0: 0.0, 1.0: 0.0, 1.0: 0.0, 1.0: 0.0, 1.0: 0.0, 1.0: 0.0, 0.0: 1.0, "
          ]
        },
        {
          "output_type": "stream",
          "name": "stderr",
          "text": [
            "184it [00:00, 197.90it/s]"
          ]
        },
        {
          "output_type": "stream",
          "name": "stdout",
          "text": [
            "1.0: 0.0, 1.0: 0.0, 1.0: 0.0, 1.0: 0.0, 1.0: 0.0, 1.0: 0.0, 1.0: 0.0, 1.0: 0.0, 1.0: 0.0, 1.0: 0.0, 1.0: 0.0, 1.0: 0.0, 1.0: 0.0, 1.0: 0.0, 1.0: 0.0, 1.0: 0.0, 1.0: 0.0, 1.0: 0.0, 1.0: 0.0, 1.0: 0.0, 1.0: 0.0, 1.0: 0.0, 1.0: 0.0, 1.0: 0.0, 1.0: 0.0, 1.0: 0.0, 1.0: 0.0, "
          ]
        },
        {
          "output_type": "stream",
          "name": "stderr",
          "text": [
            "230it [00:01, 213.83it/s]"
          ]
        },
        {
          "output_type": "stream",
          "name": "stdout",
          "text": [
            "1.0: 0.0, 1.0: 0.0, 1.0: 0.0, 1.0: 0.0, 1.0: 0.0, 0.0: 1.0, 1.0: 0.0, 1.0: 0.0, 1.0: 0.0, 1.0: 0.0, 1.0: 0.0, 1.0: 0.0, 0.0: 1.0, 1.0: 0.0, 1.0: 0.0, 1.0: 0.0, 1.0: 0.0, 1.0: 0.0, 1.0: 0.0, 1.0: 0.0, 1.0: 0.0, 1.0: 0.0, 1.0: 0.0, 1.0: 0.0, 0.0: 1.0, 1.0: 0.0, 1.0: 0.0, 1.0: 0.0, 1.0: 0.0, "
          ]
        },
        {
          "output_type": "stream",
          "name": "stderr",
          "text": [
            "276it [00:01, 215.10it/s]"
          ]
        },
        {
          "output_type": "stream",
          "name": "stdout",
          "text": [
            "1.0: 0.0, 1.0: 0.0, 1.0: 0.0, 1.0: 0.0, 1.0: 0.0, 1.0: 0.0, 1.0: 0.0, 1.0: 0.0, 1.0: 0.0, 1.0: 0.0, 1.0: 0.0, 1.0: 0.0, 1.0: 0.0, 1.0: 0.0, 0.0: 1.0, 1.0: 0.0, 1.0: 0.0, 1.0: 0.0, 1.0: 0.0, 1.0: 0.0, 1.0: 0.0, 1.0: 0.0, "
          ]
        },
        {
          "output_type": "stream",
          "name": "stderr",
          "text": [
            "349it [00:01, 232.61it/s]"
          ]
        },
        {
          "output_type": "stream",
          "name": "stdout",
          "text": [
            "1.0: 0.0, 1.0: 0.0, 1.0: 0.0, 1.0: 0.0, 1.0: 0.0, 1.0: 0.0, 1.0: 0.0, 1.0: 0.0, 1.0: 0.0, 1.0: 0.0, 1.0: 0.0, 1.0: 0.0, 1.0: 0.0, 1.0: 0.0, 1.0: 0.0, 1.0: 0.0, 1.0: 0.0, 1.0: 0.0, 1.0: 0.0, 1.0: 0.0, 1.0: 0.0, 1.0: 0.0, 1.0: 0.0, 1.0: 0.0, 1.0: 0.0, 1.0: 0.0, 1.0: 0.0, 1.0: 0.0, 1.0: 0.0, 1.0: 0.0, 1.0: 0.0, 1.0: 0.0, 1.0: 0.0, 1.0: 0.0, 1.0: 0.0, 0.0: 1.0, 1.0: 0.0, 1.0: 0.0, 1.0: 0.0, 1.0: 0.0, "
          ]
        },
        {
          "output_type": "stream",
          "name": "stderr",
          "text": [
            "\r373it [00:01, 149.92it/s]"
          ]
        },
        {
          "output_type": "stream",
          "name": "stdout",
          "text": [
            "1.0: 0.0, 1.0: 0.0, 1.0: 0.0, 1.0: 0.0, 1.0: 0.0, 1.0: 0.0, 1.0: 0.0, 1.0: 0.0, 1.0: 0.0, 1.0: 0.0, 0.0: 1.0, 1.0: 0.0, 1.0: 0.0, 1.0: 0.0, 1.0: 0.0, 1.0: 0.0, 1.0: 0.0, 1.0: 0.0, 1.0: 0.0, 1.0: 0.0, 1.0: 0.0, 0.0: 1.0, 1.0: 0.0, 1.0: 0.0, "
          ]
        },
        {
          "output_type": "stream",
          "name": "stderr",
          "text": [
            "438it [00:02, 183.50it/s]"
          ]
        },
        {
          "output_type": "stream",
          "name": "stdout",
          "text": [
            "1.0: 0.0, 1.0: 0.0, 1.0: 0.0, 1.0: 0.0, 0.0: 1.0, 0.0: 1.0, 1.0: 0.0, 1.0: 0.0, 0.0: 1.0, 1.0: 0.0, 1.0: 0.0, 0.0: 1.0, 0.0: 1.0, 1.0: 0.0, 1.0: 0.0, 1.0: 0.0, 1.0: 0.0, 1.0: 0.0, 1.0: 0.0, 1.0: 0.0, 1.0: 0.0, 1.0: 0.0, 1.0: 0.0, 0.0: 1.0, 1.0: 0.0, 1.0: 0.0, "
          ]
        },
        {
          "output_type": "stream",
          "name": "stderr",
          "text": [
            "487it [00:02, 209.32it/s]"
          ]
        },
        {
          "output_type": "stream",
          "name": "stdout",
          "text": [
            "1.0: 0.0, 1.0: 0.0, 1.0: 0.0, 1.0: 0.0, 1.0: 0.0, 1.0: 0.0, 1.0: 0.0, 0.0: 1.0, 0.0: 1.0, 1.0: 0.0, 1.0: 0.0, 0.0: 1.0, 1.0: 0.0, 1.0: 0.0, 1.0: 0.0, 1.0: 0.0, 1.0: 0.0, 1.0: 0.0, 1.0: 0.0, 1.0: "
          ]
        },
        {
          "output_type": "stream",
          "name": "stderr",
          "text": [
            "\r510it [00:02, 209.73it/s]"
          ]
        },
        {
          "output_type": "stream",
          "name": "stdout",
          "text": [
            "0.0, 0.0: 1.0, 1.0: 0.0, 1.0: 0.0, 1.0: 0.0, 1.0: 0.0, 1.0: 0.0, 1.0: 0.0, 0.0: 1.0, "
          ]
        },
        {
          "output_type": "stream",
          "name": "stderr",
          "text": [
            "557it [00:02, 169.02it/s]"
          ]
        },
        {
          "output_type": "stream",
          "name": "stdout",
          "text": [
            "0.0: 1.0, 1.0: 0.0, 1.0: 0.0, 1.0: 0.0, 0.0: 1.0, 1.0: 0.0, 1.0: 0.0, 1.0: 0.0, 1.0: 0.0, 1.0: 0.0, 1.0: 0.0, 1.0: 0.0, 1.0: 0.0, 1.0: 0.0, 0.0: 1.0, 1.0: 0.0, 1.0: 0.0, 1.0: 0.0, 1.0: 0.0, 1.0: 0.0, "
          ]
        },
        {
          "output_type": "stream",
          "name": "stderr",
          "text": [
            "603it [00:03, 101.74it/s]"
          ]
        },
        {
          "output_type": "stream",
          "name": "stdout",
          "text": [
            "1.0: 0.0, 1.0: 0.0, 1.0: 0.0, 1.0: 0.0, 1.0: 0.0, 1.0: 0.0, 1.0: 0.0, 1.0: 0.0, 1.0: 0.0, 1.0: 0.0, 1.0: 0.0, 1.0: 0.0, 1.0: 0.0, 1.0: 0.0, 0.0: 1.0, 1.0: 0.0, 1.0: 0.0, "
          ]
        },
        {
          "output_type": "stream",
          "name": "stderr",
          "text": [
            "649it [00:03, 141.09it/s]"
          ]
        },
        {
          "output_type": "stream",
          "name": "stdout",
          "text": [
            "1.0: 0.0, 0.0: 1.0, 1.0: 0.0, 1.0: 0.0, 1.0: 0.0, 1.0: 0.0, 1.0: 0.0, 1.0: 0.0, 1.0: 0.0, 0.0: 1.0, 1.0: 0.0, 1.0: 0.0, 1.0: 0.0, 1.0: 0.0, 1.0: 0.0, 0.0: 1.0, 1.0: 0.0, 0.0: 1.0, 1.0: 0.0, 1.0: 0.0, 1.0: 0.0, "
          ]
        },
        {
          "output_type": "stream",
          "name": "stderr",
          "text": [
            "693it [00:04, 89.20it/s]"
          ]
        },
        {
          "output_type": "stream",
          "name": "stdout",
          "text": [
            "1.0: 0.0, 1.0: 0.0, 1.0: 0.0, 1.0: 0.0, 1.0: 0.0, 1.0: 0.0, 1.0: 0.0, 1.0: 0.0, 1.0: 0.0, 1.0: 0.0, 1.0: 0.0, 0.0: 1.0, 1.0: 0.0, 1.0: 0.0, 1.0: 0.0, 1.0: 0.0, 1.0: 0.0, 1.0: 0.0, "
          ]
        },
        {
          "output_type": "stream",
          "name": "stderr",
          "text": [
            "739it [00:04, 129.86it/s]"
          ]
        },
        {
          "output_type": "stream",
          "name": "stdout",
          "text": [
            "0.0: 1.0, 1.0: 0.0, 1.0: 0.0, 1.0: 0.0, 0.0: 1.0, 1.0: 0.0, 1.0: 0.0, 1.0: 0.0, 1.0: 0.0, 1.0: 0.0, 1.0: 0.0, 1.0: 0.0, 0.0: 1.0, 1.0: 0.0, 1.0: 0.0, 0.0: 1.0, 0.0: 1.0, 1.0: 0.0, 1.0: 0.0, 1.0: 0.0, "
          ]
        },
        {
          "output_type": "stream",
          "name": "stderr",
          "text": [
            "785it [00:05, 165.88it/s]"
          ]
        },
        {
          "output_type": "stream",
          "name": "stdout",
          "text": [
            "1.0: 0.0, 1.0: 0.0, 1.0: 0.0, 1.0: 0.0, 1.0: 0.0, 1.0: 0.0, 1.0: 0.0, 1.0: 0.0, 1.0: 0.0, 1.0: 0.0, 1.0: 0.0, 1.0: 0.0, 1.0: 0.0, 1.0: 0.0, 1.0: 0.0, 1.0: 0.0, 1.0: 0.0, 1.0: 0.0, "
          ]
        },
        {
          "output_type": "stream",
          "name": "stderr",
          "text": [
            "829it [00:05, 186.65it/s]"
          ]
        },
        {
          "output_type": "stream",
          "name": "stdout",
          "text": [
            "1.0: 0.0, 1.0: 0.0, 0.0: 1.0, 1.0: 0.0, 1.0: 0.0, 1.0: 0.0, 1.0: 0.0, 1.0: 0.0, 1.0: 0.0, 0.0: 1.0, 1.0: 0.0, 1.0: 0.0, 0.0: 1.0, 1.0: 0.0, 1.0: 0.0, 1.0: 0.0, 1.0: 0.0, 1.0: 0.0, 1.0: 0.0, "
          ]
        },
        {
          "output_type": "stream",
          "name": "stderr",
          "text": [
            "904it [00:05, 225.61it/s]"
          ]
        },
        {
          "output_type": "stream",
          "name": "stdout",
          "text": [
            "1.0: 0.0, 1.0: 0.0, 1.0: 0.0, 1.0: 0.0, 0.0: 1.0, 1.0: 0.0, 1.0: 0.0, 1.0: 0.0, 0.0: 1.0, 1.0: 0.0, 1.0: 0.0, 1.0: 0.0, 1.0: 0.0, 1.0: 0.0, 1.0: 0.0, 1.0: 0.0, 1.0: 0.0, 1.0: 0.0, 1.0: 0.0, 1.0: 0.0, "
          ]
        },
        {
          "output_type": "stream",
          "name": "stderr",
          "text": [
            "\r928it [00:05, 143.73it/s]"
          ]
        },
        {
          "output_type": "stream",
          "name": "stdout",
          "text": [
            "1.0: 0.0, 1.0: 0.0, 1.0: 0.0, 1.0: 0.0, 1.0: 0.0, 0.0: 1.0, 1.0: 0.0, 1.0: 0.0, 1.0: 0.0, 1.0: 0.0, 1.0: 0.0, 0.0: 1.0, 1.0: 0.0, 1.0: 0.0, 1.0: 0.0, 0.0: 1.0, 1.0: 0.0, 1.0: 0.0, 1.0: 0.0, "
          ]
        },
        {
          "output_type": "stream",
          "name": "stderr",
          "text": [
            "1000it [00:06, 192.34it/s]"
          ]
        },
        {
          "output_type": "stream",
          "name": "stdout",
          "text": [
            "1.0: 0.0, 1.0: 0.0, 1.0: 0.0, 1.0: 0.0, 1.0: 0.0, 0.0: 1.0, 1.0: 0.0, 1.0: 0.0, 1.0: 0.0, 1.0: 0.0, 1.0: 0.0, 1.0: 0.0, 1.0: 0.0, 1.0: 0.0, 0.0: 1.0, 1.0: 0.0, 1.0: 0.0, 0.0: 1.0, 0.0: 1.0, "
          ]
        },
        {
          "output_type": "stream",
          "name": "stderr",
          "text": [
            "1024it [00:06, 161.78it/s]\n"
          ]
        },
        {
          "output_type": "stream",
          "name": "stdout",
          "text": [
            "1.0: 0.0, 0.0: 1.0, 1.0: 0.0, 1.0: 0.0, 1.0: 0.0, 1.0: 0.0, 1.0: 0.0, 1.0: 0.0, 0.0: 1.0, 1.0: 0.0, 0.0: 1.0, 1.0: 0.0, \n",
            "Epoch 050: | Loss: 0.72950 | Acc: 56.641\n",
            "\n"
          ]
        },
        {
          "output_type": "stream",
          "name": "stderr",
          "text": [
            "21it [00:00, 209.37it/s]"
          ]
        },
        {
          "output_type": "stream",
          "name": "stdout",
          "text": [
            "0.0: 1.0, 1.0: 0.0, 0.0: 1.0, 1.0: 0.0, 1.0: 0.0, 1.0: 0.0, 1.0: 0.0, 1.0: 0.0, "
          ]
        },
        {
          "output_type": "stream",
          "name": "stderr",
          "text": [
            "64it [00:00, 123.37it/s]"
          ]
        },
        {
          "output_type": "stream",
          "name": "stdout",
          "text": [
            "1.0: 0.0, 1.0: 0.0, 0.0: 1.0, 1.0: 0.0, 1.0: 0.0, 0.0: 1.0, 1.0: 0.0, 1.0: 0.0, 1.0: 0.0, 1.0: 0.0, 0.0: 1.0, 1.0: 0.0, 0.0: 1.0, 1.0: 0.0, 1.0: 0.0, 1.0: 0.0, 1.0: 0.0, "
          ]
        },
        {
          "output_type": "stream",
          "name": "stderr",
          "text": [
            "114it [00:00, 181.97it/s]"
          ]
        },
        {
          "output_type": "stream",
          "name": "stdout",
          "text": [
            "0.0: 1.0, 1.0: 0.0, 1.0: 0.0, 1.0: 0.0, 1.0: 0.0, 0.0: 1.0, 1.0: 0.0, 1.0: 0.0, 1.0: 0.0, 1.0: 0.0, 0.0: 1.0, 1.0: 0.0, 0.0: 1.0, 1.0: 0.0, 1.0: 0.0, 1.0: 0.0, 1.0: "
          ]
        },
        {
          "output_type": "stream",
          "name": "stderr",
          "text": [
            "159it [00:00, 200.62it/s]"
          ]
        },
        {
          "output_type": "stream",
          "name": "stdout",
          "text": [
            "0.0, 1.0: 0.0, 1.0: 0.0, 1.0: 0.0, 1.0: 0.0, 1.0: 0.0, 1.0: 0.0, 1.0: 0.0, 1.0: 0.0, 1.0: 0.0, 1.0: 0.0, 1.0: 0.0, 1.0: 0.0, 1.0: 0.0, 1.0: 0.0, 1.0: 0.0, 1.0: 0.0, 1.0: 0.0, 1.0: 0.0, 1.0: 0.0, 1.0: 0.0, 1.0: 0.0, 1.0: 0.0, 1.0: 0.0, 1.0: 0.0, 0.0: 1.0"
          ]
        },
        {
          "output_type": "stream",
          "name": "stderr",
          "text": [
            "204it [00:01, 208.17it/s]"
          ]
        },
        {
          "output_type": "stream",
          "name": "stdout",
          "text": [
            ", 1.0: 0.0, 1.0: 0.0, 1.0: 0.0, 1.0: 0.0, 1.0: 0.0, 1.0: 0.0, 1.0: 0.0, 1.0: 0.0, 1.0: 0.0, 1.0: 0.0, 1.0: 0.0, 1.0: 0.0, 1.0: 0.0, 1.0: 0.0, 1.0: 0.0, 1.0: 0.0, 1.0: 0.0, 1.0: 0.0, 1.0: 0.0, 1.0: 0.0, 1.0: 0.0, 1.0: 0.0, 0.0: 1.0, 1.0: 0.0, 1.0: 0.0, 1.0: 0.0, 1.0: 0.0, "
          ]
        },
        {
          "output_type": "stream",
          "name": "stderr",
          "text": [
            "250it [00:01, 217.26it/s]"
          ]
        },
        {
          "output_type": "stream",
          "name": "stdout",
          "text": [
            "0.0: 1.0, 1.0: 0.0, 1.0: 0.0, 1.0: 0.0, 1.0: 0.0, 1.0: 0.0, 1.0: 0.0, 1.0: 0.0, 1.0: 0.0, 1.0: 0.0, 1.0: 0.0, 1.0: 0.0, 1.0: 0.0, 1.0: 0.0, 1.0: 0.0, 1.0: 0.0, 1.0: 0.0, 1.0: 0.0, 1.0: 0.0, 1.0: 0.0, 1.0: 0.0, 1.0: 0.0, "
          ]
        },
        {
          "output_type": "stream",
          "name": "stderr",
          "text": [
            "\r273it [00:01, 176.18it/s]"
          ]
        },
        {
          "output_type": "stream",
          "name": "stdout",
          "text": [
            "1.0: 0.0, 1.0: 0.0, 1.0: 0.0, 1.0: 0.0, 1.0: 0.0, 1.0: 0.0, 1.0: 0.0, 1.0: 0.0, 1.0: 0.0, "
          ]
        },
        {
          "output_type": "stream",
          "name": "stderr",
          "text": [
            "315it [00:02, 96.06it/s]"
          ]
        },
        {
          "output_type": "stream",
          "name": "stdout",
          "text": [
            "1.0: 0.0, 1.0: 0.0, 1.0: 0.0, 1.0: 0.0, 1.0: 0.0, 1.0: 0.0, 1.0: 0.0, 1.0: 0.0, 0.0: 1.0, 0.0: 1.0, 1.0: 0.0, 1.0: 0.0, 1.0: 0.0, 1.0: 0.0, 1.0: 0.0, 1.0: 0.0, 1.0: 0.0, 1.0: 0.0, 1.0: 0.0, 1.0: 0.0, 1.0: 0.0, 1.0: 0.0, 1.0: 0.0, 1.0: 0.0, 1.0: 0.0, "
          ]
        },
        {
          "output_type": "stream",
          "name": "stderr",
          "text": [
            "356it [00:02, 129.76it/s]"
          ]
        },
        {
          "output_type": "stream",
          "name": "stdout",
          "text": [
            "1.0: 0.0, 1.0: 0.0, 1.0: 0.0, 1.0: 0.0, 1.0: 0.0, 1.0: 0.0, 1.0: 0.0, 1.0: 0.0, 1.0: 0.0, 1.0: 0.0, 1.0: 0.0, 1.0: 0.0, 1.0: 0.0, 1.0: 0.0, 1.0: 0.0, 1.0: 0.0, 1.0: 0.0, 1.0: 0.0, 1.0: 0.0, 1.0: 0.0, 1.0: 0.0, 1.0: 0.0, 1.0: 0.0, 1.0: 0.0, 1.0: 0.0, "
          ]
        },
        {
          "output_type": "stream",
          "name": "stderr",
          "text": [
            "401it [00:02, 167.01it/s]"
          ]
        },
        {
          "output_type": "stream",
          "name": "stdout",
          "text": [
            "1.0: 0.0, 1.0: 0.0, 1.0: 0.0, 1.0: 0.0, 1.0: 0.0, 1.0: 0.0, 1.0: 0.0, 1.0: 0.0, 1.0: 0.0, 1.0: 0.0, 1.0: 0.0, 0.0: 1.0, 1.0: 0.0, 1.0: 0.0, 1.0: 0.0, 1.0: 0.0, 1.0: 0.0, 1.0: 0.0, 1.0: 0.0, 1.0: 0.0, 0.0: 1.0, 1.0: 0.0, 1.0: 0.0, 1.0: 0.0, "
          ]
        },
        {
          "output_type": "stream",
          "name": "stderr",
          "text": [
            "447it [00:02, 193.53it/s]"
          ]
        },
        {
          "output_type": "stream",
          "name": "stdout",
          "text": [
            "1.0: 0.0, 1.0: 0.0, 1.0: 0.0, 1.0: 0.0, 1.0: 0.0, 1.0: 0.0, 1.0: 0.0, 1.0: 0.0, 1.0: 0.0, 1.0: 0.0, 1.0: 0.0, 1.0: 0.0, 1.0: 0.0, 1.0: 0.0, 1.0: 0.0, 1.0: 0.0, 1.0: 0.0, 0.0: 1.0, 0.0: 1.0, 1.0: 0.0, 1.0: 0.0, 1.0: 0.0, 1.0: 0.0, "
          ]
        },
        {
          "output_type": "stream",
          "name": "stderr",
          "text": [
            "493it [00:03, 209.37it/s]"
          ]
        },
        {
          "output_type": "stream",
          "name": "stdout",
          "text": [
            "1.0: 0.0, 1.0: 0.0, 0.0: 1.0, 1.0: 0.0, 1.0: 0.0, 1.0: 0.0, 1.0: 0.0, 1.0: 0.0, 1.0: 0.0, 1.0: 0.0, 1.0: 0.0, 1.0: 0.0, 1.0: 0.0, 1.0: 0.0, 1.0: 0.0, 1.0: 0.0, "
          ]
        },
        {
          "output_type": "stream",
          "name": "stderr",
          "text": [
            "542it [00:03, 185.03it/s]"
          ]
        },
        {
          "output_type": "stream",
          "name": "stdout",
          "text": [
            "1.0: 0.0, 0.0: 1.0, 1.0: 0.0, 1.0: 0.0, 1.0: 0.0, 0.0: 1.0, 1.0: 0.0, 1.0: 0.0, 1.0: 0.0, 0.0: 1.0, 1.0: 0.0, 1.0: 0.0, 1.0: 0.0, 1.0: 0.0, 1.0: 0.0, 1.0: 0.0, 1.0: 0.0, 0.0: 1.0, 1.0: 0.0, 1.0: 0.0, 1.0: 0.0, "
          ]
        },
        {
          "output_type": "stream",
          "name": "stderr",
          "text": [
            "\r565it [00:03, 196.00it/s]"
          ]
        },
        {
          "output_type": "stream",
          "name": "stdout",
          "text": [
            "1.0: 0.0, 1.0: 0.0, 1.0: 0.0, 1.0: 0.0, 1.0: 0.0, 1.0: 0.0, 1.0: 0.0, 1.0: 0.0, 1.0: 0.0, 1.0: 0.0, 1.0: 0.0, 1.0: 0.0, 1.0: 0.0, "
          ]
        },
        {
          "output_type": "stream",
          "name": "stderr",
          "text": [
            "\r587it [00:04, 84.11it/s] "
          ]
        },
        {
          "output_type": "stream",
          "name": "stdout",
          "text": [
            "0.0: 1.0, 1.0: 0.0, 1.0: 0.0, 1.0: 0.0, 0.0: 1.0, 1.0: 0.0, 1.0: 0.0, 1.0: 0.0, 0.0: 1.0, 1.0: 0.0, 1.0: 0.0, 1.0: 0.0, 1.0: 0.0, 1.0: 0.0, 1.0: 0.0, 1.0: 0.0, 1.0: 0.0, "
          ]
        },
        {
          "output_type": "stream",
          "name": "stderr",
          "text": [
            "635it [00:04, 125.28it/s]"
          ]
        },
        {
          "output_type": "stream",
          "name": "stdout",
          "text": [
            "1.0: 0.0, 1.0: 0.0, 1.0: 0.0, 1.0: 0.0, 1.0: 0.0, 1.0: 0.0, 0.0: 1.0, 1.0: 0.0, 0.0: 1.0, 1.0: 0.0, 1.0: 0.0, 1.0: 0.0, 1.0: 0.0, 1.0: 0.0, 1.0: 0.0, 1.0: 0.0, 1.0: 0.0, 1.0: 0.0, "
          ]
        },
        {
          "output_type": "stream",
          "name": "stderr",
          "text": [
            "681it [00:04, 159.05it/s]"
          ]
        },
        {
          "output_type": "stream",
          "name": "stdout",
          "text": [
            "1.0: 0.0, 0.0: 1.0, 1.0: 0.0, 1.0: 0.0, 1.0: 0.0, 1.0: 0.0, 1.0: 0.0, 1.0: 0.0, 1.0: 0.0, 1.0: 0.0, 0.0: 1.0, 1.0: 0.0, 1.0: 0.0, 1.0: 0.0, 0.0: 1.0, 1.0: 0.0, 1.0: 0.0, 1.0: 0.0, 1.0: 0.0, 1.0: 0.0, 1.0: 0.0, 1.0: 0.0, "
          ]
        },
        {
          "output_type": "stream",
          "name": "stderr",
          "text": [
            "753it [00:04, 202.11it/s]"
          ]
        },
        {
          "output_type": "stream",
          "name": "stdout",
          "text": [
            "1.0: 0.0, 0.0: 1.0, 1.0: 0.0, 1.0: 0.0, 1.0: 0.0, 1.0: 0.0, 1.0: 0.0, 0.0: 1.0, 1.0: 0.0, 1.0: 0.0, 0.0: 1.0, 1.0: 0.0, 1.0: 0.0, 1.0: 0.0, 1.0: 0.0, "
          ]
        },
        {
          "output_type": "stream",
          "name": "stderr",
          "text": [
            "800it [00:05, 213.12it/s]"
          ]
        },
        {
          "output_type": "stream",
          "name": "stdout",
          "text": [
            "1.0: 0.0, 1.0: 0.0, 0.0: 1.0, 1.0: 0.0, 1.0: 0.0, 1.0: 0.0, 1.0: 0.0, 1.0: 0.0, 1.0: 0.0, 1.0: 0.0, 1.0: 0.0, 1.0: 0.0, 1.0: 0.0, 0.0: 1.0, 0.0: 1.0, 1.0: 0.0, 1.0: 0.0, 1.0: 0.0, 0.0: 1.0, 1.0: 0.0, "
          ]
        },
        {
          "output_type": "stream",
          "name": "stderr",
          "text": [
            "\r823it [00:05, 213.83it/s]"
          ]
        },
        {
          "output_type": "stream",
          "name": "stdout",
          "text": [
            "0.0: 1.0, 1.0: 0.0, 1.0: 0.0, 1.0: 0.0, 1.0: 0.0, 1.0: 0.0, 1.0: 0.0, 1.0: 0.0, "
          ]
        },
        {
          "output_type": "stream",
          "name": "stderr",
          "text": [
            "872it [00:05, 173.28it/s]"
          ]
        },
        {
          "output_type": "stream",
          "name": "stdout",
          "text": [
            "1.0: 0.0, 1.0: 0.0, 0.0: 1.0, 0.0: 1.0, 0.0: 1.0, 0.0: 1.0, 1.0: 0.0, 1.0: 0.0, 1.0: 0.0, 1.0: 0.0, 1.0: 0.0, 1.0: 0.0, 0.0: 1.0, 1.0: 0.0, 1.0: 0.0, 1.0: 0.0, 1.0: 0.0, 0.0: 1.0, 0.0: 1.0, 1.0: 0.0, 1.0: 0.0, 1.0: 0.0, "
          ]
        },
        {
          "output_type": "stream",
          "name": "stderr",
          "text": [
            "918it [00:06, 98.28it/s]"
          ]
        },
        {
          "output_type": "stream",
          "name": "stdout",
          "text": [
            "0.0: 1.0, 1.0: 0.0, 1.0: 0.0, 1.0: 0.0, 1.0: 0.0, 1.0: 0.0, 1.0: 0.0, 0.0: 1.0, 1.0: 0.0, 1.0: 0.0, 1.0: 0.0, 0.0: 1.0, 1.0: 0.0, 1.0: 0.0, 1.0: 0.0, 1.0: 0.0, 1.0: 0.0, 1.0: 0.0, 1.0: 0.0, "
          ]
        },
        {
          "output_type": "stream",
          "name": "stderr",
          "text": [
            "967it [00:06, 143.30it/s]"
          ]
        },
        {
          "output_type": "stream",
          "name": "stdout",
          "text": [
            "1.0: 0.0, 1.0: 0.0, 1.0: 0.0, 1.0: 0.0, 0.0: 1.0, 1.0: 0.0, 1.0: 0.0, 1.0: 0.0, 1.0: 0.0, 1.0: 0.0, 1.0: 0.0, 1.0: 0.0, 1.0: 0.0, 1.0: 0.0, 1.0: 0.0, 1.0: 0.0, 1.0: 0.0, 0.0: 1.0, 1.0: 0.0, 1.0: 0.0, "
          ]
        },
        {
          "output_type": "stream",
          "name": "stderr",
          "text": [
            "1014it [00:07, 92.60it/s]"
          ]
        },
        {
          "output_type": "stream",
          "name": "stdout",
          "text": [
            "1.0: 0.0, 1.0: 0.0, 1.0: 0.0, 1.0: 0.0, 1.0: 0.0, 1.0: 0.0, 1.0: 0.0, 1.0: 0.0, 1.0: 0.0, 1.0: 0.0, 0.0: 1.0, 0.0: 1.0, 1.0: 0.0, 1.0: 0.0, 0.0: 1.0, 1.0: 0.0, 1.0: 0.0, 1.0: 0.0, 1.0: 0.0, 1.0: 0.0, 1.0: 0.0, "
          ]
        },
        {
          "output_type": "stream",
          "name": "stderr",
          "text": [
            "\r1024it [00:07, 138.61it/s]\n"
          ]
        },
        {
          "output_type": "stream",
          "name": "stdout",
          "text": [
            "1.0: 0.0, 1.0: 0.0, 1.0: 0.0, \n",
            "Epoch 051: | Loss: 0.73737 | Acc: 55.371\n",
            "\n"
          ]
        },
        {
          "output_type": "stream",
          "name": "stderr",
          "text": [
            "21it [00:00, 209.72it/s]"
          ]
        },
        {
          "output_type": "stream",
          "name": "stdout",
          "text": [
            "1.0: 0.0, 1.0: 0.0, 1.0: 0.0, 1.0: 0.0, 1.0: 0.0, 1.0: 0.0, 1.0: 0.0, 1.0: 0.0, 1.0: 0.0, 1.0: "
          ]
        },
        {
          "output_type": "stream",
          "name": "stderr",
          "text": [
            "\r42it [00:00, 209.25it/s]"
          ]
        },
        {
          "output_type": "stream",
          "name": "stdout",
          "text": [
            "0.0, 1.0: 0.0, 1.0: 0.0, 1.0: 0.0, 1.0: 0.0, 1.0: 0.0, 1.0: 0.0, "
          ]
        },
        {
          "output_type": "stream",
          "name": "stderr",
          "text": [
            "\r67it [00:00, 227.79it/s]"
          ]
        },
        {
          "output_type": "stream",
          "name": "stdout",
          "text": [
            "1.0: 0.0, 1.0: 0.0, 1.0: 0.0, 0.0: 1.0, 1.0: 0.0, 1.0: 0.0, 1.0: 0.0, 0.0: 1.0, 0.0: 1.0, 1.0: 0.0, "
          ]
        },
        {
          "output_type": "stream",
          "name": "stderr",
          "text": [
            "\r91it [00:00, 230.06it/s]"
          ]
        },
        {
          "output_type": "stream",
          "name": "stdout",
          "text": [
            "1.0: 0.0, 1.0: 0.0, 1.0: 0.0, 1.0: 0.0, "
          ]
        },
        {
          "output_type": "stream",
          "name": "stderr",
          "text": [
            "\r115it [00:00, 228.53it/s]"
          ]
        },
        {
          "output_type": "stream",
          "name": "stdout",
          "text": [
            "0.0: 1.0, 1.0: 0.0, 0.0: 1.0, 1.0: 0.0, 1.0: 0.0, 1.0: 0.0, 1.0: 0.0, 1.0: 0.0, 1.0: 0.0, 0.0: 1.0, 1.0: 0.0, 0.0: 1.0, 1.0: 0.0, 1.0: 0.0, 1.0: 0.0, 1.0: 0.0, 1.0: 0.0, "
          ]
        },
        {
          "output_type": "stream",
          "name": "stderr",
          "text": [
            "\r138it [00:00, 219.42it/s]"
          ]
        },
        {
          "output_type": "stream",
          "name": "stdout",
          "text": [
            "1.0: 0.0, 1.0: 0.0, 1.0: 0.0, 1.0: 0.0, "
          ]
        },
        {
          "output_type": "stream",
          "name": "stderr",
          "text": [
            "183it [00:00, 218.15it/s]"
          ]
        },
        {
          "output_type": "stream",
          "name": "stdout",
          "text": [
            "1.0: 0.0, 1.0: 0.0, 0.0: 1.0, 1.0: 0.0, 1.0: 0.0, 1.0: 0.0, 1.0: 0.0, 1.0: 0.0, 1.0: 0.0, 1.0: 0.0, 1.0: 0.0, 1.0: 0.0, 1.0: 0.0, 1.0: 0.0, 1.0: 0.0, 1.0: 0.0, 1.0: 0.0, 1.0: 0.0, 1.0: 0.0, 1.0: 0.0, 1.0: 0.0, 1.0: 0.0, 0.0: 1.0, 1.0: 0.0, 1.0: 0.0, "
          ]
        },
        {
          "output_type": "stream",
          "name": "stderr",
          "text": [
            "\r205it [00:01, 132.96it/s]"
          ]
        },
        {
          "output_type": "stream",
          "name": "stdout",
          "text": [
            "1.0: 0.0, 1.0: 0.0, 1.0: 0.0, 1.0: 0.0, 1.0: 0.0, 1.0: 0.0, 1.0: 0.0, 1.0: 0.0, 1.0: 0.0, 0.0: 1.0, 1.0: 0.0, 1.0: 0.0, 1.0: 0.0, 1.0: 0.0, "
          ]
        },
        {
          "output_type": "stream",
          "name": "stderr",
          "text": [
            "247it [00:01, 88.69it/s]"
          ]
        },
        {
          "output_type": "stream",
          "name": "stdout",
          "text": [
            "0.0: 1.0, 1.0: 0.0, 1.0: 0.0, 1.0: 0.0, 1.0: 0.0, 1.0: 0.0, 1.0: 0.0, 1.0: 0.0, 1.0: 0.0, 1.0: 0.0, 0.0: 1.0, 1.0: 0.0, 1.0: 0.0, 1.0: 0.0, 1.0: 0.0, 1.0: 0.0, 1.0: 0.0, 1.0: 0.0, 1.0: 0.0, 1.0: 0.0, 1.0: 0.0, 1.0: 0.0, 1.0: 0.0, "
          ]
        },
        {
          "output_type": "stream",
          "name": "stderr",
          "text": [
            "291it [00:02, 128.00it/s]"
          ]
        },
        {
          "output_type": "stream",
          "name": "stdout",
          "text": [
            "1.0: 0.0, 1.0: 0.0, 1.0: 0.0, 1.0: 0.0, 1.0: 0.0, 0.0: 1.0, 1.0: 0.0, 1.0: 0.0, 1.0: 0.0, 1.0: 0.0, 1.0: 0.0, 1.0: 0.0, 1.0: 0.0, 1.0: 0.0, 1.0: 0.0, 1.0: 0.0, 1.0: 0.0, 1.0: 0.0, 1.0: 0.0, 1.0: 0.0, 1.0: 0.0, 1.0: 0.0, 1.0: 0.0, 1.0: 0.0, 0.0: 1.0, "
          ]
        },
        {
          "output_type": "stream",
          "name": "stderr",
          "text": [
            "335it [00:02, 162.33it/s]"
          ]
        },
        {
          "output_type": "stream",
          "name": "stdout",
          "text": [
            "1.0: 0.0, 1.0: 0.0, 1.0: 0.0, 1.0: 0.0, 1.0: 0.0, 1.0: 0.0, 1.0: 0.0, 1.0: 0.0, 1.0: 0.0, 1.0: 0.0, 1.0: 0.0, 1.0: 0.0, 1.0: 0.0, 1.0: 0.0, 1.0: 0.0, 1.0: 0.0, 1.0: 0.0, 0.0: 1.0, 1.0: 0.0, 1.0: 0.0, 1.0: 0.0, 1.0: 0.0, 1.0: 0.0, 1.0: 0.0, "
          ]
        },
        {
          "output_type": "stream",
          "name": "stderr",
          "text": [
            "377it [00:02, 179.79it/s]"
          ]
        },
        {
          "output_type": "stream",
          "name": "stdout",
          "text": [
            "1.0: 0.0, 1.0: 0.0, 1.0: 0.0, 1.0: 0.0, 1.0: 0.0, 0.0: 1.0, 1.0: 0.0, 1.0: 0.0, 1.0: 0.0, 1.0: 0.0, 1.0: 0.0, 1.0: 0.0, 1.0: 0.0, 1.0: 0.0, 1.0: 0.0, 1.0: 0.0, 1.0: 0.0, 1.0: 0.0, 1.0: 0.0, 1.0: 0.0, 1.0: 0.0, 1.0: 0.0, 1.0: 0.0, 1.0: 0.0, 1.0: 0.0, 1.0: 0.0, 1.0: 0.0, 1.0: 0.0, "
          ]
        },
        {
          "output_type": "stream",
          "name": "stderr",
          "text": [
            "419it [00:02, 130.92it/s]"
          ]
        },
        {
          "output_type": "stream",
          "name": "stdout",
          "text": [
            "1.0: 0.0, 1.0: 0.0, 1.0: 0.0, 0.0: 1.0, 1.0: 0.0, 0.0: 1.0, 1.0: 0.0, 1.0: 0.0, 1.0: 0.0, 1.0: 0.0, 1.0: 0.0, 1.0: 0.0, 1.0: 0.0, 1.0: 0.0, 1.0: 0.0, 1.0: 0.0, 1.0: 0.0, 0.0: 1.0, 1.0: 0.0, 1.0: 0.0, 1.0: 0.0, 1.0: 0.0, "
          ]
        },
        {
          "output_type": "stream",
          "name": "stderr",
          "text": [
            "492it [00:03, 190.15it/s]"
          ]
        },
        {
          "output_type": "stream",
          "name": "stdout",
          "text": [
            "1.0: 0.0, 1.0: 0.0, 1.0: 0.0, 1.0: 0.0, 1.0: 0.0, 1.0: 0.0, 1.0: 0.0, 1.0: 0.0, 1.0: 0.0, 1.0: 0.0, 1.0: 0.0, 0.0: 1.0, 1.0: 0.0, 1.0: 0.0, 1.0: 0.0, 1.0: 0.0, 1.0: 0.0, 1.0: 0.0, 1.0: 0.0, 1.0: 0.0, "
          ]
        },
        {
          "output_type": "stream",
          "name": "stderr",
          "text": [
            "540it [00:03, 211.10it/s]"
          ]
        },
        {
          "output_type": "stream",
          "name": "stdout",
          "text": [
            "1.0: 0.0, 1.0: 0.0, 1.0: 0.0, 1.0: 0.0, 1.0: 0.0, 1.0: 0.0, 0.0: 1.0, 0.0: 1.0, 1.0: 0.0, 1.0: 0.0, 0.0: 1.0, 1.0: 0.0, 1.0: 0.0, 1.0: 0.0, 1.0: 0.0, 1.0: 0.0, 0.0: 1.0, 1.0: 0.0, 1.0: 0.0, 1.0: 0.0, 1.0: 0.0, "
          ]
        },
        {
          "output_type": "stream",
          "name": "stderr",
          "text": [
            "588it [00:03, 223.14it/s]"
          ]
        },
        {
          "output_type": "stream",
          "name": "stdout",
          "text": [
            "1.0: 0.0, 1.0: 0.0, 1.0: 0.0, 1.0: 0.0, 0.0: 1.0, 1.0: 0.0, 1.0: 0.0, 0.0: 1.0, 1.0: 0.0, 1.0: 0.0, 1.0: 0.0, 1.0: 0.0, 1.0: 0.0, 0.0: 1.0, 1.0: 0.0, 1.0: 0.0, 0.0: 1.0, 1.0: 0.0, 1.0: 0.0, 0.0: 1.0, 1.0: 0.0, 1.0: 0.0, "
          ]
        },
        {
          "output_type": "stream",
          "name": "stderr",
          "text": [
            "636it [00:03, 228.11it/s]"
          ]
        },
        {
          "output_type": "stream",
          "name": "stdout",
          "text": [
            "1.0: 0.0, 1.0: 0.0, 1.0: 0.0, 1.0: 0.0, 1.0: 0.0, 1.0: 0.0, 1.0: 0.0, 1.0: 0.0, 1.0: 0.0, 1.0: 0.0, 1.0: 0.0, 1.0: 0.0, 1.0: 0.0, 1.0: 0.0, 1.0: 0.0, 1.0: 0.0, 1.0: 0.0, 1.0: 0.0, 1.0: 0.0, 1.0: 0.0, "
          ]
        },
        {
          "output_type": "stream",
          "name": "stderr",
          "text": [
            "683it [00:04, 196.17it/s]"
          ]
        },
        {
          "output_type": "stream",
          "name": "stdout",
          "text": [
            "1.0: 0.0, 1.0: 0.0, 1.0: 0.0, 1.0: 0.0, 1.0: 0.0, 0.0: 1.0, 1.0: 0.0, 1.0: 0.0, 1.0: 0.0, 1.0: 0.0, 1.0: 0.0, 1.0: 0.0, 1.0: 0.0, 1.0: 0.0, 1.0: 0.0, 1.0: 0.0, 1.0: 0.0, "
          ]
        },
        {
          "output_type": "stream",
          "name": "stderr",
          "text": [
            "727it [00:04, 99.01it/s]"
          ]
        },
        {
          "output_type": "stream",
          "name": "stdout",
          "text": [
            "1.0: 0.0, 0.0: 1.0, 1.0: 0.0, 1.0: 0.0, 1.0: 0.0, 1.0: 0.0, 1.0: 0.0, 0.0: 1.0, 1.0: 0.0, 1.0: 0.0, 1.0: 0.0, 1.0: 0.0, 1.0: 0.0, 1.0: 0.0, 1.0: 0.0, 0.0: 1.0, 1.0: 0.0, 1.0: 0.0, 1.0: 0.0, 1.0: 0.0, "
          ]
        },
        {
          "output_type": "stream",
          "name": "stderr",
          "text": [
            "772it [00:05, 137.11it/s]"
          ]
        },
        {
          "output_type": "stream",
          "name": "stdout",
          "text": [
            "1.0: 0.0, 1.0: 0.0, 1.0: 0.0, 1.0: 0.0, 0.0: 1.0, 0.0: 1.0, 0.0: 1.0, 1.0: 0.0, 1.0: 0.0, 1.0: 0.0, 1.0: 0.0, 1.0: 0.0, 0.0: 1.0, 1.0: 0.0, 1.0: 0.0, 1.0: 0.0, 1.0: 0.0, 1.0: 0.0, 1.0: 0.0, 1.0: 0.0, "
          ]
        },
        {
          "output_type": "stream",
          "name": "stderr",
          "text": [
            "821it [00:05, 178.97it/s]"
          ]
        },
        {
          "output_type": "stream",
          "name": "stdout",
          "text": [
            "1.0: 0.0, 1.0: 0.0, 1.0: 0.0, 0.0: 1.0, 1.0: 0.0, 0.0: 1.0, 1.0: 0.0, 1.0: 0.0, 0.0: 1.0, 1.0: 0.0, 1.0: 0.0, 1.0: 0.0, 1.0: 0.0, 1.0: 0.0, 1.0: 0.0, 0.0: 1.0, 1.0: 0.0, 1.0: 0.0, 1.0: 0.0, 1.0: "
          ]
        },
        {
          "output_type": "stream",
          "name": "stderr",
          "text": [
            "871it [00:05, 208.09it/s]"
          ]
        },
        {
          "output_type": "stream",
          "name": "stdout",
          "text": [
            "0.0, 1.0: 0.0, 1.0: 0.0, 1.0: 0.0, 1.0: 0.0, 1.0: 0.0, 1.0: 0.0, 1.0: 0.0, 1.0: 0.0, 1.0: 0.0, 1.0: 0.0, 1.0: 0.0, 1.0: 0.0, 0.0: 1.0, 1.0: 0.0, 1.0: 0.0, 0.0: 1.0, 1.0: 0.0, 1.0: 0.0, "
          ]
        },
        {
          "output_type": "stream",
          "name": "stderr",
          "text": [
            "920it [00:05, 220.85it/s]"
          ]
        },
        {
          "output_type": "stream",
          "name": "stdout",
          "text": [
            "1.0: 0.0, 1.0: 0.0, 1.0: 0.0, 1.0: 0.0, 1.0: 0.0, 0.0: 1.0, 0.0: 1.0, 1.0: 0.0, 1.0: 0.0, 0.0: 1.0, 1.0: 0.0, 1.0: 0.0, 1.0: 0.0, "
          ]
        },
        {
          "output_type": "stream",
          "name": "stderr",
          "text": [
            "\r944it [00:05, 169.62it/s]"
          ]
        },
        {
          "output_type": "stream",
          "name": "stdout",
          "text": [
            "1.0: 0.0, 1.0: 0.0, 1.0: 0.0, 1.0: 0.0, 0.0: 1.0, 1.0: 0.0, 0.0: 1.0, 1.0: 0.0, 1.0: 0.0, 1.0: 0.0, 1.0: 0.0, 1.0: 0.0, 1.0: 0.0, 1.0: 0.0, 1.0: 0.0, 1.0: 0.0, 0.0: 1.0, 1.0: "
          ]
        },
        {
          "output_type": "stream",
          "name": "stderr",
          "text": [
            "991it [00:06, 192.61it/s]"
          ]
        },
        {
          "output_type": "stream",
          "name": "stdout",
          "text": [
            "0.0, 0.0: 1.0, 1.0: 0.0, 1.0: 0.0, 1.0: 0.0, 0.0: 1.0, 0.0: 1.0, 1.0: 0.0, 1.0: 0.0, 1.0: 0.0, 1.0: 0.0, 1.0: 0.0, 1.0: 0.0, 1.0: 0.0, 1.0: 0.0, 0.0: 1.0, 1.0: 0.0, 1.0: 0.0, 1.0: 0.0, "
          ]
        },
        {
          "output_type": "stream",
          "name": "stderr",
          "text": [
            "1024it [00:06, 163.67it/s]\n"
          ]
        },
        {
          "output_type": "stream",
          "name": "stdout",
          "text": [
            "1.0: 0.0, 0.0: 1.0, 1.0: 0.0, 1.0: 0.0, \n",
            "Epoch 052: | Loss: 0.72913 | Acc: 56.738\n",
            "\n"
          ]
        },
        {
          "output_type": "stream",
          "name": "stderr",
          "text": [
            "21it [00:00, 208.08it/s]"
          ]
        },
        {
          "output_type": "stream",
          "name": "stdout",
          "text": [
            "1.0: 0.0, 0.0: 1.0, 1.0: 0.0, 1.0: 0.0, 0.0: 1.0, 1.0: 0.0, 1.0: 0.0, 1.0: 0.0, 1.0: 0.0, 1.0: 0.0, "
          ]
        },
        {
          "output_type": "stream",
          "name": "stderr",
          "text": [
            "\r43it [00:00, 212.85it/s]"
          ]
        },
        {
          "output_type": "stream",
          "name": "stdout",
          "text": [
            "1.0: 0.0, 1.0: 0.0, 1.0: 0.0, 1.0: 0.0, 1.0: 0.0, 1.0: 0.0, 0.0: 1.0, 1.0: 0.0, 0.0: 1.0, "
          ]
        },
        {
          "output_type": "stream",
          "name": "stderr",
          "text": [
            "\r65it [00:00, 214.92it/s]"
          ]
        },
        {
          "output_type": "stream",
          "name": "stdout",
          "text": [
            "1.0: 0.0, 1.0: 0.0, 1.0: 0.0, 0.0: 1.0, 1.0: 0.0, 1.0: 0.0, 1.0: 0.0, 1.0: 0.0, "
          ]
        },
        {
          "output_type": "stream",
          "name": "stderr",
          "text": [
            "\r89it [00:00, 223.24it/s]"
          ]
        },
        {
          "output_type": "stream",
          "name": "stdout",
          "text": [
            "1.0: 0.0, 1.0: 0.0, 1.0: 0.0, 1.0: 0.0, 0.0: 1.0, 1.0: 0.0, 1.0: 0.0, "
          ]
        },
        {
          "output_type": "stream",
          "name": "stderr",
          "text": [
            "137it [00:00, 227.85it/s]"
          ]
        },
        {
          "output_type": "stream",
          "name": "stdout",
          "text": [
            "1.0: 0.0, 0.0: 1.0, 1.0: 0.0, 1.0: 0.0, 1.0: 0.0, 1.0: 0.0, 1.0: 0.0, 1.0: 0.0, 1.0: 0.0, 0.0: 1.0, 1.0: 0.0, 1.0: 0.0, 1.0: 0.0, 1.0: 0.0, 1.0: 0.0, "
          ]
        },
        {
          "output_type": "stream",
          "name": "stderr",
          "text": [
            "\r160it [00:01, 68.04it/s] "
          ]
        },
        {
          "output_type": "stream",
          "name": "stdout",
          "text": [
            "1.0: 0.0, 1.0: 0.0, 1.0: 0.0, 0.0: 1.0, 1.0: 0.0, 1.0: 0.0, 0.0: 1.0, 1.0: 0.0, 1.0: 0.0, 1.0: 0.0, 0.0: 1.0, 1.0: 0.0, 1.0: 0.0, 1.0: 0.0, "
          ]
        },
        {
          "output_type": "stream",
          "name": "stderr",
          "text": [
            "202it [00:01, 89.63it/s]"
          ]
        },
        {
          "output_type": "stream",
          "name": "stdout",
          "text": [
            "1.0: 0.0, 1.0: 0.0, 1.0: 0.0, 1.0: 0.0, 1.0: 0.0, 0.0: 1.0, 1.0: 0.0, 1.0: 0.0, 1.0: 0.0, 1.0: 0.0, 1.0: 0.0, 0.0: 1.0, 1.0: 0.0, 1.0: 0.0, 1.0: 0.0, 1.0: 0.0, 1.0: 0.0, 1.0: 0.0, 1.0: 0.0, 1.0: 0.0, 1.0: 0.0, 1.0: 0.0, 1.0: 0.0, 1.0: 0.0, 1.0: 0.0, "
          ]
        },
        {
          "output_type": "stream",
          "name": "stderr",
          "text": [
            "242it [00:02, 72.72it/s]"
          ]
        },
        {
          "output_type": "stream",
          "name": "stdout",
          "text": [
            "1.0: 0.0, 1.0: 0.0, 1.0: 0.0, 1.0: 0.0, 1.0: 0.0, 1.0: 0.0, 1.0: 0.0, 1.0: 0.0, 1.0: 0.0, 1.0: 0.0, 1.0: 0.0, 1.0: 0.0, 0.0: 1.0, 1.0: 0.0, 1.0: 0.0, 1.0: 0.0, 1.0: 0.0, 1.0: 0.0, 1.0: 0.0, 1.0: 0.0, 1.0: 0.0, "
          ]
        },
        {
          "output_type": "stream",
          "name": "stderr",
          "text": [
            "284it [00:02, 109.56it/s]"
          ]
        },
        {
          "output_type": "stream",
          "name": "stdout",
          "text": [
            "1.0: 0.0, 1.0: 0.0, 1.0: 0.0, 1.0: 0.0, 1.0: 0.0, 0.0: 1.0, 1.0: 0.0, 1.0: 0.0, 1.0: 0.0, 1.0: 0.0, 1.0: 0.0, 0.0: 1.0, 1.0: 0.0, 0.0: 1.0, 1.0: 0.0, 1.0: 0.0, 1.0: 0.0, 1.0: 0.0, 1.0: 0.0, 1.0: 0.0, 1.0: 0.0, 1.0: 0.0, 1.0: 0.0, 0.0: 1.0, 1.0: 0.0, 1.0: 0.0, 1.0: 0.0, "
          ]
        },
        {
          "output_type": "stream",
          "name": "stderr",
          "text": [
            "328it [00:03, 147.75it/s]"
          ]
        },
        {
          "output_type": "stream",
          "name": "stdout",
          "text": [
            "1.0: 0.0, 1.0: 0.0, 1.0: 0.0, 1.0: 0.0, 1.0: 0.0, 0.0: 1.0, 1.0: 0.0, 1.0: 0.0, 1.0: 0.0, 1.0: 0.0, 1.0: 0.0, 1.0: 0.0, 1.0: 0.0, 1.0: 0.0, 1.0: 0.0, 1.0: 0.0, 1.0: 0.0, 1.0: 0.0, 1.0: 0.0, 1.0: 0.0, 1.0: 0.0, 1.0: 0.0, 1.0: 0.0, 1.0: 0.0, "
          ]
        },
        {
          "output_type": "stream",
          "name": "stderr",
          "text": [
            "371it [00:03, 171.44it/s]"
          ]
        },
        {
          "output_type": "stream",
          "name": "stdout",
          "text": [
            "1.0: 0.0, 1.0: 0.0, 1.0: 0.0, 1.0: 0.0, 1.0: 0.0, 1.0: 0.0, 1.0: 0.0, 1.0: 0.0, 1.0: 0.0, 1.0: 0.0, 1.0: 0.0, 1.0: 0.0, 1.0: 0.0, 1.0: 0.0, 1.0: 0.0, 1.0: 0.0, 1.0: 0.0, 1.0: 0.0, 1.0: 0.0, 1.0: 0.0, 1.0: 0.0, 0.0: 1.0, 1.0: 0.0, 1.0: 0.0, 1.0: 0.0, 1.0: 0.0, 1.0: 0.0, "
          ]
        },
        {
          "output_type": "stream",
          "name": "stderr",
          "text": [
            "418it [00:03, 200.60it/s]"
          ]
        },
        {
          "output_type": "stream",
          "name": "stdout",
          "text": [
            "1.0: 0.0, 0.0: 1.0, 1.0: 0.0, 1.0: 0.0, 1.0: 0.0, 1.0: 0.0, 1.0: 0.0, 1.0: 0.0, 1.0: 0.0, 1.0: 0.0, 1.0: 0.0, 1.0: 0.0, 1.0: 0.0, 1.0: 0.0, 1.0: 0.0, 0.0: 1.0, 1.0: 0.0, 1.0: 0.0, 1.0: 0.0, 1.0: 0.0, 1.0: 0.0, 1.0: 0.0, 1.0: 0.0, 1.0: 0.0, 1.0: 0.0, 1.0: 0.0, 1.0: 0.0, 1.0: 0.0, "
          ]
        },
        {
          "output_type": "stream",
          "name": "stderr",
          "text": [
            "488it [00:03, 166.04it/s]"
          ]
        },
        {
          "output_type": "stream",
          "name": "stdout",
          "text": [
            "1.0: 0.0, 0.0: 1.0, 1.0: 0.0, 1.0: 0.0, 1.0: 0.0, 1.0: 0.0, 1.0: 0.0, 1.0: 0.0, 1.0: 0.0, 1.0: 0.0, 1.0: 0.0, 1.0: 0.0, 1.0: 0.0, 1.0: 0.0, 1.0: 0.0, 1.0: 0.0, 1.0: 0.0, 1.0: 0.0, "
          ]
        },
        {
          "output_type": "stream",
          "name": "stderr",
          "text": [
            "535it [00:04, 194.72it/s]"
          ]
        },
        {
          "output_type": "stream",
          "name": "stdout",
          "text": [
            "1.0: 0.0, 1.0: 0.0, 1.0: 0.0, 1.0: 0.0, 1.0: 0.0, 1.0: 0.0, 1.0: 0.0, 1.0: 0.0, 1.0: 0.0, 0.0: 1.0, 1.0: 0.0, 0.0: 1.0, 1.0: 0.0, 1.0: 0.0, 0.0: 1.0, 1.0: 0.0, 1.0: 0.0, 1.0: 0.0, "
          ]
        },
        {
          "output_type": "stream",
          "name": "stderr",
          "text": [
            "582it [00:04, 212.39it/s]"
          ]
        },
        {
          "output_type": "stream",
          "name": "stdout",
          "text": [
            "1.0: 0.0, 1.0: 0.0, 1.0: 0.0, 1.0: 0.0, 1.0: 0.0, 1.0: 0.0, 1.0: 0.0, 1.0: 0.0, 1.0: 0.0, 1.0: 0.0, 1.0: 0.0, 0.0: 1.0, 1.0: 0.0, 1.0: 0.0, 1.0: 0.0, 0.0: 1.0, 1.0: 0.0, 1.0: 0.0, "
          ]
        },
        {
          "output_type": "stream",
          "name": "stderr",
          "text": [
            "631it [00:04, 227.73it/s]"
          ]
        },
        {
          "output_type": "stream",
          "name": "stdout",
          "text": [
            "1.0: 0.0, 1.0: 0.0, 1.0: 0.0, 1.0: 0.0, 1.0: 0.0, 1.0: 0.0, 1.0: 0.0, 1.0: 0.0, 1.0: 0.0, 1.0: 0.0, 1.0: 0.0, 1.0: 0.0, 1.0: 0.0, 1.0: 0.0, 1.0: 0.0, 1.0: 0.0, 1.0: 0.0, "
          ]
        },
        {
          "output_type": "stream",
          "name": "stderr",
          "text": [
            "676it [00:04, 183.51it/s]"
          ]
        },
        {
          "output_type": "stream",
          "name": "stdout",
          "text": [
            "1.0: 0.0, 1.0: 0.0, 0.0: 1.0, 0.0: 1.0, 1.0: 0.0, 1.0: 0.0, 1.0: 0.0, 0.0: 1.0, 1.0: 0.0, 0.0: 1.0, 1.0: 0.0, 1.0: 0.0, 1.0: 0.0, 0.0: 1.0, 0.0: 1.0, 1.0: 0.0, 1.0: 0.0, 1.0: 0.0, 1.0: 0.0, 1.0: 0.0, "
          ]
        },
        {
          "output_type": "stream",
          "name": "stderr",
          "text": [
            "\r700it [00:04, 197.65it/s]"
          ]
        },
        {
          "output_type": "stream",
          "name": "stdout",
          "text": [
            "0.0: 1.0, 1.0: 0.0, 1.0: 0.0, 1.0: 0.0, 1.0: 0.0, 1.0: 0.0, 1.0: 0.0, 1.0: 0.0, 1.0: 0.0, "
          ]
        },
        {
          "output_type": "stream",
          "name": "stderr",
          "text": [
            "746it [00:05, 104.84it/s]"
          ]
        },
        {
          "output_type": "stream",
          "name": "stdout",
          "text": [
            "1.0: 0.0, 1.0: 0.0, 1.0: 0.0, 1.0: 0.0, 1.0: 0.0, 1.0: 0.0, 1.0: 0.0, 0.0: 1.0, 1.0: 0.0, 1.0: 0.0, 1.0: 0.0, 1.0: 0.0, 1.0: 0.0, 0.0: 1.0, 1.0: 0.0, 1.0: 0.0, 1.0: 0.0, "
          ]
        },
        {
          "output_type": "stream",
          "name": "stderr",
          "text": [
            "791it [00:05, 142.48it/s]"
          ]
        },
        {
          "output_type": "stream",
          "name": "stdout",
          "text": [
            "0.0: 1.0, 1.0: 0.0, 1.0: 0.0, 0.0: 1.0, 1.0: 0.0, 1.0: 0.0, 1.0: 0.0, 1.0: 0.0, 1.0: 0.0, 1.0: 0.0, 1.0: 0.0, 1.0: 0.0, 1.0: 0.0, 1.0: 0.0, 1.0: 0.0, 1.0: 0.0, 1.0: 0.0, "
          ]
        },
        {
          "output_type": "stream",
          "name": "stderr",
          "text": [
            "838it [00:06, 177.75it/s]"
          ]
        },
        {
          "output_type": "stream",
          "name": "stdout",
          "text": [
            "1.0: 0.0, 1.0: 0.0, 1.0: 0.0, 1.0: 0.0, 0.0: 1.0, 1.0: 0.0, 1.0: 0.0, 1.0: 0.0, 1.0: 0.0, 0.0: 1.0, 1.0: 0.0, 0.0: 1.0, 1.0: 0.0, 1.0: 0.0, 1.0: 0.0, 1.0: 0.0, 0.0: 1.0, 0.0: 1.0, 0.0: 1.0, 0.0: 1.0, 1.0: 0.0, 1.0: 0.0, "
          ]
        },
        {
          "output_type": "stream",
          "name": "stderr",
          "text": [
            "885it [00:06, 202.49it/s]"
          ]
        },
        {
          "output_type": "stream",
          "name": "stdout",
          "text": [
            "1.0: 0.0, 0.0: 1.0, 1.0: 0.0, 1.0: 0.0, 1.0: 0.0, 1.0: 0.0, 1.0: 0.0, 1.0: 0.0, 1.0: 0.0, 1.0: 0.0, 1.0: 0.0, 1.0: 0.0, 0.0: 1.0, 1.0: 0.0, 0.0: 1.0, 1.0: 0.0, 1.0: 0.0, 1.0: 0.0, 1.0: 0.0, "
          ]
        },
        {
          "output_type": "stream",
          "name": "stderr",
          "text": [
            "934it [00:06, 218.52it/s]"
          ]
        },
        {
          "output_type": "stream",
          "name": "stdout",
          "text": [
            "1.0: 0.0, 0.0: 1.0, 1.0: 0.0, 1.0: 0.0, 1.0: 0.0, 1.0: 0.0, 1.0: 0.0, 0.0: 1.0, 1.0: 0.0, 1.0: 0.0, 1.0: 0.0, 1.0: 0.0, 1.0: 0.0, 1.0: 0.0, 1.0: 0.0, 1.0: 0.0, 1.0: 0.0, 1.0: 0.0, 1.0: 0.0, 1.0: 0.0, 1.0: "
          ]
        },
        {
          "output_type": "stream",
          "name": "stderr",
          "text": [
            "\r958it [00:06, 216.50it/s]"
          ]
        },
        {
          "output_type": "stream",
          "name": "stdout",
          "text": [
            "0.0, 0.0: 1.0, 1.0: 0.0, 0.0: 1.0, 1.0: 0.0, 1.0: 0.0, 1.0: 0.0, 1.0: 0.0, 1.0: 0.0, 1.0: 0.0, 1.0: 0.0, 1.0: 0.0, "
          ]
        },
        {
          "output_type": "stream",
          "name": "stderr",
          "text": [
            "1004it [00:06, 160.83it/s]"
          ]
        },
        {
          "output_type": "stream",
          "name": "stdout",
          "text": [
            "1.0: 0.0, 1.0: 0.0, 1.0: 0.0, 1.0: 0.0, 1.0: 0.0, 1.0: 0.0, 1.0: 0.0, 1.0: 0.0, 1.0: 0.0, 1.0: 0.0, 1.0: 0.0, 1.0: 0.0, 1.0: 0.0, 1.0: 0.0, 1.0: 0.0, 1.0: 0.0, "
          ]
        },
        {
          "output_type": "stream",
          "name": "stderr",
          "text": [
            "\r1024it [00:07, 144.54it/s]\n"
          ]
        },
        {
          "output_type": "stream",
          "name": "stdout",
          "text": [
            "1.0: 0.0, 1.0: 0.0, 1.0: 0.0, 1.0: 0.0, 1.0: 0.0, 0.0: 1.0, 1.0: 0.0, 0.0: 1.0, 1.0: 0.0, \n",
            "Epoch 053: | Loss: 0.73132 | Acc: 56.348\n",
            "\n"
          ]
        },
        {
          "output_type": "stream",
          "name": "stderr",
          "text": [
            "23it [00:00, 226.81it/s]"
          ]
        },
        {
          "output_type": "stream",
          "name": "stdout",
          "text": [
            "1.0: 0.0, 1.0: 0.0, 1.0: 0.0, 1.0: 0.0, 1.0: 0.0, "
          ]
        },
        {
          "output_type": "stream",
          "name": "stderr",
          "text": [
            "\r46it [00:00, 218.67it/s]"
          ]
        },
        {
          "output_type": "stream",
          "name": "stdout",
          "text": [
            "1.0: 0.0, 1.0: 0.0, 1.0: 0.0, 1.0: 0.0, 1.0: 0.0, 1.0: 0.0, 1.0: 0.0, 1.0: 0.0, 0.0: 1.0, 1.0: 0.0, 1.0: 0.0, 1.0: 0.0, 1.0: 0.0, "
          ]
        },
        {
          "output_type": "stream",
          "name": "stderr",
          "text": [
            "95it [00:00, 235.56it/s]"
          ]
        },
        {
          "output_type": "stream",
          "name": "stdout",
          "text": [
            "0.0: 1.0, 1.0: 0.0, 1.0: 0.0, 1.0: 0.0, 1.0: 0.0, 1.0: 0.0, 1.0: 0.0, 1.0: 0.0, 1.0: 0.0, "
          ]
        },
        {
          "output_type": "stream",
          "name": "stderr",
          "text": [
            "141it [00:00, 177.04it/s]"
          ]
        },
        {
          "output_type": "stream",
          "name": "stdout",
          "text": [
            "1.0: 0.0, 1.0: 0.0, 1.0: 0.0, 1.0: 0.0, 1.0: 0.0, 0.0: 1.0, 1.0: 0.0, 1.0: 0.0, 1.0: 0.0, 1.0: 0.0, 0.0: 1.0, 1.0: 0.0, 1.0: 0.0, 1.0: 0.0, 1.0: 0.0, 1.0: 0.0, 1.0: 0.0, 1.0: 0.0, 1.0: 0.0, 1.0: 0.0, "
          ]
        },
        {
          "output_type": "stream",
          "name": "stderr",
          "text": [
            "185it [00:01, 94.33it/s]"
          ]
        },
        {
          "output_type": "stream",
          "name": "stdout",
          "text": [
            "1.0: 0.0, 1.0: 0.0, 1.0: 0.0, 1.0: 0.0, 1.0: 0.0, 1.0: 0.0, 1.0: 0.0, 1.0: 0.0, 1.0: 0.0, 1.0: 0.0, 1.0: 0.0, 1.0: 0.0, 1.0: 0.0, 1.0: 0.0, 1.0: 0.0, 1.0: 0.0, 1.0: 0.0, 0.0: 1.0, 1.0: 0.0, 1.0: 0.0, 1.0: 0.0, 1.0: 0.0, 1.0: 0.0, 1.0: 0.0, "
          ]
        },
        {
          "output_type": "stream",
          "name": "stderr",
          "text": [
            "228it [00:01, 132.61it/s]"
          ]
        },
        {
          "output_type": "stream",
          "name": "stdout",
          "text": [
            "1.0: 0.0, 0.0: 1.0, 1.0: 0.0, 1.0: 0.0, 1.0: 0.0, 1.0: 0.0, 1.0: 0.0, 1.0: 0.0, 1.0: 0.0, 1.0: 0.0, 1.0: 0.0, 1.0: 0.0, 1.0: 0.0, 1.0: 0.0, 1.0: 0.0, 1.0: 0.0, 1.0: 0.0, 1.0: 0.0, 1.0: 0.0, 1.0: 0.0, 1.0: 0.0, 1.0: 0.0, 1.0: 0.0, "
          ]
        },
        {
          "output_type": "stream",
          "name": "stderr",
          "text": [
            "273it [00:01, 166.14it/s]"
          ]
        },
        {
          "output_type": "stream",
          "name": "stdout",
          "text": [
            "1.0: 0.0, 1.0: 0.0, 1.0: 0.0, 1.0: 0.0, 0.0: 1.0, 1.0: 0.0, 1.0: 0.0, 0.0: 1.0, 1.0: 0.0, 1.0: 0.0, 1.0: 0.0, 1.0: 0.0, 1.0: 0.0, 1.0: 0.0, 1.0: 0.0, 1.0: 0.0, 1.0: 0.0, 1.0: 0.0, 1.0: 0.0, 1.0: 0.0, 1.0: 0.0, 1.0: 0.0, 1.0: 0.0, 1.0: "
          ]
        },
        {
          "output_type": "stream",
          "name": "stderr",
          "text": [
            "318it [00:02, 190.48it/s]"
          ]
        },
        {
          "output_type": "stream",
          "name": "stdout",
          "text": [
            "0.0, 1.0: 0.0, 1.0: 0.0, 1.0: 0.0, 1.0: 0.0, 1.0: 0.0, 1.0: 0.0, 1.0: 0.0, 1.0: 0.0, 1.0: 0.0, 1.0: 0.0, 1.0: 0.0, 1.0: 0.0, 1.0: 0.0, 1.0: 0.0, 1.0: 0.0, 1.0: 0.0, 1.0: 0.0, 0.0: 1.0, 1.0: 0.0, 1.0: 0.0, 1.0: 0.0, 1.0: 0.0, 0.0: 1.0, 1.0: 0.0, 0.0: 1.0, 1.0: 0.0, "
          ]
        },
        {
          "output_type": "stream",
          "name": "stderr",
          "text": [
            "363it [00:02, 203.21it/s]"
          ]
        },
        {
          "output_type": "stream",
          "name": "stdout",
          "text": [
            "1.0: 0.0, 1.0: 0.0, 1.0: 0.0, 0.0: 1.0, 1.0: 0.0, 1.0: 0.0, 1.0: 0.0, 1.0: 0.0, 1.0: 0.0, 1.0: 0.0, 0.0: 1.0, 1.0: 0.0, 1.0: 0.0, 1.0: 0.0, 1.0: 0.0, 1.0: 0.0, 1.0: 0.0, 1.0: 0.0, 1.0: 0.0, 1.0: 0.0, 1.0: 0.0, 1.0: 0.0, 0.0: 1.0, 1.0: 0.0, 1.0: 0.0, 1.0: 0.0, 1.0: 0.0, 1.0: 0.0, 1.0: 0.0, 1.0: 0.0, 1.0: 0.0, 1.0: 0.0, "
          ]
        },
        {
          "output_type": "stream",
          "name": "stderr",
          "text": [
            "\r385it [00:02, 205.34it/s]"
          ]
        },
        {
          "output_type": "stream",
          "name": "stdout",
          "text": [
            "0.0: 1.0, 1.0: 0.0, 1.0: 0.0, 1.0: 0.0, 1.0: 0.0, 1.0: 0.0, 1.0: 0.0, 1.0: 0.0, 1.0: 0.0, 1.0: 0.0, 0.0: 1.0, 1.0: 0.0, "
          ]
        },
        {
          "output_type": "stream",
          "name": "stderr",
          "text": [
            "426it [00:02, 152.18it/s]"
          ]
        },
        {
          "output_type": "stream",
          "name": "stdout",
          "text": [
            "1.0: 0.0, 1.0: 0.0, 1.0: 0.0, 1.0: 0.0, 1.0: 0.0, 1.0: 0.0, 1.0: 0.0, 1.0: 0.0, 1.0: 0.0, 1.0: 0.0, 1.0: 0.0, 1.0: 0.0, 1.0: 0.0, 1.0: 0.0, 1.0: 0.0, 1.0: 0.0, "
          ]
        },
        {
          "output_type": "stream",
          "name": "stderr",
          "text": [
            "472it [00:03, 183.76it/s]"
          ]
        },
        {
          "output_type": "stream",
          "name": "stdout",
          "text": [
            "1.0: 0.0, 1.0: 0.0, 1.0: 0.0, 1.0: 0.0, 1.0: 0.0, 0.0: 1.0, 1.0: 0.0, 1.0: 0.0, 1.0: 0.0, 0.0: 1.0, 1.0: 0.0, 1.0: 0.0, 0.0: 1.0, 0.0: 1.0, 1.0: 0.0, 1.0: 0.0, 1.0: 0.0, 1.0: 0.0, "
          ]
        },
        {
          "output_type": "stream",
          "name": "stderr",
          "text": [
            "518it [00:03, 203.05it/s]"
          ]
        },
        {
          "output_type": "stream",
          "name": "stdout",
          "text": [
            "0.0: 1.0, 1.0: 0.0, 1.0: 0.0, 1.0: 0.0, 1.0: 0.0, 1.0: 0.0, 1.0: 0.0, 1.0: 0.0, 1.0: 0.0, 1.0: 0.0, 1.0: 0.0, 1.0: 0.0, 1.0: 0.0, 1.0: 0.0, 1.0: 0.0, 0.0: 1.0, 0.0: 1.0, 1.0: 0.0, 1.0: 0.0, "
          ]
        },
        {
          "output_type": "stream",
          "name": "stderr",
          "text": [
            "\r540it [00:03, 202.86it/s]"
          ]
        },
        {
          "output_type": "stream",
          "name": "stdout",
          "text": [
            "1.0: 0.0, 0.0: 1.0, 1.0: 0.0, 1.0: 0.0, 1.0: 0.0, 1.0: 0.0, 0.0: 1.0, 1.0: 0.0, 1.0: 0.0, 1.0: 0.0, "
          ]
        },
        {
          "output_type": "stream",
          "name": "stderr",
          "text": [
            "584it [00:03, 163.43it/s]"
          ]
        },
        {
          "output_type": "stream",
          "name": "stdout",
          "text": [
            "1.0: 0.0, 1.0: 0.0, 1.0: 0.0, 1.0: 0.0, 1.0: 0.0, 1.0: 0.0, 1.0: 0.0, 1.0: 0.0, 1.0: 0.0, 1.0: 0.0, 1.0: 0.0, 1.0: 0.0, 1.0: 0.0, 0.0: 1.0, 0.0: 1.0, 1.0: 0.0, 1.0: 0.0, 0.0: 1.0, 1.0: 0.0, 1.0: 0.0, "
          ]
        },
        {
          "output_type": "stream",
          "name": "stderr",
          "text": [
            "629it [00:04, 80.60it/s] "
          ]
        },
        {
          "output_type": "stream",
          "name": "stdout",
          "text": [
            "1.0: 0.0, 1.0: 0.0, 1.0: 0.0, 1.0: 0.0, 1.0: 0.0, 1.0: 0.0, 1.0: 0.0, 1.0: 0.0, 1.0: 0.0, 1.0: 0.0, 1.0: 0.0, 1.0: 0.0, 1.0: 0.0, 1.0: 0.0, 1.0: 0.0, 1.0: 0.0, 1.0: 0.0, 1.0: 0.0, 1.0: 0.0, 1.0: 0.0, 1.0: 0.0, 0.0: 1.0, 0.0: 1.0, "
          ]
        },
        {
          "output_type": "stream",
          "name": "stderr",
          "text": [
            "675it [00:04, 119.96it/s]"
          ]
        },
        {
          "output_type": "stream",
          "name": "stdout",
          "text": [
            "1.0: 0.0, 1.0: 0.0, 0.0: 1.0, 0.0: 1.0, 1.0: 0.0, 0.0: 1.0, 1.0: 0.0, 1.0: 0.0, 1.0: 0.0, 1.0: 0.0, 1.0: 0.0, 1.0: 0.0, 1.0: 0.0, 1.0: 0.0, 1.0: 0.0, 0.0: 1.0, 1.0: 0.0, 1.0: 0.0, 0.0: 1.0, 1.0: 0.0, 1.0: 0.0, 1.0: "
          ]
        },
        {
          "output_type": "stream",
          "name": "stderr",
          "text": [
            "720it [00:04, 156.91it/s]"
          ]
        },
        {
          "output_type": "stream",
          "name": "stdout",
          "text": [
            "0.0, 1.0: 0.0, 1.0: 0.0, 1.0: 0.0, 0.0: 1.0, 1.0: 0.0, 1.0: 0.0, 1.0: 0.0, 1.0: 0.0, "
          ]
        },
        {
          "output_type": "stream",
          "name": "stderr",
          "text": [
            "765it [00:05, 96.85it/s]"
          ]
        },
        {
          "output_type": "stream",
          "name": "stdout",
          "text": [
            "0.0: 1.0, 1.0: 0.0, 1.0: 0.0, 1.0: 0.0, 1.0: 0.0, 0.0: 1.0, 1.0: 0.0, 1.0: 0.0, 1.0: 0.0, 1.0: 0.0, 1.0: 0.0, 1.0: 0.0, 0.0: 1.0, 0.0: 1.0, 1.0: 0.0, 1.0: 0.0, 1.0: 0.0, 1.0"
          ]
        },
        {
          "output_type": "stream",
          "name": "stderr",
          "text": [
            "811it [00:05, 137.46it/s]"
          ]
        },
        {
          "output_type": "stream",
          "name": "stdout",
          "text": [
            ": 0.0, 1.0: 0.0, 1.0: 0.0, 1.0: 0.0, 1.0: 0.0, 0.0: 1.0, 1.0: 0.0, 1.0: 0.0, 1.0: 0.0, 1.0: 0.0, 1.0: 0.0, 1.0: 0.0, 1.0: 0.0, 1.0: 0.0, 1.0: 0.0, 1.0: 0.0, 1.0: 0.0, "
          ]
        },
        {
          "output_type": "stream",
          "name": "stderr",
          "text": [
            "858it [00:05, 175.34it/s]"
          ]
        },
        {
          "output_type": "stream",
          "name": "stdout",
          "text": [
            "1.0: 0.0, 1.0: 0.0, 1.0: 0.0, 1.0: 0.0, 0.0: 1.0, 1.0: 0.0, 1.0: 0.0, 1.0: 0.0, 1.0: 0.0, 1.0: 0.0, 1.0: 0.0, 1.0: 0.0, 1.0: 0.0, 1.0: 0.0, 1.0: 0.0"
          ]
        },
        {
          "output_type": "stream",
          "name": "stderr",
          "text": [
            "904it [00:06, 197.76it/s]"
          ]
        },
        {
          "output_type": "stream",
          "name": "stdout",
          "text": [
            ", 1.0: 0.0, 1.0: 0.0, 0.0: 1.0, 1.0: 0.0, 1.0: 0.0, 1.0: 0.0, 1.0: 0.0, 1.0: 0.0, 0.0: 1.0, 1.0: 0.0, 0.0: 1.0, 1.0: 0.0, 1.0: 0.0, 1.0: 0.0, 1.0: 0.0, 1.0: 0.0, 1.0: 0.0, 1.0: 0.0, "
          ]
        },
        {
          "output_type": "stream",
          "name": "stderr",
          "text": [
            "952it [00:06, 215.63it/s]"
          ]
        },
        {
          "output_type": "stream",
          "name": "stdout",
          "text": [
            "1.0: 0.0, 0.0: 1.0, 1.0: 0.0, 1.0: 0.0, 1.0: 0.0, 1.0: 0.0, 1.0: 0.0, 1.0: 0.0, 1.0: 0.0, 1.0: 0.0, 1.0: 0.0, 1.0: 0.0, 1.0: 0.0, 1.0: 0.0, 0.0: 1.0, 1.0: 0.0, 1.0: 0.0, 1.0: 0.0, 1.0: 0.0, "
          ]
        },
        {
          "output_type": "stream",
          "name": "stderr",
          "text": [
            "997it [00:06, 186.49it/s]"
          ]
        },
        {
          "output_type": "stream",
          "name": "stdout",
          "text": [
            "1.0: 0.0, 1.0: 0.0, 1.0: 0.0, 1.0: 0.0, 1.0: 0.0, 1.0: 0.0, 1.0: 0.0, 1.0: 0.0, 1.0: 0.0, 1.0: 0.0, 1.0: 0.0, 1.0: 0.0, 1.0: 0.0, 1.0: 0.0, 0.0: 1.0, 1.0: 0.0, 1.0: 0.0, 1.0"
          ]
        },
        {
          "output_type": "stream",
          "name": "stderr",
          "text": [
            "\r1018it [00:06, 191.03it/s]"
          ]
        },
        {
          "output_type": "stream",
          "name": "stdout",
          "text": [
            ": 0.0, 0.0: 1.0, 1.0: 0.0, 1.0: 0.0, 1.0: 0.0, 1.0: 0.0, 1.0: 0.0, 1.0: 0.0, 1.0: 0.0, 1.0: 0.0, "
          ]
        },
        {
          "output_type": "stream",
          "name": "stderr",
          "text": [
            "\r1024it [00:07, 135.96it/s]\n"
          ]
        },
        {
          "output_type": "stream",
          "name": "stdout",
          "text": [
            "1.0: 0.0, 1.0: 0.0, 0.0: 1.0, \n",
            "Epoch 054: | Loss: 0.72825 | Acc: 57.031\n",
            "\n"
          ]
        },
        {
          "output_type": "stream",
          "name": "stderr",
          "text": [
            "6it [00:00, 56.39it/s]"
          ]
        },
        {
          "output_type": "stream",
          "name": "stdout",
          "text": [
            "1.0: 0.0, "
          ]
        },
        {
          "output_type": "stream",
          "name": "stderr",
          "text": [
            "\r12it [00:00, 44.75it/s]"
          ]
        },
        {
          "output_type": "stream",
          "name": "stdout",
          "text": [
            "1.0: 0.0, 1.0: 0.0, "
          ]
        },
        {
          "output_type": "stream",
          "name": "stderr",
          "text": [
            "\r17it [00:00, 42.76it/s]"
          ]
        },
        {
          "output_type": "stream",
          "name": "stdout",
          "text": [
            "1.0: 0.0, 1.0"
          ]
        },
        {
          "output_type": "stream",
          "name": "stderr",
          "text": [
            "\r22it [00:00, 40.46it/s]"
          ]
        },
        {
          "output_type": "stream",
          "name": "stdout",
          "text": [
            ": 0.0, 1.0: 0.0, 1.0: 0.0, "
          ]
        },
        {
          "output_type": "stream",
          "name": "stderr",
          "text": [
            "\r28it [00:00, 46.31it/s]"
          ]
        },
        {
          "output_type": "stream",
          "name": "stdout",
          "text": [
            "1.0: 0.0, 1.0: 0.0, 1.0: 0.0, 1.0: 0.0, "
          ]
        },
        {
          "output_type": "stream",
          "name": "stderr",
          "text": [
            "50it [00:00, 77.77it/s]"
          ]
        },
        {
          "output_type": "stream",
          "name": "stdout",
          "text": [
            "1.0: 0.0, 1.0: 0.0, 0.0: 1.0, 1.0: 0.0, 1.0: 0.0, 0.0: 1.0, "
          ]
        },
        {
          "output_type": "stream",
          "name": "stderr",
          "text": [
            "\r59it [00:00, 76.16it/s]"
          ]
        },
        {
          "output_type": "stream",
          "name": "stdout",
          "text": [
            "1.0: 0.0, 1.0: 0.0, "
          ]
        },
        {
          "output_type": "stream",
          "name": "stderr",
          "text": [
            "79it [00:02, 25.22it/s]"
          ]
        },
        {
          "output_type": "stream",
          "name": "stdout",
          "text": [
            "1.0: 0.0, 1.0: 0.0, 1.0: 0.0, 0.0: 1.0, 1.0: 0.0, 1.0: 0.0, "
          ]
        },
        {
          "output_type": "stream",
          "name": "stderr",
          "text": [
            "104it [00:02, 48.47it/s]"
          ]
        },
        {
          "output_type": "stream",
          "name": "stdout",
          "text": [
            "1.0: 0.0, 1.0: 0.0, 1.0: 0.0, 1.0: 0.0, 0.0: 1.0, "
          ]
        },
        {
          "output_type": "stream",
          "name": "stderr",
          "text": [
            "130it [00:02, 80.92it/s]"
          ]
        },
        {
          "output_type": "stream",
          "name": "stdout",
          "text": [
            "1.0: 0.0, 1.0: 0.0, 1.0: 0.0, 0.0: 1.0, 1.0: 0.0, 1.0: 0.0, 1.0: 0.0, 1.0: 0.0, 1.0: 0.0, 1.0: 0.0, 1.0: 0.0, 1.0: 0.0, 1.0: 0.0, 1.0: 0.0, 1.0: 0.0, 1.0: 0.0, "
          ]
        },
        {
          "output_type": "stream",
          "name": "stderr",
          "text": [
            "173it [00:03, 140.35it/s]"
          ]
        },
        {
          "output_type": "stream",
          "name": "stdout",
          "text": [
            "1.0: 0.0, 1.0: 0.0, 1.0: 0.0, 1.0: 0.0, 1.0: 0.0, 1.0: 0.0, 1.0: 0.0, 1.0: 0.0, 1.0: 0.0, 1.0: 0.0, 1.0: 0.0, 1.0: 0.0, 1.0: 0.0, 1.0: 0.0, 1.0: 0.0, 1.0: 0.0, 1.0: 0.0, 1.0: 0.0, "
          ]
        },
        {
          "output_type": "stream",
          "name": "stderr",
          "text": [
            "\r189it [00:03, 49.73it/s] "
          ]
        },
        {
          "output_type": "stream",
          "name": "stdout",
          "text": [
            "1.0: 0.0, 1.0: 0.0, 1.0: 0.0, 1.0: 0.0, 0.0: 1.0, 1.0: 0.0, 1.0: 0.0, 1.0: 0.0, 1.0: 0.0, 1.0: 0.0, 1.0: 0.0, "
          ]
        },
        {
          "output_type": "stream",
          "name": "stderr",
          "text": [
            "\r201it [00:04, 48.05it/s]"
          ]
        },
        {
          "output_type": "stream",
          "name": "stdout",
          "text": [
            "1.0: 0.0, 1.0: 0.0, 1.0: 0.0, 1.0: 0.0, 1.0: 0.0, 1.0: 0.0, 1.0: 0.0, "
          ]
        },
        {
          "output_type": "stream",
          "name": "stderr",
          "text": [
            "235it [00:04, 53.13it/s]"
          ]
        },
        {
          "output_type": "stream",
          "name": "stdout",
          "text": [
            "1.0: 0.0, 1.0: 0.0, 1.0: 0.0, 1.0: 0.0, 1.0: 0.0, 1.0: 0.0, 1.0: 0.0, 1.0: 0.0, 1.0: 0.0, 1.0: 0.0, 1.0: 0.0, 1.0: 0.0, 1.0: 0.0, 1.0: 0.0, 1.0: 0.0, 1.0: 0.0, 1.0: 0.0, 1.0: 0.0, 0.0: 1.0, 1.0: 0.0, 1.0: 0.0, 1.0: 0.0, 1.0: 0.0, "
          ]
        },
        {
          "output_type": "stream",
          "name": "stderr",
          "text": [
            "274it [00:05, 88.28it/s]"
          ]
        },
        {
          "output_type": "stream",
          "name": "stdout",
          "text": [
            "1.0: 0.0, 1.0: 0.0, 1.0: 0.0, 1.0: 0.0, 1.0: 0.0, 1.0: 0.0, 1.0: 0.0, 1.0: 0.0, 1.0: 0.0, 0.0: 1.0, 1.0: 0.0, 1.0: 0.0, 1.0: 0.0, 1.0: 0.0, 1.0: 0.0, 1.0: 0.0, 1.0: 0.0, 1.0: 0.0, 1.0: 0.0, 1.0: 0.0, 1.0: 0.0, 1.0: 0.0, 1.0: 0.0, "
          ]
        },
        {
          "output_type": "stream",
          "name": "stderr",
          "text": [
            "313it [00:05, 123.73it/s]"
          ]
        },
        {
          "output_type": "stream",
          "name": "stdout",
          "text": [
            "1.0: 0.0, 1.0: 0.0, 0.0: 1.0, 1.0: 0.0, 1.0: 0.0, 1.0: 0.0, 1.0: 0.0, 1.0: 0.0, 1.0: 0.0, 1.0: 0.0, 1.0: 0.0, 1.0: 0.0, 1.0: 0.0, 1.0: 0.0, 1.0: 0.0, 1.0: 0.0, 0.0: 1.0, 1.0: 0.0, 1.0: 0.0, 1.0: 0.0, 1.0: 0.0, 1.0: 0.0, "
          ]
        },
        {
          "output_type": "stream",
          "name": "stderr",
          "text": [
            "350it [00:05, 147.24it/s]"
          ]
        },
        {
          "output_type": "stream",
          "name": "stdout",
          "text": [
            "1.0: 0.0, 1.0: 0.0, 1.0: 0.0, 1.0: 0.0, 1.0: 0.0, 1.0: 0.0, 1.0: 0.0, 1.0: 0.0, 1.0: 0.0, 1.0: 0.0, 1.0: 0.0, 1.0: 0.0, 1.0: 0.0, 1.0: 0.0, 1.0: 0.0, 1.0: 0.0, 1.0: 0.0, 1.0: 0.0, 1.0: 0.0, 1.0: 0.0, 1.0: 0.0, 1.0: 0.0, 1.0: 0.0, 1.0: 0.0, 1.0: 0.0, "
          ]
        },
        {
          "output_type": "stream",
          "name": "stderr",
          "text": [
            "394it [00:05, 180.85it/s]"
          ]
        },
        {
          "output_type": "stream",
          "name": "stdout",
          "text": [
            "0.0: 1.0, 1.0: 0.0, 1.0: 0.0, 1.0: 0.0, 1.0: 0.0, 1.0: 0.0, 1.0: 0.0, 1.0: 0.0, 1.0: 0.0, 1.0: 0.0, 1.0: 0.0, 1.0: 0.0, 1.0: 0.0, 1.0: 0.0, 1.0: 0.0, 1.0: 0.0, "
          ]
        },
        {
          "output_type": "stream",
          "name": "stderr",
          "text": [
            "437it [00:06, 169.91it/s]"
          ]
        },
        {
          "output_type": "stream",
          "name": "stdout",
          "text": [
            "1.0: 0.0, 1.0: 0.0, 1.0: 0.0, 1.0: 0.0, 1.0: 0.0, 1.0: 0.0, 1.0: 0.0, 1.0: 0.0, 1.0: 0.0, 1.0: 0.0, 1.0: 0.0, 1.0: 0.0, 1.0: 0.0, 1.0: 0.0, 1.0: 0.0, 1.0: 0.0, 1.0: 0.0, 0.0: 1.0, 1.0: 0.0, 1.0: 0.0, 1.0: 0.0, "
          ]
        },
        {
          "output_type": "stream",
          "name": "stderr",
          "text": [
            "481it [00:06, 192.10it/s]"
          ]
        },
        {
          "output_type": "stream",
          "name": "stdout",
          "text": [
            "1.0: 0.0, 1.0: 0.0, 1.0: 0.0, 1.0: 0.0, 1.0: 0.0, 0.0: 1.0, 1.0: 0.0, 0.0: 1.0, 0.0: 1.0, 0.0: 1.0, 1.0: 0.0, 1.0: 0.0, 1.0: 0.0, 1.0: 0.0, 0.0: 1.0, 1.0: 0.0, "
          ]
        },
        {
          "output_type": "stream",
          "name": "stderr",
          "text": [
            "528it [00:06, 209.47it/s]"
          ]
        },
        {
          "output_type": "stream",
          "name": "stdout",
          "text": [
            "0.0: 1.0, 1.0: 0.0, 1.0: 0.0, 1.0: 0.0, 1.0: 0.0, 1.0: 0.0, 1.0: 0.0, 1.0: 0.0, 1.0: 0.0, 1.0: 0.0, 1.0: 0.0, 1.0: 0.0, 1.0: 0.0, 1.0: 0.0, 1.0: 0.0, 1.0: 0.0, 1.0: 0.0, "
          ]
        },
        {
          "output_type": "stream",
          "name": "stderr",
          "text": [
            "573it [00:06, 214.31it/s]"
          ]
        },
        {
          "output_type": "stream",
          "name": "stdout",
          "text": [
            "1.0: 0.0, 1.0: 0.0, 0.0: 1.0, 1.0: 0.0, 1.0: 0.0, 1.0: 0.0, 1.0: 0.0, 0.0: 1.0, 1.0: 0.0, 1.0: 0.0, 1.0: 0.0, 1.0: 0.0, 1.0: 0.0, 1.0: 0.0, 1.0: 0.0, 0.0: 1.0, 1.0: 0.0, 1.0: 0.0, 1.0: 0.0, 1.0: 0.0, 1.0: 0.0, 1.0: 0.0, 1.0: 0.0, "
          ]
        },
        {
          "output_type": "stream",
          "name": "stderr",
          "text": [
            "618it [00:06, 217.57it/s]"
          ]
        },
        {
          "output_type": "stream",
          "name": "stdout",
          "text": [
            "1.0: 0.0, 1.0: 0.0, 1.0: 0.0, 0.0: 1.0, 1.0: 0.0, 1.0: 0.0, 1.0: 0.0, 1.0: 0.0, 0.0: 1.0, 1.0: 0.0, 1.0: 0.0, 1.0: 0.0, 1.0: 0.0, 1.0: 0.0, 1.0: 0.0, 1.0: 0.0, 1.0: 0.0, 1.0: 0.0, 1.0: 0.0, "
          ]
        },
        {
          "output_type": "stream",
          "name": "stderr",
          "text": [
            "\r640it [00:06, 217.61it/s]"
          ]
        },
        {
          "output_type": "stream",
          "name": "stdout",
          "text": [
            "1.0: 0.0, 1.0: 0.0, 1.0: 0.0, 1.0: 0.0, "
          ]
        },
        {
          "output_type": "stream",
          "name": "stderr",
          "text": [
            "684it [00:07, 169.67it/s]"
          ]
        },
        {
          "output_type": "stream",
          "name": "stdout",
          "text": [
            "1.0: 0.0, 1.0: 0.0, 0.0: 1.0, 1.0: 0.0, 1.0: 0.0, 1.0: 0.0, 1.0: 0.0, 1.0: 0.0, 1.0: 0.0, 1.0: 0.0, 1.0: 0.0, 1.0: 0.0, 1.0: 0.0, 1.0: 0.0, 1.0: 0.0, 1.0: 0.0, 1.0: 0.0, 0.0: 1.0, 1.0: 0.0, 0.0: 1.0, "
          ]
        },
        {
          "output_type": "stream",
          "name": "stderr",
          "text": [
            "728it [00:07, 191.43it/s]"
          ]
        },
        {
          "output_type": "stream",
          "name": "stdout",
          "text": [
            "0.0: 1.0, 1.0: 0.0, 1.0: 0.0, 1.0: 0.0, 1.0: 0.0, 1.0: 0.0, 1.0: 0.0, 1.0: 0.0, 1.0: 0.0, 1.0: 0.0, 1.0: 0.0, 1.0: 0.0, 1.0: 0.0, 1.0: 0.0, 1.0: 0.0, 1.0: 0.0, 0.0: 1.0, "
          ]
        },
        {
          "output_type": "stream",
          "name": "stderr",
          "text": [
            "774it [00:07, 210.44it/s]"
          ]
        },
        {
          "output_type": "stream",
          "name": "stdout",
          "text": [
            "1.0: 0.0, 1.0: 0.0, 0.0: 1.0, 1.0: 0.0, 1.0: 0.0, 1.0: 0.0, 1.0: 0.0, 0.0: 1.0, 1.0: 0.0, 1.0: 0.0, 1.0: 0.0, 1.0: 0.0, 1.0: 0.0, 1.0: 0.0, 1.0: 0.0, 1.0: 0.0, 1.0: 0.0, 0.0: 1.0, 1.0: 0.0, 0.0: 1.0, 1.0: 0.0, "
          ]
        },
        {
          "output_type": "stream",
          "name": "stderr",
          "text": [
            "819it [00:07, 214.40it/s]"
          ]
        },
        {
          "output_type": "stream",
          "name": "stdout",
          "text": [
            "1.0: 0.0, 1.0: 0.0, 1.0: 0.0, 1.0: 0.0, 1.0: 0.0, 0.0: 1.0, 1.0: 0.0, 0.0: 1.0, 1.0: 0.0, 1.0: 0.0, "
          ]
        },
        {
          "output_type": "stream",
          "name": "stderr",
          "text": [
            "863it [00:08, 172.86it/s]"
          ]
        },
        {
          "output_type": "stream",
          "name": "stdout",
          "text": [
            "1.0: 0.0, 1.0: 0.0, 1.0: 0.0, 1.0: 0.0, 0.0: 1.0, 0.0: 1.0, 0.0: 1.0, 1.0: 0.0, 1.0: 0.0, 1.0: 0.0, 1.0: 0.0, 0.0: 1.0, 1.0: 0.0, 1.0: 0.0, 1.0: 0.0, 1.0: 0.0, 0.0: 1.0, 0.0: 1.0, 1.0: 0.0, 1.0: 0.0, 1.0: 0.0, "
          ]
        },
        {
          "output_type": "stream",
          "name": "stderr",
          "text": [
            "908it [00:08, 195.98it/s]"
          ]
        },
        {
          "output_type": "stream",
          "name": "stdout",
          "text": [
            "0.0: 1.0, 1.0: 0.0, 1.0: 0.0, 1.0: 0.0, 1.0: 0.0, 1.0: 0.0, 1.0: 0.0, 1.0: 0.0, 1.0: 0.0, 1.0: 0.0, 1.0: 0.0, 1.0: 0.0, 1.0: 0.0, 1.0: 0.0, 0.0: 1.0, 1.0: 0.0, 1.0: 0.0, 1.0: 0.0, "
          ]
        },
        {
          "output_type": "stream",
          "name": "stderr",
          "text": [
            "952it [00:08, 206.38it/s]"
          ]
        },
        {
          "output_type": "stream",
          "name": "stdout",
          "text": [
            "1.0: 0.0, 1.0: 0.0, 0.0: 1.0, 1.0: 0.0, 1.0: 0.0, 1.0: 0.0, 0.0: 1.0, 1.0: 0.0, 1.0: 0.0, 1.0: 0.0, 0.0: 1.0, 1.0: 0.0, 1.0: 0.0, 1.0: 0.0, 0.0: 1.0, 1.0: 0.0, 0.0: 1.0, 1.0: 0.0, 1.0: 0.0, 1.0: 0.0, 1.0: 0.0, 0.0: 1.0, 1.0: 0.0, 0.0: 1.0, 1.0: 0.0, "
          ]
        },
        {
          "output_type": "stream",
          "name": "stderr",
          "text": [
            "1019it [00:09, 157.54it/s]"
          ]
        },
        {
          "output_type": "stream",
          "name": "stdout",
          "text": [
            "1.0: 0.0, 1.0: 0.0, 1.0: 0.0, 0.0: 1.0, 1.0: 0.0, 1.0: 0.0, 1.0: 0.0, 1.0: 0.0, 1.0: 0.0, 1.0: 0.0, 1.0: 0.0, 0.0: 1.0, 1.0: 0.0, 0.0: 1.0, 1.0: 0.0, 0.0: 1.0, 1.0: 0.0, 1.0: 0.0, 0.0: 1.0, 1.0: 0.0, 1.0: 0.0, 1.0: 0.0, 1.0: 0.0, 0.0: 1.0, "
          ]
        },
        {
          "output_type": "stream",
          "name": "stderr",
          "text": [
            "\r1024it [00:09, 111.89it/s]\n"
          ]
        },
        {
          "output_type": "stream",
          "name": "stdout",
          "text": [
            "1.0: 0.0, 1.0: 0.0, \n",
            "Epoch 055: | Loss: 0.73253 | Acc: 56.152\n",
            "\n"
          ]
        },
        {
          "output_type": "stream",
          "name": "stderr",
          "text": [
            "18it [00:00, 171.91it/s]"
          ]
        },
        {
          "output_type": "stream",
          "name": "stdout",
          "text": [
            "0.0: 1.0, 1.0: 0.0, 0.0: 1.0, 1.0: 0.0, 1.0: 0.0, 1.0: 0.0, 0.0: 1.0, 1.0: 0.0, 1.0: 0.0, 1.0: 0.0, 0.0: 1.0, 1.0: 0.0, 1.0: 0.0, 1.0: 0.0, 1.0: 0.0, "
          ]
        },
        {
          "output_type": "stream",
          "name": "stderr",
          "text": [
            "\r40it [00:00, 195.66it/s]"
          ]
        },
        {
          "output_type": "stream",
          "name": "stdout",
          "text": [
            "1.0: 0.0, 1.0: 0.0, 0.0: 1.0, 1.0: 0.0, 1.0: 0.0, "
          ]
        },
        {
          "output_type": "stream",
          "name": "stderr",
          "text": [
            "\r63it [00:00, 210.45it/s]"
          ]
        },
        {
          "output_type": "stream",
          "name": "stdout",
          "text": [
            "1.0: 0.0, 1.0: 0.0, 1.0: 0.0, 1.0: 0.0, 1.0: 0.0, 1.0: 0.0, 1.0: 0.0, "
          ]
        },
        {
          "output_type": "stream",
          "name": "stderr",
          "text": [
            "\r89it [00:00, 225.03it/s]"
          ]
        },
        {
          "output_type": "stream",
          "name": "stdout",
          "text": [
            "0.0: 1.0, 1.0: 0.0, 1.0"
          ]
        },
        {
          "output_type": "stream",
          "name": "stderr",
          "text": [
            "\r112it [00:00, 222.82it/s]"
          ]
        },
        {
          "output_type": "stream",
          "name": "stdout",
          "text": [
            ": 0.0, 1.0: 0.0, 0.0: 1.0, 0.0: 1.0, 1.0: 0.0, 1.0: 0.0, 1.0: 0.0, 1.0: 0.0, 0.0: 1.0, 1.0: 0.0, 1.0: 0.0, 1.0: 0.0, 1.0: 0.0, 0.0: 1.0, 1.0: 0.0, "
          ]
        },
        {
          "output_type": "stream",
          "name": "stderr",
          "text": [
            "\r135it [00:00, 217.41it/s]"
          ]
        },
        {
          "output_type": "stream",
          "name": "stdout",
          "text": [
            "1.0: 0.0, 1.0: 0.0, 1.0: 0.0, 1.0: 0.0, "
          ]
        },
        {
          "output_type": "stream",
          "name": "stderr",
          "text": [
            "183it [00:00, 226.16it/s]"
          ]
        },
        {
          "output_type": "stream",
          "name": "stdout",
          "text": [
            "1.0: 0.0, 1.0: 0.0, 0.0: 1.0, 1.0: 0.0, 1.0: 0.0, 1.0: 0.0, 0.0: 1.0, 1.0: 0.0, 1.0: 0.0, 1.0: 0.0, 0.0: 1.0, 1.0: 0.0, 1.0: 0.0, 1.0: 0.0, 1.0: 0.0, 1.0: 0.0, 1.0: 0.0, 1.0: 0.0, 1.0: 0.0, 1.0: 0.0, 1.0: 0.0, 1.0: 0.0, 1.0: 0.0, 1.0: 0.0, 1.0: 0.0, 1.0: 0.0, 0.0: 1.0, 1.0: 0.0, 1.0: 0.0, "
          ]
        },
        {
          "output_type": "stream",
          "name": "stderr",
          "text": [
            "\r206it [00:01, 68.50it/s] "
          ]
        },
        {
          "output_type": "stream",
          "name": "stdout",
          "text": [
            "1.0: 0.0, 1.0: 0.0, 1.0: 0.0, 1.0: 0.0, 0.0: 1.0, 1.0: 0.0, 1.0: 0.0, 1.0: 0.0, 1.0: 0.0, 1.0: 0.0, 1.0: 0.0, 1.0: 0.0, 1.0: 0.0, 1.0: 0.0, "
          ]
        },
        {
          "output_type": "stream",
          "name": "stderr",
          "text": [
            "249it [00:02, 91.46it/s]"
          ]
        },
        {
          "output_type": "stream",
          "name": "stdout",
          "text": [
            "1.0: 0.0, 1.0: 0.0, 1.0: 0.0, 1.0: 0.0, 1.0: 0.0, 1.0: 0.0, 1.0: 0.0, 1.0: 0.0, 1.0: 0.0, 1.0: 0.0, 1.0: 0.0, 1.0: 0.0, 1.0: 0.0, 1.0: 0.0, 1.0: 0.0, 0.0: 1.0, 1.0: 0.0, 1.0: 0.0, 1.0: 0.0, 1.0: 0.0, 1.0: 0.0, 1.0: 0.0, 1.0: 0.0, "
          ]
        },
        {
          "output_type": "stream",
          "name": "stderr",
          "text": [
            "291it [00:02, 77.32it/s]"
          ]
        },
        {
          "output_type": "stream",
          "name": "stdout",
          "text": [
            "1.0: 0.0, 1.0: 0.0, 1.0: 0.0, 1.0: 0.0, 1.0: 0.0, 1.0: 0.0, 0.0: 1.0, 1.0: 0.0, 1.0: 0.0, 1.0: 0.0, 1.0: 0.0, 0.0: 1.0, 1.0: 0.0, 1.0: 0.0, 1.0: 0.0, 1.0: 0.0, 1.0: 0.0, 1.0: 0.0, 1.0: 0.0, 1.0: 0.0, 1.0: 0.0, 1.0: 0.0, 1.0: 0.0, 1.0"
          ]
        },
        {
          "output_type": "stream",
          "name": "stderr",
          "text": [
            "335it [00:03, 114.95it/s]"
          ]
        },
        {
          "output_type": "stream",
          "name": "stdout",
          "text": [
            ": 0.0, 1.0: 0.0, 1.0: 0.0, 1.0: 0.0, 1.0: 0.0, 1.0: 0.0, 1.0: 0.0, 1.0: 0.0, 1.0: 0.0, 1.0: 0.0, 1.0: 0.0, 1.0: 0.0, 1.0: 0.0, 0.0: 1.0, 1.0: 0.0, 1.0: 0.0, 1.0: 0.0, 1.0: 0.0, 0.0: 1.0, 1.0: 0.0, 1.0: 0.0, 1.0: 0.0, 1.0: 0.0, 1.0: 0.0, 1.0: 0.0, 0.0"
          ]
        },
        {
          "output_type": "stream",
          "name": "stderr",
          "text": [
            "380it [00:03, 153.54it/s]"
          ]
        },
        {
          "output_type": "stream",
          "name": "stdout",
          "text": [
            ": 1.0, 1.0: 0.0, 1.0: 0.0, 1.0: 0.0, 1.0: 0.0, 1.0: 0.0, 1.0: 0.0, 1.0: 0.0, 1.0: 0.0, 1.0: 0.0, 1.0: 0.0, 1.0: 0.0, 1.0: 0.0, 1.0: 0.0, 1.0: 0.0, 0.0: 1.0, 1.0: 0.0, 1.0: 0.0, 1.0: 0.0, 1.0: 0.0, 0.0: 1.0, 1.0: 0.0, 1.0: 0.0, 1.0: 0.0, 1.0: 0.0, 1.0: 0.0, 1.0: 0.0, 1.0: 0.0, 1.0: 0.0, 1.0: 0.0, "
          ]
        },
        {
          "output_type": "stream",
          "name": "stderr",
          "text": [
            "429it [00:03, 190.32it/s]"
          ]
        },
        {
          "output_type": "stream",
          "name": "stdout",
          "text": [
            "1.0: 0.0, 0.0: 1.0, 1.0: 0.0, 1.0: 0.0, 1.0: 0.0, 1.0: 0.0, 1.0: 0.0, 1.0: 0.0, 1.0: 0.0, 1.0: 0.0, 0.0: 1.0, 1.0: 0.0, 1.0: 0.0, 1.0: 0.0, 1.0: 0.0, 1.0: 0.0, 1.0: 0.0, 1.0: 0.0, 1.0: 0.0, 1.0: 0.0, 1.0: 0.0, 1.0: 0.0, 1.0: "
          ]
        },
        {
          "output_type": "stream",
          "name": "stderr",
          "text": [
            "477it [00:03, 205.73it/s]"
          ]
        },
        {
          "output_type": "stream",
          "name": "stdout",
          "text": [
            "0.0, 0.0: 1.0, 1.0: 0.0, 1.0: 0.0, 1.0: 0.0, 1.0: 0.0, 0.0: 1.0, 1.0: 0.0, 1.0: 0.0, 1.0: 0.0, 1.0: 0.0, 1.0: 0.0, 1.0: 0.0, 1.0: 0.0, 0.0: 1.0, 0.0: 1.0, 1.0: 0.0, 1.0: 0.0, "
          ]
        },
        {
          "output_type": "stream",
          "name": "stderr",
          "text": [
            "524it [00:03, 217.05it/s]"
          ]
        },
        {
          "output_type": "stream",
          "name": "stdout",
          "text": [
            "1.0: 0.0, 1.0: 0.0, 1.0: 0.0, 1.0: 0.0, 1.0: 0.0, 1.0: 0.0, 1.0: 0.0, 1.0: 0.0, 1.0: 0.0, 1.0: 0.0, 1.0: 0.0, 1.0: 0.0, 1.0: 0.0, 0.0: 1.0, 1.0: 0.0, "
          ]
        },
        {
          "output_type": "stream",
          "name": "stderr",
          "text": [
            "572it [00:04, 203.00it/s]"
          ]
        },
        {
          "output_type": "stream",
          "name": "stdout",
          "text": [
            "1.0: 0.0, 1.0: 0.0, 1.0: 0.0, 1.0: 0.0, 1.0: 0.0, 1.0: 0.0, 1.0: 0.0, 1.0: 0.0, 1.0: 0.0, 1.0: 0.0, 1.0: 0.0, 1.0: 0.0, 1.0: 0.0, 1.0: 0.0, 1.0: 0.0, 1.0: 0.0, 1.0: 0.0, 1.0: 0.0, 1.0: 0.0, 0.0: 1.0, 1.0: 0.0, "
          ]
        },
        {
          "output_type": "stream",
          "name": "stderr",
          "text": [
            "616it [00:04, 103.99it/s]"
          ]
        },
        {
          "output_type": "stream",
          "name": "stdout",
          "text": [
            "1.0: 0.0, 1.0: 0.0, 0.0: 1.0, 1.0: 0.0, 0.0: 1.0, 1.0: 0.0, 1.0: 0.0, 1.0: 0.0, 1.0: 0.0, 1.0: 0.0, 1.0: 0.0, 1.0: 0.0, 0.0: 1.0, 1.0: 0.0, 1.0: 0.0, 1.0: 0.0, 1.0: 0.0, 1.0: 0.0, 1.0: 0.0, 1.0: 0.0, 1.0: 0.0, "
          ]
        },
        {
          "output_type": "stream",
          "name": "stderr",
          "text": [
            "659it [00:05, 138.16it/s]"
          ]
        },
        {
          "output_type": "stream",
          "name": "stdout",
          "text": [
            "0.0: 1.0, 1.0: 0.0, 1.0: 0.0, 1.0: 0.0, 1.0: 0.0, 1.0: 0.0, 0.0: 1.0, 1.0: 0.0, 0.0: 1.0, 1.0: 0.0, 1.0: 0.0, 1.0: 0.0, 0.0: 1.0, 0.0: 1.0, 1.0: 0.0, 1.0: 0.0, 1.0: 0.0, 1.0: 0.0, "
          ]
        },
        {
          "output_type": "stream",
          "name": "stderr",
          "text": [
            "707it [00:05, 178.02it/s]"
          ]
        },
        {
          "output_type": "stream",
          "name": "stdout",
          "text": [
            "1.0: 0.0, 1.0: 0.0, 1.0: 0.0, 1.0: 0.0, 1.0: 0.0, 1.0: 0.0, 0.0: 1.0, 1.0: 0.0, 0.0: 1.0, 1.0: 0.0, 1.0: 0.0, 1.0: 0.0, 0.0: 1.0, 1.0: 0.0, 1.0: 0.0, 1.0: 0.0, 1.0: 0.0, 1.0: 0.0, "
          ]
        },
        {
          "output_type": "stream",
          "name": "stderr",
          "text": [
            "757it [00:05, 209.77it/s]"
          ]
        },
        {
          "output_type": "stream",
          "name": "stdout",
          "text": [
            "0.0: 1.0, 1.0: 0.0, 0.0: 1.0, 1.0: 0.0, 1.0: 0.0, 1.0: 0.0, 1.0: 0.0, 1.0: 0.0, 0.0: 1.0, 0.0: 1.0, 1.0: 0.0, 1.0: 0.0, 0.0: 1.0, 1.0: 0.0, 1.0: 0.0, 1.0: 0.0, 1.0: 0.0, "
          ]
        },
        {
          "output_type": "stream",
          "name": "stderr",
          "text": [
            "804it [00:05, 197.00it/s]"
          ]
        },
        {
          "output_type": "stream",
          "name": "stdout",
          "text": [
            "0.0: 1.0, 1.0: 0.0, 1.0: 0.0, 1.0: 0.0, 1.0: 0.0, 1.0: 0.0, 1.0: 0.0, 0.0: 1.0, 1.0: 0.0, 1.0: 0.0, 1.0: 0.0, 1.0: 0.0, 1.0: 0.0, 1.0: 0.0, 1.0: 0.0, 1.0: 0.0, "
          ]
        },
        {
          "output_type": "stream",
          "name": "stderr",
          "text": [
            "850it [00:05, 201.93it/s]"
          ]
        },
        {
          "output_type": "stream",
          "name": "stdout",
          "text": [
            "1.0: 0.0, 0.0: 1.0, 1.0: 0.0, 1.0: 0.0, 1.0: 0.0, 0.0: 1.0, 1.0: 0.0, 1.0: 0.0, 1.0: 0.0, 1.0: 0.0, 1.0: 0.0, 1.0: 0.0, 1.0: 0.0, 1.0: 0.0, 1.0: 0.0, 1.0: 0.0, 1.0: 0.0, 1.0: 0.0, "
          ]
        },
        {
          "output_type": "stream",
          "name": "stderr",
          "text": [
            "897it [00:06, 211.95it/s]"
          ]
        },
        {
          "output_type": "stream",
          "name": "stdout",
          "text": [
            "1.0: 0.0, 1.0: 0.0, 1.0: 0.0, 1.0: 0.0, 0.0: 1.0, 1.0: 0.0, 1.0: 0.0, 1.0: 0.0, 1.0: 0.0, 1.0: 0.0, 1.0: 0.0, 1.0: 0.0, 1.0: 0.0, 1.0: 0.0, 0.0: 1.0, 1.0: 0.0, 1.0: 0.0, 1.0: 0.0, 0.0: 1.0, "
          ]
        },
        {
          "output_type": "stream",
          "name": "stderr",
          "text": [
            "945it [00:06, 223.08it/s]"
          ]
        },
        {
          "output_type": "stream",
          "name": "stdout",
          "text": [
            "1.0: 0.0, 1.0: 0.0, 0.0: 1.0, 1.0: 0.0, 1.0: 0.0, 1.0: 0.0, 1.0: 0.0, 1.0: 0.0, 1.0: 0.0, 1.0: 0.0, 0.0: 1.0, 1.0: 0.0, 0.0: 1.0, 1.0: 0.0, 1.0: 0.0, 1.0: 0.0, 1.0: 0.0, 1.0: 0.0, 1.0: 0.0, 1.0: 0.0, "
          ]
        },
        {
          "output_type": "stream",
          "name": "stderr",
          "text": [
            "991it [00:06, 222.17it/s]"
          ]
        },
        {
          "output_type": "stream",
          "name": "stdout",
          "text": [
            "1.0: 0.0, 1.0: 0.0, 1.0: 0.0, 1.0: 0.0, 1.0: 0.0, 1.0: 0.0, 1.0: 0.0, 1.0: 0.0, 1.0: 0.0, 1.0: 0.0, 1.0: 0.0, 1.0: 0.0, 1.0: 0.0, 0.0: 1.0, 1.0: 0.0, 1.0: 0.0, 1.0: 0.0, 0.0: "
          ]
        },
        {
          "output_type": "stream",
          "name": "stderr",
          "text": [
            "1024it [00:06, 152.40it/s]\n"
          ]
        },
        {
          "output_type": "stream",
          "name": "stdout",
          "text": [
            "1.0, 1.0: 0.0, 1.0: 0.0, 1.0: 0.0, 1.0: 0.0, 1.0: 0.0, 0.0: 1.0, 1.0: 0.0, 1.0: 0.0, 1.0: 0.0, 0.0: 1.0, 1.0: 0.0, 1.0: 0.0, 1.0: 0.0, \n",
            "Epoch 056: | Loss: 0.72930 | Acc: 56.445\n",
            "\n"
          ]
        },
        {
          "output_type": "stream",
          "name": "stderr",
          "text": [
            "\r0it [00:00, ?it/s]"
          ]
        },
        {
          "output_type": "stream",
          "name": "stdout",
          "text": [
            "1.0: 0.0, "
          ]
        },
        {
          "output_type": "stream",
          "name": "stderr",
          "text": [
            "67it [00:00, 143.73it/s]"
          ]
        },
        {
          "output_type": "stream",
          "name": "stdout",
          "text": [
            "1.0: 0.0, 1.0: 0.0, 1.0: 0.0, 1.0: 0.0, 1.0: 0.0, 1.0: 0.0, 1.0: 0.0, 1.0: 0.0, 1.0: 0.0, 1.0: 0.0, 1.0: 0.0, 1.0: 0.0, 1.0: 0.0, 0.0: 1.0, 1.0: 0.0, 0.0: 1.0, 1.0: 0.0, 1.0: 0.0, 1.0: 0.0, "
          ]
        },
        {
          "output_type": "stream",
          "name": "stderr",
          "text": [
            "116it [00:00, 194.11it/s]"
          ]
        },
        {
          "output_type": "stream",
          "name": "stdout",
          "text": [
            "1.0: 0.0, 1.0: 0.0, 1.0: 0.0, 0.0: 1.0, 1.0: 0.0, 1.0: 0.0, 1.0: 0.0, 1.0: 0.0, 1.0: 0.0, 1.0: 0.0, 0.0: 1.0, 1.0: 0.0, 1.0: 0.0, 1.0: 0.0, 1.0: 0.0, 1.0: 0.0, "
          ]
        },
        {
          "output_type": "stream",
          "name": "stderr",
          "text": [
            "162it [00:00, 204.10it/s]"
          ]
        },
        {
          "output_type": "stream",
          "name": "stdout",
          "text": [
            "1.0: 0.0, 1.0: 0.0, 1.0: 0.0, 0.0: 1.0, 1.0: 0.0, 1.0: 0.0, 1.0: 0.0, 1.0: 0.0, 1.0: 0.0, 1.0: 0.0, 1.0: 0.0, 1.0: 0.0, 1.0: 0.0, 1.0: 0.0, 0.0: 1.0, 1.0: 0.0, 1.0: 0.0, 1.0: 0.0, 1.0: 0.0, 1.0: 0.0, 1.0: 0.0, 1.0: 0.0, 1.0: 0.0, 1.0: 0.0, 1.0: 0.0"
          ]
        },
        {
          "output_type": "stream",
          "name": "stderr",
          "text": [
            "\r184it [00:01, 202.95it/s]"
          ]
        },
        {
          "output_type": "stream",
          "name": "stdout",
          "text": [
            ", 1.0: 0.0, 1.0: 0.0, 0.0: 1.0, 1.0: 0.0, 1.0: 0.0, 1.0: 0.0, 1.0: 0.0, 1.0: 0.0, 1.0: 0.0, 1.0: 0.0, 1.0: 0.0, 1.0: 0.0, 1.0: 0.0, 1.0: 0.0, "
          ]
        },
        {
          "output_type": "stream",
          "name": "stderr",
          "text": [
            "\r206it [00:01, 132.11it/s]"
          ]
        },
        {
          "output_type": "stream",
          "name": "stdout",
          "text": [
            "1.0: 0.0, 0.0: 1.0, 1.0: 0.0, 1.0: 0.0, 1.0: 0.0, 1.0: 0.0, 1.0: 0.0, 1.0: 0.0, 1.0: 0.0, 1.0: 0.0, 1.0: 0.0, 1.0: 0.0, 0.0: 1.0, 1.0: 0.0, "
          ]
        },
        {
          "output_type": "stream",
          "name": "stderr",
          "text": [
            "246it [00:02, 84.21it/s]"
          ]
        },
        {
          "output_type": "stream",
          "name": "stdout",
          "text": [
            "1.0: 0.0, 1.0: 0.0, 1.0: 0.0, 1.0: 0.0, 1.0: 0.0, 1.0: 0.0, 1.0: 0.0, 1.0: 0.0, 1.0: 0.0, 1.0: 0.0, 1.0: 0.0, 1.0: 0.0, 1.0: 0.0, 1.0: 0.0, 1.0: 0.0, 0.0: 1.0, 1.0: 0.0, 1.0: 0.0, 1.0: 0.0, 1.0: 0.0, 0.0: 1.0, 1.0: 0.0, 1.0: 0.0, 1.0: 0.0, 1.0: 0.0, 1.0: 0.0, "
          ]
        },
        {
          "output_type": "stream",
          "name": "stderr",
          "text": [
            "288it [00:02, 120.72it/s]"
          ]
        },
        {
          "output_type": "stream",
          "name": "stdout",
          "text": [
            "1.0: 0.0, 1.0: 0.0, 1.0: 0.0, 1.0: 0.0, 1.0: 0.0, 1.0: 0.0, 1.0: 0.0, 1.0: 0.0, 1.0: 0.0, 1.0: 0.0, 1.0: 0.0, 1.0: 0.0, 1.0: 0.0, 1.0: 0.0, 1.0: 0.0, 1.0: 0.0, 1.0: 0.0, 1.0: 0.0, 1.0: 0.0, 1.0: 0.0, 1.0: 0.0, 1.0: 0.0, 1.0: 0.0, "
          ]
        },
        {
          "output_type": "stream",
          "name": "stderr",
          "text": [
            "334it [00:02, 161.39it/s]"
          ]
        },
        {
          "output_type": "stream",
          "name": "stdout",
          "text": [
            "1.0: 0.0, 1.0: 0.0, 1.0: 0.0, 1.0: 0.0, 1.0: 0.0, 1.0: 0.0, 1.0: 0.0, 1.0: 0.0, 1.0: 0.0, 1.0: 0.0, 1.0: 0.0, 1.0: 0.0, 1.0: 0.0, 1.0: 0.0, 1.0: 0.0, 1.0: 0.0, 1.0: 0.0, 1.0: 0.0, 1.0: 0.0, 1.0: 0.0, 1.0: 0.0, 1.0: 0.0, 1.0: 0.0, 1.0: 0.0, 1.0: 0.0, 1.0: 0.0, 0.0: 1.0, "
          ]
        },
        {
          "output_type": "stream",
          "name": "stderr",
          "text": [
            "378it [00:02, 185.43it/s]"
          ]
        },
        {
          "output_type": "stream",
          "name": "stdout",
          "text": [
            "1.0: 0.0, 1.0: 0.0, 1.0: 0.0, 1.0: 0.0, 1.0: 0.0, 1.0: 0.0, 1.0: 0.0, 1.0: 0.0, 1.0: 0.0, 1.0: 0.0, 1.0: 0.0, 1.0: 0.0, 1.0: 0.0, 1.0: 0.0, 1.0: 0.0, 1.0: 0.0, 1.0: 0.0, 1.0: 0.0, 1.0: 0.0, 0.0: 1.0, 1.0: 0.0, 1.0: 0.0, 1.0: 0.0, 1.0: 0.0, 1.0: 0.0, 1.0: 0.0, 1.0: 0.0, 1.0: 0.0, "
          ]
        },
        {
          "output_type": "stream",
          "name": "stderr",
          "text": [
            "423it [00:02, 201.84it/s]"
          ]
        },
        {
          "output_type": "stream",
          "name": "stdout",
          "text": [
            "0.0: 1.0, 1.0: 0.0, 1.0: 0.0, 1.0: 0.0, 0.0: 1.0, 0.0: 1.0, 1.0: 0.0, 1.0: 0.0, 1.0: 0.0, 1.0: 0.0, 1.0: 0.0, 1.0: 0.0, 1.0: 0.0, 0.0: 1.0, 1.0: 0.0, 1.0: 0.0, 1.0: 0.0, 1.0: 0.0, 1.0: 0.0, 1.0: 0.0, 1.0: 0.0, 0.0: "
          ]
        },
        {
          "output_type": "stream",
          "name": "stderr",
          "text": [
            "470it [00:03, 214.97it/s]"
          ]
        },
        {
          "output_type": "stream",
          "name": "stdout",
          "text": [
            "1.0, 1.0: 0.0, 1.0: 0.0, 1.0: 0.0, 1.0: 0.0, 1.0: 0.0, 1.0: 0.0, 1.0: 0.0, 1.0: 0.0, 0.0: 1.0, 1.0: 0.0, 1.0: 0.0, 0.0: 1.0, 1.0: 0.0, "
          ]
        },
        {
          "output_type": "stream",
          "name": "stderr",
          "text": [
            "519it [00:03, 185.13it/s]"
          ]
        },
        {
          "output_type": "stream",
          "name": "stdout",
          "text": [
            "1.0: 0.0, 1.0: 0.0, 1.0: 0.0, 1.0: 0.0, 1.0: 0.0, 1.0: 0.0, 1.0: 0.0, 1.0: 0.0, 1.0: 0.0, 1.0: 0.0, 1.0: 0.0, 1.0: 0.0, 1.0: 0.0, 1.0: 0.0, 1.0: 0.0, 1.0: 0.0, 0.0: 1.0, 1.0: 0.0, 1.0: 0.0, 1.0: 0.0, "
          ]
        },
        {
          "output_type": "stream",
          "name": "stderr",
          "text": [
            "564it [00:03, 203.08it/s]"
          ]
        },
        {
          "output_type": "stream",
          "name": "stdout",
          "text": [
            "1.0: 0.0, 1.0: 0.0, 1.0: 0.0, 1.0: 0.0, 1.0: 0.0, 1.0: 0.0, 1.0: 0.0, 1.0: 0.0, 1.0: 0.0, 1.0: 0.0, 1.0: 0.0, 1.0: 0.0, 1.0: 0.0, 1.0: 0.0, 1.0: 0.0, 1.0: 0.0, 1.0: 0.0, 1.0: 0.0, 1.0: 0.0, 1.0: 0.0, 1.0: 0.0, "
          ]
        },
        {
          "output_type": "stream",
          "name": "stderr",
          "text": [
            "610it [00:03, 215.60it/s]"
          ]
        },
        {
          "output_type": "stream",
          "name": "stdout",
          "text": [
            "1.0: 0.0, 1.0: 0.0, 1.0: 0.0, 1.0: 0.0, 1.0: 0.0, 1.0: 0.0, 1.0: 0.0, 0.0: 1.0, 1.0: 0.0, 1.0: 0.0, 1.0: 0.0, 0.0: 1.0, 1.0: 0.0, 1.0: 0.0, 1.0: 0.0, 1.0: 0.0, 1.0: 0.0, 1.0: 0.0, 1.0: 0.0, 1.0: 0.0, 1.0: 0.0, 1.0: 0.0, 1.0: 0.0, "
          ]
        },
        {
          "output_type": "stream",
          "name": "stderr",
          "text": [
            "\r633it [00:03, 206.82it/s]"
          ]
        },
        {
          "output_type": "stream",
          "name": "stdout",
          "text": [
            "1.0: 0.0, 1.0: 0.0, 1.0: 0.0, 1.0: 0.0, 1.0: 0.0, 1.0: 0.0, 0.0: 1.0, "
          ]
        },
        {
          "output_type": "stream",
          "name": "stderr",
          "text": [
            "677it [00:04, 169.94it/s]"
          ]
        },
        {
          "output_type": "stream",
          "name": "stdout",
          "text": [
            "1.0: 0.0, 1.0: 0.0, 1.0: 0.0, 0.0: 1.0, 1.0: 0.0, 1.0: 0.0, 0.0: 1.0, 1.0: 0.0, 0.0: 1.0, 1.0: 0.0, 1.0: 0.0, 1.0: 0.0, 1.0: 0.0, 1.0: 0.0, 0.0: 1.0, 1.0: 0.0, 1.0: 0.0, 0.0: 1.0, 0.0: 1.0, 1.0: 0.0, 1.0: 0.0, 1.0: 0.0, 1.0: 0.0, "
          ]
        },
        {
          "output_type": "stream",
          "name": "stderr",
          "text": [
            "722it [00:04, 194.49it/s]"
          ]
        },
        {
          "output_type": "stream",
          "name": "stdout",
          "text": [
            "1.0: 0.0, 0.0: 1.0, 1.0: 0.0, 1.0: 0.0, 1.0: 0.0, 1.0: 0.0, 0.0: 1.0, 1.0: 0.0, 1.0: 0.0, 0.0: 1.0, 1.0: 0.0, 1.0: 0.0, 1.0: 0.0, 1.0: 0.0, 1.0: 0.0, 1.0: 0.0, 1.0: 0.0, 1.0: 0.0, 1.0: 0.0, 1.0: 0.0, "
          ]
        },
        {
          "output_type": "stream",
          "name": "stderr",
          "text": [
            "768it [00:04, 210.14it/s]"
          ]
        },
        {
          "output_type": "stream",
          "name": "stdout",
          "text": [
            "1.0: 0.0, 1.0: 0.0, 1.0: 0.0, 0.0: 1.0, 1.0: 0.0, 1.0: 0.0, 1.0: 0.0, 1.0: 0.0, 1.0: 0.0, 1.0: 0.0, 1.0: 0.0, 1.0: 0.0, 1.0: 0.0, 1.0: 0.0, 1.0: 0.0, 1.0: 0.0, 1.0: 0.0, 1.0: 0.0, 0.0: 1.0, 1.0: 0.0, "
          ]
        },
        {
          "output_type": "stream",
          "name": "stderr",
          "text": [
            "815it [00:04, 217.53it/s]"
          ]
        },
        {
          "output_type": "stream",
          "name": "stdout",
          "text": [
            "1.0: 0.0, 1.0: 0.0, 0.0: 1.0, 1.0: 0.0, 0.0: 1.0, 1.0: 0.0, 1.0: 0.0, 1.0: 0.0, 1.0: 0.0, 1.0: 0.0, 1.0: 0.0, "
          ]
        },
        {
          "output_type": "stream",
          "name": "stderr",
          "text": [
            "864it [00:05, 194.53it/s]"
          ]
        },
        {
          "output_type": "stream",
          "name": "stdout",
          "text": [
            "1.0: 0.0, 1.0: 0.0, 1.0: 0.0, 1.0: 0.0, 0.0: 1.0, 1.0: 0.0, 1.0: 0.0, 1.0: 0.0, 1.0: 0.0, 1.0: 0.0, 1.0: 0.0, 1.0: 0.0, 0.0: 1.0, 1.0: 0.0, 1.0: 0.0, "
          ]
        },
        {
          "output_type": "stream",
          "name": "stderr",
          "text": [
            "912it [00:05, 213.22it/s]"
          ]
        },
        {
          "output_type": "stream",
          "name": "stdout",
          "text": [
            "0.0: 1.0, 1.0: 0.0, 1.0: 0.0, 1.0: 0.0, 1.0: 0.0, 1.0: 0.0, 1.0: 0.0, 1.0: 0.0, 1.0: 0.0, 1.0: 0.0, 1.0: 0.0, 1.0: 0.0, 1.0: 0.0, 1.0: 0.0, 0.0: 1.0, 1.0: 0.0, 1.0: 0.0, 1.0: 0.0, "
          ]
        },
        {
          "output_type": "stream",
          "name": "stderr",
          "text": [
            "958it [00:05, 216.84it/s]"
          ]
        },
        {
          "output_type": "stream",
          "name": "stdout",
          "text": [
            "1.0: 0.0, 1.0: 0.0, 1.0: 0.0, 1.0: 0.0, 1.0: 0.0, 0.0: 1.0, 1.0: 0.0, 1.0: 0.0, 1.0: 0.0, 1.0: 0.0, 1.0: 0.0, 1.0: 0.0, 1.0: 0.0, 1.0: 0.0, 1.0: 0.0, 0.0: 1.0, "
          ]
        },
        {
          "output_type": "stream",
          "name": "stderr",
          "text": [
            "1006it [00:05, 227.39it/s]"
          ]
        },
        {
          "output_type": "stream",
          "name": "stdout",
          "text": [
            "1.0: 0.0, 1.0: 0.0, 1.0: 0.0, 1.0: 0.0, 1.0: 0.0, 1.0: 0.0, 1.0: 0.0, 1.0: 0.0, 1.0: 0.0, 1.0: 0.0, 1.0: 0.0, 1.0: 0.0, 0.0: 1.0, 1.0: 0.0, 0.0: 1.0, 1.0: 0.0, 1.0: 0.0, 1.0: 0.0, "
          ]
        },
        {
          "output_type": "stream",
          "name": "stderr",
          "text": [
            "\r1024it [00:05, 173.44it/s]\n"
          ]
        },
        {
          "output_type": "stream",
          "name": "stdout",
          "text": [
            "1.0: 0.0, 1.0: 0.0, 1.0: 0.0, 1.0: 0.0, 1.0: 0.0, \n",
            "Epoch 057: | Loss: 0.73245 | Acc: 56.543\n",
            "\n"
          ]
        },
        {
          "output_type": "stream",
          "name": "stderr",
          "text": [
            "19it [00:00, 184.32it/s]"
          ]
        },
        {
          "output_type": "stream",
          "name": "stdout",
          "text": [
            "0.0: 1.0, 0.0: 1.0, 1.0: 0.0, 0.0: 1.0, 1.0: 0.0, 1.0: 0.0, 1.0: 0.0, 0.0: 1.0, 1.0: 0.0, 1.0: 0.0, 1.0: 0.0, 1.0: "
          ]
        },
        {
          "output_type": "stream",
          "name": "stderr",
          "text": [
            "\r42it [00:00, 207.34it/s]"
          ]
        },
        {
          "output_type": "stream",
          "name": "stdout",
          "text": [
            "0.0, 1.0: 0.0, 1.0: 0.0, 1.0: 0.0, 1.0: 0.0, 1.0: 0.0, 1.0: 0.0, 1.0: 0.0, "
          ]
        },
        {
          "output_type": "stream",
          "name": "stderr",
          "text": [
            "\r63it [00:00, 52.04it/s] "
          ]
        },
        {
          "output_type": "stream",
          "name": "stdout",
          "text": [
            "1.0: 0.0, 1.0: 0.0, 1.0: 0.0, 1.0: 0.0, 0.0: 1.0, "
          ]
        },
        {
          "output_type": "stream",
          "name": "stderr",
          "text": [
            "102it [00:01, 78.50it/s]"
          ]
        },
        {
          "output_type": "stream",
          "name": "stdout",
          "text": [
            "0.0: 1.0, 1.0: 0.0, 1.0: 0.0, 1.0: 0.0, 1.0: 0.0, 1.0: 0.0, 1.0: 0.0, 1.0: 0.0, 0.0: 1.0, 1.0: 0.0, 1.0: 0.0, 0.0: 1.0, 1.0: 0.0, "
          ]
        },
        {
          "output_type": "stream",
          "name": "stderr",
          "text": [
            "170it [00:02, 81.62it/s]"
          ]
        },
        {
          "output_type": "stream",
          "name": "stdout",
          "text": [
            "1.0: 0.0, 1.0: 0.0, 1.0: 0.0, 1.0: 0.0, 1.0: 0.0, 1.0: 0.0, 1.0: 0.0, 0.0: 1.0, 1.0: 0.0, 1.0: 0.0, 1.0: 0.0, 1.0: 0.0, 1.0: 0.0, 1.0: 0.0, 1.0: 0.0, 1.0: 0.0, 1.0: 0.0, 1.0: 0.0, 1.0: 0.0, 1.0: 0.0, 1.0: 0.0, 1.0: 0.0, 1.0: 0.0, 1.0: 0.0, 1.0: 0.0, 1.0: 0.0, 1.0: 0.0, 1.0: 0.0, 1.0: 0.0, 1.0: 0.0, 1.0: 0.0, 1.0: 0.0, "
          ]
        },
        {
          "output_type": "stream",
          "name": "stderr",
          "text": [
            "213it [00:02, 119.68it/s]"
          ]
        },
        {
          "output_type": "stream",
          "name": "stdout",
          "text": [
            "1.0: 0.0, 1.0: 0.0, 1.0: 0.0, 1.0: 0.0, 1.0: 0.0, 1.0: 0.0, 1.0: 0.0, 1.0: 0.0, 1.0: 0.0, 1.0: 0.0, 1.0: 0.0, 1.0: 0.0, 1.0: 0.0, 1.0: 0.0, 1.0: 0.0, 0.0: 1.0, 1.0: 0.0, 1.0: 0.0, 1.0: 0.0, 1.0: 0.0, 1.0: 0.0, 1.0: 0.0, 0.0: 1.0, 1.0: 0.0, 1.0: 0.0, 1.0: 0.0, 1.0: 0.0, 1.0: 0.0, "
          ]
        },
        {
          "output_type": "stream",
          "name": "stderr",
          "text": [
            "257it [00:02, 155.54it/s]"
          ]
        },
        {
          "output_type": "stream",
          "name": "stdout",
          "text": [
            "1.0: 0.0, 1.0: 0.0, 1.0: 0.0, 1.0: 0.0, 1.0: 0.0, 1.0: 0.0, 1.0: 0.0, 1.0: 0.0, 1.0: 0.0, 1.0: 0.0, 1.0: 0.0, 1.0: 0.0, 1.0: 0.0, 1.0: 0.0, 1.0: 0.0, 1.0: 0.0, 1.0: 0.0, 1.0: 0.0, 1.0: 0.0, 1.0: 0.0, 1.0: 0.0, 1.0: 0.0, 1.0: 0.0, 1.0: 0.0, 1.0: 0.0, "
          ]
        },
        {
          "output_type": "stream",
          "name": "stderr",
          "text": [
            "303it [00:02, 184.70it/s]"
          ]
        },
        {
          "output_type": "stream",
          "name": "stdout",
          "text": [
            "1.0: 0.0, 1.0: 0.0, 1.0: 0.0, 1.0: 0.0, 1.0: 0.0, 1.0: 0.0, 1.0: 0.0, 1.0: 0.0, 1.0: 0.0, 1.0: 0.0, 1.0: 0.0, 1.0: 0.0, 1.0: 0.0, 1.0: 0.0, 1.0: 0.0, 1.0: 0.0, 1.0: 0.0, 1.0: 0.0, 1.0: 0.0, 1.0: 0.0, 1.0: 0.0, 1.0: 0.0, "
          ]
        },
        {
          "output_type": "stream",
          "name": "stderr",
          "text": [
            "\r326it [00:02, 195.69it/s]"
          ]
        },
        {
          "output_type": "stream",
          "name": "stdout",
          "text": [
            "1.0: 0.0, 1.0: 0.0, 1.0: 0.0, 1.0: 0.0, 0.0: 1.0, 1.0: 0.0, 1.0: 0.0, 1.0: 0.0, 1.0: 0.0, 1.0: 0.0, 1.0: 0.0, 1.0: 0.0, "
          ]
        },
        {
          "output_type": "stream",
          "name": "stderr",
          "text": [
            "\r348it [00:03, 143.04it/s]"
          ]
        },
        {
          "output_type": "stream",
          "name": "stdout",
          "text": [
            "1.0: 0.0, 1.0: 0.0, 1.0: 0.0, 1.0: 0.0, 1.0: 0.0, 1.0: 0.0, 1.0: 0.0, 1.0: 0.0, 1.0: 0.0, 1.0: 0.0, 1.0: 0.0, 1.0: 0.0, 1.0: 0.0, 1.0: 0.0, 1.0: 0.0, 1.0: 0.0, 1.0: 0.0, 1.0: 0.0, 1.0: 0.0, 1.0: 0.0, 1.0: 0.0, 1.0: 0.0, 1.0: 0.0, 1.0: 0.0, 1.0: 0.0, 1.0: 0.0, 1.0: 0.0, "
          ]
        },
        {
          "output_type": "stream",
          "name": "stderr",
          "text": [
            "392it [00:03, 171.01it/s]"
          ]
        },
        {
          "output_type": "stream",
          "name": "stdout",
          "text": [
            "1.0: 0.0, 1.0: 0.0, 0.0: 1.0, 1.0: 0.0, 1.0: 0.0, 1.0: 0.0, 1.0: 0.0, 1.0: 0.0, 1.0: 0.0, 1.0: 0.0, 1.0: 0.0, 0.0: 1.0, 1.0: 0.0, 1.0: 0.0, 1.0: 0.0, 1.0: 0.0, 1.0: 0.0, 1.0: 0.0, 1.0: 0.0, 1.0: 0.0, "
          ]
        },
        {
          "output_type": "stream",
          "name": "stderr",
          "text": [
            "463it [00:03, 206.67it/s]"
          ]
        },
        {
          "output_type": "stream",
          "name": "stdout",
          "text": [
            "1.0: 0.0, 1.0: 0.0, 1.0: 0.0, 1.0: 0.0, 1.0: 0.0, 1.0: 0.0, 1.0: 0.0, 1.0: 0.0, 1.0: 0.0, 1.0: 0.0, 1.0: 0.0, 1.0: 0.0, 1.0: 0.0, 1.0: 0.0, 1.0: 0.0, 1.0: 0.0, 1.0: 0.0, 1.0: 0.0, 1.0: 0.0, 0.0: 1.0, "
          ]
        },
        {
          "output_type": "stream",
          "name": "stderr",
          "text": [
            "509it [00:03, 215.11it/s]"
          ]
        },
        {
          "output_type": "stream",
          "name": "stdout",
          "text": [
            "1.0: 0.0, 1.0: 0.0, 1.0: 0.0, 1.0: 0.0, 1.0: 0.0, 0.0: 1.0, 1.0: 0.0, 1.0: 0.0, 1.0: 0.0, 1.0: 0.0, 1.0: 0.0, 1.0: 0.0, 1.0: 0.0, 1.0: 0.0, 1.0: 0.0, 1.0: 0.0, 1.0: 0.0, 1.0: 0.0, 1.0: 0.0, 1.0: 0.0, 1.0: 0.0, "
          ]
        },
        {
          "output_type": "stream",
          "name": "stderr",
          "text": [
            "558it [00:04, 225.81it/s]"
          ]
        },
        {
          "output_type": "stream",
          "name": "stdout",
          "text": [
            "1.0: 0.0, 1.0: 0.0, 1.0: 0.0, 1.0: 0.0, 1.0: 0.0, 1.0: 0.0, 1.0: 0.0, 1.0: 0.0, 1.0: 0.0, 1.0: 0.0, 1.0: 0.0, 1.0: 0.0, 1.0: 0.0, 1.0: 0.0, 1.0: 0.0, 1.0: 0.0, 1.0: 0.0, "
          ]
        },
        {
          "output_type": "stream",
          "name": "stderr",
          "text": [
            "\r581it [00:04, 141.93it/s]"
          ]
        },
        {
          "output_type": "stream",
          "name": "stdout",
          "text": [
            "1.0: 0.0, 1.0: 0.0, 1.0: 0.0, 0.0: 1.0, 0.0: 1.0, 1.0: 0.0, 1.0: 0.0, 0.0: 1.0, 1.0: 0.0, 0.0: 1.0, "
          ]
        },
        {
          "output_type": "stream",
          "name": "stderr",
          "text": [
            "624it [00:05, 85.48it/s]"
          ]
        },
        {
          "output_type": "stream",
          "name": "stdout",
          "text": [
            "1.0: 0.0, 1.0: 0.0, 0.0: 1.0, 0.0: 1.0, 1.0: 0.0, 1.0: 0.0, 1.0: 0.0, 0.0: 1.0, 1.0: 0.0, 1.0: 0.0, 1.0: 0.0, 1.0: 0.0, 1.0: 0.0, 1.0: 0.0, 1.0: 0.0, 1.0: 0.0, 1.0: 0.0, 1.0: 0.0, 1.0: 0.0, 0.0: 1.0, 1.0: 0.0, "
          ]
        },
        {
          "output_type": "stream",
          "name": "stderr",
          "text": [
            "\r645it [00:05, 102.69it/s]"
          ]
        }
      ],
      "source": [
        "model.train()\n",
        "for e in range(1, epochs+1):\n",
        "    epoch_loss = 0\n",
        "    epoch_acc = 0\n",
        "    #for m in model.modules():\n",
        "    #  if isinstance(m, nn.LSTM):\n",
        "    #    print(m.weight_hh_l0.data)\n",
        "    for i, data in tqdm(enumerate(train_loader, 0)):\n",
        "      # get the inputs; data is a list of [inputs, labels]\n",
        "      # input is a tuple of features\n",
        "      # todo: should not use float64\n",
        "      inputs, h, label = data\n",
        "      inputs = inputs.float()\n",
        "      inputs, h, label = inputs.to(device), h.to(device), label.to(device)\n",
        "      optimizer.zero_grad()\n",
        "      \n",
        "      y_pred = model(inputs, h)\n",
        "      loss = criterion(y_pred, label.unsqueeze(1))\n",
        "      acc = binary_acc(y_pred, label.unsqueeze(1))\n",
        "        \n",
        "      loss.backward()\n",
        "      optimizer.step()\n",
        "        \n",
        "      epoch_loss += loss.item()\n",
        "      epoch_acc += acc.item()\n",
        "\n",
        "      if(acc != 100):\n",
        "        print(y_pred.item(),end=\": \")\n",
        "        print(label.item(),end=\", \")\n",
        "    #     print(acc.item())\n",
        "    print(f'\\nEpoch {e+0:03}: | Loss: {epoch_loss/len(train_loader):.5f} | Acc: {epoch_acc/len(train_loader):.3f}\\n')"
      ]
    },
    {
      "cell_type": "code",
      "execution_count": null,
      "metadata": {
        "id": "dEvBfknFNYOx",
        "colab": {
          "base_uri": "https://localhost:8080/",
          "height": 236
        },
        "outputId": "55f6a493-1866-40d9-efeb-684416710318"
      },
      "outputs": [
        {
          "output_type": "error",
          "ename": "NameError",
          "evalue": "ignored",
          "traceback": [
            "\u001b[0;31m---------------------------------------------------------------------------\u001b[0m",
            "\u001b[0;31mNameError\u001b[0m                                 Traceback (most recent call last)",
            "\u001b[0;32m<ipython-input-13-8c7c693aacb8>\u001b[0m in \u001b[0;36m<module>\u001b[0;34m()\u001b[0m\n\u001b[1;32m      2\u001b[0m \u001b[0mmodel\u001b[0m\u001b[0;34m.\u001b[0m\u001b[0meval\u001b[0m\u001b[0;34m(\u001b[0m\u001b[0;34m)\u001b[0m\u001b[0;34m\u001b[0m\u001b[0;34m\u001b[0m\u001b[0m\n\u001b[1;32m      3\u001b[0m \u001b[0;32mwith\u001b[0m \u001b[0mtorch\u001b[0m\u001b[0;34m.\u001b[0m\u001b[0mno_grad\u001b[0m\u001b[0;34m(\u001b[0m\u001b[0;34m)\u001b[0m\u001b[0;34m:\u001b[0m\u001b[0;34m\u001b[0m\u001b[0;34m\u001b[0m\u001b[0m\n\u001b[0;32m----> 4\u001b[0;31m   \u001b[0;32mfor\u001b[0m \u001b[0mi\u001b[0m\u001b[0;34m,\u001b[0m \u001b[0mdata\u001b[0m \u001b[0;32min\u001b[0m \u001b[0menumerate\u001b[0m\u001b[0;34m(\u001b[0m\u001b[0mtest_loader\u001b[0m\u001b[0;34m,\u001b[0m\u001b[0;36m0\u001b[0m\u001b[0;34m)\u001b[0m\u001b[0;34m:\u001b[0m\u001b[0;34m\u001b[0m\u001b[0;34m\u001b[0m\u001b[0m\n\u001b[0m\u001b[1;32m      5\u001b[0m     \u001b[0minputs\u001b[0m\u001b[0;34m,\u001b[0m\u001b[0mlabel\u001b[0m \u001b[0;34m=\u001b[0m \u001b[0mdata\u001b[0m\u001b[0;34m\u001b[0m\u001b[0;34m\u001b[0m\u001b[0m\n\u001b[1;32m      6\u001b[0m     \u001b[0minputs\u001b[0m \u001b[0;34m=\u001b[0m \u001b[0minputs\u001b[0m\u001b[0;34m.\u001b[0m\u001b[0mfloat\u001b[0m\u001b[0;34m(\u001b[0m\u001b[0;34m)\u001b[0m\u001b[0;34m\u001b[0m\u001b[0;34m\u001b[0m\u001b[0m\n",
            "\u001b[0;31mNameError\u001b[0m: name 'test_loader' is not defined"
          ]
        }
      ],
      "source": [
        "y_pred_list = []\n",
        "model.eval()\n",
        "with torch.no_grad():\n",
        "  for i, data in enumerate(test_loader,0):\n",
        "    inputs,label = data\n",
        "    inputs = inputs.float()\n",
        "    inputs, label = inputs.to(device), label.to(device)\n",
        "    y_test_pred = model(inputs)\n",
        "    y_test_pred = torch.sigmoid(y_test_pred)\n",
        "    y_pred_tag = torch.round(y_test_pred)\n",
        "    y_pred_list.append(y_pred_tag.cpu().numpy())\n",
        "y_pred_list = [a.squeeze().tolist() for a in y_pred_list]"
      ]
    },
    {
      "cell_type": "code",
      "source": [
        ""
      ],
      "metadata": {
        "id": "vzDkME0XvXcg"
      },
      "execution_count": null,
      "outputs": []
    }
  ],
  "metadata": {
    "accelerator": "GPU",
    "colab": {
      "collapsed_sections": [],
      "name": "dataloader.ipynb",
      "provenance": [],
      "background_execution": "on"
    },
    "kernelspec": {
      "display_name": "Python 3",
      "name": "python3"
    },
    "language_info": {
      "name": "python"
    }
  },
  "nbformat": 4,
  "nbformat_minor": 0
}